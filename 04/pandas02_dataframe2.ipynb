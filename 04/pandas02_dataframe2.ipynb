{
  "nbformat": 4,
  "nbformat_minor": 0,
  "metadata": {
    "colab": {
      "name": "pandas02_dataframe2.ipynb",
      "provenance": [],
      "mount_file_id": "11KRtzbnEbADpGM-M8tJxN9Vu5cBuiF-U",
      "authorship_tag": "ABX9TyPe0z8xlu3xGLInbpAtRNer",
      "include_colab_link": true
    },
    "kernelspec": {
      "name": "python3",
      "display_name": "Python 3"
    }
  },
  "cells": [
    {
      "cell_type": "markdown",
      "metadata": {
        "id": "view-in-github",
        "colab_type": "text"
      },
      "source": [
        "<a href=\"https://colab.research.google.com/github/cybermin/pythonbasic/blob/master/04/pandas02_dataframe2.ipynb\" target=\"_parent\"><img src=\"https://colab.research.google.com/assets/colab-badge.svg\" alt=\"Open In Colab\"/></a>"
      ]
    },
    {
      "cell_type": "markdown",
      "metadata": {
        "id": "Elhx3QhiPg4w",
        "colab_type": "text"
      },
      "source": [
        "# 판다스(pandas)\n",
        "+ 파이썬에서 사용하는 데이터분석 라이브러리\n",
        "\n",
        "+ 행과 열로 이루어진 데이터 객체를 만들어 다룰 수 있게 되며 보다 안정적으로 대용량의 데이터들을 처리하는데 매우 편리한 도구\n",
        "\n",
        "+ NumPy를 기반으로 구축되었으며 과학 컴퓨팅 환경 내에서 다른 많은 타사 라이브러리와 잘 통합되도록 설계"
      ]
    },
    {
      "cell_type": "code",
      "metadata": {
        "id": "l2rbxxZCPVv6",
        "colab_type": "code",
        "colab": {}
      },
      "source": [
        "import pandas as pd"
      ],
      "execution_count": 80,
      "outputs": []
    },
    {
      "cell_type": "markdown",
      "metadata": {
        "id": "HtaKB9nRaQPS",
        "colab_type": "text"
      },
      "source": [
        "\n",
        "##DataFrame\n",
        "+ 2차원 자료구조인 DataFrame는 행과 열이 있는 테이블 데이터\n",
        "+ 딕션너리를 데이터 프레임으로 변경\n",
        " - 딕션너리 키 : 열(column)\n",
        " - 딕션너리 값 : 행(row)"
      ]
    },
    {
      "cell_type": "code",
      "metadata": {
        "id": "lyTJ0XaYvIj6",
        "colab_type": "code",
        "colab": {
          "base_uri": "https://localhost:8080/",
          "height": 284
        },
        "outputId": "15ca00a3-5c3b-4d9e-9db8-967e5a30bbec"
      },
      "source": [
        "df = pd.read_csv('/content/drive/My Drive/PythonWork/PythonBasic/04/부산쓰레기발생2017년.csv', engine='python', encoding='CP949')\n",
        "df"
      ],
      "execution_count": 81,
      "outputs": [
        {
          "output_type": "execute_result",
          "data": {
            "text/html": [
              "<div>\n",
              "<style scoped>\n",
              "    .dataframe tbody tr th:only-of-type {\n",
              "        vertical-align: middle;\n",
              "    }\n",
              "\n",
              "    .dataframe tbody tr th {\n",
              "        vertical-align: top;\n",
              "    }\n",
              "\n",
              "    .dataframe thead th {\n",
              "        text-align: right;\n",
              "    }\n",
              "</style>\n",
              "<table border=\"1\" class=\"dataframe\">\n",
              "  <thead>\n",
              "    <tr style=\"text-align: right;\">\n",
              "      <th></th>\n",
              "      <th>항목</th>\n",
              "      <th>구분</th>\n",
              "      <th>중구</th>\n",
              "      <th>서구</th>\n",
              "      <th>동구</th>\n",
              "      <th>영도구</th>\n",
              "      <th>부산진구</th>\n",
              "      <th>동래구</th>\n",
              "      <th>남구</th>\n",
              "      <th>북구</th>\n",
              "      <th>해운대구</th>\n",
              "      <th>사하구</th>\n",
              "      <th>금정구</th>\n",
              "      <th>강서구</th>\n",
              "      <th>연제구</th>\n",
              "      <th>수영구</th>\n",
              "      <th>사상구</th>\n",
              "      <th>기장군</th>\n",
              "    </tr>\n",
              "  </thead>\n",
              "  <tbody>\n",
              "    <tr>\n",
              "      <th>0</th>\n",
              "      <td>매립처리량</td>\n",
              "      <td>연간(톤)</td>\n",
              "      <td>3034</td>\n",
              "      <td>2323</td>\n",
              "      <td>1653</td>\n",
              "      <td>1219</td>\n",
              "      <td>17393</td>\n",
              "      <td>9195</td>\n",
              "      <td>8042</td>\n",
              "      <td>10498</td>\n",
              "      <td>5251</td>\n",
              "      <td>3089</td>\n",
              "      <td>7240</td>\n",
              "      <td>9742</td>\n",
              "      <td>1831</td>\n",
              "      <td>2205</td>\n",
              "      <td>9937</td>\n",
              "      <td>2290</td>\n",
              "    </tr>\n",
              "    <tr>\n",
              "      <th>1</th>\n",
              "      <td>매립처리량</td>\n",
              "      <td>일일(톤)</td>\n",
              "      <td>8</td>\n",
              "      <td>7</td>\n",
              "      <td>5</td>\n",
              "      <td>3</td>\n",
              "      <td>48</td>\n",
              "      <td>25</td>\n",
              "      <td>22</td>\n",
              "      <td>29</td>\n",
              "      <td>14</td>\n",
              "      <td>8</td>\n",
              "      <td>20</td>\n",
              "      <td>27</td>\n",
              "      <td>5</td>\n",
              "      <td>6</td>\n",
              "      <td>27</td>\n",
              "      <td>6</td>\n",
              "    </tr>\n",
              "    <tr>\n",
              "      <th>2</th>\n",
              "      <td>소각처리량</td>\n",
              "      <td>연간(톤)</td>\n",
              "      <td>13729</td>\n",
              "      <td>10446</td>\n",
              "      <td>8297</td>\n",
              "      <td>8651</td>\n",
              "      <td>538</td>\n",
              "      <td>17</td>\n",
              "      <td>158</td>\n",
              "      <td>97</td>\n",
              "      <td>31924</td>\n",
              "      <td>32671</td>\n",
              "      <td>222</td>\n",
              "      <td>4788</td>\n",
              "      <td>14521</td>\n",
              "      <td>11987</td>\n",
              "      <td>216</td>\n",
              "      <td>13687</td>\n",
              "    </tr>\n",
              "    <tr>\n",
              "      <th>3</th>\n",
              "      <td>소각처리량</td>\n",
              "      <td>일일(톤)</td>\n",
              "      <td>38</td>\n",
              "      <td>29</td>\n",
              "      <td>23</td>\n",
              "      <td>24</td>\n",
              "      <td>2</td>\n",
              "      <td>0</td>\n",
              "      <td>0</td>\n",
              "      <td>0</td>\n",
              "      <td>87</td>\n",
              "      <td>89</td>\n",
              "      <td>1</td>\n",
              "      <td>13</td>\n",
              "      <td>40</td>\n",
              "      <td>33</td>\n",
              "      <td>0</td>\n",
              "      <td>37</td>\n",
              "    </tr>\n",
              "    <tr>\n",
              "      <th>4</th>\n",
              "      <td>재활용처리량</td>\n",
              "      <td>연간(톤)</td>\n",
              "      <td>9082</td>\n",
              "      <td>21301</td>\n",
              "      <td>17968</td>\n",
              "      <td>24616</td>\n",
              "      <td>88453</td>\n",
              "      <td>56526</td>\n",
              "      <td>57921</td>\n",
              "      <td>63879</td>\n",
              "      <td>64667</td>\n",
              "      <td>70923</td>\n",
              "      <td>56153</td>\n",
              "      <td>25977</td>\n",
              "      <td>37115</td>\n",
              "      <td>28135</td>\n",
              "      <td>57110</td>\n",
              "      <td>15170</td>\n",
              "    </tr>\n",
              "    <tr>\n",
              "      <th>5</th>\n",
              "      <td>재활용처리량</td>\n",
              "      <td>일일(톤)</td>\n",
              "      <td>25</td>\n",
              "      <td>58</td>\n",
              "      <td>49</td>\n",
              "      <td>68</td>\n",
              "      <td>242</td>\n",
              "      <td>155</td>\n",
              "      <td>159</td>\n",
              "      <td>175</td>\n",
              "      <td>177</td>\n",
              "      <td>194</td>\n",
              "      <td>154</td>\n",
              "      <td>71</td>\n",
              "      <td>102</td>\n",
              "      <td>77</td>\n",
              "      <td>156</td>\n",
              "      <td>42</td>\n",
              "    </tr>\n",
              "    <tr>\n",
              "      <th>6</th>\n",
              "      <td>음식물류발생량</td>\n",
              "      <td>연간(톤)</td>\n",
              "      <td>5154</td>\n",
              "      <td>8779</td>\n",
              "      <td>6399</td>\n",
              "      <td>9522</td>\n",
              "      <td>27119</td>\n",
              "      <td>20128</td>\n",
              "      <td>15548</td>\n",
              "      <td>24201</td>\n",
              "      <td>40043</td>\n",
              "      <td>21183</td>\n",
              "      <td>21273</td>\n",
              "      <td>10810</td>\n",
              "      <td>14122</td>\n",
              "      <td>13289</td>\n",
              "      <td>24161</td>\n",
              "      <td>16648</td>\n",
              "    </tr>\n",
              "    <tr>\n",
              "      <th>7</th>\n",
              "      <td>음식물류발생량</td>\n",
              "      <td>일일(톤)</td>\n",
              "      <td>14</td>\n",
              "      <td>24</td>\n",
              "      <td>18</td>\n",
              "      <td>26</td>\n",
              "      <td>74</td>\n",
              "      <td>55</td>\n",
              "      <td>43</td>\n",
              "      <td>66</td>\n",
              "      <td>110</td>\n",
              "      <td>58</td>\n",
              "      <td>58</td>\n",
              "      <td>30</td>\n",
              "      <td>39</td>\n",
              "      <td>36</td>\n",
              "      <td>66</td>\n",
              "      <td>46</td>\n",
              "    </tr>\n",
              "  </tbody>\n",
              "</table>\n",
              "</div>"
            ],
            "text/plain": [
              "        항목    구분     중구     서구     동구   ...   강서구    연제구    수영구    사상구    기장군 \n",
              "0    매립처리량  연간(톤)   3034   2323   1653  ...   9742   1831   2205   9937   2290\n",
              "1    매립처리량  일일(톤)      8      7      5  ...     27      5      6     27      6\n",
              "2    소각처리량  연간(톤)  13729  10446   8297  ...   4788  14521  11987    216  13687\n",
              "3    소각처리량  일일(톤)     38     29     23  ...     13     40     33      0     37\n",
              "4   재활용처리량  연간(톤)   9082  21301  17968  ...  25977  37115  28135  57110  15170\n",
              "5   재활용처리량  일일(톤)     25     58     49  ...     71    102     77    156     42\n",
              "6  음식물류발생량  연간(톤)   5154   8779   6399  ...  10810  14122  13289  24161  16648\n",
              "7  음식물류발생량  일일(톤)     14     24     18  ...     30     39     36     66     46\n",
              "\n",
              "[8 rows x 18 columns]"
            ]
          },
          "metadata": {
            "tags": []
          },
          "execution_count": 81
        }
      ]
    },
    {
      "cell_type": "code",
      "metadata": {
        "id": "jWDHLePrLJlV",
        "colab_type": "code",
        "colab": {
          "base_uri": "https://localhost:8080/",
          "height": 70
        },
        "outputId": "8d83b7e2-4c4b-4d4b-c9b0-cff988fc55e9"
      },
      "source": [
        "df.columns = [item.strip() for item in df.columns]\n",
        "df.columns"
      ],
      "execution_count": 82,
      "outputs": [
        {
          "output_type": "execute_result",
          "data": {
            "text/plain": [
              "Index(['항목', '구분', '중구', '서구', '동구', '영도구', '부산진구', '동래구', '남구', '북구', '해운대구',\n",
              "       '사하구', '금정구', '강서구', '연제구', '수영구', '사상구', '기장군'],\n",
              "      dtype='object')"
            ]
          },
          "metadata": {
            "tags": []
          },
          "execution_count": 82
        }
      ]
    },
    {
      "cell_type": "markdown",
      "metadata": {
        "id": "9WwyginphedT",
        "colab_type": "text"
      },
      "source": [
        "####**N행 확인하기**\n",
        "+ .head(N) \n",
        "  - 데이터프레임의 상위 N개의 행을 출력\n",
        "  - N생략하면 5개 \n",
        "+ .tail(N)  \n",
        " - 하위 N개의 행을 출력"
      ]
    },
    {
      "cell_type": "code",
      "metadata": {
        "id": "8z4ZxwNaiYWt",
        "colab_type": "code",
        "colab": {
          "base_uri": "https://localhost:8080/",
          "height": 195
        },
        "outputId": "2ffc0e8c-ea61-40ad-c683-c9f9693cca9d"
      },
      "source": [
        "df.head()"
      ],
      "execution_count": 83,
      "outputs": [
        {
          "output_type": "execute_result",
          "data": {
            "text/html": [
              "<div>\n",
              "<style scoped>\n",
              "    .dataframe tbody tr th:only-of-type {\n",
              "        vertical-align: middle;\n",
              "    }\n",
              "\n",
              "    .dataframe tbody tr th {\n",
              "        vertical-align: top;\n",
              "    }\n",
              "\n",
              "    .dataframe thead th {\n",
              "        text-align: right;\n",
              "    }\n",
              "</style>\n",
              "<table border=\"1\" class=\"dataframe\">\n",
              "  <thead>\n",
              "    <tr style=\"text-align: right;\">\n",
              "      <th></th>\n",
              "      <th>항목</th>\n",
              "      <th>구분</th>\n",
              "      <th>중구</th>\n",
              "      <th>서구</th>\n",
              "      <th>동구</th>\n",
              "      <th>영도구</th>\n",
              "      <th>부산진구</th>\n",
              "      <th>동래구</th>\n",
              "      <th>남구</th>\n",
              "      <th>북구</th>\n",
              "      <th>해운대구</th>\n",
              "      <th>사하구</th>\n",
              "      <th>금정구</th>\n",
              "      <th>강서구</th>\n",
              "      <th>연제구</th>\n",
              "      <th>수영구</th>\n",
              "      <th>사상구</th>\n",
              "      <th>기장군</th>\n",
              "    </tr>\n",
              "  </thead>\n",
              "  <tbody>\n",
              "    <tr>\n",
              "      <th>0</th>\n",
              "      <td>매립처리량</td>\n",
              "      <td>연간(톤)</td>\n",
              "      <td>3034</td>\n",
              "      <td>2323</td>\n",
              "      <td>1653</td>\n",
              "      <td>1219</td>\n",
              "      <td>17393</td>\n",
              "      <td>9195</td>\n",
              "      <td>8042</td>\n",
              "      <td>10498</td>\n",
              "      <td>5251</td>\n",
              "      <td>3089</td>\n",
              "      <td>7240</td>\n",
              "      <td>9742</td>\n",
              "      <td>1831</td>\n",
              "      <td>2205</td>\n",
              "      <td>9937</td>\n",
              "      <td>2290</td>\n",
              "    </tr>\n",
              "    <tr>\n",
              "      <th>1</th>\n",
              "      <td>매립처리량</td>\n",
              "      <td>일일(톤)</td>\n",
              "      <td>8</td>\n",
              "      <td>7</td>\n",
              "      <td>5</td>\n",
              "      <td>3</td>\n",
              "      <td>48</td>\n",
              "      <td>25</td>\n",
              "      <td>22</td>\n",
              "      <td>29</td>\n",
              "      <td>14</td>\n",
              "      <td>8</td>\n",
              "      <td>20</td>\n",
              "      <td>27</td>\n",
              "      <td>5</td>\n",
              "      <td>6</td>\n",
              "      <td>27</td>\n",
              "      <td>6</td>\n",
              "    </tr>\n",
              "    <tr>\n",
              "      <th>2</th>\n",
              "      <td>소각처리량</td>\n",
              "      <td>연간(톤)</td>\n",
              "      <td>13729</td>\n",
              "      <td>10446</td>\n",
              "      <td>8297</td>\n",
              "      <td>8651</td>\n",
              "      <td>538</td>\n",
              "      <td>17</td>\n",
              "      <td>158</td>\n",
              "      <td>97</td>\n",
              "      <td>31924</td>\n",
              "      <td>32671</td>\n",
              "      <td>222</td>\n",
              "      <td>4788</td>\n",
              "      <td>14521</td>\n",
              "      <td>11987</td>\n",
              "      <td>216</td>\n",
              "      <td>13687</td>\n",
              "    </tr>\n",
              "    <tr>\n",
              "      <th>3</th>\n",
              "      <td>소각처리량</td>\n",
              "      <td>일일(톤)</td>\n",
              "      <td>38</td>\n",
              "      <td>29</td>\n",
              "      <td>23</td>\n",
              "      <td>24</td>\n",
              "      <td>2</td>\n",
              "      <td>0</td>\n",
              "      <td>0</td>\n",
              "      <td>0</td>\n",
              "      <td>87</td>\n",
              "      <td>89</td>\n",
              "      <td>1</td>\n",
              "      <td>13</td>\n",
              "      <td>40</td>\n",
              "      <td>33</td>\n",
              "      <td>0</td>\n",
              "      <td>37</td>\n",
              "    </tr>\n",
              "    <tr>\n",
              "      <th>4</th>\n",
              "      <td>재활용처리량</td>\n",
              "      <td>연간(톤)</td>\n",
              "      <td>9082</td>\n",
              "      <td>21301</td>\n",
              "      <td>17968</td>\n",
              "      <td>24616</td>\n",
              "      <td>88453</td>\n",
              "      <td>56526</td>\n",
              "      <td>57921</td>\n",
              "      <td>63879</td>\n",
              "      <td>64667</td>\n",
              "      <td>70923</td>\n",
              "      <td>56153</td>\n",
              "      <td>25977</td>\n",
              "      <td>37115</td>\n",
              "      <td>28135</td>\n",
              "      <td>57110</td>\n",
              "      <td>15170</td>\n",
              "    </tr>\n",
              "  </tbody>\n",
              "</table>\n",
              "</div>"
            ],
            "text/plain": [
              "       항목     구분     중구     서구     동구  ...    강서구    연제구    수영구    사상구    기장군\n",
              "0   매립처리량  연간(톤)   3034   2323   1653  ...   9742   1831   2205   9937   2290\n",
              "1   매립처리량  일일(톤)      8      7      5  ...     27      5      6     27      6\n",
              "2   소각처리량  연간(톤)  13729  10446   8297  ...   4788  14521  11987    216  13687\n",
              "3   소각처리량  일일(톤)     38     29     23  ...     13     40     33      0     37\n",
              "4  재활용처리량  연간(톤)   9082  21301  17968  ...  25977  37115  28135  57110  15170\n",
              "\n",
              "[5 rows x 18 columns]"
            ]
          },
          "metadata": {
            "tags": []
          },
          "execution_count": 83
        }
      ]
    },
    {
      "cell_type": "code",
      "metadata": {
        "id": "J8v1iB3hiePE",
        "colab_type": "code",
        "colab": {
          "base_uri": "https://localhost:8080/",
          "height": 106
        },
        "outputId": "a6f850f8-4d54-446f-8aff-5cab281e270b"
      },
      "source": [
        "df.head(2)"
      ],
      "execution_count": 84,
      "outputs": [
        {
          "output_type": "execute_result",
          "data": {
            "text/html": [
              "<div>\n",
              "<style scoped>\n",
              "    .dataframe tbody tr th:only-of-type {\n",
              "        vertical-align: middle;\n",
              "    }\n",
              "\n",
              "    .dataframe tbody tr th {\n",
              "        vertical-align: top;\n",
              "    }\n",
              "\n",
              "    .dataframe thead th {\n",
              "        text-align: right;\n",
              "    }\n",
              "</style>\n",
              "<table border=\"1\" class=\"dataframe\">\n",
              "  <thead>\n",
              "    <tr style=\"text-align: right;\">\n",
              "      <th></th>\n",
              "      <th>항목</th>\n",
              "      <th>구분</th>\n",
              "      <th>중구</th>\n",
              "      <th>서구</th>\n",
              "      <th>동구</th>\n",
              "      <th>영도구</th>\n",
              "      <th>부산진구</th>\n",
              "      <th>동래구</th>\n",
              "      <th>남구</th>\n",
              "      <th>북구</th>\n",
              "      <th>해운대구</th>\n",
              "      <th>사하구</th>\n",
              "      <th>금정구</th>\n",
              "      <th>강서구</th>\n",
              "      <th>연제구</th>\n",
              "      <th>수영구</th>\n",
              "      <th>사상구</th>\n",
              "      <th>기장군</th>\n",
              "    </tr>\n",
              "  </thead>\n",
              "  <tbody>\n",
              "    <tr>\n",
              "      <th>0</th>\n",
              "      <td>매립처리량</td>\n",
              "      <td>연간(톤)</td>\n",
              "      <td>3034</td>\n",
              "      <td>2323</td>\n",
              "      <td>1653</td>\n",
              "      <td>1219</td>\n",
              "      <td>17393</td>\n",
              "      <td>9195</td>\n",
              "      <td>8042</td>\n",
              "      <td>10498</td>\n",
              "      <td>5251</td>\n",
              "      <td>3089</td>\n",
              "      <td>7240</td>\n",
              "      <td>9742</td>\n",
              "      <td>1831</td>\n",
              "      <td>2205</td>\n",
              "      <td>9937</td>\n",
              "      <td>2290</td>\n",
              "    </tr>\n",
              "    <tr>\n",
              "      <th>1</th>\n",
              "      <td>매립처리량</td>\n",
              "      <td>일일(톤)</td>\n",
              "      <td>8</td>\n",
              "      <td>7</td>\n",
              "      <td>5</td>\n",
              "      <td>3</td>\n",
              "      <td>48</td>\n",
              "      <td>25</td>\n",
              "      <td>22</td>\n",
              "      <td>29</td>\n",
              "      <td>14</td>\n",
              "      <td>8</td>\n",
              "      <td>20</td>\n",
              "      <td>27</td>\n",
              "      <td>5</td>\n",
              "      <td>6</td>\n",
              "      <td>27</td>\n",
              "      <td>6</td>\n",
              "    </tr>\n",
              "  </tbody>\n",
              "</table>\n",
              "</div>"
            ],
            "text/plain": [
              "      항목     구분    중구    서구    동구   영도구  ...   금정구   강서구   연제구   수영구   사상구   기장군\n",
              "0  매립처리량  연간(톤)  3034  2323  1653  1219  ...  7240  9742  1831  2205  9937  2290\n",
              "1  매립처리량  일일(톤)     8     7     5     3  ...    20    27     5     6    27     6\n",
              "\n",
              "[2 rows x 18 columns]"
            ]
          },
          "metadata": {
            "tags": []
          },
          "execution_count": 84
        }
      ]
    },
    {
      "cell_type": "code",
      "metadata": {
        "id": "XMCgRjqtig-m",
        "colab_type": "code",
        "colab": {
          "base_uri": "https://localhost:8080/",
          "height": 106
        },
        "outputId": "197e1a27-9a70-4b12-dc4f-370bd301dcd0"
      },
      "source": [
        "df.tail(2)"
      ],
      "execution_count": 85,
      "outputs": [
        {
          "output_type": "execute_result",
          "data": {
            "text/html": [
              "<div>\n",
              "<style scoped>\n",
              "    .dataframe tbody tr th:only-of-type {\n",
              "        vertical-align: middle;\n",
              "    }\n",
              "\n",
              "    .dataframe tbody tr th {\n",
              "        vertical-align: top;\n",
              "    }\n",
              "\n",
              "    .dataframe thead th {\n",
              "        text-align: right;\n",
              "    }\n",
              "</style>\n",
              "<table border=\"1\" class=\"dataframe\">\n",
              "  <thead>\n",
              "    <tr style=\"text-align: right;\">\n",
              "      <th></th>\n",
              "      <th>항목</th>\n",
              "      <th>구분</th>\n",
              "      <th>중구</th>\n",
              "      <th>서구</th>\n",
              "      <th>동구</th>\n",
              "      <th>영도구</th>\n",
              "      <th>부산진구</th>\n",
              "      <th>동래구</th>\n",
              "      <th>남구</th>\n",
              "      <th>북구</th>\n",
              "      <th>해운대구</th>\n",
              "      <th>사하구</th>\n",
              "      <th>금정구</th>\n",
              "      <th>강서구</th>\n",
              "      <th>연제구</th>\n",
              "      <th>수영구</th>\n",
              "      <th>사상구</th>\n",
              "      <th>기장군</th>\n",
              "    </tr>\n",
              "  </thead>\n",
              "  <tbody>\n",
              "    <tr>\n",
              "      <th>6</th>\n",
              "      <td>음식물류발생량</td>\n",
              "      <td>연간(톤)</td>\n",
              "      <td>5154</td>\n",
              "      <td>8779</td>\n",
              "      <td>6399</td>\n",
              "      <td>9522</td>\n",
              "      <td>27119</td>\n",
              "      <td>20128</td>\n",
              "      <td>15548</td>\n",
              "      <td>24201</td>\n",
              "      <td>40043</td>\n",
              "      <td>21183</td>\n",
              "      <td>21273</td>\n",
              "      <td>10810</td>\n",
              "      <td>14122</td>\n",
              "      <td>13289</td>\n",
              "      <td>24161</td>\n",
              "      <td>16648</td>\n",
              "    </tr>\n",
              "    <tr>\n",
              "      <th>7</th>\n",
              "      <td>음식물류발생량</td>\n",
              "      <td>일일(톤)</td>\n",
              "      <td>14</td>\n",
              "      <td>24</td>\n",
              "      <td>18</td>\n",
              "      <td>26</td>\n",
              "      <td>74</td>\n",
              "      <td>55</td>\n",
              "      <td>43</td>\n",
              "      <td>66</td>\n",
              "      <td>110</td>\n",
              "      <td>58</td>\n",
              "      <td>58</td>\n",
              "      <td>30</td>\n",
              "      <td>39</td>\n",
              "      <td>36</td>\n",
              "      <td>66</td>\n",
              "      <td>46</td>\n",
              "    </tr>\n",
              "  </tbody>\n",
              "</table>\n",
              "</div>"
            ],
            "text/plain": [
              "        항목     구분    중구    서구    동구  ...    강서구    연제구    수영구    사상구    기장군\n",
              "6  음식물류발생량  연간(톤)  5154  8779  6399  ...  10810  14122  13289  24161  16648\n",
              "7  음식물류발생량  일일(톤)    14    24    18  ...     30     39     36     66     46\n",
              "\n",
              "[2 rows x 18 columns]"
            ]
          },
          "metadata": {
            "tags": []
          },
          "execution_count": 85
        }
      ]
    },
    {
      "cell_type": "markdown",
      "metadata": {
        "id": "xp4sPYOsjqJ8",
        "colab_type": "text"
      },
      "source": [
        "####**정보 확인하기**\n",
        "+ .shape 속성\n",
        " - (행, 열) 크기를 확인하기\n",
        " - 행의 개수 : len(데이터프레임), len(.index), .shape[0]\n",
        " - 열의 개수 : len(.column), .shape[1]\n"
      ]
    },
    {
      "cell_type": "code",
      "metadata": {
        "id": "07XqJFM_jfKp",
        "colab_type": "code",
        "colab": {
          "base_uri": "https://localhost:8080/",
          "height": 34
        },
        "outputId": "fc41c2b8-c743-49b1-85ad-44ab9010a3ab"
      },
      "source": [
        "df.shape"
      ],
      "execution_count": 86,
      "outputs": [
        {
          "output_type": "execute_result",
          "data": {
            "text/plain": [
              "(8, 18)"
            ]
          },
          "metadata": {
            "tags": []
          },
          "execution_count": 86
        }
      ]
    },
    {
      "cell_type": "code",
      "metadata": {
        "id": "xxhAwimXqH6O",
        "colab_type": "code",
        "colab": {
          "base_uri": "https://localhost:8080/",
          "height": 70
        },
        "outputId": "e5fd10e3-8077-45fd-91ed-5427ed24dd03"
      },
      "source": [
        "#행의 개수\n",
        "print(df.shape[0])\n",
        "print(len(df))\n",
        "print(len(df.index))"
      ],
      "execution_count": 87,
      "outputs": [
        {
          "output_type": "stream",
          "text": [
            "8\n",
            "8\n",
            "8\n"
          ],
          "name": "stdout"
        }
      ]
    },
    {
      "cell_type": "code",
      "metadata": {
        "id": "H-jTV4pTqTA2",
        "colab_type": "code",
        "colab": {
          "base_uri": "https://localhost:8080/",
          "height": 52
        },
        "outputId": "38fa4044-e15b-4a06-fa1e-530be9b847d7"
      },
      "source": [
        "#열의 개수\n",
        "print(df.shape[1]) \n",
        "print(len(df.columns))"
      ],
      "execution_count": 88,
      "outputs": [
        {
          "output_type": "stream",
          "text": [
            "18\n",
            "18\n"
          ],
          "name": "stdout"
        }
      ]
    },
    {
      "cell_type": "markdown",
      "metadata": {
        "id": "YOyfudHWkPpY",
        "colab_type": "text"
      },
      "source": [
        "+ .info()\n",
        " - 데이터프레임에 대한 전반적인 정보\n",
        " - 데이터프레임을 구성하는 행과 열의 크기, 컬럼명, 컬럼을 구성하는 값의 자료형 등을 출력"
      ]
    },
    {
      "cell_type": "code",
      "metadata": {
        "id": "PIek6g98jcZA",
        "colab_type": "code",
        "colab": {
          "base_uri": "https://localhost:8080/",
          "height": 457
        },
        "outputId": "2229c50a-b8f2-49d4-ceb6-0a6461195f56"
      },
      "source": [
        "df.info()"
      ],
      "execution_count": 89,
      "outputs": [
        {
          "output_type": "stream",
          "text": [
            "<class 'pandas.core.frame.DataFrame'>\n",
            "RangeIndex: 8 entries, 0 to 7\n",
            "Data columns (total 18 columns):\n",
            " #   Column  Non-Null Count  Dtype \n",
            "---  ------  --------------  ----- \n",
            " 0   항목      8 non-null      object\n",
            " 1   구분      8 non-null      object\n",
            " 2   중구      8 non-null      int64 \n",
            " 3   서구      8 non-null      int64 \n",
            " 4   동구      8 non-null      int64 \n",
            " 5   영도구     8 non-null      int64 \n",
            " 6   부산진구    8 non-null      int64 \n",
            " 7   동래구     8 non-null      int64 \n",
            " 8   남구      8 non-null      int64 \n",
            " 9   북구      8 non-null      int64 \n",
            " 10  해운대구    8 non-null      int64 \n",
            " 11  사하구     8 non-null      int64 \n",
            " 12  금정구     8 non-null      int64 \n",
            " 13  강서구     8 non-null      int64 \n",
            " 14  연제구     8 non-null      int64 \n",
            " 15  수영구     8 non-null      int64 \n",
            " 16  사상구     8 non-null      int64 \n",
            " 17  기장군     8 non-null      int64 \n",
            "dtypes: int64(16), object(2)\n",
            "memory usage: 1.2+ KB\n"
          ],
          "name": "stdout"
        }
      ]
    },
    {
      "cell_type": "markdown",
      "metadata": {
        "id": "FXdwUM6fq4Do",
        "colab_type": "text"
      },
      "source": [
        "+ .count()\n",
        " - Null이 아닌 행의 개수 확인\n",
        " - axis='columns' : Null이 아닌 열의 개수 확인"
      ]
    },
    {
      "cell_type": "code",
      "metadata": {
        "id": "Uv_P-7MVqc6J",
        "colab_type": "code",
        "colab": {
          "base_uri": "https://localhost:8080/",
          "height": 351
        },
        "outputId": "634ac50e-dbc7-41d9-ffdd-69c6a9c6618d"
      },
      "source": [
        "df.count()"
      ],
      "execution_count": 90,
      "outputs": [
        {
          "output_type": "execute_result",
          "data": {
            "text/plain": [
              "항목      8\n",
              "구분      8\n",
              "중구      8\n",
              "서구      8\n",
              "동구      8\n",
              "영도구     8\n",
              "부산진구    8\n",
              "동래구     8\n",
              "남구      8\n",
              "북구      8\n",
              "해운대구    8\n",
              "사하구     8\n",
              "금정구     8\n",
              "강서구     8\n",
              "연제구     8\n",
              "수영구     8\n",
              "사상구     8\n",
              "기장군     8\n",
              "dtype: int64"
            ]
          },
          "metadata": {
            "tags": []
          },
          "execution_count": 90
        }
      ]
    },
    {
      "cell_type": "code",
      "metadata": {
        "id": "0_Khk5taqwhJ",
        "colab_type": "code",
        "colab": {
          "base_uri": "https://localhost:8080/",
          "height": 175
        },
        "outputId": "b37ec816-bc15-4e27-f8e3-7e0bd02da65e"
      },
      "source": [
        "df.count(axis='columns')"
      ],
      "execution_count": 91,
      "outputs": [
        {
          "output_type": "execute_result",
          "data": {
            "text/plain": [
              "0    18\n",
              "1    18\n",
              "2    18\n",
              "3    18\n",
              "4    18\n",
              "5    18\n",
              "6    18\n",
              "7    18\n",
              "dtype: int64"
            ]
          },
          "metadata": {
            "tags": []
          },
          "execution_count": 91
        }
      ]
    },
    {
      "cell_type": "markdown",
      "metadata": {
        "id": "jdF4UhK-mn-y",
        "colab_type": "text"
      },
      "source": [
        "####**값이 나온 횟수**\n",
        "+ .value_counts() \n",
        " - 개별 컬럼 내에 각각의 값이 나온 횟수\n",
        " - normalize 옵션 : % 로도 표현 "
      ]
    },
    {
      "cell_type": "code",
      "metadata": {
        "id": "e4TG1ZK7macd",
        "colab_type": "code",
        "colab": {
          "base_uri": "https://localhost:8080/",
          "height": 70
        },
        "outputId": "b9bd6a16-0c35-4e96-9b54-0aefb79c3d46"
      },
      "source": [
        "df['구분'].value_counts()"
      ],
      "execution_count": 92,
      "outputs": [
        {
          "output_type": "execute_result",
          "data": {
            "text/plain": [
              "일일(톤)    4\n",
              "연간(톤)    4\n",
              "Name: 구분, dtype: int64"
            ]
          },
          "metadata": {
            "tags": []
          },
          "execution_count": 92
        }
      ]
    },
    {
      "cell_type": "code",
      "metadata": {
        "id": "NW6fA9BWnZ46",
        "colab_type": "code",
        "colab": {
          "base_uri": "https://localhost:8080/",
          "height": 70
        },
        "outputId": "c71f2eae-14a2-46de-b518-438885368518"
      },
      "source": [
        "df['구분'].value_counts(normalize = True)"
      ],
      "execution_count": 93,
      "outputs": [
        {
          "output_type": "execute_result",
          "data": {
            "text/plain": [
              "일일(톤)    0.5\n",
              "연간(톤)    0.5\n",
              "Name: 구분, dtype: float64"
            ]
          },
          "metadata": {
            "tags": []
          },
          "execution_count": 93
        }
      ]
    },
    {
      "cell_type": "markdown",
      "metadata": {
        "id": "3u_oKPymktX_",
        "colab_type": "text"
      },
      "source": [
        "####**요약 통계량 확인**\n",
        "+ .describe()\n",
        " - 데이터프레임의 열별 요약 통계량\n",
        " - sum(),mean(), max(), median()등 개별 함수를 사용가능"
      ]
    },
    {
      "cell_type": "code",
      "metadata": {
        "id": "ZAa90fgzlATv",
        "colab_type": "code",
        "colab": {
          "base_uri": "https://localhost:8080/",
          "height": 351
        },
        "outputId": "b8760ba6-e973-451b-de81-40292da81359"
      },
      "source": [
        "df.sum()"
      ],
      "execution_count": 94,
      "outputs": [
        {
          "output_type": "execute_result",
          "data": {
            "text/plain": [
              "항목      매립처리량매립처리량소각처리량소각처리량재활용처리량재활용처리량음식물류발생량음식물류발생량\n",
              "구분            연간(톤)일일(톤)연간(톤)일일(톤)연간(톤)일일(톤)연간(톤)일일(톤)\n",
              "중구                                               31084\n",
              "서구                                               42967\n",
              "동구                                               34412\n",
              "영도구                                              44129\n",
              "부산진구                                            133869\n",
              "동래구                                              86101\n",
              "남구                                               81893\n",
              "북구                                               98945\n",
              "해운대구                                            142273\n",
              "사하구                                             128215\n",
              "금정구                                              85121\n",
              "강서구                                              51458\n",
              "연제구                                              67775\n",
              "수영구                                              55768\n",
              "사상구                                              91673\n",
              "기장군                                              47926\n",
              "dtype: object"
            ]
          },
          "metadata": {
            "tags": []
          },
          "execution_count": 94
        }
      ]
    },
    {
      "cell_type": "code",
      "metadata": {
        "id": "YiAXFugyliSy",
        "colab_type": "code",
        "colab": {
          "base_uri": "https://localhost:8080/",
          "height": 316
        },
        "outputId": "117357be-5d55-4a9c-d053-83b8d1b4a118"
      },
      "source": [
        "df.mean()"
      ],
      "execution_count": 95,
      "outputs": [
        {
          "output_type": "execute_result",
          "data": {
            "text/plain": [
              "중구       3885.500\n",
              "서구       5370.875\n",
              "동구       4301.500\n",
              "영도구      5516.125\n",
              "부산진구    16733.625\n",
              "동래구     10762.625\n",
              "남구      10236.625\n",
              "북구      12368.125\n",
              "해운대구    17784.125\n",
              "사하구     16026.875\n",
              "금정구     10640.125\n",
              "강서구      6432.250\n",
              "연제구      8471.875\n",
              "수영구      6971.000\n",
              "사상구     11459.125\n",
              "기장군      5990.750\n",
              "dtype: float64"
            ]
          },
          "metadata": {
            "tags": []
          },
          "execution_count": 95
        }
      ]
    },
    {
      "cell_type": "code",
      "metadata": {
        "id": "45akyNyJMHvv",
        "colab_type": "code",
        "colab": {
          "base_uri": "https://localhost:8080/",
          "height": 175
        },
        "outputId": "60ca4a1b-531c-4fea-e68d-527d79704b8e"
      },
      "source": [
        "df.mean(axis=1)"
      ],
      "execution_count": 96,
      "outputs": [
        {
          "output_type": "execute_result",
          "data": {
            "text/plain": [
              "0     5933.8750\n",
              "1       16.2500\n",
              "2     9496.8125\n",
              "3       26.0000\n",
              "4    43437.2500\n",
              "5      119.0000\n",
              "6    17398.6875\n",
              "7       47.6875\n",
              "dtype: float64"
            ]
          },
          "metadata": {
            "tags": []
          },
          "execution_count": 96
        }
      ]
    },
    {
      "cell_type": "code",
      "metadata": {
        "id": "XfLIhb2bl_2j",
        "colab_type": "code",
        "colab": {
          "base_uri": "https://localhost:8080/",
          "height": 166
        },
        "outputId": "84fe67b3-b58c-412a-f97b-bbf19aa44aa5"
      },
      "source": [
        "dfyear = df[df['구분'] == '연간(톤)']\n",
        "dfyear"
      ],
      "execution_count": 97,
      "outputs": [
        {
          "output_type": "execute_result",
          "data": {
            "text/html": [
              "<div>\n",
              "<style scoped>\n",
              "    .dataframe tbody tr th:only-of-type {\n",
              "        vertical-align: middle;\n",
              "    }\n",
              "\n",
              "    .dataframe tbody tr th {\n",
              "        vertical-align: top;\n",
              "    }\n",
              "\n",
              "    .dataframe thead th {\n",
              "        text-align: right;\n",
              "    }\n",
              "</style>\n",
              "<table border=\"1\" class=\"dataframe\">\n",
              "  <thead>\n",
              "    <tr style=\"text-align: right;\">\n",
              "      <th></th>\n",
              "      <th>항목</th>\n",
              "      <th>구분</th>\n",
              "      <th>중구</th>\n",
              "      <th>서구</th>\n",
              "      <th>동구</th>\n",
              "      <th>영도구</th>\n",
              "      <th>부산진구</th>\n",
              "      <th>동래구</th>\n",
              "      <th>남구</th>\n",
              "      <th>북구</th>\n",
              "      <th>해운대구</th>\n",
              "      <th>사하구</th>\n",
              "      <th>금정구</th>\n",
              "      <th>강서구</th>\n",
              "      <th>연제구</th>\n",
              "      <th>수영구</th>\n",
              "      <th>사상구</th>\n",
              "      <th>기장군</th>\n",
              "    </tr>\n",
              "  </thead>\n",
              "  <tbody>\n",
              "    <tr>\n",
              "      <th>0</th>\n",
              "      <td>매립처리량</td>\n",
              "      <td>연간(톤)</td>\n",
              "      <td>3034</td>\n",
              "      <td>2323</td>\n",
              "      <td>1653</td>\n",
              "      <td>1219</td>\n",
              "      <td>17393</td>\n",
              "      <td>9195</td>\n",
              "      <td>8042</td>\n",
              "      <td>10498</td>\n",
              "      <td>5251</td>\n",
              "      <td>3089</td>\n",
              "      <td>7240</td>\n",
              "      <td>9742</td>\n",
              "      <td>1831</td>\n",
              "      <td>2205</td>\n",
              "      <td>9937</td>\n",
              "      <td>2290</td>\n",
              "    </tr>\n",
              "    <tr>\n",
              "      <th>2</th>\n",
              "      <td>소각처리량</td>\n",
              "      <td>연간(톤)</td>\n",
              "      <td>13729</td>\n",
              "      <td>10446</td>\n",
              "      <td>8297</td>\n",
              "      <td>8651</td>\n",
              "      <td>538</td>\n",
              "      <td>17</td>\n",
              "      <td>158</td>\n",
              "      <td>97</td>\n",
              "      <td>31924</td>\n",
              "      <td>32671</td>\n",
              "      <td>222</td>\n",
              "      <td>4788</td>\n",
              "      <td>14521</td>\n",
              "      <td>11987</td>\n",
              "      <td>216</td>\n",
              "      <td>13687</td>\n",
              "    </tr>\n",
              "    <tr>\n",
              "      <th>4</th>\n",
              "      <td>재활용처리량</td>\n",
              "      <td>연간(톤)</td>\n",
              "      <td>9082</td>\n",
              "      <td>21301</td>\n",
              "      <td>17968</td>\n",
              "      <td>24616</td>\n",
              "      <td>88453</td>\n",
              "      <td>56526</td>\n",
              "      <td>57921</td>\n",
              "      <td>63879</td>\n",
              "      <td>64667</td>\n",
              "      <td>70923</td>\n",
              "      <td>56153</td>\n",
              "      <td>25977</td>\n",
              "      <td>37115</td>\n",
              "      <td>28135</td>\n",
              "      <td>57110</td>\n",
              "      <td>15170</td>\n",
              "    </tr>\n",
              "    <tr>\n",
              "      <th>6</th>\n",
              "      <td>음식물류발생량</td>\n",
              "      <td>연간(톤)</td>\n",
              "      <td>5154</td>\n",
              "      <td>8779</td>\n",
              "      <td>6399</td>\n",
              "      <td>9522</td>\n",
              "      <td>27119</td>\n",
              "      <td>20128</td>\n",
              "      <td>15548</td>\n",
              "      <td>24201</td>\n",
              "      <td>40043</td>\n",
              "      <td>21183</td>\n",
              "      <td>21273</td>\n",
              "      <td>10810</td>\n",
              "      <td>14122</td>\n",
              "      <td>13289</td>\n",
              "      <td>24161</td>\n",
              "      <td>16648</td>\n",
              "    </tr>\n",
              "  </tbody>\n",
              "</table>\n",
              "</div>"
            ],
            "text/plain": [
              "        항목     구분     중구     서구     동구  ...    강서구    연제구    수영구    사상구    기장군\n",
              "0    매립처리량  연간(톤)   3034   2323   1653  ...   9742   1831   2205   9937   2290\n",
              "2    소각처리량  연간(톤)  13729  10446   8297  ...   4788  14521  11987    216  13687\n",
              "4   재활용처리량  연간(톤)   9082  21301  17968  ...  25977  37115  28135  57110  15170\n",
              "6  음식물류발생량  연간(톤)   5154   8779   6399  ...  10810  14122  13289  24161  16648\n",
              "\n",
              "[4 rows x 18 columns]"
            ]
          },
          "metadata": {
            "tags": []
          },
          "execution_count": 97
        }
      ]
    },
    {
      "cell_type": "code",
      "metadata": {
        "id": "G_lqsgGGlmE0",
        "colab_type": "code",
        "colab": {
          "base_uri": "https://localhost:8080/",
          "height": 304
        },
        "outputId": "8eb1254d-3317-4c9c-b798-34fc3ce6056a"
      },
      "source": [
        "dfyear.describe()"
      ],
      "execution_count": 98,
      "outputs": [
        {
          "output_type": "execute_result",
          "data": {
            "text/html": [
              "<div>\n",
              "<style scoped>\n",
              "    .dataframe tbody tr th:only-of-type {\n",
              "        vertical-align: middle;\n",
              "    }\n",
              "\n",
              "    .dataframe tbody tr th {\n",
              "        vertical-align: top;\n",
              "    }\n",
              "\n",
              "    .dataframe thead th {\n",
              "        text-align: right;\n",
              "    }\n",
              "</style>\n",
              "<table border=\"1\" class=\"dataframe\">\n",
              "  <thead>\n",
              "    <tr style=\"text-align: right;\">\n",
              "      <th></th>\n",
              "      <th>중구</th>\n",
              "      <th>서구</th>\n",
              "      <th>동구</th>\n",
              "      <th>영도구</th>\n",
              "      <th>부산진구</th>\n",
              "      <th>동래구</th>\n",
              "      <th>남구</th>\n",
              "      <th>북구</th>\n",
              "      <th>해운대구</th>\n",
              "      <th>사하구</th>\n",
              "      <th>금정구</th>\n",
              "      <th>강서구</th>\n",
              "      <th>연제구</th>\n",
              "      <th>수영구</th>\n",
              "      <th>사상구</th>\n",
              "      <th>기장군</th>\n",
              "    </tr>\n",
              "  </thead>\n",
              "  <tbody>\n",
              "    <tr>\n",
              "      <th>count</th>\n",
              "      <td>4.000000</td>\n",
              "      <td>4.000000</td>\n",
              "      <td>4.000000</td>\n",
              "      <td>4.000000</td>\n",
              "      <td>4.000000</td>\n",
              "      <td>4.000000</td>\n",
              "      <td>4.000000</td>\n",
              "      <td>4.000000</td>\n",
              "      <td>4.000000</td>\n",
              "      <td>4.000000</td>\n",
              "      <td>4.000000</td>\n",
              "      <td>4.00000</td>\n",
              "      <td>4.000000</td>\n",
              "      <td>4.000000</td>\n",
              "      <td>4.000000</td>\n",
              "      <td>4.000000</td>\n",
              "    </tr>\n",
              "    <tr>\n",
              "      <th>mean</th>\n",
              "      <td>7749.750000</td>\n",
              "      <td>10712.250000</td>\n",
              "      <td>8579.250000</td>\n",
              "      <td>11002.000000</td>\n",
              "      <td>33375.750000</td>\n",
              "      <td>21466.500000</td>\n",
              "      <td>20417.250000</td>\n",
              "      <td>24668.750000</td>\n",
              "      <td>35471.250000</td>\n",
              "      <td>31966.500000</td>\n",
              "      <td>21222.000000</td>\n",
              "      <td>12829.25000</td>\n",
              "      <td>16897.250000</td>\n",
              "      <td>13904.000000</td>\n",
              "      <td>22856.000000</td>\n",
              "      <td>11948.750000</td>\n",
              "    </tr>\n",
              "    <tr>\n",
              "      <th>std</th>\n",
              "      <td>4708.238763</td>\n",
              "      <td>7880.555961</td>\n",
              "      <td>6854.553736</td>\n",
              "      <td>9810.974909</td>\n",
              "      <td>38324.998416</td>\n",
              "      <td>24776.540551</td>\n",
              "      <td>25779.997949</td>\n",
              "      <td>27941.865535</td>\n",
              "      <td>24489.039785</td>\n",
              "      <td>28683.904261</td>\n",
              "      <td>24877.524569</td>\n",
              "      <td>9149.38094</td>\n",
              "      <td>14709.383408</td>\n",
              "      <td>10699.549461</td>\n",
              "      <td>24863.022758</td>\n",
              "      <td>6551.650346</td>\n",
              "    </tr>\n",
              "    <tr>\n",
              "      <th>min</th>\n",
              "      <td>3034.000000</td>\n",
              "      <td>2323.000000</td>\n",
              "      <td>1653.000000</td>\n",
              "      <td>1219.000000</td>\n",
              "      <td>538.000000</td>\n",
              "      <td>17.000000</td>\n",
              "      <td>158.000000</td>\n",
              "      <td>97.000000</td>\n",
              "      <td>5251.000000</td>\n",
              "      <td>3089.000000</td>\n",
              "      <td>222.000000</td>\n",
              "      <td>4788.00000</td>\n",
              "      <td>1831.000000</td>\n",
              "      <td>2205.000000</td>\n",
              "      <td>216.000000</td>\n",
              "      <td>2290.000000</td>\n",
              "    </tr>\n",
              "    <tr>\n",
              "      <th>25%</th>\n",
              "      <td>4624.000000</td>\n",
              "      <td>7165.000000</td>\n",
              "      <td>5212.500000</td>\n",
              "      <td>6793.000000</td>\n",
              "      <td>13179.250000</td>\n",
              "      <td>6900.500000</td>\n",
              "      <td>6071.000000</td>\n",
              "      <td>7897.750000</td>\n",
              "      <td>25255.750000</td>\n",
              "      <td>16659.500000</td>\n",
              "      <td>5485.500000</td>\n",
              "      <td>8503.50000</td>\n",
              "      <td>11049.250000</td>\n",
              "      <td>9541.500000</td>\n",
              "      <td>7506.750000</td>\n",
              "      <td>10837.750000</td>\n",
              "    </tr>\n",
              "    <tr>\n",
              "      <th>50%</th>\n",
              "      <td>7118.000000</td>\n",
              "      <td>9612.500000</td>\n",
              "      <td>7348.000000</td>\n",
              "      <td>9086.500000</td>\n",
              "      <td>22256.000000</td>\n",
              "      <td>14661.500000</td>\n",
              "      <td>11795.000000</td>\n",
              "      <td>17349.500000</td>\n",
              "      <td>35983.500000</td>\n",
              "      <td>26927.000000</td>\n",
              "      <td>14256.500000</td>\n",
              "      <td>10276.00000</td>\n",
              "      <td>14321.500000</td>\n",
              "      <td>12638.000000</td>\n",
              "      <td>17049.000000</td>\n",
              "      <td>14428.500000</td>\n",
              "    </tr>\n",
              "    <tr>\n",
              "      <th>75%</th>\n",
              "      <td>10243.750000</td>\n",
              "      <td>13159.750000</td>\n",
              "      <td>10714.750000</td>\n",
              "      <td>13295.500000</td>\n",
              "      <td>42452.500000</td>\n",
              "      <td>29227.500000</td>\n",
              "      <td>26141.250000</td>\n",
              "      <td>34120.500000</td>\n",
              "      <td>46199.000000</td>\n",
              "      <td>42234.000000</td>\n",
              "      <td>29993.000000</td>\n",
              "      <td>14601.75000</td>\n",
              "      <td>20169.500000</td>\n",
              "      <td>17000.500000</td>\n",
              "      <td>32398.250000</td>\n",
              "      <td>15539.500000</td>\n",
              "    </tr>\n",
              "    <tr>\n",
              "      <th>max</th>\n",
              "      <td>13729.000000</td>\n",
              "      <td>21301.000000</td>\n",
              "      <td>17968.000000</td>\n",
              "      <td>24616.000000</td>\n",
              "      <td>88453.000000</td>\n",
              "      <td>56526.000000</td>\n",
              "      <td>57921.000000</td>\n",
              "      <td>63879.000000</td>\n",
              "      <td>64667.000000</td>\n",
              "      <td>70923.000000</td>\n",
              "      <td>56153.000000</td>\n",
              "      <td>25977.00000</td>\n",
              "      <td>37115.000000</td>\n",
              "      <td>28135.000000</td>\n",
              "      <td>57110.000000</td>\n",
              "      <td>16648.000000</td>\n",
              "    </tr>\n",
              "  </tbody>\n",
              "</table>\n",
              "</div>"
            ],
            "text/plain": [
              "                 중구            서구  ...           사상구           기장군\n",
              "count      4.000000      4.000000  ...      4.000000      4.000000\n",
              "mean    7749.750000  10712.250000  ...  22856.000000  11948.750000\n",
              "std     4708.238763   7880.555961  ...  24863.022758   6551.650346\n",
              "min     3034.000000   2323.000000  ...    216.000000   2290.000000\n",
              "25%     4624.000000   7165.000000  ...   7506.750000  10837.750000\n",
              "50%     7118.000000   9612.500000  ...  17049.000000  14428.500000\n",
              "75%    10243.750000  13159.750000  ...  32398.250000  15539.500000\n",
              "max    13729.000000  21301.000000  ...  57110.000000  16648.000000\n",
              "\n",
              "[8 rows x 16 columns]"
            ]
          },
          "metadata": {
            "tags": []
          },
          "execution_count": 98
        }
      ]
    },
    {
      "cell_type": "markdown",
      "metadata": {
        "id": "ONVJLCtgnlKj",
        "colab_type": "text"
      },
      "source": [
        "####**시리즈 내에 유일한 값 확인**\n",
        "+ .unique() \n",
        " - 개별 컬럼 내에 유일한 값을 확인"
      ]
    },
    {
      "cell_type": "code",
      "metadata": {
        "id": "sWuAr_8tnx3X",
        "colab_type": "code",
        "colab": {
          "base_uri": "https://localhost:8080/",
          "height": 34
        },
        "outputId": "978add81-3591-47b1-9168-db0d60cede04"
      },
      "source": [
        "df['구분'].unique()"
      ],
      "execution_count": 99,
      "outputs": [
        {
          "output_type": "execute_result",
          "data": {
            "text/plain": [
              "array(['연간(톤)', '일일(톤)'], dtype=object)"
            ]
          },
          "metadata": {
            "tags": []
          },
          "execution_count": 99
        }
      ]
    },
    {
      "cell_type": "code",
      "metadata": {
        "id": "oQv7-tCAn4En",
        "colab_type": "code",
        "colab": {
          "base_uri": "https://localhost:8080/",
          "height": 34
        },
        "outputId": "49f24987-cfaa-4596-e3c1-f7ae7044d643"
      },
      "source": [
        "df['금정구'].unique()"
      ],
      "execution_count": 100,
      "outputs": [
        {
          "output_type": "execute_result",
          "data": {
            "text/plain": [
              "array([ 7240,    20,   222,     1, 56153,   154, 21273,    58])"
            ]
          },
          "metadata": {
            "tags": []
          },
          "execution_count": 100
        }
      ]
    },
    {
      "cell_type": "markdown",
      "metadata": {
        "id": "x_1tPgrysNfQ",
        "colab_type": "text"
      },
      "source": [
        "## **데이터프레임 슬라이싱**\n",
        "+ .loc[행인덱싱, 열인덱싱]\n",
        "+ .iloc[행순서번호, 열순서번호]\n"
      ]
    },
    {
      "cell_type": "code",
      "metadata": {
        "id": "p3c_2hSSsjhp",
        "colab_type": "code",
        "colab": {
          "base_uri": "https://localhost:8080/",
          "height": 314
        },
        "outputId": "f02eab9c-1e86-49b1-e538-045eb8f0a771"
      },
      "source": [
        "df2 = df.set_index('항목')\n",
        "df2"
      ],
      "execution_count": 101,
      "outputs": [
        {
          "output_type": "execute_result",
          "data": {
            "text/html": [
              "<div>\n",
              "<style scoped>\n",
              "    .dataframe tbody tr th:only-of-type {\n",
              "        vertical-align: middle;\n",
              "    }\n",
              "\n",
              "    .dataframe tbody tr th {\n",
              "        vertical-align: top;\n",
              "    }\n",
              "\n",
              "    .dataframe thead th {\n",
              "        text-align: right;\n",
              "    }\n",
              "</style>\n",
              "<table border=\"1\" class=\"dataframe\">\n",
              "  <thead>\n",
              "    <tr style=\"text-align: right;\">\n",
              "      <th></th>\n",
              "      <th>구분</th>\n",
              "      <th>중구</th>\n",
              "      <th>서구</th>\n",
              "      <th>동구</th>\n",
              "      <th>영도구</th>\n",
              "      <th>부산진구</th>\n",
              "      <th>동래구</th>\n",
              "      <th>남구</th>\n",
              "      <th>북구</th>\n",
              "      <th>해운대구</th>\n",
              "      <th>사하구</th>\n",
              "      <th>금정구</th>\n",
              "      <th>강서구</th>\n",
              "      <th>연제구</th>\n",
              "      <th>수영구</th>\n",
              "      <th>사상구</th>\n",
              "      <th>기장군</th>\n",
              "    </tr>\n",
              "    <tr>\n",
              "      <th>항목</th>\n",
              "      <th></th>\n",
              "      <th></th>\n",
              "      <th></th>\n",
              "      <th></th>\n",
              "      <th></th>\n",
              "      <th></th>\n",
              "      <th></th>\n",
              "      <th></th>\n",
              "      <th></th>\n",
              "      <th></th>\n",
              "      <th></th>\n",
              "      <th></th>\n",
              "      <th></th>\n",
              "      <th></th>\n",
              "      <th></th>\n",
              "      <th></th>\n",
              "      <th></th>\n",
              "    </tr>\n",
              "  </thead>\n",
              "  <tbody>\n",
              "    <tr>\n",
              "      <th>매립처리량</th>\n",
              "      <td>연간(톤)</td>\n",
              "      <td>3034</td>\n",
              "      <td>2323</td>\n",
              "      <td>1653</td>\n",
              "      <td>1219</td>\n",
              "      <td>17393</td>\n",
              "      <td>9195</td>\n",
              "      <td>8042</td>\n",
              "      <td>10498</td>\n",
              "      <td>5251</td>\n",
              "      <td>3089</td>\n",
              "      <td>7240</td>\n",
              "      <td>9742</td>\n",
              "      <td>1831</td>\n",
              "      <td>2205</td>\n",
              "      <td>9937</td>\n",
              "      <td>2290</td>\n",
              "    </tr>\n",
              "    <tr>\n",
              "      <th>매립처리량</th>\n",
              "      <td>일일(톤)</td>\n",
              "      <td>8</td>\n",
              "      <td>7</td>\n",
              "      <td>5</td>\n",
              "      <td>3</td>\n",
              "      <td>48</td>\n",
              "      <td>25</td>\n",
              "      <td>22</td>\n",
              "      <td>29</td>\n",
              "      <td>14</td>\n",
              "      <td>8</td>\n",
              "      <td>20</td>\n",
              "      <td>27</td>\n",
              "      <td>5</td>\n",
              "      <td>6</td>\n",
              "      <td>27</td>\n",
              "      <td>6</td>\n",
              "    </tr>\n",
              "    <tr>\n",
              "      <th>소각처리량</th>\n",
              "      <td>연간(톤)</td>\n",
              "      <td>13729</td>\n",
              "      <td>10446</td>\n",
              "      <td>8297</td>\n",
              "      <td>8651</td>\n",
              "      <td>538</td>\n",
              "      <td>17</td>\n",
              "      <td>158</td>\n",
              "      <td>97</td>\n",
              "      <td>31924</td>\n",
              "      <td>32671</td>\n",
              "      <td>222</td>\n",
              "      <td>4788</td>\n",
              "      <td>14521</td>\n",
              "      <td>11987</td>\n",
              "      <td>216</td>\n",
              "      <td>13687</td>\n",
              "    </tr>\n",
              "    <tr>\n",
              "      <th>소각처리량</th>\n",
              "      <td>일일(톤)</td>\n",
              "      <td>38</td>\n",
              "      <td>29</td>\n",
              "      <td>23</td>\n",
              "      <td>24</td>\n",
              "      <td>2</td>\n",
              "      <td>0</td>\n",
              "      <td>0</td>\n",
              "      <td>0</td>\n",
              "      <td>87</td>\n",
              "      <td>89</td>\n",
              "      <td>1</td>\n",
              "      <td>13</td>\n",
              "      <td>40</td>\n",
              "      <td>33</td>\n",
              "      <td>0</td>\n",
              "      <td>37</td>\n",
              "    </tr>\n",
              "    <tr>\n",
              "      <th>재활용처리량</th>\n",
              "      <td>연간(톤)</td>\n",
              "      <td>9082</td>\n",
              "      <td>21301</td>\n",
              "      <td>17968</td>\n",
              "      <td>24616</td>\n",
              "      <td>88453</td>\n",
              "      <td>56526</td>\n",
              "      <td>57921</td>\n",
              "      <td>63879</td>\n",
              "      <td>64667</td>\n",
              "      <td>70923</td>\n",
              "      <td>56153</td>\n",
              "      <td>25977</td>\n",
              "      <td>37115</td>\n",
              "      <td>28135</td>\n",
              "      <td>57110</td>\n",
              "      <td>15170</td>\n",
              "    </tr>\n",
              "    <tr>\n",
              "      <th>재활용처리량</th>\n",
              "      <td>일일(톤)</td>\n",
              "      <td>25</td>\n",
              "      <td>58</td>\n",
              "      <td>49</td>\n",
              "      <td>68</td>\n",
              "      <td>242</td>\n",
              "      <td>155</td>\n",
              "      <td>159</td>\n",
              "      <td>175</td>\n",
              "      <td>177</td>\n",
              "      <td>194</td>\n",
              "      <td>154</td>\n",
              "      <td>71</td>\n",
              "      <td>102</td>\n",
              "      <td>77</td>\n",
              "      <td>156</td>\n",
              "      <td>42</td>\n",
              "    </tr>\n",
              "    <tr>\n",
              "      <th>음식물류발생량</th>\n",
              "      <td>연간(톤)</td>\n",
              "      <td>5154</td>\n",
              "      <td>8779</td>\n",
              "      <td>6399</td>\n",
              "      <td>9522</td>\n",
              "      <td>27119</td>\n",
              "      <td>20128</td>\n",
              "      <td>15548</td>\n",
              "      <td>24201</td>\n",
              "      <td>40043</td>\n",
              "      <td>21183</td>\n",
              "      <td>21273</td>\n",
              "      <td>10810</td>\n",
              "      <td>14122</td>\n",
              "      <td>13289</td>\n",
              "      <td>24161</td>\n",
              "      <td>16648</td>\n",
              "    </tr>\n",
              "    <tr>\n",
              "      <th>음식물류발생량</th>\n",
              "      <td>일일(톤)</td>\n",
              "      <td>14</td>\n",
              "      <td>24</td>\n",
              "      <td>18</td>\n",
              "      <td>26</td>\n",
              "      <td>74</td>\n",
              "      <td>55</td>\n",
              "      <td>43</td>\n",
              "      <td>66</td>\n",
              "      <td>110</td>\n",
              "      <td>58</td>\n",
              "      <td>58</td>\n",
              "      <td>30</td>\n",
              "      <td>39</td>\n",
              "      <td>36</td>\n",
              "      <td>66</td>\n",
              "      <td>46</td>\n",
              "    </tr>\n",
              "  </tbody>\n",
              "</table>\n",
              "</div>"
            ],
            "text/plain": [
              "            구분     중구     서구     동구    영도구  ...    강서구    연제구    수영구    사상구    기장군\n",
              "항목                                          ...                                   \n",
              "매립처리량    연간(톤)   3034   2323   1653   1219  ...   9742   1831   2205   9937   2290\n",
              "매립처리량    일일(톤)      8      7      5      3  ...     27      5      6     27      6\n",
              "소각처리량    연간(톤)  13729  10446   8297   8651  ...   4788  14521  11987    216  13687\n",
              "소각처리량    일일(톤)     38     29     23     24  ...     13     40     33      0     37\n",
              "재활용처리량   연간(톤)   9082  21301  17968  24616  ...  25977  37115  28135  57110  15170\n",
              "재활용처리량   일일(톤)     25     58     49     68  ...     71    102     77    156     42\n",
              "음식물류발생량  연간(톤)   5154   8779   6399   9522  ...  10810  14122  13289  24161  16648\n",
              "음식물류발생량  일일(톤)     14     24     18     26  ...     30     39     36     66     46\n",
              "\n",
              "[8 rows x 17 columns]"
            ]
          },
          "metadata": {
            "tags": []
          },
          "execution_count": 101
        }
      ]
    },
    {
      "cell_type": "markdown",
      "metadata": {
        "id": "vc5XivBks1mf",
        "colab_type": "text"
      },
      "source": [
        "#### **.loc : 인덱싱으로 추출**"
      ]
    },
    {
      "cell_type": "code",
      "metadata": {
        "id": "s6Z3elXns09Y",
        "colab_type": "code",
        "colab": {
          "base_uri": "https://localhost:8080/",
          "height": 136
        },
        "outputId": "571aaf03-ecb5-477d-ce10-c1136180593f"
      },
      "source": [
        "#행추출\n",
        "df2.loc['매립처리량']"
      ],
      "execution_count": 102,
      "outputs": [
        {
          "output_type": "execute_result",
          "data": {
            "text/html": [
              "<div>\n",
              "<style scoped>\n",
              "    .dataframe tbody tr th:only-of-type {\n",
              "        vertical-align: middle;\n",
              "    }\n",
              "\n",
              "    .dataframe tbody tr th {\n",
              "        vertical-align: top;\n",
              "    }\n",
              "\n",
              "    .dataframe thead th {\n",
              "        text-align: right;\n",
              "    }\n",
              "</style>\n",
              "<table border=\"1\" class=\"dataframe\">\n",
              "  <thead>\n",
              "    <tr style=\"text-align: right;\">\n",
              "      <th></th>\n",
              "      <th>구분</th>\n",
              "      <th>중구</th>\n",
              "      <th>서구</th>\n",
              "      <th>동구</th>\n",
              "      <th>영도구</th>\n",
              "      <th>부산진구</th>\n",
              "      <th>동래구</th>\n",
              "      <th>남구</th>\n",
              "      <th>북구</th>\n",
              "      <th>해운대구</th>\n",
              "      <th>사하구</th>\n",
              "      <th>금정구</th>\n",
              "      <th>강서구</th>\n",
              "      <th>연제구</th>\n",
              "      <th>수영구</th>\n",
              "      <th>사상구</th>\n",
              "      <th>기장군</th>\n",
              "    </tr>\n",
              "    <tr>\n",
              "      <th>항목</th>\n",
              "      <th></th>\n",
              "      <th></th>\n",
              "      <th></th>\n",
              "      <th></th>\n",
              "      <th></th>\n",
              "      <th></th>\n",
              "      <th></th>\n",
              "      <th></th>\n",
              "      <th></th>\n",
              "      <th></th>\n",
              "      <th></th>\n",
              "      <th></th>\n",
              "      <th></th>\n",
              "      <th></th>\n",
              "      <th></th>\n",
              "      <th></th>\n",
              "      <th></th>\n",
              "    </tr>\n",
              "  </thead>\n",
              "  <tbody>\n",
              "    <tr>\n",
              "      <th>매립처리량</th>\n",
              "      <td>연간(톤)</td>\n",
              "      <td>3034</td>\n",
              "      <td>2323</td>\n",
              "      <td>1653</td>\n",
              "      <td>1219</td>\n",
              "      <td>17393</td>\n",
              "      <td>9195</td>\n",
              "      <td>8042</td>\n",
              "      <td>10498</td>\n",
              "      <td>5251</td>\n",
              "      <td>3089</td>\n",
              "      <td>7240</td>\n",
              "      <td>9742</td>\n",
              "      <td>1831</td>\n",
              "      <td>2205</td>\n",
              "      <td>9937</td>\n",
              "      <td>2290</td>\n",
              "    </tr>\n",
              "    <tr>\n",
              "      <th>매립처리량</th>\n",
              "      <td>일일(톤)</td>\n",
              "      <td>8</td>\n",
              "      <td>7</td>\n",
              "      <td>5</td>\n",
              "      <td>3</td>\n",
              "      <td>48</td>\n",
              "      <td>25</td>\n",
              "      <td>22</td>\n",
              "      <td>29</td>\n",
              "      <td>14</td>\n",
              "      <td>8</td>\n",
              "      <td>20</td>\n",
              "      <td>27</td>\n",
              "      <td>5</td>\n",
              "      <td>6</td>\n",
              "      <td>27</td>\n",
              "      <td>6</td>\n",
              "    </tr>\n",
              "  </tbody>\n",
              "</table>\n",
              "</div>"
            ],
            "text/plain": [
              "          구분    중구    서구    동구   영도구   부산진구  ...   금정구   강서구   연제구   수영구   사상구   기장군\n",
              "항목                                           ...                                    \n",
              "매립처리량  연간(톤)  3034  2323  1653  1219  17393  ...  7240  9742  1831  2205  9937  2290\n",
              "매립처리량  일일(톤)     8     7     5     3     48  ...    20    27     5     6    27     6\n",
              "\n",
              "[2 rows x 17 columns]"
            ]
          },
          "metadata": {
            "tags": []
          },
          "execution_count": 102
        }
      ]
    },
    {
      "cell_type": "code",
      "metadata": {
        "id": "TJh0oB0AstBK",
        "colab_type": "code",
        "colab": {
          "base_uri": "https://localhost:8080/",
          "height": 195
        },
        "outputId": "e0180516-183f-4dbf-e1e9-b88a4000f16b"
      },
      "source": [
        "df2.loc[['매립처리량','재활용처리량']]"
      ],
      "execution_count": 103,
      "outputs": [
        {
          "output_type": "execute_result",
          "data": {
            "text/html": [
              "<div>\n",
              "<style scoped>\n",
              "    .dataframe tbody tr th:only-of-type {\n",
              "        vertical-align: middle;\n",
              "    }\n",
              "\n",
              "    .dataframe tbody tr th {\n",
              "        vertical-align: top;\n",
              "    }\n",
              "\n",
              "    .dataframe thead th {\n",
              "        text-align: right;\n",
              "    }\n",
              "</style>\n",
              "<table border=\"1\" class=\"dataframe\">\n",
              "  <thead>\n",
              "    <tr style=\"text-align: right;\">\n",
              "      <th></th>\n",
              "      <th>구분</th>\n",
              "      <th>중구</th>\n",
              "      <th>서구</th>\n",
              "      <th>동구</th>\n",
              "      <th>영도구</th>\n",
              "      <th>부산진구</th>\n",
              "      <th>동래구</th>\n",
              "      <th>남구</th>\n",
              "      <th>북구</th>\n",
              "      <th>해운대구</th>\n",
              "      <th>사하구</th>\n",
              "      <th>금정구</th>\n",
              "      <th>강서구</th>\n",
              "      <th>연제구</th>\n",
              "      <th>수영구</th>\n",
              "      <th>사상구</th>\n",
              "      <th>기장군</th>\n",
              "    </tr>\n",
              "    <tr>\n",
              "      <th>항목</th>\n",
              "      <th></th>\n",
              "      <th></th>\n",
              "      <th></th>\n",
              "      <th></th>\n",
              "      <th></th>\n",
              "      <th></th>\n",
              "      <th></th>\n",
              "      <th></th>\n",
              "      <th></th>\n",
              "      <th></th>\n",
              "      <th></th>\n",
              "      <th></th>\n",
              "      <th></th>\n",
              "      <th></th>\n",
              "      <th></th>\n",
              "      <th></th>\n",
              "      <th></th>\n",
              "    </tr>\n",
              "  </thead>\n",
              "  <tbody>\n",
              "    <tr>\n",
              "      <th>매립처리량</th>\n",
              "      <td>연간(톤)</td>\n",
              "      <td>3034</td>\n",
              "      <td>2323</td>\n",
              "      <td>1653</td>\n",
              "      <td>1219</td>\n",
              "      <td>17393</td>\n",
              "      <td>9195</td>\n",
              "      <td>8042</td>\n",
              "      <td>10498</td>\n",
              "      <td>5251</td>\n",
              "      <td>3089</td>\n",
              "      <td>7240</td>\n",
              "      <td>9742</td>\n",
              "      <td>1831</td>\n",
              "      <td>2205</td>\n",
              "      <td>9937</td>\n",
              "      <td>2290</td>\n",
              "    </tr>\n",
              "    <tr>\n",
              "      <th>매립처리량</th>\n",
              "      <td>일일(톤)</td>\n",
              "      <td>8</td>\n",
              "      <td>7</td>\n",
              "      <td>5</td>\n",
              "      <td>3</td>\n",
              "      <td>48</td>\n",
              "      <td>25</td>\n",
              "      <td>22</td>\n",
              "      <td>29</td>\n",
              "      <td>14</td>\n",
              "      <td>8</td>\n",
              "      <td>20</td>\n",
              "      <td>27</td>\n",
              "      <td>5</td>\n",
              "      <td>6</td>\n",
              "      <td>27</td>\n",
              "      <td>6</td>\n",
              "    </tr>\n",
              "    <tr>\n",
              "      <th>재활용처리량</th>\n",
              "      <td>연간(톤)</td>\n",
              "      <td>9082</td>\n",
              "      <td>21301</td>\n",
              "      <td>17968</td>\n",
              "      <td>24616</td>\n",
              "      <td>88453</td>\n",
              "      <td>56526</td>\n",
              "      <td>57921</td>\n",
              "      <td>63879</td>\n",
              "      <td>64667</td>\n",
              "      <td>70923</td>\n",
              "      <td>56153</td>\n",
              "      <td>25977</td>\n",
              "      <td>37115</td>\n",
              "      <td>28135</td>\n",
              "      <td>57110</td>\n",
              "      <td>15170</td>\n",
              "    </tr>\n",
              "    <tr>\n",
              "      <th>재활용처리량</th>\n",
              "      <td>일일(톤)</td>\n",
              "      <td>25</td>\n",
              "      <td>58</td>\n",
              "      <td>49</td>\n",
              "      <td>68</td>\n",
              "      <td>242</td>\n",
              "      <td>155</td>\n",
              "      <td>159</td>\n",
              "      <td>175</td>\n",
              "      <td>177</td>\n",
              "      <td>194</td>\n",
              "      <td>154</td>\n",
              "      <td>71</td>\n",
              "      <td>102</td>\n",
              "      <td>77</td>\n",
              "      <td>156</td>\n",
              "      <td>42</td>\n",
              "    </tr>\n",
              "  </tbody>\n",
              "</table>\n",
              "</div>"
            ],
            "text/plain": [
              "           구분    중구     서구     동구    영도구  ...    강서구    연제구    수영구    사상구    기장군\n",
              "항목                                        ...                                   \n",
              "매립처리량   연간(톤)  3034   2323   1653   1219  ...   9742   1831   2205   9937   2290\n",
              "매립처리량   일일(톤)     8      7      5      3  ...     27      5      6     27      6\n",
              "재활용처리량  연간(톤)  9082  21301  17968  24616  ...  25977  37115  28135  57110  15170\n",
              "재활용처리량  일일(톤)    25     58     49     68  ...     71    102     77    156     42\n",
              "\n",
              "[4 rows x 17 columns]"
            ]
          },
          "metadata": {
            "tags": []
          },
          "execution_count": 103
        }
      ]
    },
    {
      "cell_type": "code",
      "metadata": {
        "id": "pOOsfDQUtYep",
        "colab_type": "code",
        "colab": {
          "base_uri": "https://localhost:8080/",
          "height": 193
        },
        "outputId": "0d290fa3-25c4-4f8e-f98a-eb74037d36d8"
      },
      "source": [
        "#열추출\n",
        "df2.loc[:, '금정구']"
      ],
      "execution_count": 104,
      "outputs": [
        {
          "output_type": "execute_result",
          "data": {
            "text/plain": [
              "항목\n",
              "매립처리량       7240\n",
              "매립처리량         20\n",
              "소각처리량        222\n",
              "소각처리량          1\n",
              "재활용처리량     56153\n",
              "재활용처리량       154\n",
              "음식물류발생량    21273\n",
              "음식물류발생량       58\n",
              "Name: 금정구, dtype: int64"
            ]
          },
          "metadata": {
            "tags": []
          },
          "execution_count": 104
        }
      ]
    },
    {
      "cell_type": "code",
      "metadata": {
        "id": "S5E_-JpPtl6p",
        "colab_type": "code",
        "colab": {
          "base_uri": "https://localhost:8080/",
          "height": 314
        },
        "outputId": "b84d34d2-47e4-4079-d0d2-555abf3ddd46"
      },
      "source": [
        "df2.loc[:, ['구분','금정구']]"
      ],
      "execution_count": 105,
      "outputs": [
        {
          "output_type": "execute_result",
          "data": {
            "text/html": [
              "<div>\n",
              "<style scoped>\n",
              "    .dataframe tbody tr th:only-of-type {\n",
              "        vertical-align: middle;\n",
              "    }\n",
              "\n",
              "    .dataframe tbody tr th {\n",
              "        vertical-align: top;\n",
              "    }\n",
              "\n",
              "    .dataframe thead th {\n",
              "        text-align: right;\n",
              "    }\n",
              "</style>\n",
              "<table border=\"1\" class=\"dataframe\">\n",
              "  <thead>\n",
              "    <tr style=\"text-align: right;\">\n",
              "      <th></th>\n",
              "      <th>구분</th>\n",
              "      <th>금정구</th>\n",
              "    </tr>\n",
              "    <tr>\n",
              "      <th>항목</th>\n",
              "      <th></th>\n",
              "      <th></th>\n",
              "    </tr>\n",
              "  </thead>\n",
              "  <tbody>\n",
              "    <tr>\n",
              "      <th>매립처리량</th>\n",
              "      <td>연간(톤)</td>\n",
              "      <td>7240</td>\n",
              "    </tr>\n",
              "    <tr>\n",
              "      <th>매립처리량</th>\n",
              "      <td>일일(톤)</td>\n",
              "      <td>20</td>\n",
              "    </tr>\n",
              "    <tr>\n",
              "      <th>소각처리량</th>\n",
              "      <td>연간(톤)</td>\n",
              "      <td>222</td>\n",
              "    </tr>\n",
              "    <tr>\n",
              "      <th>소각처리량</th>\n",
              "      <td>일일(톤)</td>\n",
              "      <td>1</td>\n",
              "    </tr>\n",
              "    <tr>\n",
              "      <th>재활용처리량</th>\n",
              "      <td>연간(톤)</td>\n",
              "      <td>56153</td>\n",
              "    </tr>\n",
              "    <tr>\n",
              "      <th>재활용처리량</th>\n",
              "      <td>일일(톤)</td>\n",
              "      <td>154</td>\n",
              "    </tr>\n",
              "    <tr>\n",
              "      <th>음식물류발생량</th>\n",
              "      <td>연간(톤)</td>\n",
              "      <td>21273</td>\n",
              "    </tr>\n",
              "    <tr>\n",
              "      <th>음식물류발생량</th>\n",
              "      <td>일일(톤)</td>\n",
              "      <td>58</td>\n",
              "    </tr>\n",
              "  </tbody>\n",
              "</table>\n",
              "</div>"
            ],
            "text/plain": [
              "            구분    금정구\n",
              "항목                   \n",
              "매립처리량    연간(톤)   7240\n",
              "매립처리량    일일(톤)     20\n",
              "소각처리량    연간(톤)    222\n",
              "소각처리량    일일(톤)      1\n",
              "재활용처리량   연간(톤)  56153\n",
              "재활용처리량   일일(톤)    154\n",
              "음식물류발생량  연간(톤)  21273\n",
              "음식물류발생량  일일(톤)     58"
            ]
          },
          "metadata": {
            "tags": []
          },
          "execution_count": 105
        }
      ]
    },
    {
      "cell_type": "code",
      "metadata": {
        "id": "3REgoVimvm1g",
        "colab_type": "code",
        "colab": {
          "base_uri": "https://localhost:8080/",
          "height": 195
        },
        "outputId": "0e4bcb0e-fdb7-440e-c58a-7cfcede78764"
      },
      "source": [
        "df2.loc[['매립처리량','재활용처리량'], ['구분','금정구']]"
      ],
      "execution_count": 106,
      "outputs": [
        {
          "output_type": "execute_result",
          "data": {
            "text/html": [
              "<div>\n",
              "<style scoped>\n",
              "    .dataframe tbody tr th:only-of-type {\n",
              "        vertical-align: middle;\n",
              "    }\n",
              "\n",
              "    .dataframe tbody tr th {\n",
              "        vertical-align: top;\n",
              "    }\n",
              "\n",
              "    .dataframe thead th {\n",
              "        text-align: right;\n",
              "    }\n",
              "</style>\n",
              "<table border=\"1\" class=\"dataframe\">\n",
              "  <thead>\n",
              "    <tr style=\"text-align: right;\">\n",
              "      <th></th>\n",
              "      <th>구분</th>\n",
              "      <th>금정구</th>\n",
              "    </tr>\n",
              "    <tr>\n",
              "      <th>항목</th>\n",
              "      <th></th>\n",
              "      <th></th>\n",
              "    </tr>\n",
              "  </thead>\n",
              "  <tbody>\n",
              "    <tr>\n",
              "      <th>매립처리량</th>\n",
              "      <td>연간(톤)</td>\n",
              "      <td>7240</td>\n",
              "    </tr>\n",
              "    <tr>\n",
              "      <th>매립처리량</th>\n",
              "      <td>일일(톤)</td>\n",
              "      <td>20</td>\n",
              "    </tr>\n",
              "    <tr>\n",
              "      <th>재활용처리량</th>\n",
              "      <td>연간(톤)</td>\n",
              "      <td>56153</td>\n",
              "    </tr>\n",
              "    <tr>\n",
              "      <th>재활용처리량</th>\n",
              "      <td>일일(톤)</td>\n",
              "      <td>154</td>\n",
              "    </tr>\n",
              "  </tbody>\n",
              "</table>\n",
              "</div>"
            ],
            "text/plain": [
              "           구분    금정구\n",
              "항목                  \n",
              "매립처리량   연간(톤)   7240\n",
              "매립처리량   일일(톤)     20\n",
              "재활용처리량  연간(톤)  56153\n",
              "재활용처리량  일일(톤)    154"
            ]
          },
          "metadata": {
            "tags": []
          },
          "execution_count": 106
        }
      ]
    },
    {
      "cell_type": "markdown",
      "metadata": {
        "id": "EKYeVDrbt6_f",
        "colab_type": "text"
      },
      "source": [
        "#### **.iloc : 순서번호로 추출**"
      ]
    },
    {
      "cell_type": "code",
      "metadata": {
        "id": "rsFY0nfMuCEx",
        "colab_type": "code",
        "colab": {
          "base_uri": "https://localhost:8080/",
          "height": 136
        },
        "outputId": "1dc28142-1005-49d8-d8f7-f2375b35cb22"
      },
      "source": [
        "#행추출\n",
        "df2.iloc[:2]"
      ],
      "execution_count": 107,
      "outputs": [
        {
          "output_type": "execute_result",
          "data": {
            "text/html": [
              "<div>\n",
              "<style scoped>\n",
              "    .dataframe tbody tr th:only-of-type {\n",
              "        vertical-align: middle;\n",
              "    }\n",
              "\n",
              "    .dataframe tbody tr th {\n",
              "        vertical-align: top;\n",
              "    }\n",
              "\n",
              "    .dataframe thead th {\n",
              "        text-align: right;\n",
              "    }\n",
              "</style>\n",
              "<table border=\"1\" class=\"dataframe\">\n",
              "  <thead>\n",
              "    <tr style=\"text-align: right;\">\n",
              "      <th></th>\n",
              "      <th>구분</th>\n",
              "      <th>중구</th>\n",
              "      <th>서구</th>\n",
              "      <th>동구</th>\n",
              "      <th>영도구</th>\n",
              "      <th>부산진구</th>\n",
              "      <th>동래구</th>\n",
              "      <th>남구</th>\n",
              "      <th>북구</th>\n",
              "      <th>해운대구</th>\n",
              "      <th>사하구</th>\n",
              "      <th>금정구</th>\n",
              "      <th>강서구</th>\n",
              "      <th>연제구</th>\n",
              "      <th>수영구</th>\n",
              "      <th>사상구</th>\n",
              "      <th>기장군</th>\n",
              "    </tr>\n",
              "    <tr>\n",
              "      <th>항목</th>\n",
              "      <th></th>\n",
              "      <th></th>\n",
              "      <th></th>\n",
              "      <th></th>\n",
              "      <th></th>\n",
              "      <th></th>\n",
              "      <th></th>\n",
              "      <th></th>\n",
              "      <th></th>\n",
              "      <th></th>\n",
              "      <th></th>\n",
              "      <th></th>\n",
              "      <th></th>\n",
              "      <th></th>\n",
              "      <th></th>\n",
              "      <th></th>\n",
              "      <th></th>\n",
              "    </tr>\n",
              "  </thead>\n",
              "  <tbody>\n",
              "    <tr>\n",
              "      <th>매립처리량</th>\n",
              "      <td>연간(톤)</td>\n",
              "      <td>3034</td>\n",
              "      <td>2323</td>\n",
              "      <td>1653</td>\n",
              "      <td>1219</td>\n",
              "      <td>17393</td>\n",
              "      <td>9195</td>\n",
              "      <td>8042</td>\n",
              "      <td>10498</td>\n",
              "      <td>5251</td>\n",
              "      <td>3089</td>\n",
              "      <td>7240</td>\n",
              "      <td>9742</td>\n",
              "      <td>1831</td>\n",
              "      <td>2205</td>\n",
              "      <td>9937</td>\n",
              "      <td>2290</td>\n",
              "    </tr>\n",
              "    <tr>\n",
              "      <th>매립처리량</th>\n",
              "      <td>일일(톤)</td>\n",
              "      <td>8</td>\n",
              "      <td>7</td>\n",
              "      <td>5</td>\n",
              "      <td>3</td>\n",
              "      <td>48</td>\n",
              "      <td>25</td>\n",
              "      <td>22</td>\n",
              "      <td>29</td>\n",
              "      <td>14</td>\n",
              "      <td>8</td>\n",
              "      <td>20</td>\n",
              "      <td>27</td>\n",
              "      <td>5</td>\n",
              "      <td>6</td>\n",
              "      <td>27</td>\n",
              "      <td>6</td>\n",
              "    </tr>\n",
              "  </tbody>\n",
              "</table>\n",
              "</div>"
            ],
            "text/plain": [
              "          구분    중구    서구    동구   영도구   부산진구  ...   금정구   강서구   연제구   수영구   사상구   기장군\n",
              "항목                                           ...                                    \n",
              "매립처리량  연간(톤)  3034  2323  1653  1219  17393  ...  7240  9742  1831  2205  9937  2290\n",
              "매립처리량  일일(톤)     8     7     5     3     48  ...    20    27     5     6    27     6\n",
              "\n",
              "[2 rows x 17 columns]"
            ]
          },
          "metadata": {
            "tags": []
          },
          "execution_count": 107
        }
      ]
    },
    {
      "cell_type": "code",
      "metadata": {
        "id": "HgTJAXe0u81K",
        "colab_type": "code",
        "colab": {
          "base_uri": "https://localhost:8080/",
          "height": 195
        },
        "outputId": "d7611266-b11b-41f5-e733-f4921911a9b6"
      },
      "source": [
        "df2.iloc[[0,1,4,5]]"
      ],
      "execution_count": 108,
      "outputs": [
        {
          "output_type": "execute_result",
          "data": {
            "text/html": [
              "<div>\n",
              "<style scoped>\n",
              "    .dataframe tbody tr th:only-of-type {\n",
              "        vertical-align: middle;\n",
              "    }\n",
              "\n",
              "    .dataframe tbody tr th {\n",
              "        vertical-align: top;\n",
              "    }\n",
              "\n",
              "    .dataframe thead th {\n",
              "        text-align: right;\n",
              "    }\n",
              "</style>\n",
              "<table border=\"1\" class=\"dataframe\">\n",
              "  <thead>\n",
              "    <tr style=\"text-align: right;\">\n",
              "      <th></th>\n",
              "      <th>구분</th>\n",
              "      <th>중구</th>\n",
              "      <th>서구</th>\n",
              "      <th>동구</th>\n",
              "      <th>영도구</th>\n",
              "      <th>부산진구</th>\n",
              "      <th>동래구</th>\n",
              "      <th>남구</th>\n",
              "      <th>북구</th>\n",
              "      <th>해운대구</th>\n",
              "      <th>사하구</th>\n",
              "      <th>금정구</th>\n",
              "      <th>강서구</th>\n",
              "      <th>연제구</th>\n",
              "      <th>수영구</th>\n",
              "      <th>사상구</th>\n",
              "      <th>기장군</th>\n",
              "    </tr>\n",
              "    <tr>\n",
              "      <th>항목</th>\n",
              "      <th></th>\n",
              "      <th></th>\n",
              "      <th></th>\n",
              "      <th></th>\n",
              "      <th></th>\n",
              "      <th></th>\n",
              "      <th></th>\n",
              "      <th></th>\n",
              "      <th></th>\n",
              "      <th></th>\n",
              "      <th></th>\n",
              "      <th></th>\n",
              "      <th></th>\n",
              "      <th></th>\n",
              "      <th></th>\n",
              "      <th></th>\n",
              "      <th></th>\n",
              "    </tr>\n",
              "  </thead>\n",
              "  <tbody>\n",
              "    <tr>\n",
              "      <th>매립처리량</th>\n",
              "      <td>연간(톤)</td>\n",
              "      <td>3034</td>\n",
              "      <td>2323</td>\n",
              "      <td>1653</td>\n",
              "      <td>1219</td>\n",
              "      <td>17393</td>\n",
              "      <td>9195</td>\n",
              "      <td>8042</td>\n",
              "      <td>10498</td>\n",
              "      <td>5251</td>\n",
              "      <td>3089</td>\n",
              "      <td>7240</td>\n",
              "      <td>9742</td>\n",
              "      <td>1831</td>\n",
              "      <td>2205</td>\n",
              "      <td>9937</td>\n",
              "      <td>2290</td>\n",
              "    </tr>\n",
              "    <tr>\n",
              "      <th>매립처리량</th>\n",
              "      <td>일일(톤)</td>\n",
              "      <td>8</td>\n",
              "      <td>7</td>\n",
              "      <td>5</td>\n",
              "      <td>3</td>\n",
              "      <td>48</td>\n",
              "      <td>25</td>\n",
              "      <td>22</td>\n",
              "      <td>29</td>\n",
              "      <td>14</td>\n",
              "      <td>8</td>\n",
              "      <td>20</td>\n",
              "      <td>27</td>\n",
              "      <td>5</td>\n",
              "      <td>6</td>\n",
              "      <td>27</td>\n",
              "      <td>6</td>\n",
              "    </tr>\n",
              "    <tr>\n",
              "      <th>재활용처리량</th>\n",
              "      <td>연간(톤)</td>\n",
              "      <td>9082</td>\n",
              "      <td>21301</td>\n",
              "      <td>17968</td>\n",
              "      <td>24616</td>\n",
              "      <td>88453</td>\n",
              "      <td>56526</td>\n",
              "      <td>57921</td>\n",
              "      <td>63879</td>\n",
              "      <td>64667</td>\n",
              "      <td>70923</td>\n",
              "      <td>56153</td>\n",
              "      <td>25977</td>\n",
              "      <td>37115</td>\n",
              "      <td>28135</td>\n",
              "      <td>57110</td>\n",
              "      <td>15170</td>\n",
              "    </tr>\n",
              "    <tr>\n",
              "      <th>재활용처리량</th>\n",
              "      <td>일일(톤)</td>\n",
              "      <td>25</td>\n",
              "      <td>58</td>\n",
              "      <td>49</td>\n",
              "      <td>68</td>\n",
              "      <td>242</td>\n",
              "      <td>155</td>\n",
              "      <td>159</td>\n",
              "      <td>175</td>\n",
              "      <td>177</td>\n",
              "      <td>194</td>\n",
              "      <td>154</td>\n",
              "      <td>71</td>\n",
              "      <td>102</td>\n",
              "      <td>77</td>\n",
              "      <td>156</td>\n",
              "      <td>42</td>\n",
              "    </tr>\n",
              "  </tbody>\n",
              "</table>\n",
              "</div>"
            ],
            "text/plain": [
              "           구분    중구     서구     동구    영도구  ...    강서구    연제구    수영구    사상구    기장군\n",
              "항목                                        ...                                   \n",
              "매립처리량   연간(톤)  3034   2323   1653   1219  ...   9742   1831   2205   9937   2290\n",
              "매립처리량   일일(톤)     8      7      5      3  ...     27      5      6     27      6\n",
              "재활용처리량  연간(톤)  9082  21301  17968  24616  ...  25977  37115  28135  57110  15170\n",
              "재활용처리량  일일(톤)    25     58     49     68  ...     71    102     77    156     42\n",
              "\n",
              "[4 rows x 17 columns]"
            ]
          },
          "metadata": {
            "tags": []
          },
          "execution_count": 108
        }
      ]
    },
    {
      "cell_type": "code",
      "metadata": {
        "id": "CSF66GTouPnB",
        "colab_type": "code",
        "colab": {
          "base_uri": "https://localhost:8080/",
          "height": 134
        },
        "outputId": "f963d9c7-4661-468a-bb46-b946fcff2277"
      },
      "source": [
        "df2.iloc[[0:2]]"
      ],
      "execution_count": 109,
      "outputs": [
        {
          "output_type": "error",
          "ename": "SyntaxError",
          "evalue": "ignored",
          "traceback": [
            "\u001b[0;36m  File \u001b[0;32m\"<ipython-input-109-4436bd4d9b69>\"\u001b[0;36m, line \u001b[0;32m1\u001b[0m\n\u001b[0;31m    df2.iloc[[0:2]]\u001b[0m\n\u001b[0m               ^\u001b[0m\n\u001b[0;31mSyntaxError\u001b[0m\u001b[0;31m:\u001b[0m invalid syntax\n"
          ]
        }
      ]
    },
    {
      "cell_type": "code",
      "metadata": {
        "id": "yHj8ldCuMgWU",
        "colab_type": "code",
        "colab": {
          "base_uri": "https://localhost:8080/",
          "height": 136
        },
        "outputId": "d6a7d043-cd64-4605-cddd-f14c530870b6"
      },
      "source": [
        "df2.iloc[[0,2]]"
      ],
      "execution_count": 110,
      "outputs": [
        {
          "output_type": "execute_result",
          "data": {
            "text/html": [
              "<div>\n",
              "<style scoped>\n",
              "    .dataframe tbody tr th:only-of-type {\n",
              "        vertical-align: middle;\n",
              "    }\n",
              "\n",
              "    .dataframe tbody tr th {\n",
              "        vertical-align: top;\n",
              "    }\n",
              "\n",
              "    .dataframe thead th {\n",
              "        text-align: right;\n",
              "    }\n",
              "</style>\n",
              "<table border=\"1\" class=\"dataframe\">\n",
              "  <thead>\n",
              "    <tr style=\"text-align: right;\">\n",
              "      <th></th>\n",
              "      <th>구분</th>\n",
              "      <th>중구</th>\n",
              "      <th>서구</th>\n",
              "      <th>동구</th>\n",
              "      <th>영도구</th>\n",
              "      <th>부산진구</th>\n",
              "      <th>동래구</th>\n",
              "      <th>남구</th>\n",
              "      <th>북구</th>\n",
              "      <th>해운대구</th>\n",
              "      <th>사하구</th>\n",
              "      <th>금정구</th>\n",
              "      <th>강서구</th>\n",
              "      <th>연제구</th>\n",
              "      <th>수영구</th>\n",
              "      <th>사상구</th>\n",
              "      <th>기장군</th>\n",
              "    </tr>\n",
              "    <tr>\n",
              "      <th>항목</th>\n",
              "      <th></th>\n",
              "      <th></th>\n",
              "      <th></th>\n",
              "      <th></th>\n",
              "      <th></th>\n",
              "      <th></th>\n",
              "      <th></th>\n",
              "      <th></th>\n",
              "      <th></th>\n",
              "      <th></th>\n",
              "      <th></th>\n",
              "      <th></th>\n",
              "      <th></th>\n",
              "      <th></th>\n",
              "      <th></th>\n",
              "      <th></th>\n",
              "      <th></th>\n",
              "    </tr>\n",
              "  </thead>\n",
              "  <tbody>\n",
              "    <tr>\n",
              "      <th>매립처리량</th>\n",
              "      <td>연간(톤)</td>\n",
              "      <td>3034</td>\n",
              "      <td>2323</td>\n",
              "      <td>1653</td>\n",
              "      <td>1219</td>\n",
              "      <td>17393</td>\n",
              "      <td>9195</td>\n",
              "      <td>8042</td>\n",
              "      <td>10498</td>\n",
              "      <td>5251</td>\n",
              "      <td>3089</td>\n",
              "      <td>7240</td>\n",
              "      <td>9742</td>\n",
              "      <td>1831</td>\n",
              "      <td>2205</td>\n",
              "      <td>9937</td>\n",
              "      <td>2290</td>\n",
              "    </tr>\n",
              "    <tr>\n",
              "      <th>소각처리량</th>\n",
              "      <td>연간(톤)</td>\n",
              "      <td>13729</td>\n",
              "      <td>10446</td>\n",
              "      <td>8297</td>\n",
              "      <td>8651</td>\n",
              "      <td>538</td>\n",
              "      <td>17</td>\n",
              "      <td>158</td>\n",
              "      <td>97</td>\n",
              "      <td>31924</td>\n",
              "      <td>32671</td>\n",
              "      <td>222</td>\n",
              "      <td>4788</td>\n",
              "      <td>14521</td>\n",
              "      <td>11987</td>\n",
              "      <td>216</td>\n",
              "      <td>13687</td>\n",
              "    </tr>\n",
              "  </tbody>\n",
              "</table>\n",
              "</div>"
            ],
            "text/plain": [
              "          구분     중구     서구    동구   영도구  ...   강서구    연제구    수영구   사상구    기장군\n",
              "항목                                      ...                                 \n",
              "매립처리량  연간(톤)   3034   2323  1653  1219  ...  9742   1831   2205  9937   2290\n",
              "소각처리량  연간(톤)  13729  10446  8297  8651  ...  4788  14521  11987   216  13687\n",
              "\n",
              "[2 rows x 17 columns]"
            ]
          },
          "metadata": {
            "tags": []
          },
          "execution_count": 110
        }
      ]
    },
    {
      "cell_type": "code",
      "metadata": {
        "id": "Ayn13nHcvPMV",
        "colab_type": "code",
        "colab": {
          "base_uri": "https://localhost:8080/",
          "height": 193
        },
        "outputId": "c573ee69-4c5d-4022-b9e5-a5a91d3d72dc"
      },
      "source": [
        "#열추출\n",
        "df2.iloc[:, 11]"
      ],
      "execution_count": 111,
      "outputs": [
        {
          "output_type": "execute_result",
          "data": {
            "text/plain": [
              "항목\n",
              "매립처리량       7240\n",
              "매립처리량         20\n",
              "소각처리량        222\n",
              "소각처리량          1\n",
              "재활용처리량     56153\n",
              "재활용처리량       154\n",
              "음식물류발생량    21273\n",
              "음식물류발생량       58\n",
              "Name: 금정구, dtype: int64"
            ]
          },
          "metadata": {
            "tags": []
          },
          "execution_count": 111
        }
      ]
    },
    {
      "cell_type": "code",
      "metadata": {
        "id": "IFfD5JmNvY6w",
        "colab_type": "code",
        "colab": {
          "base_uri": "https://localhost:8080/",
          "height": 314
        },
        "outputId": "cabf7fbf-0192-41ec-8cee-f92d02506b66"
      },
      "source": [
        "df2.iloc[:, [0,11]]"
      ],
      "execution_count": 112,
      "outputs": [
        {
          "output_type": "execute_result",
          "data": {
            "text/html": [
              "<div>\n",
              "<style scoped>\n",
              "    .dataframe tbody tr th:only-of-type {\n",
              "        vertical-align: middle;\n",
              "    }\n",
              "\n",
              "    .dataframe tbody tr th {\n",
              "        vertical-align: top;\n",
              "    }\n",
              "\n",
              "    .dataframe thead th {\n",
              "        text-align: right;\n",
              "    }\n",
              "</style>\n",
              "<table border=\"1\" class=\"dataframe\">\n",
              "  <thead>\n",
              "    <tr style=\"text-align: right;\">\n",
              "      <th></th>\n",
              "      <th>구분</th>\n",
              "      <th>금정구</th>\n",
              "    </tr>\n",
              "    <tr>\n",
              "      <th>항목</th>\n",
              "      <th></th>\n",
              "      <th></th>\n",
              "    </tr>\n",
              "  </thead>\n",
              "  <tbody>\n",
              "    <tr>\n",
              "      <th>매립처리량</th>\n",
              "      <td>연간(톤)</td>\n",
              "      <td>7240</td>\n",
              "    </tr>\n",
              "    <tr>\n",
              "      <th>매립처리량</th>\n",
              "      <td>일일(톤)</td>\n",
              "      <td>20</td>\n",
              "    </tr>\n",
              "    <tr>\n",
              "      <th>소각처리량</th>\n",
              "      <td>연간(톤)</td>\n",
              "      <td>222</td>\n",
              "    </tr>\n",
              "    <tr>\n",
              "      <th>소각처리량</th>\n",
              "      <td>일일(톤)</td>\n",
              "      <td>1</td>\n",
              "    </tr>\n",
              "    <tr>\n",
              "      <th>재활용처리량</th>\n",
              "      <td>연간(톤)</td>\n",
              "      <td>56153</td>\n",
              "    </tr>\n",
              "    <tr>\n",
              "      <th>재활용처리량</th>\n",
              "      <td>일일(톤)</td>\n",
              "      <td>154</td>\n",
              "    </tr>\n",
              "    <tr>\n",
              "      <th>음식물류발생량</th>\n",
              "      <td>연간(톤)</td>\n",
              "      <td>21273</td>\n",
              "    </tr>\n",
              "    <tr>\n",
              "      <th>음식물류발생량</th>\n",
              "      <td>일일(톤)</td>\n",
              "      <td>58</td>\n",
              "    </tr>\n",
              "  </tbody>\n",
              "</table>\n",
              "</div>"
            ],
            "text/plain": [
              "            구분    금정구\n",
              "항목                   \n",
              "매립처리량    연간(톤)   7240\n",
              "매립처리량    일일(톤)     20\n",
              "소각처리량    연간(톤)    222\n",
              "소각처리량    일일(톤)      1\n",
              "재활용처리량   연간(톤)  56153\n",
              "재활용처리량   일일(톤)    154\n",
              "음식물류발생량  연간(톤)  21273\n",
              "음식물류발생량  일일(톤)     58"
            ]
          },
          "metadata": {
            "tags": []
          },
          "execution_count": 112
        }
      ]
    },
    {
      "cell_type": "code",
      "metadata": {
        "id": "ncHdh4OovgmP",
        "colab_type": "code",
        "colab": {
          "base_uri": "https://localhost:8080/",
          "height": 195
        },
        "outputId": "d38f8b72-df1b-47a2-cdce-8a0eb17401ea"
      },
      "source": [
        "df21 = df2.iloc[[0,1,4,5], [0,11]]\n",
        "df21"
      ],
      "execution_count": 131,
      "outputs": [
        {
          "output_type": "execute_result",
          "data": {
            "text/html": [
              "<div>\n",
              "<style scoped>\n",
              "    .dataframe tbody tr th:only-of-type {\n",
              "        vertical-align: middle;\n",
              "    }\n",
              "\n",
              "    .dataframe tbody tr th {\n",
              "        vertical-align: top;\n",
              "    }\n",
              "\n",
              "    .dataframe thead th {\n",
              "        text-align: right;\n",
              "    }\n",
              "</style>\n",
              "<table border=\"1\" class=\"dataframe\">\n",
              "  <thead>\n",
              "    <tr style=\"text-align: right;\">\n",
              "      <th></th>\n",
              "      <th>구분</th>\n",
              "      <th>금정구</th>\n",
              "    </tr>\n",
              "    <tr>\n",
              "      <th>항목</th>\n",
              "      <th></th>\n",
              "      <th></th>\n",
              "    </tr>\n",
              "  </thead>\n",
              "  <tbody>\n",
              "    <tr>\n",
              "      <th>매립처리량</th>\n",
              "      <td>연간(톤)</td>\n",
              "      <td>7240</td>\n",
              "    </tr>\n",
              "    <tr>\n",
              "      <th>매립처리량</th>\n",
              "      <td>일일(톤)</td>\n",
              "      <td>20</td>\n",
              "    </tr>\n",
              "    <tr>\n",
              "      <th>재활용처리량</th>\n",
              "      <td>연간(톤)</td>\n",
              "      <td>56153</td>\n",
              "    </tr>\n",
              "    <tr>\n",
              "      <th>재활용처리량</th>\n",
              "      <td>일일(톤)</td>\n",
              "      <td>154</td>\n",
              "    </tr>\n",
              "  </tbody>\n",
              "</table>\n",
              "</div>"
            ],
            "text/plain": [
              "           구분    금정구\n",
              "항목                  \n",
              "매립처리량   연간(톤)   7240\n",
              "매립처리량   일일(톤)     20\n",
              "재활용처리량  연간(톤)  56153\n",
              "재활용처리량  일일(톤)    154"
            ]
          },
          "metadata": {
            "tags": []
          },
          "execution_count": 131
        }
      ]
    },
    {
      "cell_type": "markdown",
      "metadata": {
        "id": "WR47TgRZxnXp",
        "colab_type": "text"
      },
      "source": [
        "#### 행열 전환 \n",
        "+ 데이터프레임.T"
      ]
    },
    {
      "cell_type": "code",
      "metadata": {
        "id": "Y2T_5cOZxVWq",
        "colab_type": "code",
        "colab": {}
      },
      "source": [
        "df21 = df21.T"
      ],
      "execution_count": 132,
      "outputs": []
    },
    {
      "cell_type": "code",
      "metadata": {
        "id": "Y5duxv9exeTJ",
        "colab_type": "code",
        "colab": {
          "base_uri": "https://localhost:8080/",
          "height": 106
        },
        "outputId": "db8b46f8-b03a-4ed7-b2ec-6b357474f2e1"
      },
      "source": [
        "df21"
      ],
      "execution_count": 133,
      "outputs": [
        {
          "output_type": "execute_result",
          "data": {
            "text/html": [
              "<div>\n",
              "<style scoped>\n",
              "    .dataframe tbody tr th:only-of-type {\n",
              "        vertical-align: middle;\n",
              "    }\n",
              "\n",
              "    .dataframe tbody tr th {\n",
              "        vertical-align: top;\n",
              "    }\n",
              "\n",
              "    .dataframe thead th {\n",
              "        text-align: right;\n",
              "    }\n",
              "</style>\n",
              "<table border=\"1\" class=\"dataframe\">\n",
              "  <thead>\n",
              "    <tr style=\"text-align: right;\">\n",
              "      <th>항목</th>\n",
              "      <th>매립처리량</th>\n",
              "      <th>매립처리량</th>\n",
              "      <th>재활용처리량</th>\n",
              "      <th>재활용처리량</th>\n",
              "    </tr>\n",
              "  </thead>\n",
              "  <tbody>\n",
              "    <tr>\n",
              "      <th>구분</th>\n",
              "      <td>연간(톤)</td>\n",
              "      <td>일일(톤)</td>\n",
              "      <td>연간(톤)</td>\n",
              "      <td>일일(톤)</td>\n",
              "    </tr>\n",
              "    <tr>\n",
              "      <th>금정구</th>\n",
              "      <td>7240</td>\n",
              "      <td>20</td>\n",
              "      <td>56153</td>\n",
              "      <td>154</td>\n",
              "    </tr>\n",
              "  </tbody>\n",
              "</table>\n",
              "</div>"
            ],
            "text/plain": [
              "항목   매립처리량  매립처리량 재활용처리량 재활용처리량\n",
              "구분   연간(톤)  일일(톤)  연간(톤)  일일(톤)\n",
              "금정구   7240     20  56153    154"
            ]
          },
          "metadata": {
            "tags": []
          },
          "execution_count": 133
        }
      ]
    },
    {
      "cell_type": "code",
      "metadata": {
        "id": "x4l9gb3Qx0-M",
        "colab_type": "code",
        "colab": {
          "base_uri": "https://localhost:8080/",
          "height": 210
        },
        "outputId": "0b33bd22-99e1-48a8-ec68-fcd5b9545616"
      },
      "source": [
        "df21.info()"
      ],
      "execution_count": 134,
      "outputs": [
        {
          "output_type": "stream",
          "text": [
            "<class 'pandas.core.frame.DataFrame'>\n",
            "Index: 2 entries, 구분 to 금정구\n",
            "Data columns (total 4 columns):\n",
            " #   Column  Non-Null Count  Dtype \n",
            "---  ------  --------------  ----- \n",
            " 0   매립처리량   2 non-null      object\n",
            " 1   매립처리량   2 non-null      object\n",
            " 2   재활용처리량  2 non-null      object\n",
            " 3   재활용처리량  2 non-null      object\n",
            "dtypes: object(4)\n",
            "memory usage: 160.0+ bytes\n"
          ],
          "name": "stdout"
        }
      ]
    },
    {
      "cell_type": "markdown",
      "metadata": {
        "id": "YDceVjffyMjJ",
        "colab_type": "text"
      },
      "source": [
        "#### 특정 인덱스 명 변경 \n",
        "+ 인덱스 변경\n",
        " - 데이터프레임.rename(index = {'Old Name': 'New Name'})\n",
        "+ 컬럼명 변경\n",
        " - 데이터프레임.rename(columns = {'Old Name': 'New Name'})"
      ]
    },
    {
      "cell_type": "code",
      "metadata": {
        "id": "KtbAtO9JyKck",
        "colab_type": "code",
        "colab": {
          "base_uri": "https://localhost:8080/",
          "height": 34
        },
        "outputId": "23f3b98e-5ebf-4798-a58c-8d6f4bf34da7"
      },
      "source": [
        "df21.index"
      ],
      "execution_count": 135,
      "outputs": [
        {
          "output_type": "execute_result",
          "data": {
            "text/plain": [
              "Index(['구분', '금정구'], dtype='object')"
            ]
          },
          "metadata": {
            "tags": []
          },
          "execution_count": 135
        }
      ]
    },
    {
      "cell_type": "code",
      "metadata": {
        "id": "fGFD-QfLzWcA",
        "colab_type": "code",
        "colab": {
          "base_uri": "https://localhost:8080/",
          "height": 106
        },
        "outputId": "9df34ea1-851d-44be-afe7-f025bd8931f4"
      },
      "source": [
        "df21 = df21.rename(index={'구분':'구분(톤)'})\n",
        "df21"
      ],
      "execution_count": 137,
      "outputs": [
        {
          "output_type": "execute_result",
          "data": {
            "text/html": [
              "<div>\n",
              "<style scoped>\n",
              "    .dataframe tbody tr th:only-of-type {\n",
              "        vertical-align: middle;\n",
              "    }\n",
              "\n",
              "    .dataframe tbody tr th {\n",
              "        vertical-align: top;\n",
              "    }\n",
              "\n",
              "    .dataframe thead th {\n",
              "        text-align: right;\n",
              "    }\n",
              "</style>\n",
              "<table border=\"1\" class=\"dataframe\">\n",
              "  <thead>\n",
              "    <tr style=\"text-align: right;\">\n",
              "      <th>항목</th>\n",
              "      <th>매립처리량</th>\n",
              "      <th>매립처리량</th>\n",
              "      <th>재활용처리량</th>\n",
              "      <th>재활용처리량</th>\n",
              "    </tr>\n",
              "  </thead>\n",
              "  <tbody>\n",
              "    <tr>\n",
              "      <th>구분(톤)</th>\n",
              "      <td>연간(톤)</td>\n",
              "      <td>일일(톤)</td>\n",
              "      <td>연간(톤)</td>\n",
              "      <td>일일(톤)</td>\n",
              "    </tr>\n",
              "    <tr>\n",
              "      <th>금정구</th>\n",
              "      <td>7240</td>\n",
              "      <td>20</td>\n",
              "      <td>56153</td>\n",
              "      <td>154</td>\n",
              "    </tr>\n",
              "  </tbody>\n",
              "</table>\n",
              "</div>"
            ],
            "text/plain": [
              "항목     매립처리량  매립처리량 재활용처리량 재활용처리량\n",
              "구분(톤)  연간(톤)  일일(톤)  연간(톤)  일일(톤)\n",
              "금정구     7240     20  56153    154"
            ]
          },
          "metadata": {
            "tags": []
          },
          "execution_count": 137
        }
      ]
    },
    {
      "cell_type": "code",
      "metadata": {
        "id": "FHmE1kVSzywn",
        "colab_type": "code",
        "colab": {
          "base_uri": "https://localhost:8080/",
          "height": 34
        },
        "outputId": "7b2bbf23-84f8-42de-de0f-53f282c7d1cf"
      },
      "source": [
        "df21.columns"
      ],
      "execution_count": 136,
      "outputs": [
        {
          "output_type": "execute_result",
          "data": {
            "text/plain": [
              "Index(['매립처리량', '매립처리량', '재활용처리량', '재활용처리량'], dtype='object', name='항목')"
            ]
          },
          "metadata": {
            "tags": []
          },
          "execution_count": 136
        }
      ]
    },
    {
      "cell_type": "code",
      "metadata": {
        "id": "fkOZhWWyz36q",
        "colab_type": "code",
        "colab": {
          "base_uri": "https://localhost:8080/",
          "height": 106
        },
        "outputId": "a458d71b-c14c-44c8-d6e1-1511097acf35"
      },
      "source": [
        "df21 = df21.rename(columns={'매립처리량':'매립'})\n",
        "df21"
      ],
      "execution_count": 138,
      "outputs": [
        {
          "output_type": "execute_result",
          "data": {
            "text/html": [
              "<div>\n",
              "<style scoped>\n",
              "    .dataframe tbody tr th:only-of-type {\n",
              "        vertical-align: middle;\n",
              "    }\n",
              "\n",
              "    .dataframe tbody tr th {\n",
              "        vertical-align: top;\n",
              "    }\n",
              "\n",
              "    .dataframe thead th {\n",
              "        text-align: right;\n",
              "    }\n",
              "</style>\n",
              "<table border=\"1\" class=\"dataframe\">\n",
              "  <thead>\n",
              "    <tr style=\"text-align: right;\">\n",
              "      <th>항목</th>\n",
              "      <th>매립</th>\n",
              "      <th>매립</th>\n",
              "      <th>재활용처리량</th>\n",
              "      <th>재활용처리량</th>\n",
              "    </tr>\n",
              "  </thead>\n",
              "  <tbody>\n",
              "    <tr>\n",
              "      <th>구분(톤)</th>\n",
              "      <td>연간(톤)</td>\n",
              "      <td>일일(톤)</td>\n",
              "      <td>연간(톤)</td>\n",
              "      <td>일일(톤)</td>\n",
              "    </tr>\n",
              "    <tr>\n",
              "      <th>금정구</th>\n",
              "      <td>7240</td>\n",
              "      <td>20</td>\n",
              "      <td>56153</td>\n",
              "      <td>154</td>\n",
              "    </tr>\n",
              "  </tbody>\n",
              "</table>\n",
              "</div>"
            ],
            "text/plain": [
              "항목        매립     매립 재활용처리량 재활용처리량\n",
              "구분(톤)  연간(톤)  일일(톤)  연간(톤)  일일(톤)\n",
              "금정구     7240     20  56153    154"
            ]
          },
          "metadata": {
            "tags": []
          },
          "execution_count": 138
        }
      ]
    },
    {
      "cell_type": "code",
      "metadata": {
        "id": "PNRFMS_J02b9",
        "colab_type": "code",
        "colab": {
          "base_uri": "https://localhost:8080/",
          "height": 106
        },
        "outputId": "17d84f0a-ded2-4378-b468-55fa413f3647"
      },
      "source": [
        "df21.columns = df21.columns.str.replace('처리량', '')\n",
        "df21"
      ],
      "execution_count": 141,
      "outputs": [
        {
          "output_type": "execute_result",
          "data": {
            "text/html": [
              "<div>\n",
              "<style scoped>\n",
              "    .dataframe tbody tr th:only-of-type {\n",
              "        vertical-align: middle;\n",
              "    }\n",
              "\n",
              "    .dataframe tbody tr th {\n",
              "        vertical-align: top;\n",
              "    }\n",
              "\n",
              "    .dataframe thead th {\n",
              "        text-align: right;\n",
              "    }\n",
              "</style>\n",
              "<table border=\"1\" class=\"dataframe\">\n",
              "  <thead>\n",
              "    <tr style=\"text-align: right;\">\n",
              "      <th>항목</th>\n",
              "      <th>매립</th>\n",
              "      <th>매립</th>\n",
              "      <th>재활용</th>\n",
              "      <th>재활용</th>\n",
              "    </tr>\n",
              "  </thead>\n",
              "  <tbody>\n",
              "    <tr>\n",
              "      <th>구분(톤)</th>\n",
              "      <td>연간(톤)</td>\n",
              "      <td>일일(톤)</td>\n",
              "      <td>연간(톤)</td>\n",
              "      <td>일일(톤)</td>\n",
              "    </tr>\n",
              "    <tr>\n",
              "      <th>금정구</th>\n",
              "      <td>7240</td>\n",
              "      <td>20</td>\n",
              "      <td>56153</td>\n",
              "      <td>154</td>\n",
              "    </tr>\n",
              "  </tbody>\n",
              "</table>\n",
              "</div>"
            ],
            "text/plain": [
              "항목        매립     매립    재활용    재활용\n",
              "구분(톤)  연간(톤)  일일(톤)  연간(톤)  일일(톤)\n",
              "금정구     7240     20  56153    154"
            ]
          },
          "metadata": {
            "tags": []
          },
          "execution_count": 141
        }
      ]
    },
    {
      "cell_type": "markdown",
      "metadata": {
        "id": "wghku9rqxFCD",
        "colab_type": "text"
      },
      "source": [
        "\n",
        "\n",
        "---\n",
        "해결문제) 부산시기온.csv파일을 읽어서 2018년 최고, 최저 기온을 추출하고 통계량을 표시하시오.\n",
        "\n",
        "\n",
        "---\n",
        "\n",
        "\n"
      ]
    },
    {
      "cell_type": "code",
      "metadata": {
        "id": "r7m8DqnxxgT_",
        "colab_type": "code",
        "colab": {
          "base_uri": "https://localhost:8080/",
          "height": 935
        },
        "outputId": "1b74dee4-e09f-485d-a898-79cb0aad1573"
      },
      "source": [
        "dfbusan = pd.read_csv('/content/drive/My Drive/PythonWork/PythonBasic/04/부산시기온.csv',engine='python')\n",
        "dfbusan"
      ],
      "execution_count": null,
      "outputs": [
        {
          "output_type": "execute_result",
          "data": {
            "text/html": [
              "<div>\n",
              "<style scoped>\n",
              "    .dataframe tbody tr th:only-of-type {\n",
              "        vertical-align: middle;\n",
              "    }\n",
              "\n",
              "    .dataframe tbody tr th {\n",
              "        vertical-align: top;\n",
              "    }\n",
              "\n",
              "    .dataframe thead th {\n",
              "        text-align: right;\n",
              "    }\n",
              "</style>\n",
              "<table border=\"1\" class=\"dataframe\">\n",
              "  <thead>\n",
              "    <tr style=\"text-align: right;\">\n",
              "      <th></th>\n",
              "      <th>일시</th>\n",
              "      <th>평균</th>\n",
              "      <th>최고</th>\n",
              "      <th>최저</th>\n",
              "    </tr>\n",
              "  </thead>\n",
              "  <tbody>\n",
              "    <tr>\n",
              "      <th>0</th>\n",
              "      <td>2017-01-01</td>\n",
              "      <td>4.1</td>\n",
              "      <td>15.1</td>\n",
              "      <td>-7.7</td>\n",
              "    </tr>\n",
              "    <tr>\n",
              "      <th>1</th>\n",
              "      <td>2017-02-01</td>\n",
              "      <td>5.5</td>\n",
              "      <td>17.7</td>\n",
              "      <td>-5.7</td>\n",
              "    </tr>\n",
              "    <tr>\n",
              "      <th>2</th>\n",
              "      <td>2017-03-01</td>\n",
              "      <td>9.0</td>\n",
              "      <td>18.1</td>\n",
              "      <td>-2.3</td>\n",
              "    </tr>\n",
              "    <tr>\n",
              "      <th>3</th>\n",
              "      <td>2017-04-01</td>\n",
              "      <td>15.0</td>\n",
              "      <td>23.2</td>\n",
              "      <td>5.0</td>\n",
              "    </tr>\n",
              "    <tr>\n",
              "      <th>4</th>\n",
              "      <td>2017-05-01</td>\n",
              "      <td>19.0</td>\n",
              "      <td>28.2</td>\n",
              "      <td>12.8</td>\n",
              "    </tr>\n",
              "    <tr>\n",
              "      <th>5</th>\n",
              "      <td>2017-06-01</td>\n",
              "      <td>21.3</td>\n",
              "      <td>30.4</td>\n",
              "      <td>15.4</td>\n",
              "    </tr>\n",
              "    <tr>\n",
              "      <th>6</th>\n",
              "      <td>2017-07-01</td>\n",
              "      <td>26.1</td>\n",
              "      <td>32.7</td>\n",
              "      <td>21.2</td>\n",
              "    </tr>\n",
              "    <tr>\n",
              "      <th>7</th>\n",
              "      <td>2017-08-01</td>\n",
              "      <td>27.0</td>\n",
              "      <td>36.2</td>\n",
              "      <td>18.7</td>\n",
              "    </tr>\n",
              "    <tr>\n",
              "      <th>8</th>\n",
              "      <td>2017-09-01</td>\n",
              "      <td>22.6</td>\n",
              "      <td>29.7</td>\n",
              "      <td>14.5</td>\n",
              "    </tr>\n",
              "    <tr>\n",
              "      <th>9</th>\n",
              "      <td>2017-10-01</td>\n",
              "      <td>18.1</td>\n",
              "      <td>28.7</td>\n",
              "      <td>7.3</td>\n",
              "    </tr>\n",
              "    <tr>\n",
              "      <th>10</th>\n",
              "      <td>2017-11-01</td>\n",
              "      <td>11.2</td>\n",
              "      <td>23.6</td>\n",
              "      <td>-1.0</td>\n",
              "    </tr>\n",
              "    <tr>\n",
              "      <th>11</th>\n",
              "      <td>2017-12-01</td>\n",
              "      <td>3.6</td>\n",
              "      <td>14.5</td>\n",
              "      <td>-6.1</td>\n",
              "    </tr>\n",
              "    <tr>\n",
              "      <th>12</th>\n",
              "      <td>2018-01-01</td>\n",
              "      <td>1.9</td>\n",
              "      <td>14.0</td>\n",
              "      <td>-9.9</td>\n",
              "    </tr>\n",
              "    <tr>\n",
              "      <th>13</th>\n",
              "      <td>2018-02-01</td>\n",
              "      <td>3.9</td>\n",
              "      <td>14.7</td>\n",
              "      <td>-9.6</td>\n",
              "    </tr>\n",
              "    <tr>\n",
              "      <th>14</th>\n",
              "      <td>2018-03-01</td>\n",
              "      <td>10.0</td>\n",
              "      <td>22.3</td>\n",
              "      <td>-0.7</td>\n",
              "    </tr>\n",
              "    <tr>\n",
              "      <th>15</th>\n",
              "      <td>2018-04-01</td>\n",
              "      <td>14.5</td>\n",
              "      <td>24.3</td>\n",
              "      <td>3.0</td>\n",
              "    </tr>\n",
              "    <tr>\n",
              "      <th>16</th>\n",
              "      <td>2018-05-01</td>\n",
              "      <td>17.8</td>\n",
              "      <td>26.6</td>\n",
              "      <td>9.8</td>\n",
              "    </tr>\n",
              "    <tr>\n",
              "      <th>17</th>\n",
              "      <td>2018-06-01</td>\n",
              "      <td>21.5</td>\n",
              "      <td>31.3</td>\n",
              "      <td>15.1</td>\n",
              "    </tr>\n",
              "    <tr>\n",
              "      <th>18</th>\n",
              "      <td>2018-07-01</td>\n",
              "      <td>26.7</td>\n",
              "      <td>35.4</td>\n",
              "      <td>17.8</td>\n",
              "    </tr>\n",
              "    <tr>\n",
              "      <th>19</th>\n",
              "      <td>2018-08-01</td>\n",
              "      <td>27.9</td>\n",
              "      <td>36.4</td>\n",
              "      <td>21.2</td>\n",
              "    </tr>\n",
              "    <tr>\n",
              "      <th>20</th>\n",
              "      <td>2018-09-01</td>\n",
              "      <td>21.9</td>\n",
              "      <td>30.0</td>\n",
              "      <td>14.9</td>\n",
              "    </tr>\n",
              "    <tr>\n",
              "      <th>21</th>\n",
              "      <td>2018-10-01</td>\n",
              "      <td>16.4</td>\n",
              "      <td>25.6</td>\n",
              "      <td>7.9</td>\n",
              "    </tr>\n",
              "    <tr>\n",
              "      <th>22</th>\n",
              "      <td>2018-11-01</td>\n",
              "      <td>12.4</td>\n",
              "      <td>22.5</td>\n",
              "      <td>2.7</td>\n",
              "    </tr>\n",
              "    <tr>\n",
              "      <th>23</th>\n",
              "      <td>2018-12-01</td>\n",
              "      <td>5.7</td>\n",
              "      <td>18.8</td>\n",
              "      <td>-7.1</td>\n",
              "    </tr>\n",
              "    <tr>\n",
              "      <th>24</th>\n",
              "      <td>2019-01-01</td>\n",
              "      <td>4.5</td>\n",
              "      <td>13.7</td>\n",
              "      <td>-4.4</td>\n",
              "    </tr>\n",
              "    <tr>\n",
              "      <th>25</th>\n",
              "      <td>2019-02-01</td>\n",
              "      <td>6.6</td>\n",
              "      <td>16.5</td>\n",
              "      <td>-4.2</td>\n",
              "    </tr>\n",
              "    <tr>\n",
              "      <th>26</th>\n",
              "      <td>2019-03-01</td>\n",
              "      <td>10.5</td>\n",
              "      <td>21.0</td>\n",
              "      <td>0.5</td>\n",
              "    </tr>\n",
              "    <tr>\n",
              "      <th>27</th>\n",
              "      <td>2019-04-01</td>\n",
              "      <td>13.4</td>\n",
              "      <td>23.4</td>\n",
              "      <td>2.1</td>\n",
              "    </tr>\n",
              "    <tr>\n",
              "      <th>28</th>\n",
              "      <td>2019-05-01</td>\n",
              "      <td>19.3</td>\n",
              "      <td>30.1</td>\n",
              "      <td>11.0</td>\n",
              "    </tr>\n",
              "    <tr>\n",
              "      <th>29</th>\n",
              "      <td>2019-06-01</td>\n",
              "      <td>21.1</td>\n",
              "      <td>29.7</td>\n",
              "      <td>15.5</td>\n",
              "    </tr>\n",
              "  </tbody>\n",
              "</table>\n",
              "</div>"
            ],
            "text/plain": [
              "            일시    평균    최고    최저\n",
              "0   2017-01-01   4.1  15.1  -7.7\n",
              "1   2017-02-01   5.5  17.7  -5.7\n",
              "2   2017-03-01   9.0  18.1  -2.3\n",
              "3   2017-04-01  15.0  23.2   5.0\n",
              "4   2017-05-01  19.0  28.2  12.8\n",
              "5   2017-06-01  21.3  30.4  15.4\n",
              "6   2017-07-01  26.1  32.7  21.2\n",
              "7   2017-08-01  27.0  36.2  18.7\n",
              "8   2017-09-01  22.6  29.7  14.5\n",
              "9   2017-10-01  18.1  28.7   7.3\n",
              "10  2017-11-01  11.2  23.6  -1.0\n",
              "11  2017-12-01   3.6  14.5  -6.1\n",
              "12  2018-01-01   1.9  14.0  -9.9\n",
              "13  2018-02-01   3.9  14.7  -9.6\n",
              "14  2018-03-01  10.0  22.3  -0.7\n",
              "15  2018-04-01  14.5  24.3   3.0\n",
              "16  2018-05-01  17.8  26.6   9.8\n",
              "17  2018-06-01  21.5  31.3  15.1\n",
              "18  2018-07-01  26.7  35.4  17.8\n",
              "19  2018-08-01  27.9  36.4  21.2\n",
              "20  2018-09-01  21.9  30.0  14.9\n",
              "21  2018-10-01  16.4  25.6   7.9\n",
              "22  2018-11-01  12.4  22.5   2.7\n",
              "23  2018-12-01   5.7  18.8  -7.1\n",
              "24  2019-01-01   4.5  13.7  -4.4\n",
              "25  2019-02-01   6.6  16.5  -4.2\n",
              "26  2019-03-01  10.5  21.0   0.5\n",
              "27  2019-04-01  13.4  23.4   2.1\n",
              "28  2019-05-01  19.3  30.1  11.0\n",
              "29  2019-06-01  21.1  29.7  15.5"
            ]
          },
          "metadata": {
            "tags": []
          },
          "execution_count": 38
        }
      ]
    },
    {
      "cell_type": "code",
      "metadata": {
        "id": "mZeSVt7PzkHo",
        "colab_type": "code",
        "colab": {
          "base_uri": "https://localhost:8080/",
          "height": 34
        },
        "outputId": "72fe3f9a-4bd1-4d79-fac9-6e856fad06c3"
      },
      "source": [
        "dfbusan.columns"
      ],
      "execution_count": null,
      "outputs": [
        {
          "output_type": "execute_result",
          "data": {
            "text/plain": [
              "Index(['일시', '평균', '최고', '최저'], dtype='object')"
            ]
          },
          "metadata": {
            "tags": []
          },
          "execution_count": 39
        }
      ]
    },
    {
      "cell_type": "code",
      "metadata": {
        "id": "3_pPKrfyzFFK",
        "colab_type": "code",
        "colab": {
          "base_uri": "https://localhost:8080/",
          "height": 402
        },
        "outputId": "af70bed8-38db-4deb-a0f8-2a15f63b7b4f"
      },
      "source": [
        "dfbusan = dfbusan.loc[12:23, ['일시','최고','최저']]\n",
        "dfbusan"
      ],
      "execution_count": null,
      "outputs": [
        {
          "output_type": "execute_result",
          "data": {
            "text/html": [
              "<div>\n",
              "<style scoped>\n",
              "    .dataframe tbody tr th:only-of-type {\n",
              "        vertical-align: middle;\n",
              "    }\n",
              "\n",
              "    .dataframe tbody tr th {\n",
              "        vertical-align: top;\n",
              "    }\n",
              "\n",
              "    .dataframe thead th {\n",
              "        text-align: right;\n",
              "    }\n",
              "</style>\n",
              "<table border=\"1\" class=\"dataframe\">\n",
              "  <thead>\n",
              "    <tr style=\"text-align: right;\">\n",
              "      <th></th>\n",
              "      <th>일시</th>\n",
              "      <th>최고</th>\n",
              "      <th>최저</th>\n",
              "    </tr>\n",
              "  </thead>\n",
              "  <tbody>\n",
              "    <tr>\n",
              "      <th>12</th>\n",
              "      <td>2018-01-01</td>\n",
              "      <td>14.0</td>\n",
              "      <td>-9.9</td>\n",
              "    </tr>\n",
              "    <tr>\n",
              "      <th>13</th>\n",
              "      <td>2018-02-01</td>\n",
              "      <td>14.7</td>\n",
              "      <td>-9.6</td>\n",
              "    </tr>\n",
              "    <tr>\n",
              "      <th>14</th>\n",
              "      <td>2018-03-01</td>\n",
              "      <td>22.3</td>\n",
              "      <td>-0.7</td>\n",
              "    </tr>\n",
              "    <tr>\n",
              "      <th>15</th>\n",
              "      <td>2018-04-01</td>\n",
              "      <td>24.3</td>\n",
              "      <td>3.0</td>\n",
              "    </tr>\n",
              "    <tr>\n",
              "      <th>16</th>\n",
              "      <td>2018-05-01</td>\n",
              "      <td>26.6</td>\n",
              "      <td>9.8</td>\n",
              "    </tr>\n",
              "    <tr>\n",
              "      <th>17</th>\n",
              "      <td>2018-06-01</td>\n",
              "      <td>31.3</td>\n",
              "      <td>15.1</td>\n",
              "    </tr>\n",
              "    <tr>\n",
              "      <th>18</th>\n",
              "      <td>2018-07-01</td>\n",
              "      <td>35.4</td>\n",
              "      <td>17.8</td>\n",
              "    </tr>\n",
              "    <tr>\n",
              "      <th>19</th>\n",
              "      <td>2018-08-01</td>\n",
              "      <td>36.4</td>\n",
              "      <td>21.2</td>\n",
              "    </tr>\n",
              "    <tr>\n",
              "      <th>20</th>\n",
              "      <td>2018-09-01</td>\n",
              "      <td>30.0</td>\n",
              "      <td>14.9</td>\n",
              "    </tr>\n",
              "    <tr>\n",
              "      <th>21</th>\n",
              "      <td>2018-10-01</td>\n",
              "      <td>25.6</td>\n",
              "      <td>7.9</td>\n",
              "    </tr>\n",
              "    <tr>\n",
              "      <th>22</th>\n",
              "      <td>2018-11-01</td>\n",
              "      <td>22.5</td>\n",
              "      <td>2.7</td>\n",
              "    </tr>\n",
              "    <tr>\n",
              "      <th>23</th>\n",
              "      <td>2018-12-01</td>\n",
              "      <td>18.8</td>\n",
              "      <td>-7.1</td>\n",
              "    </tr>\n",
              "  </tbody>\n",
              "</table>\n",
              "</div>"
            ],
            "text/plain": [
              "            일시    최고    최저\n",
              "12  2018-01-01  14.0  -9.9\n",
              "13  2018-02-01  14.7  -9.6\n",
              "14  2018-03-01  22.3  -0.7\n",
              "15  2018-04-01  24.3   3.0\n",
              "16  2018-05-01  26.6   9.8\n",
              "17  2018-06-01  31.3  15.1\n",
              "18  2018-07-01  35.4  17.8\n",
              "19  2018-08-01  36.4  21.2\n",
              "20  2018-09-01  30.0  14.9\n",
              "21  2018-10-01  25.6   7.9\n",
              "22  2018-11-01  22.5   2.7\n",
              "23  2018-12-01  18.8  -7.1"
            ]
          },
          "metadata": {
            "tags": []
          },
          "execution_count": 40
        }
      ]
    },
    {
      "cell_type": "code",
      "metadata": {
        "id": "5-FazgZXztqJ",
        "colab_type": "code",
        "colab": {
          "base_uri": "https://localhost:8080/",
          "height": 284
        },
        "outputId": "b59b43b5-7805-482e-9c0f-d9fe73f15475"
      },
      "source": [
        "dfbusan.describe()"
      ],
      "execution_count": null,
      "outputs": [
        {
          "output_type": "execute_result",
          "data": {
            "text/html": [
              "<div>\n",
              "<style scoped>\n",
              "    .dataframe tbody tr th:only-of-type {\n",
              "        vertical-align: middle;\n",
              "    }\n",
              "\n",
              "    .dataframe tbody tr th {\n",
              "        vertical-align: top;\n",
              "    }\n",
              "\n",
              "    .dataframe thead th {\n",
              "        text-align: right;\n",
              "    }\n",
              "</style>\n",
              "<table border=\"1\" class=\"dataframe\">\n",
              "  <thead>\n",
              "    <tr style=\"text-align: right;\">\n",
              "      <th></th>\n",
              "      <th>최고</th>\n",
              "      <th>최저</th>\n",
              "    </tr>\n",
              "  </thead>\n",
              "  <tbody>\n",
              "    <tr>\n",
              "      <th>count</th>\n",
              "      <td>12.000000</td>\n",
              "      <td>12.000000</td>\n",
              "    </tr>\n",
              "    <tr>\n",
              "      <th>mean</th>\n",
              "      <td>25.158333</td>\n",
              "      <td>5.425000</td>\n",
              "    </tr>\n",
              "    <tr>\n",
              "      <th>std</th>\n",
              "      <td>7.292519</td>\n",
              "      <td>10.782741</td>\n",
              "    </tr>\n",
              "    <tr>\n",
              "      <th>min</th>\n",
              "      <td>14.000000</td>\n",
              "      <td>-9.900000</td>\n",
              "    </tr>\n",
              "    <tr>\n",
              "      <th>25%</th>\n",
              "      <td>21.425000</td>\n",
              "      <td>-2.300000</td>\n",
              "    </tr>\n",
              "    <tr>\n",
              "      <th>50%</th>\n",
              "      <td>24.950000</td>\n",
              "      <td>5.450000</td>\n",
              "    </tr>\n",
              "    <tr>\n",
              "      <th>75%</th>\n",
              "      <td>30.325000</td>\n",
              "      <td>14.950000</td>\n",
              "    </tr>\n",
              "    <tr>\n",
              "      <th>max</th>\n",
              "      <td>36.400000</td>\n",
              "      <td>21.200000</td>\n",
              "    </tr>\n",
              "  </tbody>\n",
              "</table>\n",
              "</div>"
            ],
            "text/plain": [
              "              최고         최저\n",
              "count  12.000000  12.000000\n",
              "mean   25.158333   5.425000\n",
              "std     7.292519  10.782741\n",
              "min    14.000000  -9.900000\n",
              "25%    21.425000  -2.300000\n",
              "50%    24.950000   5.450000\n",
              "75%    30.325000  14.950000\n",
              "max    36.400000  21.200000"
            ]
          },
          "metadata": {
            "tags": []
          },
          "execution_count": 41
        }
      ]
    },
    {
      "cell_type": "markdown",
      "metadata": {
        "id": "iMJIxGQ5ZBRE",
        "colab_type": "text"
      },
      "source": [
        "#### 데이터 유형 확인 \n",
        "+ 데이터프레임.dtypes : 각열의 유형을 알려줌"
      ]
    },
    {
      "cell_type": "code",
      "metadata": {
        "id": "20dCvZmOa8me",
        "colab_type": "code",
        "colab": {
          "base_uri": "https://localhost:8080/",
          "height": 457
        },
        "outputId": "ec1f2f9d-4121-4699-a11f-c20b25569a5a"
      },
      "source": [
        "df.info()"
      ],
      "execution_count": null,
      "outputs": [
        {
          "output_type": "stream",
          "text": [
            "<class 'pandas.core.frame.DataFrame'>\n",
            "RangeIndex: 8 entries, 0 to 7\n",
            "Data columns (total 18 columns):\n",
            " #   Column  Non-Null Count  Dtype \n",
            "---  ------  --------------  ----- \n",
            " 0   항목      8 non-null      object\n",
            " 1   구분      8 non-null      object\n",
            " 2   중구      8 non-null      int64 \n",
            " 3   서구      8 non-null      int64 \n",
            " 4   동구      8 non-null      int64 \n",
            " 5   영도구     8 non-null      int64 \n",
            " 6   부산진구    8 non-null      int64 \n",
            " 7   동래구     8 non-null      int64 \n",
            " 8   남구      8 non-null      int64 \n",
            " 9   북구      8 non-null      int64 \n",
            " 10  해운대구    8 non-null      int64 \n",
            " 11  사하구     8 non-null      int64 \n",
            " 12  금정구     8 non-null      int64 \n",
            " 13  강서구     8 non-null      int64 \n",
            " 14  연제구     8 non-null      int64 \n",
            " 15  수영구     8 non-null      int64 \n",
            " 16  사상구     8 non-null      int64 \n",
            " 17  기장군     8 non-null      int64 \n",
            "dtypes: int64(16), object(2)\n",
            "memory usage: 1.2+ KB\n"
          ],
          "name": "stdout"
        }
      ]
    },
    {
      "cell_type": "code",
      "metadata": {
        "id": "u7TWPKJna5s7",
        "colab_type": "code",
        "colab": {
          "base_uri": "https://localhost:8080/",
          "height": 351
        },
        "outputId": "cd05261e-4876-4be4-a10e-bff304a72242"
      },
      "source": [
        "df.dtypes"
      ],
      "execution_count": null,
      "outputs": [
        {
          "output_type": "execute_result",
          "data": {
            "text/plain": [
              "항목      object\n",
              "구분      object\n",
              "중구       int64\n",
              "서구       int64\n",
              "동구       int64\n",
              "영도구      int64\n",
              "부산진구     int64\n",
              "동래구      int64\n",
              "남구       int64\n",
              "북구       int64\n",
              "해운대구     int64\n",
              "사하구      int64\n",
              "금정구      int64\n",
              "강서구      int64\n",
              "연제구      int64\n",
              "수영구      int64\n",
              "사상구      int64\n",
              "기장군      int64\n",
              "dtype: object"
            ]
          },
          "metadata": {
            "tags": []
          },
          "execution_count": 43
        }
      ]
    },
    {
      "cell_type": "markdown",
      "metadata": {
        "id": "qpdvtsjVbrr4",
        "colab_type": "text"
      },
      "source": [
        "+ 열시리즈.astype() : 특정 유형으로 변경\n",
        " - .astype(float64) , .astype(float32) , .astype(float16), .astype(int)\n",
        " - .astype(str)"
      ]
    },
    {
      "cell_type": "code",
      "metadata": {
        "id": "e4HtNFf-NErc",
        "colab_type": "code",
        "colab": {}
      },
      "source": [
        "df = dfbusan"
      ],
      "execution_count": null,
      "outputs": []
    },
    {
      "cell_type": "code",
      "metadata": {
        "id": "AbG9w-WTM1gJ",
        "colab_type": "code",
        "colab": {
          "base_uri": "https://localhost:8080/",
          "height": 210
        },
        "outputId": "0902d73d-8fd7-4b11-ebd7-7a71ac41f16f"
      },
      "source": [
        "df['차이'] = df['최고'] - df['최저']\n",
        "df.info()"
      ],
      "execution_count": null,
      "outputs": [
        {
          "output_type": "stream",
          "text": [
            "<class 'pandas.core.frame.DataFrame'>\n",
            "RangeIndex: 12 entries, 12 to 23\n",
            "Data columns (total 4 columns):\n",
            " #   Column  Non-Null Count  Dtype  \n",
            "---  ------  --------------  -----  \n",
            " 0   일시      12 non-null     object \n",
            " 1   최고      12 non-null     float64\n",
            " 2   최저      12 non-null     float64\n",
            " 3   차이      12 non-null     float64\n",
            "dtypes: float64(3), object(1)\n",
            "memory usage: 516.0+ bytes\n"
          ],
          "name": "stdout"
        }
      ]
    },
    {
      "cell_type": "code",
      "metadata": {
        "id": "kG0oGxbObq1R",
        "colab_type": "code",
        "colab": {
          "base_uri": "https://localhost:8080/",
          "height": 105
        },
        "outputId": "ed3abdee-ccf6-4e5b-e842-011830c757ab"
      },
      "source": [
        "df['차이'] = df['차이'].astype(int)\n",
        "df.dtypes"
      ],
      "execution_count": null,
      "outputs": [
        {
          "output_type": "execute_result",
          "data": {
            "text/plain": [
              "일시     object\n",
              "최고    float64\n",
              "최저    float64\n",
              "차이      int64\n",
              "dtype: object"
            ]
          },
          "metadata": {
            "tags": []
          },
          "execution_count": 49
        }
      ]
    },
    {
      "cell_type": "code",
      "metadata": {
        "id": "VDMRDPT8cc-M",
        "colab_type": "code",
        "colab": {
          "base_uri": "https://localhost:8080/",
          "height": 106
        },
        "outputId": "411b08a3-5037-4cd7-be22-cfdef1a4cdf7"
      },
      "source": [
        "df.head(2)"
      ],
      "execution_count": null,
      "outputs": [
        {
          "output_type": "execute_result",
          "data": {
            "text/html": [
              "<div>\n",
              "<style scoped>\n",
              "    .dataframe tbody tr th:only-of-type {\n",
              "        vertical-align: middle;\n",
              "    }\n",
              "\n",
              "    .dataframe tbody tr th {\n",
              "        vertical-align: top;\n",
              "    }\n",
              "\n",
              "    .dataframe thead th {\n",
              "        text-align: right;\n",
              "    }\n",
              "</style>\n",
              "<table border=\"1\" class=\"dataframe\">\n",
              "  <thead>\n",
              "    <tr style=\"text-align: right;\">\n",
              "      <th></th>\n",
              "      <th>일시</th>\n",
              "      <th>최고</th>\n",
              "      <th>최저</th>\n",
              "      <th>차이</th>\n",
              "    </tr>\n",
              "  </thead>\n",
              "  <tbody>\n",
              "    <tr>\n",
              "      <th>12</th>\n",
              "      <td>2018-01-01</td>\n",
              "      <td>14.0</td>\n",
              "      <td>-9.9</td>\n",
              "      <td>23</td>\n",
              "    </tr>\n",
              "    <tr>\n",
              "      <th>13</th>\n",
              "      <td>2018-02-01</td>\n",
              "      <td>14.7</td>\n",
              "      <td>-9.6</td>\n",
              "      <td>24</td>\n",
              "    </tr>\n",
              "  </tbody>\n",
              "</table>\n",
              "</div>"
            ],
            "text/plain": [
              "            일시    최고   최저  차이\n",
              "12  2018-01-01  14.0 -9.9  23\n",
              "13  2018-02-01  14.7 -9.6  24"
            ]
          },
          "metadata": {
            "tags": []
          },
          "execution_count": 51
        }
      ]
    },
    {
      "cell_type": "markdown",
      "metadata": {
        "id": "70XE1PR5e-ae",
        "colab_type": "text"
      },
      "source": [
        "+ pd.to_numeric() : 숫자 유형으로 변경\n",
        " - errors 매개 변수 \n",
        " - errors='ignore' : 무시\n",
        " - errors='coerce' : NaN"
      ]
    },
    {
      "cell_type": "code",
      "metadata": {
        "id": "8VE7H5FPe6Dd",
        "colab_type": "code",
        "colab": {
          "base_uri": "https://localhost:8080/",
          "height": 136
        },
        "outputId": "8046cd0a-2006-43ed-f97c-00087875ac73"
      },
      "source": [
        "lt = ['1','2','a']\n",
        "df2 = pd.DataFrame(lt)\n",
        "df2.columns = ['자료']\n",
        "df2"
      ],
      "execution_count": null,
      "outputs": [
        {
          "output_type": "execute_result",
          "data": {
            "text/html": [
              "<div>\n",
              "<style scoped>\n",
              "    .dataframe tbody tr th:only-of-type {\n",
              "        vertical-align: middle;\n",
              "    }\n",
              "\n",
              "    .dataframe tbody tr th {\n",
              "        vertical-align: top;\n",
              "    }\n",
              "\n",
              "    .dataframe thead th {\n",
              "        text-align: right;\n",
              "    }\n",
              "</style>\n",
              "<table border=\"1\" class=\"dataframe\">\n",
              "  <thead>\n",
              "    <tr style=\"text-align: right;\">\n",
              "      <th></th>\n",
              "      <th>자료</th>\n",
              "    </tr>\n",
              "  </thead>\n",
              "  <tbody>\n",
              "    <tr>\n",
              "      <th>0</th>\n",
              "      <td>1</td>\n",
              "    </tr>\n",
              "    <tr>\n",
              "      <th>1</th>\n",
              "      <td>2</td>\n",
              "    </tr>\n",
              "    <tr>\n",
              "      <th>2</th>\n",
              "      <td>a</td>\n",
              "    </tr>\n",
              "  </tbody>\n",
              "</table>\n",
              "</div>"
            ],
            "text/plain": [
              "  자료\n",
              "0  1\n",
              "1  2\n",
              "2  a"
            ]
          },
          "metadata": {
            "tags": []
          },
          "execution_count": 52
        }
      ]
    },
    {
      "cell_type": "code",
      "metadata": {
        "id": "Pi7zcX1hfyuL",
        "colab_type": "code",
        "colab": {
          "base_uri": "https://localhost:8080/",
          "height": 52
        },
        "outputId": "b799cf6e-9b40-4e2f-c993-354376491828"
      },
      "source": [
        "df2.dtypes"
      ],
      "execution_count": null,
      "outputs": [
        {
          "output_type": "execute_result",
          "data": {
            "text/plain": [
              "자료    object\n",
              "dtype: object"
            ]
          },
          "metadata": {
            "tags": []
          },
          "execution_count": 53
        }
      ]
    },
    {
      "cell_type": "code",
      "metadata": {
        "id": "Z6wS1dHJgcn7",
        "colab_type": "code",
        "colab": {
          "base_uri": "https://localhost:8080/",
          "height": 468
        },
        "outputId": "807eab7b-4abc-4a1d-f922-0255b24a271d"
      },
      "source": [
        "df2['자료'] = pd.to_numeric(df2['자료'])\n",
        "df2.dtypes"
      ],
      "execution_count": null,
      "outputs": [
        {
          "output_type": "error",
          "ename": "ValueError",
          "evalue": "ignored",
          "traceback": [
            "\u001b[0;31m---------------------------------------------------------------------------\u001b[0m",
            "\u001b[0;31mValueError\u001b[0m                                Traceback (most recent call last)",
            "\u001b[0;32mpandas/_libs/lib.pyx\u001b[0m in \u001b[0;36mpandas._libs.lib.maybe_convert_numeric\u001b[0;34m()\u001b[0m\n",
            "\u001b[0;31mValueError\u001b[0m: Unable to parse string \"a\"",
            "\nDuring handling of the above exception, another exception occurred:\n",
            "\u001b[0;31mValueError\u001b[0m                                Traceback (most recent call last)",
            "\u001b[0;32m<ipython-input-54-74e89c34f6e8>\u001b[0m in \u001b[0;36m<module>\u001b[0;34m()\u001b[0m\n\u001b[0;32m----> 1\u001b[0;31m \u001b[0mdf2\u001b[0m\u001b[0;34m[\u001b[0m\u001b[0;34m'자료'\u001b[0m\u001b[0;34m]\u001b[0m \u001b[0;34m=\u001b[0m \u001b[0mpd\u001b[0m\u001b[0;34m.\u001b[0m\u001b[0mto_numeric\u001b[0m\u001b[0;34m(\u001b[0m\u001b[0mdf2\u001b[0m\u001b[0;34m[\u001b[0m\u001b[0;34m'자료'\u001b[0m\u001b[0;34m]\u001b[0m\u001b[0;34m)\u001b[0m\u001b[0;34m\u001b[0m\u001b[0;34m\u001b[0m\u001b[0m\n\u001b[0m\u001b[1;32m      2\u001b[0m \u001b[0mdf2\u001b[0m\u001b[0;34m.\u001b[0m\u001b[0mdtypes\u001b[0m\u001b[0;34m\u001b[0m\u001b[0;34m\u001b[0m\u001b[0m\n",
            "\u001b[0;32m/usr/local/lib/python3.6/dist-packages/pandas/core/tools/numeric.py\u001b[0m in \u001b[0;36mto_numeric\u001b[0;34m(arg, errors, downcast)\u001b[0m\n\u001b[1;32m    148\u001b[0m         \u001b[0;32mtry\u001b[0m\u001b[0;34m:\u001b[0m\u001b[0;34m\u001b[0m\u001b[0;34m\u001b[0m\u001b[0m\n\u001b[1;32m    149\u001b[0m             values = lib.maybe_convert_numeric(\n\u001b[0;32m--> 150\u001b[0;31m                 \u001b[0mvalues\u001b[0m\u001b[0;34m,\u001b[0m \u001b[0mset\u001b[0m\u001b[0;34m(\u001b[0m\u001b[0;34m)\u001b[0m\u001b[0;34m,\u001b[0m \u001b[0mcoerce_numeric\u001b[0m\u001b[0;34m=\u001b[0m\u001b[0mcoerce_numeric\u001b[0m\u001b[0;34m\u001b[0m\u001b[0;34m\u001b[0m\u001b[0m\n\u001b[0m\u001b[1;32m    151\u001b[0m             )\n\u001b[1;32m    152\u001b[0m         \u001b[0;32mexcept\u001b[0m \u001b[0;34m(\u001b[0m\u001b[0mValueError\u001b[0m\u001b[0;34m,\u001b[0m \u001b[0mTypeError\u001b[0m\u001b[0;34m)\u001b[0m\u001b[0;34m:\u001b[0m\u001b[0;34m\u001b[0m\u001b[0;34m\u001b[0m\u001b[0m\n",
            "\u001b[0;32mpandas/_libs/lib.pyx\u001b[0m in \u001b[0;36mpandas._libs.lib.maybe_convert_numeric\u001b[0;34m()\u001b[0m\n",
            "\u001b[0;31mValueError\u001b[0m: Unable to parse string \"a\" at position 2"
          ]
        }
      ]
    },
    {
      "cell_type": "code",
      "metadata": {
        "id": "RCdB3cJphH72",
        "colab_type": "code",
        "colab": {
          "base_uri": "https://localhost:8080/",
          "height": 136
        },
        "outputId": "0075f58b-232b-435b-fae7-00dd81048b1f"
      },
      "source": [
        "df2['자료'] = pd.to_numeric(df2['자료'], errors='ignore')\n",
        "df2"
      ],
      "execution_count": null,
      "outputs": [
        {
          "output_type": "execute_result",
          "data": {
            "text/html": [
              "<div>\n",
              "<style scoped>\n",
              "    .dataframe tbody tr th:only-of-type {\n",
              "        vertical-align: middle;\n",
              "    }\n",
              "\n",
              "    .dataframe tbody tr th {\n",
              "        vertical-align: top;\n",
              "    }\n",
              "\n",
              "    .dataframe thead th {\n",
              "        text-align: right;\n",
              "    }\n",
              "</style>\n",
              "<table border=\"1\" class=\"dataframe\">\n",
              "  <thead>\n",
              "    <tr style=\"text-align: right;\">\n",
              "      <th></th>\n",
              "      <th>자료</th>\n",
              "    </tr>\n",
              "  </thead>\n",
              "  <tbody>\n",
              "    <tr>\n",
              "      <th>0</th>\n",
              "      <td>1</td>\n",
              "    </tr>\n",
              "    <tr>\n",
              "      <th>1</th>\n",
              "      <td>2</td>\n",
              "    </tr>\n",
              "    <tr>\n",
              "      <th>2</th>\n",
              "      <td>a</td>\n",
              "    </tr>\n",
              "  </tbody>\n",
              "</table>\n",
              "</div>"
            ],
            "text/plain": [
              "  자료\n",
              "0  1\n",
              "1  2\n",
              "2  a"
            ]
          },
          "metadata": {
            "tags": []
          },
          "execution_count": 55
        }
      ]
    },
    {
      "cell_type": "code",
      "metadata": {
        "id": "FNxUv43KhP2q",
        "colab_type": "code",
        "colab": {
          "base_uri": "https://localhost:8080/",
          "height": 52
        },
        "outputId": "9e87e475-c535-4371-c1fe-f9017d708a3a"
      },
      "source": [
        "df2.dtypes"
      ],
      "execution_count": null,
      "outputs": [
        {
          "output_type": "execute_result",
          "data": {
            "text/plain": [
              "자료    object\n",
              "dtype: object"
            ]
          },
          "metadata": {
            "tags": []
          },
          "execution_count": 56
        }
      ]
    },
    {
      "cell_type": "code",
      "metadata": {
        "id": "7A2GxyXbhTpb",
        "colab_type": "code",
        "colab": {
          "base_uri": "https://localhost:8080/",
          "height": 136
        },
        "outputId": "fff3a369-ab91-475a-e755-8582fa16a684"
      },
      "source": [
        "df2['자료'] = pd.to_numeric(df2['자료'], errors='coerce' )\n",
        "df2"
      ],
      "execution_count": null,
      "outputs": [
        {
          "output_type": "execute_result",
          "data": {
            "text/html": [
              "<div>\n",
              "<style scoped>\n",
              "    .dataframe tbody tr th:only-of-type {\n",
              "        vertical-align: middle;\n",
              "    }\n",
              "\n",
              "    .dataframe tbody tr th {\n",
              "        vertical-align: top;\n",
              "    }\n",
              "\n",
              "    .dataframe thead th {\n",
              "        text-align: right;\n",
              "    }\n",
              "</style>\n",
              "<table border=\"1\" class=\"dataframe\">\n",
              "  <thead>\n",
              "    <tr style=\"text-align: right;\">\n",
              "      <th></th>\n",
              "      <th>자료</th>\n",
              "    </tr>\n",
              "  </thead>\n",
              "  <tbody>\n",
              "    <tr>\n",
              "      <th>0</th>\n",
              "      <td>1.0</td>\n",
              "    </tr>\n",
              "    <tr>\n",
              "      <th>1</th>\n",
              "      <td>2.0</td>\n",
              "    </tr>\n",
              "    <tr>\n",
              "      <th>2</th>\n",
              "      <td>NaN</td>\n",
              "    </tr>\n",
              "  </tbody>\n",
              "</table>\n",
              "</div>"
            ],
            "text/plain": [
              "    자료\n",
              "0  1.0\n",
              "1  2.0\n",
              "2  NaN"
            ]
          },
          "metadata": {
            "tags": []
          },
          "execution_count": 57
        }
      ]
    },
    {
      "cell_type": "code",
      "metadata": {
        "id": "MDkivDO6haB7",
        "colab_type": "code",
        "colab": {
          "base_uri": "https://localhost:8080/",
          "height": 52
        },
        "outputId": "3aab686f-872a-4128-9d93-bf4cf3e109a9"
      },
      "source": [
        "df2.dtypes"
      ],
      "execution_count": null,
      "outputs": [
        {
          "output_type": "execute_result",
          "data": {
            "text/plain": [
              "자료    float64\n",
              "dtype: object"
            ]
          },
          "metadata": {
            "tags": []
          },
          "execution_count": 58
        }
      ]
    },
    {
      "cell_type": "markdown",
      "metadata": {
        "id": "CN_r0lDl19NW",
        "colab_type": "text"
      },
      "source": [
        "+ pd.to_datetime(열명)\n",
        " - .dt.year : 년도\n",
        " - .dt.month : 월\n",
        " - .dt.day : 일 "
      ]
    },
    {
      "cell_type": "markdown",
      "metadata": {
        "id": "fE8Iiy-URxN-",
        "colab_type": "text"
      },
      "source": [
        "참고 ) Accessors(접근자) : dtype 관련 메소드로 Series 내에서 특정 데이터 형식에만 적용되는 별도의 네임 스페이스\n",
        "\n",
        "[참고사이트](https://pandas.pydata.org/pandas-docs/stable/reference/series.html#time-series-related)"
      ]
    },
    {
      "cell_type": "code",
      "metadata": {
        "id": "mYVoKVRx18ZP",
        "colab_type": "code",
        "colab": {
          "base_uri": "https://localhost:8080/",
          "height": 210
        },
        "outputId": "b3d41b89-3075-476d-f128-cd6d87ff54dc"
      },
      "source": [
        "df.info()"
      ],
      "execution_count": null,
      "outputs": [
        {
          "output_type": "stream",
          "text": [
            "<class 'pandas.core.frame.DataFrame'>\n",
            "RangeIndex: 12 entries, 12 to 23\n",
            "Data columns (total 4 columns):\n",
            " #   Column  Non-Null Count  Dtype         \n",
            "---  ------  --------------  -----         \n",
            " 0   일시      12 non-null     datetime64[ns]\n",
            " 1   최고      12 non-null     float64       \n",
            " 2   최저      12 non-null     float64       \n",
            " 3   차이      12 non-null     int64         \n",
            "dtypes: datetime64[ns](1), float64(2), int64(1)\n",
            "memory usage: 516.0 bytes\n"
          ],
          "name": "stdout"
        }
      ]
    },
    {
      "cell_type": "code",
      "metadata": {
        "id": "LVnKM5Nn3s-Z",
        "colab_type": "code",
        "colab": {
          "base_uri": "https://localhost:8080/",
          "height": 210
        },
        "outputId": "3b952c47-0238-41ad-de70-0fde6dbcda92"
      },
      "source": [
        "df['일시'] = pd.to_datetime(df['일시'])\n",
        "df.info()"
      ],
      "execution_count": null,
      "outputs": [
        {
          "output_type": "stream",
          "text": [
            "<class 'pandas.core.frame.DataFrame'>\n",
            "RangeIndex: 12 entries, 12 to 23\n",
            "Data columns (total 4 columns):\n",
            " #   Column  Non-Null Count  Dtype         \n",
            "---  ------  --------------  -----         \n",
            " 0   일시      12 non-null     datetime64[ns]\n",
            " 1   최고      12 non-null     float64       \n",
            " 2   최저      12 non-null     float64       \n",
            " 3   차이      12 non-null     int64         \n",
            "dtypes: datetime64[ns](1), float64(2), int64(1)\n",
            "memory usage: 516.0 bytes\n"
          ],
          "name": "stdout"
        }
      ]
    },
    {
      "cell_type": "code",
      "metadata": {
        "id": "cQpHy5LY4Aij",
        "colab_type": "code",
        "colab": {
          "base_uri": "https://localhost:8080/",
          "height": 246
        },
        "outputId": "d15f84b1-b6a8-4fc8-8343-8f2928ead715"
      },
      "source": [
        "df['일시'].dt.year"
      ],
      "execution_count": null,
      "outputs": [
        {
          "output_type": "execute_result",
          "data": {
            "text/plain": [
              "12    2018\n",
              "13    2018\n",
              "14    2018\n",
              "15    2018\n",
              "16    2018\n",
              "17    2018\n",
              "18    2018\n",
              "19    2018\n",
              "20    2018\n",
              "21    2018\n",
              "22    2018\n",
              "23    2018\n",
              "Name: 일시, dtype: int64"
            ]
          },
          "metadata": {
            "tags": []
          },
          "execution_count": 65
        }
      ]
    },
    {
      "cell_type": "markdown",
      "metadata": {
        "id": "1BrayI_-6GEB",
        "colab_type": "text"
      },
      "source": [
        "####**열 추가**"
      ]
    },
    {
      "cell_type": "code",
      "metadata": {
        "id": "1CR24MvT5hR8",
        "colab_type": "code",
        "colab": {
          "base_uri": "https://localhost:8080/",
          "height": 402
        },
        "outputId": "e70d44d2-c77e-4f11-bbdb-b3fb8137b753"
      },
      "source": [
        "dfbusan['년도'] = dfbusan['일시'].dt.year\n",
        "dfbusan['월'] = dfbusan['일시'].dt.month\n",
        "dfbusan['일'] = dfbusan['일시'].dt.day\n",
        "dfbusan"
      ],
      "execution_count": null,
      "outputs": [
        {
          "output_type": "execute_result",
          "data": {
            "text/html": [
              "<div>\n",
              "<style scoped>\n",
              "    .dataframe tbody tr th:only-of-type {\n",
              "        vertical-align: middle;\n",
              "    }\n",
              "\n",
              "    .dataframe tbody tr th {\n",
              "        vertical-align: top;\n",
              "    }\n",
              "\n",
              "    .dataframe thead th {\n",
              "        text-align: right;\n",
              "    }\n",
              "</style>\n",
              "<table border=\"1\" class=\"dataframe\">\n",
              "  <thead>\n",
              "    <tr style=\"text-align: right;\">\n",
              "      <th></th>\n",
              "      <th>일시</th>\n",
              "      <th>최고</th>\n",
              "      <th>최저</th>\n",
              "      <th>차이</th>\n",
              "      <th>년도</th>\n",
              "      <th>월</th>\n",
              "      <th>일</th>\n",
              "    </tr>\n",
              "  </thead>\n",
              "  <tbody>\n",
              "    <tr>\n",
              "      <th>12</th>\n",
              "      <td>2018-01-01</td>\n",
              "      <td>14.0</td>\n",
              "      <td>-9.9</td>\n",
              "      <td>23</td>\n",
              "      <td>2018</td>\n",
              "      <td>1</td>\n",
              "      <td>1</td>\n",
              "    </tr>\n",
              "    <tr>\n",
              "      <th>13</th>\n",
              "      <td>2018-02-01</td>\n",
              "      <td>14.7</td>\n",
              "      <td>-9.6</td>\n",
              "      <td>24</td>\n",
              "      <td>2018</td>\n",
              "      <td>2</td>\n",
              "      <td>1</td>\n",
              "    </tr>\n",
              "    <tr>\n",
              "      <th>14</th>\n",
              "      <td>2018-03-01</td>\n",
              "      <td>22.3</td>\n",
              "      <td>-0.7</td>\n",
              "      <td>23</td>\n",
              "      <td>2018</td>\n",
              "      <td>3</td>\n",
              "      <td>1</td>\n",
              "    </tr>\n",
              "    <tr>\n",
              "      <th>15</th>\n",
              "      <td>2018-04-01</td>\n",
              "      <td>24.3</td>\n",
              "      <td>3.0</td>\n",
              "      <td>21</td>\n",
              "      <td>2018</td>\n",
              "      <td>4</td>\n",
              "      <td>1</td>\n",
              "    </tr>\n",
              "    <tr>\n",
              "      <th>16</th>\n",
              "      <td>2018-05-01</td>\n",
              "      <td>26.6</td>\n",
              "      <td>9.8</td>\n",
              "      <td>16</td>\n",
              "      <td>2018</td>\n",
              "      <td>5</td>\n",
              "      <td>1</td>\n",
              "    </tr>\n",
              "    <tr>\n",
              "      <th>17</th>\n",
              "      <td>2018-06-01</td>\n",
              "      <td>31.3</td>\n",
              "      <td>15.1</td>\n",
              "      <td>16</td>\n",
              "      <td>2018</td>\n",
              "      <td>6</td>\n",
              "      <td>1</td>\n",
              "    </tr>\n",
              "    <tr>\n",
              "      <th>18</th>\n",
              "      <td>2018-07-01</td>\n",
              "      <td>35.4</td>\n",
              "      <td>17.8</td>\n",
              "      <td>17</td>\n",
              "      <td>2018</td>\n",
              "      <td>7</td>\n",
              "      <td>1</td>\n",
              "    </tr>\n",
              "    <tr>\n",
              "      <th>19</th>\n",
              "      <td>2018-08-01</td>\n",
              "      <td>36.4</td>\n",
              "      <td>21.2</td>\n",
              "      <td>15</td>\n",
              "      <td>2018</td>\n",
              "      <td>8</td>\n",
              "      <td>1</td>\n",
              "    </tr>\n",
              "    <tr>\n",
              "      <th>20</th>\n",
              "      <td>2018-09-01</td>\n",
              "      <td>30.0</td>\n",
              "      <td>14.9</td>\n",
              "      <td>15</td>\n",
              "      <td>2018</td>\n",
              "      <td>9</td>\n",
              "      <td>1</td>\n",
              "    </tr>\n",
              "    <tr>\n",
              "      <th>21</th>\n",
              "      <td>2018-10-01</td>\n",
              "      <td>25.6</td>\n",
              "      <td>7.9</td>\n",
              "      <td>17</td>\n",
              "      <td>2018</td>\n",
              "      <td>10</td>\n",
              "      <td>1</td>\n",
              "    </tr>\n",
              "    <tr>\n",
              "      <th>22</th>\n",
              "      <td>2018-11-01</td>\n",
              "      <td>22.5</td>\n",
              "      <td>2.7</td>\n",
              "      <td>19</td>\n",
              "      <td>2018</td>\n",
              "      <td>11</td>\n",
              "      <td>1</td>\n",
              "    </tr>\n",
              "    <tr>\n",
              "      <th>23</th>\n",
              "      <td>2018-12-01</td>\n",
              "      <td>18.8</td>\n",
              "      <td>-7.1</td>\n",
              "      <td>25</td>\n",
              "      <td>2018</td>\n",
              "      <td>12</td>\n",
              "      <td>1</td>\n",
              "    </tr>\n",
              "  </tbody>\n",
              "</table>\n",
              "</div>"
            ],
            "text/plain": [
              "           일시    최고    최저  차이    년도   월  일\n",
              "12 2018-01-01  14.0  -9.9  23  2018   1  1\n",
              "13 2018-02-01  14.7  -9.6  24  2018   2  1\n",
              "14 2018-03-01  22.3  -0.7  23  2018   3  1\n",
              "15 2018-04-01  24.3   3.0  21  2018   4  1\n",
              "16 2018-05-01  26.6   9.8  16  2018   5  1\n",
              "17 2018-06-01  31.3  15.1  16  2018   6  1\n",
              "18 2018-07-01  35.4  17.8  17  2018   7  1\n",
              "19 2018-08-01  36.4  21.2  15  2018   8  1\n",
              "20 2018-09-01  30.0  14.9  15  2018   9  1\n",
              "21 2018-10-01  25.6   7.9  17  2018  10  1\n",
              "22 2018-11-01  22.5   2.7  19  2018  11  1\n",
              "23 2018-12-01  18.8  -7.1  25  2018  12  1"
            ]
          },
          "metadata": {
            "tags": []
          },
          "execution_count": 66
        }
      ]
    },
    {
      "cell_type": "code",
      "metadata": {
        "id": "AWIXxGsGUxFw",
        "colab_type": "code",
        "colab": {
          "base_uri": "https://localhost:8080/",
          "height": 402
        },
        "outputId": "3ef6d07a-a5e8-4c8f-c587-7b87ab63346c"
      },
      "source": [
        "dfbusan['평균'] = dfbusan[['최고','최저']].mean(axis=1)\n",
        "dfbusan"
      ],
      "execution_count": null,
      "outputs": [
        {
          "output_type": "execute_result",
          "data": {
            "text/html": [
              "<div>\n",
              "<style scoped>\n",
              "    .dataframe tbody tr th:only-of-type {\n",
              "        vertical-align: middle;\n",
              "    }\n",
              "\n",
              "    .dataframe tbody tr th {\n",
              "        vertical-align: top;\n",
              "    }\n",
              "\n",
              "    .dataframe thead th {\n",
              "        text-align: right;\n",
              "    }\n",
              "</style>\n",
              "<table border=\"1\" class=\"dataframe\">\n",
              "  <thead>\n",
              "    <tr style=\"text-align: right;\">\n",
              "      <th></th>\n",
              "      <th>일시</th>\n",
              "      <th>최고</th>\n",
              "      <th>최저</th>\n",
              "      <th>차이</th>\n",
              "      <th>년도</th>\n",
              "      <th>월</th>\n",
              "      <th>일</th>\n",
              "      <th>평균</th>\n",
              "    </tr>\n",
              "  </thead>\n",
              "  <tbody>\n",
              "    <tr>\n",
              "      <th>12</th>\n",
              "      <td>2018-01-01</td>\n",
              "      <td>14.0</td>\n",
              "      <td>-9.9</td>\n",
              "      <td>23</td>\n",
              "      <td>2018</td>\n",
              "      <td>1</td>\n",
              "      <td>1</td>\n",
              "      <td>2.05</td>\n",
              "    </tr>\n",
              "    <tr>\n",
              "      <th>13</th>\n",
              "      <td>2018-02-01</td>\n",
              "      <td>14.7</td>\n",
              "      <td>-9.6</td>\n",
              "      <td>24</td>\n",
              "      <td>2018</td>\n",
              "      <td>2</td>\n",
              "      <td>1</td>\n",
              "      <td>2.55</td>\n",
              "    </tr>\n",
              "    <tr>\n",
              "      <th>14</th>\n",
              "      <td>2018-03-01</td>\n",
              "      <td>22.3</td>\n",
              "      <td>-0.7</td>\n",
              "      <td>23</td>\n",
              "      <td>2018</td>\n",
              "      <td>3</td>\n",
              "      <td>1</td>\n",
              "      <td>10.80</td>\n",
              "    </tr>\n",
              "    <tr>\n",
              "      <th>15</th>\n",
              "      <td>2018-04-01</td>\n",
              "      <td>24.3</td>\n",
              "      <td>3.0</td>\n",
              "      <td>21</td>\n",
              "      <td>2018</td>\n",
              "      <td>4</td>\n",
              "      <td>1</td>\n",
              "      <td>13.65</td>\n",
              "    </tr>\n",
              "    <tr>\n",
              "      <th>16</th>\n",
              "      <td>2018-05-01</td>\n",
              "      <td>26.6</td>\n",
              "      <td>9.8</td>\n",
              "      <td>16</td>\n",
              "      <td>2018</td>\n",
              "      <td>5</td>\n",
              "      <td>1</td>\n",
              "      <td>18.20</td>\n",
              "    </tr>\n",
              "    <tr>\n",
              "      <th>17</th>\n",
              "      <td>2018-06-01</td>\n",
              "      <td>31.3</td>\n",
              "      <td>15.1</td>\n",
              "      <td>16</td>\n",
              "      <td>2018</td>\n",
              "      <td>6</td>\n",
              "      <td>1</td>\n",
              "      <td>23.20</td>\n",
              "    </tr>\n",
              "    <tr>\n",
              "      <th>18</th>\n",
              "      <td>2018-07-01</td>\n",
              "      <td>35.4</td>\n",
              "      <td>17.8</td>\n",
              "      <td>17</td>\n",
              "      <td>2018</td>\n",
              "      <td>7</td>\n",
              "      <td>1</td>\n",
              "      <td>26.60</td>\n",
              "    </tr>\n",
              "    <tr>\n",
              "      <th>19</th>\n",
              "      <td>2018-08-01</td>\n",
              "      <td>36.4</td>\n",
              "      <td>21.2</td>\n",
              "      <td>15</td>\n",
              "      <td>2018</td>\n",
              "      <td>8</td>\n",
              "      <td>1</td>\n",
              "      <td>28.80</td>\n",
              "    </tr>\n",
              "    <tr>\n",
              "      <th>20</th>\n",
              "      <td>2018-09-01</td>\n",
              "      <td>30.0</td>\n",
              "      <td>14.9</td>\n",
              "      <td>15</td>\n",
              "      <td>2018</td>\n",
              "      <td>9</td>\n",
              "      <td>1</td>\n",
              "      <td>22.45</td>\n",
              "    </tr>\n",
              "    <tr>\n",
              "      <th>21</th>\n",
              "      <td>2018-10-01</td>\n",
              "      <td>25.6</td>\n",
              "      <td>7.9</td>\n",
              "      <td>17</td>\n",
              "      <td>2018</td>\n",
              "      <td>10</td>\n",
              "      <td>1</td>\n",
              "      <td>16.75</td>\n",
              "    </tr>\n",
              "    <tr>\n",
              "      <th>22</th>\n",
              "      <td>2018-11-01</td>\n",
              "      <td>22.5</td>\n",
              "      <td>2.7</td>\n",
              "      <td>19</td>\n",
              "      <td>2018</td>\n",
              "      <td>11</td>\n",
              "      <td>1</td>\n",
              "      <td>12.60</td>\n",
              "    </tr>\n",
              "    <tr>\n",
              "      <th>23</th>\n",
              "      <td>2018-12-01</td>\n",
              "      <td>18.8</td>\n",
              "      <td>-7.1</td>\n",
              "      <td>25</td>\n",
              "      <td>2018</td>\n",
              "      <td>12</td>\n",
              "      <td>1</td>\n",
              "      <td>5.85</td>\n",
              "    </tr>\n",
              "  </tbody>\n",
              "</table>\n",
              "</div>"
            ],
            "text/plain": [
              "           일시    최고    최저  차이    년도   월  일     평균\n",
              "12 2018-01-01  14.0  -9.9  23  2018   1  1   2.05\n",
              "13 2018-02-01  14.7  -9.6  24  2018   2  1   2.55\n",
              "14 2018-03-01  22.3  -0.7  23  2018   3  1  10.80\n",
              "15 2018-04-01  24.3   3.0  21  2018   4  1  13.65\n",
              "16 2018-05-01  26.6   9.8  16  2018   5  1  18.20\n",
              "17 2018-06-01  31.3  15.1  16  2018   6  1  23.20\n",
              "18 2018-07-01  35.4  17.8  17  2018   7  1  26.60\n",
              "19 2018-08-01  36.4  21.2  15  2018   8  1  28.80\n",
              "20 2018-09-01  30.0  14.9  15  2018   9  1  22.45\n",
              "21 2018-10-01  25.6   7.9  17  2018  10  1  16.75\n",
              "22 2018-11-01  22.5   2.7  19  2018  11  1  12.60\n",
              "23 2018-12-01  18.8  -7.1  25  2018  12  1   5.85"
            ]
          },
          "metadata": {
            "tags": []
          },
          "execution_count": 67
        }
      ]
    },
    {
      "cell_type": "markdown",
      "metadata": {
        "id": "ccQzhhlUk9l_",
        "colab_type": "text"
      },
      "source": [
        "####**행 추가**"
      ]
    },
    {
      "cell_type": "code",
      "metadata": {
        "id": "bWZ2aeFIlCj3",
        "colab_type": "code",
        "colab": {
          "base_uri": "https://localhost:8080/",
          "height": 175
        },
        "outputId": "c575a9d5-8781-4ba3-a740-71d7513f96f4"
      },
      "source": [
        "df.dtypes"
      ],
      "execution_count": null,
      "outputs": [
        {
          "output_type": "execute_result",
          "data": {
            "text/plain": [
              "일시    datetime64[ns]\n",
              "최고           float64\n",
              "최저           float64\n",
              "차이             int64\n",
              "년도             int64\n",
              "월              int64\n",
              "일              int64\n",
              "평균           float64\n",
              "dtype: object"
            ]
          },
          "metadata": {
            "tags": []
          },
          "execution_count": 68
        }
      ]
    },
    {
      "cell_type": "code",
      "metadata": {
        "id": "bRj1hqC4l7rL",
        "colab_type": "code",
        "colab": {
          "base_uri": "https://localhost:8080/",
          "height": 175
        },
        "outputId": "da2168e9-89a5-4374-b7bd-e129018e4c33"
      },
      "source": [
        "df['일시'] = df['일시'].astype(str)\n",
        "df.dtypes"
      ],
      "execution_count": null,
      "outputs": [
        {
          "output_type": "execute_result",
          "data": {
            "text/plain": [
              "일시     object\n",
              "최고    float64\n",
              "최저    float64\n",
              "차이      int64\n",
              "년도      int64\n",
              "월       int64\n",
              "일       int64\n",
              "평균    float64\n",
              "dtype: object"
            ]
          },
          "metadata": {
            "tags": []
          },
          "execution_count": 69
        }
      ]
    },
    {
      "cell_type": "code",
      "metadata": {
        "id": "lwEowzRcnMJ3",
        "colab_type": "code",
        "colab": {
          "base_uri": "https://localhost:8080/",
          "height": 432
        },
        "outputId": "fd090d2a-1edb-45b7-fdbf-6ad3245ec8cb"
      },
      "source": [
        "df = df.set_index('일시')\n",
        "df"
      ],
      "execution_count": null,
      "outputs": [
        {
          "output_type": "execute_result",
          "data": {
            "text/html": [
              "<div>\n",
              "<style scoped>\n",
              "    .dataframe tbody tr th:only-of-type {\n",
              "        vertical-align: middle;\n",
              "    }\n",
              "\n",
              "    .dataframe tbody tr th {\n",
              "        vertical-align: top;\n",
              "    }\n",
              "\n",
              "    .dataframe thead th {\n",
              "        text-align: right;\n",
              "    }\n",
              "</style>\n",
              "<table border=\"1\" class=\"dataframe\">\n",
              "  <thead>\n",
              "    <tr style=\"text-align: right;\">\n",
              "      <th></th>\n",
              "      <th>최고</th>\n",
              "      <th>최저</th>\n",
              "      <th>차이</th>\n",
              "      <th>년도</th>\n",
              "      <th>월</th>\n",
              "      <th>일</th>\n",
              "      <th>평균</th>\n",
              "    </tr>\n",
              "    <tr>\n",
              "      <th>일시</th>\n",
              "      <th></th>\n",
              "      <th></th>\n",
              "      <th></th>\n",
              "      <th></th>\n",
              "      <th></th>\n",
              "      <th></th>\n",
              "      <th></th>\n",
              "    </tr>\n",
              "  </thead>\n",
              "  <tbody>\n",
              "    <tr>\n",
              "      <th>2018-01-01</th>\n",
              "      <td>14.0</td>\n",
              "      <td>-9.9</td>\n",
              "      <td>23</td>\n",
              "      <td>2018</td>\n",
              "      <td>1</td>\n",
              "      <td>1</td>\n",
              "      <td>2.05</td>\n",
              "    </tr>\n",
              "    <tr>\n",
              "      <th>2018-02-01</th>\n",
              "      <td>14.7</td>\n",
              "      <td>-9.6</td>\n",
              "      <td>24</td>\n",
              "      <td>2018</td>\n",
              "      <td>2</td>\n",
              "      <td>1</td>\n",
              "      <td>2.55</td>\n",
              "    </tr>\n",
              "    <tr>\n",
              "      <th>2018-03-01</th>\n",
              "      <td>22.3</td>\n",
              "      <td>-0.7</td>\n",
              "      <td>23</td>\n",
              "      <td>2018</td>\n",
              "      <td>3</td>\n",
              "      <td>1</td>\n",
              "      <td>10.80</td>\n",
              "    </tr>\n",
              "    <tr>\n",
              "      <th>2018-04-01</th>\n",
              "      <td>24.3</td>\n",
              "      <td>3.0</td>\n",
              "      <td>21</td>\n",
              "      <td>2018</td>\n",
              "      <td>4</td>\n",
              "      <td>1</td>\n",
              "      <td>13.65</td>\n",
              "    </tr>\n",
              "    <tr>\n",
              "      <th>2018-05-01</th>\n",
              "      <td>26.6</td>\n",
              "      <td>9.8</td>\n",
              "      <td>16</td>\n",
              "      <td>2018</td>\n",
              "      <td>5</td>\n",
              "      <td>1</td>\n",
              "      <td>18.20</td>\n",
              "    </tr>\n",
              "    <tr>\n",
              "      <th>2018-06-01</th>\n",
              "      <td>31.3</td>\n",
              "      <td>15.1</td>\n",
              "      <td>16</td>\n",
              "      <td>2018</td>\n",
              "      <td>6</td>\n",
              "      <td>1</td>\n",
              "      <td>23.20</td>\n",
              "    </tr>\n",
              "    <tr>\n",
              "      <th>2018-07-01</th>\n",
              "      <td>35.4</td>\n",
              "      <td>17.8</td>\n",
              "      <td>17</td>\n",
              "      <td>2018</td>\n",
              "      <td>7</td>\n",
              "      <td>1</td>\n",
              "      <td>26.60</td>\n",
              "    </tr>\n",
              "    <tr>\n",
              "      <th>2018-08-01</th>\n",
              "      <td>36.4</td>\n",
              "      <td>21.2</td>\n",
              "      <td>15</td>\n",
              "      <td>2018</td>\n",
              "      <td>8</td>\n",
              "      <td>1</td>\n",
              "      <td>28.80</td>\n",
              "    </tr>\n",
              "    <tr>\n",
              "      <th>2018-09-01</th>\n",
              "      <td>30.0</td>\n",
              "      <td>14.9</td>\n",
              "      <td>15</td>\n",
              "      <td>2018</td>\n",
              "      <td>9</td>\n",
              "      <td>1</td>\n",
              "      <td>22.45</td>\n",
              "    </tr>\n",
              "    <tr>\n",
              "      <th>2018-10-01</th>\n",
              "      <td>25.6</td>\n",
              "      <td>7.9</td>\n",
              "      <td>17</td>\n",
              "      <td>2018</td>\n",
              "      <td>10</td>\n",
              "      <td>1</td>\n",
              "      <td>16.75</td>\n",
              "    </tr>\n",
              "    <tr>\n",
              "      <th>2018-11-01</th>\n",
              "      <td>22.5</td>\n",
              "      <td>2.7</td>\n",
              "      <td>19</td>\n",
              "      <td>2018</td>\n",
              "      <td>11</td>\n",
              "      <td>1</td>\n",
              "      <td>12.60</td>\n",
              "    </tr>\n",
              "    <tr>\n",
              "      <th>2018-12-01</th>\n",
              "      <td>18.8</td>\n",
              "      <td>-7.1</td>\n",
              "      <td>25</td>\n",
              "      <td>2018</td>\n",
              "      <td>12</td>\n",
              "      <td>1</td>\n",
              "      <td>5.85</td>\n",
              "    </tr>\n",
              "  </tbody>\n",
              "</table>\n",
              "</div>"
            ],
            "text/plain": [
              "              최고    최저  차이    년도   월  일     평균\n",
              "일시                                            \n",
              "2018-01-01  14.0  -9.9  23  2018   1  1   2.05\n",
              "2018-02-01  14.7  -9.6  24  2018   2  1   2.55\n",
              "2018-03-01  22.3  -0.7  23  2018   3  1  10.80\n",
              "2018-04-01  24.3   3.0  21  2018   4  1  13.65\n",
              "2018-05-01  26.6   9.8  16  2018   5  1  18.20\n",
              "2018-06-01  31.3  15.1  16  2018   6  1  23.20\n",
              "2018-07-01  35.4  17.8  17  2018   7  1  26.60\n",
              "2018-08-01  36.4  21.2  15  2018   8  1  28.80\n",
              "2018-09-01  30.0  14.9  15  2018   9  1  22.45\n",
              "2018-10-01  25.6   7.9  17  2018  10  1  16.75\n",
              "2018-11-01  22.5   2.7  19  2018  11  1  12.60\n",
              "2018-12-01  18.8  -7.1  25  2018  12  1   5.85"
            ]
          },
          "metadata": {
            "tags": []
          },
          "execution_count": 70
        }
      ]
    },
    {
      "cell_type": "code",
      "metadata": {
        "id": "waUaQ8mzlZl4",
        "colab_type": "code",
        "colab": {
          "base_uri": "https://localhost:8080/",
          "height": 462
        },
        "outputId": "c5c34dc4-5030-4f52-a8c5-a464edbd5cb2"
      },
      "source": [
        "df.loc['평균'] = df.mean()\n",
        "df"
      ],
      "execution_count": null,
      "outputs": [
        {
          "output_type": "execute_result",
          "data": {
            "text/html": [
              "<div>\n",
              "<style scoped>\n",
              "    .dataframe tbody tr th:only-of-type {\n",
              "        vertical-align: middle;\n",
              "    }\n",
              "\n",
              "    .dataframe tbody tr th {\n",
              "        vertical-align: top;\n",
              "    }\n",
              "\n",
              "    .dataframe thead th {\n",
              "        text-align: right;\n",
              "    }\n",
              "</style>\n",
              "<table border=\"1\" class=\"dataframe\">\n",
              "  <thead>\n",
              "    <tr style=\"text-align: right;\">\n",
              "      <th></th>\n",
              "      <th>최고</th>\n",
              "      <th>최저</th>\n",
              "      <th>차이</th>\n",
              "      <th>년도</th>\n",
              "      <th>월</th>\n",
              "      <th>일</th>\n",
              "      <th>평균</th>\n",
              "    </tr>\n",
              "    <tr>\n",
              "      <th>일시</th>\n",
              "      <th></th>\n",
              "      <th></th>\n",
              "      <th></th>\n",
              "      <th></th>\n",
              "      <th></th>\n",
              "      <th></th>\n",
              "      <th></th>\n",
              "    </tr>\n",
              "  </thead>\n",
              "  <tbody>\n",
              "    <tr>\n",
              "      <th>2018-01-01</th>\n",
              "      <td>14.000000</td>\n",
              "      <td>-9.900</td>\n",
              "      <td>23.00</td>\n",
              "      <td>2018.0</td>\n",
              "      <td>1.0</td>\n",
              "      <td>1.0</td>\n",
              "      <td>2.050000</td>\n",
              "    </tr>\n",
              "    <tr>\n",
              "      <th>2018-02-01</th>\n",
              "      <td>14.700000</td>\n",
              "      <td>-9.600</td>\n",
              "      <td>24.00</td>\n",
              "      <td>2018.0</td>\n",
              "      <td>2.0</td>\n",
              "      <td>1.0</td>\n",
              "      <td>2.550000</td>\n",
              "    </tr>\n",
              "    <tr>\n",
              "      <th>2018-03-01</th>\n",
              "      <td>22.300000</td>\n",
              "      <td>-0.700</td>\n",
              "      <td>23.00</td>\n",
              "      <td>2018.0</td>\n",
              "      <td>3.0</td>\n",
              "      <td>1.0</td>\n",
              "      <td>10.800000</td>\n",
              "    </tr>\n",
              "    <tr>\n",
              "      <th>2018-04-01</th>\n",
              "      <td>24.300000</td>\n",
              "      <td>3.000</td>\n",
              "      <td>21.00</td>\n",
              "      <td>2018.0</td>\n",
              "      <td>4.0</td>\n",
              "      <td>1.0</td>\n",
              "      <td>13.650000</td>\n",
              "    </tr>\n",
              "    <tr>\n",
              "      <th>2018-05-01</th>\n",
              "      <td>26.600000</td>\n",
              "      <td>9.800</td>\n",
              "      <td>16.00</td>\n",
              "      <td>2018.0</td>\n",
              "      <td>5.0</td>\n",
              "      <td>1.0</td>\n",
              "      <td>18.200000</td>\n",
              "    </tr>\n",
              "    <tr>\n",
              "      <th>2018-06-01</th>\n",
              "      <td>31.300000</td>\n",
              "      <td>15.100</td>\n",
              "      <td>16.00</td>\n",
              "      <td>2018.0</td>\n",
              "      <td>6.0</td>\n",
              "      <td>1.0</td>\n",
              "      <td>23.200000</td>\n",
              "    </tr>\n",
              "    <tr>\n",
              "      <th>2018-07-01</th>\n",
              "      <td>35.400000</td>\n",
              "      <td>17.800</td>\n",
              "      <td>17.00</td>\n",
              "      <td>2018.0</td>\n",
              "      <td>7.0</td>\n",
              "      <td>1.0</td>\n",
              "      <td>26.600000</td>\n",
              "    </tr>\n",
              "    <tr>\n",
              "      <th>2018-08-01</th>\n",
              "      <td>36.400000</td>\n",
              "      <td>21.200</td>\n",
              "      <td>15.00</td>\n",
              "      <td>2018.0</td>\n",
              "      <td>8.0</td>\n",
              "      <td>1.0</td>\n",
              "      <td>28.800000</td>\n",
              "    </tr>\n",
              "    <tr>\n",
              "      <th>2018-09-01</th>\n",
              "      <td>30.000000</td>\n",
              "      <td>14.900</td>\n",
              "      <td>15.00</td>\n",
              "      <td>2018.0</td>\n",
              "      <td>9.0</td>\n",
              "      <td>1.0</td>\n",
              "      <td>22.450000</td>\n",
              "    </tr>\n",
              "    <tr>\n",
              "      <th>2018-10-01</th>\n",
              "      <td>25.600000</td>\n",
              "      <td>7.900</td>\n",
              "      <td>17.00</td>\n",
              "      <td>2018.0</td>\n",
              "      <td>10.0</td>\n",
              "      <td>1.0</td>\n",
              "      <td>16.750000</td>\n",
              "    </tr>\n",
              "    <tr>\n",
              "      <th>2018-11-01</th>\n",
              "      <td>22.500000</td>\n",
              "      <td>2.700</td>\n",
              "      <td>19.00</td>\n",
              "      <td>2018.0</td>\n",
              "      <td>11.0</td>\n",
              "      <td>1.0</td>\n",
              "      <td>12.600000</td>\n",
              "    </tr>\n",
              "    <tr>\n",
              "      <th>2018-12-01</th>\n",
              "      <td>18.800000</td>\n",
              "      <td>-7.100</td>\n",
              "      <td>25.00</td>\n",
              "      <td>2018.0</td>\n",
              "      <td>12.0</td>\n",
              "      <td>1.0</td>\n",
              "      <td>5.850000</td>\n",
              "    </tr>\n",
              "    <tr>\n",
              "      <th>평균</th>\n",
              "      <td>25.158333</td>\n",
              "      <td>5.425</td>\n",
              "      <td>19.25</td>\n",
              "      <td>2018.0</td>\n",
              "      <td>6.5</td>\n",
              "      <td>1.0</td>\n",
              "      <td>15.291667</td>\n",
              "    </tr>\n",
              "  </tbody>\n",
              "</table>\n",
              "</div>"
            ],
            "text/plain": [
              "                   최고      최저     차이      년도     월    일         평균\n",
              "일시                                                                \n",
              "2018-01-01  14.000000  -9.900  23.00  2018.0   1.0  1.0   2.050000\n",
              "2018-02-01  14.700000  -9.600  24.00  2018.0   2.0  1.0   2.550000\n",
              "2018-03-01  22.300000  -0.700  23.00  2018.0   3.0  1.0  10.800000\n",
              "2018-04-01  24.300000   3.000  21.00  2018.0   4.0  1.0  13.650000\n",
              "2018-05-01  26.600000   9.800  16.00  2018.0   5.0  1.0  18.200000\n",
              "2018-06-01  31.300000  15.100  16.00  2018.0   6.0  1.0  23.200000\n",
              "2018-07-01  35.400000  17.800  17.00  2018.0   7.0  1.0  26.600000\n",
              "2018-08-01  36.400000  21.200  15.00  2018.0   8.0  1.0  28.800000\n",
              "2018-09-01  30.000000  14.900  15.00  2018.0   9.0  1.0  22.450000\n",
              "2018-10-01  25.600000   7.900  17.00  2018.0  10.0  1.0  16.750000\n",
              "2018-11-01  22.500000   2.700  19.00  2018.0  11.0  1.0  12.600000\n",
              "2018-12-01  18.800000  -7.100  25.00  2018.0  12.0  1.0   5.850000\n",
              "평균          25.158333   5.425  19.25  2018.0   6.5  1.0  15.291667"
            ]
          },
          "metadata": {
            "tags": []
          },
          "execution_count": 71
        }
      ]
    },
    {
      "cell_type": "markdown",
      "metadata": {
        "id": "MBc40XcloEcC",
        "colab_type": "text"
      },
      "source": [
        "#### 행열 삭제\n",
        "+ .drop(행인덱스, axis=0)\n",
        "+ .drop(열인덱스, axis=1)"
      ]
    },
    {
      "cell_type": "code",
      "metadata": {
        "id": "nLcHTSFOoccd",
        "colab_type": "code",
        "colab": {
          "base_uri": "https://localhost:8080/",
          "height": 462
        },
        "outputId": "4fc3509b-2e6f-4301-9f2c-171a4d863497"
      },
      "source": [
        "df = df.drop(['월','일'], axis=1)\n",
        "df"
      ],
      "execution_count": null,
      "outputs": [
        {
          "output_type": "execute_result",
          "data": {
            "text/html": [
              "<div>\n",
              "<style scoped>\n",
              "    .dataframe tbody tr th:only-of-type {\n",
              "        vertical-align: middle;\n",
              "    }\n",
              "\n",
              "    .dataframe tbody tr th {\n",
              "        vertical-align: top;\n",
              "    }\n",
              "\n",
              "    .dataframe thead th {\n",
              "        text-align: right;\n",
              "    }\n",
              "</style>\n",
              "<table border=\"1\" class=\"dataframe\">\n",
              "  <thead>\n",
              "    <tr style=\"text-align: right;\">\n",
              "      <th></th>\n",
              "      <th>최고</th>\n",
              "      <th>최저</th>\n",
              "      <th>차이</th>\n",
              "      <th>년도</th>\n",
              "      <th>평균</th>\n",
              "    </tr>\n",
              "    <tr>\n",
              "      <th>일시</th>\n",
              "      <th></th>\n",
              "      <th></th>\n",
              "      <th></th>\n",
              "      <th></th>\n",
              "      <th></th>\n",
              "    </tr>\n",
              "  </thead>\n",
              "  <tbody>\n",
              "    <tr>\n",
              "      <th>2018-01-01</th>\n",
              "      <td>14.000000</td>\n",
              "      <td>-9.900</td>\n",
              "      <td>23.00</td>\n",
              "      <td>2018.0</td>\n",
              "      <td>2.050000</td>\n",
              "    </tr>\n",
              "    <tr>\n",
              "      <th>2018-02-01</th>\n",
              "      <td>14.700000</td>\n",
              "      <td>-9.600</td>\n",
              "      <td>24.00</td>\n",
              "      <td>2018.0</td>\n",
              "      <td>2.550000</td>\n",
              "    </tr>\n",
              "    <tr>\n",
              "      <th>2018-03-01</th>\n",
              "      <td>22.300000</td>\n",
              "      <td>-0.700</td>\n",
              "      <td>23.00</td>\n",
              "      <td>2018.0</td>\n",
              "      <td>10.800000</td>\n",
              "    </tr>\n",
              "    <tr>\n",
              "      <th>2018-04-01</th>\n",
              "      <td>24.300000</td>\n",
              "      <td>3.000</td>\n",
              "      <td>21.00</td>\n",
              "      <td>2018.0</td>\n",
              "      <td>13.650000</td>\n",
              "    </tr>\n",
              "    <tr>\n",
              "      <th>2018-05-01</th>\n",
              "      <td>26.600000</td>\n",
              "      <td>9.800</td>\n",
              "      <td>16.00</td>\n",
              "      <td>2018.0</td>\n",
              "      <td>18.200000</td>\n",
              "    </tr>\n",
              "    <tr>\n",
              "      <th>2018-06-01</th>\n",
              "      <td>31.300000</td>\n",
              "      <td>15.100</td>\n",
              "      <td>16.00</td>\n",
              "      <td>2018.0</td>\n",
              "      <td>23.200000</td>\n",
              "    </tr>\n",
              "    <tr>\n",
              "      <th>2018-07-01</th>\n",
              "      <td>35.400000</td>\n",
              "      <td>17.800</td>\n",
              "      <td>17.00</td>\n",
              "      <td>2018.0</td>\n",
              "      <td>26.600000</td>\n",
              "    </tr>\n",
              "    <tr>\n",
              "      <th>2018-08-01</th>\n",
              "      <td>36.400000</td>\n",
              "      <td>21.200</td>\n",
              "      <td>15.00</td>\n",
              "      <td>2018.0</td>\n",
              "      <td>28.800000</td>\n",
              "    </tr>\n",
              "    <tr>\n",
              "      <th>2018-09-01</th>\n",
              "      <td>30.000000</td>\n",
              "      <td>14.900</td>\n",
              "      <td>15.00</td>\n",
              "      <td>2018.0</td>\n",
              "      <td>22.450000</td>\n",
              "    </tr>\n",
              "    <tr>\n",
              "      <th>2018-10-01</th>\n",
              "      <td>25.600000</td>\n",
              "      <td>7.900</td>\n",
              "      <td>17.00</td>\n",
              "      <td>2018.0</td>\n",
              "      <td>16.750000</td>\n",
              "    </tr>\n",
              "    <tr>\n",
              "      <th>2018-11-01</th>\n",
              "      <td>22.500000</td>\n",
              "      <td>2.700</td>\n",
              "      <td>19.00</td>\n",
              "      <td>2018.0</td>\n",
              "      <td>12.600000</td>\n",
              "    </tr>\n",
              "    <tr>\n",
              "      <th>2018-12-01</th>\n",
              "      <td>18.800000</td>\n",
              "      <td>-7.100</td>\n",
              "      <td>25.00</td>\n",
              "      <td>2018.0</td>\n",
              "      <td>5.850000</td>\n",
              "    </tr>\n",
              "    <tr>\n",
              "      <th>평균</th>\n",
              "      <td>25.158333</td>\n",
              "      <td>5.425</td>\n",
              "      <td>19.25</td>\n",
              "      <td>2018.0</td>\n",
              "      <td>15.291667</td>\n",
              "    </tr>\n",
              "  </tbody>\n",
              "</table>\n",
              "</div>"
            ],
            "text/plain": [
              "                   최고      최저     차이      년도         평균\n",
              "일시                                                     \n",
              "2018-01-01  14.000000  -9.900  23.00  2018.0   2.050000\n",
              "2018-02-01  14.700000  -9.600  24.00  2018.0   2.550000\n",
              "2018-03-01  22.300000  -0.700  23.00  2018.0  10.800000\n",
              "2018-04-01  24.300000   3.000  21.00  2018.0  13.650000\n",
              "2018-05-01  26.600000   9.800  16.00  2018.0  18.200000\n",
              "2018-06-01  31.300000  15.100  16.00  2018.0  23.200000\n",
              "2018-07-01  35.400000  17.800  17.00  2018.0  26.600000\n",
              "2018-08-01  36.400000  21.200  15.00  2018.0  28.800000\n",
              "2018-09-01  30.000000  14.900  15.00  2018.0  22.450000\n",
              "2018-10-01  25.600000   7.900  17.00  2018.0  16.750000\n",
              "2018-11-01  22.500000   2.700  19.00  2018.0  12.600000\n",
              "2018-12-01  18.800000  -7.100  25.00  2018.0   5.850000\n",
              "평균          25.158333   5.425  19.25  2018.0  15.291667"
            ]
          },
          "metadata": {
            "tags": []
          },
          "execution_count": 72
        }
      ]
    },
    {
      "cell_type": "code",
      "metadata": {
        "id": "sRLwTBTzTsba",
        "colab_type": "code",
        "colab": {
          "base_uri": "https://localhost:8080/",
          "height": 462
        },
        "outputId": "619547e6-22ee-4aa6-8790-22e41087199c"
      },
      "source": [
        "df.loc['평균', ['차이', '년도']] = 0\n",
        "df"
      ],
      "execution_count": null,
      "outputs": [
        {
          "output_type": "execute_result",
          "data": {
            "text/html": [
              "<div>\n",
              "<style scoped>\n",
              "    .dataframe tbody tr th:only-of-type {\n",
              "        vertical-align: middle;\n",
              "    }\n",
              "\n",
              "    .dataframe tbody tr th {\n",
              "        vertical-align: top;\n",
              "    }\n",
              "\n",
              "    .dataframe thead th {\n",
              "        text-align: right;\n",
              "    }\n",
              "</style>\n",
              "<table border=\"1\" class=\"dataframe\">\n",
              "  <thead>\n",
              "    <tr style=\"text-align: right;\">\n",
              "      <th></th>\n",
              "      <th>최고</th>\n",
              "      <th>최저</th>\n",
              "      <th>차이</th>\n",
              "      <th>년도</th>\n",
              "      <th>평균</th>\n",
              "    </tr>\n",
              "    <tr>\n",
              "      <th>일시</th>\n",
              "      <th></th>\n",
              "      <th></th>\n",
              "      <th></th>\n",
              "      <th></th>\n",
              "      <th></th>\n",
              "    </tr>\n",
              "  </thead>\n",
              "  <tbody>\n",
              "    <tr>\n",
              "      <th>2018-01-01</th>\n",
              "      <td>14.000000</td>\n",
              "      <td>-9.900</td>\n",
              "      <td>23.0</td>\n",
              "      <td>2018.0</td>\n",
              "      <td>2.050000</td>\n",
              "    </tr>\n",
              "    <tr>\n",
              "      <th>2018-02-01</th>\n",
              "      <td>14.700000</td>\n",
              "      <td>-9.600</td>\n",
              "      <td>24.0</td>\n",
              "      <td>2018.0</td>\n",
              "      <td>2.550000</td>\n",
              "    </tr>\n",
              "    <tr>\n",
              "      <th>2018-03-01</th>\n",
              "      <td>22.300000</td>\n",
              "      <td>-0.700</td>\n",
              "      <td>23.0</td>\n",
              "      <td>2018.0</td>\n",
              "      <td>10.800000</td>\n",
              "    </tr>\n",
              "    <tr>\n",
              "      <th>2018-04-01</th>\n",
              "      <td>24.300000</td>\n",
              "      <td>3.000</td>\n",
              "      <td>21.0</td>\n",
              "      <td>2018.0</td>\n",
              "      <td>13.650000</td>\n",
              "    </tr>\n",
              "    <tr>\n",
              "      <th>2018-05-01</th>\n",
              "      <td>26.600000</td>\n",
              "      <td>9.800</td>\n",
              "      <td>16.0</td>\n",
              "      <td>2018.0</td>\n",
              "      <td>18.200000</td>\n",
              "    </tr>\n",
              "    <tr>\n",
              "      <th>2018-06-01</th>\n",
              "      <td>31.300000</td>\n",
              "      <td>15.100</td>\n",
              "      <td>16.0</td>\n",
              "      <td>2018.0</td>\n",
              "      <td>23.200000</td>\n",
              "    </tr>\n",
              "    <tr>\n",
              "      <th>2018-07-01</th>\n",
              "      <td>35.400000</td>\n",
              "      <td>17.800</td>\n",
              "      <td>17.0</td>\n",
              "      <td>2018.0</td>\n",
              "      <td>26.600000</td>\n",
              "    </tr>\n",
              "    <tr>\n",
              "      <th>2018-08-01</th>\n",
              "      <td>36.400000</td>\n",
              "      <td>21.200</td>\n",
              "      <td>15.0</td>\n",
              "      <td>2018.0</td>\n",
              "      <td>28.800000</td>\n",
              "    </tr>\n",
              "    <tr>\n",
              "      <th>2018-09-01</th>\n",
              "      <td>30.000000</td>\n",
              "      <td>14.900</td>\n",
              "      <td>15.0</td>\n",
              "      <td>2018.0</td>\n",
              "      <td>22.450000</td>\n",
              "    </tr>\n",
              "    <tr>\n",
              "      <th>2018-10-01</th>\n",
              "      <td>25.600000</td>\n",
              "      <td>7.900</td>\n",
              "      <td>17.0</td>\n",
              "      <td>2018.0</td>\n",
              "      <td>16.750000</td>\n",
              "    </tr>\n",
              "    <tr>\n",
              "      <th>2018-11-01</th>\n",
              "      <td>22.500000</td>\n",
              "      <td>2.700</td>\n",
              "      <td>19.0</td>\n",
              "      <td>2018.0</td>\n",
              "      <td>12.600000</td>\n",
              "    </tr>\n",
              "    <tr>\n",
              "      <th>2018-12-01</th>\n",
              "      <td>18.800000</td>\n",
              "      <td>-7.100</td>\n",
              "      <td>25.0</td>\n",
              "      <td>2018.0</td>\n",
              "      <td>5.850000</td>\n",
              "    </tr>\n",
              "    <tr>\n",
              "      <th>평균</th>\n",
              "      <td>25.158333</td>\n",
              "      <td>5.425</td>\n",
              "      <td>0.0</td>\n",
              "      <td>0.0</td>\n",
              "      <td>15.291667</td>\n",
              "    </tr>\n",
              "  </tbody>\n",
              "</table>\n",
              "</div>"
            ],
            "text/plain": [
              "                   최고      최저    차이      년도         평균\n",
              "일시                                                    \n",
              "2018-01-01  14.000000  -9.900  23.0  2018.0   2.050000\n",
              "2018-02-01  14.700000  -9.600  24.0  2018.0   2.550000\n",
              "2018-03-01  22.300000  -0.700  23.0  2018.0  10.800000\n",
              "2018-04-01  24.300000   3.000  21.0  2018.0  13.650000\n",
              "2018-05-01  26.600000   9.800  16.0  2018.0  18.200000\n",
              "2018-06-01  31.300000  15.100  16.0  2018.0  23.200000\n",
              "2018-07-01  35.400000  17.800  17.0  2018.0  26.600000\n",
              "2018-08-01  36.400000  21.200  15.0  2018.0  28.800000\n",
              "2018-09-01  30.000000  14.900  15.0  2018.0  22.450000\n",
              "2018-10-01  25.600000   7.900  17.0  2018.0  16.750000\n",
              "2018-11-01  22.500000   2.700  19.0  2018.0  12.600000\n",
              "2018-12-01  18.800000  -7.100  25.0  2018.0   5.850000\n",
              "평균          25.158333   5.425   0.0     0.0  15.291667"
            ]
          },
          "metadata": {
            "tags": []
          },
          "execution_count": 74
        }
      ]
    },
    {
      "cell_type": "code",
      "metadata": {
        "id": "RMZqmO_YonZ_",
        "colab_type": "code",
        "colab": {
          "base_uri": "https://localhost:8080/",
          "height": 432
        },
        "outputId": "d4eb998e-34f5-4b86-ee6c-88eb425fbda4"
      },
      "source": [
        "df = df.drop('평균', axis=0)\n",
        "df"
      ],
      "execution_count": null,
      "outputs": [
        {
          "output_type": "execute_result",
          "data": {
            "text/html": [
              "<div>\n",
              "<style scoped>\n",
              "    .dataframe tbody tr th:only-of-type {\n",
              "        vertical-align: middle;\n",
              "    }\n",
              "\n",
              "    .dataframe tbody tr th {\n",
              "        vertical-align: top;\n",
              "    }\n",
              "\n",
              "    .dataframe thead th {\n",
              "        text-align: right;\n",
              "    }\n",
              "</style>\n",
              "<table border=\"1\" class=\"dataframe\">\n",
              "  <thead>\n",
              "    <tr style=\"text-align: right;\">\n",
              "      <th></th>\n",
              "      <th>최고</th>\n",
              "      <th>최저</th>\n",
              "      <th>차이</th>\n",
              "      <th>년도</th>\n",
              "    </tr>\n",
              "    <tr>\n",
              "      <th>일시</th>\n",
              "      <th></th>\n",
              "      <th></th>\n",
              "      <th></th>\n",
              "      <th></th>\n",
              "    </tr>\n",
              "  </thead>\n",
              "  <tbody>\n",
              "    <tr>\n",
              "      <th>2018-01-01</th>\n",
              "      <td>14.0</td>\n",
              "      <td>-9.9</td>\n",
              "      <td>23.0</td>\n",
              "      <td>2018.0</td>\n",
              "    </tr>\n",
              "    <tr>\n",
              "      <th>2018-02-01</th>\n",
              "      <td>14.7</td>\n",
              "      <td>-9.6</td>\n",
              "      <td>24.0</td>\n",
              "      <td>2018.0</td>\n",
              "    </tr>\n",
              "    <tr>\n",
              "      <th>2018-03-01</th>\n",
              "      <td>22.3</td>\n",
              "      <td>-0.7</td>\n",
              "      <td>23.0</td>\n",
              "      <td>2018.0</td>\n",
              "    </tr>\n",
              "    <tr>\n",
              "      <th>2018-04-01</th>\n",
              "      <td>24.3</td>\n",
              "      <td>3.0</td>\n",
              "      <td>21.0</td>\n",
              "      <td>2018.0</td>\n",
              "    </tr>\n",
              "    <tr>\n",
              "      <th>2018-05-01</th>\n",
              "      <td>26.6</td>\n",
              "      <td>9.8</td>\n",
              "      <td>16.0</td>\n",
              "      <td>2018.0</td>\n",
              "    </tr>\n",
              "    <tr>\n",
              "      <th>2018-06-01</th>\n",
              "      <td>31.3</td>\n",
              "      <td>15.1</td>\n",
              "      <td>16.0</td>\n",
              "      <td>2018.0</td>\n",
              "    </tr>\n",
              "    <tr>\n",
              "      <th>2018-07-01</th>\n",
              "      <td>35.4</td>\n",
              "      <td>17.8</td>\n",
              "      <td>17.0</td>\n",
              "      <td>2018.0</td>\n",
              "    </tr>\n",
              "    <tr>\n",
              "      <th>2018-08-01</th>\n",
              "      <td>36.4</td>\n",
              "      <td>21.2</td>\n",
              "      <td>15.0</td>\n",
              "      <td>2018.0</td>\n",
              "    </tr>\n",
              "    <tr>\n",
              "      <th>2018-09-01</th>\n",
              "      <td>30.0</td>\n",
              "      <td>14.9</td>\n",
              "      <td>15.0</td>\n",
              "      <td>2018.0</td>\n",
              "    </tr>\n",
              "    <tr>\n",
              "      <th>2018-10-01</th>\n",
              "      <td>25.6</td>\n",
              "      <td>7.9</td>\n",
              "      <td>17.0</td>\n",
              "      <td>2018.0</td>\n",
              "    </tr>\n",
              "    <tr>\n",
              "      <th>2018-11-01</th>\n",
              "      <td>22.5</td>\n",
              "      <td>2.7</td>\n",
              "      <td>19.0</td>\n",
              "      <td>2018.0</td>\n",
              "    </tr>\n",
              "    <tr>\n",
              "      <th>2018-12-01</th>\n",
              "      <td>18.8</td>\n",
              "      <td>-7.1</td>\n",
              "      <td>25.0</td>\n",
              "      <td>2018.0</td>\n",
              "    </tr>\n",
              "  </tbody>\n",
              "</table>\n",
              "</div>"
            ],
            "text/plain": [
              "              최고    최저    차이      년도\n",
              "일시                                  \n",
              "2018-01-01  14.0  -9.9  23.0  2018.0\n",
              "2018-02-01  14.7  -9.6  24.0  2018.0\n",
              "2018-03-01  22.3  -0.7  23.0  2018.0\n",
              "2018-04-01  24.3   3.0  21.0  2018.0\n",
              "2018-05-01  26.6   9.8  16.0  2018.0\n",
              "2018-06-01  31.3  15.1  16.0  2018.0\n",
              "2018-07-01  35.4  17.8  17.0  2018.0\n",
              "2018-08-01  36.4  21.2  15.0  2018.0\n",
              "2018-09-01  30.0  14.9  15.0  2018.0\n",
              "2018-10-01  25.6   7.9  17.0  2018.0\n",
              "2018-11-01  22.5   2.7  19.0  2018.0\n",
              "2018-12-01  18.8  -7.1  25.0  2018.0"
            ]
          },
          "metadata": {
            "tags": []
          },
          "execution_count": 76
        }
      ]
    },
    {
      "cell_type": "markdown",
      "metadata": {
        "id": "-WX4x8hsXx3F",
        "colab_type": "text"
      },
      "source": [
        "#### 정렬하기\n",
        "+ .sort_index()\n",
        " - 인덱스(index)를 기준으로 정렬\n",
        "+ .sort_values()\n",
        " - 컬럼의 값을 기준으로 데이터를 정렬\n",
        " - 옵션 : by=컬럼 , ascending=False"
      ]
    },
    {
      "cell_type": "code",
      "metadata": {
        "id": "dbcT8lglYrmX",
        "colab_type": "code",
        "colab": {
          "base_uri": "https://localhost:8080/",
          "height": 432
        },
        "outputId": "a3e4727b-875b-4893-e34d-f7b2297d23b8"
      },
      "source": [
        "df = df.sort_values(by = '차이')\n",
        "df"
      ],
      "execution_count": null,
      "outputs": [
        {
          "output_type": "execute_result",
          "data": {
            "text/html": [
              "<div>\n",
              "<style scoped>\n",
              "    .dataframe tbody tr th:only-of-type {\n",
              "        vertical-align: middle;\n",
              "    }\n",
              "\n",
              "    .dataframe tbody tr th {\n",
              "        vertical-align: top;\n",
              "    }\n",
              "\n",
              "    .dataframe thead th {\n",
              "        text-align: right;\n",
              "    }\n",
              "</style>\n",
              "<table border=\"1\" class=\"dataframe\">\n",
              "  <thead>\n",
              "    <tr style=\"text-align: right;\">\n",
              "      <th></th>\n",
              "      <th>최고</th>\n",
              "      <th>최저</th>\n",
              "      <th>차이</th>\n",
              "      <th>년도</th>\n",
              "    </tr>\n",
              "    <tr>\n",
              "      <th>일시</th>\n",
              "      <th></th>\n",
              "      <th></th>\n",
              "      <th></th>\n",
              "      <th></th>\n",
              "    </tr>\n",
              "  </thead>\n",
              "  <tbody>\n",
              "    <tr>\n",
              "      <th>2018-08-01</th>\n",
              "      <td>36.4</td>\n",
              "      <td>21.2</td>\n",
              "      <td>15.0</td>\n",
              "      <td>2018.0</td>\n",
              "    </tr>\n",
              "    <tr>\n",
              "      <th>2018-09-01</th>\n",
              "      <td>30.0</td>\n",
              "      <td>14.9</td>\n",
              "      <td>15.0</td>\n",
              "      <td>2018.0</td>\n",
              "    </tr>\n",
              "    <tr>\n",
              "      <th>2018-05-01</th>\n",
              "      <td>26.6</td>\n",
              "      <td>9.8</td>\n",
              "      <td>16.0</td>\n",
              "      <td>2018.0</td>\n",
              "    </tr>\n",
              "    <tr>\n",
              "      <th>2018-06-01</th>\n",
              "      <td>31.3</td>\n",
              "      <td>15.1</td>\n",
              "      <td>16.0</td>\n",
              "      <td>2018.0</td>\n",
              "    </tr>\n",
              "    <tr>\n",
              "      <th>2018-07-01</th>\n",
              "      <td>35.4</td>\n",
              "      <td>17.8</td>\n",
              "      <td>17.0</td>\n",
              "      <td>2018.0</td>\n",
              "    </tr>\n",
              "    <tr>\n",
              "      <th>2018-10-01</th>\n",
              "      <td>25.6</td>\n",
              "      <td>7.9</td>\n",
              "      <td>17.0</td>\n",
              "      <td>2018.0</td>\n",
              "    </tr>\n",
              "    <tr>\n",
              "      <th>2018-11-01</th>\n",
              "      <td>22.5</td>\n",
              "      <td>2.7</td>\n",
              "      <td>19.0</td>\n",
              "      <td>2018.0</td>\n",
              "    </tr>\n",
              "    <tr>\n",
              "      <th>2018-04-01</th>\n",
              "      <td>24.3</td>\n",
              "      <td>3.0</td>\n",
              "      <td>21.0</td>\n",
              "      <td>2018.0</td>\n",
              "    </tr>\n",
              "    <tr>\n",
              "      <th>2018-01-01</th>\n",
              "      <td>14.0</td>\n",
              "      <td>-9.9</td>\n",
              "      <td>23.0</td>\n",
              "      <td>2018.0</td>\n",
              "    </tr>\n",
              "    <tr>\n",
              "      <th>2018-03-01</th>\n",
              "      <td>22.3</td>\n",
              "      <td>-0.7</td>\n",
              "      <td>23.0</td>\n",
              "      <td>2018.0</td>\n",
              "    </tr>\n",
              "    <tr>\n",
              "      <th>2018-02-01</th>\n",
              "      <td>14.7</td>\n",
              "      <td>-9.6</td>\n",
              "      <td>24.0</td>\n",
              "      <td>2018.0</td>\n",
              "    </tr>\n",
              "    <tr>\n",
              "      <th>2018-12-01</th>\n",
              "      <td>18.8</td>\n",
              "      <td>-7.1</td>\n",
              "      <td>25.0</td>\n",
              "      <td>2018.0</td>\n",
              "    </tr>\n",
              "  </tbody>\n",
              "</table>\n",
              "</div>"
            ],
            "text/plain": [
              "              최고    최저    차이      년도\n",
              "일시                                  \n",
              "2018-08-01  36.4  21.2  15.0  2018.0\n",
              "2018-09-01  30.0  14.9  15.0  2018.0\n",
              "2018-05-01  26.6   9.8  16.0  2018.0\n",
              "2018-06-01  31.3  15.1  16.0  2018.0\n",
              "2018-07-01  35.4  17.8  17.0  2018.0\n",
              "2018-10-01  25.6   7.9  17.0  2018.0\n",
              "2018-11-01  22.5   2.7  19.0  2018.0\n",
              "2018-04-01  24.3   3.0  21.0  2018.0\n",
              "2018-01-01  14.0  -9.9  23.0  2018.0\n",
              "2018-03-01  22.3  -0.7  23.0  2018.0\n",
              "2018-02-01  14.7  -9.6  24.0  2018.0\n",
              "2018-12-01  18.8  -7.1  25.0  2018.0"
            ]
          },
          "metadata": {
            "tags": []
          },
          "execution_count": 78
        }
      ]
    },
    {
      "cell_type": "code",
      "metadata": {
        "id": "FDKmy9FBZAFI",
        "colab_type": "code",
        "colab": {
          "base_uri": "https://localhost:8080/",
          "height": 432
        },
        "outputId": "e0514913-218e-4346-da9c-ee5929a36e42"
      },
      "source": [
        "df = df.sort_index()\n",
        "df"
      ],
      "execution_count": null,
      "outputs": [
        {
          "output_type": "execute_result",
          "data": {
            "text/html": [
              "<div>\n",
              "<style scoped>\n",
              "    .dataframe tbody tr th:only-of-type {\n",
              "        vertical-align: middle;\n",
              "    }\n",
              "\n",
              "    .dataframe tbody tr th {\n",
              "        vertical-align: top;\n",
              "    }\n",
              "\n",
              "    .dataframe thead th {\n",
              "        text-align: right;\n",
              "    }\n",
              "</style>\n",
              "<table border=\"1\" class=\"dataframe\">\n",
              "  <thead>\n",
              "    <tr style=\"text-align: right;\">\n",
              "      <th></th>\n",
              "      <th>최고</th>\n",
              "      <th>최저</th>\n",
              "      <th>차이</th>\n",
              "      <th>년도</th>\n",
              "    </tr>\n",
              "    <tr>\n",
              "      <th>일시</th>\n",
              "      <th></th>\n",
              "      <th></th>\n",
              "      <th></th>\n",
              "      <th></th>\n",
              "    </tr>\n",
              "  </thead>\n",
              "  <tbody>\n",
              "    <tr>\n",
              "      <th>2018-01-01</th>\n",
              "      <td>14.0</td>\n",
              "      <td>-9.9</td>\n",
              "      <td>23.0</td>\n",
              "      <td>2018.0</td>\n",
              "    </tr>\n",
              "    <tr>\n",
              "      <th>2018-02-01</th>\n",
              "      <td>14.7</td>\n",
              "      <td>-9.6</td>\n",
              "      <td>24.0</td>\n",
              "      <td>2018.0</td>\n",
              "    </tr>\n",
              "    <tr>\n",
              "      <th>2018-03-01</th>\n",
              "      <td>22.3</td>\n",
              "      <td>-0.7</td>\n",
              "      <td>23.0</td>\n",
              "      <td>2018.0</td>\n",
              "    </tr>\n",
              "    <tr>\n",
              "      <th>2018-04-01</th>\n",
              "      <td>24.3</td>\n",
              "      <td>3.0</td>\n",
              "      <td>21.0</td>\n",
              "      <td>2018.0</td>\n",
              "    </tr>\n",
              "    <tr>\n",
              "      <th>2018-05-01</th>\n",
              "      <td>26.6</td>\n",
              "      <td>9.8</td>\n",
              "      <td>16.0</td>\n",
              "      <td>2018.0</td>\n",
              "    </tr>\n",
              "    <tr>\n",
              "      <th>2018-06-01</th>\n",
              "      <td>31.3</td>\n",
              "      <td>15.1</td>\n",
              "      <td>16.0</td>\n",
              "      <td>2018.0</td>\n",
              "    </tr>\n",
              "    <tr>\n",
              "      <th>2018-07-01</th>\n",
              "      <td>35.4</td>\n",
              "      <td>17.8</td>\n",
              "      <td>17.0</td>\n",
              "      <td>2018.0</td>\n",
              "    </tr>\n",
              "    <tr>\n",
              "      <th>2018-08-01</th>\n",
              "      <td>36.4</td>\n",
              "      <td>21.2</td>\n",
              "      <td>15.0</td>\n",
              "      <td>2018.0</td>\n",
              "    </tr>\n",
              "    <tr>\n",
              "      <th>2018-09-01</th>\n",
              "      <td>30.0</td>\n",
              "      <td>14.9</td>\n",
              "      <td>15.0</td>\n",
              "      <td>2018.0</td>\n",
              "    </tr>\n",
              "    <tr>\n",
              "      <th>2018-10-01</th>\n",
              "      <td>25.6</td>\n",
              "      <td>7.9</td>\n",
              "      <td>17.0</td>\n",
              "      <td>2018.0</td>\n",
              "    </tr>\n",
              "    <tr>\n",
              "      <th>2018-11-01</th>\n",
              "      <td>22.5</td>\n",
              "      <td>2.7</td>\n",
              "      <td>19.0</td>\n",
              "      <td>2018.0</td>\n",
              "    </tr>\n",
              "    <tr>\n",
              "      <th>2018-12-01</th>\n",
              "      <td>18.8</td>\n",
              "      <td>-7.1</td>\n",
              "      <td>25.0</td>\n",
              "      <td>2018.0</td>\n",
              "    </tr>\n",
              "  </tbody>\n",
              "</table>\n",
              "</div>"
            ],
            "text/plain": [
              "              최고    최저    차이      년도\n",
              "일시                                  \n",
              "2018-01-01  14.0  -9.9  23.0  2018.0\n",
              "2018-02-01  14.7  -9.6  24.0  2018.0\n",
              "2018-03-01  22.3  -0.7  23.0  2018.0\n",
              "2018-04-01  24.3   3.0  21.0  2018.0\n",
              "2018-05-01  26.6   9.8  16.0  2018.0\n",
              "2018-06-01  31.3  15.1  16.0  2018.0\n",
              "2018-07-01  35.4  17.8  17.0  2018.0\n",
              "2018-08-01  36.4  21.2  15.0  2018.0\n",
              "2018-09-01  30.0  14.9  15.0  2018.0\n",
              "2018-10-01  25.6   7.9  17.0  2018.0\n",
              "2018-11-01  22.5   2.7  19.0  2018.0\n",
              "2018-12-01  18.8  -7.1  25.0  2018.0"
            ]
          },
          "metadata": {
            "tags": []
          },
          "execution_count": 79
        }
      ]
    },
    {
      "cell_type": "markdown",
      "metadata": {
        "id": "XYScd4ftqAmQ",
        "colab_type": "text"
      },
      "source": [
        "\n",
        "\n",
        "---\n",
        "해결문제) mv1.csv 파일을 읽어서 2019년 자료를 추출하여 평점 평균을 구하시오.\n",
        "\n",
        "\n",
        "```\n",
        "\t        영화명\t                 순위\t  평점\n",
        "일자\t\t\t\n",
        "2019-07-31\t마이펫의 이중생활 2\t        47\t  7.900000\n",
        "2019-06-19\t롱 리브 더 킹: 목포 영웅\t48    7.600000\n",
        "2019-12-11\t쥬만지: 넥스트 레벨\t        49\t  5.900000\n",
        "2019-06-26\t존 윅 3: 파라벨룸\t        50\t  6.900000\n",
        "평균\t\t\t                              7.48163\n",
        "```\n",
        "\n",
        "\n",
        "\n",
        "---\n",
        "\n",
        "\n"
      ]
    },
    {
      "cell_type": "code",
      "metadata": {
        "id": "T-DxKPr3qB1A",
        "colab_type": "code",
        "colab": {
          "base_uri": "https://localhost:8080/",
          "height": 204
        },
        "outputId": "d8ebac1a-5b8d-40bb-9fcc-e1fa80b057e1"
      },
      "source": [
        "dfmv = pd.read_csv('/content/drive/My Drive/PythonWork/PythonBasic/04/mv1.csv',names=['영화코드', '순위', '링크', '영화명', '평점', '일자'], header=None)\n",
        "dfmv.head()"
      ],
      "execution_count": null,
      "outputs": [
        {
          "output_type": "execute_result",
          "data": {
            "text/html": [
              "<div>\n",
              "<style scoped>\n",
              "    .dataframe tbody tr th:only-of-type {\n",
              "        vertical-align: middle;\n",
              "    }\n",
              "\n",
              "    .dataframe tbody tr th {\n",
              "        vertical-align: top;\n",
              "    }\n",
              "\n",
              "    .dataframe thead th {\n",
              "        text-align: right;\n",
              "    }\n",
              "</style>\n",
              "<table border=\"1\" class=\"dataframe\">\n",
              "  <thead>\n",
              "    <tr style=\"text-align: right;\">\n",
              "      <th></th>\n",
              "      <th>영화코드</th>\n",
              "      <th>순위</th>\n",
              "      <th>링크</th>\n",
              "      <th>영화명</th>\n",
              "      <th>평점</th>\n",
              "      <th>일자</th>\n",
              "    </tr>\n",
              "  </thead>\n",
              "  <tbody>\n",
              "    <tr>\n",
              "      <th>0</th>\n",
              "      <td>119859</td>\n",
              "      <td>1</td>\n",
              "      <td>/moviedb/main?movieId=119859</td>\n",
              "      <td>극한직업</td>\n",
              "      <td>7.4</td>\n",
              "      <td>2019.01.23</td>\n",
              "    </tr>\n",
              "    <tr>\n",
              "      <th>1</th>\n",
              "      <td>93252</td>\n",
              "      <td>2</td>\n",
              "      <td>/moviedb/main?movieId=93252</td>\n",
              "      <td>어벤져스: 엔드게임</td>\n",
              "      <td>7.8</td>\n",
              "      <td>2019.04.24</td>\n",
              "    </tr>\n",
              "    <tr>\n",
              "      <th>2</th>\n",
              "      <td>93004</td>\n",
              "      <td>3</td>\n",
              "      <td>/moviedb/main?movieId=93004</td>\n",
              "      <td>겨울왕국 2</td>\n",
              "      <td>7.4</td>\n",
              "      <td>2019.11.21</td>\n",
              "    </tr>\n",
              "    <tr>\n",
              "      <th>3</th>\n",
              "      <td>115601</td>\n",
              "      <td>4</td>\n",
              "      <td>/moviedb/main?movieId=115601</td>\n",
              "      <td>알라딘</td>\n",
              "      <td>8.4</td>\n",
              "      <td>2019.05.23</td>\n",
              "    </tr>\n",
              "    <tr>\n",
              "      <th>4</th>\n",
              "      <td>111292</td>\n",
              "      <td>5</td>\n",
              "      <td>/moviedb/main?movieId=111292</td>\n",
              "      <td>기생충</td>\n",
              "      <td>7.9</td>\n",
              "      <td>2019.05.30</td>\n",
              "    </tr>\n",
              "  </tbody>\n",
              "</table>\n",
              "</div>"
            ],
            "text/plain": [
              "     영화코드  순위                             링크          영화명   평점           일자\n",
              "0  119859   1   /moviedb/main?movieId=119859         극한직업  7.4   2019.01.23\n",
              "1   93252   2    /moviedb/main?movieId=93252   어벤져스: 엔드게임  7.8   2019.04.24\n",
              "2   93004   3    /moviedb/main?movieId=93004       겨울왕국 2  7.4   2019.11.21\n",
              "3  115601   4   /moviedb/main?movieId=115601          알라딘  8.4   2019.05.23\n",
              "4  111292   5   /moviedb/main?movieId=111292          기생충  7.9   2019.05.30"
            ]
          },
          "metadata": {
            "tags": []
          },
          "execution_count": 324
        }
      ]
    },
    {
      "cell_type": "code",
      "metadata": {
        "id": "Urr44XYWrRyp",
        "colab_type": "code",
        "colab": {
          "base_uri": "https://localhost:8080/",
          "height": 204
        },
        "outputId": "d43ce3fa-4990-4c35-a0ed-a7ceef1367cc"
      },
      "source": [
        "df = dfmv[['일자','영화명','순위', '평점']]\n",
        "df.head()"
      ],
      "execution_count": null,
      "outputs": [
        {
          "output_type": "execute_result",
          "data": {
            "text/html": [
              "<div>\n",
              "<style scoped>\n",
              "    .dataframe tbody tr th:only-of-type {\n",
              "        vertical-align: middle;\n",
              "    }\n",
              "\n",
              "    .dataframe tbody tr th {\n",
              "        vertical-align: top;\n",
              "    }\n",
              "\n",
              "    .dataframe thead th {\n",
              "        text-align: right;\n",
              "    }\n",
              "</style>\n",
              "<table border=\"1\" class=\"dataframe\">\n",
              "  <thead>\n",
              "    <tr style=\"text-align: right;\">\n",
              "      <th></th>\n",
              "      <th>일자</th>\n",
              "      <th>영화명</th>\n",
              "      <th>순위</th>\n",
              "      <th>평점</th>\n",
              "    </tr>\n",
              "  </thead>\n",
              "  <tbody>\n",
              "    <tr>\n",
              "      <th>0</th>\n",
              "      <td>2019.01.23</td>\n",
              "      <td>극한직업</td>\n",
              "      <td>1</td>\n",
              "      <td>7.4</td>\n",
              "    </tr>\n",
              "    <tr>\n",
              "      <th>1</th>\n",
              "      <td>2019.04.24</td>\n",
              "      <td>어벤져스: 엔드게임</td>\n",
              "      <td>2</td>\n",
              "      <td>7.8</td>\n",
              "    </tr>\n",
              "    <tr>\n",
              "      <th>2</th>\n",
              "      <td>2019.11.21</td>\n",
              "      <td>겨울왕국 2</td>\n",
              "      <td>3</td>\n",
              "      <td>7.4</td>\n",
              "    </tr>\n",
              "    <tr>\n",
              "      <th>3</th>\n",
              "      <td>2019.05.23</td>\n",
              "      <td>알라딘</td>\n",
              "      <td>4</td>\n",
              "      <td>8.4</td>\n",
              "    </tr>\n",
              "    <tr>\n",
              "      <th>4</th>\n",
              "      <td>2019.05.30</td>\n",
              "      <td>기생충</td>\n",
              "      <td>5</td>\n",
              "      <td>7.9</td>\n",
              "    </tr>\n",
              "  </tbody>\n",
              "</table>\n",
              "</div>"
            ],
            "text/plain": [
              "            일자          영화명  순위   평점\n",
              "0   2019.01.23         극한직업   1  7.4\n",
              "1   2019.04.24   어벤져스: 엔드게임   2  7.8\n",
              "2   2019.11.21       겨울왕국 2   3  7.4\n",
              "3   2019.05.23          알라딘   4  8.4\n",
              "4   2019.05.30          기생충   5  7.9"
            ]
          },
          "metadata": {
            "tags": []
          },
          "execution_count": 325
        }
      ]
    },
    {
      "cell_type": "code",
      "metadata": {
        "id": "pWhC3SrHrvvN",
        "colab_type": "code",
        "colab": {
          "base_uri": "https://localhost:8080/",
          "height": 215
        },
        "outputId": "89ecf84b-745f-4da7-c4d5-f95531783dab"
      },
      "source": [
        "df['일자'] = pd.to_datetime(df['일자'])\n",
        "df.dtypes"
      ],
      "execution_count": null,
      "outputs": [
        {
          "output_type": "stream",
          "text": [
            "/usr/local/lib/python3.6/dist-packages/ipykernel_launcher.py:1: SettingWithCopyWarning: \n",
            "A value is trying to be set on a copy of a slice from a DataFrame.\n",
            "Try using .loc[row_indexer,col_indexer] = value instead\n",
            "\n",
            "See the caveats in the documentation: https://pandas.pydata.org/pandas-docs/stable/user_guide/indexing.html#returning-a-view-versus-a-copy\n",
            "  \"\"\"Entry point for launching an IPython kernel.\n"
          ],
          "name": "stderr"
        },
        {
          "output_type": "execute_result",
          "data": {
            "text/plain": [
              "일자     datetime64[ns]\n",
              "영화명            object\n",
              "순위              int64\n",
              "평점            float64\n",
              "dtype: object"
            ]
          },
          "metadata": {
            "tags": []
          },
          "execution_count": 326
        }
      ]
    },
    {
      "cell_type": "code",
      "metadata": {
        "id": "7fntDkFQvf7C",
        "colab_type": "code",
        "colab": {
          "base_uri": "https://localhost:8080/",
          "height": 204
        },
        "outputId": "ab8016e9-9f04-4480-9ba4-7ec6e3008984"
      },
      "source": [
        "df2019 = df[df['일자'].dt.year == 2019]\n",
        "df2019.head()"
      ],
      "execution_count": null,
      "outputs": [
        {
          "output_type": "execute_result",
          "data": {
            "text/html": [
              "<div>\n",
              "<style scoped>\n",
              "    .dataframe tbody tr th:only-of-type {\n",
              "        vertical-align: middle;\n",
              "    }\n",
              "\n",
              "    .dataframe tbody tr th {\n",
              "        vertical-align: top;\n",
              "    }\n",
              "\n",
              "    .dataframe thead th {\n",
              "        text-align: right;\n",
              "    }\n",
              "</style>\n",
              "<table border=\"1\" class=\"dataframe\">\n",
              "  <thead>\n",
              "    <tr style=\"text-align: right;\">\n",
              "      <th></th>\n",
              "      <th>일자</th>\n",
              "      <th>영화명</th>\n",
              "      <th>순위</th>\n",
              "      <th>평점</th>\n",
              "    </tr>\n",
              "  </thead>\n",
              "  <tbody>\n",
              "    <tr>\n",
              "      <th>0</th>\n",
              "      <td>2019-01-23</td>\n",
              "      <td>극한직업</td>\n",
              "      <td>1</td>\n",
              "      <td>7.4</td>\n",
              "    </tr>\n",
              "    <tr>\n",
              "      <th>1</th>\n",
              "      <td>2019-04-24</td>\n",
              "      <td>어벤져스: 엔드게임</td>\n",
              "      <td>2</td>\n",
              "      <td>7.8</td>\n",
              "    </tr>\n",
              "    <tr>\n",
              "      <th>2</th>\n",
              "      <td>2019-11-21</td>\n",
              "      <td>겨울왕국 2</td>\n",
              "      <td>3</td>\n",
              "      <td>7.4</td>\n",
              "    </tr>\n",
              "    <tr>\n",
              "      <th>3</th>\n",
              "      <td>2019-05-23</td>\n",
              "      <td>알라딘</td>\n",
              "      <td>4</td>\n",
              "      <td>8.4</td>\n",
              "    </tr>\n",
              "    <tr>\n",
              "      <th>4</th>\n",
              "      <td>2019-05-30</td>\n",
              "      <td>기생충</td>\n",
              "      <td>5</td>\n",
              "      <td>7.9</td>\n",
              "    </tr>\n",
              "  </tbody>\n",
              "</table>\n",
              "</div>"
            ],
            "text/plain": [
              "          일자          영화명  순위   평점\n",
              "0 2019-01-23         극한직업   1  7.4\n",
              "1 2019-04-24   어벤져스: 엔드게임   2  7.8\n",
              "2 2019-11-21       겨울왕국 2   3  7.4\n",
              "3 2019-05-23          알라딘   4  8.4\n",
              "4 2019-05-30          기생충   5  7.9"
            ]
          },
          "metadata": {
            "tags": []
          },
          "execution_count": 327
        }
      ]
    },
    {
      "cell_type": "code",
      "metadata": {
        "id": "WGj4grJsxsUG",
        "colab_type": "code",
        "colab": {
          "base_uri": "https://localhost:8080/",
          "height": 215
        },
        "outputId": "839ba2d1-1bfe-4408-cdf9-17d3c88b61eb"
      },
      "source": [
        "df2019['일자'] = df2019['일자'].astype(str)\n",
        "df2019.dtypes"
      ],
      "execution_count": null,
      "outputs": [
        {
          "output_type": "stream",
          "text": [
            "/usr/local/lib/python3.6/dist-packages/ipykernel_launcher.py:1: SettingWithCopyWarning: \n",
            "A value is trying to be set on a copy of a slice from a DataFrame.\n",
            "Try using .loc[row_indexer,col_indexer] = value instead\n",
            "\n",
            "See the caveats in the documentation: https://pandas.pydata.org/pandas-docs/stable/user_guide/indexing.html#returning-a-view-versus-a-copy\n",
            "  \"\"\"Entry point for launching an IPython kernel.\n"
          ],
          "name": "stderr"
        },
        {
          "output_type": "execute_result",
          "data": {
            "text/plain": [
              "일자      object\n",
              "영화명     object\n",
              "순위       int64\n",
              "평점     float64\n",
              "dtype: object"
            ]
          },
          "metadata": {
            "tags": []
          },
          "execution_count": 328
        }
      ]
    },
    {
      "cell_type": "code",
      "metadata": {
        "id": "kuLHEhKUwUP1",
        "colab_type": "code",
        "colab": {
          "base_uri": "https://localhost:8080/",
          "height": 235
        },
        "outputId": "dbccdadf-3c53-49dd-cdcb-b3339cd15a19"
      },
      "source": [
        "df2019 = df2019.set_index('일자')\n",
        "df2019.head()"
      ],
      "execution_count": null,
      "outputs": [
        {
          "output_type": "execute_result",
          "data": {
            "text/html": [
              "<div>\n",
              "<style scoped>\n",
              "    .dataframe tbody tr th:only-of-type {\n",
              "        vertical-align: middle;\n",
              "    }\n",
              "\n",
              "    .dataframe tbody tr th {\n",
              "        vertical-align: top;\n",
              "    }\n",
              "\n",
              "    .dataframe thead th {\n",
              "        text-align: right;\n",
              "    }\n",
              "</style>\n",
              "<table border=\"1\" class=\"dataframe\">\n",
              "  <thead>\n",
              "    <tr style=\"text-align: right;\">\n",
              "      <th></th>\n",
              "      <th>영화명</th>\n",
              "      <th>순위</th>\n",
              "      <th>평점</th>\n",
              "    </tr>\n",
              "    <tr>\n",
              "      <th>일자</th>\n",
              "      <th></th>\n",
              "      <th></th>\n",
              "      <th></th>\n",
              "    </tr>\n",
              "  </thead>\n",
              "  <tbody>\n",
              "    <tr>\n",
              "      <th>2019-01-23</th>\n",
              "      <td>극한직업</td>\n",
              "      <td>1</td>\n",
              "      <td>7.4</td>\n",
              "    </tr>\n",
              "    <tr>\n",
              "      <th>2019-04-24</th>\n",
              "      <td>어벤져스: 엔드게임</td>\n",
              "      <td>2</td>\n",
              "      <td>7.8</td>\n",
              "    </tr>\n",
              "    <tr>\n",
              "      <th>2019-11-21</th>\n",
              "      <td>겨울왕국 2</td>\n",
              "      <td>3</td>\n",
              "      <td>7.4</td>\n",
              "    </tr>\n",
              "    <tr>\n",
              "      <th>2019-05-23</th>\n",
              "      <td>알라딘</td>\n",
              "      <td>4</td>\n",
              "      <td>8.4</td>\n",
              "    </tr>\n",
              "    <tr>\n",
              "      <th>2019-05-30</th>\n",
              "      <td>기생충</td>\n",
              "      <td>5</td>\n",
              "      <td>7.9</td>\n",
              "    </tr>\n",
              "  </tbody>\n",
              "</table>\n",
              "</div>"
            ],
            "text/plain": [
              "                    영화명  순위   평점\n",
              "일자                              \n",
              "2019-01-23         극한직업   1  7.4\n",
              "2019-04-24   어벤져스: 엔드게임   2  7.8\n",
              "2019-11-21       겨울왕국 2   3  7.4\n",
              "2019-05-23          알라딘   4  8.4\n",
              "2019-05-30          기생충   5  7.9"
            ]
          },
          "metadata": {
            "tags": []
          },
          "execution_count": 329
        }
      ]
    },
    {
      "cell_type": "code",
      "metadata": {
        "id": "PSFSZCglwp9Q",
        "colab_type": "code",
        "colab": {
          "base_uri": "https://localhost:8080/",
          "height": 1000
        },
        "outputId": "cd37f495-7b2f-4d38-9731-6e6ae4753efd"
      },
      "source": [
        "df2019.loc['평균'] = df2019.mean(axis=0)\n",
        "df2019"
      ],
      "execution_count": null,
      "outputs": [
        {
          "output_type": "execute_result",
          "data": {
            "text/html": [
              "<div>\n",
              "<style scoped>\n",
              "    .dataframe tbody tr th:only-of-type {\n",
              "        vertical-align: middle;\n",
              "    }\n",
              "\n",
              "    .dataframe tbody tr th {\n",
              "        vertical-align: top;\n",
              "    }\n",
              "\n",
              "    .dataframe thead th {\n",
              "        text-align: right;\n",
              "    }\n",
              "</style>\n",
              "<table border=\"1\" class=\"dataframe\">\n",
              "  <thead>\n",
              "    <tr style=\"text-align: right;\">\n",
              "      <th></th>\n",
              "      <th>영화명</th>\n",
              "      <th>순위</th>\n",
              "      <th>평점</th>\n",
              "    </tr>\n",
              "    <tr>\n",
              "      <th>일자</th>\n",
              "      <th></th>\n",
              "      <th></th>\n",
              "      <th></th>\n",
              "    </tr>\n",
              "  </thead>\n",
              "  <tbody>\n",
              "    <tr>\n",
              "      <th>2019-01-23</th>\n",
              "      <td>극한직업</td>\n",
              "      <td>1.000000</td>\n",
              "      <td>7.400000</td>\n",
              "    </tr>\n",
              "    <tr>\n",
              "      <th>2019-04-24</th>\n",
              "      <td>어벤져스: 엔드게임</td>\n",
              "      <td>2.000000</td>\n",
              "      <td>7.800000</td>\n",
              "    </tr>\n",
              "    <tr>\n",
              "      <th>2019-11-21</th>\n",
              "      <td>겨울왕국 2</td>\n",
              "      <td>3.000000</td>\n",
              "      <td>7.400000</td>\n",
              "    </tr>\n",
              "    <tr>\n",
              "      <th>2019-05-23</th>\n",
              "      <td>알라딘</td>\n",
              "      <td>4.000000</td>\n",
              "      <td>8.400000</td>\n",
              "    </tr>\n",
              "    <tr>\n",
              "      <th>2019-05-30</th>\n",
              "      <td>기생충</td>\n",
              "      <td>5.000000</td>\n",
              "      <td>7.900000</td>\n",
              "    </tr>\n",
              "    <tr>\n",
              "      <th>2019-07-31</th>\n",
              "      <td>엑시트</td>\n",
              "      <td>6.000000</td>\n",
              "      <td>7.700000</td>\n",
              "    </tr>\n",
              "    <tr>\n",
              "      <th>2019-07-02</th>\n",
              "      <td>스파이더맨: 파 프롬 홈</td>\n",
              "      <td>7.000000</td>\n",
              "      <td>6.500000</td>\n",
              "    </tr>\n",
              "    <tr>\n",
              "      <th>2019-12-19</th>\n",
              "      <td>백두산</td>\n",
              "      <td>8.000000</td>\n",
              "      <td>6.500000</td>\n",
              "    </tr>\n",
              "    <tr>\n",
              "      <th>2019-03-06</th>\n",
              "      <td>캡틴 마블</td>\n",
              "      <td>9.000000</td>\n",
              "      <td>6.300000</td>\n",
              "    </tr>\n",
              "    <tr>\n",
              "      <th>2019-10-02</th>\n",
              "      <td>조커</td>\n",
              "      <td>10.000000</td>\n",
              "      <td>7.700000</td>\n",
              "    </tr>\n",
              "    <tr>\n",
              "      <th>2019-08-07</th>\n",
              "      <td>봉오동 전투</td>\n",
              "      <td>11.000000</td>\n",
              "      <td>8.800000</td>\n",
              "    </tr>\n",
              "    <tr>\n",
              "      <th>2019-07-17</th>\n",
              "      <td>라이온 킹</td>\n",
              "      <td>12.000000</td>\n",
              "      <td>7.400000</td>\n",
              "    </tr>\n",
              "    <tr>\n",
              "      <th>2019-09-11</th>\n",
              "      <td>나쁜 녀석들: 더 무비</td>\n",
              "      <td>13.000000</td>\n",
              "      <td>6.300000</td>\n",
              "    </tr>\n",
              "    <tr>\n",
              "      <th>2019-10-23</th>\n",
              "      <td>82년생 김지영</td>\n",
              "      <td>14.000000</td>\n",
              "      <td>6.700000</td>\n",
              "    </tr>\n",
              "    <tr>\n",
              "      <th>2019-08-14</th>\n",
              "      <td>분노의 질주: 홉스&amp;쇼</td>\n",
              "      <td>15.000000</td>\n",
              "      <td>7.000000</td>\n",
              "    </tr>\n",
              "    <tr>\n",
              "      <th>2019-06-20</th>\n",
              "      <td>토이 스토리 4</td>\n",
              "      <td>16.000000</td>\n",
              "      <td>8.600000</td>\n",
              "    </tr>\n",
              "    <tr>\n",
              "      <th>2019-03-20</th>\n",
              "      <td>돈</td>\n",
              "      <td>17.000000</td>\n",
              "      <td>6.700000</td>\n",
              "    </tr>\n",
              "    <tr>\n",
              "      <th>2019-05-15</th>\n",
              "      <td>악인전</td>\n",
              "      <td>18.000000</td>\n",
              "      <td>7.400000</td>\n",
              "    </tr>\n",
              "    <tr>\n",
              "      <th>2019-10-02</th>\n",
              "      <td>가장 보통의 연애</td>\n",
              "      <td>19.000000</td>\n",
              "      <td>7.400000</td>\n",
              "    </tr>\n",
              "    <tr>\n",
              "      <th>2019-01-09</th>\n",
              "      <td>말모이</td>\n",
              "      <td>20.000000</td>\n",
              "      <td>9.100000</td>\n",
              "    </tr>\n",
              "    <tr>\n",
              "      <th>2019-02-13</th>\n",
              "      <td>증인</td>\n",
              "      <td>21.000000</td>\n",
              "      <td>9.300000</td>\n",
              "    </tr>\n",
              "    <tr>\n",
              "      <th>2019-12-18</th>\n",
              "      <td>시동</td>\n",
              "      <td>22.000000</td>\n",
              "      <td>7.600000</td>\n",
              "    </tr>\n",
              "    <tr>\n",
              "      <th>2019-11-13</th>\n",
              "      <td>블랙머니</td>\n",
              "      <td>23.000000</td>\n",
              "      <td>9.100000</td>\n",
              "    </tr>\n",
              "    <tr>\n",
              "      <th>2019-10-30</th>\n",
              "      <td>터미네이터: 다크 페이트</td>\n",
              "      <td>24.000000</td>\n",
              "      <td>7.800000</td>\n",
              "    </tr>\n",
              "    <tr>\n",
              "      <th>2019-02-20</th>\n",
              "      <td>사바하</td>\n",
              "      <td>25.000000</td>\n",
              "      <td>7.300000</td>\n",
              "    </tr>\n",
              "    <tr>\n",
              "      <th>2019-09-11</th>\n",
              "      <td>타짜: 원 아이드 잭</td>\n",
              "      <td>26.000000</td>\n",
              "      <td>5.200000</td>\n",
              "    </tr>\n",
              "    <tr>\n",
              "      <th>2019-11-07</th>\n",
              "      <td>신의 한 수: 귀수편</td>\n",
              "      <td>27.000000</td>\n",
              "      <td>6.800000</td>\n",
              "    </tr>\n",
              "    <tr>\n",
              "      <th>2019-02-05</th>\n",
              "      <td>알리타: 배틀 엔젤</td>\n",
              "      <td>28.000000</td>\n",
              "      <td>8.300000</td>\n",
              "    </tr>\n",
              "    <tr>\n",
              "      <th>2019-01-09</th>\n",
              "      <td>내안의 그놈</td>\n",
              "      <td>29.000000</td>\n",
              "      <td>7.800000</td>\n",
              "    </tr>\n",
              "    <tr>\n",
              "      <th>2019-01-30</th>\n",
              "      <td>뺑반</td>\n",
              "      <td>30.000000</td>\n",
              "      <td>6.200000</td>\n",
              "    </tr>\n",
              "    <tr>\n",
              "      <th>2019-08-21</th>\n",
              "      <td>변신</td>\n",
              "      <td>31.000000</td>\n",
              "      <td>7.500000</td>\n",
              "    </tr>\n",
              "    <tr>\n",
              "      <th>2019-01-03</th>\n",
              "      <td>주먹왕 랄프 2: 인터넷 속으로</td>\n",
              "      <td>32.000000</td>\n",
              "      <td>7.600000</td>\n",
              "    </tr>\n",
              "    <tr>\n",
              "      <th>2019-05-09</th>\n",
              "      <td>걸캅스</td>\n",
              "      <td>33.000000</td>\n",
              "      <td>6.500000</td>\n",
              "    </tr>\n",
              "    <tr>\n",
              "      <th>2019-07-31</th>\n",
              "      <td>사자</td>\n",
              "      <td>34.000000</td>\n",
              "      <td>6.900000</td>\n",
              "    </tr>\n",
              "    <tr>\n",
              "      <th>2019-01-30</th>\n",
              "      <td>드래곤 길들이기 3</td>\n",
              "      <td>36.000000</td>\n",
              "      <td>8.300000</td>\n",
              "    </tr>\n",
              "    <tr>\n",
              "      <th>2019-05-01</th>\n",
              "      <td>나의 특별한 형제</td>\n",
              "      <td>37.000000</td>\n",
              "      <td>8.600000</td>\n",
              "    </tr>\n",
              "    <tr>\n",
              "      <th>2019-03-27</th>\n",
              "      <td>어스</td>\n",
              "      <td>38.000000</td>\n",
              "      <td>5.700000</td>\n",
              "    </tr>\n",
              "    <tr>\n",
              "      <th>2019-10-17</th>\n",
              "      <td>말레피센트 2</td>\n",
              "      <td>39.000000</td>\n",
              "      <td>7.500000</td>\n",
              "    </tr>\n",
              "    <tr>\n",
              "      <th>2019-08-28</th>\n",
              "      <td>유열의 음악앨범</td>\n",
              "      <td>40.000000</td>\n",
              "      <td>7.000000</td>\n",
              "    </tr>\n",
              "    <tr>\n",
              "      <th>2019-10-02</th>\n",
              "      <td>퍼펙트맨</td>\n",
              "      <td>41.000000</td>\n",
              "      <td>6.900000</td>\n",
              "    </tr>\n",
              "    <tr>\n",
              "      <th>2019-12-04</th>\n",
              "      <td>포드 V 페라리</td>\n",
              "      <td>42.000000</td>\n",
              "      <td>8.700000</td>\n",
              "    </tr>\n",
              "    <tr>\n",
              "      <th>2019-04-03</th>\n",
              "      <td>생일</td>\n",
              "      <td>43.000000</td>\n",
              "      <td>8.600000</td>\n",
              "    </tr>\n",
              "    <tr>\n",
              "      <th>2019-09-11</th>\n",
              "      <td>힘을 내요 미스터 리</td>\n",
              "      <td>44.000000</td>\n",
              "      <td>7.700000</td>\n",
              "    </tr>\n",
              "    <tr>\n",
              "      <th>2019-02-27</th>\n",
              "      <td>항거:유관순 이야기</td>\n",
              "      <td>45.000000</td>\n",
              "      <td>9.000000</td>\n",
              "    </tr>\n",
              "    <tr>\n",
              "      <th>2019-09-25</th>\n",
              "      <td>장사리 : 잊혀진 영웅들</td>\n",
              "      <td>46.000000</td>\n",
              "      <td>7.400000</td>\n",
              "    </tr>\n",
              "    <tr>\n",
              "      <th>2019-07-31</th>\n",
              "      <td>마이펫의 이중생활 2</td>\n",
              "      <td>47.000000</td>\n",
              "      <td>7.900000</td>\n",
              "    </tr>\n",
              "    <tr>\n",
              "      <th>2019-06-19</th>\n",
              "      <td>롱 리브 더 킹: 목포 영웅</td>\n",
              "      <td>48.000000</td>\n",
              "      <td>7.600000</td>\n",
              "    </tr>\n",
              "    <tr>\n",
              "      <th>2019-12-11</th>\n",
              "      <td>쥬만지: 넥스트 레벨</td>\n",
              "      <td>49.000000</td>\n",
              "      <td>5.900000</td>\n",
              "    </tr>\n",
              "    <tr>\n",
              "      <th>2019-06-26</th>\n",
              "      <td>존 윅 3: 파라벨룸</td>\n",
              "      <td>50.000000</td>\n",
              "      <td>6.900000</td>\n",
              "    </tr>\n",
              "    <tr>\n",
              "      <th>평균</th>\n",
              "      <td>NaN</td>\n",
              "      <td>25.306122</td>\n",
              "      <td>7.481633</td>\n",
              "    </tr>\n",
              "  </tbody>\n",
              "</table>\n",
              "</div>"
            ],
            "text/plain": [
              "                           영화명         순위        평점\n",
              "일자                                                 \n",
              "2019-01-23                극한직업   1.000000  7.400000\n",
              "2019-04-24          어벤져스: 엔드게임   2.000000  7.800000\n",
              "2019-11-21              겨울왕국 2   3.000000  7.400000\n",
              "2019-05-23                 알라딘   4.000000  8.400000\n",
              "2019-05-30                 기생충   5.000000  7.900000\n",
              "2019-07-31                 엑시트   6.000000  7.700000\n",
              "2019-07-02       스파이더맨: 파 프롬 홈   7.000000  6.500000\n",
              "2019-12-19                 백두산   8.000000  6.500000\n",
              "2019-03-06               캡틴 마블   9.000000  6.300000\n",
              "2019-10-02                  조커  10.000000  7.700000\n",
              "2019-08-07              봉오동 전투  11.000000  8.800000\n",
              "2019-07-17               라이온 킹  12.000000  7.400000\n",
              "2019-09-11        나쁜 녀석들: 더 무비  13.000000  6.300000\n",
              "2019-10-23            82년생 김지영  14.000000  6.700000\n",
              "2019-08-14        분노의 질주: 홉스&쇼  15.000000  7.000000\n",
              "2019-06-20            토이 스토리 4  16.000000  8.600000\n",
              "2019-03-20                   돈  17.000000  6.700000\n",
              "2019-05-15                 악인전  18.000000  7.400000\n",
              "2019-10-02           가장 보통의 연애  19.000000  7.400000\n",
              "2019-01-09                 말모이  20.000000  9.100000\n",
              "2019-02-13                  증인  21.000000  9.300000\n",
              "2019-12-18                  시동  22.000000  7.600000\n",
              "2019-11-13                블랙머니  23.000000  9.100000\n",
              "2019-10-30       터미네이터: 다크 페이트  24.000000  7.800000\n",
              "2019-02-20                 사바하  25.000000  7.300000\n",
              "2019-09-11         타짜: 원 아이드 잭  26.000000  5.200000\n",
              "2019-11-07         신의 한 수: 귀수편  27.000000  6.800000\n",
              "2019-02-05          알리타: 배틀 엔젤  28.000000  8.300000\n",
              "2019-01-09              내안의 그놈  29.000000  7.800000\n",
              "2019-01-30                  뺑반  30.000000  6.200000\n",
              "2019-08-21                  변신  31.000000  7.500000\n",
              "2019-01-03   주먹왕 랄프 2: 인터넷 속으로  32.000000  7.600000\n",
              "2019-05-09                 걸캅스  33.000000  6.500000\n",
              "2019-07-31                  사자  34.000000  6.900000\n",
              "2019-01-30          드래곤 길들이기 3  36.000000  8.300000\n",
              "2019-05-01           나의 특별한 형제  37.000000  8.600000\n",
              "2019-03-27                  어스  38.000000  5.700000\n",
              "2019-10-17             말레피센트 2  39.000000  7.500000\n",
              "2019-08-28            유열의 음악앨범  40.000000  7.000000\n",
              "2019-10-02                퍼펙트맨  41.000000  6.900000\n",
              "2019-12-04            포드 V 페라리  42.000000  8.700000\n",
              "2019-04-03                  생일  43.000000  8.600000\n",
              "2019-09-11         힘을 내요 미스터 리  44.000000  7.700000\n",
              "2019-02-27          항거:유관순 이야기  45.000000  9.000000\n",
              "2019-09-25       장사리 : 잊혀진 영웅들  46.000000  7.400000\n",
              "2019-07-31         마이펫의 이중생활 2  47.000000  7.900000\n",
              "2019-06-19     롱 리브 더 킹: 목포 영웅  48.000000  7.600000\n",
              "2019-12-11         쥬만지: 넥스트 레벨  49.000000  5.900000\n",
              "2019-06-26         존 윅 3: 파라벨룸  50.000000  6.900000\n",
              "평균                         NaN  25.306122  7.481633"
            ]
          },
          "metadata": {
            "tags": []
          },
          "execution_count": 330
        }
      ]
    },
    {
      "cell_type": "code",
      "metadata": {
        "id": "loorGEmvykmq",
        "colab_type": "code",
        "colab": {
          "base_uri": "https://localhost:8080/",
          "height": 235
        },
        "outputId": "892b9c1a-2440-4ad1-84ae-3f78ef152f38"
      },
      "source": [
        "df2019.loc['평균', '영화명'] = ''\n",
        "df2019.loc['평균', '순위'] = ''\n",
        "\n",
        "df2019.tail()"
      ],
      "execution_count": null,
      "outputs": [
        {
          "output_type": "execute_result",
          "data": {
            "text/html": [
              "<div>\n",
              "<style scoped>\n",
              "    .dataframe tbody tr th:only-of-type {\n",
              "        vertical-align: middle;\n",
              "    }\n",
              "\n",
              "    .dataframe tbody tr th {\n",
              "        vertical-align: top;\n",
              "    }\n",
              "\n",
              "    .dataframe thead th {\n",
              "        text-align: right;\n",
              "    }\n",
              "</style>\n",
              "<table border=\"1\" class=\"dataframe\">\n",
              "  <thead>\n",
              "    <tr style=\"text-align: right;\">\n",
              "      <th></th>\n",
              "      <th>영화명</th>\n",
              "      <th>순위</th>\n",
              "      <th>평점</th>\n",
              "    </tr>\n",
              "    <tr>\n",
              "      <th>일자</th>\n",
              "      <th></th>\n",
              "      <th></th>\n",
              "      <th></th>\n",
              "    </tr>\n",
              "  </thead>\n",
              "  <tbody>\n",
              "    <tr>\n",
              "      <th>2019-07-31</th>\n",
              "      <td>마이펫의 이중생활 2</td>\n",
              "      <td>47</td>\n",
              "      <td>7.900000</td>\n",
              "    </tr>\n",
              "    <tr>\n",
              "      <th>2019-06-19</th>\n",
              "      <td>롱 리브 더 킹: 목포 영웅</td>\n",
              "      <td>48</td>\n",
              "      <td>7.600000</td>\n",
              "    </tr>\n",
              "    <tr>\n",
              "      <th>2019-12-11</th>\n",
              "      <td>쥬만지: 넥스트 레벨</td>\n",
              "      <td>49</td>\n",
              "      <td>5.900000</td>\n",
              "    </tr>\n",
              "    <tr>\n",
              "      <th>2019-06-26</th>\n",
              "      <td>존 윅 3: 파라벨룸</td>\n",
              "      <td>50</td>\n",
              "      <td>6.900000</td>\n",
              "    </tr>\n",
              "    <tr>\n",
              "      <th>평균</th>\n",
              "      <td></td>\n",
              "      <td></td>\n",
              "      <td>7.481633</td>\n",
              "    </tr>\n",
              "  </tbody>\n",
              "</table>\n",
              "</div>"
            ],
            "text/plain": [
              "                         영화명  순위        평점\n",
              "일자                                        \n",
              "2019-07-31       마이펫의 이중생활 2  47  7.900000\n",
              "2019-06-19   롱 리브 더 킹: 목포 영웅  48  7.600000\n",
              "2019-12-11       쥬만지: 넥스트 레벨  49  5.900000\n",
              "2019-06-26       존 윅 3: 파라벨룸  50  6.900000\n",
              "평균                                7.481633"
            ]
          },
          "metadata": {
            "tags": []
          },
          "execution_count": 332
        }
      ]
    },
    {
      "cell_type": "code",
      "metadata": {
        "id": "rLRLVyNd0NjB",
        "colab_type": "code",
        "colab": {}
      },
      "source": [
        ""
      ],
      "execution_count": null,
      "outputs": []
    }
  ]
}