{
  "nbformat": 4,
  "nbformat_minor": 0,
  "metadata": {
    "colab": {
      "name": "python03_5_bs.ipynb",
      "provenance": [],
      "authorship_tag": "ABX9TyOeZLHhHWskU5qslpDgpT3F",
      "include_colab_link": true
    },
    "kernelspec": {
      "name": "python3",
      "display_name": "Python 3"
    }
  },
  "cells": [
    {
      "cell_type": "markdown",
      "metadata": {
        "id": "view-in-github",
        "colab_type": "text"
      },
      "source": [
        "<a href=\"https://colab.research.google.com/github/cybermin/pythonbasic/blob/master/03/python03_5_bs.ipynb\" target=\"_parent\"><img src=\"https://colab.research.google.com/assets/colab-badge.svg\" alt=\"Open In Colab\"/></a>"
      ]
    },
    {
      "cell_type": "markdown",
      "metadata": {
        "id": "h27rsz3dB_jE",
        "colab_type": "text"
      },
      "source": [
        "# Beautiful Soup 모듈\n",
        "+ HTML 및 XML 문서 를 구문 분석하기 위한 Python 패키지\n",
        "+ DOM 추출\n",
        "+ 기본적으로 UTF-8 인코딩 방식이지만 CP949도 지원"
      ]
    },
    {
      "cell_type": "code",
      "metadata": {
        "id": "dLm9FfujB36D",
        "colab_type": "code",
        "colab": {}
      },
      "source": [
        "from bs4 import BeautifulSoup"
      ],
      "execution_count": null,
      "outputs": []
    },
    {
      "cell_type": "code",
      "metadata": {
        "id": "VSQ94r9hDGyX",
        "colab_type": "code",
        "colab": {}
      },
      "source": [
        "#웹 페이지 읽어 오기\n",
        "from urllib.request import urlopen\n",
        "from urllib import parse"
      ],
      "execution_count": null,
      "outputs": []
    },
    {
      "cell_type": "code",
      "metadata": {
        "id": "UidXOs2hLGUu",
        "colab_type": "code",
        "colab": {
          "base_uri": "https://localhost:8080/",
          "height": 72
        },
        "outputId": "5d168bf2-5eb4-46aa-9ad7-bd471ea96659"
      },
      "source": [
        "#영화 공공데이터 : http://www.kobis.or.kr/kobisopenapi/homepg/apiservice/searchServiceInfo.do\n",
        "\n",
        "mykey='430156241533f1d058c603178cc3ca0e'\n",
        "mytargetDt='20120101'\n",
        "\n",
        "url = 'http://www.kobis.or.kr/kobisopenapi/webservice/rest/boxoffice/searchDailyBoxOfficeList.xml?'\n",
        "url = url + 'key=' + mykey\n",
        "url = url + '&targetDt='+ mytargetDt\n",
        "\n",
        "data = urlopen(url).read().decode('utf-8')\n",
        "print(data)\n",
        "print(type(data))"
      ],
      "execution_count": null,
      "outputs": [
        {
          "output_type": "stream",
          "text": [
            "<?xml version=\"1.0\" encoding=\"utf-8\" standalone=\"yes\"?><boxOfficeResult><boxofficeType>일별 박스오피스</boxofficeType><showRange>20120101~20120101</showRange><dailyBoxOfficeList><dailyBoxOffice><rnum>1</rnum><rank>1</rank><rankInten>0</rankInten><rankOldAndNew>OLD</rankOldAndNew><movieCd>20112207</movieCd><movieNm>미션임파서블:고스트프로토콜</movieNm><openDt>2011-12-15</openDt><salesAmt>2776060500</salesAmt><salesShare>36.3</salesShare><salesInten>-415699000</salesInten><salesChange>-13</salesChange><salesAcc>40541108500</salesAcc><audiCnt>353274</audiCnt><audiInten>-60106</audiInten><audiChange>-14.5</audiChange><audiAcc>5328435</audiAcc><scrnCnt>697</scrnCnt><showCnt>3223</showCnt></dailyBoxOffice><dailyBoxOffice><rnum>2</rnum><rank>2</rank><rankInten>1</rankInten><rankOldAndNew>OLD</rankOldAndNew><movieCd>20110295</movieCd><movieNm>마이 웨이</movieNm><openDt>2011-12-21</openDt><salesAmt>1189058500</salesAmt><salesShare>15.6</salesShare><salesInten>-105894500</salesInten><salesChange>-8.2</salesChange><salesAcc>13002897500</salesAcc><audiCnt>153501</audiCnt><audiInten>-16465</audiInten><audiChange>-9.7</audiChange><audiAcc>1739543</audiAcc><scrnCnt>588</scrnCnt><showCnt>2321</showCnt></dailyBoxOffice><dailyBoxOffice><rnum>3</rnum><rank>3</rank><rankInten>-1</rankInten><rankOldAndNew>OLD</rankOldAndNew><movieCd>20112621</movieCd><movieNm>셜록홈즈 : 그림자 게임</movieNm><openDt>2011-12-21</openDt><salesAmt>1176022500</salesAmt><salesShare>15.4</salesShare><salesInten>-210328500</salesInten><salesChange>-15.2</salesChange><salesAcc>10678327500</salesAcc><audiCnt>153004</audiCnt><audiInten>-31283</audiInten><audiChange>-17</audiChange><audiAcc>1442861</audiAcc><scrnCnt>360</scrnCnt><showCnt>1832</showCnt></dailyBoxOffice><dailyBoxOffice><rnum>4</rnum><rank>4</rank><rankInten>0</rankInten><rankOldAndNew>OLD</rankOldAndNew><movieCd>20113260</movieCd><movieNm>퍼펙트 게임</movieNm><openDt>2011-12-21</openDt><salesAmt>644532000</salesAmt><salesShare>8.4</salesShare><salesInten>-75116500</salesInten><salesChange>-10.4</salesChange><salesAcc>6640940000</salesAcc><audiCnt>83644</audiCnt><audiInten>-12225</audiInten><audiChange>-12.8</audiChange><audiAcc>895416</audiAcc><scrnCnt>396</scrnCnt><showCnt>1364</showCnt></dailyBoxOffice><dailyBoxOffice><rnum>5</rnum><rank>5</rank><rankInten>0</rankInten><rankOldAndNew>OLD</rankOldAndNew><movieCd>20113271</movieCd><movieNm>프렌즈: 몬스터섬의비밀 </movieNm><openDt>2011-12-29</openDt><salesAmt>436753500</salesAmt><salesShare>5.7</salesShare><salesInten>-89051000</salesInten><salesChange>-16.9</salesChange><salesAcc>1523037000</salesAcc><audiCnt>55092</audiCnt><audiInten>-15568</audiInten><audiChange>-22</audiChange><audiAcc>202909</audiAcc><scrnCnt>290</scrnCnt><showCnt>838</showCnt></dailyBoxOffice><dailyBoxOffice><rnum>6</rnum><rank>6</rank><rankInten>1</rankInten><rankOldAndNew>OLD</rankOldAndNew><movieCd>19940256</movieCd><movieNm>라이온 킹</movieNm><openDt>1994-07-02</openDt><salesAmt>507115500</salesAmt><salesShare>6.6</salesShare><salesInten>-114593500</salesInten><salesChange>-18.4</salesChange><salesAcc>1841625000</salesAcc><audiCnt>45750</audiCnt><audiInten>-11699</audiInten><audiChange>-20.4</audiChange><audiAcc>171285</audiAcc><scrnCnt>244</scrnCnt><showCnt>895</showCnt></dailyBoxOffice><dailyBoxOffice><rnum>7</rnum><rank>7</rank><rankInten>-1</rankInten><rankOldAndNew>OLD</rankOldAndNew><movieCd>20113381</movieCd><movieNm>오싹한 연애</movieNm><openDt>2011-12-01</openDt><salesAmt>344871000</salesAmt><salesShare>4.5</salesShare><salesInten>-107005500</salesInten><salesChange>-23.7</salesChange><salesAcc>20634684500</salesAcc><audiCnt>45062</audiCnt><audiInten>-15926</audiInten><audiChange>-26.1</audiChange><audiAcc>2823060</audiAcc><scrnCnt>243</scrnCnt><showCnt>839</showCnt></dailyBoxOffice><dailyBoxOffice><rnum>8</rnum><rank>8</rank><rankInten>0</rankInten><rankOldAndNew>OLD</rankOldAndNew><movieCd>20112709</movieCd><movieNm>극장판 포켓몬스터 베스트 위시「비크티니와 백의 영웅 레시라무」</movieNm><openDt>2011-12-22</openDt><salesAmt>167809500</salesAmt><salesShare>2.2</salesShare><salesInten>-45900500</salesInten><salesChange>-21.5</salesChange><salesAcc>1897120000</salesAcc><audiCnt>24202</audiCnt><audiInten>-7756</audiInten><audiChange>-24.3</audiChange><audiAcc>285959</audiAcc><scrnCnt>186</scrnCnt><showCnt>348</showCnt></dailyBoxOffice><dailyBoxOffice><rnum>9</rnum><rank>9</rank><rankInten>0</rankInten><rankOldAndNew>OLD</rankOldAndNew><movieCd>20113311</movieCd><movieNm>앨빈과 슈퍼밴드3</movieNm><openDt>2011-12-15</openDt><salesAmt>137030000</salesAmt><salesShare>1.8</salesShare><salesInten>-35408000</salesInten><salesChange>-20.5</salesChange><salesAcc>3416675000</salesAcc><audiCnt>19729</audiCnt><audiInten>-6461</audiInten><audiChange>-24.7</audiChange><audiAcc>516289</audiAcc><scrnCnt>169</scrnCnt><showCnt>359</showCnt></dailyBoxOffice><dailyBoxOffice><rnum>10</rnum><rank>10</rank><rankInten>0</rankInten><rankOldAndNew>OLD</rankOldAndNew><movieCd>20112708</movieCd><movieNm>극장판 포켓몬스터 베스트 위시 「비크티니와 흑의 영웅 제크로무」</movieNm><openDt>2011-12-22</openDt><salesAmt>125535500</salesAmt><salesShare>1.6</salesShare><salesInten>-40756000</salesInten><salesChange>-24.5</salesChange><salesAcc>1595695000</salesAcc><audiCnt>17817</audiCnt><audiInten>-6554</audiInten><audiChange>-26.9</audiChange><audiAcc>235070</audiAcc><scrnCnt>175</scrnCnt><showCnt>291</showCnt></dailyBoxOffice></dailyBoxOfficeList></boxOfficeResult>\n",
            "<class 'str'>\n"
          ],
          "name": "stdout"
        }
      ]
    },
    {
      "cell_type": "markdown",
      "metadata": {
        "id": "9oikc0rsNOw_",
        "colab_type": "text"
      },
      "source": [
        "###  BeautifulSoup 객체 생성\n",
        "\n",
        "\n",
        "```\n",
        "인스턴스명 = BeautifulSoup(markup, parser)\n",
        "```\n",
        "#### **파서(parser) 종류**\n",
        "+ html.parser : 파이썬 표준 라이브러리에 포함된 파서로 빠르지만 유연하지 않기 때문에 단순한 HTML문서에 사용\n",
        "\n",
        "    ```\n",
        "    BeautifulSoup(markup, \"html.parser\")\n",
        "    ```\n",
        "\n",
        "+ lxml : 매우 빠르고 유연하지만 외부 의존\n",
        " - lxml의 HTML 파서\n",
        "    ```\n",
        "    BeautifulSoup(markup, \"lxml\")\n",
        "    ```\n",
        " - lxml의 XML 파서\n",
        "     ```\n",
        "    BeautifulSoup(markup, \"lxml-xml\")\n",
        "    ```\n",
        "\n",
        "+ html5lib : 웹 브라우저와 동일한 방식으로 페이지 구문 분석하는 파서로 매우 느리지만 매우 유연하지만 외부 의존\n",
        "    ```\n",
        "    BeautifulSoup(markup, \"html5lib\")\n",
        "    ```"
      ]
    },
    {
      "cell_type": "markdown",
      "metadata": {
        "id": "Zo5iXF-kevar",
        "colab_type": "text"
      },
      "source": [
        "## **공공데이터 (XML데이터) 가져오기**"
      ]
    },
    {
      "cell_type": "code",
      "metadata": {
        "id": "wz7phNG7MPrK",
        "colab_type": "code",
        "colab": {}
      },
      "source": [
        "# BeautifulSoup 인스턴스 생성\n",
        "soup = BeautifulSoup(data, 'lxml-xml')"
      ],
      "execution_count": null,
      "outputs": []
    },
    {
      "cell_type": "markdown",
      "metadata": {
        "id": "OZEbCcX_Wp8E",
        "colab_type": "text"
      },
      "source": [
        "#### **Beautiful Soup 태그 파싱**\n",
        "+ 태그명\n",
        "+ **find(태그명)**\n",
        " - 조건에 맞는 태그 1개만 찾음 \n",
        "+ **find_all(태그명)**\n",
        " - 조건에 맞는 모드 태그 찾음\n",
        " - find_all(태그명,limit=n) : n개 찾음"
      ]
    },
    {
      "cell_type": "code",
      "metadata": {
        "id": "qY78Ai4UYwdJ",
        "colab_type": "code",
        "colab": {
          "base_uri": "https://localhost:8080/",
          "height": 54
        },
        "outputId": "07fd07fb-b6d5-4d47-c5a1-40abf2cd2dac"
      },
      "source": [
        "dailyBoxOffice = soup.dailyBoxOffice\n",
        "print(dailyBoxOffice)"
      ],
      "execution_count": null,
      "outputs": [
        {
          "output_type": "stream",
          "text": [
            "<dailyBoxOffice><rnum>1</rnum><rank>1</rank><rankInten>0</rankInten><rankOldAndNew>OLD</rankOldAndNew><movieCd>20112207</movieCd><movieNm>미션임파서블:고스트프로토콜</movieNm><openDt>2011-12-15</openDt><salesAmt>2776060500</salesAmt><salesShare>36.3</salesShare><salesInten>-415699000</salesInten><salesChange>-13</salesChange><salesAcc>40541108500</salesAcc><audiCnt>353274</audiCnt><audiInten>-60106</audiInten><audiChange>-14.5</audiChange><audiAcc>5328435</audiAcc><scrnCnt>697</scrnCnt><showCnt>3223</showCnt></dailyBoxOffice>\n"
          ],
          "name": "stdout"
        }
      ]
    },
    {
      "cell_type": "code",
      "metadata": {
        "id": "w-QVwzJ9W6mU",
        "colab_type": "code",
        "colab": {
          "base_uri": "https://localhost:8080/",
          "height": 54
        },
        "outputId": "3b370040-d7d7-429f-cc3a-03836664e189"
      },
      "source": [
        "# 태그 찾기\n",
        "dailyBoxOffice = soup.find('dailyBoxOffice')\n",
        "print(dailyBoxOffice)"
      ],
      "execution_count": null,
      "outputs": [
        {
          "output_type": "stream",
          "text": [
            "<dailyBoxOffice><rnum>1</rnum><rank>1</rank><rankInten>0</rankInten><rankOldAndNew>OLD</rankOldAndNew><movieCd>20112207</movieCd><movieNm>미션임파서블:고스트프로토콜</movieNm><openDt>2011-12-15</openDt><salesAmt>2776060500</salesAmt><salesShare>36.3</salesShare><salesInten>-415699000</salesInten><salesChange>-13</salesChange><salesAcc>40541108500</salesAcc><audiCnt>353274</audiCnt><audiInten>-60106</audiInten><audiChange>-14.5</audiChange><audiAcc>5328435</audiAcc><scrnCnt>697</scrnCnt><showCnt>3223</showCnt></dailyBoxOffice>\n"
          ],
          "name": "stdout"
        }
      ]
    },
    {
      "cell_type": "code",
      "metadata": {
        "id": "KIgb-BvaXRVh",
        "colab_type": "code",
        "colab": {
          "base_uri": "https://localhost:8080/",
          "height": 213
        },
        "outputId": "6e878b50-f27f-47c2-de1c-fec26fd25963"
      },
      "source": [
        "# 태그 찾기\n",
        "dailyBoxOffice = soup.find_all('dailyBoxOffice')\n",
        "for item in dailyBoxOffice:\n",
        "    print(item)"
      ],
      "execution_count": null,
      "outputs": [
        {
          "output_type": "stream",
          "text": [
            "<dailyBoxOffice><rnum>1</rnum><rank>1</rank><rankInten>0</rankInten><rankOldAndNew>OLD</rankOldAndNew><movieCd>20112207</movieCd><movieNm>미션임파서블:고스트프로토콜</movieNm><openDt>2011-12-15</openDt><salesAmt>2776060500</salesAmt><salesShare>36.3</salesShare><salesInten>-415699000</salesInten><salesChange>-13</salesChange><salesAcc>40541108500</salesAcc><audiCnt>353274</audiCnt><audiInten>-60106</audiInten><audiChange>-14.5</audiChange><audiAcc>5328435</audiAcc><scrnCnt>697</scrnCnt><showCnt>3223</showCnt></dailyBoxOffice>\n",
            "<dailyBoxOffice><rnum>2</rnum><rank>2</rank><rankInten>1</rankInten><rankOldAndNew>OLD</rankOldAndNew><movieCd>20110295</movieCd><movieNm>마이 웨이</movieNm><openDt>2011-12-21</openDt><salesAmt>1189058500</salesAmt><salesShare>15.6</salesShare><salesInten>-105894500</salesInten><salesChange>-8.2</salesChange><salesAcc>13002897500</salesAcc><audiCnt>153501</audiCnt><audiInten>-16465</audiInten><audiChange>-9.7</audiChange><audiAcc>1739543</audiAcc><scrnCnt>588</scrnCnt><showCnt>2321</showCnt></dailyBoxOffice>\n",
            "<dailyBoxOffice><rnum>3</rnum><rank>3</rank><rankInten>-1</rankInten><rankOldAndNew>OLD</rankOldAndNew><movieCd>20112621</movieCd><movieNm>셜록홈즈 : 그림자 게임</movieNm><openDt>2011-12-21</openDt><salesAmt>1176022500</salesAmt><salesShare>15.4</salesShare><salesInten>-210328500</salesInten><salesChange>-15.2</salesChange><salesAcc>10678327500</salesAcc><audiCnt>153004</audiCnt><audiInten>-31283</audiInten><audiChange>-17</audiChange><audiAcc>1442861</audiAcc><scrnCnt>360</scrnCnt><showCnt>1832</showCnt></dailyBoxOffice>\n",
            "<dailyBoxOffice><rnum>4</rnum><rank>4</rank><rankInten>0</rankInten><rankOldAndNew>OLD</rankOldAndNew><movieCd>20113260</movieCd><movieNm>퍼펙트 게임</movieNm><openDt>2011-12-21</openDt><salesAmt>644532000</salesAmt><salesShare>8.4</salesShare><salesInten>-75116500</salesInten><salesChange>-10.4</salesChange><salesAcc>6640940000</salesAcc><audiCnt>83644</audiCnt><audiInten>-12225</audiInten><audiChange>-12.8</audiChange><audiAcc>895416</audiAcc><scrnCnt>396</scrnCnt><showCnt>1364</showCnt></dailyBoxOffice>\n",
            "<dailyBoxOffice><rnum>5</rnum><rank>5</rank><rankInten>0</rankInten><rankOldAndNew>OLD</rankOldAndNew><movieCd>20113271</movieCd><movieNm>프렌즈: 몬스터섬의비밀 </movieNm><openDt>2011-12-29</openDt><salesAmt>436753500</salesAmt><salesShare>5.7</salesShare><salesInten>-89051000</salesInten><salesChange>-16.9</salesChange><salesAcc>1523037000</salesAcc><audiCnt>55092</audiCnt><audiInten>-15568</audiInten><audiChange>-22</audiChange><audiAcc>202909</audiAcc><scrnCnt>290</scrnCnt><showCnt>838</showCnt></dailyBoxOffice>\n",
            "<dailyBoxOffice><rnum>6</rnum><rank>6</rank><rankInten>1</rankInten><rankOldAndNew>OLD</rankOldAndNew><movieCd>19940256</movieCd><movieNm>라이온 킹</movieNm><openDt>1994-07-02</openDt><salesAmt>507115500</salesAmt><salesShare>6.6</salesShare><salesInten>-114593500</salesInten><salesChange>-18.4</salesChange><salesAcc>1841625000</salesAcc><audiCnt>45750</audiCnt><audiInten>-11699</audiInten><audiChange>-20.4</audiChange><audiAcc>171285</audiAcc><scrnCnt>244</scrnCnt><showCnt>895</showCnt></dailyBoxOffice>\n",
            "<dailyBoxOffice><rnum>7</rnum><rank>7</rank><rankInten>-1</rankInten><rankOldAndNew>OLD</rankOldAndNew><movieCd>20113381</movieCd><movieNm>오싹한 연애</movieNm><openDt>2011-12-01</openDt><salesAmt>344871000</salesAmt><salesShare>4.5</salesShare><salesInten>-107005500</salesInten><salesChange>-23.7</salesChange><salesAcc>20634684500</salesAcc><audiCnt>45062</audiCnt><audiInten>-15926</audiInten><audiChange>-26.1</audiChange><audiAcc>2823060</audiAcc><scrnCnt>243</scrnCnt><showCnt>839</showCnt></dailyBoxOffice>\n",
            "<dailyBoxOffice><rnum>8</rnum><rank>8</rank><rankInten>0</rankInten><rankOldAndNew>OLD</rankOldAndNew><movieCd>20112709</movieCd><movieNm>극장판 포켓몬스터 베스트 위시「비크티니와 백의 영웅 레시라무」</movieNm><openDt>2011-12-22</openDt><salesAmt>167809500</salesAmt><salesShare>2.2</salesShare><salesInten>-45900500</salesInten><salesChange>-21.5</salesChange><salesAcc>1897120000</salesAcc><audiCnt>24202</audiCnt><audiInten>-7756</audiInten><audiChange>-24.3</audiChange><audiAcc>285959</audiAcc><scrnCnt>186</scrnCnt><showCnt>348</showCnt></dailyBoxOffice>\n",
            "<dailyBoxOffice><rnum>9</rnum><rank>9</rank><rankInten>0</rankInten><rankOldAndNew>OLD</rankOldAndNew><movieCd>20113311</movieCd><movieNm>앨빈과 슈퍼밴드3</movieNm><openDt>2011-12-15</openDt><salesAmt>137030000</salesAmt><salesShare>1.8</salesShare><salesInten>-35408000</salesInten><salesChange>-20.5</salesChange><salesAcc>3416675000</salesAcc><audiCnt>19729</audiCnt><audiInten>-6461</audiInten><audiChange>-24.7</audiChange><audiAcc>516289</audiAcc><scrnCnt>169</scrnCnt><showCnt>359</showCnt></dailyBoxOffice>\n",
            "<dailyBoxOffice><rnum>10</rnum><rank>10</rank><rankInten>0</rankInten><rankOldAndNew>OLD</rankOldAndNew><movieCd>20112708</movieCd><movieNm>극장판 포켓몬스터 베스트 위시 「비크티니와 흑의 영웅 제크로무」</movieNm><openDt>2011-12-22</openDt><salesAmt>125535500</salesAmt><salesShare>1.6</salesShare><salesInten>-40756000</salesInten><salesChange>-24.5</salesChange><salesAcc>1595695000</salesAcc><audiCnt>17817</audiCnt><audiInten>-6554</audiInten><audiChange>-26.9</audiChange><audiAcc>235070</audiAcc><scrnCnt>175</scrnCnt><showCnt>291</showCnt></dailyBoxOffice>\n"
          ],
          "name": "stdout"
        }
      ]
    },
    {
      "cell_type": "code",
      "metadata": {
        "id": "lkG_QLLGawkH",
        "colab_type": "code",
        "colab": {
          "base_uri": "https://localhost:8080/",
          "height": 72
        },
        "outputId": "79e121b9-2726-48da-d524-1e71344303fb"
      },
      "source": [
        "dailyBoxOffice = soup.find_all('dailyBoxOffice', limit=2)\n",
        "for item in dailyBoxOffice:\n",
        "    print(item)"
      ],
      "execution_count": null,
      "outputs": [
        {
          "output_type": "stream",
          "text": [
            "<dailyBoxOffice><rnum>1</rnum><rank>1</rank><rankInten>0</rankInten><rankOldAndNew>OLD</rankOldAndNew><movieCd>20112207</movieCd><movieNm>미션임파서블:고스트프로토콜</movieNm><openDt>2011-12-15</openDt><salesAmt>2776060500</salesAmt><salesShare>36.3</salesShare><salesInten>-415699000</salesInten><salesChange>-13</salesChange><salesAcc>40541108500</salesAcc><audiCnt>353274</audiCnt><audiInten>-60106</audiInten><audiChange>-14.5</audiChange><audiAcc>5328435</audiAcc><scrnCnt>697</scrnCnt><showCnt>3223</showCnt></dailyBoxOffice>\n",
            "<dailyBoxOffice><rnum>2</rnum><rank>2</rank><rankInten>1</rankInten><rankOldAndNew>OLD</rankOldAndNew><movieCd>20110295</movieCd><movieNm>마이 웨이</movieNm><openDt>2011-12-21</openDt><salesAmt>1189058500</salesAmt><salesShare>15.6</salesShare><salesInten>-105894500</salesInten><salesChange>-8.2</salesChange><salesAcc>13002897500</salesAcc><audiCnt>153501</audiCnt><audiInten>-16465</audiInten><audiChange>-9.7</audiChange><audiAcc>1739543</audiAcc><scrnCnt>588</scrnCnt><showCnt>2321</showCnt></dailyBoxOffice>\n"
          ],
          "name": "stdout"
        }
      ]
    },
    {
      "cell_type": "markdown",
      "metadata": {
        "id": "hzHZH6qPbWMb",
        "colab_type": "text"
      },
      "source": [
        "#### BeautifulSoup  텍스트를 추출 \n",
        "+ text\n",
        "+ get_text() \n",
        "+ string\n"
      ]
    },
    {
      "cell_type": "code",
      "metadata": {
        "id": "P7-MjsB1cxN5",
        "colab_type": "code",
        "colab": {
          "base_uri": "https://localhost:8080/",
          "height": 34
        },
        "outputId": "6479f220-ae52-4b4f-90f1-3b5085efca02"
      },
      "source": [
        "dailyBoxOffice = soup.find('dailyBoxOffice') \n",
        "print(dailyBoxOffice.text)"
      ],
      "execution_count": null,
      "outputs": [
        {
          "output_type": "stream",
          "text": [
            "110OLD20112207미션임파서블:고스트프로토콜2011-12-15277606050036.3-415699000-1340541108500353274-60106-14.553284356973223\n"
          ],
          "name": "stdout"
        }
      ]
    },
    {
      "cell_type": "code",
      "metadata": {
        "id": "qfJt9gexdJzR",
        "colab_type": "code",
        "colab": {
          "base_uri": "https://localhost:8080/",
          "height": 34
        },
        "outputId": "594152c6-ded9-454b-f7a2-60737280b56b"
      },
      "source": [
        "dailyBoxOffice = soup.find('dailyBoxOffice').find('movieNm')\n",
        "print(dailyBoxOffice.text)"
      ],
      "execution_count": null,
      "outputs": [
        {
          "output_type": "stream",
          "text": [
            "미션임파서블:고스트프로토콜\n"
          ],
          "name": "stdout"
        }
      ]
    },
    {
      "cell_type": "code",
      "metadata": {
        "id": "Oy61aDqacR8r",
        "colab_type": "code",
        "colab": {
          "base_uri": "https://localhost:8080/",
          "height": 34
        },
        "outputId": "c0efa1be-b3f9-4473-c921-ac408a1c8820"
      },
      "source": [
        "dailyBoxOffice = soup.find('dailyBoxOffice') \n",
        "print(dailyBoxOffice.get_text())"
      ],
      "execution_count": null,
      "outputs": [
        {
          "output_type": "stream",
          "text": [
            "110OLD20112207미션임파서블:고스트프로토콜2011-12-15277606050036.3-415699000-1340541108500353274-60106-14.553284356973223\n"
          ],
          "name": "stdout"
        }
      ]
    },
    {
      "cell_type": "code",
      "metadata": {
        "id": "x6QuzJ83dSPr",
        "colab_type": "code",
        "colab": {
          "base_uri": "https://localhost:8080/",
          "height": 34
        },
        "outputId": "301d36a0-12f1-4548-96e1-6c5ac7a3e91c"
      },
      "source": [
        "dailyBoxOffice = soup.find('dailyBoxOffice').find('movieNm')\n",
        "print(dailyBoxOffice.get_text())"
      ],
      "execution_count": null,
      "outputs": [
        {
          "output_type": "stream",
          "text": [
            "미션임파서블:고스트프로토콜\n"
          ],
          "name": "stdout"
        }
      ]
    },
    {
      "cell_type": "code",
      "metadata": {
        "id": "emYnp0lxdWY3",
        "colab_type": "code",
        "colab": {
          "base_uri": "https://localhost:8080/",
          "height": 34
        },
        "outputId": "59b043b6-d1af-4a29-e48d-ee3f5e8568fc"
      },
      "source": [
        "dailyBoxOffice = soup.find('dailyBoxOffice') \n",
        "print(dailyBoxOffice.string)"
      ],
      "execution_count": null,
      "outputs": [
        {
          "output_type": "stream",
          "text": [
            "None\n"
          ],
          "name": "stdout"
        }
      ]
    },
    {
      "cell_type": "code",
      "metadata": {
        "id": "-IxH1FXhcdRl",
        "colab_type": "code",
        "colab": {
          "base_uri": "https://localhost:8080/",
          "height": 34
        },
        "outputId": "c706976c-9fdb-4b9a-f993-8ec964d38021"
      },
      "source": [
        "dailyBoxOffice = soup.find('dailyBoxOffice').find('movieNm')\n",
        "print(dailyBoxOffice.string)"
      ],
      "execution_count": null,
      "outputs": [
        {
          "output_type": "stream",
          "text": [
            "미션임파서블:고스트프로토콜\n"
          ],
          "name": "stdout"
        }
      ]
    },
    {
      "cell_type": "code",
      "metadata": {
        "id": "rY8dDqR2dlhv",
        "colab_type": "code",
        "colab": {
          "base_uri": "https://localhost:8080/",
          "height": 193
        },
        "outputId": "8c3691bf-e47a-4370-c6c5-98a85b55b6c2"
      },
      "source": [
        "dailyBoxOffice = soup.find_all('dailyBoxOffice')\n",
        "for item in dailyBoxOffice:\n",
        "    print(item.find('movieNm').get_text())"
      ],
      "execution_count": null,
      "outputs": [
        {
          "output_type": "stream",
          "text": [
            "미션임파서블:고스트프로토콜\n",
            "마이 웨이\n",
            "셜록홈즈 : 그림자 게임\n",
            "퍼펙트 게임\n",
            "프렌즈: 몬스터섬의비밀 \n",
            "라이온 킹\n",
            "오싹한 연애\n",
            "극장판 포켓몬스터 베스트 위시「비크티니와 백의 영웅 레시라무」\n",
            "앨빈과 슈퍼밴드3\n",
            "극장판 포켓몬스터 베스트 위시 「비크티니와 흑의 영웅 제크로무」\n"
          ],
          "name": "stdout"
        }
      ]
    },
    {
      "cell_type": "markdown",
      "metadata": {
        "id": "wZiWsXSgfDV6",
        "colab_type": "text"
      },
      "source": [
        "## 웹 크롤링(web crawling)\n",
        "+ 인터넷 상에 존재하는 자료를  수집하여 데이터를 파싱하여 원하는 정보를 추출하는 것"
      ]
    },
    {
      "cell_type": "code",
      "metadata": {
        "id": "ap3rVCLNgV7y",
        "colab_type": "code",
        "colab": {
          "base_uri": "https://localhost:8080/",
          "height": 239
        },
        "outputId": "3ba39ade-6798-42c6-8158-2c2cd792f2f7"
      },
      "source": [
        "# 네이버 영화 사이트에서 영화 순위 : https://movie.naver.com/movie/sdb/rank/rmovie.nhn\n",
        "\n",
        "url = 'https://movie.naver.com/movie/sdb/rank/rmovie.nhn'\n",
        "html = urlopen(url).read().decode('utf-8')\n",
        "\n",
        "print(html)"
      ],
      "execution_count": null,
      "outputs": [
        {
          "output_type": "error",
          "ename": "UnicodeDecodeError",
          "evalue": "ignored",
          "traceback": [
            "\u001b[0;31m---------------------------------------------------------------------------\u001b[0m",
            "\u001b[0;31mUnicodeDecodeError\u001b[0m                        Traceback (most recent call last)",
            "\u001b[0;32m<ipython-input-24-2dd78359cb7d>\u001b[0m in \u001b[0;36m<module>\u001b[0;34m()\u001b[0m\n\u001b[1;32m      2\u001b[0m \u001b[0;34m\u001b[0m\u001b[0m\n\u001b[1;32m      3\u001b[0m \u001b[0murl\u001b[0m \u001b[0;34m=\u001b[0m \u001b[0;34m'https://movie.naver.com/movie/sdb/rank/rmovie.nhn'\u001b[0m\u001b[0;34m\u001b[0m\u001b[0;34m\u001b[0m\u001b[0m\n\u001b[0;32m----> 4\u001b[0;31m \u001b[0mhtml\u001b[0m \u001b[0;34m=\u001b[0m \u001b[0murlopen\u001b[0m\u001b[0;34m(\u001b[0m\u001b[0murl\u001b[0m\u001b[0;34m)\u001b[0m\u001b[0;34m.\u001b[0m\u001b[0mread\u001b[0m\u001b[0;34m(\u001b[0m\u001b[0;34m)\u001b[0m\u001b[0;34m.\u001b[0m\u001b[0mdecode\u001b[0m\u001b[0;34m(\u001b[0m\u001b[0;34m'utf-8'\u001b[0m\u001b[0;34m)\u001b[0m\u001b[0;34m\u001b[0m\u001b[0;34m\u001b[0m\u001b[0m\n\u001b[0m\u001b[1;32m      5\u001b[0m \u001b[0;34m\u001b[0m\u001b[0m\n\u001b[1;32m      6\u001b[0m \u001b[0mprint\u001b[0m\u001b[0;34m(\u001b[0m\u001b[0mhtml\u001b[0m\u001b[0;34m)\u001b[0m\u001b[0;34m\u001b[0m\u001b[0;34m\u001b[0m\u001b[0m\n",
            "\u001b[0;31mUnicodeDecodeError\u001b[0m: 'utf-8' codec can't decode byte 0xb3 in position 525: invalid start byte"
          ]
        }
      ]
    },
    {
      "cell_type": "code",
      "metadata": {
        "id": "Ic5wxk91hHqM",
        "colab_type": "code",
        "colab": {}
      },
      "source": [
        "# encoding 문자 찾기 \n",
        "html = urlopen(url).read()\n",
        "html2014 = html[:1024].decode('ascii', errors='replace') \n",
        "#print(html2014)"
      ],
      "execution_count": null,
      "outputs": []
    },
    {
      "cell_type": "code",
      "metadata": {
        "id": "lqQAkHd85w6r",
        "colab_type": "code",
        "colab": {}
      },
      "source": [
        "import re"
      ],
      "execution_count": null,
      "outputs": []
    },
    {
      "cell_type": "code",
      "metadata": {
        "id": "9aG99Ai3hrct",
        "colab_type": "code",
        "colab": {
          "base_uri": "https://localhost:8080/",
          "height": 34
        },
        "outputId": "96ad27f2-6f54-4e99-d38f-f909798286b7"
      },
      "source": [
        "\n",
        "encode = re.search(r'charset=[\"\\']*([\\w-]+)',html2014) \n",
        "\n",
        "print(encode.group(1))"
      ],
      "execution_count": null,
      "outputs": [
        {
          "output_type": "stream",
          "text": [
            "euc-kr\n"
          ],
          "name": "stdout"
        }
      ]
    },
    {
      "cell_type": "code",
      "metadata": {
        "id": "l4V685jElcIo",
        "colab_type": "code",
        "colab": {}
      },
      "source": [
        "# html 문서의 처음 부분을 가져와서 charset을 추출 \n",
        "def url_charset(html1024):\n",
        "    html2014 = html1024.decode('ascii', errors='replace') \n",
        "    encoding = re.search(r'charset=[\"\\']*([\\w-]+)',html2014) \n",
        "\n",
        "    if encoding :\n",
        "        encoding = encoding.group(1)  \n",
        "    else :\n",
        "        encoding = 'utf-8'\n",
        "\n",
        "    return encoding"
      ],
      "execution_count": null,
      "outputs": []
    },
    {
      "cell_type": "code",
      "metadata": {
        "id": "WydxgAAZnFf8",
        "colab_type": "code",
        "colab": {}
      },
      "source": [
        "# 바이트 코드로 읽어진 html 문서 charset에 맞게 decode\n",
        "def url_html(url):\n",
        "    html = urlopen(url).read()  \n",
        "    encoding = url_charset(html[:1024])\n",
        "\n",
        "    html = html.decode(encoding)\n",
        "    return html"
      ],
      "execution_count": null,
      "outputs": []
    },
    {
      "cell_type": "code",
      "metadata": {
        "id": "0h1a6XqLmAaC",
        "colab_type": "code",
        "colab": {}
      },
      "source": [
        "url = 'https://movie.naver.com/movie/sdb/rank/rmovie.nhn'\n",
        "\n",
        "naver = url_html(url)\n",
        "print(naver[:1024])"
      ],
      "execution_count": null,
      "outputs": []
    },
    {
      "cell_type": "code",
      "metadata": {
        "id": "vi8SXFwEnmUC",
        "colab_type": "code",
        "colab": {}
      },
      "source": [
        "url = 'https://movie.daum.net/boxoffice/weekly'\n",
        "\n",
        "daum = url_html(url)\n",
        "print(daum[:1024])"
      ],
      "execution_count": null,
      "outputs": []
    },
    {
      "cell_type": "markdown",
      "metadata": {
        "id": "o5P5emlUpLCK",
        "colab_type": "text"
      },
      "source": [
        "### **Beautiful Soup CSS선택자**\n",
        "+ select_one(선택자)\n",
        "+ select(선택자)\n"
      ]
    },
    {
      "cell_type": "code",
      "metadata": {
        "id": "E41DpPcaqwWf",
        "colab_type": "code",
        "colab": {
          "base_uri": "https://localhost:8080/",
          "height": 193
        },
        "outputId": "b9983323-58cb-4301-d02a-d94783cfaa86"
      },
      "source": [
        "naverbs = BeautifulSoup(naver, 'html.parser')\n",
        "\n",
        "tit3 = naverbs.select(\".tit3\")[:10]\n",
        "for item in tit3:\n",
        "    print(item.text.replace('\\n',''))"
      ],
      "execution_count": null,
      "outputs": [
        {
          "output_type": "stream",
          "text": [
            "#살아있다\n",
            "결백\n",
            "사라진 시간\n",
            "침입자\n",
            "온워드: 단 하루의 기적\n",
            "반도\n",
            "인베이젼 2020\n",
            "소리꾼\n",
            "야구소녀\n",
            "다크 나이트\n"
          ],
          "name": "stdout"
        }
      ]
    },
    {
      "cell_type": "code",
      "metadata": {
        "id": "Uamxoi9br5Vh",
        "colab_type": "code",
        "colab": {
          "base_uri": "https://localhost:8080/",
          "height": 193
        },
        "outputId": "00442262-a5dc-4759-a0a0-1be8eddf9920"
      },
      "source": [
        "daumbs = BeautifulSoup(daum, 'html.parser')\n",
        "#print(daumbs)\n",
        "\n",
        "tit3 = daumbs.select(\".tit_join  .link_g\")  \n",
        "for item in tit3:\n",
        "    print(item.text.replace('\\n',''))"
      ],
      "execution_count": null,
      "outputs": [
        {
          "output_type": "stream",
          "text": [
            "#살아있다\n",
            "결백\n",
            "온워드: 단 하루의 기적\n",
            "사라진 시간\n",
            "배트맨 비긴즈\n",
            "위대한 쇼맨\n",
            "침입자\n",
            "야구소녀\n",
            "엔딩스 비기닝스\n",
            "슬럼독 밀리어네어\n"
          ],
          "name": "stdout"
        }
      ]
    },
    {
      "cell_type": "markdown",
      "metadata": {
        "id": "Sd3K9R1fucuN",
        "colab_type": "text"
      },
      "source": [
        "\n",
        "\n",
        "---\n",
        "해결문제 ) 네이버 평점 사이트에서 30개의 데이터를 추출하여 평점의 평균을 구하시오.\n",
        "\n",
        "+ https://movie.naver.com/movie/point/af/list.nhn?&page=1\n",
        "\n",
        "\n",
        "---\n",
        "\n"
      ]
    },
    {
      "cell_type": "code",
      "metadata": {
        "id": "-IJiCzBbvUCY",
        "colab_type": "code",
        "colab": {
          "base_uri": "https://localhost:8080/",
          "height": 386
        },
        "outputId": "8e875bd9-a629-42e3-cab7-46bd1365b31b"
      },
      "source": [
        "dt = {}\n",
        " \n",
        "for pg in range(1,4): \n",
        "    url = 'https://movie.naver.com/movie/point/af/list.nhn?&page=' + str(pg)\n",
        "\n",
        "    naver = url_html(url)\n",
        "    naverbs = BeautifulSoup(naver, 'html.parser')\n",
        "\n",
        "    title = naverbs.select('.title')\n",
        "    for item in title:\n",
        "        key = item.select_one('a').text\n",
        "        vc = []\n",
        "        value = int(item.select_one('em').text)\n",
        "\n",
        "        if key in dt.keys() : \n",
        "            dt[key][0] = dt[key][0] + value \n",
        "            dt[key][1] = dt[key][1] + 1 \n",
        "        else :         \n",
        "            vc.append(value)\n",
        "            vc.append(1)\n",
        "            dt[key] = vc\n",
        "        #print(key, value)\n",
        "        #print(str(pg) , '*'*60)\n",
        "\n",
        "\n",
        "for key , value in dt.items() :\n",
        "    dt[key] = sum(value) / len(value)\n",
        "\n",
        "for key , value in dt.items() :\n",
        "    print(key , ':', value)"
      ],
      "execution_count": null,
      "outputs": [
        {
          "output_type": "stream",
          "text": [
            "우상 : 6.5\n",
            "위대한 쇼맨 : 5.5\n",
            "늑대의 유혹 : 5.5\n",
            "애드 아스트라 : 5.5\n",
            "사라진 시간 : 5.5\n",
            "마약왕 : 5.5\n",
            "침입자 : 2.5\n",
            "페이스 오프 : 5.5\n",
            "#살아있다 : 2.0\n",
            "에이리언 2 : 4.5\n",
            "온워드: 단 하루의 기적 : 5.5\n",
            "파괴자들 : 4.0\n",
            "다크 나이트 : 11.0\n",
            "더 콜러 : 5.0\n",
            "콜 미 바이 유어 네임 : 5.5\n",
            "라스트 캐슬 : 1.5\n",
            "컨테이젼 : 5.5\n",
            "정직한 후보 : 5.5\n",
            "소리꾼 : 1.5\n",
            "특별수사: 사형수의 편지 : 5.5\n",
            "더 플랫폼 : 5.5\n"
          ],
          "name": "stdout"
        }
      ]
    },
    {
      "cell_type": "code",
      "metadata": {
        "id": "p91fYiUwt20J",
        "colab_type": "code",
        "colab": {
          "base_uri": "https://localhost:8080/",
          "height": 105
        },
        "outputId": "c39915f4-eb65-4cb9-aa1c-81c51e6ff047"
      },
      "source": [
        "#한글 폰트 사용 : colab , 런타임 다시 시작 하기\n",
        "%config InlineBackend.figure_format = 'retina'\n",
        "!apt -qq -y install fonts-nanum\n"
      ],
      "execution_count": null,
      "outputs": [
        {
          "output_type": "stream",
          "text": [
            "fonts-nanum is already the newest version (20170925-1).\n",
            "The following package was automatically installed and is no longer required:\n",
            "  libnvidia-common-440\n",
            "Use 'apt autoremove' to remove it.\n",
            "0 upgraded, 0 newly installed, 0 to remove and 33 not upgraded.\n"
          ],
          "name": "stdout"
        }
      ]
    },
    {
      "cell_type": "code",
      "metadata": {
        "id": "-utpfQDQuIvv",
        "colab_type": "code",
        "colab": {}
      },
      "source": [
        "import matplotlib.pyplot as plt\n",
        "import matplotlib as mpl\n",
        "import matplotlib.font_manager as fm\n",
        "fontpath = '/usr/share/fonts/truetype/nanum/NanumBarunGothic.ttf'\n",
        "font = fm.FontProperties(fname=fontpath, size=9)\n",
        "plt.rc('font', family='NanumBarunGothic') \n",
        "mpl.font_manager._rebuild()"
      ],
      "execution_count": null,
      "outputs": []
    },
    {
      "cell_type": "code",
      "metadata": {
        "id": "sINYtiic5DcA",
        "colab_type": "code",
        "colab": {
          "base_uri": "https://localhost:8080/",
          "height": 406
        },
        "outputId": "f0ec76ea-7a47-4316-c351-01300cc731ff"
      },
      "source": [
        "plt.figure(figsize=(15,5))\n",
        "plt.plot(list(dt.keys()), list(dt.values()), 'go-')\n",
        "plt.xticks(rotation=90)\n",
        "plt.show()"
      ],
      "execution_count": null,
      "outputs": [
        {
          "output_type": "display_data",
          "data": {
            "image/png": "[encoded data removed]",
            "text/plain": [
              "<Figure size 1080x360 with 1 Axes>"
            ]
          },
          "metadata": {
            "tags": [],
            "needs_background": "light"
          }
        }
      ]
    }
  ]
}