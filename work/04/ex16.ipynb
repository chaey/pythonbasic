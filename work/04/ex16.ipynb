{
  "nbformat": 4,
  "nbformat_minor": 0,
  "metadata": {
    "colab": {
      "name": "ex16.ipynb",
      "provenance": [],
      "mount_file_id": "1JinC4cGvxMOoL1uRirqB_93YA0U9-0n6",
      "authorship_tag": "ABX9TyNAD6SJXEqrpFQSdoJQAoZ4"
    },
    "kernelspec": {
      "name": "python3",
      "display_name": "Python 3"
    }
  },
  "cells": [
    {
      "cell_type": "code",
      "metadata": {
        "id": "JLwb6ZMuUiw3",
        "colab_type": "code",
        "colab": {}
      },
      "source": [
        "import re"
      ],
      "execution_count": null,
      "outputs": []
    },
    {
      "cell_type": "code",
      "metadata": {
        "id": "8m_xZpNAVROd",
        "colab_type": "code",
        "colab": {
          "base_uri": "https://localhost:8080/",
          "height": 54
        },
        "outputId": "d250648b-3c90-41a6-a316-97e1f25ace08"
      },
      "source": [
        "s = '별점 - 총 10점 중10 \t박성웅이 제일 잘했는듯 ㅋ 신고\tatto****\t20.03.08'\n",
        "print(s)\n",
        "print(type(s))"
      ],
      "execution_count": null,
      "outputs": [
        {
          "output_type": "stream",
          "text": [
            "별점 - 총 10점 중10 \t박성웅이 제일 잘했는듯 ㅋ 신고\tatto****\t20.03.08\n",
            "<class 'str'>\n"
          ],
          "name": "stdout"
        }
      ]
    },
    {
      "cell_type": "code",
      "metadata": {
        "id": "aMQmv8BlVqwM",
        "colab_type": "code",
        "colab": {
          "base_uri": "https://localhost:8080/",
          "height": 35
        },
        "outputId": "2167f3e7-f888-4ffe-9dd5-f5de49f75fc5"
      },
      "source": [
        "print(s.find('10'))"
      ],
      "execution_count": null,
      "outputs": [
        {
          "output_type": "stream",
          "text": [
            "7\n"
          ],
          "name": "stdout"
        }
      ]
    },
    {
      "cell_type": "code",
      "metadata": {
        "id": "CNiZdkqyV5aU",
        "colab_type": "code",
        "colab": {
          "base_uri": "https://localhost:8080/",
          "height": 35
        },
        "outputId": "2d02b42f-73ea-43d5-90aa-e520f9290a82"
      },
      "source": [
        "print(re.match(r'10', s))"
      ],
      "execution_count": null,
      "outputs": [
        {
          "output_type": "stream",
          "text": [
            "None\n"
          ],
          "name": "stdout"
        }
      ]
    },
    {
      "cell_type": "code",
      "metadata": {
        "id": "qRCuzGajWehs",
        "colab_type": "code",
        "colab": {
          "base_uri": "https://localhost:8080/",
          "height": 35
        },
        "outputId": "7faa6432-5aa6-4a7c-a9ef-4655d43620d3"
      },
      "source": [
        "print(re.search(r'10', s))"
      ],
      "execution_count": null,
      "outputs": [
        {
          "output_type": "stream",
          "text": [
            "<_sre.SRE_Match object; span=(7, 9), match='10'>\n"
          ],
          "name": "stdout"
        }
      ]
    },
    {
      "cell_type": "code",
      "metadata": {
        "id": "6ALcyI7kW3D9",
        "colab_type": "code",
        "colab": {
          "base_uri": "https://localhost:8080/",
          "height": 35
        },
        "outputId": "8e2fa343-a848-4f4f-bca1-2b1fcf2bd598"
      },
      "source": [
        "print(re.findall(r'10', s))"
      ],
      "execution_count": null,
      "outputs": [
        {
          "output_type": "stream",
          "text": [
            "['10', '10']\n"
          ],
          "name": "stdout"
        }
      ]
    },
    {
      "cell_type": "code",
      "metadata": {
        "id": "xisJKZ0bXM1d",
        "colab_type": "code",
        "colab": {
          "base_uri": "https://localhost:8080/",
          "height": 54
        },
        "outputId": "d5861e47-c06f-4ce5-9f51-a513b5ad00ec"
      },
      "source": [
        "rt = re.finditer(r'10', s)\n",
        "for item in rt :\n",
        "    print(item.group() , \":\", item.span(), \"-시작위치:\" , item.start(), '종료위치:', item.end() -1 )"
      ],
      "execution_count": null,
      "outputs": [
        {
          "output_type": "stream",
          "text": [
            "10 : (7, 9) -시작위치: 7 종료위치: 8\n",
            "10 : (12, 14) -시작위치: 12 종료위치: 13\n"
          ],
          "name": "stdout"
        }
      ]
    },
    {
      "cell_type": "code",
      "metadata": {
        "id": "IqjqGoBLZX-_",
        "colab_type": "code",
        "colab": {
          "base_uri": "https://localhost:8080/",
          "height": 35
        },
        "outputId": "2f24a847-5822-456b-d235-505cc041d11d"
      },
      "source": [
        "pat = r'[abcdefghijklmnopqrstu]'\n",
        "rt = re.findall(pat, s)\n",
        "\n",
        "print(rt)"
      ],
      "execution_count": null,
      "outputs": [
        {
          "output_type": "stream",
          "text": [
            "['a', 't', 't', 'o']\n"
          ],
          "name": "stdout"
        }
      ]
    },
    {
      "cell_type": "code",
      "metadata": {
        "id": "uFa2ZZFJaMOv",
        "colab_type": "code",
        "colab": {
          "base_uri": "https://localhost:8080/",
          "height": 35
        },
        "outputId": "f59552a7-5072-4bb3-f178-b7386ac7ff34"
      },
      "source": [
        "pat = r'[a-z]'\n",
        "rt = re.findall(pat, s)\n",
        "\n",
        "print(rt)"
      ],
      "execution_count": null,
      "outputs": [
        {
          "output_type": "stream",
          "text": [
            "['a', 't', 't', 'o']\n"
          ],
          "name": "stdout"
        }
      ]
    },
    {
      "cell_type": "code",
      "metadata": {
        "id": "m1Lb1zbWZ8m1",
        "colab_type": "code",
        "colab": {
          "base_uri": "https://localhost:8080/",
          "height": 35
        },
        "outputId": "86d7ddd5-3bb8-4aa1-f225-559c37f8d505"
      },
      "source": [
        "pat = r'[1234567890]'\n",
        "rt = re.findall(pat, s)\n",
        "\n",
        "print(rt)"
      ],
      "execution_count": null,
      "outputs": [
        {
          "output_type": "stream",
          "text": [
            "['1', '0', '1', '0', '2', '0', '0', '3', '0', '8']\n"
          ],
          "name": "stdout"
        }
      ]
    },
    {
      "cell_type": "code",
      "metadata": {
        "id": "WL5Ei0f-aXRG",
        "colab_type": "code",
        "colab": {
          "base_uri": "https://localhost:8080/",
          "height": 35
        },
        "outputId": "9ae1b72b-99b3-44c0-aade-eccd860201a1"
      },
      "source": [
        "pat = r'[0-9]'\n",
        "rt = re.findall(pat, s)\n",
        "\n",
        "print(rt)"
      ],
      "execution_count": null,
      "outputs": [
        {
          "output_type": "stream",
          "text": [
            "['1', '0', '1', '0', '2', '0', '0', '3', '0', '8']\n"
          ],
          "name": "stdout"
        }
      ]
    },
    {
      "cell_type": "code",
      "metadata": {
        "id": "7P2TUISjaqyH",
        "colab_type": "code",
        "colab": {
          "base_uri": "https://localhost:8080/",
          "height": 35
        },
        "outputId": "151273a7-aab3-4c5f-ea4c-b515c391f1bc"
      },
      "source": [
        "s = '별점 - 총 10점 중10\t이건 인간적으로 10점 아니냐 \tyama****\t20.03.06'\n",
        "pat = r'[0-9a-zA-Z]'\n",
        "rt = re.findall(pat, s)\n",
        "\n",
        "print(rt)"
      ],
      "execution_count": null,
      "outputs": [
        {
          "output_type": "stream",
          "text": [
            "['1', '0', '1', '0', '1', '0', 'y', 'a', 'm', 'a', '2', '0', '0', '3', '0', '6']\n"
          ],
          "name": "stdout"
        }
      ]
    },
    {
      "cell_type": "code",
      "metadata": {
        "id": "I7oDneAZbEOG",
        "colab_type": "code",
        "colab": {
          "base_uri": "https://localhost:8080/",
          "height": 55
        },
        "outputId": "d519972a-baf2-4511-88fd-eeec9b2ee8dc"
      },
      "source": [
        "s = '별점 - 총 10점 중10\t이건 인간적으로 10점 아니냐 \tyama****\t20.03.06'\n",
        "pat = r'[^a-z]'\n",
        "rt = re.findall(pat, s)\n",
        "\n",
        "print(rt)"
      ],
      "execution_count": null,
      "outputs": [
        {
          "output_type": "stream",
          "text": [
            "['별', '점', ' ', '-', ' ', '총', ' ', '1', '0', '점', ' ', '중', '1', '0', '\\t', '이', '건', ' ', '인', '간', '적', '으', '로', ' ', '1', '0', '점', ' ', '아', '니', '냐', ' ', '\\t', '*', '*', '*', '*', '\\t', '2', '0', '.', '0', '3', '.', '0', '6']\n"
          ],
          "name": "stdout"
        }
      ]
    },
    {
      "cell_type": "code",
      "metadata": {
        "id": "HbFUX2ZrcCn4",
        "colab_type": "code",
        "colab": {
          "base_uri": "https://localhost:8080/",
          "height": 35
        },
        "outputId": "80b023cc-4ad6-424f-9878-d6fe3d08a7fa"
      },
      "source": [
        "s = '별점 - 총 10점 중10\t이건 인간적으로 10점 아니냐 \tyuma****\t20.03.06'\n",
        "pat = r'm.[*]'\n",
        "rt = re.findall(pat, s)\n",
        "\n",
        "print(rt)"
      ],
      "execution_count": null,
      "outputs": [
        {
          "output_type": "stream",
          "text": [
            "['ma*']\n"
          ],
          "name": "stdout"
        }
      ]
    },
    {
      "cell_type": "code",
      "metadata": {
        "id": "InQvgsR7cr5h",
        "colab_type": "code",
        "colab": {
          "base_uri": "https://localhost:8080/",
          "height": 35
        },
        "outputId": "2fde94f4-eb32-4d52-b388-4f4a887634c9"
      },
      "source": [
        "s = '별점 - 총 10점 중10\t이건 인간적으로 10점 아니냐 \tyuma****\t20.03.06'\n",
        "pat = r'[\\d].'\n",
        "rt = re.findall(pat, s)\n",
        "\n",
        "print(rt)"
      ],
      "execution_count": null,
      "outputs": [
        {
          "output_type": "stream",
          "text": [
            "['10', '10', '10', '20', '03', '06']\n"
          ],
          "name": "stdout"
        }
      ]
    },
    {
      "cell_type": "code",
      "metadata": {
        "id": "HT_ckCnQc7FP",
        "colab_type": "code",
        "colab": {
          "base_uri": "https://localhost:8080/",
          "height": 35
        },
        "outputId": "a89867cd-baa6-4f60-8fa0-59c0dfc4e128"
      },
      "source": [
        "s = '별점 - 총 10점 중10\t이건 인간적으로 10점 아니냐 \tyuma****\t20.03.06'\n",
        "pat = r'[\\d][.]'\n",
        "rt = re.findall(pat, s)\n",
        "\n",
        "print(rt)"
      ],
      "execution_count": null,
      "outputs": [
        {
          "output_type": "stream",
          "text": [
            "['0.', '3.']\n"
          ],
          "name": "stdout"
        }
      ]
    },
    {
      "cell_type": "code",
      "metadata": {
        "id": "HIOzxKakdCUH",
        "colab_type": "code",
        "colab": {
          "base_uri": "https://localhost:8080/",
          "height": 35
        },
        "outputId": "6ce4b171-4695-4ac2-ba7e-7ccc95a16c18"
      },
      "source": [
        "s = '별점 - 총 10점 중10\t이건 인간적으로 10점 아니냐 \tyuma****\t20.03.06'\n",
        "pat = r'[\\d.]'\n",
        "rt = re.findall(pat, s)\n",
        "\n",
        "print(rt)"
      ],
      "execution_count": null,
      "outputs": [
        {
          "output_type": "stream",
          "text": [
            "['1', '0', '1', '0', '1', '0', '2', '0', '.', '0', '3', '.', '0', '6']\n"
          ],
          "name": "stdout"
        }
      ]
    },
    {
      "cell_type": "code",
      "metadata": {
        "id": "XdtMNYkndebg",
        "colab_type": "code",
        "colab": {
          "base_uri": "https://localhost:8080/",
          "height": 35
        },
        "outputId": "e632d89f-d02f-409f-85a7-f94e97717c75"
      },
      "source": [
        "s = '별점 - 총 10점 중10\t이건 인간적으로 10점 아니냐 \tyuma****\t20.3.6'\n",
        "pat = r'[\\d][\\d][.][\\d][\\d][.][\\d][\\d]'\n",
        "rt = re.findall(pat, s)\n",
        "\n",
        "print(rt)"
      ],
      "execution_count": null,
      "outputs": [
        {
          "output_type": "stream",
          "text": [
            "[]\n"
          ],
          "name": "stdout"
        }
      ]
    },
    {
      "cell_type": "code",
      "metadata": {
        "id": "Ap3GbjaReTpH",
        "colab_type": "code",
        "colab": {
          "base_uri": "https://localhost:8080/",
          "height": 35
        },
        "outputId": "6ac684d2-302d-4dd3-acc1-23caa819b89d"
      },
      "source": [
        "s = '별점 - 총 10점 중8\t이건 인간적으로 10점 아니냐 \tyuma****\t20.3.6'\n",
        "pat = r'[\\d]+[.][\\d]+[.][\\d]+'\n",
        "rt = re.findall(pat, s)\n",
        "\n",
        "print(rt)"
      ],
      "execution_count": null,
      "outputs": [
        {
          "output_type": "stream",
          "text": [
            "['20.3.6']\n"
          ],
          "name": "stdout"
        }
      ]
    },
    {
      "cell_type": "code",
      "metadata": {
        "id": "0geIXvURg3ei",
        "colab_type": "code",
        "colab": {
          "base_uri": "https://localhost:8080/",
          "height": 35
        },
        "outputId": "80aec664-c966-4153-87b7-9739539c90a5"
      },
      "source": [
        "s = '별점 - 총 10점 중8\t이건 인간적으로 10점 아니냐 \tyu33ma****\t20.3.6'\n",
        "pat = r'([a-zA-Z0-9]+)([*]+)'\n",
        "writer = re.search(pat, s).group()\n",
        "\n",
        "pat = r'중([\\d]+)'\n",
        "score = re.search(pat, s).group(1)\n",
        "\n",
        "print(writer , \":\", score)"
      ],
      "execution_count": null,
      "outputs": [
        {
          "output_type": "stream",
          "text": [
            "yu33ma**** : 8\n"
          ],
          "name": "stdout"
        }
      ]
    },
    {
      "cell_type": "code",
      "metadata": {
        "id": "9qu1erudh7HU",
        "colab_type": "code",
        "colab": {
          "base_uri": "https://localhost:8080/",
          "height": 35
        },
        "outputId": "2a23ee8b-4088-459f-c9f4-0c873eda164d"
      },
      "source": [
        "s = '별점 - 총 10점 중8\t이건 인간적으로 10점 아니냐 \tyuma****\t20.3.6'\n",
        "pat = r'([\\d]+)[.]([\\d]+)[.]([\\d]+)'\n",
        "rt = re.search(pat, s)\n",
        "\n",
        "print(rt.group(1), '년', rt.group(2) , '월', rt.group(3), '일')"
      ],
      "execution_count": null,
      "outputs": [
        {
          "output_type": "stream",
          "text": [
            "20 년 3 월 6 일\n"
          ],
          "name": "stdout"
        }
      ]
    },
    {
      "cell_type": "code",
      "metadata": {
        "id": "Zh5k7jyWp5h2",
        "colab_type": "code",
        "colab": {}
      },
      "source": [
        "def writerScore(s):\n",
        "    lt = [] \n",
        "    pat = r'([a-zA-Z0-9]+)([*]+)'\n",
        "    lt.append( re.search(pat, s).group(1) )\n",
        "\n",
        "    pat = r'중([\\d]+)'\n",
        "    lt.append(re.search(pat, s).group(1))\n",
        "\n",
        "    return lt"
      ],
      "execution_count": null,
      "outputs": []
    },
    {
      "cell_type": "code",
      "metadata": {
        "id": "bWYOdBskqN-E",
        "colab_type": "code",
        "colab": {
          "base_uri": "https://localhost:8080/",
          "height": 35
        },
        "outputId": "5ffa6bf2-d500-40b6-8283-63b9b83ac67c"
      },
      "source": [
        "print(writerScore(s))"
      ],
      "execution_count": null,
      "outputs": [
        {
          "output_type": "stream",
          "text": [
            "['yu33ma', '8']\n"
          ],
          "name": "stdout"
        }
      ]
    },
    {
      "cell_type": "code",
      "metadata": {
        "id": "3ZUrSx67taEA",
        "colab_type": "code",
        "colab": {
          "base_uri": "https://localhost:8080/",
          "height": 55
        },
        "outputId": "66a4e6c2-6c89-4376-fb4a-9a7ebec3ce91"
      },
      "source": [
        "with open('/content/drive/My Drive/PythonWork/PythonBasic/work/04/평점.txt','r',encoding='utf-8') as fp :\n",
        "    data = fp.readlines()\n",
        "\n",
        "dt = {}\n",
        "for item in data :\n",
        "    lt = writerScore(item)\n",
        "    dt[lt[0]] = int(lt[1])\n",
        "\n",
        "print(dt)\n",
        "\n"
      ],
      "execution_count": null,
      "outputs": [
        {
          "output_type": "stream",
          "text": [
            "{'atto': 10, 'hkhk': 10, 'zaq1': 10, 'been': 5, 'ldj8': 8, 'silv': 10, 'kenb': 10, 'bomt': 10, 'yama': 10, 'nurs': 10}\n"
          ],
          "name": "stdout"
        }
      ]
    },
    {
      "cell_type": "code",
      "metadata": {
        "id": "OTwbNXCz12T8",
        "colab_type": "code",
        "colab": {}
      },
      "source": [
        "x = list(dt.keys())\n",
        "y = list(dt.values())\n"
      ],
      "execution_count": null,
      "outputs": []
    },
    {
      "cell_type": "code",
      "metadata": {
        "id": "5BkFlK062DRa",
        "colab_type": "code",
        "colab": {
          "base_uri": "https://localhost:8080/",
          "height": 265
        },
        "outputId": "c28e2dec-24a1-4be6-879f-155fef56d4c6"
      },
      "source": [
        "import matplotlib.pyplot as plt\n",
        "\n",
        "plt.bar(x,y)\n",
        "plt.show()"
      ],
      "execution_count": null,
      "outputs": [
        {
          "output_type": "display_data",
          "data": {
            "image/png": "[encoded data removed]",
            "text/plain": [
              "<Figure size 432x288 with 1 Axes>"
            ]
          },
          "metadata": {
            "tags": [],
            "needs_background": "light"
          }
        }
      ]
    }
  ]
}