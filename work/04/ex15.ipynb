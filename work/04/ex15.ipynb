{
  "nbformat": 4,
  "nbformat_minor": 0,
  "metadata": {
    "colab": {
      "name": "ex15.ipynb",
      "provenance": [],
      "collapsed_sections": [],
      "mount_file_id": "1Rel7z5kdgCqnn1XvXDAzkAMTHusP_DDn",
      "authorship_tag": "ABX9TyPhdbNbrKdNnvQYFYR+S4H+",
      "include_colab_link": true
    },
    "kernelspec": {
      "name": "python3",
      "display_name": "Python 3"
    }
  },
  "cells": [
    {
      "cell_type": "markdown",
      "metadata": {
        "id": "view-in-github",
        "colab_type": "text"
      },
      "source": [
        "<a href=\"https://colab.research.google.com/github/cybermin/pythonbasic/blob/master/work/04/ex15.ipynb\" target=\"_parent\"><img src=\"https://colab.research.google.com/assets/colab-badge.svg\" alt=\"Open In Colab\"/></a>"
      ]
    },
    {
      "cell_type": "code",
      "metadata": {
        "id": "pE__RxKSeTyd",
        "colab_type": "code",
        "colab": {
          "base_uri": "https://localhost:8080/",
          "height": 108
        },
        "outputId": "ceaec58e-cdca-42f1-923a-fe85036f6f5a"
      },
      "source": [
        "#한글 폰트 사용 : colab , 런타임 다시 시작 하기\n",
        "%config InlineBackend.figure_format = 'retina'\n",
        "\n",
        "!apt -qq -y install fonts-nanum"
      ],
      "execution_count": null,
      "outputs": [
        {
          "output_type": "stream",
          "text": [
            "fonts-nanum is already the newest version (20170925-1).\n",
            "The following package was automatically installed and is no longer required:\n",
            "  libnvidia-common-440\n",
            "Use 'apt autoremove' to remove it.\n",
            "0 upgraded, 0 newly installed, 0 to remove and 33 not upgraded.\n"
          ],
          "name": "stdout"
        }
      ]
    },
    {
      "cell_type": "code",
      "metadata": {
        "id": "JhTDpGPhhdxN",
        "colab_type": "code",
        "colab": {}
      },
      "source": [
        "from urllib.request import urlopen\n",
        "from urllib import parse"
      ],
      "execution_count": null,
      "outputs": []
    },
    {
      "cell_type": "code",
      "metadata": {
        "id": "YL2GNj0ahu-q",
        "colab_type": "code",
        "colab": {}
      },
      "source": [
        "mykey = '8888457327677944494'\n",
        "myquery = parse.quote(\"한국의 가을은 매우 아름답습니다\")\n",
        "mytype = 0 \n",
        "\n",
        "url = 'http://api.adams.ai/datamixiApi/omAnalysis?key=' + mykey +'&query=' + myquery +'&type=' + str(mytype )\n",
        "data = urlopen(url)"
      ],
      "execution_count": null,
      "outputs": []
    },
    {
      "cell_type": "code",
      "metadata": {
        "id": "P41bS5vTmTJW",
        "colab_type": "code",
        "colab": {}
      },
      "source": [
        "import json\n",
        "def adamsAi(myquery, mytype) :\n",
        "    mykey = '8888457327677944494'\n",
        "\n",
        "    url = 'http://api.adams.ai/datamixiApi/omAnalysis?key=' + mykey \n",
        "    url = url +'&query=' + parse.quote(myquery )\n",
        "    url = url +'&type=' + mytype    \n",
        "  \n",
        "    data = urlopen(url).read().decode('utf-8')\n",
        "    dt = json.loads(data)\n",
        "\n",
        "    if mytype == '0' :\n",
        "        score = dt[\"return_object\"][\"score\"]\n",
        "        label = dt[\"return_object\"][\"label\"]\n",
        "    else :\n",
        "        score = dt[\"return_object\"][\"Result\"][0][0] \n",
        "        label = dt[\"return_object\"][\"Result\"][0][1] \n",
        "        \n",
        "    return score, label"
      ],
      "execution_count": null,
      "outputs": []
    },
    {
      "cell_type": "code",
      "metadata": {
        "id": "FMkw6Vaym1MU",
        "colab_type": "code",
        "colab": {
          "base_uri": "https://localhost:8080/",
          "height": 72
        },
        "outputId": "2878da57-9ec3-422b-ef2e-35585de1be4d"
      },
      "source": [
        "myquery = input('문장을 입력하세요.')\n",
        "mytype = input('0:감성분석, 1:감정분석')\n",
        " \n",
        "score, label = adamsAi(myquery,mytype )\n",
        "print(f'{myquery} : {mytype} {label} {score}')"
      ],
      "execution_count": null,
      "outputs": [
        {
          "output_type": "stream",
          "text": [
            "문장을 입력하세요.오늘도 즐거운 하루\n",
            "0:감성분석, 1:감정분석0\n",
            "오늘도 즐거운 하루 : 0 긍정 1.0\n"
          ],
          "name": "stdout"
        }
      ]
    },
    {
      "cell_type": "code",
      "metadata": {
        "id": "R43-OxqZ3we9",
        "colab_type": "code",
        "colab": {
          "base_uri": "https://localhost:8080/",
          "height": 238
        },
        "outputId": "6a4da9fc-b4d9-44bf-b086-5dddd51bcad3"
      },
      "source": [
        "rt = {'부정':0, '중립':0, '긍정':0}\n",
        "\n",
        "with open('/content/drive/My Drive/PythonWork/PythonBasic/work/04/평점.txt','r', encoding='utf-8') as fp:\n",
        "    data = fp.readlines()\n",
        "\n",
        "for line in data:\n",
        "    line = line.replace(\"\\n\", '')\n",
        "    item = line.split('\\t')\n",
        "    score, label = adamsAi(item[1],'0' ) #감성분석만\n",
        "    rt[label] = rt[label] + 1\n",
        "    print(item[1], '=>', label)\n",
        "print(rt)"
      ],
      "execution_count": null,
      "outputs": [
        {
          "output_type": "stream",
          "text": [
            "박성웅이 제일 잘했는듯 ㅋ 신고 => 긍정\n",
            "박성웅의차분한발성넘나멋있음?  => 긍정\n",
            "서지도 않는 아재들이랑 현학적 허세로 가득한 평론가랑 네이버 방구석 철학자들이 빨아서 닳아버린 대부보다 훨 재밌음  => 긍정\n",
            "딜레마의 끝은, 대개 <둘 중 어느 한 편도 지켜내지 못함>. 더욱이, 어찌하여, 나 홀로 살아남음.이 <살아남은 자의 비참함>에 관한 경위서.  => 부정\n",
            "재미는 확실하군 황정미니 살아있네  => 긍정\n",
            "OO 브라다의 의리 멋있다! 황정민 대박  => 긍정\n",
            "노래부터 배우연기까지 빠짐이없음  => 중립\n",
            "몇번을 다시봐도 소름이 돋는다.에필로그까지 완벽한 영화 => 긍정\n",
            "이건 인간적으로 10점 아니냐  => 부정\n",
            "너 나 감당 할수 있겠냐~  => 부정\n",
            "{'부정': 3, '중립': 1, '긍정': 6}\n"
          ],
          "name": "stdout"
        }
      ]
    },
    {
      "cell_type": "code",
      "metadata": {
        "id": "1qp-_HyU5zGt",
        "colab_type": "code",
        "colab": {}
      },
      "source": [
        "import matplotlib.pyplot as plt\n",
        "\n",
        "import matplotlib as mpl\n",
        "import matplotlib.font_manager as fm\n",
        "fontpath = '/usr/share/fonts/truetype/nanum/NanumBarunGothic.ttf'\n",
        "font = fm.FontProperties(fname=fontpath, size=9)\n",
        "plt.rc('font', family='NanumBarunGothic') \n",
        "mpl.font_manager._rebuild()"
      ],
      "execution_count": null,
      "outputs": []
    },
    {
      "cell_type": "code",
      "metadata": {
        "id": "2XbQCk3d6INF",
        "colab_type": "code",
        "colab": {
          "base_uri": "https://localhost:8080/",
          "height": 265
        },
        "outputId": "8fb70f5e-950a-45b6-d59b-33c676185e69"
      },
      "source": [
        "x = list(rt.keys())\n",
        "y = list(rt.values())\n",
        "plt.bar(x,y )\n",
        "plt.show()"
      ],
      "execution_count": null,
      "outputs": [
        {
          "output_type": "display_data",
          "data": {
            "image/png": "[encoded data removed]",
            "text/plain": [
              "<Figure size 432x288 with 1 Axes>"
            ]
          },
          "metadata": {
            "tags": [],
            "needs_background": "light"
          }
        }
      ]
    },
    {
      "cell_type": "code",
      "metadata": {
        "id": "iK0en4t89lQe",
        "colab_type": "code",
        "colab": {
          "base_uri": "https://localhost:8080/",
          "height": 248
        },
        "outputId": "693b7302-f9db-47a1-b57b-b25f6ef698e3"
      },
      "source": [
        "plt.pie(y, labels=x, startangle=90)\n",
        "plt.show()"
      ],
      "execution_count": null,
      "outputs": [
        {
          "output_type": "display_data",
          "data": {
            "image/png": "[encoded data removed]",
            "text/plain": [
              "<Figure size 432x288 with 1 Axes>"
            ]
          },
          "metadata": {
            "tags": []
          }
        }
      ]
    },
    {
      "cell_type": "code",
      "metadata": {
        "id": "N1ax_Ail6WFl",
        "colab_type": "code",
        "colab": {
          "base_uri": "https://localhost:8080/",
          "height": 230
        },
        "outputId": "2504cc73-f0a9-46e6-d6e4-0ee787edf359"
      },
      "source": [
        "dt = {'a':10, 'b':20}\n",
        "\n",
        "print(dt.get('c'))\n",
        "print(dt['c'])"
      ],
      "execution_count": null,
      "outputs": [
        {
          "output_type": "stream",
          "text": [
            "None\n"
          ],
          "name": "stdout"
        },
        {
          "output_type": "error",
          "ename": "KeyError",
          "evalue": "ignored",
          "traceback": [
            "\u001b[0;31m---------------------------------------------------------------------------\u001b[0m",
            "\u001b[0;31mKeyError\u001b[0m                                  Traceback (most recent call last)",
            "\u001b[0;32m<ipython-input-3-e81747b6aaee>\u001b[0m in \u001b[0;36m<module>\u001b[0;34m()\u001b[0m\n\u001b[1;32m      2\u001b[0m \u001b[0;34m\u001b[0m\u001b[0m\n\u001b[1;32m      3\u001b[0m \u001b[0mprint\u001b[0m\u001b[0;34m(\u001b[0m\u001b[0mdt\u001b[0m\u001b[0;34m.\u001b[0m\u001b[0mget\u001b[0m\u001b[0;34m(\u001b[0m\u001b[0;34m'c'\u001b[0m\u001b[0;34m)\u001b[0m\u001b[0;34m)\u001b[0m\u001b[0;34m\u001b[0m\u001b[0;34m\u001b[0m\u001b[0m\n\u001b[0;32m----> 4\u001b[0;31m \u001b[0mprint\u001b[0m\u001b[0;34m(\u001b[0m\u001b[0mdt\u001b[0m\u001b[0;34m[\u001b[0m\u001b[0;34m'c'\u001b[0m\u001b[0;34m]\u001b[0m\u001b[0;34m)\u001b[0m\u001b[0;34m\u001b[0m\u001b[0;34m\u001b[0m\u001b[0m\n\u001b[0m",
            "\u001b[0;31mKeyError\u001b[0m: 'c'"
          ]
        }
      ]
    }
  ]
}