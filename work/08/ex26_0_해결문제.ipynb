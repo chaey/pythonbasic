{
  "nbformat": 4,
  "nbformat_minor": 0,
  "metadata": {
    "colab": {
      "name": "ex26_0_해결문제.ipynb",
      "provenance": [],
      "collapsed_sections": [],
      "mount_file_id": "1JUTlxjPV0zQuljGHrksOH3GGzpm44UnQ",
      "authorship_tag": "ABX9TyO2g3E6rfBvyPi5J4+1cM7K"
    },
    "kernelspec": {
      "name": "python3",
      "display_name": "Python 3"
    }
  },
  "cells": [
    {
      "cell_type": "markdown",
      "metadata": {
        "id": "rKY6FQJlVmgN",
        "colab_type": "text"
      },
      "source": [
        "해결문제) mv1.csv 파일을 읽어서 다음을 처리하시오.\n",
        "+ '년도' 열을 추가한 후 년도가 2018년도인 자료를 추출하여 평점 통계를 구하시오.\n",
        "+ 2019년 10위까지 평점 통계를 구하시오.\n"
      ]
    },
    {
      "cell_type": "code",
      "metadata": {
        "id": "WCGpQs0gViF1",
        "colab_type": "code",
        "colab": {}
      },
      "source": [
        "import pandas as pd\n"
      ],
      "execution_count": null,
      "outputs": []
    },
    {
      "cell_type": "code",
      "metadata": {
        "id": "3TZBC1iu5WsO",
        "colab_type": "code",
        "colab": {
          "base_uri": "https://localhost:8080/",
          "height": 111
        },
        "outputId": "736d7a3d-7c80-40d4-da5b-ffdfc2350a44"
      },
      "source": [
        "dfmv = pd.read_csv('/content/drive/My Drive/PythonWork/PythonBasic/04/mv1.csv' ,header=None)\n",
        "dfmv.head(2)"
      ],
      "execution_count": null,
      "outputs": [
        {
          "output_type": "execute_result",
          "data": {
            "text/html": [
              "<div>\n",
              "<style scoped>\n",
              "    .dataframe tbody tr th:only-of-type {\n",
              "        vertical-align: middle;\n",
              "    }\n",
              "\n",
              "    .dataframe tbody tr th {\n",
              "        vertical-align: top;\n",
              "    }\n",
              "\n",
              "    .dataframe thead th {\n",
              "        text-align: right;\n",
              "    }\n",
              "</style>\n",
              "<table border=\"1\" class=\"dataframe\">\n",
              "  <thead>\n",
              "    <tr style=\"text-align: right;\">\n",
              "      <th></th>\n",
              "      <th>0</th>\n",
              "      <th>1</th>\n",
              "      <th>2</th>\n",
              "      <th>3</th>\n",
              "      <th>4</th>\n",
              "      <th>5</th>\n",
              "    </tr>\n",
              "  </thead>\n",
              "  <tbody>\n",
              "    <tr>\n",
              "      <th>0</th>\n",
              "      <td>119859</td>\n",
              "      <td>1</td>\n",
              "      <td>/moviedb/main?movieId=119859</td>\n",
              "      <td>극한직업</td>\n",
              "      <td>7.4</td>\n",
              "      <td>2019.01.23</td>\n",
              "    </tr>\n",
              "    <tr>\n",
              "      <th>1</th>\n",
              "      <td>93252</td>\n",
              "      <td>2</td>\n",
              "      <td>/moviedb/main?movieId=93252</td>\n",
              "      <td>어벤져스: 엔드게임</td>\n",
              "      <td>7.8</td>\n",
              "      <td>2019.04.24</td>\n",
              "    </tr>\n",
              "  </tbody>\n",
              "</table>\n",
              "</div>"
            ],
            "text/plain": [
              "        0  1                              2            3    4            5\n",
              "0  119859  1   /moviedb/main?movieId=119859         극한직업  7.4   2019.01.23\n",
              "1   93252  2    /moviedb/main?movieId=93252   어벤져스: 엔드게임  7.8   2019.04.24"
            ]
          },
          "metadata": {
            "tags": []
          },
          "execution_count": 6
        }
      ]
    },
    {
      "cell_type": "code",
      "metadata": {
        "id": "Bqk2_3Ah5-YH",
        "colab_type": "code",
        "colab": {}
      },
      "source": [
        "dfmv.columns = ['영화코드', '순위', '링크', '영화명', '평점', '일자']"
      ],
      "execution_count": null,
      "outputs": []
    },
    {
      "cell_type": "code",
      "metadata": {
        "id": "zyJbsC4S6HGW",
        "colab_type": "code",
        "colab": {
          "base_uri": "https://localhost:8080/",
          "height": 111
        },
        "outputId": "4ccdb0f0-1c79-4fc4-931a-e4e0d97cbf00"
      },
      "source": [
        "dfmv.head(2)"
      ],
      "execution_count": null,
      "outputs": [
        {
          "output_type": "execute_result",
          "data": {
            "text/html": [
              "<div>\n",
              "<style scoped>\n",
              "    .dataframe tbody tr th:only-of-type {\n",
              "        vertical-align: middle;\n",
              "    }\n",
              "\n",
              "    .dataframe tbody tr th {\n",
              "        vertical-align: top;\n",
              "    }\n",
              "\n",
              "    .dataframe thead th {\n",
              "        text-align: right;\n",
              "    }\n",
              "</style>\n",
              "<table border=\"1\" class=\"dataframe\">\n",
              "  <thead>\n",
              "    <tr style=\"text-align: right;\">\n",
              "      <th></th>\n",
              "      <th>영화코드</th>\n",
              "      <th>순위</th>\n",
              "      <th>링크</th>\n",
              "      <th>영화명</th>\n",
              "      <th>평점</th>\n",
              "      <th>일자</th>\n",
              "    </tr>\n",
              "  </thead>\n",
              "  <tbody>\n",
              "    <tr>\n",
              "      <th>0</th>\n",
              "      <td>119859</td>\n",
              "      <td>1</td>\n",
              "      <td>/moviedb/main?movieId=119859</td>\n",
              "      <td>극한직업</td>\n",
              "      <td>7.4</td>\n",
              "      <td>2019.01.23</td>\n",
              "    </tr>\n",
              "    <tr>\n",
              "      <th>1</th>\n",
              "      <td>93252</td>\n",
              "      <td>2</td>\n",
              "      <td>/moviedb/main?movieId=93252</td>\n",
              "      <td>어벤져스: 엔드게임</td>\n",
              "      <td>7.8</td>\n",
              "      <td>2019.04.24</td>\n",
              "    </tr>\n",
              "  </tbody>\n",
              "</table>\n",
              "</div>"
            ],
            "text/plain": [
              "     영화코드  순위                             링크          영화명   평점           일자\n",
              "0  119859   1   /moviedb/main?movieId=119859         극한직업  7.4   2019.01.23\n",
              "1   93252   2    /moviedb/main?movieId=93252   어벤져스: 엔드게임  7.8   2019.04.24"
            ]
          },
          "metadata": {
            "tags": []
          },
          "execution_count": 10
        }
      ]
    },
    {
      "cell_type": "code",
      "metadata": {
        "id": "DVXvg_7f5elm",
        "colab_type": "code",
        "colab": {
          "base_uri": "https://localhost:8080/",
          "height": 35
        },
        "outputId": "26b9670c-5072-408f-ffa2-294266a48d34"
      },
      "source": [
        "dfmv.columns"
      ],
      "execution_count": null,
      "outputs": [
        {
          "output_type": "execute_result",
          "data": {
            "text/plain": [
              "Index(['영화코드', '순위', '링크', '영화명', '평점', '일자'], dtype='object')"
            ]
          },
          "metadata": {
            "tags": []
          },
          "execution_count": 9
        }
      ]
    },
    {
      "cell_type": "code",
      "metadata": {
        "id": "OnaD0zvW5VUA",
        "colab_type": "code",
        "colab": {
          "base_uri": "https://localhost:8080/",
          "height": 111
        },
        "outputId": "74750f85-f6eb-4827-ea7c-fffa6b3d5844"
      },
      "source": [
        "dfmv = pd.read_csv('/content/drive/My Drive/PythonWork/PythonBasic/04/mv1.csv',names=['영화코드', '순위', '링크', '영화명', '평점', '일자'], header=None)\n",
        "dfmv.head(2)"
      ],
      "execution_count": null,
      "outputs": [
        {
          "output_type": "execute_result",
          "data": {
            "text/html": [
              "<div>\n",
              "<style scoped>\n",
              "    .dataframe tbody tr th:only-of-type {\n",
              "        vertical-align: middle;\n",
              "    }\n",
              "\n",
              "    .dataframe tbody tr th {\n",
              "        vertical-align: top;\n",
              "    }\n",
              "\n",
              "    .dataframe thead th {\n",
              "        text-align: right;\n",
              "    }\n",
              "</style>\n",
              "<table border=\"1\" class=\"dataframe\">\n",
              "  <thead>\n",
              "    <tr style=\"text-align: right;\">\n",
              "      <th></th>\n",
              "      <th>영화코드</th>\n",
              "      <th>순위</th>\n",
              "      <th>링크</th>\n",
              "      <th>영화명</th>\n",
              "      <th>평점</th>\n",
              "      <th>일자</th>\n",
              "    </tr>\n",
              "  </thead>\n",
              "  <tbody>\n",
              "    <tr>\n",
              "      <th>0</th>\n",
              "      <td>119859</td>\n",
              "      <td>1</td>\n",
              "      <td>/moviedb/main?movieId=119859</td>\n",
              "      <td>극한직업</td>\n",
              "      <td>7.4</td>\n",
              "      <td>2019.01.23</td>\n",
              "    </tr>\n",
              "    <tr>\n",
              "      <th>1</th>\n",
              "      <td>93252</td>\n",
              "      <td>2</td>\n",
              "      <td>/moviedb/main?movieId=93252</td>\n",
              "      <td>어벤져스: 엔드게임</td>\n",
              "      <td>7.8</td>\n",
              "      <td>2019.04.24</td>\n",
              "    </tr>\n",
              "  </tbody>\n",
              "</table>\n",
              "</div>"
            ],
            "text/plain": [
              "     영화코드  순위                             링크          영화명   평점           일자\n",
              "0  119859   1   /moviedb/main?movieId=119859         극한직업  7.4   2019.01.23\n",
              "1   93252   2    /moviedb/main?movieId=93252   어벤져스: 엔드게임  7.8   2019.04.24"
            ]
          },
          "metadata": {
            "tags": []
          },
          "execution_count": 12
        }
      ]
    },
    {
      "cell_type": "code",
      "metadata": {
        "id": "JuQf-VmZ6nQ_",
        "colab_type": "code",
        "colab": {}
      },
      "source": [
        "dfmv.info()"
      ],
      "execution_count": null,
      "outputs": []
    },
    {
      "cell_type": "code",
      "metadata": {
        "id": "-2dHyJ437NXe",
        "colab_type": "code",
        "colab": {
          "base_uri": "https://localhost:8080/",
          "height": 233
        },
        "outputId": "f35cd585-8c0a-4721-9a07-5fc7fa11dba4"
      },
      "source": [
        "dfmv['일자']"
      ],
      "execution_count": null,
      "outputs": [
        {
          "output_type": "execute_result",
          "data": {
            "text/plain": [
              "0      2019.01.23\n",
              "1      2019.04.24\n",
              "2      2019.11.21\n",
              "3      2019.05.23\n",
              "4      2019.05.30\n",
              "         ...     \n",
              "95     2018.03.07\n",
              "96     2018.12.19\n",
              "97     2018.04.05\n",
              "98     2018.12.26\n",
              "99     2018.12.25\n",
              "Name: 일자, Length: 100, dtype: object"
            ]
          },
          "metadata": {
            "tags": []
          },
          "execution_count": 14
        }
      ]
    },
    {
      "cell_type": "code",
      "metadata": {
        "id": "4ju7S12_7TbF",
        "colab_type": "code",
        "colab": {
          "base_uri": "https://localhost:8080/",
          "height": 71
        },
        "outputId": "aaaf7b06-2409-40dc-ead6-555efad8fc7b"
      },
      "source": [
        "dfmv[:2]['일자']"
      ],
      "execution_count": null,
      "outputs": [
        {
          "output_type": "execute_result",
          "data": {
            "text/plain": [
              "0     2019.01.23\n",
              "1     2019.04.24\n",
              "Name: 일자, dtype: object"
            ]
          },
          "metadata": {
            "tags": []
          },
          "execution_count": 18
        }
      ]
    },
    {
      "cell_type": "code",
      "metadata": {
        "id": "w0d3nZUz7uEd",
        "colab_type": "code",
        "colab": {
          "base_uri": "https://localhost:8080/",
          "height": 71
        },
        "outputId": "ced69b1b-151c-4474-f383-f4be7c765749"
      },
      "source": [
        "dfmv.loc[[0,1], '일자']"
      ],
      "execution_count": null,
      "outputs": [
        {
          "output_type": "execute_result",
          "data": {
            "text/plain": [
              "0     2019.01.23\n",
              "1     2019.04.24\n",
              "Name: 일자, dtype: object"
            ]
          },
          "metadata": {
            "tags": []
          },
          "execution_count": 19
        }
      ]
    },
    {
      "cell_type": "code",
      "metadata": {
        "id": "wPY10TXL8C_m",
        "colab_type": "code",
        "colab": {}
      },
      "source": [
        "dfmv['일자'] = dfmv['일자'].str.strip()"
      ],
      "execution_count": null,
      "outputs": []
    },
    {
      "cell_type": "code",
      "metadata": {
        "id": "b4vJZYi-9jn8",
        "colab_type": "code",
        "colab": {}
      },
      "source": [
        "dfmv['일자'] = dfmv['일자'].str.replace(\"'\",\"\")"
      ],
      "execution_count": null,
      "outputs": []
    },
    {
      "cell_type": "code",
      "metadata": {
        "id": "6ocGx9UL-gxc",
        "colab_type": "code",
        "colab": {}
      },
      "source": [
        "dfmv2 = dfmv"
      ],
      "execution_count": null,
      "outputs": []
    },
    {
      "cell_type": "code",
      "metadata": {
        "id": "erT2YqkE-l6E",
        "colab_type": "code",
        "colab": {
          "base_uri": "https://localhost:8080/",
          "height": 111
        },
        "outputId": "38447075-3f1d-4c64-e7fd-ac69f18481b7"
      },
      "source": [
        "dfmv2.head(2)"
      ],
      "execution_count": null,
      "outputs": [
        {
          "output_type": "execute_result",
          "data": {
            "text/html": [
              "<div>\n",
              "<style scoped>\n",
              "    .dataframe tbody tr th:only-of-type {\n",
              "        vertical-align: middle;\n",
              "    }\n",
              "\n",
              "    .dataframe tbody tr th {\n",
              "        vertical-align: top;\n",
              "    }\n",
              "\n",
              "    .dataframe thead th {\n",
              "        text-align: right;\n",
              "    }\n",
              "</style>\n",
              "<table border=\"1\" class=\"dataframe\">\n",
              "  <thead>\n",
              "    <tr style=\"text-align: right;\">\n",
              "      <th></th>\n",
              "      <th>영화코드</th>\n",
              "      <th>순위</th>\n",
              "      <th>링크</th>\n",
              "      <th>영화명</th>\n",
              "      <th>평점</th>\n",
              "      <th>일자</th>\n",
              "      <th>년</th>\n",
              "    </tr>\n",
              "  </thead>\n",
              "  <tbody>\n",
              "    <tr>\n",
              "      <th>0</th>\n",
              "      <td>119859</td>\n",
              "      <td>1</td>\n",
              "      <td>/moviedb/main?movieId=119859</td>\n",
              "      <td>극한직업</td>\n",
              "      <td>7.4</td>\n",
              "      <td>2019.01.23</td>\n",
              "      <td>2019</td>\n",
              "    </tr>\n",
              "    <tr>\n",
              "      <th>1</th>\n",
              "      <td>93252</td>\n",
              "      <td>2</td>\n",
              "      <td>/moviedb/main?movieId=93252</td>\n",
              "      <td>어벤져스: 엔드게임</td>\n",
              "      <td>7.8</td>\n",
              "      <td>2019.04.24</td>\n",
              "      <td>2019</td>\n",
              "    </tr>\n",
              "  </tbody>\n",
              "</table>\n",
              "</div>"
            ],
            "text/plain": [
              "     영화코드  순위                             링크  ...   평점          일자     년\n",
              "0  119859   1   /moviedb/main?movieId=119859  ...  7.4  2019.01.23  2019\n",
              "1   93252   2    /moviedb/main?movieId=93252  ...  7.8  2019.04.24  2019\n",
              "\n",
              "[2 rows x 7 columns]"
            ]
          },
          "metadata": {
            "tags": []
          },
          "execution_count": 33
        }
      ]
    },
    {
      "cell_type": "code",
      "metadata": {
        "id": "oTVIl5W_-pV0",
        "colab_type": "code",
        "colab": {}
      },
      "source": [
        "dfmv2['년'] = dfmv['일자'].str[:4]"
      ],
      "execution_count": null,
      "outputs": []
    },
    {
      "cell_type": "code",
      "metadata": {
        "id": "RFFAXDDZ_oTG",
        "colab_type": "code",
        "colab": {
          "base_uri": "https://localhost:8080/",
          "height": 111
        },
        "outputId": "c9c2c9d2-0978-441d-c603-9b8f2a667f8b"
      },
      "source": [
        "dfmv = dfmv.drop('년', axis = 1)\n",
        "dfmv.head(2)"
      ],
      "execution_count": null,
      "outputs": [
        {
          "output_type": "execute_result",
          "data": {
            "text/html": [
              "<div>\n",
              "<style scoped>\n",
              "    .dataframe tbody tr th:only-of-type {\n",
              "        vertical-align: middle;\n",
              "    }\n",
              "\n",
              "    .dataframe tbody tr th {\n",
              "        vertical-align: top;\n",
              "    }\n",
              "\n",
              "    .dataframe thead th {\n",
              "        text-align: right;\n",
              "    }\n",
              "</style>\n",
              "<table border=\"1\" class=\"dataframe\">\n",
              "  <thead>\n",
              "    <tr style=\"text-align: right;\">\n",
              "      <th></th>\n",
              "      <th>영화코드</th>\n",
              "      <th>순위</th>\n",
              "      <th>링크</th>\n",
              "      <th>영화명</th>\n",
              "      <th>평점</th>\n",
              "      <th>일자</th>\n",
              "    </tr>\n",
              "  </thead>\n",
              "  <tbody>\n",
              "    <tr>\n",
              "      <th>0</th>\n",
              "      <td>119859</td>\n",
              "      <td>1</td>\n",
              "      <td>/moviedb/main?movieId=119859</td>\n",
              "      <td>극한직업</td>\n",
              "      <td>7.4</td>\n",
              "      <td>2019.01.23</td>\n",
              "    </tr>\n",
              "    <tr>\n",
              "      <th>1</th>\n",
              "      <td>93252</td>\n",
              "      <td>2</td>\n",
              "      <td>/moviedb/main?movieId=93252</td>\n",
              "      <td>어벤져스: 엔드게임</td>\n",
              "      <td>7.8</td>\n",
              "      <td>2019.04.24</td>\n",
              "    </tr>\n",
              "  </tbody>\n",
              "</table>\n",
              "</div>"
            ],
            "text/plain": [
              "     영화코드  순위                             링크          영화명   평점          일자\n",
              "0  119859   1   /moviedb/main?movieId=119859         극한직업  7.4  2019.01.23\n",
              "1   93252   2    /moviedb/main?movieId=93252   어벤져스: 엔드게임  7.8  2019.04.24"
            ]
          },
          "metadata": {
            "tags": []
          },
          "execution_count": 38
        }
      ]
    },
    {
      "cell_type": "code",
      "metadata": {
        "id": "Jjd_195O-DVc",
        "colab_type": "code",
        "colab": {
          "base_uri": "https://localhost:8080/",
          "height": 1000
        },
        "outputId": "615f137f-a2bc-4d0a-e4ad-954c9332cf6b"
      },
      "source": [
        "dfmv2[dfmv2['년'] == '2018']"
      ],
      "execution_count": null,
      "outputs": [
        {
          "output_type": "execute_result",
          "data": {
            "text/html": [
              "<div>\n",
              "<style scoped>\n",
              "    .dataframe tbody tr th:only-of-type {\n",
              "        vertical-align: middle;\n",
              "    }\n",
              "\n",
              "    .dataframe tbody tr th {\n",
              "        vertical-align: top;\n",
              "    }\n",
              "\n",
              "    .dataframe thead th {\n",
              "        text-align: right;\n",
              "    }\n",
              "</style>\n",
              "<table border=\"1\" class=\"dataframe\">\n",
              "  <thead>\n",
              "    <tr style=\"text-align: right;\">\n",
              "      <th></th>\n",
              "      <th>영화코드</th>\n",
              "      <th>순위</th>\n",
              "      <th>링크</th>\n",
              "      <th>영화명</th>\n",
              "      <th>평점</th>\n",
              "      <th>일자</th>\n",
              "      <th>년</th>\n",
              "    </tr>\n",
              "  </thead>\n",
              "  <tbody>\n",
              "    <tr>\n",
              "      <th>34</th>\n",
              "      <td>94484</td>\n",
              "      <td>35</td>\n",
              "      <td>/moviedb/main?movieId=94484</td>\n",
              "      <td>아쿠아맨</td>\n",
              "      <td>7.5</td>\n",
              "      <td>2018.12.19</td>\n",
              "      <td>2018</td>\n",
              "    </tr>\n",
              "    <tr>\n",
              "      <th>50</th>\n",
              "      <td>120166</td>\n",
              "      <td>1</td>\n",
              "      <td>/moviedb/main?movieId=120166</td>\n",
              "      <td>신과함께-인과 연</td>\n",
              "      <td>6.8</td>\n",
              "      <td>2018.08.01</td>\n",
              "      <td>2018</td>\n",
              "    </tr>\n",
              "    <tr>\n",
              "      <th>51</th>\n",
              "      <td>93251</td>\n",
              "      <td>2</td>\n",
              "      <td>/moviedb/main?movieId=93251</td>\n",
              "      <td>어벤져스: 인피니티 워</td>\n",
              "      <td>7.6</td>\n",
              "      <td>2018.04.25</td>\n",
              "      <td>2018</td>\n",
              "    </tr>\n",
              "    <tr>\n",
              "      <th>52</th>\n",
              "      <td>115280</td>\n",
              "      <td>3</td>\n",
              "      <td>/moviedb/main?movieId=115280</td>\n",
              "      <td>보헤미안 랩소디</td>\n",
              "      <td>8.9</td>\n",
              "      <td>2018.10.31</td>\n",
              "      <td>2018</td>\n",
              "    </tr>\n",
              "    <tr>\n",
              "      <th>53</th>\n",
              "      <td>99611</td>\n",
              "      <td>4</td>\n",
              "      <td>/moviedb/main?movieId=99611</td>\n",
              "      <td>미션 임파서블: 폴아웃</td>\n",
              "      <td>8.1</td>\n",
              "      <td>2018.07.25</td>\n",
              "      <td>2018</td>\n",
              "    </tr>\n",
              "    <tr>\n",
              "      <th>55</th>\n",
              "      <td>108035</td>\n",
              "      <td>6</td>\n",
              "      <td>/moviedb/main?movieId=108035</td>\n",
              "      <td>쥬라기 월드: 폴른 킹덤</td>\n",
              "      <td>7.1</td>\n",
              "      <td>2018.06.06</td>\n",
              "      <td>2018</td>\n",
              "    </tr>\n",
              "    <tr>\n",
              "      <th>56</th>\n",
              "      <td>110746</td>\n",
              "      <td>7</td>\n",
              "      <td>/moviedb/main?movieId=110746</td>\n",
              "      <td>앤트맨과 와스프</td>\n",
              "      <td>7.4</td>\n",
              "      <td>2018.07.04</td>\n",
              "      <td>2018</td>\n",
              "    </tr>\n",
              "    <tr>\n",
              "      <th>57</th>\n",
              "      <td>110556</td>\n",
              "      <td>8</td>\n",
              "      <td>/moviedb/main?movieId=110556</td>\n",
              "      <td>안시성</td>\n",
              "      <td>7.6</td>\n",
              "      <td>2018.09.19</td>\n",
              "      <td>2018</td>\n",
              "    </tr>\n",
              "    <tr>\n",
              "      <th>58</th>\n",
              "      <td>98033</td>\n",
              "      <td>9</td>\n",
              "      <td>/moviedb/main?movieId=98033</td>\n",
              "      <td>블랙 팬서</td>\n",
              "      <td>6.1</td>\n",
              "      <td>2018.02.14</td>\n",
              "      <td>2018</td>\n",
              "    </tr>\n",
              "    <tr>\n",
              "      <th>59</th>\n",
              "      <td>117910</td>\n",
              "      <td>10</td>\n",
              "      <td>/moviedb/main?movieId=117910</td>\n",
              "      <td>완벽한 타인</td>\n",
              "      <td>7.5</td>\n",
              "      <td>2018.10.31</td>\n",
              "      <td>2018</td>\n",
              "    </tr>\n",
              "    <tr>\n",
              "      <th>61</th>\n",
              "      <td>108633</td>\n",
              "      <td>12</td>\n",
              "      <td>/moviedb/main?movieId=108633</td>\n",
              "      <td>독전</td>\n",
              "      <td>6.5</td>\n",
              "      <td>2018.05.22</td>\n",
              "      <td>2018</td>\n",
              "    </tr>\n",
              "    <tr>\n",
              "      <th>62</th>\n",
              "      <td>109169</td>\n",
              "      <td>13</td>\n",
              "      <td>/moviedb/main?movieId=109169</td>\n",
              "      <td>공작</td>\n",
              "      <td>8.3</td>\n",
              "      <td>2018.08.08</td>\n",
              "      <td>2018</td>\n",
              "    </tr>\n",
              "    <tr>\n",
              "      <th>63</th>\n",
              "      <td>112415</td>\n",
              "      <td>14</td>\n",
              "      <td>/moviedb/main?movieId=112415</td>\n",
              "      <td>베놈</td>\n",
              "      <td>7.1</td>\n",
              "      <td>2018.10.03</td>\n",
              "      <td>2018</td>\n",
              "    </tr>\n",
              "    <tr>\n",
              "      <th>64</th>\n",
              "      <td>109924</td>\n",
              "      <td>15</td>\n",
              "      <td>/moviedb/main?movieId=109924</td>\n",
              "      <td>암수살인</td>\n",
              "      <td>7.6</td>\n",
              "      <td>2018.10.03</td>\n",
              "      <td>2018</td>\n",
              "    </tr>\n",
              "    <tr>\n",
              "      <th>65</th>\n",
              "      <td>102301</td>\n",
              "      <td>16</td>\n",
              "      <td>/moviedb/main?movieId=102301</td>\n",
              "      <td>데드풀 2</td>\n",
              "      <td>6.8</td>\n",
              "      <td>2018.05.16</td>\n",
              "      <td>2018</td>\n",
              "    </tr>\n",
              "    <tr>\n",
              "      <th>66</th>\n",
              "      <td>114124</td>\n",
              "      <td>17</td>\n",
              "      <td>/moviedb/main?movieId=114124</td>\n",
              "      <td>국가부도의 날</td>\n",
              "      <td>8.1</td>\n",
              "      <td>2018.11.28</td>\n",
              "      <td>2018</td>\n",
              "    </tr>\n",
              "    <tr>\n",
              "      <th>67</th>\n",
              "      <td>110929</td>\n",
              "      <td>18</td>\n",
              "      <td>/moviedb/main?movieId=110929</td>\n",
              "      <td>코코</td>\n",
              "      <td>8.9</td>\n",
              "      <td>2018.01.11</td>\n",
              "      <td>2018</td>\n",
              "    </tr>\n",
              "    <tr>\n",
              "      <th>68</th>\n",
              "      <td>94484</td>\n",
              "      <td>19</td>\n",
              "      <td>/moviedb/main?movieId=94484</td>\n",
              "      <td>아쿠아맨</td>\n",
              "      <td>7.5</td>\n",
              "      <td>2018.12.19</td>\n",
              "      <td>2018</td>\n",
              "    </tr>\n",
              "    <tr>\n",
              "      <th>69</th>\n",
              "      <td>108632</td>\n",
              "      <td>20</td>\n",
              "      <td>/moviedb/main?movieId=108632</td>\n",
              "      <td>그것만이 내 세상</td>\n",
              "      <td>8.7</td>\n",
              "      <td>2018.01.17</td>\n",
              "      <td>2018</td>\n",
              "    </tr>\n",
              "    <tr>\n",
              "      <th>70</th>\n",
              "      <td>111293</td>\n",
              "      <td>21</td>\n",
              "      <td>/moviedb/main?movieId=111293</td>\n",
              "      <td>마녀</td>\n",
              "      <td>8.0</td>\n",
              "      <td>2018.06.27</td>\n",
              "      <td>2018</td>\n",
              "    </tr>\n",
              "    <tr>\n",
              "      <th>71</th>\n",
              "      <td>112705</td>\n",
              "      <td>22</td>\n",
              "      <td>/moviedb/main?movieId=112705</td>\n",
              "      <td>탐정: 리턴즈</td>\n",
              "      <td>7.4</td>\n",
              "      <td>2018.06.13</td>\n",
              "      <td>2018</td>\n",
              "    </tr>\n",
              "    <tr>\n",
              "      <th>72</th>\n",
              "      <td>117020</td>\n",
              "      <td>23</td>\n",
              "      <td>/moviedb/main?movieId=117020</td>\n",
              "      <td>인크레더블 2</td>\n",
              "      <td>8.0</td>\n",
              "      <td>2018.07.18</td>\n",
              "      <td>2018</td>\n",
              "    </tr>\n",
              "    <tr>\n",
              "      <th>73</th>\n",
              "      <td>117952</td>\n",
              "      <td>24</td>\n",
              "      <td>/moviedb/main?movieId=117952</td>\n",
              "      <td>서치</td>\n",
              "      <td>8.3</td>\n",
              "      <td>2018.08.29</td>\n",
              "      <td>2018</td>\n",
              "    </tr>\n",
              "    <tr>\n",
              "      <th>74</th>\n",
              "      <td>113862</td>\n",
              "      <td>25</td>\n",
              "      <td>/moviedb/main?movieId=113862</td>\n",
              "      <td>너의 결혼식</td>\n",
              "      <td>7.3</td>\n",
              "      <td>2018.08.22</td>\n",
              "      <td>2018</td>\n",
              "    </tr>\n",
              "    <tr>\n",
              "      <th>75</th>\n",
              "      <td>118604</td>\n",
              "      <td>26</td>\n",
              "      <td>/moviedb/main?movieId=118604</td>\n",
              "      <td>곤지암</td>\n",
              "      <td>4.9</td>\n",
              "      <td>2018.03.28</td>\n",
              "      <td>2018</td>\n",
              "    </tr>\n",
              "    <tr>\n",
              "      <th>76</th>\n",
              "      <td>115112</td>\n",
              "      <td>27</td>\n",
              "      <td>/moviedb/main?movieId=115112</td>\n",
              "      <td>지금 만나러 갑니다</td>\n",
              "      <td>7.9</td>\n",
              "      <td>2018.03.14</td>\n",
              "      <td>2018</td>\n",
              "    </tr>\n",
              "    <tr>\n",
              "      <th>77</th>\n",
              "      <td>111723</td>\n",
              "      <td>28</td>\n",
              "      <td>/moviedb/main?movieId=111723</td>\n",
              "      <td>목격자</td>\n",
              "      <td>5.3</td>\n",
              "      <td>2018.08.15</td>\n",
              "      <td>2018</td>\n",
              "    </tr>\n",
              "    <tr>\n",
              "      <th>78</th>\n",
              "      <td>113686</td>\n",
              "      <td>29</td>\n",
              "      <td>/moviedb/main?movieId=113686</td>\n",
              "      <td>조선명탐정: 흡혈괴마의 비밀</td>\n",
              "      <td>6.6</td>\n",
              "      <td>2018.02.08</td>\n",
              "      <td>2018</td>\n",
              "    </tr>\n",
              "    <tr>\n",
              "      <th>79</th>\n",
              "      <td>111490</td>\n",
              "      <td>30</td>\n",
              "      <td>/moviedb/main?movieId=111490</td>\n",
              "      <td>신비한 동물들과 그린델왈드의 범죄</td>\n",
              "      <td>5.9</td>\n",
              "      <td>2018.11.14</td>\n",
              "      <td>2018</td>\n",
              "    </tr>\n",
              "    <tr>\n",
              "      <th>80</th>\n",
              "      <td>115769</td>\n",
              "      <td>31</td>\n",
              "      <td>/moviedb/main?movieId=115769</td>\n",
              "      <td>메이즈 러너: 데스 큐어</td>\n",
              "      <td>7.1</td>\n",
              "      <td>2018.01.17</td>\n",
              "      <td>2018</td>\n",
              "    </tr>\n",
              "    <tr>\n",
              "      <th>81</th>\n",
              "      <td>112899</td>\n",
              "      <td>32</td>\n",
              "      <td>/moviedb/main?movieId=112899</td>\n",
              "      <td>맘마미아!2</td>\n",
              "      <td>7.8</td>\n",
              "      <td>2018.08.08</td>\n",
              "      <td>2018</td>\n",
              "    </tr>\n",
              "    <tr>\n",
              "      <th>82</th>\n",
              "      <td>96030</td>\n",
              "      <td>33</td>\n",
              "      <td>/moviedb/main?movieId=96030</td>\n",
              "      <td>레디 플레이어 원</td>\n",
              "      <td>7.9</td>\n",
              "      <td>2018.03.28</td>\n",
              "      <td>2018</td>\n",
              "    </tr>\n",
              "    <tr>\n",
              "      <th>83</th>\n",
              "      <td>111569</td>\n",
              "      <td>34</td>\n",
              "      <td>/moviedb/main?movieId=111569</td>\n",
              "      <td>명당</td>\n",
              "      <td>6.6</td>\n",
              "      <td>2018.09.19</td>\n",
              "      <td>2018</td>\n",
              "    </tr>\n",
              "    <tr>\n",
              "      <th>84</th>\n",
              "      <td>112447</td>\n",
              "      <td>35</td>\n",
              "      <td>/moviedb/main?movieId=112447</td>\n",
              "      <td>협상</td>\n",
              "      <td>7.1</td>\n",
              "      <td>2018.09.19</td>\n",
              "      <td>2018</td>\n",
              "    </tr>\n",
              "    <tr>\n",
              "      <th>85</th>\n",
              "      <td>108037</td>\n",
              "      <td>36</td>\n",
              "      <td>/moviedb/main?movieId=108037</td>\n",
              "      <td>마약왕</td>\n",
              "      <td>5.5</td>\n",
              "      <td>2018.12.19</td>\n",
              "      <td>2018</td>\n",
              "    </tr>\n",
              "    <tr>\n",
              "      <th>86</th>\n",
              "      <td>107638</td>\n",
              "      <td>37</td>\n",
              "      <td>/moviedb/main?movieId=107638</td>\n",
              "      <td>쥬만지: 새로운 세계</td>\n",
              "      <td>7.4</td>\n",
              "      <td>2018.01.03</td>\n",
              "      <td>2018</td>\n",
              "    </tr>\n",
              "    <tr>\n",
              "      <th>87</th>\n",
              "      <td>110097</td>\n",
              "      <td>38</td>\n",
              "      <td>/moviedb/main?movieId=110097</td>\n",
              "      <td>창궐</td>\n",
              "      <td>5.5</td>\n",
              "      <td>2018.10.25</td>\n",
              "      <td>2018</td>\n",
              "    </tr>\n",
              "    <tr>\n",
              "      <th>88</th>\n",
              "      <td>118313</td>\n",
              "      <td>39</td>\n",
              "      <td>/moviedb/main?movieId=118313</td>\n",
              "      <td>성난황소</td>\n",
              "      <td>6.3</td>\n",
              "      <td>2018.11.22</td>\n",
              "      <td>2018</td>\n",
              "    </tr>\n",
              "    <tr>\n",
              "      <th>89</th>\n",
              "      <td>118159</td>\n",
              "      <td>40</td>\n",
              "      <td>/moviedb/main?movieId=118159</td>\n",
              "      <td>도어락</td>\n",
              "      <td>6.3</td>\n",
              "      <td>2018.12.05</td>\n",
              "      <td>2018</td>\n",
              "    </tr>\n",
              "    <tr>\n",
              "      <th>90</th>\n",
              "      <td>106307</td>\n",
              "      <td>41</td>\n",
              "      <td>/moviedb/main?movieId=106307</td>\n",
              "      <td>리틀 포레스트</td>\n",
              "      <td>8.4</td>\n",
              "      <td>2018.02.28</td>\n",
              "      <td>2018</td>\n",
              "    </tr>\n",
              "    <tr>\n",
              "      <th>91</th>\n",
              "      <td>108886</td>\n",
              "      <td>42</td>\n",
              "      <td>/moviedb/main?movieId=108886</td>\n",
              "      <td>골든슬럼버</td>\n",
              "      <td>5.2</td>\n",
              "      <td>2018.02.14</td>\n",
              "      <td>2018</td>\n",
              "    </tr>\n",
              "    <tr>\n",
              "      <th>92</th>\n",
              "      <td>108275</td>\n",
              "      <td>43</td>\n",
              "      <td>/moviedb/main?movieId=108275</td>\n",
              "      <td>램페이지</td>\n",
              "      <td>6.7</td>\n",
              "      <td>2018.04.12</td>\n",
              "      <td>2018</td>\n",
              "    </tr>\n",
              "    <tr>\n",
              "      <th>93</th>\n",
              "      <td>95501</td>\n",
              "      <td>44</td>\n",
              "      <td>/moviedb/main?movieId=95501</td>\n",
              "      <td>궁합</td>\n",
              "      <td>6.4</td>\n",
              "      <td>2018.02.28</td>\n",
              "      <td>2018</td>\n",
              "    </tr>\n",
              "    <tr>\n",
              "      <th>94</th>\n",
              "      <td>108442</td>\n",
              "      <td>45</td>\n",
              "      <td>/moviedb/main?movieId=108442</td>\n",
              "      <td>오션스8</td>\n",
              "      <td>6.8</td>\n",
              "      <td>2018.06.13</td>\n",
              "      <td>2018</td>\n",
              "    </tr>\n",
              "    <tr>\n",
              "      <th>95</th>\n",
              "      <td>111294</td>\n",
              "      <td>46</td>\n",
              "      <td>/moviedb/main?movieId=111294</td>\n",
              "      <td>사라진 밤</td>\n",
              "      <td>6.9</td>\n",
              "      <td>2018.03.07</td>\n",
              "      <td>2018</td>\n",
              "    </tr>\n",
              "    <tr>\n",
              "      <th>96</th>\n",
              "      <td>112060</td>\n",
              "      <td>47</td>\n",
              "      <td>/moviedb/main?movieId=112060</td>\n",
              "      <td>스윙키즈</td>\n",
              "      <td>8.5</td>\n",
              "      <td>2018.12.19</td>\n",
              "      <td>2018</td>\n",
              "    </tr>\n",
              "    <tr>\n",
              "      <th>97</th>\n",
              "      <td>110548</td>\n",
              "      <td>48</td>\n",
              "      <td>/moviedb/main?movieId=110548</td>\n",
              "      <td>바람 바람 바람</td>\n",
              "      <td>6.3</td>\n",
              "      <td>2018.04.05</td>\n",
              "      <td>2018</td>\n",
              "    </tr>\n",
              "    <tr>\n",
              "      <th>98</th>\n",
              "      <td>114542</td>\n",
              "      <td>49</td>\n",
              "      <td>/moviedb/main?movieId=114542</td>\n",
              "      <td>PMC: 더 벙커</td>\n",
              "      <td>5.3</td>\n",
              "      <td>2018.12.26</td>\n",
              "      <td>2018</td>\n",
              "    </tr>\n",
              "    <tr>\n",
              "      <th>99</th>\n",
              "      <td>111384</td>\n",
              "      <td>50</td>\n",
              "      <td>/moviedb/main?movieId=111384</td>\n",
              "      <td>범블비</td>\n",
              "      <td>7.5</td>\n",
              "      <td>2018.12.25</td>\n",
              "      <td>2018</td>\n",
              "    </tr>\n",
              "  </tbody>\n",
              "</table>\n",
              "</div>"
            ],
            "text/plain": [
              "      영화코드  순위                             링크  ...   평점          일자     년\n",
              "34   94484  35    /moviedb/main?movieId=94484  ...  7.5  2018.12.19  2018\n",
              "50  120166   1   /moviedb/main?movieId=120166  ...  6.8  2018.08.01  2018\n",
              "51   93251   2    /moviedb/main?movieId=93251  ...  7.6  2018.04.25  2018\n",
              "52  115280   3   /moviedb/main?movieId=115280  ...  8.9  2018.10.31  2018\n",
              "53   99611   4    /moviedb/main?movieId=99611  ...  8.1  2018.07.25  2018\n",
              "55  108035   6   /moviedb/main?movieId=108035  ...  7.1  2018.06.06  2018\n",
              "56  110746   7   /moviedb/main?movieId=110746  ...  7.4  2018.07.04  2018\n",
              "57  110556   8   /moviedb/main?movieId=110556  ...  7.6  2018.09.19  2018\n",
              "58   98033   9    /moviedb/main?movieId=98033  ...  6.1  2018.02.14  2018\n",
              "59  117910  10   /moviedb/main?movieId=117910  ...  7.5  2018.10.31  2018\n",
              "61  108633  12   /moviedb/main?movieId=108633  ...  6.5  2018.05.22  2018\n",
              "62  109169  13   /moviedb/main?movieId=109169  ...  8.3  2018.08.08  2018\n",
              "63  112415  14   /moviedb/main?movieId=112415  ...  7.1  2018.10.03  2018\n",
              "64  109924  15   /moviedb/main?movieId=109924  ...  7.6  2018.10.03  2018\n",
              "65  102301  16   /moviedb/main?movieId=102301  ...  6.8  2018.05.16  2018\n",
              "66  114124  17   /moviedb/main?movieId=114124  ...  8.1  2018.11.28  2018\n",
              "67  110929  18   /moviedb/main?movieId=110929  ...  8.9  2018.01.11  2018\n",
              "68   94484  19    /moviedb/main?movieId=94484  ...  7.5  2018.12.19  2018\n",
              "69  108632  20   /moviedb/main?movieId=108632  ...  8.7  2018.01.17  2018\n",
              "70  111293  21   /moviedb/main?movieId=111293  ...  8.0  2018.06.27  2018\n",
              "71  112705  22   /moviedb/main?movieId=112705  ...  7.4  2018.06.13  2018\n",
              "72  117020  23   /moviedb/main?movieId=117020  ...  8.0  2018.07.18  2018\n",
              "73  117952  24   /moviedb/main?movieId=117952  ...  8.3  2018.08.29  2018\n",
              "74  113862  25   /moviedb/main?movieId=113862  ...  7.3  2018.08.22  2018\n",
              "75  118604  26   /moviedb/main?movieId=118604  ...  4.9  2018.03.28  2018\n",
              "76  115112  27   /moviedb/main?movieId=115112  ...  7.9  2018.03.14  2018\n",
              "77  111723  28   /moviedb/main?movieId=111723  ...  5.3  2018.08.15  2018\n",
              "78  113686  29   /moviedb/main?movieId=113686  ...  6.6  2018.02.08  2018\n",
              "79  111490  30   /moviedb/main?movieId=111490  ...  5.9  2018.11.14  2018\n",
              "80  115769  31   /moviedb/main?movieId=115769  ...  7.1  2018.01.17  2018\n",
              "81  112899  32   /moviedb/main?movieId=112899  ...  7.8  2018.08.08  2018\n",
              "82   96030  33    /moviedb/main?movieId=96030  ...  7.9  2018.03.28  2018\n",
              "83  111569  34   /moviedb/main?movieId=111569  ...  6.6  2018.09.19  2018\n",
              "84  112447  35   /moviedb/main?movieId=112447  ...  7.1  2018.09.19  2018\n",
              "85  108037  36   /moviedb/main?movieId=108037  ...  5.5  2018.12.19  2018\n",
              "86  107638  37   /moviedb/main?movieId=107638  ...  7.4  2018.01.03  2018\n",
              "87  110097  38   /moviedb/main?movieId=110097  ...  5.5  2018.10.25  2018\n",
              "88  118313  39   /moviedb/main?movieId=118313  ...  6.3  2018.11.22  2018\n",
              "89  118159  40   /moviedb/main?movieId=118159  ...  6.3  2018.12.05  2018\n",
              "90  106307  41   /moviedb/main?movieId=106307  ...  8.4  2018.02.28  2018\n",
              "91  108886  42   /moviedb/main?movieId=108886  ...  5.2  2018.02.14  2018\n",
              "92  108275  43   /moviedb/main?movieId=108275  ...  6.7  2018.04.12  2018\n",
              "93   95501  44    /moviedb/main?movieId=95501  ...  6.4  2018.02.28  2018\n",
              "94  108442  45   /moviedb/main?movieId=108442  ...  6.8  2018.06.13  2018\n",
              "95  111294  46   /moviedb/main?movieId=111294  ...  6.9  2018.03.07  2018\n",
              "96  112060  47   /moviedb/main?movieId=112060  ...  8.5  2018.12.19  2018\n",
              "97  110548  48   /moviedb/main?movieId=110548  ...  6.3  2018.04.05  2018\n",
              "98  114542  49   /moviedb/main?movieId=114542  ...  5.3  2018.12.26  2018\n",
              "99  111384  50   /moviedb/main?movieId=111384  ...  7.5  2018.12.25  2018\n",
              "\n",
              "[49 rows x 7 columns]"
            ]
          },
          "metadata": {
            "tags": []
          },
          "execution_count": 40
        }
      ]
    },
    {
      "cell_type": "code",
      "metadata": {
        "id": "KRz8E70BWEp7",
        "colab_type": "code",
        "colab": {
          "base_uri": "https://localhost:8080/",
          "height": 248
        },
        "outputId": "6a93ae49-27af-45d3-c43d-5bbee80d4389"
      },
      "source": [
        "dfmv['일자'] = pd.to_datetime(dfmv['일자'])\n",
        "dfmv.info()"
      ],
      "execution_count": null,
      "outputs": [
        {
          "output_type": "stream",
          "text": [
            "<class 'pandas.core.frame.DataFrame'>\n",
            "RangeIndex: 100 entries, 0 to 99\n",
            "Data columns (total 6 columns):\n",
            " #   Column  Non-Null Count  Dtype         \n",
            "---  ------  --------------  -----         \n",
            " 0   영화코드    100 non-null    int64         \n",
            " 1   순위      100 non-null    int64         \n",
            " 2   링크      100 non-null    object        \n",
            " 3   영화명     100 non-null    object        \n",
            " 4   평점      100 non-null    float64       \n",
            " 5   일자      100 non-null    datetime64[ns]\n",
            "dtypes: datetime64[ns](1), float64(1), int64(2), object(2)\n",
            "memory usage: 4.8+ KB\n"
          ],
          "name": "stdout"
        }
      ]
    },
    {
      "cell_type": "code",
      "metadata": {
        "id": "HzW0SrR7Z5ae",
        "colab_type": "code",
        "colab": {
          "base_uri": "https://localhost:8080/",
          "height": 106
        },
        "outputId": "302f9619-4630-4aae-8f0f-e684e61de532"
      },
      "source": [
        "dfmv['년도'] = dfmv['일자'].dt.year\n",
        "dfmv['월'] = dfmv['일자'].dt.month\n",
        "dfmv.head(2)"
      ],
      "execution_count": null,
      "outputs": [
        {
          "output_type": "execute_result",
          "data": {
            "text/html": [
              "<div>\n",
              "<style scoped>\n",
              "    .dataframe tbody tr th:only-of-type {\n",
              "        vertical-align: middle;\n",
              "    }\n",
              "\n",
              "    .dataframe tbody tr th {\n",
              "        vertical-align: top;\n",
              "    }\n",
              "\n",
              "    .dataframe thead th {\n",
              "        text-align: right;\n",
              "    }\n",
              "</style>\n",
              "<table border=\"1\" class=\"dataframe\">\n",
              "  <thead>\n",
              "    <tr style=\"text-align: right;\">\n",
              "      <th></th>\n",
              "      <th>영화코드</th>\n",
              "      <th>순위</th>\n",
              "      <th>링크</th>\n",
              "      <th>영화명</th>\n",
              "      <th>평점</th>\n",
              "      <th>일자</th>\n",
              "      <th>년도</th>\n",
              "      <th>월</th>\n",
              "    </tr>\n",
              "  </thead>\n",
              "  <tbody>\n",
              "    <tr>\n",
              "      <th>0</th>\n",
              "      <td>119859</td>\n",
              "      <td>1</td>\n",
              "      <td>/moviedb/main?movieId=119859</td>\n",
              "      <td>극한직업</td>\n",
              "      <td>7.4</td>\n",
              "      <td>2019-01-23</td>\n",
              "      <td>2019</td>\n",
              "      <td>1</td>\n",
              "    </tr>\n",
              "    <tr>\n",
              "      <th>1</th>\n",
              "      <td>93252</td>\n",
              "      <td>2</td>\n",
              "      <td>/moviedb/main?movieId=93252</td>\n",
              "      <td>어벤져스: 엔드게임</td>\n",
              "      <td>7.8</td>\n",
              "      <td>2019-04-24</td>\n",
              "      <td>2019</td>\n",
              "      <td>4</td>\n",
              "    </tr>\n",
              "  </tbody>\n",
              "</table>\n",
              "</div>"
            ],
            "text/plain": [
              "     영화코드  순위                             링크  ...         일자    년도  월\n",
              "0  119859   1   /moviedb/main?movieId=119859  ... 2019-01-23  2019  1\n",
              "1   93252   2    /moviedb/main?movieId=93252  ... 2019-04-24  2019  4\n",
              "\n",
              "[2 rows x 8 columns]"
            ]
          },
          "metadata": {
            "tags": []
          },
          "execution_count": 3
        }
      ]
    },
    {
      "cell_type": "code",
      "metadata": {
        "id": "GbqR10Ttap8Q",
        "colab_type": "code",
        "colab": {
          "base_uri": "https://localhost:8080/",
          "height": 177
        },
        "outputId": "584aa1ad-ac71-4282-ca63-a1dab89a19a8"
      },
      "source": [
        "dfmv.count()"
      ],
      "execution_count": null,
      "outputs": [
        {
          "output_type": "execute_result",
          "data": {
            "text/plain": [
              "영화코드    100\n",
              "순위      100\n",
              "링크      100\n",
              "영화명     100\n",
              "평점      100\n",
              "일자      100\n",
              "년도      100\n",
              "월       100\n",
              "dtype: int64"
            ]
          },
          "metadata": {
            "tags": []
          },
          "execution_count": 4
        }
      ]
    },
    {
      "cell_type": "code",
      "metadata": {
        "id": "ryZbB8fUawmy",
        "colab_type": "code",
        "colab": {
          "base_uri": "https://localhost:8080/",
          "height": 399
        },
        "outputId": "3c64e3ef-be92-48f1-e854-4aab2625a45d"
      },
      "source": [
        "dfmv.sort_values(by = '년도')"
      ],
      "execution_count": null,
      "outputs": [
        {
          "output_type": "execute_result",
          "data": {
            "text/html": [
              "<div>\n",
              "<style scoped>\n",
              "    .dataframe tbody tr th:only-of-type {\n",
              "        vertical-align: middle;\n",
              "    }\n",
              "\n",
              "    .dataframe tbody tr th {\n",
              "        vertical-align: top;\n",
              "    }\n",
              "\n",
              "    .dataframe thead th {\n",
              "        text-align: right;\n",
              "    }\n",
              "</style>\n",
              "<table border=\"1\" class=\"dataframe\">\n",
              "  <thead>\n",
              "    <tr style=\"text-align: right;\">\n",
              "      <th></th>\n",
              "      <th>영화코드</th>\n",
              "      <th>순위</th>\n",
              "      <th>링크</th>\n",
              "      <th>영화명</th>\n",
              "      <th>평점</th>\n",
              "      <th>일자</th>\n",
              "      <th>년도</th>\n",
              "      <th>월</th>\n",
              "    </tr>\n",
              "  </thead>\n",
              "  <tbody>\n",
              "    <tr>\n",
              "      <th>54</th>\n",
              "      <td>73003</td>\n",
              "      <td>5</td>\n",
              "      <td>/moviedb/main?movieId=73003</td>\n",
              "      <td>신과함께-죄와 벌</td>\n",
              "      <td>7.0</td>\n",
              "      <td>2017-12-20</td>\n",
              "      <td>2017</td>\n",
              "      <td>12</td>\n",
              "    </tr>\n",
              "    <tr>\n",
              "      <th>60</th>\n",
              "      <td>108595</td>\n",
              "      <td>11</td>\n",
              "      <td>/moviedb/main?movieId=108595</td>\n",
              "      <td>1987</td>\n",
              "      <td>9.5</td>\n",
              "      <td>2017-12-27</td>\n",
              "      <td>2017</td>\n",
              "      <td>12</td>\n",
              "    </tr>\n",
              "    <tr>\n",
              "      <th>99</th>\n",
              "      <td>111384</td>\n",
              "      <td>50</td>\n",
              "      <td>/moviedb/main?movieId=111384</td>\n",
              "      <td>범블비</td>\n",
              "      <td>7.5</td>\n",
              "      <td>2018-12-25</td>\n",
              "      <td>2018</td>\n",
              "      <td>12</td>\n",
              "    </tr>\n",
              "    <tr>\n",
              "      <th>71</th>\n",
              "      <td>112705</td>\n",
              "      <td>22</td>\n",
              "      <td>/moviedb/main?movieId=112705</td>\n",
              "      <td>탐정: 리턴즈</td>\n",
              "      <td>7.4</td>\n",
              "      <td>2018-06-13</td>\n",
              "      <td>2018</td>\n",
              "      <td>6</td>\n",
              "    </tr>\n",
              "    <tr>\n",
              "      <th>70</th>\n",
              "      <td>111293</td>\n",
              "      <td>21</td>\n",
              "      <td>/moviedb/main?movieId=111293</td>\n",
              "      <td>마녀</td>\n",
              "      <td>8.0</td>\n",
              "      <td>2018-06-27</td>\n",
              "      <td>2018</td>\n",
              "      <td>6</td>\n",
              "    </tr>\n",
              "    <tr>\n",
              "      <th>...</th>\n",
              "      <td>...</td>\n",
              "      <td>...</td>\n",
              "      <td>...</td>\n",
              "      <td>...</td>\n",
              "      <td>...</td>\n",
              "      <td>...</td>\n",
              "      <td>...</td>\n",
              "      <td>...</td>\n",
              "    </tr>\n",
              "    <tr>\n",
              "      <th>27</th>\n",
              "      <td>106442</td>\n",
              "      <td>28</td>\n",
              "      <td>/moviedb/main?movieId=106442</td>\n",
              "      <td>알리타: 배틀 엔젤</td>\n",
              "      <td>8.3</td>\n",
              "      <td>2019-02-05</td>\n",
              "      <td>2019</td>\n",
              "      <td>2</td>\n",
              "    </tr>\n",
              "    <tr>\n",
              "      <th>26</th>\n",
              "      <td>124804</td>\n",
              "      <td>27</td>\n",
              "      <td>/moviedb/main?movieId=124804</td>\n",
              "      <td>신의 한 수: 귀수편</td>\n",
              "      <td>6.8</td>\n",
              "      <td>2019-11-07</td>\n",
              "      <td>2019</td>\n",
              "      <td>11</td>\n",
              "    </tr>\n",
              "    <tr>\n",
              "      <th>25</th>\n",
              "      <td>122593</td>\n",
              "      <td>26</td>\n",
              "      <td>/moviedb/main?movieId=122593</td>\n",
              "      <td>타짜: 원 아이드 잭</td>\n",
              "      <td>5.2</td>\n",
              "      <td>2019-09-11</td>\n",
              "      <td>2019</td>\n",
              "      <td>9</td>\n",
              "    </tr>\n",
              "    <tr>\n",
              "      <th>48</th>\n",
              "      <td>131271</td>\n",
              "      <td>49</td>\n",
              "      <td>/moviedb/main?movieId=131271</td>\n",
              "      <td>쥬만지: 넥스트 레벨</td>\n",
              "      <td>5.9</td>\n",
              "      <td>2019-12-11</td>\n",
              "      <td>2019</td>\n",
              "      <td>12</td>\n",
              "    </tr>\n",
              "    <tr>\n",
              "      <th>49</th>\n",
              "      <td>126253</td>\n",
              "      <td>50</td>\n",
              "      <td>/moviedb/main?movieId=126253</td>\n",
              "      <td>존 윅 3: 파라벨룸</td>\n",
              "      <td>6.9</td>\n",
              "      <td>2019-06-26</td>\n",
              "      <td>2019</td>\n",
              "      <td>6</td>\n",
              "    </tr>\n",
              "  </tbody>\n",
              "</table>\n",
              "<p>100 rows × 8 columns</p>\n",
              "</div>"
            ],
            "text/plain": [
              "      영화코드  순위                             링크  ...         일자    년도   월\n",
              "54   73003   5    /moviedb/main?movieId=73003  ... 2017-12-20  2017  12\n",
              "60  108595  11   /moviedb/main?movieId=108595  ... 2017-12-27  2017  12\n",
              "99  111384  50   /moviedb/main?movieId=111384  ... 2018-12-25  2018  12\n",
              "71  112705  22   /moviedb/main?movieId=112705  ... 2018-06-13  2018   6\n",
              "70  111293  21   /moviedb/main?movieId=111293  ... 2018-06-27  2018   6\n",
              "..     ...  ..                            ...  ...        ...   ...  ..\n",
              "27  106442  28   /moviedb/main?movieId=106442  ... 2019-02-05  2019   2\n",
              "26  124804  27   /moviedb/main?movieId=124804  ... 2019-11-07  2019  11\n",
              "25  122593  26   /moviedb/main?movieId=122593  ... 2019-09-11  2019   9\n",
              "48  131271  49   /moviedb/main?movieId=131271  ... 2019-12-11  2019  12\n",
              "49  126253  50   /moviedb/main?movieId=126253  ... 2019-06-26  2019   6\n",
              "\n",
              "[100 rows x 8 columns]"
            ]
          },
          "metadata": {
            "tags": []
          },
          "execution_count": 5
        }
      ]
    },
    {
      "cell_type": "code",
      "metadata": {
        "id": "I9qHbrNAd5vj",
        "colab_type": "code",
        "colab": {
          "base_uri": "https://localhost:8080/",
          "height": 284
        },
        "outputId": "6a09a23d-16f6-408f-f6ba-5c6559081f0a"
      },
      "source": [
        "df2018 = dfmv[dfmv['년도'] == 2018 ] \n",
        "df2018.info()"
      ],
      "execution_count": null,
      "outputs": [
        {
          "output_type": "stream",
          "text": [
            "<class 'pandas.core.frame.DataFrame'>\n",
            "Int64Index: 49 entries, 34 to 99\n",
            "Data columns (total 8 columns):\n",
            " #   Column  Non-Null Count  Dtype         \n",
            "---  ------  --------------  -----         \n",
            " 0   영화코드    49 non-null     int64         \n",
            " 1   순위      49 non-null     int64         \n",
            " 2   링크      49 non-null     object        \n",
            " 3   영화명     49 non-null     object        \n",
            " 4   평점      49 non-null     float64       \n",
            " 5   일자      49 non-null     datetime64[ns]\n",
            " 6   년도      49 non-null     int64         \n",
            " 7   월       49 non-null     int64         \n",
            "dtypes: datetime64[ns](1), float64(1), int64(4), object(2)\n",
            "memory usage: 3.4+ KB\n"
          ],
          "name": "stdout"
        }
      ]
    },
    {
      "cell_type": "code",
      "metadata": {
        "id": "uh-8WPndbFSu",
        "colab_type": "code",
        "colab": {
          "base_uri": "https://localhost:8080/",
          "height": 177
        },
        "outputId": "2f59121b-e254-4d87-f986-c48004ed876d"
      },
      "source": [
        "df2018['평점'].describe()"
      ],
      "execution_count": null,
      "outputs": [
        {
          "output_type": "execute_result",
          "data": {
            "text/plain": [
              "count    49.000000\n",
              "mean      7.126531\n",
              "std       1.008872\n",
              "min       4.900000\n",
              "25%       6.500000\n",
              "50%       7.300000\n",
              "75%       7.900000\n",
              "max       8.900000\n",
              "Name: 평점, dtype: float64"
            ]
          },
          "metadata": {
            "tags": []
          },
          "execution_count": 7
        }
      ]
    },
    {
      "cell_type": "code",
      "metadata": {
        "id": "LLnfwIvQbwWM",
        "colab_type": "code",
        "colab": {
          "base_uri": "https://localhost:8080/",
          "height": 340
        },
        "outputId": "0c1159d2-194c-4e17-e4ed-5a388915e6d2"
      },
      "source": [
        "dfmv2019 = dfmv[(dfmv['순위'] <= 10) & (dfmv['년도'] == 2019)]\n",
        "dfmv2019"
      ],
      "execution_count": null,
      "outputs": [
        {
          "output_type": "execute_result",
          "data": {
            "text/html": [
              "<div>\n",
              "<style scoped>\n",
              "    .dataframe tbody tr th:only-of-type {\n",
              "        vertical-align: middle;\n",
              "    }\n",
              "\n",
              "    .dataframe tbody tr th {\n",
              "        vertical-align: top;\n",
              "    }\n",
              "\n",
              "    .dataframe thead th {\n",
              "        text-align: right;\n",
              "    }\n",
              "</style>\n",
              "<table border=\"1\" class=\"dataframe\">\n",
              "  <thead>\n",
              "    <tr style=\"text-align: right;\">\n",
              "      <th></th>\n",
              "      <th>영화코드</th>\n",
              "      <th>순위</th>\n",
              "      <th>링크</th>\n",
              "      <th>영화명</th>\n",
              "      <th>평점</th>\n",
              "      <th>일자</th>\n",
              "      <th>년도</th>\n",
              "      <th>월</th>\n",
              "    </tr>\n",
              "  </thead>\n",
              "  <tbody>\n",
              "    <tr>\n",
              "      <th>0</th>\n",
              "      <td>119859</td>\n",
              "      <td>1</td>\n",
              "      <td>/moviedb/main?movieId=119859</td>\n",
              "      <td>극한직업</td>\n",
              "      <td>7.4</td>\n",
              "      <td>2019-01-23</td>\n",
              "      <td>2019</td>\n",
              "      <td>1</td>\n",
              "    </tr>\n",
              "    <tr>\n",
              "      <th>1</th>\n",
              "      <td>93252</td>\n",
              "      <td>2</td>\n",
              "      <td>/moviedb/main?movieId=93252</td>\n",
              "      <td>어벤져스: 엔드게임</td>\n",
              "      <td>7.8</td>\n",
              "      <td>2019-04-24</td>\n",
              "      <td>2019</td>\n",
              "      <td>4</td>\n",
              "    </tr>\n",
              "    <tr>\n",
              "      <th>2</th>\n",
              "      <td>93004</td>\n",
              "      <td>3</td>\n",
              "      <td>/moviedb/main?movieId=93004</td>\n",
              "      <td>겨울왕국 2</td>\n",
              "      <td>7.4</td>\n",
              "      <td>2019-11-21</td>\n",
              "      <td>2019</td>\n",
              "      <td>11</td>\n",
              "    </tr>\n",
              "    <tr>\n",
              "      <th>3</th>\n",
              "      <td>115601</td>\n",
              "      <td>4</td>\n",
              "      <td>/moviedb/main?movieId=115601</td>\n",
              "      <td>알라딘</td>\n",
              "      <td>8.4</td>\n",
              "      <td>2019-05-23</td>\n",
              "      <td>2019</td>\n",
              "      <td>5</td>\n",
              "    </tr>\n",
              "    <tr>\n",
              "      <th>4</th>\n",
              "      <td>111292</td>\n",
              "      <td>5</td>\n",
              "      <td>/moviedb/main?movieId=111292</td>\n",
              "      <td>기생충</td>\n",
              "      <td>7.9</td>\n",
              "      <td>2019-05-30</td>\n",
              "      <td>2019</td>\n",
              "      <td>5</td>\n",
              "    </tr>\n",
              "    <tr>\n",
              "      <th>5</th>\n",
              "      <td>121137</td>\n",
              "      <td>6</td>\n",
              "      <td>/moviedb/main?movieId=121137</td>\n",
              "      <td>엑시트</td>\n",
              "      <td>7.7</td>\n",
              "      <td>2019-07-31</td>\n",
              "      <td>2019</td>\n",
              "      <td>7</td>\n",
              "    </tr>\n",
              "    <tr>\n",
              "      <th>6</th>\n",
              "      <td>122542</td>\n",
              "      <td>7</td>\n",
              "      <td>/moviedb/main?movieId=122542</td>\n",
              "      <td>스파이더맨: 파 프롬 홈</td>\n",
              "      <td>6.5</td>\n",
              "      <td>2019-07-02</td>\n",
              "      <td>2019</td>\n",
              "      <td>7</td>\n",
              "    </tr>\n",
              "    <tr>\n",
              "      <th>7</th>\n",
              "      <td>133855</td>\n",
              "      <td>8</td>\n",
              "      <td>/moviedb/main?movieId=133855</td>\n",
              "      <td>백두산</td>\n",
              "      <td>6.5</td>\n",
              "      <td>2019-12-19</td>\n",
              "      <td>2019</td>\n",
              "      <td>12</td>\n",
              "    </tr>\n",
              "    <tr>\n",
              "      <th>8</th>\n",
              "      <td>101393</td>\n",
              "      <td>9</td>\n",
              "      <td>/moviedb/main?movieId=101393</td>\n",
              "      <td>캡틴 마블</td>\n",
              "      <td>6.3</td>\n",
              "      <td>2019-03-06</td>\n",
              "      <td>2019</td>\n",
              "      <td>3</td>\n",
              "    </tr>\n",
              "    <tr>\n",
              "      <th>9</th>\n",
              "      <td>125080</td>\n",
              "      <td>10</td>\n",
              "      <td>/moviedb/main?movieId=125080</td>\n",
              "      <td>조커</td>\n",
              "      <td>7.7</td>\n",
              "      <td>2019-10-02</td>\n",
              "      <td>2019</td>\n",
              "      <td>10</td>\n",
              "    </tr>\n",
              "  </tbody>\n",
              "</table>\n",
              "</div>"
            ],
            "text/plain": [
              "     영화코드  순위                             링크  ...         일자    년도   월\n",
              "0  119859   1   /moviedb/main?movieId=119859  ... 2019-01-23  2019   1\n",
              "1   93252   2    /moviedb/main?movieId=93252  ... 2019-04-24  2019   4\n",
              "2   93004   3    /moviedb/main?movieId=93004  ... 2019-11-21  2019  11\n",
              "3  115601   4   /moviedb/main?movieId=115601  ... 2019-05-23  2019   5\n",
              "4  111292   5   /moviedb/main?movieId=111292  ... 2019-05-30  2019   5\n",
              "5  121137   6   /moviedb/main?movieId=121137  ... 2019-07-31  2019   7\n",
              "6  122542   7   /moviedb/main?movieId=122542  ... 2019-07-02  2019   7\n",
              "7  133855   8   /moviedb/main?movieId=133855  ... 2019-12-19  2019  12\n",
              "8  101393   9   /moviedb/main?movieId=101393  ... 2019-03-06  2019   3\n",
              "9  125080  10   /moviedb/main?movieId=125080  ... 2019-10-02  2019  10\n",
              "\n",
              "[10 rows x 8 columns]"
            ]
          },
          "metadata": {
            "tags": []
          },
          "execution_count": 8
        }
      ]
    },
    {
      "cell_type": "code",
      "metadata": {
        "id": "gNQUP8vgg2_W",
        "colab_type": "code",
        "colab": {
          "base_uri": "https://localhost:8080/",
          "height": 177
        },
        "outputId": "3b486525-2f08-4242-bbb3-d95fcc25b735"
      },
      "source": [
        "dfmv2019['평점'].describe()"
      ],
      "execution_count": null,
      "outputs": [
        {
          "output_type": "execute_result",
          "data": {
            "text/plain": [
              "count    10.000000\n",
              "mean      7.360000\n",
              "std       0.699524\n",
              "min       6.300000\n",
              "25%       6.725000\n",
              "50%       7.550000\n",
              "75%       7.775000\n",
              "max       8.400000\n",
              "Name: 평점, dtype: float64"
            ]
          },
          "metadata": {
            "tags": []
          },
          "execution_count": 9
        }
      ]
    },
    {
      "cell_type": "code",
      "metadata": {
        "id": "EzvjIjdthb0o",
        "colab_type": "code",
        "colab": {
          "base_uri": "https://localhost:8080/",
          "height": 340
        },
        "outputId": "9c9f3c06-d5ec-4a06-f7aa-ee82cbccc747"
      },
      "source": [
        "dfmv2019 = dfmv2019[['순위', '영화명', '평점']]\n",
        "dfmv2019"
      ],
      "execution_count": null,
      "outputs": [
        {
          "output_type": "execute_result",
          "data": {
            "text/html": [
              "<div>\n",
              "<style scoped>\n",
              "    .dataframe tbody tr th:only-of-type {\n",
              "        vertical-align: middle;\n",
              "    }\n",
              "\n",
              "    .dataframe tbody tr th {\n",
              "        vertical-align: top;\n",
              "    }\n",
              "\n",
              "    .dataframe thead th {\n",
              "        text-align: right;\n",
              "    }\n",
              "</style>\n",
              "<table border=\"1\" class=\"dataframe\">\n",
              "  <thead>\n",
              "    <tr style=\"text-align: right;\">\n",
              "      <th></th>\n",
              "      <th>순위</th>\n",
              "      <th>영화명</th>\n",
              "      <th>평점</th>\n",
              "    </tr>\n",
              "  </thead>\n",
              "  <tbody>\n",
              "    <tr>\n",
              "      <th>0</th>\n",
              "      <td>1</td>\n",
              "      <td>극한직업</td>\n",
              "      <td>7.4</td>\n",
              "    </tr>\n",
              "    <tr>\n",
              "      <th>1</th>\n",
              "      <td>2</td>\n",
              "      <td>어벤져스: 엔드게임</td>\n",
              "      <td>7.8</td>\n",
              "    </tr>\n",
              "    <tr>\n",
              "      <th>2</th>\n",
              "      <td>3</td>\n",
              "      <td>겨울왕국 2</td>\n",
              "      <td>7.4</td>\n",
              "    </tr>\n",
              "    <tr>\n",
              "      <th>3</th>\n",
              "      <td>4</td>\n",
              "      <td>알라딘</td>\n",
              "      <td>8.4</td>\n",
              "    </tr>\n",
              "    <tr>\n",
              "      <th>4</th>\n",
              "      <td>5</td>\n",
              "      <td>기생충</td>\n",
              "      <td>7.9</td>\n",
              "    </tr>\n",
              "    <tr>\n",
              "      <th>5</th>\n",
              "      <td>6</td>\n",
              "      <td>엑시트</td>\n",
              "      <td>7.7</td>\n",
              "    </tr>\n",
              "    <tr>\n",
              "      <th>6</th>\n",
              "      <td>7</td>\n",
              "      <td>스파이더맨: 파 프롬 홈</td>\n",
              "      <td>6.5</td>\n",
              "    </tr>\n",
              "    <tr>\n",
              "      <th>7</th>\n",
              "      <td>8</td>\n",
              "      <td>백두산</td>\n",
              "      <td>6.5</td>\n",
              "    </tr>\n",
              "    <tr>\n",
              "      <th>8</th>\n",
              "      <td>9</td>\n",
              "      <td>캡틴 마블</td>\n",
              "      <td>6.3</td>\n",
              "    </tr>\n",
              "    <tr>\n",
              "      <th>9</th>\n",
              "      <td>10</td>\n",
              "      <td>조커</td>\n",
              "      <td>7.7</td>\n",
              "    </tr>\n",
              "  </tbody>\n",
              "</table>\n",
              "</div>"
            ],
            "text/plain": [
              "   순위             영화명   평점\n",
              "0   1            극한직업  7.4\n",
              "1   2      어벤져스: 엔드게임  7.8\n",
              "2   3          겨울왕국 2  7.4\n",
              "3   4             알라딘  8.4\n",
              "4   5             기생충  7.9\n",
              "5   6             엑시트  7.7\n",
              "6   7   스파이더맨: 파 프롬 홈  6.5\n",
              "7   8             백두산  6.5\n",
              "8   9           캡틴 마블  6.3\n",
              "9  10              조커  7.7"
            ]
          },
          "metadata": {
            "tags": []
          },
          "execution_count": 10
        }
      ]
    },
    {
      "cell_type": "code",
      "metadata": {
        "id": "t4h3SC__itST",
        "colab_type": "code",
        "colab": {
          "base_uri": "https://localhost:8080/",
          "height": 35
        },
        "outputId": "6d52a7aa-29b3-4e18-891c-91a5fe1f45c1"
      },
      "source": [
        "dfmv2019.columns"
      ],
      "execution_count": null,
      "outputs": [
        {
          "output_type": "execute_result",
          "data": {
            "text/plain": [
              "Index(['순위', '영화명', '평점'], dtype='object')"
            ]
          },
          "metadata": {
            "tags": []
          },
          "execution_count": 11
        }
      ]
    },
    {
      "cell_type": "code",
      "metadata": {
        "id": "4QcA6oMhh8Rl",
        "colab_type": "code",
        "colab": {}
      },
      "source": [
        "import warnings\n",
        "warnings.filterwarnings(action='ignore') "
      ],
      "execution_count": null,
      "outputs": []
    },
    {
      "cell_type": "code",
      "metadata": {
        "id": "Az0A9wgEjJd2",
        "colab_type": "code",
        "colab": {
          "base_uri": "https://localhost:8080/",
          "height": 370
        },
        "outputId": "5f5eef98-3105-4659-94f8-211347311dc4"
      },
      "source": [
        "dfmv2019.loc['평균'] = dfmv2019.mean()\n",
        "dfmv2019.loc['평균', ['순위','영화명']]= ''\n",
        "dfmv2019"
      ],
      "execution_count": null,
      "outputs": [
        {
          "output_type": "execute_result",
          "data": {
            "text/html": [
              "<div>\n",
              "<style scoped>\n",
              "    .dataframe tbody tr th:only-of-type {\n",
              "        vertical-align: middle;\n",
              "    }\n",
              "\n",
              "    .dataframe tbody tr th {\n",
              "        vertical-align: top;\n",
              "    }\n",
              "\n",
              "    .dataframe thead th {\n",
              "        text-align: right;\n",
              "    }\n",
              "</style>\n",
              "<table border=\"1\" class=\"dataframe\">\n",
              "  <thead>\n",
              "    <tr style=\"text-align: right;\">\n",
              "      <th></th>\n",
              "      <th>순위</th>\n",
              "      <th>영화명</th>\n",
              "      <th>평점</th>\n",
              "    </tr>\n",
              "  </thead>\n",
              "  <tbody>\n",
              "    <tr>\n",
              "      <th>0</th>\n",
              "      <td>1</td>\n",
              "      <td>극한직업</td>\n",
              "      <td>7.40</td>\n",
              "    </tr>\n",
              "    <tr>\n",
              "      <th>1</th>\n",
              "      <td>2</td>\n",
              "      <td>어벤져스: 엔드게임</td>\n",
              "      <td>7.80</td>\n",
              "    </tr>\n",
              "    <tr>\n",
              "      <th>2</th>\n",
              "      <td>3</td>\n",
              "      <td>겨울왕국 2</td>\n",
              "      <td>7.40</td>\n",
              "    </tr>\n",
              "    <tr>\n",
              "      <th>3</th>\n",
              "      <td>4</td>\n",
              "      <td>알라딘</td>\n",
              "      <td>8.40</td>\n",
              "    </tr>\n",
              "    <tr>\n",
              "      <th>4</th>\n",
              "      <td>5</td>\n",
              "      <td>기생충</td>\n",
              "      <td>7.90</td>\n",
              "    </tr>\n",
              "    <tr>\n",
              "      <th>5</th>\n",
              "      <td>6</td>\n",
              "      <td>엑시트</td>\n",
              "      <td>7.70</td>\n",
              "    </tr>\n",
              "    <tr>\n",
              "      <th>6</th>\n",
              "      <td>7</td>\n",
              "      <td>스파이더맨: 파 프롬 홈</td>\n",
              "      <td>6.50</td>\n",
              "    </tr>\n",
              "    <tr>\n",
              "      <th>7</th>\n",
              "      <td>8</td>\n",
              "      <td>백두산</td>\n",
              "      <td>6.50</td>\n",
              "    </tr>\n",
              "    <tr>\n",
              "      <th>8</th>\n",
              "      <td>9</td>\n",
              "      <td>캡틴 마블</td>\n",
              "      <td>6.30</td>\n",
              "    </tr>\n",
              "    <tr>\n",
              "      <th>9</th>\n",
              "      <td>10</td>\n",
              "      <td>조커</td>\n",
              "      <td>7.70</td>\n",
              "    </tr>\n",
              "    <tr>\n",
              "      <th>평균</th>\n",
              "      <td></td>\n",
              "      <td></td>\n",
              "      <td>7.36</td>\n",
              "    </tr>\n",
              "  </tbody>\n",
              "</table>\n",
              "</div>"
            ],
            "text/plain": [
              "    순위             영화명    평점\n",
              "0    1            극한직업  7.40\n",
              "1    2      어벤져스: 엔드게임  7.80\n",
              "2    3          겨울왕국 2  7.40\n",
              "3    4             알라딘  8.40\n",
              "4    5             기생충  7.90\n",
              "5    6             엑시트  7.70\n",
              "6    7   스파이더맨: 파 프롬 홈  6.50\n",
              "7    8             백두산  6.50\n",
              "8    9           캡틴 마블  6.30\n",
              "9   10              조커  7.70\n",
              "평균                      7.36"
            ]
          },
          "metadata": {
            "tags": []
          },
          "execution_count": 13
        }
      ]
    }
  ]
}