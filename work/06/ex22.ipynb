{
  "nbformat": 4,
  "nbformat_minor": 0,
  "metadata": {
    "colab": {
      "name": "ex22.ipynb",
      "provenance": [],
      "collapsed_sections": [],
      "mount_file_id": "1BaS2Lsy8rc54X2jxHE83GHDp2KihcDq1",
      "authorship_tag": "ABX9TyMAoOCkFG8iC/AJuGZtnIHA",
      "include_colab_link": true
    },
    "kernelspec": {
      "name": "python3",
      "display_name": "Python 3"
    }
  },
  "cells": [
    {
      "cell_type": "markdown",
      "metadata": {
        "id": "view-in-github",
        "colab_type": "text"
      },
      "source": [
        "<a href=\"https://colab.research.google.com/github/cybermin/pythonbasic/blob/master/work/06/ex22.ipynb\" target=\"_parent\"><img src=\"https://colab.research.google.com/assets/colab-badge.svg\" alt=\"Open In Colab\"/></a>"
      ]
    },
    {
      "cell_type": "markdown",
      "metadata": {
        "id": "xwumpZlBIplb",
        "colab_type": "text"
      },
      "source": [
        "해결문제)\n",
        "\n",
        "daum 영화 사이트에서 현재 상영작의 목록을 추출하고 상영영화를 선택하면 해당 영화의 상위 10개의 리뷰 내용을 감성분석하시오.\n",
        "+ https://movie.daum.net/premovie/released\n",
        "\n",
        "\n",
        "\n"
      ]
    },
    {
      "cell_type": "code",
      "metadata": {
        "id": "maK51K8EIoLv",
        "colab_type": "code",
        "colab": {
          "base_uri": "https://localhost:8080/",
          "height": 114
        },
        "outputId": "ca1e803f-ab5f-4129-a87f-346198089ff2"
      },
      "source": [
        "#한글 폰트 사용 : colab , 런타임 다시 시작 하기\n",
        "%config InlineBackend.figure_format = 'retina'\n",
        "\n",
        "!apt -qq -y install fonts-nanum"
      ],
      "execution_count": null,
      "outputs": [
        {
          "output_type": "stream",
          "text": [
            "fonts-nanum is already the newest version (20170925-1).\n",
            "The following package was automatically installed and is no longer required:\n",
            "  libnvidia-common-440\n",
            "Use 'apt autoremove' to remove it.\n",
            "0 upgraded, 0 newly installed, 0 to remove and 33 not upgraded.\n"
          ],
          "name": "stdout"
        }
      ]
    },
    {
      "cell_type": "code",
      "metadata": {
        "id": "O2aWB5mmGXHd",
        "colab_type": "code",
        "colab": {}
      },
      "source": [
        "from urllib.request import urlopen\n",
        "from bs4 import BeautifulSoup as bs\n",
        "\n",
        "import matplotlib.pyplot as plt\n",
        "\n",
        "import matplotlib as mpl\n",
        "import matplotlib.font_manager as fm\n",
        "fontpath = '/usr/share/fonts/truetype/nanum/NanumBarunGothic.ttf'\n",
        "font = fm.FontProperties(fname=fontpath, size=9)\n",
        "plt.rc('font', family='NanumBarunGothic') \n",
        "mpl.font_manager._rebuild()\n",
        "\n",
        "import re"
      ],
      "execution_count": null,
      "outputs": []
    },
    {
      "cell_type": "code",
      "metadata": {
        "id": "c3yQdDTF3Enf",
        "colab_type": "code",
        "colab": {}
      },
      "source": [
        "#문자열에서 charset요소값을 찾아줌\n",
        "def charEncode(st) :\n",
        "    pt = r'charset=[\\\"\\']*([\\w-]+)'\n",
        "\n",
        "    charcode  = re.search(pt, st)\n",
        "    if charcode : \n",
        "        cc = charcode.group(1)\n",
        "    else :\n",
        "        cc = 'utf-8'\n",
        "\n",
        "    return cc\n",
        "\n",
        "#해당 페이지를 decode한 html문서 가져오기\n",
        "def urlHtml(url):\n",
        "    data = urlopen(url).read()\n",
        "    urlcc = charEncode(str(data))\n",
        "    html = data.decode(urlcc, errors=\"replace\")\n",
        "\n",
        "    html = bs(html, 'html.parser')\n",
        "    return html"
      ],
      "execution_count": null,
      "outputs": []
    }
  ]
}