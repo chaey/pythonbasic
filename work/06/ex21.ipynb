{
  "nbformat": 4,
  "nbformat_minor": 0,
  "metadata": {
    "colab": {
      "name": "ex21.ipynb",
      "provenance": [],
      "collapsed_sections": [],
      "mount_file_id": "1BaS2Lsy8rc54X2jxHE83GHDp2KihcDq1",
      "authorship_tag": "ABX9TyP3ADdI4rH1cH12xmikTDJT",
      "include_colab_link": true
    },
    "kernelspec": {
      "name": "python3",
      "display_name": "Python 3"
    }
  },
  "cells": [
    {
      "cell_type": "markdown",
      "metadata": {
        "id": "view-in-github",
        "colab_type": "text"
      },
      "source": [
        "<a href=\"https://colab.research.google.com/github/cybermin/pythonbasic/blob/master/work/06/ex21.ipynb\" target=\"_parent\"><img src=\"https://colab.research.google.com/assets/colab-badge.svg\" alt=\"Open In Colab\"/></a>"
      ]
    },
    {
      "cell_type": "markdown",
      "metadata": {
        "id": "xwumpZlBIplb",
        "colab_type": "text"
      },
      "source": [
        "해결문제)\n",
        "\n",
        "daum 영화 사이트에서 2018, 2019년 박스 오피스 정보를 추출하여 텍스트 파일을 작성하시오,\n",
        "작성된 텍스트 파일을 읽어서 년도별 박스 오피스의 순위별 평점 현황을 그래프로 그리시오.\n",
        "+ https://movie.daum.net/boxoffice/yearly\n",
        "\n",
        "\n",
        "```\n",
        "2018,'신과함께-인과 연', 6.8, '2018.08.01'\n",
        "2018,'어벤져스: 인피니티 워', 7.6, '2018.04.25'\n",
        "2018,'보헤미안 랩소디', 8.9, '2018.10.31'\n",
        "2018,'미션 임파서블: 폴아웃', 8.1, '2018.07.25'\n",
        "2018,'신과함께-죄와 벌', 7.0, '2017.12.20'\n",
        "2018,'쥬라기 월드: 폴른 킹덤', 7.1, '2018.06.06'\n",
        "```\n",
        "\n",
        "\n"
      ]
    },
    {
      "cell_type": "code",
      "metadata": {
        "id": "maK51K8EIoLv",
        "colab_type": "code",
        "colab": {
          "base_uri": "https://localhost:8080/",
          "height": 114
        },
        "outputId": "ca1e803f-ab5f-4129-a87f-346198089ff2"
      },
      "source": [
        "#한글 폰트 사용 : colab , 런타임 다시 시작 하기\n",
        "%config InlineBackend.figure_format = 'retina'\n",
        "\n",
        "!apt -qq -y install fonts-nanum"
      ],
      "execution_count": 1,
      "outputs": [
        {
          "output_type": "stream",
          "text": [
            "fonts-nanum is already the newest version (20170925-1).\n",
            "The following package was automatically installed and is no longer required:\n",
            "  libnvidia-common-440\n",
            "Use 'apt autoremove' to remove it.\n",
            "0 upgraded, 0 newly installed, 0 to remove and 33 not upgraded.\n"
          ],
          "name": "stdout"
        }
      ]
    },
    {
      "cell_type": "code",
      "metadata": {
        "id": "O2aWB5mmGXHd",
        "colab_type": "code",
        "colab": {}
      },
      "source": [
        "from urllib.request import urlopen\n",
        "from bs4 import BeautifulSoup as bs\n",
        "\n",
        "import matplotlib.pyplot as plt\n",
        "\n",
        "import matplotlib as mpl\n",
        "import matplotlib.font_manager as fm\n",
        "fontpath = '/usr/share/fonts/truetype/nanum/NanumBarunGothic.ttf'\n",
        "font = fm.FontProperties(fname=fontpath, size=9)\n",
        "plt.rc('font', family='NanumBarunGothic') \n",
        "mpl.font_manager._rebuild()\n",
        "\n",
        "import re"
      ],
      "execution_count": 2,
      "outputs": []
    },
    {
      "cell_type": "code",
      "metadata": {
        "id": "c3yQdDTF3Enf",
        "colab_type": "code",
        "colab": {}
      },
      "source": [
        "#문자열에서 charset요소값을 찾아줌\n",
        "def charEncode(st) :\n",
        "    pt = r'charset=[\\\"\\']*([\\w-]+)'\n",
        "\n",
        "    charcode  = re.search(pt, st)\n",
        "    if charcode : \n",
        "        cc = charcode.group(1)\n",
        "    else :\n",
        "        cc = 'utf-8'\n",
        "\n",
        "    return cc\n",
        "\n",
        "#해당 페이지를 decode한 html문서 가져오기\n",
        "def urlHtml(url):\n",
        "    data = urlopen(url).read()\n",
        "    urlcc = charEncode(str(data))\n",
        "    html = data.decode(urlcc, errors=\"replace\")\n",
        "\n",
        "    html = bs(html, 'html.parser')\n",
        "    return html"
      ],
      "execution_count": 3,
      "outputs": []
    },
    {
      "cell_type": "code",
      "metadata": {
        "id": "jYpUixc6LHtG",
        "colab_type": "code",
        "colab": {}
      },
      "source": [
        "def mvlist(year):\n",
        "    mvlt = [] \n",
        "    url = 'https://movie.daum.net/boxoffice/yearly?year=' + str(year)\n",
        "\n",
        "    html = urlHtml(url)\n",
        "    ul = html.select('.list_boxthumb > li')\n",
        "\n",
        "    for li in ul :\n",
        "        lilt = []\n",
        "\n",
        "        #영화정보 : 태그로 찾기\n",
        "        ainfo = str(li.select_one('a'))\n",
        "        #영화정보 추출\n",
        "        id = re.search(r'data-tiara-id=\\\"([\\d]+)', ainfo).group(1)\n",
        "        rank = re.search(r'data-tiara-ordnum=\\\"([\\d]+)', ainfo).group(1)\n",
        "        href = re.search(r'href=\\\"([\\w\\/?=]+)', ainfo).group(1)\n",
        "\n",
        "        #영화명 : 태그로 찾기\n",
        "        mvname = li.select_one('strong').text\n",
        "        #평점 : 클래스명으로 찾기\n",
        "        grade = li.select_one('.emph_grade').text\n",
        "        #개봉일 : 태그로 찾기\n",
        "        mvday = li.select_one('dd').text\n",
        "\n",
        "        lilt.append(id)\n",
        "        lilt.append(rank)\n",
        "        lilt.append(href)\n",
        "        lilt.append(mvname)\n",
        "        lilt.append(float(grade))\n",
        "        lilt.append(mvday[:10])\n",
        "\n",
        "        mvlt.append(lilt)\n",
        "\n",
        "    return mvlt"
      ],
      "execution_count": 63,
      "outputs": []
    },
    {
      "cell_type": "code",
      "metadata": {
        "id": "QHac9gqKLIUs",
        "colab_type": "code",
        "colab": {}
      },
      "source": [
        "mv2019 = mvlist(2019)\n",
        "mv2018 = mvlist(2018)\n",
        "\n",
        "mv = mv2019 + mv2018\n"
      ],
      "execution_count": 68,
      "outputs": []
    },
    {
      "cell_type": "code",
      "metadata": {
        "id": "Qd1BHCzZgDyR",
        "colab_type": "code",
        "colab": {}
      },
      "source": [
        "with open('/content/drive/My Drive/PythonWork/PythonBasic/work/06/mv1.csv', 'w') as fp :\n",
        "    for item in mv :\n",
        "        item = str(item).replace('[','').replace(']','') + '\\n'\n",
        "        fp.write(item)"
      ],
      "execution_count": 105,
      "outputs": []
    },
    {
      "cell_type": "code",
      "metadata": {
        "id": "aRMiAhqziPgj",
        "colab_type": "code",
        "colab": {}
      },
      "source": [
        "def mvlist2(year):\n",
        "    mvlt = [] \n",
        "    url = 'https://movie.daum.net/boxoffice/yearly?year=' + str(year)\n",
        "\n",
        "    html = urlHtml(url)\n",
        "    ul = html.select('.list_boxthumb > li')\n",
        "\n",
        "    mvlt = []\n",
        "    for li in ul :\n",
        "        mvsp = li.getText().replace('\\n\\n', '').split('\\n')\n",
        "        mvsp[0] = str(year)\n",
        "        #mvlt.append(mvsp)\n",
        "        mvlt.append(mvsp[:len(mvsp)-1])\n",
        "\n",
        "    return mvlt"
      ],
      "execution_count": 100,
      "outputs": []
    },
    {
      "cell_type": "code",
      "metadata": {
        "id": "dQLRz955iZhZ",
        "colab_type": "code",
        "colab": {
          "base_uri": "https://localhost:8080/",
          "height": 937
        },
        "outputId": "bb3191f2-005b-4037-bd07-fe7bec85e2ec"
      },
      "source": [
        "mvlist2(2019)"
      ],
      "execution_count": 101,
      "outputs": [
        {
          "output_type": "execute_result",
          "data": {
            "text/plain": [
              "[['2019', '1위', '극한직업평점 ', '7.4/10', '개봉일', '2019.01.23 개봉'],\n",
              " ['2019', '2위', '어벤져스: 엔드게임평점 ', '7.8/10', '개봉일', '2019.04.24 개봉'],\n",
              " ['2019', '3위', '겨울왕국 2평점 ', '7.4/10', '개봉일', '2019.11.21 개봉'],\n",
              " ['2019', '4위', '알라딘평점 ', '8.4/10', '개봉일', '2019.05.23 개봉'],\n",
              " ['2019', '5위', '기생충평점 ', '7.9/10', '개봉일', '2019.05.30 개봉'],\n",
              " ['2019', '6위', '엑시트평점 ', '7.7/10', '개봉일', '2019.07.31 개봉'],\n",
              " ['2019', '7위', '스파이더맨: 파 프롬 홈평점 ', '6.5/10', '개봉일', '2019.07.02 개봉'],\n",
              " ['2019', '8위', '백두산평점 ', '6.5/10', '개봉일', '2019.12.19 개봉'],\n",
              " ['2019', '9위', '캡틴 마블평점 ', '6.3/10', '개봉일', '2019.03.06 개봉'],\n",
              " ['2019', '10위', '조커평점 ', '7.7/10', '개봉일', '2019.10.02 개봉'],\n",
              " ['2019', '11위', '봉오동 전투평점 ', '8.8/10', '개봉일', '2019.08.07 개봉'],\n",
              " ['2019', '12위', '라이온 킹평점 ', '7.4/10', '개봉일', '2019.07.17 개봉'],\n",
              " ['2019', '13위', '나쁜 녀석들: 더 무비평점 ', '6.3/10', '개봉일', '2019.09.11 개봉'],\n",
              " ['2019', '14위', '82년생 김지영평점 ', '6.7/10', '개봉일', '2019.10.23 개봉'],\n",
              " ['2019', '15위', '분노의 질주: 홉스&쇼평점 ', '7.0/10', '개봉일', '2019.08.14 개봉'],\n",
              " ['2019', '16위', '토이 스토리 4평점 ', '8.6/10', '개봉일', '2019.06.20 개봉'],\n",
              " ['2019', '17위', '돈평점 ', '6.7/10', '개봉일', '2019.03.20 개봉'],\n",
              " ['2019', '18위', '악인전평점 ', '7.4/10', '개봉일', '2019.05.15 개봉'],\n",
              " ['2019', '19위', '가장 보통의 연애평점 ', '7.4/10', '개봉일', '2019.10.02 개봉'],\n",
              " ['2019', '20위', '말모이평점 ', '9.1/10', '개봉일', '2019.01.09 개봉'],\n",
              " ['2019', '증인평점 ', '9.3/10', '개봉일', '2019.02.13 개봉'],\n",
              " ['2019', '시동평점 ', '7.6/10', '개봉일', '2019.12.18 개봉'],\n",
              " ['2019', '블랙머니평점 ', '9.1/10', '개봉일', '2019.11.13 개봉'],\n",
              " ['2019', '터미네이터: 다크 페이트평점 ', '7.8/10', '개봉일', '2019.10.30 개봉'],\n",
              " ['2019', '사바하평점 ', '7.3/10', '개봉일', '2019.02.20 개봉'],\n",
              " ['2019', '타짜: 원 아이드 잭평점 ', '5.2/10', '개봉일', '2019.09.11 개봉'],\n",
              " ['2019', '신의 한 수: 귀수편평점 ', '6.8/10', '개봉일', '2019.11.07 개봉'],\n",
              " ['2019', '알리타: 배틀 엔젤평점 ', '8.3/10', '개봉일', '2019.02.05 개봉'],\n",
              " ['2019', '내안의 그놈평점 ', '7.8/10', '개봉일', '2019.01.09 개봉'],\n",
              " ['2019', '뺑반평점 ', '6.2/10', '개봉일', '2019.01.30 개봉'],\n",
              " ['2019', '변신평점 ', '7.5/10', '개봉일', '2019.08.21 개봉'],\n",
              " ['2019', '주먹왕 랄프 2: 인터넷 속으로평점 ', '7.6/10', '개봉일', '2019.01.03 개봉'],\n",
              " ['2019', '걸캅스평점 ', '6.5/10', '개봉일', '2019.05.09 개봉'],\n",
              " ['2019', '사자평점 ', '6.9/10', '개봉일', '2019.07.31 개봉'],\n",
              " ['2019', '아쿠아맨평점 ', '7.5/10', '개봉일', '2018.12.19 개봉'],\n",
              " ['2019', '드래곤 길들이기 3평점 ', '8.3/10', '개봉일', '2019.01.30 개봉'],\n",
              " ['2019', '나의 특별한 형제평점 ', '8.6/10', '개봉일', '2019.05.01 개봉'],\n",
              " ['2019', '어스평점 ', '5.7/10', '개봉일', '2019.03.27 개봉'],\n",
              " ['2019', '말레피센트 2평점 ', '7.5/10', '개봉일', '2019.10.17 개봉'],\n",
              " ['2019', '유열의 음악앨범평점 ', '7.0/10', '개봉일', '2019.08.28 개봉'],\n",
              " ['2019', '퍼펙트맨평점 ', '6.9/10', '개봉일', '2019.10.02 개봉'],\n",
              " ['2019', '포드 V 페라리평점 ', '8.7/10', '개봉일', '2019.12.04 개봉'],\n",
              " ['2019', '생일평점 ', '8.6/10', '개봉일', '2019.04.03 개봉'],\n",
              " ['2019', '힘을 내요, 미스터 리평점 ', '7.7/10', '개봉일', '2019.09.11 개봉'],\n",
              " ['2019', '항거:유관순 이야기평점 ', '9.0/10', '개봉일', '2019.02.27 개봉'],\n",
              " ['2019', '장사리 : 잊혀진 영웅들평점 ', '7.4/10', '개봉일', '2019.09.25 개봉'],\n",
              " ['2019', '마이펫의 이중생활 2평점 ', '7.9/10', '개봉일', '2019.07.31 개봉'],\n",
              " ['2019', '롱 리브 더 킹: 목포 영웅평점 ', '7.6/10', '개봉일', '2019.06.19 개봉'],\n",
              " ['2019', '쥬만지: 넥스트 레벨평점 ', '5.9/10', '개봉일', '2019.12.11 개봉'],\n",
              " ['2019', '존 윅 3: 파라벨룸평점 ', '6.9/10', '개봉일', '2019.06.26 개봉']]"
            ]
          },
          "metadata": {
            "tags": []
          },
          "execution_count": 101
        }
      ]
    }
  ]
}