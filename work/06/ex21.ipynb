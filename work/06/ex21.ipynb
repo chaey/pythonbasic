{
  "nbformat": 4,
  "nbformat_minor": 0,
  "metadata": {
    "colab": {
      "name": "ex21.ipynb",
      "provenance": [],
      "authorship_tag": "ABX9TyP7yxHo8fGuQ/lPFbCZvv/s",
      "include_colab_link": true
    },
    "kernelspec": {
      "name": "python3",
      "display_name": "Python 3"
    }
  },
  "cells": [
    {
      "cell_type": "markdown",
      "metadata": {
        "id": "view-in-github",
        "colab_type": "text"
      },
      "source": [
        "<a href=\"https://colab.research.google.com/github/cybermin/pythonbasic/blob/master/work/06/ex21.ipynb\" target=\"_parent\"><img src=\"https://colab.research.google.com/assets/colab-badge.svg\" alt=\"Open In Colab\"/></a>"
      ]
    },
    {
      "cell_type": "markdown",
      "metadata": {
        "id": "xwumpZlBIplb",
        "colab_type": "text"
      },
      "source": [
        "해결문제)\n",
        "\n",
        "daum 영화 사이트에서 2018, 2019년 박스 오피스 정보를 추출하여 텍스트 파일을 작성하시오,\n",
        "작성된 텍스트 파일을 읽어서 년도별 박스 오피스의 순위별 평점 현황을 그래프로 그리시오.\n",
        "+ https://movie.daum.net/boxoffice/yearly\n",
        "\n",
        "\n",
        "```\n",
        "2018,'신과함께-인과 연', 6.8, '2018.08.01'\n",
        "2018,'어벤져스: 인피니티 워', 7.6, '2018.04.25'\n",
        "2018,'보헤미안 랩소디', 8.9, '2018.10.31'\n",
        "2018,'미션 임파서블: 폴아웃', 8.1, '2018.07.25'\n",
        "2018,'신과함께-죄와 벌', 7.0, '2017.12.20'\n",
        "2018,'쥬라기 월드: 폴른 킹덤', 7.1, '2018.06.06'\n",
        "```\n",
        "\n",
        "\n"
      ]
    },
    {
      "cell_type": "code",
      "metadata": {
        "id": "maK51K8EIoLv",
        "colab_type": "code",
        "colab": {
          "base_uri": "https://localhost:8080/",
          "height": 114
        },
        "outputId": "ca1e803f-ab5f-4129-a87f-346198089ff2"
      },
      "source": [
        "#한글 폰트 사용 : colab , 런타임 다시 시작 하기\n",
        "%config InlineBackend.figure_format = 'retina'\n",
        "\n",
        "!apt -qq -y install fonts-nanum"
      ],
      "execution_count": 1,
      "outputs": [
        {
          "output_type": "stream",
          "text": [
            "fonts-nanum is already the newest version (20170925-1).\n",
            "The following package was automatically installed and is no longer required:\n",
            "  libnvidia-common-440\n",
            "Use 'apt autoremove' to remove it.\n",
            "0 upgraded, 0 newly installed, 0 to remove and 33 not upgraded.\n"
          ],
          "name": "stdout"
        }
      ]
    },
    {
      "cell_type": "code",
      "metadata": {
        "id": "O2aWB5mmGXHd",
        "colab_type": "code",
        "colab": {}
      },
      "source": [
        "from urllib.request import urlopen\n",
        "from bs4 import BeautifulSoup as bs\n",
        "\n",
        "import matplotlib.pyplot as plt\n",
        "\n",
        "import matplotlib as mpl\n",
        "import matplotlib.font_manager as fm\n",
        "fontpath = '/usr/share/fonts/truetype/nanum/NanumBarunGothic.ttf'\n",
        "font = fm.FontProperties(fname=fontpath, size=9)\n",
        "plt.rc('font', family='NanumBarunGothic') \n",
        "mpl.font_manager._rebuild()\n",
        "\n",
        "import re"
      ],
      "execution_count": 2,
      "outputs": []
    },
    {
      "cell_type": "code",
      "metadata": {
        "id": "c3yQdDTF3Enf",
        "colab_type": "code",
        "colab": {}
      },
      "source": [
        "#문자열에서 charset요소값을 찾아줌\n",
        "def charEncode(st) :\n",
        "    pt = r'charset=[\\\"\\']*([\\w-]+)'\n",
        "\n",
        "    charcode  = re.search(pt, st)\n",
        "    if charcode : \n",
        "        cc = charcode.group(1)\n",
        "    else :\n",
        "        cc = 'utf-8'\n",
        "\n",
        "    return cc\n",
        "\n",
        "#해당 페이지를 decode한 html문서 가져오기\n",
        "def urlHtml(url):\n",
        "    data = urlopen(url).read()\n",
        "    urlcc = charEncode(str(data))\n",
        "    html = data.decode(urlcc, errors=\"replace\")\n",
        "\n",
        "    html = bs(html, 'html.parser')\n",
        "    return html"
      ],
      "execution_count": 3,
      "outputs": []
    },
    {
      "cell_type": "code",
      "metadata": {
        "id": "jYpUixc6LHtG",
        "colab_type": "code",
        "colab": {}
      },
      "source": [
        "def mvlist(year):\n",
        "    mvlt = [] \n",
        "    url = 'https://movie.daum.net/boxoffice/yearly?year=' + str(year)\n",
        "\n",
        "    html = urlHtml(url)\n",
        "    ul = html.select('.list_boxthumb > li')\n",
        "\n",
        "    for li in ul :\n",
        "        ainfo = str(li.select_one('a'))\n",
        "        id = re.search(r'data-tiara-id=\\\"([\\d]+)', ainfo).group(1)\n",
        "        rank = re.search(r'data-tiara-ordnum=\\\"([\\d]+)', ainfo).group(1)\n",
        "        href = re.search(r'data-tiara-ordnum=\\\"([\\d]+)', ainfo).group(1)\n",
        "        print(id, rank)\n",
        "\n",
        "    return mvlt"
      ],
      "execution_count": 46,
      "outputs": []
    },
    {
      "cell_type": "code",
      "metadata": {
        "id": "QHac9gqKLIUs",
        "colab_type": "code",
        "colab": {
          "base_uri": "https://localhost:8080/",
          "height": 950
        },
        "outputId": "ef505d04-b6e3-47b6-abb6-02aa0886e4a8"
      },
      "source": [
        "mvlist(2019)"
      ],
      "execution_count": 47,
      "outputs": [
        {
          "output_type": "stream",
          "text": [
            "119859 1\n",
            "93252 2\n",
            "93004 3\n",
            "115601 4\n",
            "111292 5\n",
            "121137 6\n",
            "122542 7\n",
            "133855 8\n",
            "101393 9\n",
            "125080 10\n",
            "121160 11\n",
            "116523 12\n",
            "123374 13\n",
            "124806 14\n",
            "127242 15\n",
            "123556 16\n",
            "110875 17\n",
            "121919 18\n",
            "127878 19\n",
            "118907 20\n",
            "121408 21\n",
            "128397 22\n",
            "134130 23\n",
            "123582 24\n",
            "115191 25\n",
            "122593 26\n",
            "124804 27\n",
            "106442 28\n",
            "116230 29\n",
            "113877 30\n",
            "126721 31\n",
            "118493 32\n",
            "120834 33\n",
            "119238 34\n",
            "94484 35\n",
            "121982 36\n",
            "121368 37\n",
            "121721 38\n",
            "111120 39\n",
            "124812 40\n",
            "125049 41\n",
            "128372 42\n",
            "120146 43\n",
            "122541 44\n",
            "128434 45\n",
            "124178 46\n",
            "126143 47\n",
            "124803 48\n",
            "131271 49\n",
            "126253 50\n"
          ],
          "name": "stdout"
        },
        {
          "output_type": "execute_result",
          "data": {
            "text/plain": [
              "[]"
            ]
          },
          "metadata": {
            "tags": []
          },
          "execution_count": 47
        }
      ]
    },
    {
      "cell_type": "code",
      "metadata": {
        "id": "HbJai0vmMRg1",
        "colab_type": "code",
        "colab": {
          "base_uri": "https://localhost:8080/",
          "height": 35
        },
        "outputId": "8326bc70-fe80-4359-9d42-dad8ab6f2cc4"
      },
      "source": [
        "l1 = [1,2,3]\n",
        "l2 = ['a','b']\n",
        "\n",
        "l3 = l1 + l2 \n",
        "l3"
      ],
      "execution_count": 17,
      "outputs": [
        {
          "output_type": "execute_result",
          "data": {
            "text/plain": [
              "[1, 2, 3, 'a', 'b']"
            ]
          },
          "metadata": {
            "tags": []
          },
          "execution_count": 17
        }
      ]
    }
  ]
}