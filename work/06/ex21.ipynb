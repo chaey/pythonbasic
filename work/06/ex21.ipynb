{
  "nbformat": 4,
  "nbformat_minor": 0,
  "metadata": {
    "colab": {
      "name": "ex21.ipynb",
      "provenance": [],
      "authorship_tag": "ABX9TyOcywRGEY7acvdNccC2Wlmm",
      "include_colab_link": true
    },
    "kernelspec": {
      "name": "python3",
      "display_name": "Python 3"
    }
  },
  "cells": [
    {
      "cell_type": "markdown",
      "metadata": {
        "id": "view-in-github",
        "colab_type": "text"
      },
      "source": [
        "<a href=\"https://colab.research.google.com/github/cybermin/pythonbasic/blob/master/work/06/ex21.ipynb\" target=\"_parent\"><img src=\"https://colab.research.google.com/assets/colab-badge.svg\" alt=\"Open In Colab\"/></a>"
      ]
    },
    {
      "cell_type": "markdown",
      "metadata": {
        "id": "xwumpZlBIplb",
        "colab_type": "text"
      },
      "source": [
        "해결문제)\n",
        "\n",
        "daum 영화 사이트에서 2018, 2019년 박스 오피스 정보를 추출하여 텍스트 파일을 작성하시오,\n",
        "작성된 텍스트 파일을 읽어서 년도별 박스 오피스의 순위별 평점 현황을 그래프로 그리시오.\n",
        "+ https://movie.daum.net/boxoffice/yearly\n",
        "\n",
        "\n",
        "```\n",
        "2018,'신과함께-인과 연', 6.8, '2018.08.01'\n",
        "2018,'어벤져스: 인피니티 워', 7.6, '2018.04.25'\n",
        "2018,'보헤미안 랩소디', 8.9, '2018.10.31'\n",
        "2018,'미션 임파서블: 폴아웃', 8.1, '2018.07.25'\n",
        "2018,'신과함께-죄와 벌', 7.0, '2017.12.20'\n",
        "2018,'쥬라기 월드: 폴른 킹덤', 7.1, '2018.06.06'\n",
        "```\n",
        "\n",
        "\n"
      ]
    },
    {
      "cell_type": "code",
      "metadata": {
        "id": "maK51K8EIoLv",
        "colab_type": "code",
        "colab": {
          "base_uri": "https://localhost:8080/",
          "height": 114
        },
        "outputId": "ca1e803f-ab5f-4129-a87f-346198089ff2"
      },
      "source": [
        "#한글 폰트 사용 : colab , 런타임 다시 시작 하기\n",
        "%config InlineBackend.figure_format = 'retina'\n",
        "\n",
        "!apt -qq -y install fonts-nanum"
      ],
      "execution_count": 1,
      "outputs": [
        {
          "output_type": "stream",
          "text": [
            "fonts-nanum is already the newest version (20170925-1).\n",
            "The following package was automatically installed and is no longer required:\n",
            "  libnvidia-common-440\n",
            "Use 'apt autoremove' to remove it.\n",
            "0 upgraded, 0 newly installed, 0 to remove and 33 not upgraded.\n"
          ],
          "name": "stdout"
        }
      ]
    },
    {
      "cell_type": "code",
      "metadata": {
        "id": "O2aWB5mmGXHd",
        "colab_type": "code",
        "colab": {}
      },
      "source": [
        "from urllib.request import urlopen\n",
        "from bs4 import BeautifulSoup as bs\n",
        "\n",
        "import matplotlib.pyplot as plt\n",
        "\n",
        "import matplotlib as mpl\n",
        "import matplotlib.font_manager as fm\n",
        "fontpath = '/usr/share/fonts/truetype/nanum/NanumBarunGothic.ttf'\n",
        "font = fm.FontProperties(fname=fontpath, size=9)\n",
        "plt.rc('font', family='NanumBarunGothic') \n",
        "mpl.font_manager._rebuild()\n",
        "\n",
        "import re"
      ],
      "execution_count": 2,
      "outputs": []
    }
  ]
}