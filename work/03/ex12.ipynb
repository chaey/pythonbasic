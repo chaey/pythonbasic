{
 "cells": [
  {
   "cell_type": "markdown",
   "metadata": {},
   "source": [
    "# set 과 딕션너리 차이"
   ]
  },
  {
   "cell_type": "code",
   "execution_count": 9,
   "metadata": {},
   "outputs": [
    {
     "name": "stdout",
     "output_type": "stream",
     "text": [
      "<class 'dict'>\n"
     ]
    }
   ],
   "source": [
    "s = {} \n",
    "\n",
    "print(type(s)) "
   ]
  },
  {
   "cell_type": "code",
   "execution_count": 4,
   "metadata": {},
   "outputs": [],
   "source": [
    "s[0] = 1\n",
    "s[2] = 1"
   ]
  },
  {
   "cell_type": "code",
   "execution_count": 5,
   "metadata": {},
   "outputs": [
    {
     "name": "stdout",
     "output_type": "stream",
     "text": [
      "{0: 1, 2: 1}\n"
     ]
    }
   ],
   "source": [
    "print(s)"
   ]
  },
  {
   "cell_type": "code",
   "execution_count": 7,
   "metadata": {},
   "outputs": [
    {
     "name": "stdout",
     "output_type": "stream",
     "text": [
      "{1}\n",
      "<class 'set'>\n"
     ]
    }
   ],
   "source": [
    "s2 = set(s.values())\n",
    "print(s2)\n",
    "print(type(s2))"
   ]
  },
  {
   "cell_type": "code",
   "execution_count": 8,
   "metadata": {},
   "outputs": [
    {
     "ename": "TypeError",
     "evalue": "'set' object does not support item assignment",
     "output_type": "error",
     "traceback": [
      "\u001b[1;31m---------------------------------------------------------------------------\u001b[0m",
      "\u001b[1;31mTypeError\u001b[0m                                 Traceback (most recent call last)",
      "\u001b[1;32m<ipython-input-8-df418366c9c1>\u001b[0m in \u001b[0;36m<module>\u001b[1;34m\u001b[0m\n\u001b[1;32m----> 1\u001b[1;33m \u001b[0ms2\u001b[0m\u001b[1;33m[\u001b[0m\u001b[1;36m0\u001b[0m\u001b[1;33m]\u001b[0m \u001b[1;33m=\u001b[0m \u001b[1;36m3\u001b[0m\u001b[1;33m\u001b[0m\u001b[1;33m\u001b[0m\u001b[0m\n\u001b[0m",
      "\u001b[1;31mTypeError\u001b[0m: 'set' object does not support item assignment"
     ]
    }
   ],
   "source": [
    "s2[0] = 3"
   ]
  },
  {
   "cell_type": "markdown",
   "metadata": {},
   "source": [
    "# 함수\n",
    "\n",
    "<pre>\n",
    "<code>\n",
    "def 함수명(매개변수) :\n",
    "    문장\n",
    "</code>\n",
    "</pre>"
   ]
  },
  {
   "cell_type": "code",
   "execution_count": 10,
   "metadata": {},
   "outputs": [],
   "source": [
    "def show() :\n",
    "    print('안녕하세요.')"
   ]
  },
  {
   "cell_type": "code",
   "execution_count": 11,
   "metadata": {},
   "outputs": [
    {
     "name": "stdout",
     "output_type": "stream",
     "text": [
      "안녕하세요.\n",
      "안녕하세요.\n"
     ]
    }
   ],
   "source": [
    "show()\n",
    "show()"
   ]
  },
  {
   "cell_type": "code",
   "execution_count": 12,
   "metadata": {},
   "outputs": [],
   "source": [
    "def show2() :\n",
    "    return '안녕하세요'"
   ]
  },
  {
   "cell_type": "code",
   "execution_count": 14,
   "metadata": {},
   "outputs": [
    {
     "name": "stdout",
     "output_type": "stream",
     "text": [
      "안녕하세요\n"
     ]
    }
   ],
   "source": [
    "print(show2())"
   ]
  },
  {
   "cell_type": "code",
   "execution_count": 15,
   "metadata": {},
   "outputs": [
    {
     "name": "stdout",
     "output_type": "stream",
     "text": [
      "안녕하세요\n"
     ]
    }
   ],
   "source": [
    "s = show2()\n",
    "print(s)"
   ]
  },
  {
   "cell_type": "code",
   "execution_count": 19,
   "metadata": {},
   "outputs": [],
   "source": [
    "def show3(msg):\n",
    "    print('-'*30)\n",
    "    print(msg)\n",
    "    print('-'*30)"
   ]
  },
  {
   "cell_type": "code",
   "execution_count": 20,
   "metadata": {},
   "outputs": [
    {
     "name": "stdout",
     "output_type": "stream",
     "text": [
      "------------------------------\n",
      "파이썬\n",
      "------------------------------\n"
     ]
    }
   ],
   "source": [
    "show3('파이썬')"
   ]
  },
  {
   "cell_type": "code",
   "execution_count": 21,
   "metadata": {},
   "outputs": [
    {
     "name": "stdout",
     "output_type": "stream",
     "text": [
      "------------------------------\n",
      "부산대학교\n",
      "------------------------------\n"
     ]
    }
   ],
   "source": [
    "show3('부산대학교')"
   ]
  },
  {
   "cell_type": "code",
   "execution_count": 22,
   "metadata": {},
   "outputs": [],
   "source": [
    "#함수의 반환값 \n",
    "\n",
    "def f1() :\n",
    "    return 1\n",
    "\n",
    "def f2() :\n",
    "    return 1, 'python'\n",
    "\n",
    "def f3() :\n",
    "    return [1, 'python']\n",
    "\n",
    "def f4() :\n",
    "    return {1:'python'}"
   ]
  },
  {
   "cell_type": "code",
   "execution_count": 25,
   "metadata": {},
   "outputs": [
    {
     "name": "stdout",
     "output_type": "stream",
     "text": [
      "r1 =  1 <class 'int'>\n",
      "r2 =  (1, 'python') <class 'tuple'>\n",
      "r21 =  1 <class 'int'>\n",
      "r22 =  python <class 'str'>\n",
      "r3 =  [1, 'python'] <class 'list'>\n",
      "r4 =  {1: 'python'} <class 'dict'>\n"
     ]
    }
   ],
   "source": [
    "r1 = f1()\n",
    "print('r1 = ', r1, type(r1))\n",
    "\n",
    "r2 = f2()\n",
    "print('r2 = ', r2, type(r2))\n",
    "r21, r22 = f2()\n",
    "print('r21 = ', r21, type(r21))\n",
    "print('r22 = ', r22, type(r22))\n",
    "\n",
    "r3 = f3()\n",
    "print('r3 = ', r3, type(r3))\n",
    "\n",
    "r4 = f4()\n",
    "print('r4 = ', r4, type(r4))"
   ]
  },
  {
   "cell_type": "code",
   "execution_count": 29,
   "metadata": {},
   "outputs": [],
   "source": [
    "#함수 매개변수 \n",
    "def p1(x):\n",
    "    show3(x)\n",
    "    \n",
    "def p2(x):\n",
    "    show3(x)\n",
    "\n",
    "def p21(x, y):\n",
    "    show3(str(x) + ',' + str(y))\n",
    "    \n",
    "def p3(x):\n",
    "    show3(x)\n",
    "\n",
    "def p4(x):\n",
    "    show3(x)\n"
   ]
  },
  {
   "cell_type": "code",
   "execution_count": 30,
   "metadata": {},
   "outputs": [
    {
     "name": "stdout",
     "output_type": "stream",
     "text": [
      "------------------------------\n",
      "1\n",
      "------------------------------\n",
      "------------------------------\n",
      "(1, 'python')\n",
      "------------------------------\n",
      "------------------------------\n",
      "1,python\n",
      "------------------------------\n",
      "------------------------------\n",
      "[1, 'python']\n",
      "------------------------------\n",
      "------------------------------\n",
      "{1: 'python'}\n",
      "------------------------------\n"
     ]
    }
   ],
   "source": [
    "p1(r1)\n",
    "p2(r2)\n",
    "p21(r21, r22)\n",
    "p3(r3)\n",
    "p4(r4)"
   ]
  },
  {
   "cell_type": "code",
   "execution_count": null,
   "metadata": {},
   "outputs": [],
   "source": []
  }
 ],
 "metadata": {
  "kernelspec": {
   "display_name": "Python 3",
   "language": "python",
   "name": "python3"
  },
  "language_info": {
   "codemirror_mode": {
    "name": "ipython",
    "version": 3
   },
   "file_extension": ".py",
   "mimetype": "text/x-python",
   "name": "python",
   "nbconvert_exporter": "python",
   "pygments_lexer": "ipython3",
   "version": "3.7.6"
  }
 },
 "nbformat": 4,
 "nbformat_minor": 4
}
