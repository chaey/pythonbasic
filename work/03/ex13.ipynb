{
  "nbformat": 4,
  "nbformat_minor": 0,
  "metadata": {
    "colab": {
      "name": "ex13.ipynb",
      "provenance": [],
      "collapsed_sections": [],
      "authorship_tag": "ABX9TyPynZkE+UOjmZ+yja49GTEV",
      "include_colab_link": true
    },
    "kernelspec": {
      "name": "python3",
      "display_name": "Python 3"
    },
    "accelerator": "TPU"
  },
  "cells": [
    {
      "cell_type": "markdown",
      "metadata": {
        "id": "view-in-github",
        "colab_type": "text"
      },
      "source": [
        "<a href=\"https://colab.research.google.com/github/cybermin/pythonbasic/blob/master/work/03/ex13.ipynb\" target=\"_parent\"><img src=\"https://colab.research.google.com/assets/colab-badge.svg\" alt=\"Open In Colab\"/></a>"
      ]
    },
    {
      "cell_type": "markdown",
      "metadata": {
        "id": "wrvnBmys-RK3",
        "colab_type": "text"
      },
      "source": [
        "## 함수 실습\n",
        "\n",
        "\n",
        "---\n",
        "해결문제) 사칙연산 프로그램\n",
        "\n",
        "\n",
        "---\n",
        "\n",
        "\n"
      ]
    },
    {
      "cell_type": "code",
      "metadata": {
        "id": "vSQEVx0B5idE",
        "colab_type": "code",
        "colab": {}
      },
      "source": [
        "#입력\n",
        "def inMsg(msg) :\n",
        "    return input(msg)\n"
      ],
      "execution_count": 1,
      "outputs": []
    },
    {
      "cell_type": "code",
      "metadata": {
        "id": "tyUQe9cj_P-k",
        "colab_type": "code",
        "colab": {}
      },
      "source": [
        "#계산 \n",
        "def cal(x, y, op) :\n",
        "    if op == '+' : return f'{x} + {y} = {x+y}'\n",
        "    elif op == '-' : return f'{x} - {y} = {x-y}'\n",
        "    elif op == '-' : return f'{x} - {y} = {x-y}'\n",
        "    elif op == 'x' : return f'{x} x {y} = {x*y}'\n",
        "    elif op == '/' : return f'{x} / {y} = {x/y}'\n",
        "    elif op == '//' : return f'{x} // {y} = {x//y}'\n",
        "    elif op == '%' : return f'{x} % {y} = {x%y}'\n",
        "    else : return 'error'"
      ],
      "execution_count": 2,
      "outputs": []
    },
    {
      "cell_type": "code",
      "metadata": {
        "id": "WB15ZVtH-zDl",
        "colab_type": "code",
        "colab": {
          "base_uri": "https://localhost:8080/",
          "height": 95
        },
        "outputId": "5e8dbcdc-964f-44d1-e331-ec3a01be3053"
      },
      "source": [
        "if __name__ == '__main__' :\n",
        "    x = int(inMsg('첫번째 숫자입력 :'))\n",
        "    y = int(inMsg('두번째 숫자입력 :'))\n",
        "    op = inMsg('연산자입력 :')\n",
        "\n",
        "    print(cal(x,y,op))"
      ],
      "execution_count": 3,
      "outputs": [
        {
          "output_type": "stream",
          "text": [
            "첫번째 숫자입력 :1\n",
            "두번째 숫자입력 :2\n",
            "연산자입력 :+\n",
            "1 + 2 = 3\n"
          ],
          "name": "stdout"
        }
      ]
    },
    {
      "cell_type": "markdown",
      "metadata": {
        "id": "AnUcUWBTkXCb",
        "colab_type": "text"
      },
      "source": [
        "\n",
        "\n",
        "---\n",
        "\n",
        "\n",
        "해결문제) 시도별 대기정보는 미세먼지(PM10), 오존(O3), 일산화탄소(CO)의 정보가 순서대로 주어진다.\n",
        "\n",
        "+ https://www.airkorea.or.kr/web/sidoQualityCompare?itemCode=10008&pMENU_NO=102 \n",
        "+ 시도별 각 대기정보의 등급을 산정하여 표로 나타내시오.\n",
        " - 단 , 좋음 : **** , 보통 : ***, 나쁨 : **, 매우나쁨  :*로 표시\n",
        " \n",
        "![대체 텍스트](https://drive.google.com/uc?export=view&id=1ZiqYf2Ks8gqRY9dobmbJy8JnE5Ho8e9b)\n",
        "\n",
        "\n",
        "---\n",
        "\n"
      ]
    },
    {
      "cell_type": "code",
      "metadata": {
        "id": "MAi0weUbBucU",
        "colab_type": "code",
        "colab": {}
      },
      "source": [
        "#미세먼지(PM10) 등급 판단 \n",
        "def PM10(num) :\n",
        "    if num <= 30 : return '좋음'\n",
        "    elif num <= 80 : return '보통'\n",
        "    elif num <= 150 : return '나쁨'\n",
        "    else : return '매우나쁨'\n",
        "\n",
        "#오존(O3) 등급 판단 \n",
        "def O3(num) :\n",
        "    if num <= 0.03 : return '좋음'\n",
        "    elif num <= 0.09 : return '보통'\n",
        "    elif num <= 0.15 : return '나쁨'\n",
        "    else : return '매우나쁨'\n",
        "\n",
        "#일산화탄소(CO) 등급 판단    \n",
        "def CO(num) :\n",
        "    if num <= 2 : return '좋음'\n",
        "    elif num <= 9 : return '보통'\n",
        "    elif num <= 15 : return '나쁨'\n",
        "    else : return '매우나쁨'\n",
        "    \n",
        "#등급 별 표시\n",
        "def star(grade) :\n",
        "    if grade == '좋음' : return '*** '\n",
        "    elif grade == '보통'  : return '**  '\n",
        "    elif grade == '나쁨' : return '*   '\n",
        "    else : return '    '\n"
      ],
      "execution_count": 1,
      "outputs": []
    },
    {
      "cell_type": "code",
      "metadata": {
        "id": "TcRuU_rwERCO",
        "colab_type": "code",
        "colab": {}
      },
      "source": [
        "\n",
        "\n",
        "#지역별 데이터\n",
        "data = {'서울':[81,0.052,0.4] ,\n",
        "        '부산':[54,0.072,0.4],\n",
        "        '대구':[55,0.06,0.4],\n",
        "        '인천':[52,0.06,0.5],\n",
        "        '광주':[61,0.064,0.5],\n",
        "        '대전':[71,0.064,0.4],\n",
        "        '울산':[60,0.068,0.4],\n",
        "        '경기':[64,0.06,0.4],\n",
        "        '강원':[62,0.062,0.4],\n",
        "        '충북':[59,0.067,0.4],\n",
        "        '충남':[65,0.063,0.4],\n",
        "        '전북':[65,0.068,0.4],\n",
        "        '전남':[51,0.062,0.4],\n",
        "        '세종':[69,0.06,0.5],\n",
        "        '경북':[57,0.066,0.4],\n",
        "        '경남':[49,0.074,0.4],\n",
        "        '제주':[66,0.076,0.3]}\n"
      ],
      "execution_count": 2,
      "outputs": []
    },
    {
      "cell_type": "code",
      "metadata": {
        "id": "sfejLx6pEUgF",
        "colab_type": "code",
        "colab": {
          "base_uri": "https://localhost:8080/",
          "height": 258
        },
        "outputId": "68241f11-0b41-4f5b-83bd-f45649a0b309"
      },
      "source": [
        "datastar = {}\n",
        "\n",
        "#함수명과 리스트명 같으면 오류\n",
        "PM10 = []\n",
        "O3 = []\n",
        "CO = []\n",
        "\n",
        "for key, value in data.items() :\n",
        "    lt = []\n",
        "    PM10.append(value[0])\n",
        "    O3.append(value[1])\n",
        "    CO.append(value[2])\n",
        "\n",
        "    print(PM10(value[0]))\n",
        "    lt.append(star(PM10(value[0])))\n",
        "    lt.append(star(O3(value[1])))\n",
        "    lt.append(star(CO(value[2])))\n",
        "    datastar[key] = lt\n",
        "\n",
        "print(datastar)\n"
      ],
      "execution_count": 6,
      "outputs": [
        {
          "output_type": "error",
          "ename": "TypeError",
          "evalue": "ignored",
          "traceback": [
            "\u001b[0;31m---------------------------------------------------------------------------\u001b[0m",
            "\u001b[0;31mTypeError\u001b[0m                                 Traceback (most recent call last)",
            "\u001b[0;32m<ipython-input-6-6098411e83bc>\u001b[0m in \u001b[0;36m<module>\u001b[0;34m()\u001b[0m\n\u001b[1;32m     12\u001b[0m     \u001b[0mCO\u001b[0m\u001b[0;34m.\u001b[0m\u001b[0mappend\u001b[0m\u001b[0;34m(\u001b[0m\u001b[0mvalue\u001b[0m\u001b[0;34m[\u001b[0m\u001b[0;36m2\u001b[0m\u001b[0;34m]\u001b[0m\u001b[0;34m)\u001b[0m\u001b[0;34m\u001b[0m\u001b[0;34m\u001b[0m\u001b[0m\n\u001b[1;32m     13\u001b[0m \u001b[0;34m\u001b[0m\u001b[0m\n\u001b[0;32m---> 14\u001b[0;31m     \u001b[0mprint\u001b[0m\u001b[0;34m(\u001b[0m\u001b[0mPM10\u001b[0m\u001b[0;34m(\u001b[0m\u001b[0mvalue\u001b[0m\u001b[0;34m[\u001b[0m\u001b[0;36m0\u001b[0m\u001b[0;34m]\u001b[0m\u001b[0;34m)\u001b[0m\u001b[0;34m)\u001b[0m\u001b[0;34m\u001b[0m\u001b[0;34m\u001b[0m\u001b[0m\n\u001b[0m\u001b[1;32m     15\u001b[0m     \u001b[0mlt\u001b[0m\u001b[0;34m.\u001b[0m\u001b[0mappend\u001b[0m\u001b[0;34m(\u001b[0m\u001b[0mstar\u001b[0m\u001b[0;34m(\u001b[0m\u001b[0mPM10\u001b[0m\u001b[0;34m(\u001b[0m\u001b[0mvalue\u001b[0m\u001b[0;34m[\u001b[0m\u001b[0;36m0\u001b[0m\u001b[0;34m]\u001b[0m\u001b[0;34m)\u001b[0m\u001b[0;34m)\u001b[0m\u001b[0;34m)\u001b[0m\u001b[0;34m\u001b[0m\u001b[0;34m\u001b[0m\u001b[0m\n\u001b[1;32m     16\u001b[0m     \u001b[0mlt\u001b[0m\u001b[0;34m.\u001b[0m\u001b[0mappend\u001b[0m\u001b[0;34m(\u001b[0m\u001b[0mstar\u001b[0m\u001b[0;34m(\u001b[0m\u001b[0mO3\u001b[0m\u001b[0;34m(\u001b[0m\u001b[0mvalue\u001b[0m\u001b[0;34m[\u001b[0m\u001b[0;36m1\u001b[0m\u001b[0;34m]\u001b[0m\u001b[0;34m)\u001b[0m\u001b[0;34m)\u001b[0m\u001b[0;34m)\u001b[0m\u001b[0;34m\u001b[0m\u001b[0;34m\u001b[0m\u001b[0m\n",
            "\u001b[0;31mTypeError\u001b[0m: 'list' object is not callable"
          ]
        }
      ]
    },
    {
      "cell_type": "code",
      "metadata": {
        "id": "N3QH7YcPLmwp",
        "colab_type": "code",
        "colab": {
          "base_uri": "https://localhost:8080/",
          "height": 57
        },
        "outputId": "0973ef00-33a2-404d-f6d5-c1ade9072411"
      },
      "source": [
        "datastar = {}\n",
        "ltPM10 = []\n",
        "ltO3 = []\n",
        "ltCO = []\n",
        "for key, value in data.items() :\n",
        "    lt = []\n",
        "    ltPM10.append(value[0])\n",
        "    ltO3.append(value[1])\n",
        "    ltCO.append(value[2])\n",
        "    \n",
        "    lt.append(star(PM10(value[0])))\n",
        "    lt.append(star(O3(value[1])))\n",
        "    lt.append(star(CO(value[2])))\n",
        "    datastar[key] = lt\n",
        "print(datastar)\n"
      ],
      "execution_count": 3,
      "outputs": [
        {
          "output_type": "stream",
          "text": [
            "{'서울': ['*   ', '**  ', '*** '], '부산': ['**  ', '**  ', '*** '], '대구': ['**  ', '**  ', '*** '], '인천': ['**  ', '**  ', '*** '], '광주': ['**  ', '**  ', '*** '], '대전': ['**  ', '**  ', '*** '], '울산': ['**  ', '**  ', '*** '], '경기': ['**  ', '**  ', '*** '], '강원': ['**  ', '**  ', '*** '], '충북': ['**  ', '**  ', '*** '], '충남': ['**  ', '**  ', '*** '], '전북': ['**  ', '**  ', '*** '], '전남': ['**  ', '**  ', '*** '], '세종': ['**  ', '**  ', '*** '], '경북': ['**  ', '**  ', '*** '], '경남': ['**  ', '**  ', '*** '], '제주': ['**  ', '**  ', '*** ']}\n"
          ],
          "name": "stdout"
        }
      ]
    },
    {
      "cell_type": "code",
      "metadata": {
        "id": "9xI9K-G9GJNf",
        "colab_type": "code",
        "colab": {}
      },
      "source": [
        "print('지역| PM10|  O3 |  Co |')\n",
        "print('='*23)\n",
        "for key , value in datastar.items() :\n",
        "    print(key , end = '| ')\n",
        "    for item in value :\n",
        "        print(item , end = '| ')\n",
        "    print()"
      ],
      "execution_count": null,
      "outputs": []
    },
    {
      "cell_type": "code",
      "metadata": {
        "id": "5AfPXGxiHs2f",
        "colab_type": "code",
        "colab": {}
      },
      "source": [
        "lt = [10,20,30]\n",
        "\n",
        "lts = str(lt).replace('[','').replace(']','').replace(',','|')\n",
        "\n",
        "print(lts)"
      ],
      "execution_count": null,
      "outputs": []
    },
    {
      "cell_type": "code",
      "metadata": {
        "id": "-AgmUCCwOItg",
        "colab_type": "code",
        "colab": {
          "base_uri": "https://localhost:8080/",
          "height": 114
        },
        "outputId": "f4cacc7a-b3e8-4d9f-da9b-07447421da89"
      },
      "source": [
        "#한글 폰트 사용 : colab , 런타임 다시 시작 하기\n",
        "%config InlineBackend.figure_format = 'retina'\n",
        "\n",
        "!apt -qq -y install fonts-nanum"
      ],
      "execution_count": 1,
      "outputs": [
        {
          "output_type": "stream",
          "text": [
            "fonts-nanum is already the newest version (20170925-1).\n",
            "The following package was automatically installed and is no longer required:\n",
            "  libnvidia-common-440\n",
            "Use 'apt autoremove' to remove it.\n",
            "0 upgraded, 0 newly installed, 0 to remove and 33 not upgraded.\n"
          ],
          "name": "stdout"
        }
      ]
    },
    {
      "cell_type": "code",
      "metadata": {
        "id": "3CXCK2t8NPco",
        "colab_type": "code",
        "colab": {
          "base_uri": "https://localhost:8080/",
          "height": 265
        },
        "outputId": "8d47b832-1829-4d99-9e36-0127f182a873"
      },
      "source": [
        "import matplotlib as mpl\n",
        "import matplotlib.pyplot as plt\n",
        "import matplotlib.font_manager as fm\n",
        "fontpath = '/usr/share/fonts/truetype/nanum/NanumBarunGothic.ttf'\n",
        "font = fm.FontProperties(fname=fontpath, size=9)\n",
        "plt.rc('font', family='NanumBarunGothic') \n",
        "mpl.font_manager._rebuild()\n",
        "\n",
        "plt.plot(list(data.keys()), ltPM10)\n",
        "plt.show()"
      ],
      "execution_count": 4,
      "outputs": [
        {
          "output_type": "display_data",
          "data": {
            "image/png": "[encoded data removed]",
            "text/plain": [
              "<Figure size 432x288 with 1 Axes>"
            ]
          },
          "metadata": {
            "tags": [],
            "needs_background": "light"
          }
        }
      ]
    }
  ]
}