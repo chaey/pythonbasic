{
  "nbformat": 4,
  "nbformat_minor": 0,
  "metadata": {
    "colab": {
      "name": "ex13.ipynb",
      "provenance": []
    },
    "kernelspec": {
      "name": "python3",
      "display_name": "Python 3"
    }
  },
  "cells": [
    {
      "cell_type": "markdown",
      "metadata": {
        "id": "wrvnBmys-RK3",
        "colab_type": "text"
      },
      "source": [
        "## 함수 실습\n",
        "\n",
        "\n",
        "---\n",
        "해결문제) 사칙연산 프로그램\n",
        "\n",
        "\n",
        "---\n",
        "\n",
        "\n"
      ]
    },
    {
      "cell_type": "code",
      "metadata": {
        "id": "vSQEVx0B5idE",
        "colab_type": "code",
        "colab": {}
      },
      "source": [
        "#입력\n",
        "def inMsg(msg) :\n",
        "    return input(msg)\n"
      ],
      "execution_count": 1,
      "outputs": []
    },
    {
      "cell_type": "code",
      "metadata": {
        "id": "tyUQe9cj_P-k",
        "colab_type": "code",
        "colab": {}
      },
      "source": [
        "#계산 \n",
        "def cal(x, y, op) :\n",
        "    if op == '+' : return f'{x} + {y} = {x+y}'\n",
        "    elif op == '-' : return f'{x} - {y} = {x-y}'\n",
        "    elif op == '-' : return f'{x} - {y} = {x-y}'\n",
        "    elif op == 'x' : return f'{x} x {y} = {x*y}'\n",
        "    elif op == '/' : return f'{x} / {y} = {x/y}'\n",
        "    elif op == '//' : return f'{x} // {y} = {x//y}'\n",
        "    elif op == '%' : return f'{x} % {y} = {x%y}'\n",
        "    else : return 'error'"
      ],
      "execution_count": 9,
      "outputs": []
    },
    {
      "cell_type": "code",
      "metadata": {
        "id": "WB15ZVtH-zDl",
        "colab_type": "code",
        "colab": {
          "base_uri": "https://localhost:8080/",
          "height": 91
        },
        "outputId": "f4d1d540-f00d-4349-f1fe-184d9741ad6e"
      },
      "source": [
        "if __name__ == '__main__' :\n",
        "    x = int(inMsg('첫번째 숫자입력 :'))\n",
        "    y = int(inMsg('두번째 숫자입력 :'))\n",
        "    op = inMsg('연산자입력 :')\n",
        "\n",
        "    print(cal(x,y,op))"
      ],
      "execution_count": 10,
      "outputs": [
        {
          "output_type": "stream",
          "text": [
            "첫번째 숫자입력 :20\n",
            "두번째 숫자입력 :3\n",
            "연산자입력 ://\n",
            "20 // 3 = 6\n"
          ],
          "name": "stdout"
        }
      ]
    },
    {
      "cell_type": "markdown",
      "metadata": {
        "id": "AnUcUWBTkXCb",
        "colab_type": "text"
      },
      "source": [
        "\n",
        "\n",
        "---\n",
        "\n",
        "\n",
        "해결문제) 시도별 대기정보는 미세먼지(PM10), 오존(O3), 일산화탄소(CO)의 정보가 순서대로 주어진다.\n",
        "\n",
        "+ https://www.airkorea.or.kr/web/sidoQualityCompare?itemCode=10008&pMENU_NO=102 \n",
        "+ 시도별 각 대기정보의 등급을 산정하여 표로 나타내시오.\n",
        " - 단 , 좋음 : **** , 보통 : ***, 나쁨 : **, 매우나쁨  :*로 표시\n",
        " \n",
        "![대체 텍스트](https://drive.google.com/uc?export=view&id=1ZiqYf2Ks8gqRY9dobmbJy8JnE5Ho8e9b)\n",
        "\n",
        "\n",
        "---\n",
        "\n"
      ]
    },
    {
      "cell_type": "code",
      "metadata": {
        "id": "MAi0weUbBucU",
        "colab_type": "code",
        "colab": {}
      },
      "source": [
        "#미세먼지(PM10) 등급 판단 \n",
        "def PM10(num) :\n",
        "    if num <= 30 : return '좋음'\n",
        "    elif num <= 80 : return '보통'\n",
        "    elif num <= 150 : return '나쁨'\n",
        "    else : return '매우나쁨'\n",
        "\n",
        "#오존(O3) 등급 판단 \n",
        "def O3(num) :\n",
        "    if num <= 0.03 : return '좋음'\n",
        "    elif num <= 0.09 : return '보통'\n",
        "    elif num <= 0.15 : return '나쁨'\n",
        "    else : return '매우나쁨'\n",
        "\n",
        "#일산화탄소(CO) 등급 판단    \n",
        "def CO(num) :\n",
        "    if num <= 2 : return '좋음'\n",
        "    elif num <= 9 : return '보통'\n",
        "    elif num <= 15 : return '나쁨'\n",
        "    else : return '매우나쁨'\n",
        "    \n",
        "#등급 별 표시\n",
        "def star(grade) :\n",
        "    if grade == '좋음' : return '*** '\n",
        "    elif grade == '보통'  : return '**  '\n",
        "    elif grade == '나쁨' : return '*   '\n",
        "    else : return '    '\n"
      ],
      "execution_count": 11,
      "outputs": []
    },
    {
      "cell_type": "code",
      "metadata": {
        "id": "TcRuU_rwERCO",
        "colab_type": "code",
        "colab": {}
      },
      "source": [
        "\n",
        "\n",
        "#지역별 데이터\n",
        "data = {'서울':[81,0.052,0.4] ,\n",
        "        '부산':[54,0.072,0.4],\n",
        "        '대구':[55,0.06,0.4],\n",
        "        '인천':[52,0.06,0.5],\n",
        "        '광주':[61,0.064,0.5],\n",
        "        '대전':[71,0.064,0.4],\n",
        "        '울산':[60,0.068,0.4],\n",
        "        '경기':[64,0.06,0.4],\n",
        "        '강원':[62,0.062,0.4],\n",
        "        '충북':[59,0.067,0.4],\n",
        "        '충남':[65,0.063,0.4],\n",
        "        '전북':[65,0.068,0.4],\n",
        "        '전남':[51,0.062,0.4],\n",
        "        '세종':[69,0.06,0.5],\n",
        "        '경북':[57,0.066,0.4],\n",
        "        '경남':[49,0.074,0.4],\n",
        "        '제주':[66,0.076,0.3]}\n"
      ],
      "execution_count": 12,
      "outputs": []
    },
    {
      "cell_type": "code",
      "metadata": {
        "id": "sfejLx6pEUgF",
        "colab_type": "code",
        "colab": {
          "base_uri": "https://localhost:8080/",
          "height": 55
        },
        "outputId": "791706df-e8b2-4950-d2c4-c8a55b26afa3"
      },
      "source": [
        "datastar = {}\n",
        "\n",
        "for key, value in data.items() :\n",
        "    lt = []\n",
        "    lt.append(star(PM10(value[0])))\n",
        "    lt.append(star(O3(value[1])))\n",
        "    lt.append(star(CO(value[2])))\n",
        "    datastar[key] = lt\n",
        "\n",
        "print(datastar)\n"
      ],
      "execution_count": 16,
      "outputs": [
        {
          "output_type": "stream",
          "text": [
            "{'서울': ['*   ', '**  ', '*** '], '부산': ['**  ', '**  ', '*** '], '대구': ['**  ', '**  ', '*** '], '인천': ['**  ', '**  ', '*** '], '광주': ['**  ', '**  ', '*** '], '대전': ['**  ', '**  ', '*** '], '울산': ['**  ', '**  ', '*** '], '경기': ['**  ', '**  ', '*** '], '강원': ['**  ', '**  ', '*** '], '충북': ['**  ', '**  ', '*** '], '충남': ['**  ', '**  ', '*** '], '전북': ['**  ', '**  ', '*** '], '전남': ['**  ', '**  ', '*** '], '세종': ['**  ', '**  ', '*** '], '경북': ['**  ', '**  ', '*** '], '경남': ['**  ', '**  ', '*** '], '제주': ['**  ', '**  ', '*** ']}\n"
          ],
          "name": "stdout"
        }
      ]
    },
    {
      "cell_type": "code",
      "metadata": {
        "id": "9xI9K-G9GJNf",
        "colab_type": "code",
        "colab": {
          "base_uri": "https://localhost:8080/",
          "height": 367
        },
        "outputId": "92e6d062-4c9a-4b8f-802e-e571dea94afc"
      },
      "source": [
        "print('지역| PM10|  O3 |  Co |')\n",
        "print('='*23)\n",
        "for key , value in datastar.items() :\n",
        "    print(key , end = '| ')\n",
        "    for item in value :\n",
        "        print(item , end = '| ')\n",
        "    print()"
      ],
      "execution_count": 25,
      "outputs": [
        {
          "output_type": "stream",
          "text": [
            "지역| PM10|  O3 |  Co |\n",
            "=======================\n",
            "서울| *   | **  | *** | \n",
            "부산| **  | **  | *** | \n",
            "대구| **  | **  | *** | \n",
            "인천| **  | **  | *** | \n",
            "광주| **  | **  | *** | \n",
            "대전| **  | **  | *** | \n",
            "울산| **  | **  | *** | \n",
            "경기| **  | **  | *** | \n",
            "강원| **  | **  | *** | \n",
            "충북| **  | **  | *** | \n",
            "충남| **  | **  | *** | \n",
            "전북| **  | **  | *** | \n",
            "전남| **  | **  | *** | \n",
            "세종| **  | **  | *** | \n",
            "경북| **  | **  | *** | \n",
            "경남| **  | **  | *** | \n",
            "제주| **  | **  | *** | \n"
          ],
          "name": "stdout"
        }
      ]
    },
    {
      "cell_type": "code",
      "metadata": {
        "id": "5AfPXGxiHs2f",
        "colab_type": "code",
        "colab": {
          "base_uri": "https://localhost:8080/",
          "height": 35
        },
        "outputId": "c8ab83cc-8b43-472e-c79a-122d81e2301a"
      },
      "source": [
        "lt = [10,20,30]\n",
        "\n",
        "lts = str(lt).replace('[','').replace(']','').replace(',','|')\n",
        "\n",
        "print(lts)"
      ],
      "execution_count": 30,
      "outputs": [
        {
          "output_type": "stream",
          "text": [
            "10| 20| 30\n"
          ],
          "name": "stdout"
        }
      ]
    }
  ]
}