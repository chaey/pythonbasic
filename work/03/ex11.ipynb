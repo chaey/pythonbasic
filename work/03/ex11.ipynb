{
 "cells": [
  {
   "cell_type": "markdown",
   "metadata": {},
   "source": [
    "# 복습\n",
    "+ 평점.txt 파일을 읽어서 평점을 추출을 하세요. \n",
    "+ 전체 평점 평균 구하세요.\n",
    "+ 평점 그래프 그리기\n",
    " - 예시) 별점 - 총 10점 중10 \t박성웅이 제일 잘했는듯 ㅋ 신고\tatto****\t20.03.08"
   ]
  },
  {
   "cell_type": "code",
   "execution_count": 2,
   "metadata": {},
   "outputs": [
    {
     "name": "stdout",
     "output_type": "stream",
     "text": [
      "별점 - 총 10점 중10 \t박성웅이 제일 잘했는듯 ㅋ 신고\tatto****\t20.03.08\n",
      "별점 - 총 10점 중10\t박성웅의차분한발성넘나멋있음? \thkhk****\t20.03.07\n",
      "별점 - 총 10점 중10\t서지도 않는 아재들이랑 현학적 허세로 가득한 평론가랑 네이버 방구석 철학자들이 빨아서 닳아버린 대부보다 훨 재밌음 \tzaq1****\t20.03.07\n",
      "별점 - 총 10점 중5\t딜레마의 끝은, 대개 <둘 중 어느 한 편도 지켜내지 못함>. 더욱이, 어찌하여, 나 홀로 살아남음.이 <살아남은 자의 비참함>에 관한 경위서. \tbeen****\t20.03.06\n",
      "별점 - 총 10점 중8\t재미는 확실하군 황정미니 살아있네 \tldj8****\t20.03.06\n",
      "별점 - 총 10점 중10\tOO 브라다의 의리 멋있다! 황정민 대박 \tsilv****\t20.03.06\n",
      "별점 - 총 10점 중10\t노래부터 배우연기까지 빠짐이없음 \tkenb****\t20.03.06\n",
      "별점 - 총 10점 중10\t몇번을 다시봐도 소름이 돋는다.에필로그까지 완벽한 영화\tbomt****\t20.03.06\n",
      "별점 - 총 10점 중10\t이건 인간적으로 10점 아니냐 \tyama****\t20.03.06\n",
      "별점 - 총 10점 중10\t너 나 감당 할수 있겠냐~ \tnurs****\t20.03.05\n",
      "<class 'str'>\n"
     ]
    }
   ],
   "source": [
    "# 파일읽기\n",
    "fp = open('평점.txt', 'r', encoding = 'utf-8')\n",
    "data = fp.read()\n",
    "fp.close()\n",
    "\n",
    "print(data)\n",
    "print(type(data))"
   ]
  },
  {
   "cell_type": "code",
   "execution_count": 3,
   "metadata": {},
   "outputs": [
    {
     "name": "stdout",
     "output_type": "stream",
     "text": [
      "['별점 - 총 10점 중10 \\t박성웅이 제일 잘했는듯 ㅋ 신고\\tatto****\\t20.03.08\\n', '별점 - 총 10점 중10\\t박성웅의차분한발성넘나멋있음? \\thkhk****\\t20.03.07\\n', '별점 - 총 10점 중10\\t서지도 않는 아재들이랑 현학적 허세로 가득한 평론가랑 네이버 방구석 철학자들이 빨아서 닳아버린 대부보다 훨 재밌음 \\tzaq1****\\t20.03.07\\n', '별점 - 총 10점 중5\\t딜레마의 끝은, 대개 <둘 중 어느 한 편도 지켜내지 못함>. 더욱이, 어찌하여, 나 홀로 살아남음.이 <살아남은 자의 비참함>에 관한 경위서. \\tbeen****\\t20.03.06\\n', '별점 - 총 10점 중8\\t재미는 확실하군 황정미니 살아있네 \\tldj8****\\t20.03.06\\n', '별점 - 총 10점 중10\\tOO 브라다의 의리 멋있다! 황정민 대박 \\tsilv****\\t20.03.06\\n', '별점 - 총 10점 중10\\t노래부터 배우연기까지 빠짐이없음 \\tkenb****\\t20.03.06\\n', '별점 - 총 10점 중10\\t몇번을 다시봐도 소름이 돋는다.에필로그까지 완벽한 영화\\tbomt****\\t20.03.06\\n', '별점 - 총 10점 중10\\t이건 인간적으로 10점 아니냐 \\tyama****\\t20.03.06\\n', '별점 - 총 10점 중10\\t너 나 감당 할수 있겠냐~ \\tnurs****\\t20.03.05']\n",
      "<class 'list'>\n"
     ]
    }
   ],
   "source": [
    "# 파일읽기\n",
    "fp = open('평점.txt', 'r', encoding = 'utf-8')\n",
    "data = fp.readlines()\n",
    "fp.close()\n",
    "\n",
    "print(data)\n",
    "print(type(data))"
   ]
  },
  {
   "cell_type": "code",
   "execution_count": 4,
   "metadata": {},
   "outputs": [
    {
     "name": "stdout",
     "output_type": "stream",
     "text": [
      "['별점 - 총 10점 중10 \\t박성웅이 제일 잘했는듯 ㅋ 신고\\tatto****\\t20.03.08\\n', '별점 - 총 10점 중10\\t박성웅의차분한발성넘나멋있음? \\thkhk****\\t20.03.07\\n', '별점 - 총 10점 중10\\t서지도 않는 아재들이랑 현학적 허세로 가득한 평론가랑 네이버 방구석 철학자들이 빨아서 닳아버린 대부보다 훨 재밌음 \\tzaq1****\\t20.03.07\\n', '별점 - 총 10점 중5\\t딜레마의 끝은, 대개 <둘 중 어느 한 편도 지켜내지 못함>. 더욱이, 어찌하여, 나 홀로 살아남음.이 <살아남은 자의 비참함>에 관한 경위서. \\tbeen****\\t20.03.06\\n', '별점 - 총 10점 중8\\t재미는 확실하군 황정미니 살아있네 \\tldj8****\\t20.03.06\\n', '별점 - 총 10점 중10\\tOO 브라다의 의리 멋있다! 황정민 대박 \\tsilv****\\t20.03.06\\n', '별점 - 총 10점 중10\\t노래부터 배우연기까지 빠짐이없음 \\tkenb****\\t20.03.06\\n', '별점 - 총 10점 중10\\t몇번을 다시봐도 소름이 돋는다.에필로그까지 완벽한 영화\\tbomt****\\t20.03.06\\n', '별점 - 총 10점 중10\\t이건 인간적으로 10점 아니냐 \\tyama****\\t20.03.06\\n', '별점 - 총 10점 중10\\t너 나 감당 할수 있겠냐~ \\tnurs****\\t20.03.05']\n",
      "<class 'list'>\n"
     ]
    }
   ],
   "source": [
    "with open('평점.txt', 'r', encoding = 'utf-8') as fp :\n",
    "    data = fp.readlines()\n",
    "\n",
    "print(data)\n",
    "print(type(data))   "
   ]
  },
  {
   "cell_type": "code",
   "execution_count": 5,
   "metadata": {},
   "outputs": [
    {
     "name": "stdout",
     "output_type": "stream",
     "text": [
      "별점 - 총 10점 중10 \t박성웅이 제일 잘했는듯 ㅋ 신고\tatto****\t20.03.08\n",
      "\n",
      "별점 - 총 10점 중10\t박성웅의차분한발성넘나멋있음? \thkhk****\t20.03.07\n",
      "\n",
      "별점 - 총 10점 중10\t서지도 않는 아재들이랑 현학적 허세로 가득한 평론가랑 네이버 방구석 철학자들이 빨아서 닳아버린 대부보다 훨 재밌음 \tzaq1****\t20.03.07\n",
      "\n",
      "별점 - 총 10점 중5\t딜레마의 끝은, 대개 <둘 중 어느 한 편도 지켜내지 못함>. 더욱이, 어찌하여, 나 홀로 살아남음.이 <살아남은 자의 비참함>에 관한 경위서. \tbeen****\t20.03.06\n",
      "\n",
      "별점 - 총 10점 중8\t재미는 확실하군 황정미니 살아있네 \tldj8****\t20.03.06\n",
      "\n",
      "별점 - 총 10점 중10\tOO 브라다의 의리 멋있다! 황정민 대박 \tsilv****\t20.03.06\n",
      "\n",
      "별점 - 총 10점 중10\t노래부터 배우연기까지 빠짐이없음 \tkenb****\t20.03.06\n",
      "\n",
      "별점 - 총 10점 중10\t몇번을 다시봐도 소름이 돋는다.에필로그까지 완벽한 영화\tbomt****\t20.03.06\n",
      "\n",
      "별점 - 총 10점 중10\t이건 인간적으로 10점 아니냐 \tyama****\t20.03.06\n",
      "\n",
      "별점 - 총 10점 중10\t너 나 감당 할수 있겠냐~ \tnurs****\t20.03.05\n"
     ]
    }
   ],
   "source": [
    "# 한줄씩 확인\n",
    "\n",
    "for line in data:\n",
    "    print(line)"
   ]
  },
  {
   "cell_type": "code",
   "execution_count": 11,
   "metadata": {},
   "outputs": [
    {
     "name": "stdout",
     "output_type": "stream",
     "text": [
      "['별점 - 총 10점 중10 ', '별점 - 총 10점 중10', '별점 - 총 10점 중10', '별점 - 총 10점 중5', '별점 - 총 10점 중8', '별점 - 총 10점 중10', '별점 - 총 10점 중10', '별점 - 총 10점 중10', '별점 - 총 10점 중10', '별점 - 총 10점 중10']\n",
      "['atto****', 'hkhk****', 'zaq1****', 'been****', 'ldj8****', 'silv****', 'kenb****', 'bomt****', 'yama****', 'nurs****']\n"
     ]
    }
   ],
   "source": [
    "score = []\n",
    "writer = []\n",
    "\n",
    "for line in data:\n",
    "    item = line.split('\\t')\n",
    "    writer.append(item[2])\n",
    "    score.append(item[0])\n",
    "\n",
    "print(score)\n",
    "print(writer)"
   ]
  },
  {
   "cell_type": "code",
   "execution_count": 10,
   "metadata": {},
   "outputs": [
    {
     "name": "stdout",
     "output_type": "stream",
     "text": [
      "[10, 10, 10, 5, 8, 10, 10, 10, 10, 10]\n"
     ]
    }
   ],
   "source": [
    "for i in range(len(score)): \n",
    "    score[i] = int(score[i].replace('별점 - 총 10점 중', ''))\n",
    "    \n",
    "print(score)"
   ]
  },
  {
   "cell_type": "code",
   "execution_count": 13,
   "metadata": {},
   "outputs": [
    {
     "name": "stdout",
     "output_type": "stream",
     "text": [
      "[10, 10, 10, 5, 8, 10, 10, 10, 10, 10]\n"
     ]
    }
   ],
   "source": [
    "score = [ int(item.replace('별점 - 총 10점 중', '')) for item in score]\n",
    "\n",
    "print(score)"
   ]
  },
  {
   "cell_type": "code",
   "execution_count": 14,
   "metadata": {},
   "outputs": [
    {
     "name": "stdout",
     "output_type": "stream",
     "text": [
      "['atto', 'hkhk', 'zaq1', 'been', 'ldj8', 'silv', 'kenb', 'bomt', 'yama', 'nurs']\n"
     ]
    }
   ],
   "source": [
    "writer = [ item.replace('****', '') for item in writer]\n",
    "print(writer)"
   ]
  },
  {
   "cell_type": "code",
   "execution_count": 30,
   "metadata": {},
   "outputs": [
    {
     "name": "stdout",
     "output_type": "stream",
     "text": [
      "{'atto': 10, 'hkhk': 10, 'zaq1': 10, 'been': 5, 'ldj8': 8, 'silv': 10, 'kenb': 10, 'bomt': 10, 'yama': 10, 'nurs': 10}\n"
     ]
    }
   ],
   "source": [
    "#딕션너리 만들기 \n",
    "dt = dict(zip(writer, score))\n",
    "print(dt)"
   ]
  },
  {
   "cell_type": "code",
   "execution_count": 27,
   "metadata": {},
   "outputs": [],
   "source": [
    "key = sorted(list(set(score)))"
   ]
  },
  {
   "cell_type": "code",
   "execution_count": 28,
   "metadata": {},
   "outputs": [
    {
     "name": "stdout",
     "output_type": "stream",
     "text": [
      "[5, 8, 10]\n"
     ]
    }
   ],
   "source": [
    "print(key)"
   ]
  },
  {
   "cell_type": "code",
   "execution_count": 32,
   "metadata": {},
   "outputs": [
    {
     "name": "stdout",
     "output_type": "stream",
     "text": [
      "{5: [], 8: [], 10: []}\n"
     ]
    }
   ],
   "source": [
    "dtkey = {} \n",
    "for item in key :\n",
    "    dtkey[item] = []\n",
    "    \n",
    "print(dtkey)"
   ]
  },
  {
   "cell_type": "code",
   "execution_count": 34,
   "metadata": {},
   "outputs": [],
   "source": [
    "for key, value in dt.items():\n",
    "    dtkey[value].append(key)"
   ]
  },
  {
   "cell_type": "code",
   "execution_count": 35,
   "metadata": {},
   "outputs": [
    {
     "name": "stdout",
     "output_type": "stream",
     "text": [
      "{5: ['been'], 8: ['ldj8'], 10: ['atto', 'hkhk', 'zaq1', 'silv', 'kenb', 'bomt', 'yama', 'nurs']}\n"
     ]
    }
   ],
   "source": [
    "print(dtkey)"
   ]
  },
  {
   "cell_type": "code",
   "execution_count": 36,
   "metadata": {},
   "outputs": [
    {
     "name": "stdout",
     "output_type": "stream",
     "text": [
      "10\n"
     ]
    }
   ],
   "source": [
    "print(max(dtkey))"
   ]
  },
  {
   "cell_type": "code",
   "execution_count": 37,
   "metadata": {},
   "outputs": [
    {
     "name": "stdout",
     "output_type": "stream",
     "text": [
      "['atto', 'hkhk', 'zaq1', 'silv', 'kenb', 'bomt', 'yama', 'nurs']\n"
     ]
    }
   ],
   "source": [
    "print(dtkey[max(dtkey)])"
   ]
  },
  {
   "cell_type": "code",
   "execution_count": 38,
   "metadata": {},
   "outputs": [
    {
     "data": {
      "image/png": "[encoded data removed]",
      "text/plain": [
       "<Figure size 432x288 with 1 Axes>"
      ]
     },
     "metadata": {
      "needs_background": "light"
     },
     "output_type": "display_data"
    }
   ],
   "source": [
    "import matplotlib.pyplot as plt\n",
    "\n",
    "plt.plot(score)\n",
    "plt.show()"
   ]
  },
  {
   "cell_type": "code",
   "execution_count": 40,
   "metadata": {},
   "outputs": [
    {
     "data": {
      "image/png": "[encoded data removed]",
      "text/plain": [
       "<Figure size 432x288 with 1 Axes>"
      ]
     },
     "metadata": {
      "needs_background": "light"
     },
     "output_type": "display_data"
    }
   ],
   "source": [
    "plt.plot(writer, score, 'go-')\n",
    "plt.show()"
   ]
  },
  {
   "cell_type": "code",
   "execution_count": 45,
   "metadata": {},
   "outputs": [],
   "source": [
    "#한글 폰트 사용\n",
    "from matplotlib import font_manager, rc\n",
    "font_name = font_manager.FontProperties(fname =\"c:/Windows/Fonts/malgun.ttf\").get_name()\n",
    "rc('font', family=font_name )"
   ]
  },
  {
   "cell_type": "code",
   "execution_count": 46,
   "metadata": {},
   "outputs": [
    {
     "data": {
      "image/png": "[encoded data removed]",
      "text/plain": [
       "<Figure size 432x288 with 1 Axes>"
      ]
     },
     "metadata": {
      "needs_background": "light"
     },
     "output_type": "display_data"
    }
   ],
   "source": [
    "plt.barh(writer, score)\n",
    "plt.title('평점 현황')\n",
    "plt.show()"
   ]
  },
  {
   "cell_type": "code",
   "execution_count": null,
   "metadata": {},
   "outputs": [],
   "source": []
  }
 ],
 "metadata": {
  "kernelspec": {
   "display_name": "Python 3",
   "language": "python",
   "name": "python3"
  },
  "language_info": {
   "codemirror_mode": {
    "name": "ipython",
    "version": 3
   },
   "file_extension": ".py",
   "mimetype": "text/x-python",
   "name": "python",
   "nbconvert_exporter": "python",
   "pygments_lexer": "ipython3",
   "version": "3.7.6"
  }
 },
 "nbformat": 4,
 "nbformat_minor": 4
}
