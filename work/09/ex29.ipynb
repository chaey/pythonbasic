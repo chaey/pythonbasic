{
  "nbformat": 4,
  "nbformat_minor": 0,
  "metadata": {
    "colab": {
      "name": "ex29.ipynb",
      "provenance": [],
      "mount_file_id": "1LW1YKQEy9Zz9HGXS_IFRnDCcKfdCLvya",
      "authorship_tag": "ABX9TyPktANFbQRPWxQFOkNHWest"
    },
    "kernelspec": {
      "name": "python3",
      "display_name": "Python 3"
    }
  },
  "cells": [
    {
      "cell_type": "markdown",
      "metadata": {
        "id": "4TDx4SIej75D",
        "colab_type": "text"
      },
      "source": [
        "#Pandas 그룹화"
      ]
    },
    {
      "cell_type": "markdown",
      "metadata": {
        "id": "RWBEBNn__izA",
        "colab_type": "text"
      },
      "source": [
        "#### 시각화 모듈 및 한글 처리"
      ]
    },
    {
      "cell_type": "code",
      "metadata": {
        "id": "JLCzRJPtILpm",
        "colab_type": "code",
        "colab": {
          "base_uri": "https://localhost:8080/",
          "height": 107
        },
        "outputId": "9533904d-41ac-4e99-915b-4cd5b3eba785"
      },
      "source": [
        "#한글 폰트 사용 : colab , 런타임 다시 시작 하기\n",
        "%config InlineBackend.figure_format = 'retina'\n",
        "!apt -qq -y install fonts-nanum\n"
      ],
      "execution_count": 2,
      "outputs": [
        {
          "output_type": "stream",
          "text": [
            "fonts-nanum is already the newest version (20170925-1).\n",
            "The following package was automatically installed and is no longer required:\n",
            "  libnvidia-common-440\n",
            "Use 'apt autoremove' to remove it.\n",
            "0 upgraded, 0 newly installed, 0 to remove and 35 not upgraded.\n"
          ],
          "name": "stdout"
        }
      ]
    },
    {
      "cell_type": "code",
      "metadata": {
        "id": "VvWk67Ha_GCI",
        "colab_type": "code",
        "colab": {}
      },
      "source": [
        "#시각화 모듈\n",
        "import matplotlib\n",
        "import matplotlib.pyplot as plt\n",
        "\n",
        "#한글 폰트 사용 : vscode , window\n",
        "import matplotlib as mpl\n",
        "import matplotlib.font_manager as fm\n",
        "fontpath = '/usr/share/fonts/truetype/nanum/NanumBarunGothic.ttf'\n",
        "font = fm.FontProperties(fname=fontpath, size=9)\n",
        "plt.rc('font', family='NanumBarunGothic') \n",
        "mpl.font_manager._rebuild()\n",
        "\n",
        "#마이너스 깨지는 경우 처리\n",
        "matplotlib.rcParams['axes.unicode_minus'] = False "
      ],
      "execution_count": 4,
      "outputs": []
    },
    {
      "cell_type": "code",
      "metadata": {
        "id": "egXa3DRRADwX",
        "colab_type": "code",
        "colab": {}
      },
      "source": [
        "import pandas as pd"
      ],
      "execution_count": 5,
      "outputs": []
    },
    {
      "cell_type": "code",
      "metadata": {
        "id": "wGp2_0XjBxXB",
        "colab_type": "code",
        "colab": {}
      },
      "source": [
        "import warnings\n",
        "warnings.filterwarnings(action='ignore') "
      ],
      "execution_count": 6,
      "outputs": []
    },
    {
      "cell_type": "markdown",
      "metadata": {
        "id": "-8-04liu_r9e",
        "colab_type": "text"
      },
      "source": [
        "#### 부산시 탄소발생현황 및 구청 위치 정보 불러오기"
      ]
    },
    {
      "cell_type": "code",
      "metadata": {
        "id": "j84M6-3B__Ib",
        "colab_type": "code",
        "colab": {
          "base_uri": "https://localhost:8080/",
          "height": 204
        },
        "outputId": "48eae9b9-228c-4b58-9411-4d7d227a4f08"
      },
      "source": [
        "df = pd.read_excel('/content/drive/My Drive/PythonWork/PythonBasic/05/부산탄소발생현황.xlsx')\n",
        "df.head()"
      ],
      "execution_count": 7,
      "outputs": [
        {
          "output_type": "execute_result",
          "data": {
            "text/html": [
              "<div>\n",
              "<style scoped>\n",
              "    .dataframe tbody tr th:only-of-type {\n",
              "        vertical-align: middle;\n",
              "    }\n",
              "\n",
              "    .dataframe tbody tr th {\n",
              "        vertical-align: top;\n",
              "    }\n",
              "\n",
              "    .dataframe thead th {\n",
              "        text-align: right;\n",
              "    }\n",
              "</style>\n",
              "<table border=\"1\" class=\"dataframe\">\n",
              "  <thead>\n",
              "    <tr style=\"text-align: right;\">\n",
              "      <th></th>\n",
              "      <th>연도</th>\n",
              "      <th>용도명</th>\n",
              "      <th>구명</th>\n",
              "      <th>동명</th>\n",
              "      <th>배출량원단위(전기)</th>\n",
              "      <th>배출량원단위(가스)</th>\n",
              "      <th>배출량원단위(지역난방)</th>\n",
              "    </tr>\n",
              "  </thead>\n",
              "  <tbody>\n",
              "    <tr>\n",
              "      <th>0</th>\n",
              "      <td>2013</td>\n",
              "      <td>공동주택</td>\n",
              "      <td>사하구</td>\n",
              "      <td>괴정동</td>\n",
              "      <td>3.782</td>\n",
              "      <td>0.000</td>\n",
              "      <td>0.0</td>\n",
              "    </tr>\n",
              "    <tr>\n",
              "      <th>1</th>\n",
              "      <td>2013</td>\n",
              "      <td>-</td>\n",
              "      <td>연제구</td>\n",
              "      <td>연산동</td>\n",
              "      <td>0.200</td>\n",
              "      <td>0.000</td>\n",
              "      <td>0.0</td>\n",
              "    </tr>\n",
              "    <tr>\n",
              "      <th>2</th>\n",
              "      <td>2013</td>\n",
              "      <td>단독주택</td>\n",
              "      <td>부산진구</td>\n",
              "      <td>전포동</td>\n",
              "      <td>15.977</td>\n",
              "      <td>0.000</td>\n",
              "      <td>0.0</td>\n",
              "    </tr>\n",
              "    <tr>\n",
              "      <th>3</th>\n",
              "      <td>2013</td>\n",
              "      <td>단독주택</td>\n",
              "      <td>사하구</td>\n",
              "      <td>하단동</td>\n",
              "      <td>0.000</td>\n",
              "      <td>3.512</td>\n",
              "      <td>0.0</td>\n",
              "    </tr>\n",
              "    <tr>\n",
              "      <th>4</th>\n",
              "      <td>2013</td>\n",
              "      <td>단독주택</td>\n",
              "      <td>부산진구</td>\n",
              "      <td>부암동</td>\n",
              "      <td>0.000</td>\n",
              "      <td>5.569</td>\n",
              "      <td>0.0</td>\n",
              "    </tr>\n",
              "  </tbody>\n",
              "</table>\n",
              "</div>"
            ],
            "text/plain": [
              "     연도   용도명    구명   동명  배출량원단위(전기)  배출량원단위(가스)  배출량원단위(지역난방)\n",
              "0  2013  공동주택   사하구  괴정동       3.782       0.000           0.0\n",
              "1  2013     -   연제구  연산동       0.200       0.000           0.0\n",
              "2  2013  단독주택  부산진구  전포동      15.977       0.000           0.0\n",
              "3  2013  단독주택   사하구  하단동       0.000       3.512           0.0\n",
              "4  2013  단독주택  부산진구  부암동       0.000       5.569           0.0"
            ]
          },
          "metadata": {
            "tags": []
          },
          "execution_count": 7
        }
      ]
    },
    {
      "cell_type": "code",
      "metadata": {
        "id": "SNljV58Aus1O",
        "colab_type": "code",
        "colab": {
          "base_uri": "https://localhost:8080/",
          "height": 269
        },
        "outputId": "65e61f7d-fc85-4a9a-962f-2ee67669a17f"
      },
      "source": [
        "df.info()"
      ],
      "execution_count": 8,
      "outputs": [
        {
          "output_type": "stream",
          "text": [
            "<class 'pandas.core.frame.DataFrame'>\n",
            "RangeIndex: 5000 entries, 0 to 4999\n",
            "Data columns (total 7 columns):\n",
            " #   Column        Non-Null Count  Dtype  \n",
            "---  ------        --------------  -----  \n",
            " 0   연도            5000 non-null   int64  \n",
            " 1   용도명           5000 non-null   object \n",
            " 2   구명            5000 non-null   object \n",
            " 3   동명            5000 non-null   object \n",
            " 4   배출량원단위(전기)    5000 non-null   float64\n",
            " 5   배출량원단위(가스)    5000 non-null   float64\n",
            " 6   배출량원단위(지역난방)  5000 non-null   float64\n",
            "dtypes: float64(3), int64(1), object(3)\n",
            "memory usage: 273.6+ KB\n"
          ],
          "name": "stdout"
        }
      ]
    },
    {
      "cell_type": "code",
      "metadata": {
        "id": "SCLLhIi4uhWa",
        "colab_type": "code",
        "colab": {
          "base_uri": "https://localhost:8080/",
          "height": 204
        },
        "outputId": "febe4e3e-5adf-4ad3-ac0c-e00932b415d6"
      },
      "source": [
        "dfloc = pd.read_excel('/content/drive/My Drive/PythonWork/PythonBasic/05/부산구청.xlsx')\n",
        "dfloc.head()"
      ],
      "execution_count": 36,
      "outputs": [
        {
          "output_type": "execute_result",
          "data": {
            "text/html": [
              "<div>\n",
              "<style scoped>\n",
              "    .dataframe tbody tr th:only-of-type {\n",
              "        vertical-align: middle;\n",
              "    }\n",
              "\n",
              "    .dataframe tbody tr th {\n",
              "        vertical-align: top;\n",
              "    }\n",
              "\n",
              "    .dataframe thead th {\n",
              "        text-align: right;\n",
              "    }\n",
              "</style>\n",
              "<table border=\"1\" class=\"dataframe\">\n",
              "  <thead>\n",
              "    <tr style=\"text-align: right;\">\n",
              "      <th></th>\n",
              "      <th>항목</th>\n",
              "      <th>위도</th>\n",
              "      <th>경도</th>\n",
              "    </tr>\n",
              "  </thead>\n",
              "  <tbody>\n",
              "    <tr>\n",
              "      <th>0</th>\n",
              "      <td>중구</td>\n",
              "      <td>35.106609</td>\n",
              "      <td>129.030064</td>\n",
              "    </tr>\n",
              "    <tr>\n",
              "      <th>1</th>\n",
              "      <td>서구</td>\n",
              "      <td>35.097924</td>\n",
              "      <td>129.022010</td>\n",
              "    </tr>\n",
              "    <tr>\n",
              "      <th>2</th>\n",
              "      <td>동구</td>\n",
              "      <td>35.129344</td>\n",
              "      <td>129.043314</td>\n",
              "    </tr>\n",
              "    <tr>\n",
              "      <th>3</th>\n",
              "      <td>영도구</td>\n",
              "      <td>35.091212</td>\n",
              "      <td>129.065700</td>\n",
              "    </tr>\n",
              "    <tr>\n",
              "      <th>4</th>\n",
              "      <td>부산진구</td>\n",
              "      <td>35.163087</td>\n",
              "      <td>129.051213</td>\n",
              "    </tr>\n",
              "  </tbody>\n",
              "</table>\n",
              "</div>"
            ],
            "text/plain": [
              "      항목         위도          경도\n",
              "0     중구  35.106609  129.030064\n",
              "1     서구  35.097924  129.022010\n",
              "2     동구  35.129344  129.043314\n",
              "3    영도구  35.091212  129.065700\n",
              "4  부산진구   35.163087  129.051213"
            ]
          },
          "metadata": {
            "tags": []
          },
          "execution_count": 36
        }
      ]
    },
    {
      "cell_type": "markdown",
      "metadata": {
        "id": "Pm4EP88RwGyP",
        "colab_type": "text"
      },
      "source": [
        "### 그룹화\n",
        "+ **.groupby()**\n",
        " - 집단에 대한 통계량 확인 \n",
        " \n",
        " <img src=\"https://s3.amazonaws.com/files.dezyre.com/images/Tutorials/Split+Apply+Combine+Strategy.png\" width=\"250\" height=\"160\">"
      ]
    },
    {
      "cell_type": "code",
      "metadata": {
        "id": "xTtyL1g-wZt7",
        "colab_type": "code",
        "colab": {
          "base_uri": "https://localhost:8080/",
          "height": 263
        },
        "outputId": "766d1924-a711-43ea-cca7-277df50158c9"
      },
      "source": [
        "df.info()"
      ],
      "execution_count": null,
      "outputs": [
        {
          "output_type": "stream",
          "text": [
            "<class 'pandas.core.frame.DataFrame'>\n",
            "RangeIndex: 5000 entries, 0 to 4999\n",
            "Data columns (total 7 columns):\n",
            " #   Column        Non-Null Count  Dtype  \n",
            "---  ------        --------------  -----  \n",
            " 0   연도            5000 non-null   int64  \n",
            " 1   용도명           5000 non-null   object \n",
            " 2   구명            5000 non-null   object \n",
            " 3   동명            5000 non-null   object \n",
            " 4   배출량원단위(전기)    5000 non-null   float64\n",
            " 5   배출량원단위(가스)    5000 non-null   float64\n",
            " 6   배출량원단위(지역난방)  5000 non-null   float64\n",
            "dtypes: float64(3), int64(1), object(3)\n",
            "memory usage: 273.6+ KB\n"
          ],
          "name": "stdout"
        }
      ]
    },
    {
      "cell_type": "code",
      "metadata": {
        "id": "6nACtG351mtW",
        "colab_type": "code",
        "colab": {}
      },
      "source": [
        "df.columns = ['연도', '용도명', '구명', '동명', '전기', '가스', '지역난방']"
      ],
      "execution_count": 29,
      "outputs": []
    },
    {
      "cell_type": "code",
      "metadata": {
        "id": "bHW0IzHl13lw",
        "colab_type": "code",
        "colab": {
          "base_uri": "https://localhost:8080/",
          "height": 269
        },
        "outputId": "5f876838-cc54-452b-edf5-8feaf80a9f19"
      },
      "source": [
        "df.info()"
      ],
      "execution_count": 37,
      "outputs": [
        {
          "output_type": "stream",
          "text": [
            "<class 'pandas.core.frame.DataFrame'>\n",
            "RangeIndex: 5000 entries, 0 to 4999\n",
            "Data columns (total 7 columns):\n",
            " #   Column  Non-Null Count  Dtype  \n",
            "---  ------  --------------  -----  \n",
            " 0   연도      5000 non-null   int64  \n",
            " 1   용도명     5000 non-null   object \n",
            " 2   구명      5000 non-null   object \n",
            " 3   동명      5000 non-null   object \n",
            " 4   전기      5000 non-null   float64\n",
            " 5   가스      5000 non-null   float64\n",
            " 6   지역난방    5000 non-null   float64\n",
            "dtypes: float64(3), int64(1), object(3)\n",
            "memory usage: 273.6+ KB\n"
          ],
          "name": "stdout"
        }
      ]
    },
    {
      "cell_type": "code",
      "metadata": {
        "id": "3IF_1sUkH6nQ",
        "colab_type": "code",
        "colab": {}
      },
      "source": [
        "dfg = df.groupby('구명')['전기','가스','지역난방'].mean()"
      ],
      "execution_count": 57,
      "outputs": []
    },
    {
      "cell_type": "code",
      "metadata": {
        "id": "q_c_xN_NIr3u",
        "colab_type": "code",
        "colab": {
          "base_uri": "https://localhost:8080/",
          "height": 576
        },
        "outputId": "dfebb9c7-585d-4ed9-9955-e833536715c4"
      },
      "source": [
        "dfg"
      ],
      "execution_count": 58,
      "outputs": [
        {
          "output_type": "execute_result",
          "data": {
            "text/html": [
              "<div>\n",
              "<style scoped>\n",
              "    .dataframe tbody tr th:only-of-type {\n",
              "        vertical-align: middle;\n",
              "    }\n",
              "\n",
              "    .dataframe tbody tr th {\n",
              "        vertical-align: top;\n",
              "    }\n",
              "\n",
              "    .dataframe thead th {\n",
              "        text-align: right;\n",
              "    }\n",
              "</style>\n",
              "<table border=\"1\" class=\"dataframe\">\n",
              "  <thead>\n",
              "    <tr style=\"text-align: right;\">\n",
              "      <th></th>\n",
              "      <th>전기</th>\n",
              "      <th>가스</th>\n",
              "      <th>지역난방</th>\n",
              "    </tr>\n",
              "    <tr>\n",
              "      <th>구명</th>\n",
              "      <th></th>\n",
              "      <th></th>\n",
              "      <th></th>\n",
              "    </tr>\n",
              "  </thead>\n",
              "  <tbody>\n",
              "    <tr>\n",
              "      <th>강서구</th>\n",
              "      <td>1.637256</td>\n",
              "      <td>2.558892</td>\n",
              "      <td>9.093517</td>\n",
              "    </tr>\n",
              "    <tr>\n",
              "      <th>금정구</th>\n",
              "      <td>5.738754</td>\n",
              "      <td>5.152858</td>\n",
              "      <td>1.908517</td>\n",
              "    </tr>\n",
              "    <tr>\n",
              "      <th>기장군</th>\n",
              "      <td>2.046715</td>\n",
              "      <td>6.983860</td>\n",
              "      <td>1.741740</td>\n",
              "    </tr>\n",
              "    <tr>\n",
              "      <th>남구</th>\n",
              "      <td>3.382481</td>\n",
              "      <td>2.370365</td>\n",
              "      <td>1.494403</td>\n",
              "    </tr>\n",
              "    <tr>\n",
              "      <th>동구</th>\n",
              "      <td>13.437295</td>\n",
              "      <td>1.806143</td>\n",
              "      <td>0.552283</td>\n",
              "    </tr>\n",
              "    <tr>\n",
              "      <th>동래구</th>\n",
              "      <td>7.537049</td>\n",
              "      <td>3.725948</td>\n",
              "      <td>3.129478</td>\n",
              "    </tr>\n",
              "    <tr>\n",
              "      <th>부산진구</th>\n",
              "      <td>7.405469</td>\n",
              "      <td>17.551699</td>\n",
              "      <td>1.603519</td>\n",
              "    </tr>\n",
              "    <tr>\n",
              "      <th>북구</th>\n",
              "      <td>8.738386</td>\n",
              "      <td>17.966486</td>\n",
              "      <td>3.697347</td>\n",
              "    </tr>\n",
              "    <tr>\n",
              "      <th>사상구</th>\n",
              "      <td>6.423692</td>\n",
              "      <td>23.486733</td>\n",
              "      <td>1.280364</td>\n",
              "    </tr>\n",
              "    <tr>\n",
              "      <th>사하구</th>\n",
              "      <td>4.348179</td>\n",
              "      <td>3.029733</td>\n",
              "      <td>2.605370</td>\n",
              "    </tr>\n",
              "    <tr>\n",
              "      <th>서구</th>\n",
              "      <td>3.663406</td>\n",
              "      <td>16.548430</td>\n",
              "      <td>2.087043</td>\n",
              "    </tr>\n",
              "    <tr>\n",
              "      <th>수영구</th>\n",
              "      <td>5.235528</td>\n",
              "      <td>8.940113</td>\n",
              "      <td>1.732688</td>\n",
              "    </tr>\n",
              "    <tr>\n",
              "      <th>연제구</th>\n",
              "      <td>8.099686</td>\n",
              "      <td>5.186586</td>\n",
              "      <td>4.891795</td>\n",
              "    </tr>\n",
              "    <tr>\n",
              "      <th>영도구</th>\n",
              "      <td>2.930254</td>\n",
              "      <td>6.368535</td>\n",
              "      <td>0.380711</td>\n",
              "    </tr>\n",
              "    <tr>\n",
              "      <th>중구</th>\n",
              "      <td>5.947992</td>\n",
              "      <td>2.733571</td>\n",
              "      <td>0.378331</td>\n",
              "    </tr>\n",
              "    <tr>\n",
              "      <th>해운대구</th>\n",
              "      <td>16.444057</td>\n",
              "      <td>24.118187</td>\n",
              "      <td>7.307480</td>\n",
              "    </tr>\n",
              "  </tbody>\n",
              "</table>\n",
              "</div>"
            ],
            "text/plain": [
              "             전기         가스      지역난방\n",
              "구명                                  \n",
              "강서구    1.637256   2.558892  9.093517\n",
              "금정구    5.738754   5.152858  1.908517\n",
              "기장군    2.046715   6.983860  1.741740\n",
              "남구     3.382481   2.370365  1.494403\n",
              "동구    13.437295   1.806143  0.552283\n",
              "동래구    7.537049   3.725948  3.129478\n",
              "부산진구   7.405469  17.551699  1.603519\n",
              "북구     8.738386  17.966486  3.697347\n",
              "사상구    6.423692  23.486733  1.280364\n",
              "사하구    4.348179   3.029733  2.605370\n",
              "서구     3.663406  16.548430  2.087043\n",
              "수영구    5.235528   8.940113  1.732688\n",
              "연제구    8.099686   5.186586  4.891795\n",
              "영도구    2.930254   6.368535  0.380711\n",
              "중구     5.947992   2.733571  0.378331\n",
              "해운대구  16.444057  24.118187  7.307480"
            ]
          },
          "metadata": {
            "tags": []
          },
          "execution_count": 58
        }
      ]
    },
    {
      "cell_type": "code",
      "metadata": {
        "id": "AkoTO5_8Jda4",
        "colab_type": "code",
        "colab": {
          "base_uri": "https://localhost:8080/",
          "height": 197
        },
        "outputId": "c998cb03-6c51-4d6d-d3de-752d5a5308f8"
      },
      "source": [
        "dfg.info()"
      ],
      "execution_count": 40,
      "outputs": [
        {
          "output_type": "stream",
          "text": [
            "<class 'pandas.core.frame.DataFrame'>\n",
            "Index: 16 entries, 강서구 to 해운대구\n",
            "Data columns (total 3 columns):\n",
            " #   Column  Non-Null Count  Dtype  \n",
            "---  ------  --------------  -----  \n",
            " 0   전기      16 non-null     float64\n",
            " 1   가스      16 non-null     float64\n",
            " 2   지역난방    16 non-null     float64\n",
            "dtypes: float64(3)\n",
            "memory usage: 512.0+ bytes\n"
          ],
          "name": "stdout"
        }
      ]
    },
    {
      "cell_type": "code",
      "metadata": {
        "id": "lIhXU0AgJiUm",
        "colab_type": "code",
        "colab": {
          "base_uri": "https://localhost:8080/",
          "height": 197
        },
        "outputId": "209fc410-9a45-4965-b418-af9cdd9f77c7"
      },
      "source": [
        "dfloc.info()"
      ],
      "execution_count": 41,
      "outputs": [
        {
          "output_type": "stream",
          "text": [
            "<class 'pandas.core.frame.DataFrame'>\n",
            "RangeIndex: 16 entries, 0 to 15\n",
            "Data columns (total 3 columns):\n",
            " #   Column  Non-Null Count  Dtype  \n",
            "---  ------  --------------  -----  \n",
            " 0   항목      16 non-null     object \n",
            " 1   위도      16 non-null     float64\n",
            " 2   경도      16 non-null     float64\n",
            "dtypes: float64(2), object(1)\n",
            "memory usage: 512.0+ bytes\n"
          ],
          "name": "stdout"
        }
      ]
    },
    {
      "cell_type": "code",
      "metadata": {
        "id": "9R_UYppUJ03I",
        "colab_type": "code",
        "colab": {
          "base_uri": "https://localhost:8080/",
          "height": 235
        },
        "outputId": "a24cba41-5758-406a-9936-ec43c0386bdd"
      },
      "source": [
        "dfg.head()"
      ],
      "execution_count": 42,
      "outputs": [
        {
          "output_type": "execute_result",
          "data": {
            "text/html": [
              "<div>\n",
              "<style scoped>\n",
              "    .dataframe tbody tr th:only-of-type {\n",
              "        vertical-align: middle;\n",
              "    }\n",
              "\n",
              "    .dataframe tbody tr th {\n",
              "        vertical-align: top;\n",
              "    }\n",
              "\n",
              "    .dataframe thead th {\n",
              "        text-align: right;\n",
              "    }\n",
              "</style>\n",
              "<table border=\"1\" class=\"dataframe\">\n",
              "  <thead>\n",
              "    <tr style=\"text-align: right;\">\n",
              "      <th></th>\n",
              "      <th>전기</th>\n",
              "      <th>가스</th>\n",
              "      <th>지역난방</th>\n",
              "    </tr>\n",
              "    <tr>\n",
              "      <th>구명</th>\n",
              "      <th></th>\n",
              "      <th></th>\n",
              "      <th></th>\n",
              "    </tr>\n",
              "  </thead>\n",
              "  <tbody>\n",
              "    <tr>\n",
              "      <th>강서구</th>\n",
              "      <td>1.637256</td>\n",
              "      <td>2.558892</td>\n",
              "      <td>9.093517</td>\n",
              "    </tr>\n",
              "    <tr>\n",
              "      <th>금정구</th>\n",
              "      <td>5.738754</td>\n",
              "      <td>5.152858</td>\n",
              "      <td>1.908517</td>\n",
              "    </tr>\n",
              "    <tr>\n",
              "      <th>기장군</th>\n",
              "      <td>2.046715</td>\n",
              "      <td>6.983860</td>\n",
              "      <td>1.741740</td>\n",
              "    </tr>\n",
              "    <tr>\n",
              "      <th>남구</th>\n",
              "      <td>3.382481</td>\n",
              "      <td>2.370365</td>\n",
              "      <td>1.494403</td>\n",
              "    </tr>\n",
              "    <tr>\n",
              "      <th>동구</th>\n",
              "      <td>13.437295</td>\n",
              "      <td>1.806143</td>\n",
              "      <td>0.552283</td>\n",
              "    </tr>\n",
              "  </tbody>\n",
              "</table>\n",
              "</div>"
            ],
            "text/plain": [
              "            전기        가스      지역난방\n",
              "구명                                \n",
              "강서구   1.637256  2.558892  9.093517\n",
              "금정구   5.738754  5.152858  1.908517\n",
              "기장군   2.046715  6.983860  1.741740\n",
              "남구    3.382481  2.370365  1.494403\n",
              "동구   13.437295  1.806143  0.552283"
            ]
          },
          "metadata": {
            "tags": []
          },
          "execution_count": 42
        }
      ]
    },
    {
      "cell_type": "code",
      "metadata": {
        "id": "bPEnSiAL3It2",
        "colab_type": "code",
        "colab": {
          "base_uri": "https://localhost:8080/",
          "height": 204
        },
        "outputId": "96c6c6cf-abc7-4332-93b0-0e8ae7429429"
      },
      "source": [
        "dfloc.head()"
      ],
      "execution_count": 43,
      "outputs": [
        {
          "output_type": "execute_result",
          "data": {
            "text/html": [
              "<div>\n",
              "<style scoped>\n",
              "    .dataframe tbody tr th:only-of-type {\n",
              "        vertical-align: middle;\n",
              "    }\n",
              "\n",
              "    .dataframe tbody tr th {\n",
              "        vertical-align: top;\n",
              "    }\n",
              "\n",
              "    .dataframe thead th {\n",
              "        text-align: right;\n",
              "    }\n",
              "</style>\n",
              "<table border=\"1\" class=\"dataframe\">\n",
              "  <thead>\n",
              "    <tr style=\"text-align: right;\">\n",
              "      <th></th>\n",
              "      <th>항목</th>\n",
              "      <th>위도</th>\n",
              "      <th>경도</th>\n",
              "    </tr>\n",
              "  </thead>\n",
              "  <tbody>\n",
              "    <tr>\n",
              "      <th>0</th>\n",
              "      <td>중구</td>\n",
              "      <td>35.106609</td>\n",
              "      <td>129.030064</td>\n",
              "    </tr>\n",
              "    <tr>\n",
              "      <th>1</th>\n",
              "      <td>서구</td>\n",
              "      <td>35.097924</td>\n",
              "      <td>129.022010</td>\n",
              "    </tr>\n",
              "    <tr>\n",
              "      <th>2</th>\n",
              "      <td>동구</td>\n",
              "      <td>35.129344</td>\n",
              "      <td>129.043314</td>\n",
              "    </tr>\n",
              "    <tr>\n",
              "      <th>3</th>\n",
              "      <td>영도구</td>\n",
              "      <td>35.091212</td>\n",
              "      <td>129.065700</td>\n",
              "    </tr>\n",
              "    <tr>\n",
              "      <th>4</th>\n",
              "      <td>부산진구</td>\n",
              "      <td>35.163087</td>\n",
              "      <td>129.051213</td>\n",
              "    </tr>\n",
              "  </tbody>\n",
              "</table>\n",
              "</div>"
            ],
            "text/plain": [
              "      항목         위도          경도\n",
              "0     중구  35.106609  129.030064\n",
              "1     서구  35.097924  129.022010\n",
              "2     동구  35.129344  129.043314\n",
              "3    영도구  35.091212  129.065700\n",
              "4  부산진구   35.163087  129.051213"
            ]
          },
          "metadata": {
            "tags": []
          },
          "execution_count": 43
        }
      ]
    },
    {
      "cell_type": "markdown",
      "metadata": {
        "id": "GzY43jfU4uhA",
        "colab_type": "text"
      },
      "source": [
        "### 데이터 연결하기\n",
        "+ **pd.concat()**\n",
        " - 기준 열(key column)을 사용하지 않고 단순히 데이터를 연결(concatenate)\n",
        " - Index를 기준으로 합침\n",
        " - 열방향으로 연결하기 : axis=1"
      ]
    },
    {
      "cell_type": "code",
      "metadata": {
        "id": "t9nLe6Hq5k2f",
        "colab_type": "code",
        "colab": {
          "base_uri": "https://localhost:8080/",
          "height": 1000
        },
        "outputId": "ab8ca202-7d7a-496e-cf86-50f9fbca0be6"
      },
      "source": [
        "dfarea = pd.concat([dfg, dfloc])\n",
        "dfarea"
      ],
      "execution_count": 44,
      "outputs": [
        {
          "output_type": "execute_result",
          "data": {
            "text/html": [
              "<div>\n",
              "<style scoped>\n",
              "    .dataframe tbody tr th:only-of-type {\n",
              "        vertical-align: middle;\n",
              "    }\n",
              "\n",
              "    .dataframe tbody tr th {\n",
              "        vertical-align: top;\n",
              "    }\n",
              "\n",
              "    .dataframe thead th {\n",
              "        text-align: right;\n",
              "    }\n",
              "</style>\n",
              "<table border=\"1\" class=\"dataframe\">\n",
              "  <thead>\n",
              "    <tr style=\"text-align: right;\">\n",
              "      <th></th>\n",
              "      <th>전기</th>\n",
              "      <th>가스</th>\n",
              "      <th>지역난방</th>\n",
              "      <th>항목</th>\n",
              "      <th>위도</th>\n",
              "      <th>경도</th>\n",
              "    </tr>\n",
              "  </thead>\n",
              "  <tbody>\n",
              "    <tr>\n",
              "      <th>강서구</th>\n",
              "      <td>1.637256</td>\n",
              "      <td>2.558892</td>\n",
              "      <td>9.093517</td>\n",
              "      <td>NaN</td>\n",
              "      <td>NaN</td>\n",
              "      <td>NaN</td>\n",
              "    </tr>\n",
              "    <tr>\n",
              "      <th>금정구</th>\n",
              "      <td>5.738754</td>\n",
              "      <td>5.152858</td>\n",
              "      <td>1.908517</td>\n",
              "      <td>NaN</td>\n",
              "      <td>NaN</td>\n",
              "      <td>NaN</td>\n",
              "    </tr>\n",
              "    <tr>\n",
              "      <th>기장군</th>\n",
              "      <td>2.046715</td>\n",
              "      <td>6.983860</td>\n",
              "      <td>1.741740</td>\n",
              "      <td>NaN</td>\n",
              "      <td>NaN</td>\n",
              "      <td>NaN</td>\n",
              "    </tr>\n",
              "    <tr>\n",
              "      <th>남구</th>\n",
              "      <td>3.382481</td>\n",
              "      <td>2.370365</td>\n",
              "      <td>1.494403</td>\n",
              "      <td>NaN</td>\n",
              "      <td>NaN</td>\n",
              "      <td>NaN</td>\n",
              "    </tr>\n",
              "    <tr>\n",
              "      <th>동구</th>\n",
              "      <td>13.437295</td>\n",
              "      <td>1.806143</td>\n",
              "      <td>0.552283</td>\n",
              "      <td>NaN</td>\n",
              "      <td>NaN</td>\n",
              "      <td>NaN</td>\n",
              "    </tr>\n",
              "    <tr>\n",
              "      <th>동래구</th>\n",
              "      <td>7.537049</td>\n",
              "      <td>3.725948</td>\n",
              "      <td>3.129478</td>\n",
              "      <td>NaN</td>\n",
              "      <td>NaN</td>\n",
              "      <td>NaN</td>\n",
              "    </tr>\n",
              "    <tr>\n",
              "      <th>부산진구</th>\n",
              "      <td>7.405469</td>\n",
              "      <td>17.551699</td>\n",
              "      <td>1.603519</td>\n",
              "      <td>NaN</td>\n",
              "      <td>NaN</td>\n",
              "      <td>NaN</td>\n",
              "    </tr>\n",
              "    <tr>\n",
              "      <th>북구</th>\n",
              "      <td>8.738386</td>\n",
              "      <td>17.966486</td>\n",
              "      <td>3.697347</td>\n",
              "      <td>NaN</td>\n",
              "      <td>NaN</td>\n",
              "      <td>NaN</td>\n",
              "    </tr>\n",
              "    <tr>\n",
              "      <th>사상구</th>\n",
              "      <td>6.423692</td>\n",
              "      <td>23.486733</td>\n",
              "      <td>1.280364</td>\n",
              "      <td>NaN</td>\n",
              "      <td>NaN</td>\n",
              "      <td>NaN</td>\n",
              "    </tr>\n",
              "    <tr>\n",
              "      <th>사하구</th>\n",
              "      <td>4.348179</td>\n",
              "      <td>3.029733</td>\n",
              "      <td>2.605370</td>\n",
              "      <td>NaN</td>\n",
              "      <td>NaN</td>\n",
              "      <td>NaN</td>\n",
              "    </tr>\n",
              "    <tr>\n",
              "      <th>서구</th>\n",
              "      <td>3.663406</td>\n",
              "      <td>16.548430</td>\n",
              "      <td>2.087043</td>\n",
              "      <td>NaN</td>\n",
              "      <td>NaN</td>\n",
              "      <td>NaN</td>\n",
              "    </tr>\n",
              "    <tr>\n",
              "      <th>수영구</th>\n",
              "      <td>5.235528</td>\n",
              "      <td>8.940113</td>\n",
              "      <td>1.732688</td>\n",
              "      <td>NaN</td>\n",
              "      <td>NaN</td>\n",
              "      <td>NaN</td>\n",
              "    </tr>\n",
              "    <tr>\n",
              "      <th>연제구</th>\n",
              "      <td>8.099686</td>\n",
              "      <td>5.186586</td>\n",
              "      <td>4.891795</td>\n",
              "      <td>NaN</td>\n",
              "      <td>NaN</td>\n",
              "      <td>NaN</td>\n",
              "    </tr>\n",
              "    <tr>\n",
              "      <th>영도구</th>\n",
              "      <td>2.930254</td>\n",
              "      <td>6.368535</td>\n",
              "      <td>0.380711</td>\n",
              "      <td>NaN</td>\n",
              "      <td>NaN</td>\n",
              "      <td>NaN</td>\n",
              "    </tr>\n",
              "    <tr>\n",
              "      <th>중구</th>\n",
              "      <td>5.947992</td>\n",
              "      <td>2.733571</td>\n",
              "      <td>0.378331</td>\n",
              "      <td>NaN</td>\n",
              "      <td>NaN</td>\n",
              "      <td>NaN</td>\n",
              "    </tr>\n",
              "    <tr>\n",
              "      <th>해운대구</th>\n",
              "      <td>16.444057</td>\n",
              "      <td>24.118187</td>\n",
              "      <td>7.307480</td>\n",
              "      <td>NaN</td>\n",
              "      <td>NaN</td>\n",
              "      <td>NaN</td>\n",
              "    </tr>\n",
              "    <tr>\n",
              "      <th>0</th>\n",
              "      <td>NaN</td>\n",
              "      <td>NaN</td>\n",
              "      <td>NaN</td>\n",
              "      <td>중구</td>\n",
              "      <td>35.106609</td>\n",
              "      <td>129.030064</td>\n",
              "    </tr>\n",
              "    <tr>\n",
              "      <th>1</th>\n",
              "      <td>NaN</td>\n",
              "      <td>NaN</td>\n",
              "      <td>NaN</td>\n",
              "      <td>서구</td>\n",
              "      <td>35.097924</td>\n",
              "      <td>129.022010</td>\n",
              "    </tr>\n",
              "    <tr>\n",
              "      <th>2</th>\n",
              "      <td>NaN</td>\n",
              "      <td>NaN</td>\n",
              "      <td>NaN</td>\n",
              "      <td>동구</td>\n",
              "      <td>35.129344</td>\n",
              "      <td>129.043314</td>\n",
              "    </tr>\n",
              "    <tr>\n",
              "      <th>3</th>\n",
              "      <td>NaN</td>\n",
              "      <td>NaN</td>\n",
              "      <td>NaN</td>\n",
              "      <td>영도구</td>\n",
              "      <td>35.091212</td>\n",
              "      <td>129.065700</td>\n",
              "    </tr>\n",
              "    <tr>\n",
              "      <th>4</th>\n",
              "      <td>NaN</td>\n",
              "      <td>NaN</td>\n",
              "      <td>NaN</td>\n",
              "      <td>부산진구</td>\n",
              "      <td>35.163087</td>\n",
              "      <td>129.051213</td>\n",
              "    </tr>\n",
              "    <tr>\n",
              "      <th>5</th>\n",
              "      <td>NaN</td>\n",
              "      <td>NaN</td>\n",
              "      <td>NaN</td>\n",
              "      <td>동래구</td>\n",
              "      <td>35.204841</td>\n",
              "      <td>129.081425</td>\n",
              "    </tr>\n",
              "    <tr>\n",
              "      <th>6</th>\n",
              "      <td>NaN</td>\n",
              "      <td>NaN</td>\n",
              "      <td>NaN</td>\n",
              "      <td>남구</td>\n",
              "      <td>35.136578</td>\n",
              "      <td>129.082053</td>\n",
              "    </tr>\n",
              "    <tr>\n",
              "      <th>7</th>\n",
              "      <td>NaN</td>\n",
              "      <td>NaN</td>\n",
              "      <td>NaN</td>\n",
              "      <td>북구</td>\n",
              "      <td>35.198325</td>\n",
              "      <td>128.987705</td>\n",
              "    </tr>\n",
              "    <tr>\n",
              "      <th>8</th>\n",
              "      <td>NaN</td>\n",
              "      <td>NaN</td>\n",
              "      <td>NaN</td>\n",
              "      <td>해운대구</td>\n",
              "      <td>35.163106</td>\n",
              "      <td>129.161390</td>\n",
              "    </tr>\n",
              "    <tr>\n",
              "      <th>9</th>\n",
              "      <td>NaN</td>\n",
              "      <td>NaN</td>\n",
              "      <td>NaN</td>\n",
              "      <td>사하구</td>\n",
              "      <td>35.104451</td>\n",
              "      <td>128.972650</td>\n",
              "    </tr>\n",
              "    <tr>\n",
              "      <th>10</th>\n",
              "      <td>NaN</td>\n",
              "      <td>NaN</td>\n",
              "      <td>NaN</td>\n",
              "      <td>금정구</td>\n",
              "      <td>35.242974</td>\n",
              "      <td>129.089958</td>\n",
              "    </tr>\n",
              "    <tr>\n",
              "      <th>11</th>\n",
              "      <td>NaN</td>\n",
              "      <td>NaN</td>\n",
              "      <td>NaN</td>\n",
              "      <td>강서구</td>\n",
              "      <td>35.212231</td>\n",
              "      <td>128.978379</td>\n",
              "    </tr>\n",
              "    <tr>\n",
              "      <th>12</th>\n",
              "      <td>NaN</td>\n",
              "      <td>NaN</td>\n",
              "      <td>NaN</td>\n",
              "      <td>연제구</td>\n",
              "      <td>35.176504</td>\n",
              "      <td>129.077611</td>\n",
              "    </tr>\n",
              "    <tr>\n",
              "      <th>13</th>\n",
              "      <td>NaN</td>\n",
              "      <td>NaN</td>\n",
              "      <td>NaN</td>\n",
              "      <td>수영구</td>\n",
              "      <td>35.145615</td>\n",
              "      <td>129.110889</td>\n",
              "    </tr>\n",
              "    <tr>\n",
              "      <th>14</th>\n",
              "      <td>NaN</td>\n",
              "      <td>NaN</td>\n",
              "      <td>NaN</td>\n",
              "      <td>사상구</td>\n",
              "      <td>35.152640</td>\n",
              "      <td>128.988623</td>\n",
              "    </tr>\n",
              "    <tr>\n",
              "      <th>15</th>\n",
              "      <td>NaN</td>\n",
              "      <td>NaN</td>\n",
              "      <td>NaN</td>\n",
              "      <td>기장군</td>\n",
              "      <td>35.244600</td>\n",
              "      <td>129.220059</td>\n",
              "    </tr>\n",
              "  </tbody>\n",
              "</table>\n",
              "</div>"
            ],
            "text/plain": [
              "             전기         가스      지역난방     항목         위도          경도\n",
              "강서구    1.637256   2.558892  9.093517    NaN        NaN         NaN\n",
              "금정구    5.738754   5.152858  1.908517    NaN        NaN         NaN\n",
              "기장군    2.046715   6.983860  1.741740    NaN        NaN         NaN\n",
              "남구     3.382481   2.370365  1.494403    NaN        NaN         NaN\n",
              "동구    13.437295   1.806143  0.552283    NaN        NaN         NaN\n",
              "동래구    7.537049   3.725948  3.129478    NaN        NaN         NaN\n",
              "부산진구   7.405469  17.551699  1.603519    NaN        NaN         NaN\n",
              "북구     8.738386  17.966486  3.697347    NaN        NaN         NaN\n",
              "사상구    6.423692  23.486733  1.280364    NaN        NaN         NaN\n",
              "사하구    4.348179   3.029733  2.605370    NaN        NaN         NaN\n",
              "서구     3.663406  16.548430  2.087043    NaN        NaN         NaN\n",
              "수영구    5.235528   8.940113  1.732688    NaN        NaN         NaN\n",
              "연제구    8.099686   5.186586  4.891795    NaN        NaN         NaN\n",
              "영도구    2.930254   6.368535  0.380711    NaN        NaN         NaN\n",
              "중구     5.947992   2.733571  0.378331    NaN        NaN         NaN\n",
              "해운대구  16.444057  24.118187  7.307480    NaN        NaN         NaN\n",
              "0           NaN        NaN       NaN     중구  35.106609  129.030064\n",
              "1           NaN        NaN       NaN     서구  35.097924  129.022010\n",
              "2           NaN        NaN       NaN     동구  35.129344  129.043314\n",
              "3           NaN        NaN       NaN    영도구  35.091212  129.065700\n",
              "4           NaN        NaN       NaN  부산진구   35.163087  129.051213\n",
              "5           NaN        NaN       NaN    동래구  35.204841  129.081425\n",
              "6           NaN        NaN       NaN     남구  35.136578  129.082053\n",
              "7           NaN        NaN       NaN     북구  35.198325  128.987705\n",
              "8           NaN        NaN       NaN   해운대구  35.163106  129.161390\n",
              "9           NaN        NaN       NaN    사하구  35.104451  128.972650\n",
              "10          NaN        NaN       NaN    금정구  35.242974  129.089958\n",
              "11          NaN        NaN       NaN    강서구  35.212231  128.978379\n",
              "12          NaN        NaN       NaN    연제구  35.176504  129.077611\n",
              "13          NaN        NaN       NaN    수영구  35.145615  129.110889\n",
              "14          NaN        NaN       NaN    사상구  35.152640  128.988623\n",
              "15          NaN        NaN       NaN    기장군  35.244600  129.220059"
            ]
          },
          "metadata": {
            "tags": []
          },
          "execution_count": 44
        }
      ]
    },
    {
      "cell_type": "code",
      "metadata": {
        "id": "e2wuNu2ILGPV",
        "colab_type": "code",
        "colab": {
          "base_uri": "https://localhost:8080/",
          "height": 71
        },
        "outputId": "11d2bb3c-dee1-4387-b78f-39782da17dcb"
      },
      "source": [
        "dfg.index"
      ],
      "execution_count": 59,
      "outputs": [
        {
          "output_type": "execute_result",
          "data": {
            "text/plain": [
              "Index(['강서구', '금정구', '기장군', '남구', '동구', '동래구', '부산진구', '북구', '사상구', '사하구',\n",
              "       '서구', '수영구', '연제구', '영도구', '중구', '해운대구'],\n",
              "      dtype='object', name='구명')"
            ]
          },
          "metadata": {
            "tags": []
          },
          "execution_count": 59
        }
      ]
    },
    {
      "cell_type": "code",
      "metadata": {
        "id": "LGUvcSVXLfTJ",
        "colab_type": "code",
        "colab": {}
      },
      "source": [
        "dfg = dfg.reset_index()"
      ],
      "execution_count": 60,
      "outputs": []
    },
    {
      "cell_type": "code",
      "metadata": {
        "id": "-6SyZLhqLkRm",
        "colab_type": "code",
        "colab": {
          "base_uri": "https://localhost:8080/",
          "height": 197
        },
        "outputId": "d3a4e792-c4db-440c-c562-7a5b07bd159c"
      },
      "source": [
        "dfloc.info()"
      ],
      "execution_count": 61,
      "outputs": [
        {
          "output_type": "stream",
          "text": [
            "<class 'pandas.core.frame.DataFrame'>\n",
            "RangeIndex: 16 entries, 0 to 15\n",
            "Data columns (total 3 columns):\n",
            " #   Column  Non-Null Count  Dtype  \n",
            "---  ------  --------------  -----  \n",
            " 0   항목      16 non-null     object \n",
            " 1   위도      16 non-null     float64\n",
            " 2   경도      16 non-null     float64\n",
            "dtypes: float64(2), object(1)\n",
            "memory usage: 512.0+ bytes\n"
          ],
          "name": "stdout"
        }
      ]
    },
    {
      "cell_type": "code",
      "metadata": {
        "id": "2XLoSzCOLq1O",
        "colab_type": "code",
        "colab": {
          "base_uri": "https://localhost:8080/",
          "height": 545
        },
        "outputId": "cd1d9a29-6ed7-4bae-f4bd-f29dacf893b5"
      },
      "source": [
        "pd.concat([dfg, dfloc], axis=1)"
      ],
      "execution_count": 62,
      "outputs": [
        {
          "output_type": "execute_result",
          "data": {
            "text/html": [
              "<div>\n",
              "<style scoped>\n",
              "    .dataframe tbody tr th:only-of-type {\n",
              "        vertical-align: middle;\n",
              "    }\n",
              "\n",
              "    .dataframe tbody tr th {\n",
              "        vertical-align: top;\n",
              "    }\n",
              "\n",
              "    .dataframe thead th {\n",
              "        text-align: right;\n",
              "    }\n",
              "</style>\n",
              "<table border=\"1\" class=\"dataframe\">\n",
              "  <thead>\n",
              "    <tr style=\"text-align: right;\">\n",
              "      <th></th>\n",
              "      <th>구명</th>\n",
              "      <th>전기</th>\n",
              "      <th>가스</th>\n",
              "      <th>지역난방</th>\n",
              "      <th>항목</th>\n",
              "      <th>위도</th>\n",
              "      <th>경도</th>\n",
              "    </tr>\n",
              "  </thead>\n",
              "  <tbody>\n",
              "    <tr>\n",
              "      <th>0</th>\n",
              "      <td>강서구</td>\n",
              "      <td>1.637256</td>\n",
              "      <td>2.558892</td>\n",
              "      <td>9.093517</td>\n",
              "      <td>중구</td>\n",
              "      <td>35.106609</td>\n",
              "      <td>129.030064</td>\n",
              "    </tr>\n",
              "    <tr>\n",
              "      <th>1</th>\n",
              "      <td>금정구</td>\n",
              "      <td>5.738754</td>\n",
              "      <td>5.152858</td>\n",
              "      <td>1.908517</td>\n",
              "      <td>서구</td>\n",
              "      <td>35.097924</td>\n",
              "      <td>129.022010</td>\n",
              "    </tr>\n",
              "    <tr>\n",
              "      <th>2</th>\n",
              "      <td>기장군</td>\n",
              "      <td>2.046715</td>\n",
              "      <td>6.983860</td>\n",
              "      <td>1.741740</td>\n",
              "      <td>동구</td>\n",
              "      <td>35.129344</td>\n",
              "      <td>129.043314</td>\n",
              "    </tr>\n",
              "    <tr>\n",
              "      <th>3</th>\n",
              "      <td>남구</td>\n",
              "      <td>3.382481</td>\n",
              "      <td>2.370365</td>\n",
              "      <td>1.494403</td>\n",
              "      <td>영도구</td>\n",
              "      <td>35.091212</td>\n",
              "      <td>129.065700</td>\n",
              "    </tr>\n",
              "    <tr>\n",
              "      <th>4</th>\n",
              "      <td>동구</td>\n",
              "      <td>13.437295</td>\n",
              "      <td>1.806143</td>\n",
              "      <td>0.552283</td>\n",
              "      <td>부산진구</td>\n",
              "      <td>35.163087</td>\n",
              "      <td>129.051213</td>\n",
              "    </tr>\n",
              "    <tr>\n",
              "      <th>5</th>\n",
              "      <td>동래구</td>\n",
              "      <td>7.537049</td>\n",
              "      <td>3.725948</td>\n",
              "      <td>3.129478</td>\n",
              "      <td>동래구</td>\n",
              "      <td>35.204841</td>\n",
              "      <td>129.081425</td>\n",
              "    </tr>\n",
              "    <tr>\n",
              "      <th>6</th>\n",
              "      <td>부산진구</td>\n",
              "      <td>7.405469</td>\n",
              "      <td>17.551699</td>\n",
              "      <td>1.603519</td>\n",
              "      <td>남구</td>\n",
              "      <td>35.136578</td>\n",
              "      <td>129.082053</td>\n",
              "    </tr>\n",
              "    <tr>\n",
              "      <th>7</th>\n",
              "      <td>북구</td>\n",
              "      <td>8.738386</td>\n",
              "      <td>17.966486</td>\n",
              "      <td>3.697347</td>\n",
              "      <td>북구</td>\n",
              "      <td>35.198325</td>\n",
              "      <td>128.987705</td>\n",
              "    </tr>\n",
              "    <tr>\n",
              "      <th>8</th>\n",
              "      <td>사상구</td>\n",
              "      <td>6.423692</td>\n",
              "      <td>23.486733</td>\n",
              "      <td>1.280364</td>\n",
              "      <td>해운대구</td>\n",
              "      <td>35.163106</td>\n",
              "      <td>129.161390</td>\n",
              "    </tr>\n",
              "    <tr>\n",
              "      <th>9</th>\n",
              "      <td>사하구</td>\n",
              "      <td>4.348179</td>\n",
              "      <td>3.029733</td>\n",
              "      <td>2.605370</td>\n",
              "      <td>사하구</td>\n",
              "      <td>35.104451</td>\n",
              "      <td>128.972650</td>\n",
              "    </tr>\n",
              "    <tr>\n",
              "      <th>10</th>\n",
              "      <td>서구</td>\n",
              "      <td>3.663406</td>\n",
              "      <td>16.548430</td>\n",
              "      <td>2.087043</td>\n",
              "      <td>금정구</td>\n",
              "      <td>35.242974</td>\n",
              "      <td>129.089958</td>\n",
              "    </tr>\n",
              "    <tr>\n",
              "      <th>11</th>\n",
              "      <td>수영구</td>\n",
              "      <td>5.235528</td>\n",
              "      <td>8.940113</td>\n",
              "      <td>1.732688</td>\n",
              "      <td>강서구</td>\n",
              "      <td>35.212231</td>\n",
              "      <td>128.978379</td>\n",
              "    </tr>\n",
              "    <tr>\n",
              "      <th>12</th>\n",
              "      <td>연제구</td>\n",
              "      <td>8.099686</td>\n",
              "      <td>5.186586</td>\n",
              "      <td>4.891795</td>\n",
              "      <td>연제구</td>\n",
              "      <td>35.176504</td>\n",
              "      <td>129.077611</td>\n",
              "    </tr>\n",
              "    <tr>\n",
              "      <th>13</th>\n",
              "      <td>영도구</td>\n",
              "      <td>2.930254</td>\n",
              "      <td>6.368535</td>\n",
              "      <td>0.380711</td>\n",
              "      <td>수영구</td>\n",
              "      <td>35.145615</td>\n",
              "      <td>129.110889</td>\n",
              "    </tr>\n",
              "    <tr>\n",
              "      <th>14</th>\n",
              "      <td>중구</td>\n",
              "      <td>5.947992</td>\n",
              "      <td>2.733571</td>\n",
              "      <td>0.378331</td>\n",
              "      <td>사상구</td>\n",
              "      <td>35.152640</td>\n",
              "      <td>128.988623</td>\n",
              "    </tr>\n",
              "    <tr>\n",
              "      <th>15</th>\n",
              "      <td>해운대구</td>\n",
              "      <td>16.444057</td>\n",
              "      <td>24.118187</td>\n",
              "      <td>7.307480</td>\n",
              "      <td>기장군</td>\n",
              "      <td>35.244600</td>\n",
              "      <td>129.220059</td>\n",
              "    </tr>\n",
              "  </tbody>\n",
              "</table>\n",
              "</div>"
            ],
            "text/plain": [
              "      구명         전기         가스      지역난방     항목         위도          경도\n",
              "0    강서구   1.637256   2.558892  9.093517     중구  35.106609  129.030064\n",
              "1    금정구   5.738754   5.152858  1.908517     서구  35.097924  129.022010\n",
              "2    기장군   2.046715   6.983860  1.741740     동구  35.129344  129.043314\n",
              "3     남구   3.382481   2.370365  1.494403    영도구  35.091212  129.065700\n",
              "4     동구  13.437295   1.806143  0.552283  부산진구   35.163087  129.051213\n",
              "5    동래구   7.537049   3.725948  3.129478    동래구  35.204841  129.081425\n",
              "6   부산진구   7.405469  17.551699  1.603519     남구  35.136578  129.082053\n",
              "7     북구   8.738386  17.966486  3.697347     북구  35.198325  128.987705\n",
              "8    사상구   6.423692  23.486733  1.280364   해운대구  35.163106  129.161390\n",
              "9    사하구   4.348179   3.029733  2.605370    사하구  35.104451  128.972650\n",
              "10    서구   3.663406  16.548430  2.087043    금정구  35.242974  129.089958\n",
              "11   수영구   5.235528   8.940113  1.732688    강서구  35.212231  128.978379\n",
              "12   연제구   8.099686   5.186586  4.891795    연제구  35.176504  129.077611\n",
              "13   영도구   2.930254   6.368535  0.380711    수영구  35.145615  129.110889\n",
              "14    중구   5.947992   2.733571  0.378331    사상구  35.152640  128.988623\n",
              "15  해운대구  16.444057  24.118187  7.307480    기장군  35.244600  129.220059"
            ]
          },
          "metadata": {
            "tags": []
          },
          "execution_count": 62
        }
      ]
    },
    {
      "cell_type": "code",
      "metadata": {
        "id": "N09nGkLpLJCV",
        "colab_type": "code",
        "colab": {
          "base_uri": "https://localhost:8080/",
          "height": 111
        },
        "outputId": "8e9a64a0-ba18-4edb-b8cc-2c9297acfb01"
      },
      "source": [
        "dfg.head(2)"
      ],
      "execution_count": 63,
      "outputs": [
        {
          "output_type": "execute_result",
          "data": {
            "text/html": [
              "<div>\n",
              "<style scoped>\n",
              "    .dataframe tbody tr th:only-of-type {\n",
              "        vertical-align: middle;\n",
              "    }\n",
              "\n",
              "    .dataframe tbody tr th {\n",
              "        vertical-align: top;\n",
              "    }\n",
              "\n",
              "    .dataframe thead th {\n",
              "        text-align: right;\n",
              "    }\n",
              "</style>\n",
              "<table border=\"1\" class=\"dataframe\">\n",
              "  <thead>\n",
              "    <tr style=\"text-align: right;\">\n",
              "      <th></th>\n",
              "      <th>구명</th>\n",
              "      <th>전기</th>\n",
              "      <th>가스</th>\n",
              "      <th>지역난방</th>\n",
              "    </tr>\n",
              "  </thead>\n",
              "  <tbody>\n",
              "    <tr>\n",
              "      <th>0</th>\n",
              "      <td>강서구</td>\n",
              "      <td>1.637256</td>\n",
              "      <td>2.558892</td>\n",
              "      <td>9.093517</td>\n",
              "    </tr>\n",
              "    <tr>\n",
              "      <th>1</th>\n",
              "      <td>금정구</td>\n",
              "      <td>5.738754</td>\n",
              "      <td>5.152858</td>\n",
              "      <td>1.908517</td>\n",
              "    </tr>\n",
              "  </tbody>\n",
              "</table>\n",
              "</div>"
            ],
            "text/plain": [
              "    구명        전기        가스      지역난방\n",
              "0  강서구  1.637256  2.558892  9.093517\n",
              "1  금정구  5.738754  5.152858  1.908517"
            ]
          },
          "metadata": {
            "tags": []
          },
          "execution_count": 63
        }
      ]
    },
    {
      "cell_type": "code",
      "metadata": {
        "id": "Qv2cul_XN7HI",
        "colab_type": "code",
        "colab": {
          "base_uri": "https://localhost:8080/",
          "height": 142
        },
        "outputId": "be718fa4-fa2a-4251-88b8-8c7166840b95"
      },
      "source": [
        "dfg = dfg.set_index('구명')\n",
        "dfg.head(2)"
      ],
      "execution_count": 64,
      "outputs": [
        {
          "output_type": "execute_result",
          "data": {
            "text/html": [
              "<div>\n",
              "<style scoped>\n",
              "    .dataframe tbody tr th:only-of-type {\n",
              "        vertical-align: middle;\n",
              "    }\n",
              "\n",
              "    .dataframe tbody tr th {\n",
              "        vertical-align: top;\n",
              "    }\n",
              "\n",
              "    .dataframe thead th {\n",
              "        text-align: right;\n",
              "    }\n",
              "</style>\n",
              "<table border=\"1\" class=\"dataframe\">\n",
              "  <thead>\n",
              "    <tr style=\"text-align: right;\">\n",
              "      <th></th>\n",
              "      <th>전기</th>\n",
              "      <th>가스</th>\n",
              "      <th>지역난방</th>\n",
              "    </tr>\n",
              "    <tr>\n",
              "      <th>구명</th>\n",
              "      <th></th>\n",
              "      <th></th>\n",
              "      <th></th>\n",
              "    </tr>\n",
              "  </thead>\n",
              "  <tbody>\n",
              "    <tr>\n",
              "      <th>강서구</th>\n",
              "      <td>1.637256</td>\n",
              "      <td>2.558892</td>\n",
              "      <td>9.093517</td>\n",
              "    </tr>\n",
              "    <tr>\n",
              "      <th>금정구</th>\n",
              "      <td>5.738754</td>\n",
              "      <td>5.152858</td>\n",
              "      <td>1.908517</td>\n",
              "    </tr>\n",
              "  </tbody>\n",
              "</table>\n",
              "</div>"
            ],
            "text/plain": [
              "           전기        가스      지역난방\n",
              "구명                               \n",
              "강서구  1.637256  2.558892  9.093517\n",
              "금정구  5.738754  5.152858  1.908517"
            ]
          },
          "metadata": {
            "tags": []
          },
          "execution_count": 64
        }
      ]
    },
    {
      "cell_type": "code",
      "metadata": {
        "id": "9lfbvvBOOBqm",
        "colab_type": "code",
        "colab": {
          "base_uri": "https://localhost:8080/",
          "height": 142
        },
        "outputId": "40f4f292-7d2e-4287-b7f8-2b21e231e93a"
      },
      "source": [
        "dfloc = dfloc.set_index('항목')\n",
        "dfloc.head(2)"
      ],
      "execution_count": 66,
      "outputs": [
        {
          "output_type": "execute_result",
          "data": {
            "text/html": [
              "<div>\n",
              "<style scoped>\n",
              "    .dataframe tbody tr th:only-of-type {\n",
              "        vertical-align: middle;\n",
              "    }\n",
              "\n",
              "    .dataframe tbody tr th {\n",
              "        vertical-align: top;\n",
              "    }\n",
              "\n",
              "    .dataframe thead th {\n",
              "        text-align: right;\n",
              "    }\n",
              "</style>\n",
              "<table border=\"1\" class=\"dataframe\">\n",
              "  <thead>\n",
              "    <tr style=\"text-align: right;\">\n",
              "      <th></th>\n",
              "      <th>위도</th>\n",
              "      <th>경도</th>\n",
              "    </tr>\n",
              "    <tr>\n",
              "      <th>항목</th>\n",
              "      <th></th>\n",
              "      <th></th>\n",
              "    </tr>\n",
              "  </thead>\n",
              "  <tbody>\n",
              "    <tr>\n",
              "      <th>중구</th>\n",
              "      <td>35.106609</td>\n",
              "      <td>129.030064</td>\n",
              "    </tr>\n",
              "    <tr>\n",
              "      <th>서구</th>\n",
              "      <td>35.097924</td>\n",
              "      <td>129.022010</td>\n",
              "    </tr>\n",
              "  </tbody>\n",
              "</table>\n",
              "</div>"
            ],
            "text/plain": [
              "           위도          경도\n",
              "항목                       \n",
              "중구  35.106609  129.030064\n",
              "서구  35.097924  129.022010"
            ]
          },
          "metadata": {
            "tags": []
          },
          "execution_count": 66
        }
      ]
    },
    {
      "cell_type": "code",
      "metadata": {
        "id": "eLi7r-do6JmW",
        "colab_type": "code",
        "colab": {
          "base_uri": "https://localhost:8080/",
          "height": 576
        },
        "outputId": "c64afaab-81bc-4e77-eb46-fd59d1c6c791"
      },
      "source": [
        "dfarea = pd.concat([dfg, dfloc], axis=1)\n",
        "dfarea"
      ],
      "execution_count": 67,
      "outputs": [
        {
          "output_type": "execute_result",
          "data": {
            "text/html": [
              "<div>\n",
              "<style scoped>\n",
              "    .dataframe tbody tr th:only-of-type {\n",
              "        vertical-align: middle;\n",
              "    }\n",
              "\n",
              "    .dataframe tbody tr th {\n",
              "        vertical-align: top;\n",
              "    }\n",
              "\n",
              "    .dataframe thead th {\n",
              "        text-align: right;\n",
              "    }\n",
              "</style>\n",
              "<table border=\"1\" class=\"dataframe\">\n",
              "  <thead>\n",
              "    <tr style=\"text-align: right;\">\n",
              "      <th></th>\n",
              "      <th>전기</th>\n",
              "      <th>가스</th>\n",
              "      <th>지역난방</th>\n",
              "      <th>위도</th>\n",
              "      <th>경도</th>\n",
              "    </tr>\n",
              "  </thead>\n",
              "  <tbody>\n",
              "    <tr>\n",
              "      <th>강서구</th>\n",
              "      <td>1.637256</td>\n",
              "      <td>2.558892</td>\n",
              "      <td>9.093517</td>\n",
              "      <td>35.212231</td>\n",
              "      <td>128.978379</td>\n",
              "    </tr>\n",
              "    <tr>\n",
              "      <th>금정구</th>\n",
              "      <td>5.738754</td>\n",
              "      <td>5.152858</td>\n",
              "      <td>1.908517</td>\n",
              "      <td>35.242974</td>\n",
              "      <td>129.089958</td>\n",
              "    </tr>\n",
              "    <tr>\n",
              "      <th>기장군</th>\n",
              "      <td>2.046715</td>\n",
              "      <td>6.983860</td>\n",
              "      <td>1.741740</td>\n",
              "      <td>35.244600</td>\n",
              "      <td>129.220059</td>\n",
              "    </tr>\n",
              "    <tr>\n",
              "      <th>남구</th>\n",
              "      <td>3.382481</td>\n",
              "      <td>2.370365</td>\n",
              "      <td>1.494403</td>\n",
              "      <td>35.136578</td>\n",
              "      <td>129.082053</td>\n",
              "    </tr>\n",
              "    <tr>\n",
              "      <th>동구</th>\n",
              "      <td>13.437295</td>\n",
              "      <td>1.806143</td>\n",
              "      <td>0.552283</td>\n",
              "      <td>35.129344</td>\n",
              "      <td>129.043314</td>\n",
              "    </tr>\n",
              "    <tr>\n",
              "      <th>동래구</th>\n",
              "      <td>7.537049</td>\n",
              "      <td>3.725948</td>\n",
              "      <td>3.129478</td>\n",
              "      <td>35.204841</td>\n",
              "      <td>129.081425</td>\n",
              "    </tr>\n",
              "    <tr>\n",
              "      <th>부산진구</th>\n",
              "      <td>7.405469</td>\n",
              "      <td>17.551699</td>\n",
              "      <td>1.603519</td>\n",
              "      <td>NaN</td>\n",
              "      <td>NaN</td>\n",
              "    </tr>\n",
              "    <tr>\n",
              "      <th>북구</th>\n",
              "      <td>8.738386</td>\n",
              "      <td>17.966486</td>\n",
              "      <td>3.697347</td>\n",
              "      <td>35.198325</td>\n",
              "      <td>128.987705</td>\n",
              "    </tr>\n",
              "    <tr>\n",
              "      <th>사상구</th>\n",
              "      <td>6.423692</td>\n",
              "      <td>23.486733</td>\n",
              "      <td>1.280364</td>\n",
              "      <td>35.152640</td>\n",
              "      <td>128.988623</td>\n",
              "    </tr>\n",
              "    <tr>\n",
              "      <th>사하구</th>\n",
              "      <td>4.348179</td>\n",
              "      <td>3.029733</td>\n",
              "      <td>2.605370</td>\n",
              "      <td>35.104451</td>\n",
              "      <td>128.972650</td>\n",
              "    </tr>\n",
              "    <tr>\n",
              "      <th>서구</th>\n",
              "      <td>3.663406</td>\n",
              "      <td>16.548430</td>\n",
              "      <td>2.087043</td>\n",
              "      <td>35.097924</td>\n",
              "      <td>129.022010</td>\n",
              "    </tr>\n",
              "    <tr>\n",
              "      <th>수영구</th>\n",
              "      <td>5.235528</td>\n",
              "      <td>8.940113</td>\n",
              "      <td>1.732688</td>\n",
              "      <td>35.145615</td>\n",
              "      <td>129.110889</td>\n",
              "    </tr>\n",
              "    <tr>\n",
              "      <th>연제구</th>\n",
              "      <td>8.099686</td>\n",
              "      <td>5.186586</td>\n",
              "      <td>4.891795</td>\n",
              "      <td>35.176504</td>\n",
              "      <td>129.077611</td>\n",
              "    </tr>\n",
              "    <tr>\n",
              "      <th>영도구</th>\n",
              "      <td>2.930254</td>\n",
              "      <td>6.368535</td>\n",
              "      <td>0.380711</td>\n",
              "      <td>35.091212</td>\n",
              "      <td>129.065700</td>\n",
              "    </tr>\n",
              "    <tr>\n",
              "      <th>중구</th>\n",
              "      <td>5.947992</td>\n",
              "      <td>2.733571</td>\n",
              "      <td>0.378331</td>\n",
              "      <td>35.106609</td>\n",
              "      <td>129.030064</td>\n",
              "    </tr>\n",
              "    <tr>\n",
              "      <th>해운대구</th>\n",
              "      <td>16.444057</td>\n",
              "      <td>24.118187</td>\n",
              "      <td>7.307480</td>\n",
              "      <td>35.163106</td>\n",
              "      <td>129.161390</td>\n",
              "    </tr>\n",
              "    <tr>\n",
              "      <th>부산진구</th>\n",
              "      <td>NaN</td>\n",
              "      <td>NaN</td>\n",
              "      <td>NaN</td>\n",
              "      <td>35.163087</td>\n",
              "      <td>129.051213</td>\n",
              "    </tr>\n",
              "  </tbody>\n",
              "</table>\n",
              "</div>"
            ],
            "text/plain": [
              "              전기         가스      지역난방         위도          경도\n",
              "강서구     1.637256   2.558892  9.093517  35.212231  128.978379\n",
              "금정구     5.738754   5.152858  1.908517  35.242974  129.089958\n",
              "기장군     2.046715   6.983860  1.741740  35.244600  129.220059\n",
              "남구      3.382481   2.370365  1.494403  35.136578  129.082053\n",
              "동구     13.437295   1.806143  0.552283  35.129344  129.043314\n",
              "동래구     7.537049   3.725948  3.129478  35.204841  129.081425\n",
              "부산진구    7.405469  17.551699  1.603519        NaN         NaN\n",
              "북구      8.738386  17.966486  3.697347  35.198325  128.987705\n",
              "사상구     6.423692  23.486733  1.280364  35.152640  128.988623\n",
              "사하구     4.348179   3.029733  2.605370  35.104451  128.972650\n",
              "서구      3.663406  16.548430  2.087043  35.097924  129.022010\n",
              "수영구     5.235528   8.940113  1.732688  35.145615  129.110889\n",
              "연제구     8.099686   5.186586  4.891795  35.176504  129.077611\n",
              "영도구     2.930254   6.368535  0.380711  35.091212  129.065700\n",
              "중구      5.947992   2.733571  0.378331  35.106609  129.030064\n",
              "해운대구   16.444057  24.118187  7.307480  35.163106  129.161390\n",
              "부산진구         NaN        NaN       NaN  35.163087  129.051213"
            ]
          },
          "metadata": {
            "tags": []
          },
          "execution_count": 67
        }
      ]
    },
    {
      "cell_type": "code",
      "metadata": {
        "id": "rkZ4-4j96ShS",
        "colab_type": "code",
        "colab": {
          "base_uri": "https://localhost:8080/",
          "height": 71
        },
        "outputId": "4e0937c2-a09f-484f-ac6d-503f8b9280a4"
      },
      "source": [
        "dfg.index"
      ],
      "execution_count": 68,
      "outputs": [
        {
          "output_type": "execute_result",
          "data": {
            "text/plain": [
              "Index(['강서구', '금정구', '기장군', '남구', '동구', '동래구', '부산진구', '북구', '사상구', '사하구',\n",
              "       '서구', '수영구', '연제구', '영도구', '중구', '해운대구'],\n",
              "      dtype='object', name='구명')"
            ]
          },
          "metadata": {
            "tags": []
          },
          "execution_count": 68
        }
      ]
    },
    {
      "cell_type": "code",
      "metadata": {
        "id": "jPINgWVo6YrF",
        "colab_type": "code",
        "colab": {
          "base_uri": "https://localhost:8080/",
          "height": 71
        },
        "outputId": "d2549b60-540e-49e8-84be-ea6b3680d2bc"
      },
      "source": [
        "dfloc.index"
      ],
      "execution_count": 69,
      "outputs": [
        {
          "output_type": "execute_result",
          "data": {
            "text/plain": [
              "Index(['중구', '서구', '동구', '영도구', '부산진구 ', '동래구', '남구', '북구', '해운대구', '사하구',\n",
              "       '금정구', '강서구', '연제구', '수영구', '사상구', '기장군'],\n",
              "      dtype='object', name='항목')"
            ]
          },
          "metadata": {
            "tags": []
          },
          "execution_count": 69
        }
      ]
    },
    {
      "cell_type": "code",
      "metadata": {
        "id": "Nkz1wBhH6dpD",
        "colab_type": "code",
        "colab": {}
      },
      "source": [
        "dfloc = dfloc.rename(index={'부산진구 ':'부산진구'})"
      ],
      "execution_count": 70,
      "outputs": []
    },
    {
      "cell_type": "code",
      "metadata": {
        "id": "CvzmDXFS6qat",
        "colab_type": "code",
        "colab": {
          "base_uri": "https://localhost:8080/",
          "height": 545
        },
        "outputId": "a4405eda-0d46-4a36-9377-fdfd37bf6170"
      },
      "source": [
        "busan = pd.concat([dfg, dfloc], axis=1)\n",
        "busan"
      ],
      "execution_count": 71,
      "outputs": [
        {
          "output_type": "execute_result",
          "data": {
            "text/html": [
              "<div>\n",
              "<style scoped>\n",
              "    .dataframe tbody tr th:only-of-type {\n",
              "        vertical-align: middle;\n",
              "    }\n",
              "\n",
              "    .dataframe tbody tr th {\n",
              "        vertical-align: top;\n",
              "    }\n",
              "\n",
              "    .dataframe thead th {\n",
              "        text-align: right;\n",
              "    }\n",
              "</style>\n",
              "<table border=\"1\" class=\"dataframe\">\n",
              "  <thead>\n",
              "    <tr style=\"text-align: right;\">\n",
              "      <th></th>\n",
              "      <th>전기</th>\n",
              "      <th>가스</th>\n",
              "      <th>지역난방</th>\n",
              "      <th>위도</th>\n",
              "      <th>경도</th>\n",
              "    </tr>\n",
              "  </thead>\n",
              "  <tbody>\n",
              "    <tr>\n",
              "      <th>강서구</th>\n",
              "      <td>1.637256</td>\n",
              "      <td>2.558892</td>\n",
              "      <td>9.093517</td>\n",
              "      <td>35.212231</td>\n",
              "      <td>128.978379</td>\n",
              "    </tr>\n",
              "    <tr>\n",
              "      <th>금정구</th>\n",
              "      <td>5.738754</td>\n",
              "      <td>5.152858</td>\n",
              "      <td>1.908517</td>\n",
              "      <td>35.242974</td>\n",
              "      <td>129.089958</td>\n",
              "    </tr>\n",
              "    <tr>\n",
              "      <th>기장군</th>\n",
              "      <td>2.046715</td>\n",
              "      <td>6.983860</td>\n",
              "      <td>1.741740</td>\n",
              "      <td>35.244600</td>\n",
              "      <td>129.220059</td>\n",
              "    </tr>\n",
              "    <tr>\n",
              "      <th>남구</th>\n",
              "      <td>3.382481</td>\n",
              "      <td>2.370365</td>\n",
              "      <td>1.494403</td>\n",
              "      <td>35.136578</td>\n",
              "      <td>129.082053</td>\n",
              "    </tr>\n",
              "    <tr>\n",
              "      <th>동구</th>\n",
              "      <td>13.437295</td>\n",
              "      <td>1.806143</td>\n",
              "      <td>0.552283</td>\n",
              "      <td>35.129344</td>\n",
              "      <td>129.043314</td>\n",
              "    </tr>\n",
              "    <tr>\n",
              "      <th>동래구</th>\n",
              "      <td>7.537049</td>\n",
              "      <td>3.725948</td>\n",
              "      <td>3.129478</td>\n",
              "      <td>35.204841</td>\n",
              "      <td>129.081425</td>\n",
              "    </tr>\n",
              "    <tr>\n",
              "      <th>부산진구</th>\n",
              "      <td>7.405469</td>\n",
              "      <td>17.551699</td>\n",
              "      <td>1.603519</td>\n",
              "      <td>35.163087</td>\n",
              "      <td>129.051213</td>\n",
              "    </tr>\n",
              "    <tr>\n",
              "      <th>북구</th>\n",
              "      <td>8.738386</td>\n",
              "      <td>17.966486</td>\n",
              "      <td>3.697347</td>\n",
              "      <td>35.198325</td>\n",
              "      <td>128.987705</td>\n",
              "    </tr>\n",
              "    <tr>\n",
              "      <th>사상구</th>\n",
              "      <td>6.423692</td>\n",
              "      <td>23.486733</td>\n",
              "      <td>1.280364</td>\n",
              "      <td>35.152640</td>\n",
              "      <td>128.988623</td>\n",
              "    </tr>\n",
              "    <tr>\n",
              "      <th>사하구</th>\n",
              "      <td>4.348179</td>\n",
              "      <td>3.029733</td>\n",
              "      <td>2.605370</td>\n",
              "      <td>35.104451</td>\n",
              "      <td>128.972650</td>\n",
              "    </tr>\n",
              "    <tr>\n",
              "      <th>서구</th>\n",
              "      <td>3.663406</td>\n",
              "      <td>16.548430</td>\n",
              "      <td>2.087043</td>\n",
              "      <td>35.097924</td>\n",
              "      <td>129.022010</td>\n",
              "    </tr>\n",
              "    <tr>\n",
              "      <th>수영구</th>\n",
              "      <td>5.235528</td>\n",
              "      <td>8.940113</td>\n",
              "      <td>1.732688</td>\n",
              "      <td>35.145615</td>\n",
              "      <td>129.110889</td>\n",
              "    </tr>\n",
              "    <tr>\n",
              "      <th>연제구</th>\n",
              "      <td>8.099686</td>\n",
              "      <td>5.186586</td>\n",
              "      <td>4.891795</td>\n",
              "      <td>35.176504</td>\n",
              "      <td>129.077611</td>\n",
              "    </tr>\n",
              "    <tr>\n",
              "      <th>영도구</th>\n",
              "      <td>2.930254</td>\n",
              "      <td>6.368535</td>\n",
              "      <td>0.380711</td>\n",
              "      <td>35.091212</td>\n",
              "      <td>129.065700</td>\n",
              "    </tr>\n",
              "    <tr>\n",
              "      <th>중구</th>\n",
              "      <td>5.947992</td>\n",
              "      <td>2.733571</td>\n",
              "      <td>0.378331</td>\n",
              "      <td>35.106609</td>\n",
              "      <td>129.030064</td>\n",
              "    </tr>\n",
              "    <tr>\n",
              "      <th>해운대구</th>\n",
              "      <td>16.444057</td>\n",
              "      <td>24.118187</td>\n",
              "      <td>7.307480</td>\n",
              "      <td>35.163106</td>\n",
              "      <td>129.161390</td>\n",
              "    </tr>\n",
              "  </tbody>\n",
              "</table>\n",
              "</div>"
            ],
            "text/plain": [
              "             전기         가스      지역난방         위도          경도\n",
              "강서구    1.637256   2.558892  9.093517  35.212231  128.978379\n",
              "금정구    5.738754   5.152858  1.908517  35.242974  129.089958\n",
              "기장군    2.046715   6.983860  1.741740  35.244600  129.220059\n",
              "남구     3.382481   2.370365  1.494403  35.136578  129.082053\n",
              "동구    13.437295   1.806143  0.552283  35.129344  129.043314\n",
              "동래구    7.537049   3.725948  3.129478  35.204841  129.081425\n",
              "부산진구   7.405469  17.551699  1.603519  35.163087  129.051213\n",
              "북구     8.738386  17.966486  3.697347  35.198325  128.987705\n",
              "사상구    6.423692  23.486733  1.280364  35.152640  128.988623\n",
              "사하구    4.348179   3.029733  2.605370  35.104451  128.972650\n",
              "서구     3.663406  16.548430  2.087043  35.097924  129.022010\n",
              "수영구    5.235528   8.940113  1.732688  35.145615  129.110889\n",
              "연제구    8.099686   5.186586  4.891795  35.176504  129.077611\n",
              "영도구    2.930254   6.368535  0.380711  35.091212  129.065700\n",
              "중구     5.947992   2.733571  0.378331  35.106609  129.030064\n",
              "해운대구  16.444057  24.118187  7.307480  35.163106  129.161390"
            ]
          },
          "metadata": {
            "tags": []
          },
          "execution_count": 71
        }
      ]
    },
    {
      "cell_type": "code",
      "metadata": {
        "id": "hERoSIFROthF",
        "colab_type": "code",
        "colab": {
          "base_uri": "https://localhost:8080/",
          "height": 233
        },
        "outputId": "3569f465-278b-4803-f930-42e63aaaa2d3"
      },
      "source": [
        "busan.info()"
      ],
      "execution_count": 72,
      "outputs": [
        {
          "output_type": "stream",
          "text": [
            "<class 'pandas.core.frame.DataFrame'>\n",
            "Index: 16 entries, 강서구 to 해운대구\n",
            "Data columns (total 5 columns):\n",
            " #   Column  Non-Null Count  Dtype  \n",
            "---  ------  --------------  -----  \n",
            " 0   전기      16 non-null     float64\n",
            " 1   가스      16 non-null     float64\n",
            " 2   지역난방    16 non-null     float64\n",
            " 3   위도      16 non-null     float64\n",
            " 4   경도      16 non-null     float64\n",
            "dtypes: float64(5)\n",
            "memory usage: 768.0+ bytes\n"
          ],
          "name": "stdout"
        }
      ]
    },
    {
      "cell_type": "code",
      "metadata": {
        "id": "2cBK7-g67ei3",
        "colab_type": "code",
        "colab": {}
      },
      "source": [
        "#지도 시각화\n",
        "#pip install folium\n",
        "#https://github.com/southkorea/southkorea-maps \n",
        "import folium"
      ],
      "execution_count": 74,
      "outputs": []
    },
    {
      "cell_type": "code",
      "metadata": {
        "id": "SgQNDhnT9aEy",
        "colab_type": "code",
        "colab": {}
      },
      "source": [
        "map = folium.Map(location=[35.166804, 129.083479], zoom_start=12)"
      ],
      "execution_count": 77,
      "outputs": []
    },
    {
      "cell_type": "code",
      "metadata": {
        "id": "J7_AiGFC9ebz",
        "colab_type": "code",
        "colab": {
          "base_uri": "https://localhost:8080/",
          "height": 520
        },
        "outputId": "88302f40-f434-4d20-d970-190c4831d2aa"
      },
      "source": [
        "for item in busan.index:\n",
        "    lat = busan.loc[item,'위도']\n",
        "    long = busan.loc[item,'경도'] \n",
        "    folium.Marker([lat,long]).add_to(map)\n",
        "\n",
        "map   "
      ],
      "execution_count": 78,
      "outputs": [
        {
          "output_type": "execute_result",
          "data": {
            "text/html": [
              "<div style=\"width:100%;\"><div style=\"position:relative;width:100%;height:0;padding-bottom:60%;\"><span style=\"color:#565656\">Make this Notebook Trusted to load map: File -> Trust Notebook</span><iframe src=\"about:blank\" style=\"position:absolute;width:100%;height:100%;left:0;top:0;border:none !important;\" data-html=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 onload=\"this.contentDocument.open();this.contentDocument.write(atob(this.getAttribute('data-html')));this.contentDocument.close();\" allowfullscreen webkitallowfullscreen mozallowfullscreen></iframe></div></div>"
            ],
            "text/plain": [
              "<folium.folium.Map at 0x7f7c0260bbe0>"
            ]
          },
          "metadata": {
            "tags": []
          },
          "execution_count": 78
        }
      ]
    },
    {
      "cell_type": "code",
      "metadata": {
        "id": "EL7J2AdN-yHM",
        "colab_type": "code",
        "colab": {
          "base_uri": "https://localhost:8080/",
          "height": 685
        },
        "outputId": "93b60a96-2666-4db3-ae94-578d7c7aa865"
      },
      "source": [
        "map = folium.Map(location=[35.166804, 129.083479], zoom_start=12)\n",
        "for item in busan.index:\n",
        "    lat = busan.loc[item,'위도']\n",
        "    long = busan.loc[item,'경도'] \n",
        "    memo = str( busan.loc[item,'전기'])\n",
        "    folium.CircleMarker([lat,long],\n",
        "                        radius=busan.loc[item,'전기']*2, \n",
        "                        color='crimson', \n",
        "                        popup = memo,\n",
        "                        fill =True\n",
        "                        ).add_to(map)\n",
        "\n",
        "map  "
      ],
      "execution_count": null,
      "outputs": [
        {
          "output_type": "execute_result",
          "data": {
            "text/html": [
              "<div style=\"width:100%;\"><div style=\"position:relative;width:100%;height:0;padding-bottom:60%;\"><span style=\"color:#565656\">Make this Notebook Trusted to load map: File -> Trust Notebook</span><iframe src=\"about:blank\" style=\"position:absolute;width:100%;height:100%;left:0;top:0;border:none !important;\" data-html=PCFET0NUWVBFIGh0bWw+CjxoZWFkPiAgICAKICAgIDxtZXRhIGh0dHAtZXF1aXY9ImNvbnRlbnQtdHlwZSIgY29udGVudD0idGV4dC9odG1sOyBjaGFyc2V0PVVURi04IiAvPgogICAgPHNjcmlwdD5MX1BSRUZFUl9DQU5WQVM9ZmFsc2U7IExfTk9fVE9VQ0g9ZmFsc2U7IExfRElTQUJMRV8zRD1mYWxzZTs8L3NjcmlwdD4KICAgIDxzY3JpcHQgc3JjPSJodHRwczovL2Nkbi5qc2RlbGl2ci5uZXQvbnBtL2xlYWZsZXRAMS40LjAvZGlzdC9sZWFmbGV0LmpzIj48L3NjcmlwdD4KICAgIDxzY3JpcHQgc3JjPSJodHRwczovL2NvZGUuanF1ZXJ5LmNvbS9qcXVlcnktMS4xMi40Lm1pbi5qcyI+PC9zY3JpcHQ+CiAgICA8c2NyaXB0IHNyYz0iaHR0cHM6Ly9tYXhjZG4uYm9vdHN0cmFwY2RuLmNvbS9ib290c3RyYXAvMy4yLjAvanMvYm9vdHN0cmFwLm1pbi5qcyI+PC9zY3JpcHQ+CiAgICA8c2NyaXB0IHNyYz0iaHR0cHM6Ly9jZG5qcy5jbG91ZGZsYXJlLmNvbS9hamF4L2xpYnMvTGVhZmxldC5hd2Vzb21lLW1hcmtlcnMvMi4wLjIvbGVhZmxldC5hd2Vzb21lLW1hcmtlcnMuanMiPjwvc2NyaXB0PgogICAgPGxpbmsgcmVsPSJzdHlsZXNoZWV0IiBocmVmPSJodHRwczovL2Nkbi5qc2RlbGl2ci5uZXQvbnBtL2xlYWZsZXRAMS40LjAvZGlzdC9sZWFmbGV0LmNzcyIvPgogICAgPGxpbmsgcmVsPSJzdHlsZXNoZWV0IiBocmVmPSJodHRwczovL21heGNkbi5ib290c3RyYXBjZG4uY29tL2Jvb3RzdHJhcC8zLjIuMC9jc3MvYm9vdHN0cmFwLm1pbi5jc3MiLz4KICAgIDxsaW5rIHJlbD0ic3R5bGVzaGVldCIgaHJlZj0iaHR0cHM6Ly9tYXhjZG4uYm9vdHN0cmFwY2RuLmNvbS9ib290c3RyYXAvMy4yLjAvY3NzL2Jvb3RzdHJhcC10aGVtZS5taW4uY3NzIi8+CiAgICA8bGluayByZWw9InN0eWxlc2hlZXQiIGhyZWY9Imh0dHBzOi8vbWF4Y2RuLmJvb3RzdHJhcGNkbi5jb20vZm9udC1hd2Vzb21lLzQuNi4zL2Nzcy9mb250LWF3ZXNvbWUubWluLmNzcyIvPgogICAgPGxpbmsgcmVsPSJzdHlsZXNoZWV0IiBocmVmPSJodHRwczovL2NkbmpzLmNsb3VkZmxhcmUuY29tL2FqYXgvbGlicy9MZWFmbGV0LmF3ZXNvbWUtbWFya2Vycy8yLjAuMi9sZWFmbGV0LmF3ZXNvbWUtbWFya2Vycy5jc3MiLz4KICAgIDxsaW5rIHJlbD0ic3R5bGVzaGVldCIgaHJlZj0iaHR0cHM6Ly9yYXdjZG4uZ2l0aGFjay5jb20vcHl0aG9uLXZpc3VhbGl6YXRpb24vZm9saXVtL21hc3Rlci9mb2xpdW0vdGVtcGxhdGVzL2xlYWZsZXQuYXdlc29tZS5yb3RhdGUuY3NzIi8+CiAgICA8c3R5bGU+aHRtbCwgYm9keSB7d2lkdGg6IDEwMCU7aGVpZ2h0OiAxMDAlO21hcmdpbjogMDtwYWRkaW5nOiAwO308L3N0eWxlPgogICAgPHN0eWxlPiNtYXAge3Bvc2l0aW9uOmFic29sdXRlO3RvcDowO2JvdHRvbTowO3JpZ2h0OjA7bGVmdDowO308L3N0eWxlPgogICAgCiAgICA8bWV0YSBuYW1lPSJ2aWV3cG9ydCIgY29udGVudD0id2lkdGg9ZGV2aWNlLXdpZHRoLAogICAgICAgIGluaXRpYWwtc2NhbGU9MS4wLCBtYXhpbXVtLXNjYWxlPTEuMCwgdXNlci1zY2FsYWJsZT1ubyIgLz4KICAgIDxzdHlsZT4jbWFwXzQ1ZDI1N2Y2YWM4NjQ4NTA5ZDIwNWRiZDM5OGQyMmIyIHsKICAgICAgICBwb3NpdGlvbjogcmVsYXRpdmU7CiAgICAgICAgd2lkdGg6IDEwMC4wJTsKICAgICAgICBoZWlnaHQ6IDEwMC4wJTsKICAgICAgICBsZWZ0OiAwLjAlOwogICAgICAgIHRvcDogMC4wJTsKICAgICAgICB9CiAgICA8L3N0eWxlPgo8L2hlYWQ+Cjxib2R5PiAgICAKICAgIAogICAgPGRpdiBjbGFzcz0iZm9saXVtLW1hcCIgaWQ9Im1hcF80NWQyNTdmNmFjODY0ODUwOWQyMDVkYmQzOThkMjJiMiIgPjwvZGl2Pgo8L2JvZHk+CjxzY3JpcHQ+ICAgIAogICAgCiAgICAKICAgICAgICB2YXIgYm91bmRzID0gbnVsbDsKICAgIAoKICAgIHZhciBtYXBfNDVkMjU3ZjZhYzg2NDg1MDlkMjA1ZGJkMzk4ZDIyYjIgPSBMLm1hcCgKICAgICAgICAnbWFwXzQ1ZDI1N2Y2YWM4NjQ4NTA5ZDIwNWRiZDM5OGQyMmIyJywgewogICAgICAgIGNlbnRlcjogWzM1LjE2NjgwNCwgMTI5LjA4MzQ3OV0sCiAgICAgICAgem9vbTogMTIsCiAgICAgICAgbWF4Qm91bmRzOiBib3VuZHMsCiAgICAgICAgbGF5ZXJzOiBbXSwKICAgICAgICB3b3JsZENvcHlKdW1wOiBmYWxzZSwKICAgICAgICBjcnM6IEwuQ1JTLkVQU0czODU3LAogICAgICAgIHpvb21Db250cm9sOiB0cnVlLAogICAgICAgIH0pOwoKCiAgICAKICAgIHZhciB0aWxlX2xheWVyXzNlNTc0MTFiYzBjMzQ0Y2NiZWIxMjFlZDBhNWExODdhID0gTC50aWxlTGF5ZXIoCiAgICAgICAgJ2h0dHBzOi8ve3N9LnRpbGUub3BlbnN0cmVldG1hcC5vcmcve3p9L3t4fS97eX0ucG5nJywKICAgICAgICB7CiAgICAgICAgImF0dHJpYnV0aW9uIjogbnVsbCwKICAgICAgICAiZGV0ZWN0UmV0aW5hIjogZmFsc2UsCiAgICAgICAgIm1heE5hdGl2ZVpvb20iOiAxOCwKICAgICAgICAibWF4Wm9vbSI6IDE4LAogICAgICAgICJtaW5ab29tIjogMCwKICAgICAgICAibm9XcmFwIjogZmFsc2UsCiAgICAgICAgIm9wYWNpdHkiOiAxLAogICAgICAgICJzdWJkb21haW5zIjogImFiYyIsCiAgICAgICAgInRtcyI6IGZhbHNlCn0pLmFkZFRvKG1hcF80NWQyNTdmNmFjODY0ODUwOWQyMDVkYmQzOThkMjJiMik7CiAgICAKICAgICAgICAgICAgdmFyIGNpcmNsZV9tYXJrZXJfOTdiYmMyZjU5MGVkNDY5ZWIxMjgyMWFhM2FiODVkOTUgPSBMLmNpcmNsZU1hcmtlcigKICAgICAgICAgICAgICAgIFszNS4yMTIyMzEsIDEyOC45NzgzNzldLAogICAgICAgICAgICAgICAgewogICJidWJibGluZ01vdXNlRXZlbnRzIjogdHJ1ZSwKICAiY29sb3IiOiAiY3JpbXNvbiIsCiAgImRhc2hBcnJheSI6IG51bGwsCiAgImRhc2hPZmZzZXQiOiBudWxsLAogICJmaWxsIjogdHJ1ZSwKICAiZmlsbENvbG9yIjogImNyaW1zb24iLAogICJmaWxsT3BhY2l0eSI6IDAuMiwKICAiZmlsbFJ1bGUiOiAiZXZlbm9kZCIsCiAgImxpbmVDYXAiOiAicm91bmQiLAogICJsaW5lSm9pbiI6ICJyb3VuZCIsCiAgIm9wYWNpdHkiOiAxLjAsCiAgInJhZGl1cyI6IDMuMjc0NTEyMzE1MjcwOTM1MiwKICAic3Ryb2tlIjogdHJ1ZSwKICAid2VpZ2h0IjogMwp9CiAgICAgICAgICAgICAgICApCiAgICAgICAgICAgICAgICAuYWRkVG8obWFwXzQ1ZDI1N2Y2YWM4NjQ4NTA5ZDIwNWRiZDM5OGQyMmIyKTsKICAgICAgICAgICAgCiAgICAKICAgICAgICAgICAgdmFyIHBvcHVwXzM2ZjE3N2JiOGZjODQ3YmU4YjQzZWNkYmExNmJhOWRiID0gTC5wb3B1cCh7bWF4V2lkdGg6ICcxMDAlJwogICAgICAgICAgICAKICAgICAgICAgICAgfSk7CgogICAgICAgICAgICAKICAgICAgICAgICAgICAgIHZhciBodG1sXzUwNDkyMWNiZmFiOTQxZTM5MDMxYTQ1MDhhYzZhY2Q0ID0gJChgPGRpdiBpZD0iaHRtbF81MDQ5MjFjYmZhYjk0MWUzOTAzMWE0NTA4YWM2YWNkNCIgc3R5bGU9IndpZHRoOiAxMDAuMCU7IGhlaWdodDogMTAwLjAlOyI+MS42MzcyNTYxNTc2MzU0Njc2PC9kaXY+YClbMF07CiAgICAgICAgICAgICAgICBwb3B1cF8zNmYxNzdiYjhmYzg0N2JlOGI0M2VjZGJhMTZiYTlkYi5zZXRDb250ZW50KGh0bWxfNTA0OTIxY2JmYWI5NDFlMzkwMzFhNDUwOGFjNmFjZDQpOwogICAgICAgICAgICAKCiAgICAgICAgICAgIGNpcmNsZV9tYXJrZXJfOTdiYmMyZjU5MGVkNDY5ZWIxMjgyMWFhM2FiODVkOTUuYmluZFBvcHVwKHBvcHVwXzM2ZjE3N2JiOGZjODQ3YmU4YjQzZWNkYmExNmJhOWRiKQogICAgICAgICAgICA7CgogICAgICAgICAgICAKICAgICAgICAKICAgIAogICAgICAgICAgICB2YXIgY2lyY2xlX21hcmtlcl80ZTI4YWY4MDgzYjY0M2VjODc3NDg5ODEwMGVjMjYwZiA9IEwuY2lyY2xlTWFya2VyKAogICAgICAgICAgICAgICAgWzM1LjI0Mjk3NCwgMTI5LjA4OTk1OF0sCiAgICAgICAgICAgICAgICB7CiAgImJ1YmJsaW5nTW91c2VFdmVudHMiOiB0cnVlLAogICJjb2xvciI6ICJjcmltc29uIiwKICAiZGFzaEFycmF5IjogbnVsbCwKICAiZGFzaE9mZnNldCI6IG51bGwsCiAgImZpbGwiOiB0cnVlLAogICJmaWxsQ29sb3IiOiAiY3JpbXNvbiIsCiAgImZpbGxPcGFjaXR5IjogMC4yLAogICJmaWxsUnVsZSI6ICJldmVub2RkIiwKICAibGluZUNhcCI6ICJyb3VuZCIsCiAgImxpbmVKb2luIjogInJvdW5kIiwKICAib3BhY2l0eSI6IDEuMCwKICAicmFkaXVzIjogMTEuNDc3NTA4MTIwNjQ5NjUsCiAgInN0cm9rZSI6IHRydWUsCiAgIndlaWdodCI6IDMKfQogICAgICAgICAgICAgICAgKQogICAgICAgICAgICAgICAgLmFkZFRvKG1hcF80NWQyNTdmNmFjODY0ODUwOWQyMDVkYmQzOThkMjJiMik7CiAgICAgICAgICAgIAogICAgCiAgICAgICAgICAgIHZhciBwb3B1cF83NGRhMzk4MjU3MjY0NjE2OTllODU1NmI3NTFkMjUyZCA9IEwucG9wdXAoe21heFdpZHRoOiAnMTAwJScKICAgICAgICAgICAgCiAgICAgICAgICAgIH0pOwoKICAgICAgICAgICAgCiAgICAgICAgICAgICAgICB2YXIgaHRtbF9hNGVhOWMzZjJmNGY0MDcwYmEzNDQzZDVlYjM1ZTRmZSA9ICQoYDxkaXYgaWQ9Imh0bWxfYTRlYTljM2YyZjRmNDA3MGJhMzQ0M2Q1ZWIzNWU0ZmUiIHN0eWxlPSJ3aWR0aDogMTAwLjAlOyBoZWlnaHQ6IDEwMC4wJTsiPjUuNzM4NzU0MDYwMzI0ODI1PC9kaXY+YClbMF07CiAgICAgICAgICAgICAgICBwb3B1cF83NGRhMzk4MjU3MjY0NjE2OTllODU1NmI3NTFkMjUyZC5zZXRDb250ZW50KGh0bWxfYTRlYTljM2YyZjRmNDA3MGJhMzQ0M2Q1ZWIzNWU0ZmUpOwogICAgICAgICAgICAKCiAgICAgICAgICAgIGNpcmNsZV9tYXJrZXJfNGUyOGFmODA4M2I2NDNlYzg3NzQ4OTgxMDBlYzI2MGYuYmluZFBvcHVwKHBvcHVwXzc0ZGEzOTgyNTcyNjQ2MTY5OWU4NTU2Yjc1MWQyNTJkKQogICAgICAgICAgICA7CgogICAgICAgICAgICAKICAgICAgICAKICAgIAogICAgICAgICAgICB2YXIgY2lyY2xlX21hcmtlcl83M2M5YWFhYWQyMjk0MDljODJiMGRlMDgwZDYzNjBkNCA9IEwuY2lyY2xlTWFya2VyKAogICAgICAgICAgICAgICAgWzM1LjI0NDYsIDEyOS4yMjAwNTldLAogICAgICAgICAgICAgICAgewogICJidWJibGluZ01vdXNlRXZlbnRzIjogdHJ1ZSwKICAiY29sb3IiOiAiY3JpbXNvbiIsCiAgImRhc2hBcnJheSI6IG51bGwsCiAgImRhc2hPZmZzZXQiOiBudWxsLAogICJmaWxsIjogdHJ1ZSwKICAiZmlsbENvbG9yIjogImNyaW1zb24iLAogICJmaWxsT3BhY2l0eSI6IDAuMiwKICAiZmlsbFJ1bGUiOiAiZXZlbm9kZCIsCiAgImxpbmVDYXAiOiAicm91bmQiLAogICJsaW5lSm9pbiI6ICJyb3VuZCIsCiAgIm9wYWNpdHkiOiAxLjAsCiAgInJhZGl1cyI6IDQuMDkzNDI5OTk5OTk5OTk5LAogICJzdHJva2UiOiB0cnVlLAogICJ3ZWlnaHQiOiAzCn0KICAgICAgICAgICAgICAgICkKICAgICAgICAgICAgICAgIC5hZGRUbyhtYXBfNDVkMjU3ZjZhYzg2NDg1MDlkMjA1ZGJkMzk4ZDIyYjIpOwogICAgICAgICAgICAKICAgIAogICAgICAgICAgICB2YXIgcG9wdXBfODA2Zjc0ZjA4NzdiNGNiMDk5NjNhYjc0MDg1ODhkYmYgPSBMLnBvcHVwKHttYXhXaWR0aDogJzEwMCUnCiAgICAgICAgICAgIAogICAgICAgICAgICB9KTsKCiAgICAgICAgICAgIAogICAgICAgICAgICAgICAgdmFyIGh0bWxfZWI0ZWI1YzYwOWY5NDA2ZWIzZjE0ZDBjOTk3NzEyMDMgPSAkKGA8ZGl2IGlkPSJodG1sX2ViNGViNWM2MDlmOTQwNmViM2YxNGQwYzk5NzcxMjAzIiBzdHlsZT0id2lkdGg6IDEwMC4wJTsgaGVpZ2h0OiAxMDAuMCU7Ij4yLjA0NjcxNDk5OTk5OTk5OTQ8L2Rpdj5gKVswXTsKICAgICAgICAgICAgICAgIHBvcHVwXzgwNmY3NGYwODc3YjRjYjA5OTYzYWI3NDA4NTg4ZGJmLnNldENvbnRlbnQoaHRtbF9lYjRlYjVjNjA5Zjk0MDZlYjNmMTRkMGM5OTc3MTIwMyk7CiAgICAgICAgICAgIAoKICAgICAgICAgICAgY2lyY2xlX21hcmtlcl83M2M5YWFhYWQyMjk0MDljODJiMGRlMDgwZDYzNjBkNC5iaW5kUG9wdXAocG9wdXBfODA2Zjc0ZjA4NzdiNGNiMDk5NjNhYjc0MDg1ODhkYmYpCiAgICAgICAgICAgIDsKCiAgICAgICAgICAgIAogICAgICAgIAogICAgCiAgICAgICAgICAgIHZhciBjaXJjbGVfbWFya2VyXzRjMzY4MTFmODhjYTQ0MWVhNDI2N2E5YTdhZTMyM2Q4ID0gTC5jaXJjbGVNYXJrZXIoCiAgICAgICAgICAgICAgICBbMzUuMTM2NTc4MywgMTI5LjA4MjA1MjhdLAogICAgICAgICAgICAgICAgewogICJidWJibGluZ01vdXNlRXZlbnRzIjogdHJ1ZSwKICAiY29sb3IiOiAiY3JpbXNvbiIsCiAgImRhc2hBcnJheSI6IG51bGwsCiAgImRhc2hPZmZzZXQiOiBudWxsLAogICJmaWxsIjogdHJ1ZSwKICAiZmlsbENvbG9yIjogImNyaW1zb24iLAogICJmaWxsT3BhY2l0eSI6IDAuMiwKICAiZmlsbFJ1bGUiOiAiZXZlbm9kZCIsCiAgImxpbmVDYXAiOiAicm91bmQiLAogICJsaW5lSm9pbiI6ICJyb3VuZCIsCiAgIm9wYWNpdHkiOiAxLjAsCiAgInJhZGl1cyI6IDYuNzY0OTYyMDg1MzA4MDUyLAogICJzdHJva2UiOiB0cnVlLAogICJ3ZWlnaHQiOiAzCn0KICAgICAgICAgICAgICAgICkKICAgICAgICAgICAgICAgIC5hZGRUbyhtYXBfNDVkMjU3ZjZhYzg2NDg1MDlkMjA1ZGJkMzk4ZDIyYjIpOwogICAgICAgICAgICAKICAgIAogICAgICAgICAgICB2YXIgcG9wdXBfNjU3ZDllZGZkNDEzNDAwZmEzNDU4YWQwZjY5YjlmZjMgPSBMLnBvcHVwKHttYXhXaWR0aDogJzEwMCUnCiAgICAgICAgICAgIAogICAgICAgICAgICB9KTsKCiAgICAgICAgICAgIAogICAgICAgICAgICAgICAgdmFyIGh0bWxfYmZjMGM4MjVlYjdmNGQ3ZWIwZjdlNGM4ZWJiYjY2ZTkgPSAkKGA8ZGl2IGlkPSJodG1sX2JmYzBjODI1ZWI3ZjRkN2ViMGY3ZTRjOGViYmI2NmU5IiBzdHlsZT0id2lkdGg6IDEwMC4wJTsgaGVpZ2h0OiAxMDAuMCU7Ij4zLjM4MjQ4MTA0MjY1NDAyNjwvZGl2PmApWzBdOwogICAgICAgICAgICAgICAgcG9wdXBfNjU3ZDllZGZkNDEzNDAwZmEzNDU4YWQwZjY5YjlmZjMuc2V0Q29udGVudChodG1sX2JmYzBjODI1ZWI3ZjRkN2ViMGY3ZTRjOGViYmI2NmU5KTsKICAgICAgICAgICAgCgogICAgICAgICAgICBjaXJjbGVfbWFya2VyXzRjMzY4MTFmODhjYTQ0MWVhNDI2N2E5YTdhZTMyM2Q4LmJpbmRQb3B1cChwb3B1cF82NTdkOWVkZmQ0MTM0MDBmYTM0NThhZDBmNjliOWZmMykKICAgICAgICAgICAgOwoKICAgICAgICAgICAgCiAgICAgICAgCiAgICAKICAgICAgICAgICAgdmFyIGNpcmNsZV9tYXJrZXJfYTFkNmFjMDBmZWQyNGI0NWE5MGIxOTQxNmZjZTgxODEgPSBMLmNpcmNsZU1hcmtlcigKICAgICAgICAgICAgICAgIFszNS4xMjkzNDQsIDEyOS4wNDMzMTRdLAogICAgICAgICAgICAgICAgewogICJidWJibGluZ01vdXNlRXZlbnRzIjogdHJ1ZSwKICAiY29sb3IiOiAiY3JpbXNvbiIsCiAgImRhc2hBcnJheSI6IG51bGwsCiAgImRhc2hPZmZzZXQiOiBudWxsLAogICJmaWxsIjogdHJ1ZSwKICAiZmlsbENvbG9yIjogImNyaW1zb24iLAogICJmaWxsT3BhY2l0eSI6IDAuMiwKICAiZmlsbFJ1bGUiOiAiZXZlbm9kZCIsCiAgImxpbmVDYXAiOiAicm91bmQiLAogICJsaW5lSm9pbiI6ICJyb3VuZCIsCiAgIm9wYWNpdHkiOiAxLjAsCiAgInJhZGl1cyI6IDI2Ljg3NDU4OTY0MTQzNDI1LAogICJzdHJva2UiOiB0cnVlLAogICJ3ZWlnaHQiOiAzCn0KICAgICAgICAgICAgICAgICkKICAgICAgICAgICAgICAgIC5hZGRUbyhtYXBfNDVkMjU3ZjZhYzg2NDg1MDlkMjA1ZGJkMzk4ZDIyYjIpOwogICAgICAgICAgICAKICAgIAogICAgICAgICAgICB2YXIgcG9wdXBfOTIxMGY2OWU5Mjc1NGEyMDg5MjE4YzExYzM0ZGI0MDAgPSBMLnBvcHVwKHttYXhXaWR0aDogJzEwMCUnCiAgICAgICAgICAgIAogICAgICAgICAgICB9KTsKCiAgICAgICAgICAgIAogICAgICAgICAgICAgICAgdmFyIGh0bWxfYzc4M2IyYjM2NmFmNDdkY2FhYWZmMDRiYWNmNjI2Y2MgPSAkKGA8ZGl2IGlkPSJodG1sX2M3ODNiMmIzNjZhZjQ3ZGNhYWFmZjA0YmFjZjYyNmNjIiBzdHlsZT0id2lkdGg6IDEwMC4wJTsgaGVpZ2h0OiAxMDAuMCU7Ij4xMy40MzcyOTQ4MjA3MTcxMjY8L2Rpdj5gKVswXTsKICAgICAgICAgICAgICAgIHBvcHVwXzkyMTBmNjllOTI3NTRhMjA4OTIxOGMxMWMzNGRiNDAwLnNldENvbnRlbnQoaHRtbF9jNzgzYjJiMzY2YWY0N2RjYWFhZmYwNGJhY2Y2MjZjYyk7CiAgICAgICAgICAgIAoKICAgICAgICAgICAgY2lyY2xlX21hcmtlcl9hMWQ2YWMwMGZlZDI0YjQ1YTkwYjE5NDE2ZmNlODE4MS5iaW5kUG9wdXAocG9wdXBfOTIxMGY2OWU5Mjc1NGEyMDg5MjE4YzExYzM0ZGI0MDApCiAgICAgICAgICAgIDsKCiAgICAgICAgICAgIAogICAgICAgIAogICAgCiAgICAgICAgICAgIHZhciBjaXJjbGVfbWFya2VyXzI0NzA2OWEwYTg1NjRjOGU4MDUyYTQyNjZhMDlmMjNhID0gTC5jaXJjbGVNYXJrZXIoCiAgICAgICAgICAgICAgICBbMzUuMjA0ODQxLCAxMjkuMDgxNDI1XSwKICAgICAgICAgICAgICAgIHsKICAiYnViYmxpbmdNb3VzZUV2ZW50cyI6IHRydWUsCiAgImNvbG9yIjogImNyaW1zb24iLAogICJkYXNoQXJyYXkiOiBudWxsLAogICJkYXNoT2Zmc2V0IjogbnVsbCwKICAiZmlsbCI6IHRydWUsCiAgImZpbGxDb2xvciI6ICJjcmltc29uIiwKICAiZmlsbE9wYWNpdHkiOiAwLjIsCiAgImZpbGxSdWxlIjogImV2ZW5vZGQiLAogICJsaW5lQ2FwIjogInJvdW5kIiwKICAibGluZUpvaW4iOiAicm91bmQiLAogICJvcGFjaXR5IjogMS4wLAogICJyYWRpdXMiOiAxNS4wNzQwOTc4MjYwODY5NTcsCiAgInN0cm9rZSI6IHRydWUsCiAgIndlaWdodCI6IDMKfQogICAgICAgICAgICAgICAgKQogICAgICAgICAgICAgICAgLmFkZFRvKG1hcF80NWQyNTdmNmFjODY0ODUwOWQyMDVkYmQzOThkMjJiMik7CiAgICAgICAgICAgIAogICAgCiAgICAgICAgICAgIHZhciBwb3B1cF9jMGZlMjA2ODIwNmY0NTI4ODVlZjM3ZGQ1MzYwODIxOSA9IEwucG9wdXAoe21heFdpZHRoOiAnMTAwJScKICAgICAgICAgICAgCiAgICAgICAgICAgIH0pOwoKICAgICAgICAgICAgCiAgICAgICAgICAgICAgICB2YXIgaHRtbF9kZjYwYTI0NGEzYjY0NDIyYTQ1NTM3YTNlOTA2OTY3MiA9ICQoYDxkaXYgaWQ9Imh0bWxfZGY2MGEyNDRhM2I2NDQyMmE0NTUzN2EzZTkwNjk2NzIiIHN0eWxlPSJ3aWR0aDogMTAwLjAlOyBoZWlnaHQ6IDEwMC4wJTsiPjcuNTM3MDQ4OTEzMDQzNDc5PC9kaXY+YClbMF07CiAgICAgICAgICAgICAgICBwb3B1cF9jMGZlMjA2ODIwNmY0NTI4ODVlZjM3ZGQ1MzYwODIxOS5zZXRDb250ZW50KGh0bWxfZGY2MGEyNDRhM2I2NDQyMmE0NTUzN2EzZTkwNjk2NzIpOwogICAgICAgICAgICAKCiAgICAgICAgICAgIGNpcmNsZV9tYXJrZXJfMjQ3MDY5YTBhODU2NGM4ZTgwNTJhNDI2NmEwOWYyM2EuYmluZFBvcHVwKHBvcHVwX2MwZmUyMDY4MjA2ZjQ1Mjg4NWVmMzdkZDUzNjA4MjE5KQogICAgICAgICAgICA7CgogICAgICAgICAgICAKICAgICAgICAKICAgIAogICAgICAgICAgICB2YXIgY2lyY2xlX21hcmtlcl85MWZhY2U3ZTdhZDM0OGFlYjI0N2FlMGMyYWZhYzFkYyA9IEwuY2lyY2xlTWFya2VyKAogICAgICAgICAgICAgICAgWzM1LjE2MzA4NywgMTI5LjA1MTIxM10sCiAgICAgICAgICAgICAgICB7CiAgImJ1YmJsaW5nTW91c2VFdmVudHMiOiB0cnVlLAogICJjb2xvciI6ICJjcmltc29uIiwKICAiZGFzaEFycmF5IjogbnVsbCwKICAiZGFzaE9mZnNldCI6IG51bGwsCiAgImZpbGwiOiB0cnVlLAogICJmaWxsQ29sb3IiOiAiY3JpbXNvbiIsCiAgImZpbGxPcGFjaXR5IjogMC4yLAogICJmaWxsUnVsZSI6ICJldmVub2RkIiwKICAibGluZUNhcCI6ICJyb3VuZCIsCiAgImxpbmVKb2luIjogInJvdW5kIiwKICAib3BhY2l0eSI6IDEuMCwKICAicmFkaXVzIjogMTQuODEwOTM3MzA0MDc1MjI4LAogICJzdHJva2UiOiB0cnVlLAogICJ3ZWlnaHQiOiAzCn0KICAgICAgICAgICAgICAgICkKICAgICAgICAgICAgICAgIC5hZGRUbyhtYXBfNDVkMjU3ZjZhYzg2NDg1MDlkMjA1ZGJkMzk4ZDIyYjIpOwogICAgICAgICAgICAKICAgIAogICAgICAgICAgICB2YXIgcG9wdXBfYzBlM2NhYjUzNTQ4NDJlM2IyYWU5YzFhOTVmNzNlYzcgPSBMLnBvcHVwKHttYXhXaWR0aDogJzEwMCUnCiAgICAgICAgICAgIAogICAgICAgICAgICB9KTsKCiAgICAgICAgICAgIAogICAgICAgICAgICAgICAgdmFyIGh0bWxfZmVjZTI0MWFhODIwNDdkYWFlZjdiY2JmMGJiYjllYTMgPSAkKGA8ZGl2IGlkPSJodG1sX2ZlY2UyNDFhYTgyMDQ3ZGFhZWY3YmNiZjBiYmI5ZWEzIiBzdHlsZT0id2lkdGg6IDEwMC4wJTsgaGVpZ2h0OiAxMDAuMCU7Ij43LjQwNTQ2ODY1MjAzNzYxNDwvZGl2PmApWzBdOwogICAgICAgICAgICAgICAgcG9wdXBfYzBlM2NhYjUzNTQ4NDJlM2IyYWU5YzFhOTVmNzNlYzcuc2V0Q29udGVudChodG1sX2ZlY2UyNDFhYTgyMDQ3ZGFhZWY3YmNiZjBiYmI5ZWEzKTsKICAgICAgICAgICAgCgogICAgICAgICAgICBjaXJjbGVfbWFya2VyXzkxZmFjZTdlN2FkMzQ4YWViMjQ3YWUwYzJhZmFjMWRjLmJpbmRQb3B1cChwb3B1cF9jMGUzY2FiNTM1NDg0MmUzYjJhZTljMWE5NWY3M2VjNykKICAgICAgICAgICAgOwoKICAgICAgICAgICAgCiAgICAgICAgCiAgICAKICAgICAgICAgICAgdmFyIGNpcmNsZV9tYXJrZXJfMzNhOTM2OTFkN2M5NDUxZDk5YjlkZDMyZDM4OWUyNmMgPSBMLmNpcmNsZU1hcmtlcigKICAgICAgICAgICAgICAgIFszNS4xOTgzMjUsIDEyOC45ODc3MDVdLAogICAgICAgICAgICAgICAgewogICJidWJibGluZ01vdXNlRXZlbnRzIjogdHJ1ZSwKICAiY29sb3IiOiAiY3JpbXNvbiIsCiAgImRhc2hBcnJheSI6IG51bGwsCiAgImRhc2hPZmZzZXQiOiBudWxsLAogICJmaWxsIjogdHJ1ZSwKICAiZmlsbENvbG9yIjogImNyaW1zb24iLAogICJmaWxsT3BhY2l0eSI6IDAuMiwKICAiZmlsbFJ1bGUiOiAiZXZlbm9kZCIsCiAgImxpbmVDYXAiOiAicm91bmQiLAogICJsaW5lSm9pbiI6ICJyb3VuZCIsCiAgIm9wYWNpdHkiOiAxLjAsCiAgInJhZGl1cyI6IDE3LjQ3Njc3MjkwODM2NjUyNywKICAic3Ryb2tlIjogdHJ1ZSwKICAid2VpZ2h0IjogMwp9CiAgICAgICAgICAgICAgICApCiAgICAgICAgICAgICAgICAuYWRkVG8obWFwXzQ1ZDI1N2Y2YWM4NjQ4NTA5ZDIwNWRiZDM5OGQyMmIyKTsKICAgICAgICAgICAgCiAgICAKICAgICAgICAgICAgdmFyIHBvcHVwXzhlNTJlMjgwNGZkYTQ0MzQ4ZmM5YzAzYWNiYTc4Njg3ID0gTC5wb3B1cCh7bWF4V2lkdGg6ICcxMDAlJwogICAgICAgICAgICAKICAgICAgICAgICAgfSk7CgogICAgICAgICAgICAKICAgICAgICAgICAgICAgIHZhciBodG1sX2U4NWJhODY3NWIyOTRjYWM5NjU1Y2NiMjAzMDYxMWZkID0gJChgPGRpdiBpZD0iaHRtbF9lODViYTg2NzViMjk0Y2FjOTY1NWNjYjIwMzA2MTFmZCIgc3R5bGU9IndpZHRoOiAxMDAuMCU7IGhlaWdodDogMTAwLjAlOyI+OC43MzgzODY0NTQxODMyNjQ8L2Rpdj5gKVswXTsKICAgICAgICAgICAgICAgIHBvcHVwXzhlNTJlMjgwNGZkYTQ0MzQ4ZmM5YzAzYWNiYTc4Njg3LnNldENvbnRlbnQoaHRtbF9lODViYTg2NzViMjk0Y2FjOTY1NWNjYjIwMzA2MTFmZCk7CiAgICAgICAgICAgIAoKICAgICAgICAgICAgY2lyY2xlX21hcmtlcl8zM2E5MzY5MWQ3Yzk0NTFkOTliOWRkMzJkMzg5ZTI2Yy5iaW5kUG9wdXAocG9wdXBfOGU1MmUyODA0ZmRhNDQzNDhmYzljMDNhY2JhNzg2ODcpCiAgICAgICAgICAgIDsKCiAgICAgICAgICAgIAogICAgICAgIAogICAgCiAgICAgICAgICAgIHZhciBjaXJjbGVfbWFya2VyX2ViZmY4MDI0NzgwNzQ2YjdhODI1MWQzMmIyOTQ0ZDljID0gTC5jaXJjbGVNYXJrZXIoCiAgICAgICAgICAgICAgICBbMzUuMTUyNjM5OSwgMTI4Ljk4ODYyMzNdLAogICAgICAgICAgICAgICAgewogICJidWJibGluZ01vdXNlRXZlbnRzIjogdHJ1ZSwKICAiY29sb3IiOiAiY3JpbXNvbiIsCiAgImRhc2hBcnJheSI6IG51bGwsCiAgImRhc2hPZmZzZXQiOiBudWxsLAogICJmaWxsIjogdHJ1ZSwKICAiZmlsbENvbG9yIjogImNyaW1zb24iLAogICJmaWxsT3BhY2l0eSI6IDAuMiwKICAiZmlsbFJ1bGUiOiAiZXZlbm9kZCIsCiAgImxpbmVDYXAiOiAicm91bmQiLAogICJsaW5lSm9pbiI6ICJyb3VuZCIsCiAgIm9wYWNpdHkiOiAxLjAsCiAgInJhZGl1cyI6IDEyLjg0NzM4NDYxNTM4NDYxOCwKICAic3Ryb2tlIjogdHJ1ZSwKICAid2VpZ2h0IjogMwp9CiAgICAgICAgICAgICAgICApCiAgICAgICAgICAgICAgICAuYWRkVG8obWFwXzQ1ZDI1N2Y2YWM4NjQ4NTA5ZDIwNWRiZDM5OGQyMmIyKTsKICAgICAgICAgICAgCiAgICAKICAgICAgICAgICAgdmFyIHBvcHVwX2Q2NjVhYzk5M2UwZTRhMDdiZTM5YzE3YWE0ZjEzZDMzID0gTC5wb3B1cCh7bWF4V2lkdGg6ICcxMDAlJwogICAgICAgICAgICAKICAgICAgICAgICAgfSk7CgogICAgICAgICAgICAKICAgICAgICAgICAgICAgIHZhciBodG1sXzU0MzhmM2E2M2E2NTQ0OGU5MGY1YjNmNTFlZjk1Mzg4ID0gJChgPGRpdiBpZD0iaHRtbF81NDM4ZjNhNjNhNjU0NDhlOTBmNWIzZjUxZWY5NTM4OCIgc3R5bGU9IndpZHRoOiAxMDAuMCU7IGhlaWdodDogMTAwLjAlOyI+Ni40MjM2OTIzMDc2OTIzMDk8L2Rpdj5gKVswXTsKICAgICAgICAgICAgICAgIHBvcHVwX2Q2NjVhYzk5M2UwZTRhMDdiZTM5YzE3YWE0ZjEzZDMzLnNldENvbnRlbnQoaHRtbF81NDM4ZjNhNjNhNjU0NDhlOTBmNWIzZjUxZWY5NTM4OCk7CiAgICAgICAgICAgIAoKICAgICAgICAgICAgY2lyY2xlX21hcmtlcl9lYmZmODAyNDc4MDc0NmI3YTgyNTFkMzJiMjk0NGQ5Yy5iaW5kUG9wdXAocG9wdXBfZDY2NWFjOTkzZTBlNGEwN2JlMzljMTdhYTRmMTNkMzMpCiAgICAgICAgICAgIDsKCiAgICAgICAgICAgIAogICAgICAgIAogICAgCiAgICAgICAgICAgIHZhciBjaXJjbGVfbWFya2VyXzIwNTFkOGJhMjQzNjQzZjQ5ZDFmYTdiYWExYjhmZWI3ID0gTC5jaXJjbGVNYXJrZXIoCiAgICAgICAgICAgICAgICBbMzUuMTA0NDUxLCAxMjguOTcyNjVdLAogICAgICAgICAgICAgICAgewogICJidWJibGluZ01vdXNlRXZlbnRzIjogdHJ1ZSwKICAiY29sb3IiOiAiY3JpbXNvbiIsCiAgImRhc2hBcnJheSI6IG51bGwsCiAgImRhc2hPZmZzZXQiOiBudWxsLAogICJmaWxsIjogdHJ1ZSwKICAiZmlsbENvbG9yIjogImNyaW1zb24iLAogICJmaWxsT3BhY2l0eSI6IDAuMiwKICAiZmlsbFJ1bGUiOiAiZXZlbm9kZCIsCiAgImxpbmVDYXAiOiAicm91bmQiLAogICJsaW5lSm9pbiI6ICJyb3VuZCIsCiAgIm9wYWNpdHkiOiAxLjAsCiAgInJhZGl1cyI6IDguNjk2MzU4MTM5NTM0ODg1LAogICJzdHJva2UiOiB0cnVlLAogICJ3ZWlnaHQiOiAzCn0KICAgICAgICAgICAgICAgICkKICAgICAgICAgICAgICAgIC5hZGRUbyhtYXBfNDVkMjU3ZjZhYzg2NDg1MDlkMjA1ZGJkMzk4ZDIyYjIpOwogICAgICAgICAgICAKICAgIAogICAgICAgICAgICB2YXIgcG9wdXBfM2E2NDRmYjMyY2RlNDM0OWJjY2IxZGViMjNjM2I3ZjAgPSBMLnBvcHVwKHttYXhXaWR0aDogJzEwMCUnCiAgICAgICAgICAgIAogICAgICAgICAgICB9KTsKCiAgICAgICAgICAgIAogICAgICAgICAgICAgICAgdmFyIGh0bWxfM2Y3Mzg1ODJjOTA3NGRiMjkyODExMGU4NmVlNTMwOWMgPSAkKGA8ZGl2IGlkPSJodG1sXzNmNzM4NTgyYzkwNzRkYjI5MjgxMTBlODZlZTUzMDljIiBzdHlsZT0id2lkdGg6IDEwMC4wJTsgaGVpZ2h0OiAxMDAuMCU7Ij40LjM0ODE3OTA2OTc2NzQ0MjU8L2Rpdj5gKVswXTsKICAgICAgICAgICAgICAgIHBvcHVwXzNhNjQ0ZmIzMmNkZTQzNDliY2NiMWRlYjIzYzNiN2YwLnNldENvbnRlbnQoaHRtbF8zZjczODU4MmM5MDc0ZGIyOTI4MTEwZTg2ZWU1MzA5Yyk7CiAgICAgICAgICAgIAoKICAgICAgICAgICAgY2lyY2xlX21hcmtlcl8yMDUxZDhiYTI0MzY0M2Y0OWQxZmE3YmFhMWI4ZmViNy5iaW5kUG9wdXAocG9wdXBfM2E2NDRmYjMyY2RlNDM0OWJjY2IxZGViMjNjM2I3ZjApCiAgICAgICAgICAgIDsKCiAgICAgICAgICAgIAogICAgICAgIAogICAgCiAgICAgICAgICAgIHZhciBjaXJjbGVfbWFya2VyXzQwNzFjMjhhMjBjMjRmMzE4ZWZmZmYwOWZjMzgxOTMwID0gTC5jaXJjbGVNYXJrZXIoCiAgICAgICAgICAgICAgICBbMzUuMDk3OTI0NCwgMTI5LjAyMjAxMDFdLAogICAgICAgICAgICAgICAgewogICJidWJibGluZ01vdXNlRXZlbnRzIjogdHJ1ZSwKICAiY29sb3IiOiAiY3JpbXNvbiIsCiAgImRhc2hBcnJheSI6IG51bGwsCiAgImRhc2hPZmZzZXQiOiBudWxsLAogICJmaWxsIjogdHJ1ZSwKICAiZmlsbENvbG9yIjogImNyaW1zb24iLAogICJmaWxsT3BhY2l0eSI6IDAuMiwKICAiZmlsbFJ1bGUiOiAiZXZlbm9kZCIsCiAgImxpbmVDYXAiOiAicm91bmQiLAogICJsaW5lSm9pbiI6ICJyb3VuZCIsCiAgIm9wYWNpdHkiOiAxLjAsCiAgInJhZGl1cyI6IDcuMzI2ODExNTk0MjAyODk0LAogICJzdHJva2UiOiB0cnVlLAogICJ3ZWlnaHQiOiAzCn0KICAgICAgICAgICAgICAgICkKICAgICAgICAgICAgICAgIC5hZGRUbyhtYXBfNDVkMjU3ZjZhYzg2NDg1MDlkMjA1ZGJkMzk4ZDIyYjIpOwogICAgICAgICAgICAKICAgIAogICAgICAgICAgICB2YXIgcG9wdXBfNjM2ZjFhYTc5NDE4NDUxOGFjZmQ4OTFiNjVkNDZkMWEgPSBMLnBvcHVwKHttYXhXaWR0aDogJzEwMCUnCiAgICAgICAgICAgIAogICAgICAgICAgICB9KTsKCiAgICAgICAgICAgIAogICAgICAgICAgICAgICAgdmFyIGh0bWxfYTYxZGIyY2NhZWQxNDEwZmE0NDRlOTUxYTRhODIwY2UgPSAkKGA8ZGl2IGlkPSJodG1sX2E2MWRiMmNjYWVkMTQxMGZhNDQ0ZTk1MWE0YTgyMGNlIiBzdHlsZT0id2lkdGg6IDEwMC4wJTsgaGVpZ2h0OiAxMDAuMCU7Ij4zLjY2MzQwNTc5NzEwMTQ0NzwvZGl2PmApWzBdOwogICAgICAgICAgICAgICAgcG9wdXBfNjM2ZjFhYTc5NDE4NDUxOGFjZmQ4OTFiNjVkNDZkMWEuc2V0Q29udGVudChodG1sX2E2MWRiMmNjYWVkMTQxMGZhNDQ0ZTk1MWE0YTgyMGNlKTsKICAgICAgICAgICAgCgogICAgICAgICAgICBjaXJjbGVfbWFya2VyXzQwNzFjMjhhMjBjMjRmMzE4ZWZmZmYwOWZjMzgxOTMwLmJpbmRQb3B1cChwb3B1cF82MzZmMWFhNzk0MTg0NTE4YWNmZDg5MWI2NWQ0NmQxYSkKICAgICAgICAgICAgOwoKICAgICAgICAgICAgCiAgICAgICAgCiAgICAKICAgICAgICAgICAgdmFyIGNpcmNsZV9tYXJrZXJfYjdkNWE2N2RmNjU3NGU5MGI1YTYxMmM3ZTM2NGM2MmIgPSBMLmNpcmNsZU1hcmtlcigKICAgICAgICAgICAgICAgIFszNS4xNDU2MTUsIDEyOS4xMTA4ODkxXSwKICAgICAgICAgICAgICAgIHsKICAiYnViYmxpbmdNb3VzZUV2ZW50cyI6IHRydWUsCiAgImNvbG9yIjogImNyaW1zb24iLAogICJkYXNoQXJyYXkiOiBudWxsLAogICJkYXNoT2Zmc2V0IjogbnVsbCwKICAiZmlsbCI6IHRydWUsCiAgImZpbGxDb2xvciI6ICJjcmltc29uIiwKICAiZmlsbE9wYWNpdHkiOiAwLjIsCiAgImZpbGxSdWxlIjogImV2ZW5vZGQiLAogICJsaW5lQ2FwIjogInJvdW5kIiwKICAibGluZUpvaW4iOiAicm91bmQiLAogICJvcGFjaXR5IjogMS4wLAogICJyYWRpdXMiOiAxMC40NzEwNTY0Nzg0MDUzMTgsCiAgInN0cm9rZSI6IHRydWUsCiAgIndlaWdodCI6IDMKfQogICAgICAgICAgICAgICAgKQogICAgICAgICAgICAgICAgLmFkZFRvKG1hcF80NWQyNTdmNmFjODY0ODUwOWQyMDVkYmQzOThkMjJiMik7CiAgICAgICAgICAgIAogICAgCiAgICAgICAgICAgIHZhciBwb3B1cF8zMzgzMjAxM2RhOWQ0YWU0OTY2N2Y2ODM5YzAxYTc3MSA9IEwucG9wdXAoe21heFdpZHRoOiAnMTAwJScKICAgICAgICAgICAgCiAgICAgICAgICAgIH0pOwoKICAgICAgICAgICAgCiAgICAgICAgICAgICAgICB2YXIgaHRtbF9mYmM0ZDgwYzZkZDE0YWM4YmZmN2VlNTU3MzE0Y2Y4NyA9ICQoYDxkaXYgaWQ9Imh0bWxfZmJjNGQ4MGM2ZGQxNGFjOGJmZjdlZTU1NzMxNGNmODciIHN0eWxlPSJ3aWR0aDogMTAwLjAlOyBoZWlnaHQ6IDEwMC4wJTsiPjUuMjM1NTI4MjM5MjAyNjU5PC9kaXY+YClbMF07CiAgICAgICAgICAgICAgICBwb3B1cF8zMzgzMjAxM2RhOWQ0YWU0OTY2N2Y2ODM5YzAxYTc3MS5zZXRDb250ZW50KGh0bWxfZmJjNGQ4MGM2ZGQxNGFjOGJmZjdlZTU1NzMxNGNmODcpOwogICAgICAgICAgICAKCiAgICAgICAgICAgIGNpcmNsZV9tYXJrZXJfYjdkNWE2N2RmNjU3NGU5MGI1YTYxMmM3ZTM2NGM2MmIuYmluZFBvcHVwKHBvcHVwXzMzODMyMDEzZGE5ZDRhZTQ5NjY3ZjY4MzljMDFhNzcxKQogICAgICAgICAgICA7CgogICAgICAgICAgICAKICAgICAgICAKICAgIAogICAgICAgICAgICB2YXIgY2lyY2xlX21hcmtlcl84ZDJhNjdhZjkzMTU0OWY4YWU3ODJhZDU5Y2EwODhmNCA9IEwuY2lyY2xlTWFya2VyKAogICAgICAgICAgICAgICAgWzM1LjE3NjUwNCwgMTI5LjA3NzYxMV0sCiAgICAgICAgICAgICAgICB7CiAgImJ1YmJsaW5nTW91c2VFdmVudHMiOiB0cnVlLAogICJjb2xvciI6ICJjcmltc29uIiwKICAiZGFzaEFycmF5IjogbnVsbCwKICAiZGFzaE9mZnNldCI6IG51bGwsCiAgImZpbGwiOiB0cnVlLAogICJmaWxsQ29sb3IiOiAiY3JpbXNvbiIsCiAgImZpbGxPcGFjaXR5IjogMC4yLAogICJmaWxsUnVsZSI6ICJldmVub2RkIiwKICAibGluZUNhcCI6ICJyb3VuZCIsCiAgImxpbmVKb2luIjogInJvdW5kIiwKICAib3BhY2l0eSI6IDEuMCwKICAicmFkaXVzIjogMTYuMTk5MzcxNjAxMjA4NDQsCiAgInN0cm9rZSI6IHRydWUsCiAgIndlaWdodCI6IDMKfQogICAgICAgICAgICAgICAgKQogICAgICAgICAgICAgICAgLmFkZFRvKG1hcF80NWQyNTdmNmFjODY0ODUwOWQyMDVkYmQzOThkMjJiMik7CiAgICAgICAgICAgIAogICAgCiAgICAgICAgICAgIHZhciBwb3B1cF8xNDE3NTRjNzJhNWQ0ZDMzYjQyMzYwMGNlZDVhNTM5NiA9IEwucG9wdXAoe21heFdpZHRoOiAnMTAwJScKICAgICAgICAgICAgCiAgICAgICAgICAgIH0pOwoKICAgICAgICAgICAgCiAgICAgICAgICAgICAgICB2YXIgaHRtbF83NzczZDI0Y2YxODI0NGY2YTFjOTk5ZmU2YzQzZWVhNyA9ICQoYDxkaXYgaWQ9Imh0bWxfNzc3M2QyNGNmMTgyNDRmNmExYzk5OWZlNmM0M2VlYTciIHN0eWxlPSJ3aWR0aDogMTAwLjAlOyBoZWlnaHQ6IDEwMC4wJTsiPjguMDk5Njg1ODAwNjA0MjI8L2Rpdj5gKVswXTsKICAgICAgICAgICAgICAgIHBvcHVwXzE0MTc1NGM3MmE1ZDRkMzNiNDIzNjAwY2VkNWE1Mzk2LnNldENvbnRlbnQoaHRtbF83NzczZDI0Y2YxODI0NGY2YTFjOTk5ZmU2YzQzZWVhNyk7CiAgICAgICAgICAgIAoKICAgICAgICAgICAgY2lyY2xlX21hcmtlcl84ZDJhNjdhZjkzMTU0OWY4YWU3ODJhZDU5Y2EwODhmNC5iaW5kUG9wdXAocG9wdXBfMTQxNzU0YzcyYTVkNGQzM2I0MjM2MDBjZWQ1YTUzOTYpCiAgICAgICAgICAgIDsKCiAgICAgICAgICAgIAogICAgICAgIAogICAgCiAgICAgICAgICAgIHZhciBjaXJjbGVfbWFya2VyXzdkMmEyZTBhNGNjYjQ5MjBhMDMyMGQyYTVlYjI2NWU5ID0gTC5jaXJjbGVNYXJrZXIoCiAgICAgICAgICAgICAgICBbMzUuMDkxMjEyLCAxMjkuMDY1N10sCiAgICAgICAgICAgICAgICB7CiAgImJ1YmJsaW5nTW91c2VFdmVudHMiOiB0cnVlLAogICJjb2xvciI6ICJjcmltc29uIiwKICAiZGFzaEFycmF5IjogbnVsbCwKICAiZGFzaE9mZnNldCI6IG51bGwsCiAgImZpbGwiOiB0cnVlLAogICJmaWxsQ29sb3IiOiAiY3JpbXNvbiIsCiAgImZpbGxPcGFjaXR5IjogMC4yLAogICJmaWxsUnVsZSI6ICJldmVub2RkIiwKICAibGluZUNhcCI6ICJyb3VuZCIsCiAgImxpbmVKb2luIjogInJvdW5kIiwKICAib3BhY2l0eSI6IDEuMCwKICAicmFkaXVzIjogNS44NjA1MDc4MTI1LAogICJzdHJva2UiOiB0cnVlLAogICJ3ZWlnaHQiOiAzCn0KICAgICAgICAgICAgICAgICkKICAgICAgICAgICAgICAgIC5hZGRUbyhtYXBfNDVkMjU3ZjZhYzg2NDg1MDlkMjA1ZGJkMzk4ZDIyYjIpOwogICAgICAgICAgICAKICAgIAogICAgICAgICAgICB2YXIgcG9wdXBfMzE0ZWY1Yzc2MWM5NDE2MmEyMDA5NDMyMDAwZTRkNWUgPSBMLnBvcHVwKHttYXhXaWR0aDogJzEwMCUnCiAgICAgICAgICAgIAogICAgICAgICAgICB9KTsKCiAgICAgICAgICAgIAogICAgICAgICAgICAgICAgdmFyIGh0bWxfMGIyMDJhYmMzZmE1NGY3MDhmYWQzMTE0M2E5OWY3MzIgPSAkKGA8ZGl2IGlkPSJodG1sXzBiMjAyYWJjM2ZhNTRmNzA4ZmFkMzExNDNhOTlmNzMyIiBzdHlsZT0id2lkdGg6IDEwMC4wJTsgaGVpZ2h0OiAxMDAuMCU7Ij4yLjkzMDI1MzkwNjI1PC9kaXY+YClbMF07CiAgICAgICAgICAgICAgICBwb3B1cF8zMTRlZjVjNzYxYzk0MTYyYTIwMDk0MzIwMDBlNGQ1ZS5zZXRDb250ZW50KGh0bWxfMGIyMDJhYmMzZmE1NGY3MDhmYWQzMTE0M2E5OWY3MzIpOwogICAgICAgICAgICAKCiAgICAgICAgICAgIGNpcmNsZV9tYXJrZXJfN2QyYTJlMGE0Y2NiNDkyMGEwMzIwZDJhNWViMjY1ZTkuYmluZFBvcHVwKHBvcHVwXzMxNGVmNWM3NjFjOTQxNjJhMjAwOTQzMjAwMGU0ZDVlKQogICAgICAgICAgICA7CgogICAgICAgICAgICAKICAgICAgICAKICAgIAogICAgICAgICAgICB2YXIgY2lyY2xlX21hcmtlcl9jMTQ3OTdlODFjZDU0YmE0YTYyY2ZlZDRlNDMxYTg2MCA9IEwuY2lyY2xlTWFya2VyKAogICAgICAgICAgICAgICAgWzM1LjEwNjYwOSwgMTI5LjAzMDA2NF0sCiAgICAgICAgICAgICAgICB7CiAgImJ1YmJsaW5nTW91c2VFdmVudHMiOiB0cnVlLAogICJjb2xvciI6ICJjcmltc29uIiwKICAiZGFzaEFycmF5IjogbnVsbCwKICAiZGFzaE9mZnNldCI6IG51bGwsCiAgImZpbGwiOiB0cnVlLAogICJmaWxsQ29sb3IiOiAiY3JpbXNvbiIsCiAgImZpbGxPcGFjaXR5IjogMC4yLAogICJmaWxsUnVsZSI6ICJldmVub2RkIiwKICAibGluZUNhcCI6ICJyb3VuZCIsCiAgImxpbmVKb2luIjogInJvdW5kIiwKICAib3BhY2l0eSI6IDEuMCwKICAicmFkaXVzIjogMTEuODk1OTg0OTYyNDA2MDE4LAogICJzdHJva2UiOiB0cnVlLAogICJ3ZWlnaHQiOiAzCn0KICAgICAgICAgICAgICAgICkKICAgICAgICAgICAgICAgIC5hZGRUbyhtYXBfNDVkMjU3ZjZhYzg2NDg1MDlkMjA1ZGJkMzk4ZDIyYjIpOwogICAgICAgICAgICAKICAgIAogICAgICAgICAgICB2YXIgcG9wdXBfMjlhNGMzZjlhMGJhNDM0MjkyMGI3NjFkZWY2NWJjY2YgPSBMLnBvcHVwKHttYXhXaWR0aDogJzEwMCUnCiAgICAgICAgICAgIAogICAgICAgICAgICB9KTsKCiAgICAgICAgICAgIAogICAgICAgICAgICAgICAgdmFyIGh0bWxfYWI4ODY1MjIzM2FkNGZjZjgxZDZhYzlhNGU3ODdhMTggPSAkKGA8ZGl2IGlkPSJodG1sX2FiODg2NTIyMzNhZDRmY2Y4MWQ2YWM5YTRlNzg3YTE4IiBzdHlsZT0id2lkdGg6IDEwMC4wJTsgaGVpZ2h0OiAxMDAuMCU7Ij41Ljk0Nzk5MjQ4MTIwMzAwOTwvZGl2PmApWzBdOwogICAgICAgICAgICAgICAgcG9wdXBfMjlhNGMzZjlhMGJhNDM0MjkyMGI3NjFkZWY2NWJjY2Yuc2V0Q29udGVudChodG1sX2FiODg2NTIyMzNhZDRmY2Y4MWQ2YWM5YTRlNzg3YTE4KTsKICAgICAgICAgICAgCgogICAgICAgICAgICBjaXJjbGVfbWFya2VyX2MxNDc5N2U4MWNkNTRiYTRhNjJjZmVkNGU0MzFhODYwLmJpbmRQb3B1cChwb3B1cF8yOWE0YzNmOWEwYmE0MzQyOTIwYjc2MWRlZjY1YmNjZikKICAgICAgICAgICAgOwoKICAgICAgICAgICAgCiAgICAgICAgCiAgICAKICAgICAgICAgICAgdmFyIGNpcmNsZV9tYXJrZXJfYzhlMjVkOGQ4NzBhNDM0OGIyNGQ0MTdjNjkyYzRmY2QgPSBMLmNpcmNsZU1hcmtlcigKICAgICAgICAgICAgICAgIFszNS4xNjMxMDYsIDEyOS4xNjEzOV0sCiAgICAgICAgICAgICAgICB7CiAgImJ1YmJsaW5nTW91c2VFdmVudHMiOiB0cnVlLAogICJjb2xvciI6ICJjcmltc29uIiwKICAiZGFzaEFycmF5IjogbnVsbCwKICAiZGFzaE9mZnNldCI6IG51bGwsCiAgImZpbGwiOiB0cnVlLAogICJmaWxsQ29sb3IiOiAiY3JpbXNvbiIsCiAgImZpbGxPcGFjaXR5IjogMC4yLAogICJmaWxsUnVsZSI6ICJldmVub2RkIiwKICAibGluZUNhcCI6ICJyb3VuZCIsCiAgImxpbmVKb2luIjogInJvdW5kIiwKICAib3BhY2l0eSI6IDEuMCwKICAicmFkaXVzIjogMzIuODg4MTE0ODAzNjI1MzcsCiAgInN0cm9rZSI6IHRydWUsCiAgIndlaWdodCI6IDMKfQogICAgICAgICAgICAgICAgKQogICAgICAgICAgICAgICAgLmFkZFRvKG1hcF80NWQyNTdmNmFjODY0ODUwOWQyMDVkYmQzOThkMjJiMik7CiAgICAgICAgICAgIAogICAgCiAgICAgICAgICAgIHZhciBwb3B1cF9mMmFhM2Q0M2JkYjE0MzM4OGZhOTMyZWNlZGQ5ZDIyMyA9IEwucG9wdXAoe21heFdpZHRoOiAnMTAwJScKICAgICAgICAgICAgCiAgICAgICAgICAgIH0pOwoKICAgICAgICAgICAgCiAgICAgICAgICAgICAgICB2YXIgaHRtbF81MGM3MDlkYjQwNWQ0YTIzOGQ3NDhlYzk3ZjYxZGRlZSA9ICQoYDxkaXYgaWQ9Imh0bWxfNTBjNzA5ZGI0MDVkNGEyMzhkNzQ4ZWM5N2Y2MWRkZWUiIHN0eWxlPSJ3aWR0aDogMTAwLjAlOyBoZWlnaHQ6IDEwMC4wJTsiPjE2LjQ0NDA1NzQwMTgxMjY4NTwvZGl2PmApWzBdOwogICAgICAgICAgICAgICAgcG9wdXBfZjJhYTNkNDNiZGIxNDMzODhmYTkzMmVjZWRkOWQyMjMuc2V0Q29udGVudChodG1sXzUwYzcwOWRiNDA1ZDRhMjM4ZDc0OGVjOTdmNjFkZGVlKTsKICAgICAgICAgICAgCgogICAgICAgICAgICBjaXJjbGVfbWFya2VyX2M4ZTI1ZDhkODcwYTQzNDhiMjRkNDE3YzY5MmM0ZmNkLmJpbmRQb3B1cChwb3B1cF9mMmFhM2Q0M2JkYjE0MzM4OGZhOTMyZWNlZGQ5ZDIyMykKICAgICAgICAgICAgOwoKICAgICAgICAgICAgCiAgICAgICAgCjwvc2NyaXB0Pg== onload=\"this.contentDocument.open();this.contentDocument.write(atob(this.getAttribute('data-html')));this.contentDocument.close();\" allowfullscreen webkitallowfullscreen mozallowfullscreen></iframe></div></div>"
            ],
            "text/plain": [
              "<folium.folium.Map at 0x7feff781a208>"
            ]
          },
          "metadata": {
            "tags": []
          },
          "execution_count": 107
        }
      ]
    },
    {
      "cell_type": "code",
      "metadata": {
        "id": "dHJIvwAX9EXN",
        "colab_type": "code",
        "colab": {}
      },
      "source": [
        "\n",
        "map_osm = folium.Map(location=[35.166804, 129.083479], zoom_start=11)\n",
        "\n",
        "for item in busan.index:\n",
        "    lat = busan.loc[item,'위도']\n",
        "    long = busan.loc[item,'경도'] \n",
        "    folium.CircleMarker( [lat,long], \n",
        "                        radius=busan.loc[item,'전기'] , \n",
        "                        popup=busan.loc[item,'전기'] , \n",
        "                        color='crimson', \n",
        "                        fill =True).add_to(map_osm) \n",
        "map_osm"
      ],
      "execution_count": null,
      "outputs": []
    }
  ]
}