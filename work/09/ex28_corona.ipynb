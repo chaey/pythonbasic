{
  "nbformat": 4,
  "nbformat_minor": 0,
  "metadata": {
    "colab": {
      "name": "ex28_corona.ipynb",
      "provenance": [],
      "mount_file_id": "18JXLhJ1r7Q6mGt-H6KNu5-ugZFWPJW5J",
      "authorship_tag": "ABX9TyOmtvUCEndpqFsFgihxva+T"
    },
    "kernelspec": {
      "name": "python3",
      "display_name": "Python 3"
    }
  },
  "cells": [
    {
      "cell_type": "markdown",
      "metadata": {
        "id": "MrMFYpEg6WfE",
        "colab_type": "text"
      },
      "source": [
        "#### 해결문제\n",
        "\n",
        "\n",
        "---\n",
        "해결문제) \n",
        "코로나바이러스감염증-19(COVID-19) 사이트에서 시도별 발생동향 사이트에서 누적 확진환자 수를 실시간을 추출하여 그래프로 작성하시오.\n",
        "\n",
        "+ http://ncov.mohw.go.kr/bdBoardList_Real.do?brdId=1&brdGubun=13&ncvContSeq=&contSeq=&board_id=&gubun=\n",
        "---\n",
        "\n",
        "\n"
      ]
    },
    {
      "cell_type": "markdown",
      "metadata": {
        "id": "RWBEBNn__izA",
        "colab_type": "text"
      },
      "source": [
        "## 모듈 추가\n",
        "#####시각화 모듈 및 한글 처리"
      ]
    },
    {
      "cell_type": "code",
      "metadata": {
        "id": "JLCzRJPtILpm",
        "colab_type": "code",
        "colab": {
          "base_uri": "https://localhost:8080/",
          "height": 107
        },
        "outputId": "6b49a9cc-dcb2-4c87-db39-36f1110751fd"
      },
      "source": [
        "#한글 폰트 사용 : colab , 런타임 다시 시작 하기\n",
        "%config InlineBackend.figure_format = 'retina'\n",
        "!apt -qq -y install fonts-nanum\n"
      ],
      "execution_count": 1,
      "outputs": [
        {
          "output_type": "stream",
          "text": [
            "fonts-nanum is already the newest version (20170925-1).\n",
            "The following package was automatically installed and is no longer required:\n",
            "  libnvidia-common-440\n",
            "Use 'apt autoremove' to remove it.\n",
            "0 upgraded, 0 newly installed, 0 to remove and 35 not upgraded.\n"
          ],
          "name": "stdout"
        }
      ]
    },
    {
      "cell_type": "code",
      "metadata": {
        "id": "VvWk67Ha_GCI",
        "colab_type": "code",
        "colab": {
          "base_uri": "https://localhost:8080/",
          "height": 73
        },
        "outputId": "b667bb2a-d507-4478-cca3-9824f8c94603"
      },
      "source": [
        "#시각화 모듈\n",
        "import matplotlib\n",
        "import matplotlib.pyplot as plt\n",
        "\n",
        "#한글 폰트 사용 : vscode , window\n",
        "import matplotlib as mpl\n",
        "import matplotlib.font_manager as fm\n",
        "fontpath = '/usr/share/fonts/truetype/nanum/NanumBarunGothic.ttf'\n",
        "font = fm.FontProperties(fname=fontpath, size=9)\n",
        "plt.rc('font', family='NanumBarunGothic') \n",
        "mpl.font_manager._rebuild()\n",
        "\n",
        "#마이너스 깨지는 경우 처리\n",
        "matplotlib.rcParams['axes.unicode_minus'] = False \n",
        "\n",
        "#seaborn 라이브러리를 이용한 시각화\n",
        "import seaborn as sns\n",
        "\n",
        "#지도 시각화\n",
        "#pip install folium\n",
        "#https://github.com/southkorea/southkorea-maps \n",
        "import folium"
      ],
      "execution_count": 1,
      "outputs": [
        {
          "output_type": "stream",
          "text": [
            "/usr/local/lib/python3.6/dist-packages/statsmodels/tools/_testing.py:19: FutureWarning: pandas.util.testing is deprecated. Use the functions in the public API at pandas.testing instead.\n",
            "  import pandas.util.testing as tm\n"
          ],
          "name": "stderr"
        }
      ]
    },
    {
      "cell_type": "code",
      "metadata": {
        "id": "egXa3DRRADwX",
        "colab_type": "code",
        "colab": {}
      },
      "source": [
        "#데이터 처리 모듈\n",
        "import pandas as pd\n",
        "from urllib.request import urlopen\n",
        "from urllib import parse\n",
        "from bs4 import BeautifulSoup as bs"
      ],
      "execution_count": 2,
      "outputs": []
    },
    {
      "cell_type": "code",
      "metadata": {
        "id": "wGp2_0XjBxXB",
        "colab_type": "code",
        "colab": {}
      },
      "source": [
        "import warnings\n",
        "warnings.filterwarnings(action='ignore') "
      ],
      "execution_count": 3,
      "outputs": []
    },
    {
      "cell_type": "markdown",
      "metadata": {
        "id": "A5K9ftsLBdz1",
        "colab_type": "text"
      },
      "source": [
        "## 데이터 가져오기\n"
      ]
    },
    {
      "cell_type": "code",
      "metadata": {
        "id": "XeDW1zNsBs1r",
        "colab_type": "code",
        "colab": {}
      },
      "source": [
        "#html 데이터 가져오기\n",
        "url = 'http://ncov.mohw.go.kr/bdBoardList_Real.do?brdId=1&brdGubun=13&ncvContSeq=&contSeq=&board_id=&gubun='\n",
        "\n",
        "htmldata = urlopen(url).read().decode('utf-8')"
      ],
      "execution_count": 4,
      "outputs": []
    },
    {
      "cell_type": "code",
      "metadata": {
        "id": "GI3IdveqeIqJ",
        "colab_type": "code",
        "colab": {
          "base_uri": "https://localhost:8080/",
          "height": 35
        },
        "outputId": "f1c72fff-0283-43ca-be98-6472468f3250"
      },
      "source": [
        "type(htmldata)"
      ],
      "execution_count": 32,
      "outputs": [
        {
          "output_type": "execute_result",
          "data": {
            "text/plain": [
              "str"
            ]
          },
          "metadata": {
            "tags": []
          },
          "execution_count": 32
        }
      ]
    },
    {
      "cell_type": "code",
      "metadata": {
        "id": "ARTgb0f7B-U_",
        "colab_type": "code",
        "colab": {
          "base_uri": "https://localhost:8080/",
          "height": 55
        },
        "outputId": "c8d13c9e-b90b-47f1-a240-f22b60da58d8"
      },
      "source": [
        "#bs 데이터 만들기\n",
        "bsdata = bs(htmldata, \"html.parser\")\n",
        "data = bsdata.select('.data_table.midd.mgt24  tbody tr')\n",
        "print(data)"
      ],
      "execution_count": 6,
      "outputs": [
        {
          "output_type": "stream",
          "text": [
            "[<tr class=\"sumline\"><th scope=\"row\">합계</th><td class=\"number\" headers=\"status_level l_type1\">61</td><td class=\"number\" headers=\"status_level l_type2\">47</td><td class=\"number\" headers=\"status_level l_type3\">14</td><td class=\"number\" headers=\"status_con s_type1\">13,612</td><td class=\"number\" headers=\"status_con s_type2\">925</td><td class=\"number\" headers=\"status_con s_type3\">12,396</td><td class=\"number\" headers=\"status_con s_type4\">291</td><td class=\"number\" headers=\"status_con s_type5\">26.25</td></tr>, <tr><th scope=\"row\">서울</th><td class=\"number\" headers=\"status_level l_type1\">7</td><td class=\"number\" headers=\"status_level l_type2\">1</td><td class=\"number\" headers=\"status_level l_type3\">6</td><td class=\"number\" headers=\"status_con s_type1\">1,449</td><td class=\"number\" headers=\"status_con s_type2\">154</td><td class=\"number\" headers=\"status_con s_type3\">1,286</td><td class=\"number\" headers=\"status_con s_type4\">9</td><td class=\"number\" headers=\"status_con s_type5\">14.89</td></tr>, <tr><th scope=\"row\">부산</th><td class=\"number\" headers=\"status_level l_type1\">0</td><td class=\"number\" headers=\"status_level l_type2\">0</td><td class=\"number\" headers=\"status_level l_type3\">0</td><td class=\"number\" headers=\"status_con s_type1\">156</td><td class=\"number\" headers=\"status_con s_type2\">5</td><td class=\"number\" headers=\"status_con s_type3\">148</td><td class=\"number\" headers=\"status_con s_type4\">3</td><td class=\"number\" headers=\"status_con s_type5\">4.57</td></tr>, <tr><th scope=\"row\">대구</th><td class=\"number\" headers=\"status_level l_type1\">2</td><td class=\"number\" headers=\"status_level l_type2\">2</td><td class=\"number\" headers=\"status_level l_type3\">0</td><td class=\"number\" headers=\"status_con s_type1\">6,929</td><td class=\"number\" headers=\"status_con s_type2\">17</td><td class=\"number\" headers=\"status_con s_type3\">6,723</td><td class=\"number\" headers=\"status_con s_type4\">189</td><td class=\"number\" headers=\"status_con s_type5\">284.38</td></tr>, <tr><th scope=\"row\">인천</th><td class=\"number\" headers=\"status_level l_type1\">3</td><td class=\"number\" headers=\"status_level l_type2\">1</td><td class=\"number\" headers=\"status_level l_type3\">2</td><td class=\"number\" headers=\"status_con s_type1\">367</td><td class=\"number\" headers=\"status_con s_type2\">29</td><td class=\"number\" headers=\"status_con s_type3\">336</td><td class=\"number\" headers=\"status_con s_type4\">2</td><td class=\"number\" headers=\"status_con s_type5\">12.41</td></tr>, <tr><th scope=\"row\">광주</th><td class=\"number\" headers=\"status_level l_type1\">1</td><td class=\"number\" headers=\"status_level l_type2\">0</td><td class=\"number\" headers=\"status_level l_type3\">1</td><td class=\"number\" headers=\"status_con s_type1\">171</td><td class=\"number\" headers=\"status_con s_type2\">108</td><td class=\"number\" headers=\"status_con s_type3\">63</td><td class=\"number\" headers=\"status_con s_type4\">0</td><td class=\"number\" headers=\"status_con s_type5\">11.74</td></tr>, <tr><th scope=\"row\">대전</th><td class=\"number\" headers=\"status_level l_type1\">1</td><td class=\"number\" headers=\"status_level l_type2\">0</td><td class=\"number\" headers=\"status_level l_type3\">1</td><td class=\"number\" headers=\"status_con s_type1\">164</td><td class=\"number\" headers=\"status_con s_type2\">66</td><td class=\"number\" headers=\"status_con s_type3\">96</td><td class=\"number\" headers=\"status_con s_type4\">2</td><td class=\"number\" headers=\"status_con s_type5\">11.13</td></tr>, <tr><th scope=\"row\">울산</th><td class=\"number\" headers=\"status_level l_type1\">1</td><td class=\"number\" headers=\"status_level l_type2\">1</td><td class=\"number\" headers=\"status_level l_type3\">0</td><td class=\"number\" headers=\"status_con s_type1\">56</td><td class=\"number\" headers=\"status_con s_type2\">2</td><td class=\"number\" headers=\"status_con s_type3\">53</td><td class=\"number\" headers=\"status_con s_type4\">1</td><td class=\"number\" headers=\"status_con s_type5\">4.88</td></tr>, <tr><th scope=\"row\">세종</th><td class=\"number\" headers=\"status_level l_type1\">0</td><td class=\"number\" headers=\"status_level l_type2\">0</td><td class=\"number\" headers=\"status_level l_type3\">0</td><td class=\"number\" headers=\"status_con s_type1\">50</td><td class=\"number\" headers=\"status_con s_type2\">0</td><td class=\"number\" headers=\"status_con s_type3\">50</td><td class=\"number\" headers=\"status_con s_type4\">0</td><td class=\"number\" headers=\"status_con s_type5\">14.61</td></tr>, <tr><th scope=\"row\">경기</th><td class=\"number\" headers=\"status_level l_type1\">21</td><td class=\"number\" headers=\"status_level l_type2\">18</td><td class=\"number\" headers=\"status_level l_type3\">3</td><td class=\"number\" headers=\"status_con s_type1\">1,404</td><td class=\"number\" headers=\"status_con s_type2\">211</td><td class=\"number\" headers=\"status_con s_type3\">1,165</td><td class=\"number\" headers=\"status_con s_type4\">28</td><td class=\"number\" headers=\"status_con s_type5\">10.60</td></tr>, <tr><th scope=\"row\">강원</th><td class=\"number\" headers=\"status_level l_type1\">3</td><td class=\"number\" headers=\"status_level l_type2\">2</td><td class=\"number\" headers=\"status_level l_type3\">1</td><td class=\"number\" headers=\"status_con s_type1\">72</td><td class=\"number\" headers=\"status_con s_type2\">11</td><td class=\"number\" headers=\"status_con s_type3\">58</td><td class=\"number\" headers=\"status_con s_type4\">3</td><td class=\"number\" headers=\"status_con s_type5\">4.67</td></tr>, <tr><th scope=\"row\">충북</th><td class=\"number\" headers=\"status_level l_type1\">1</td><td class=\"number\" headers=\"status_level l_type2\">1</td><td class=\"number\" headers=\"status_level l_type3\">0</td><td class=\"number\" headers=\"status_con s_type1\">71</td><td class=\"number\" headers=\"status_con s_type2\">8</td><td class=\"number\" headers=\"status_con s_type3\">63</td><td class=\"number\" headers=\"status_con s_type4\">0</td><td class=\"number\" headers=\"status_con s_type5\">4.44</td></tr>, <tr><th scope=\"row\">충남</th><td class=\"number\" headers=\"status_level l_type1\">0</td><td class=\"number\" headers=\"status_level l_type2\">0</td><td class=\"number\" headers=\"status_level l_type3\">0</td><td class=\"number\" headers=\"status_con s_type1\">185</td><td class=\"number\" headers=\"status_con s_type2\">18</td><td class=\"number\" headers=\"status_con s_type3\">167</td><td class=\"number\" headers=\"status_con s_type4\">0</td><td class=\"number\" headers=\"status_con s_type5\">8.72</td></tr>, <tr><th scope=\"row\">전북</th><td class=\"number\" headers=\"status_level l_type1\">0</td><td class=\"number\" headers=\"status_level l_type2\">0</td><td class=\"number\" headers=\"status_level l_type3\">0</td><td class=\"number\" headers=\"status_con s_type1\">38</td><td class=\"number\" headers=\"status_con s_type2\">15</td><td class=\"number\" headers=\"status_con s_type3\">23</td><td class=\"number\" headers=\"status_con s_type4\">0</td><td class=\"number\" headers=\"status_con s_type5\">2.09</td></tr>, <tr><th scope=\"row\">전남</th><td class=\"number\" headers=\"status_level l_type1\">0</td><td class=\"number\" headers=\"status_level l_type2\">0</td><td class=\"number\" headers=\"status_level l_type3\">0</td><td class=\"number\" headers=\"status_con s_type1\">32</td><td class=\"number\" headers=\"status_con s_type2\">12</td><td class=\"number\" headers=\"status_con s_type3\">20</td><td class=\"number\" headers=\"status_con s_type4\">0</td><td class=\"number\" headers=\"status_con s_type5\">1.72</td></tr>, <tr><th scope=\"row\">경북</th><td class=\"number\" headers=\"status_level l_type1\">0</td><td class=\"number\" headers=\"status_level l_type2\">0</td><td class=\"number\" headers=\"status_level l_type3\">0</td><td class=\"number\" headers=\"status_con s_type1\">1,393</td><td class=\"number\" headers=\"status_con s_type2\">4</td><td class=\"number\" headers=\"status_con s_type3\">1,335</td><td class=\"number\" headers=\"status_con s_type4\">54</td><td class=\"number\" headers=\"status_con s_type5\">52.32</td></tr>, <tr><th scope=\"row\">경남</th><td class=\"number\" headers=\"status_level l_type1\">1</td><td class=\"number\" headers=\"status_level l_type2\">1</td><td class=\"number\" headers=\"status_level l_type3\">0</td><td class=\"number\" headers=\"status_con s_type1\">149</td><td class=\"number\" headers=\"status_con s_type2\">15</td><td class=\"number\" headers=\"status_con s_type3\">134</td><td class=\"number\" headers=\"status_con s_type4\">0</td><td class=\"number\" headers=\"status_con s_type5\">4.43</td></tr>, <tr><th scope=\"row\">제주</th><td class=\"number\" headers=\"status_level l_type1\">0</td><td class=\"number\" headers=\"status_level l_type2\">0</td><td class=\"number\" headers=\"status_level l_type3\">0</td><td class=\"number\" headers=\"status_con s_type1\">20</td><td class=\"number\" headers=\"status_con s_type2\">2</td><td class=\"number\" headers=\"status_con s_type3\">18</td><td class=\"number\" headers=\"status_con s_type4\">0</td><td class=\"number\" headers=\"status_con s_type5\">2.98</td></tr>, <tr><th scope=\"row\">검역</th><td class=\"number\" headers=\"status_level l_type1\">20</td><td class=\"number\" headers=\"status_level l_type2\">20</td><td class=\"number\" headers=\"status_level l_type3\">0</td><td class=\"number\" headers=\"status_con s_type1\">906</td><td class=\"number\" headers=\"status_con s_type2\">248</td><td class=\"number\" headers=\"status_con s_type3\">658</td><td class=\"number\" headers=\"status_con s_type4\">0</td><td class=\"number\" headers=\"status_con s_type5\">-</td></tr>]\n"
          ],
          "name": "stdout"
        }
      ]
    },
    {
      "cell_type": "code",
      "metadata": {
        "id": "6PSJJeovDaM5",
        "colab_type": "code",
        "colab": {}
      },
      "source": [
        "#데이터 추출하여 텍스트 파일 만들기\n",
        "with open('/content/drive/My Drive/PythonWork/PythonBasic/work/09/corona.csv', 'w') as fp:\n",
        "    for item in data :\n",
        "        row = item.select_one('th').text \n",
        "        type1 = item.select_one('[headers=\"status_con s_type1\"]') .text.replace(',','') \n",
        "        fp.write(row + \",\" + type1 + '\\n')"
      ],
      "execution_count": 7,
      "outputs": []
    },
    {
      "cell_type": "markdown",
      "metadata": {
        "id": "56SLXF69UuS3",
        "colab_type": "text"
      },
      "source": [
        "#### re모듈을 이용하여 추출\n",
        "\n",
        "\n",
        "```\n",
        "from ast import literal_eval\n",
        "\n",
        "dictionary = literal_eval(string)\n",
        "```\n",
        "\n"
      ]
    },
    {
      "cell_type": "code",
      "metadata": {
        "id": "lRijrEebUtuj",
        "colab_type": "code",
        "colab": {}
      },
      "source": [
        "import re\n",
        "from ast import literal_eval"
      ],
      "execution_count": 8,
      "outputs": []
    },
    {
      "cell_type": "code",
      "metadata": {
        "id": "N4AuYZqtXKlR",
        "colab_type": "code",
        "colab": {
          "base_uri": "https://localhost:8080/",
          "height": 107
        },
        "outputId": "908686b8-5321-4d90-c95f-c5bdb1723f82"
      },
      "source": [
        "RPSBaseData = re.search(r'RPSBaseData = ([\\w\\[\\]\\{\\}\\\"\\,: =]+)',htmldata )\n",
        "RPSBaseData = RPSBaseData.group(1)\n",
        "RPSBaseData"
      ],
      "execution_count": 33,
      "outputs": [
        {
          "output_type": "execute_result",
          "data": {
            "application/vnd.google.colaboratory.intrinsic": {
              "type": "string"
            },
            "text/plain": [
              "'[{\"name\": \"서울\", \"count\": 1449 },{\"name\": \"부산\", \"count\": 156 },{\"name\": \"대구\", \"count\": 6929 },{\"name\": \"인천\", \"count\": 367 },{\"name\": \"광주\", \"count\": 171 },{\"name\": \"대전\", \"count\": 164 },{\"name\": \"울산\", \"count\": 56 },{\"name\": \"세종\", \"count\": 50 },{\"name\": \"경기\", \"count\": 1404 },{\"name\": \"강원\", \"count\": 72 },{\"name\": \"충북\", \"count\": 71 },{\"name\": \"충남\", \"count\": 185 },{\"name\": \"전북\", \"count\": 38 },{\"name\": \"전남\", \"count\": 32 },{\"name\": \"경북\", \"count\": 1393 },{\"name\": \"경남\", \"count\": 149 },{\"name\": \"제주\", \"count\": 20 },{\"name\": \"검역\", \"count\": 906 }]'"
            ]
          },
          "metadata": {
            "tags": []
          },
          "execution_count": 33
        }
      ]
    },
    {
      "cell_type": "code",
      "metadata": {
        "id": "GJJw1g6Heuno",
        "colab_type": "code",
        "colab": {
          "base_uri": "https://localhost:8080/",
          "height": 35
        },
        "outputId": "e1a3d6df-fdae-44fc-c58a-a0f0a1815dec"
      },
      "source": [
        "type(RPSBaseData)"
      ],
      "execution_count": 34,
      "outputs": [
        {
          "output_type": "execute_result",
          "data": {
            "text/plain": [
              "str"
            ]
          },
          "metadata": {
            "tags": []
          },
          "execution_count": 34
        }
      ]
    },
    {
      "cell_type": "code",
      "metadata": {
        "id": "YduNY71eZ5Yc",
        "colab_type": "code",
        "colab": {
          "base_uri": "https://localhost:8080/",
          "height": 35
        },
        "outputId": "3480b7e4-81b4-419d-b483-bf8d0ed4e7fb"
      },
      "source": [
        "lt = literal_eval(RPSBaseData)\n",
        "type(lt)"
      ],
      "execution_count": 28,
      "outputs": [
        {
          "output_type": "execute_result",
          "data": {
            "text/plain": [
              "list"
            ]
          },
          "metadata": {
            "tags": []
          },
          "execution_count": 28
        }
      ]
    },
    {
      "cell_type": "code",
      "metadata": {
        "id": "Tu_2O8PmaEsh",
        "colab_type": "code",
        "colab": {
          "base_uri": "https://localhost:8080/",
          "height": 665
        },
        "outputId": "1fb5642d-e71d-43e5-ee46-65894f18bcb4"
      },
      "source": [
        "dt = {'지역':[], '확진자수':[]}\n",
        "for item in lt :\n",
        "    #print(item , \"=>\", type(item))\n",
        "    for k, v in item.items() :\n",
        "        #print(k , \",\", v)\n",
        "        if k == 'name' : dt['지역'].append(v)\n",
        "        elif k == 'count' : dt['확진자수'].append(v)\n",
        "\n",
        "dt"
      ],
      "execution_count": 38,
      "outputs": [
        {
          "output_type": "execute_result",
          "data": {
            "text/plain": [
              "{'지역': ['서울',\n",
              "  '부산',\n",
              "  '대구',\n",
              "  '인천',\n",
              "  '광주',\n",
              "  '대전',\n",
              "  '울산',\n",
              "  '세종',\n",
              "  '경기',\n",
              "  '강원',\n",
              "  '충북',\n",
              "  '충남',\n",
              "  '전북',\n",
              "  '전남',\n",
              "  '경북',\n",
              "  '경남',\n",
              "  '제주',\n",
              "  '검역'],\n",
              " '확진자수': [1449,\n",
              "  156,\n",
              "  6929,\n",
              "  367,\n",
              "  171,\n",
              "  164,\n",
              "  56,\n",
              "  50,\n",
              "  1404,\n",
              "  72,\n",
              "  71,\n",
              "  185,\n",
              "  38,\n",
              "  32,\n",
              "  1393,\n",
              "  149,\n",
              "  20,\n",
              "  906]}"
            ]
          },
          "metadata": {
            "tags": []
          },
          "execution_count": 38
        }
      ]
    },
    {
      "cell_type": "code",
      "metadata": {
        "id": "xcctlxhqf_15",
        "colab_type": "code",
        "colab": {
          "base_uri": "https://localhost:8080/",
          "height": 607
        },
        "outputId": "cf4dc891-9fe7-47f7-cd20-4da9f6aa4a85"
      },
      "source": [
        "redf = pd.DataFrame(dt)\n",
        "redf"
      ],
      "execution_count": 39,
      "outputs": [
        {
          "output_type": "execute_result",
          "data": {
            "text/html": [
              "<div>\n",
              "<style scoped>\n",
              "    .dataframe tbody tr th:only-of-type {\n",
              "        vertical-align: middle;\n",
              "    }\n",
              "\n",
              "    .dataframe tbody tr th {\n",
              "        vertical-align: top;\n",
              "    }\n",
              "\n",
              "    .dataframe thead th {\n",
              "        text-align: right;\n",
              "    }\n",
              "</style>\n",
              "<table border=\"1\" class=\"dataframe\">\n",
              "  <thead>\n",
              "    <tr style=\"text-align: right;\">\n",
              "      <th></th>\n",
              "      <th>지역</th>\n",
              "      <th>확진자수</th>\n",
              "    </tr>\n",
              "  </thead>\n",
              "  <tbody>\n",
              "    <tr>\n",
              "      <th>0</th>\n",
              "      <td>서울</td>\n",
              "      <td>1449</td>\n",
              "    </tr>\n",
              "    <tr>\n",
              "      <th>1</th>\n",
              "      <td>부산</td>\n",
              "      <td>156</td>\n",
              "    </tr>\n",
              "    <tr>\n",
              "      <th>2</th>\n",
              "      <td>대구</td>\n",
              "      <td>6929</td>\n",
              "    </tr>\n",
              "    <tr>\n",
              "      <th>3</th>\n",
              "      <td>인천</td>\n",
              "      <td>367</td>\n",
              "    </tr>\n",
              "    <tr>\n",
              "      <th>4</th>\n",
              "      <td>광주</td>\n",
              "      <td>171</td>\n",
              "    </tr>\n",
              "    <tr>\n",
              "      <th>5</th>\n",
              "      <td>대전</td>\n",
              "      <td>164</td>\n",
              "    </tr>\n",
              "    <tr>\n",
              "      <th>6</th>\n",
              "      <td>울산</td>\n",
              "      <td>56</td>\n",
              "    </tr>\n",
              "    <tr>\n",
              "      <th>7</th>\n",
              "      <td>세종</td>\n",
              "      <td>50</td>\n",
              "    </tr>\n",
              "    <tr>\n",
              "      <th>8</th>\n",
              "      <td>경기</td>\n",
              "      <td>1404</td>\n",
              "    </tr>\n",
              "    <tr>\n",
              "      <th>9</th>\n",
              "      <td>강원</td>\n",
              "      <td>72</td>\n",
              "    </tr>\n",
              "    <tr>\n",
              "      <th>10</th>\n",
              "      <td>충북</td>\n",
              "      <td>71</td>\n",
              "    </tr>\n",
              "    <tr>\n",
              "      <th>11</th>\n",
              "      <td>충남</td>\n",
              "      <td>185</td>\n",
              "    </tr>\n",
              "    <tr>\n",
              "      <th>12</th>\n",
              "      <td>전북</td>\n",
              "      <td>38</td>\n",
              "    </tr>\n",
              "    <tr>\n",
              "      <th>13</th>\n",
              "      <td>전남</td>\n",
              "      <td>32</td>\n",
              "    </tr>\n",
              "    <tr>\n",
              "      <th>14</th>\n",
              "      <td>경북</td>\n",
              "      <td>1393</td>\n",
              "    </tr>\n",
              "    <tr>\n",
              "      <th>15</th>\n",
              "      <td>경남</td>\n",
              "      <td>149</td>\n",
              "    </tr>\n",
              "    <tr>\n",
              "      <th>16</th>\n",
              "      <td>제주</td>\n",
              "      <td>20</td>\n",
              "    </tr>\n",
              "    <tr>\n",
              "      <th>17</th>\n",
              "      <td>검역</td>\n",
              "      <td>906</td>\n",
              "    </tr>\n",
              "  </tbody>\n",
              "</table>\n",
              "</div>"
            ],
            "text/plain": [
              "    지역  확진자수\n",
              "0   서울  1449\n",
              "1   부산   156\n",
              "2   대구  6929\n",
              "3   인천   367\n",
              "4   광주   171\n",
              "5   대전   164\n",
              "6   울산    56\n",
              "7   세종    50\n",
              "8   경기  1404\n",
              "9   강원    72\n",
              "10  충북    71\n",
              "11  충남   185\n",
              "12  전북    38\n",
              "13  전남    32\n",
              "14  경북  1393\n",
              "15  경남   149\n",
              "16  제주    20\n",
              "17  검역   906"
            ]
          },
          "metadata": {
            "tags": []
          },
          "execution_count": 39
        }
      ]
    },
    {
      "cell_type": "markdown",
      "metadata": {
        "id": "yCqzkTuUFpDF",
        "colab_type": "text"
      },
      "source": [
        "## 데이터 처리하기"
      ]
    },
    {
      "cell_type": "code",
      "metadata": {
        "id": "ecfQUULuFoRn",
        "colab_type": "code",
        "colab": {}
      },
      "source": [
        "df = pd.read_csv('/content/drive/My Drive/PythonWork/PythonBasic/work/09/corona.csv')"
      ],
      "execution_count": 5,
      "outputs": []
    },
    {
      "cell_type": "code",
      "metadata": {
        "id": "Djmgf1MOnlHG",
        "colab_type": "code",
        "colab": {
          "base_uri": "https://localhost:8080/",
          "height": 607
        },
        "outputId": "083e9228-a3ac-45dc-e13c-14a57ea8b0b0"
      },
      "source": [
        "df"
      ],
      "execution_count": 6,
      "outputs": [
        {
          "output_type": "execute_result",
          "data": {
            "text/html": [
              "<div>\n",
              "<style scoped>\n",
              "    .dataframe tbody tr th:only-of-type {\n",
              "        vertical-align: middle;\n",
              "    }\n",
              "\n",
              "    .dataframe tbody tr th {\n",
              "        vertical-align: top;\n",
              "    }\n",
              "\n",
              "    .dataframe thead th {\n",
              "        text-align: right;\n",
              "    }\n",
              "</style>\n",
              "<table border=\"1\" class=\"dataframe\">\n",
              "  <thead>\n",
              "    <tr style=\"text-align: right;\">\n",
              "      <th></th>\n",
              "      <th>합계</th>\n",
              "      <th>13612</th>\n",
              "    </tr>\n",
              "  </thead>\n",
              "  <tbody>\n",
              "    <tr>\n",
              "      <th>0</th>\n",
              "      <td>서울</td>\n",
              "      <td>1449</td>\n",
              "    </tr>\n",
              "    <tr>\n",
              "      <th>1</th>\n",
              "      <td>부산</td>\n",
              "      <td>156</td>\n",
              "    </tr>\n",
              "    <tr>\n",
              "      <th>2</th>\n",
              "      <td>대구</td>\n",
              "      <td>6929</td>\n",
              "    </tr>\n",
              "    <tr>\n",
              "      <th>3</th>\n",
              "      <td>인천</td>\n",
              "      <td>367</td>\n",
              "    </tr>\n",
              "    <tr>\n",
              "      <th>4</th>\n",
              "      <td>광주</td>\n",
              "      <td>171</td>\n",
              "    </tr>\n",
              "    <tr>\n",
              "      <th>5</th>\n",
              "      <td>대전</td>\n",
              "      <td>164</td>\n",
              "    </tr>\n",
              "    <tr>\n",
              "      <th>6</th>\n",
              "      <td>울산</td>\n",
              "      <td>56</td>\n",
              "    </tr>\n",
              "    <tr>\n",
              "      <th>7</th>\n",
              "      <td>세종</td>\n",
              "      <td>50</td>\n",
              "    </tr>\n",
              "    <tr>\n",
              "      <th>8</th>\n",
              "      <td>경기</td>\n",
              "      <td>1404</td>\n",
              "    </tr>\n",
              "    <tr>\n",
              "      <th>9</th>\n",
              "      <td>강원</td>\n",
              "      <td>72</td>\n",
              "    </tr>\n",
              "    <tr>\n",
              "      <th>10</th>\n",
              "      <td>충북</td>\n",
              "      <td>71</td>\n",
              "    </tr>\n",
              "    <tr>\n",
              "      <th>11</th>\n",
              "      <td>충남</td>\n",
              "      <td>185</td>\n",
              "    </tr>\n",
              "    <tr>\n",
              "      <th>12</th>\n",
              "      <td>전북</td>\n",
              "      <td>38</td>\n",
              "    </tr>\n",
              "    <tr>\n",
              "      <th>13</th>\n",
              "      <td>전남</td>\n",
              "      <td>32</td>\n",
              "    </tr>\n",
              "    <tr>\n",
              "      <th>14</th>\n",
              "      <td>경북</td>\n",
              "      <td>1393</td>\n",
              "    </tr>\n",
              "    <tr>\n",
              "      <th>15</th>\n",
              "      <td>경남</td>\n",
              "      <td>149</td>\n",
              "    </tr>\n",
              "    <tr>\n",
              "      <th>16</th>\n",
              "      <td>제주</td>\n",
              "      <td>20</td>\n",
              "    </tr>\n",
              "    <tr>\n",
              "      <th>17</th>\n",
              "      <td>검역</td>\n",
              "      <td>906</td>\n",
              "    </tr>\n",
              "  </tbody>\n",
              "</table>\n",
              "</div>"
            ],
            "text/plain": [
              "    합계  13612\n",
              "0   서울   1449\n",
              "1   부산    156\n",
              "2   대구   6929\n",
              "3   인천    367\n",
              "4   광주    171\n",
              "5   대전    164\n",
              "6   울산     56\n",
              "7   세종     50\n",
              "8   경기   1404\n",
              "9   강원     72\n",
              "10  충북     71\n",
              "11  충남    185\n",
              "12  전북     38\n",
              "13  전남     32\n",
              "14  경북   1393\n",
              "15  경남    149\n",
              "16  제주     20\n",
              "17  검역    906"
            ]
          },
          "metadata": {
            "tags": []
          },
          "execution_count": 6
        }
      ]
    },
    {
      "cell_type": "code",
      "metadata": {
        "id": "KxW3WOQ2GyYD",
        "colab_type": "code",
        "colab": {
          "base_uri": "https://localhost:8080/",
          "height": 638
        },
        "outputId": "5735beda-925b-437a-94b9-06aa0a929715"
      },
      "source": [
        "df.columns = ['지역', '확진환자']  \n",
        "df = df.set_index('지역') \n",
        "df"
      ],
      "execution_count": 7,
      "outputs": [
        {
          "output_type": "execute_result",
          "data": {
            "text/html": [
              "<div>\n",
              "<style scoped>\n",
              "    .dataframe tbody tr th:only-of-type {\n",
              "        vertical-align: middle;\n",
              "    }\n",
              "\n",
              "    .dataframe tbody tr th {\n",
              "        vertical-align: top;\n",
              "    }\n",
              "\n",
              "    .dataframe thead th {\n",
              "        text-align: right;\n",
              "    }\n",
              "</style>\n",
              "<table border=\"1\" class=\"dataframe\">\n",
              "  <thead>\n",
              "    <tr style=\"text-align: right;\">\n",
              "      <th></th>\n",
              "      <th>확진환자</th>\n",
              "    </tr>\n",
              "    <tr>\n",
              "      <th>지역</th>\n",
              "      <th></th>\n",
              "    </tr>\n",
              "  </thead>\n",
              "  <tbody>\n",
              "    <tr>\n",
              "      <th>서울</th>\n",
              "      <td>1449</td>\n",
              "    </tr>\n",
              "    <tr>\n",
              "      <th>부산</th>\n",
              "      <td>156</td>\n",
              "    </tr>\n",
              "    <tr>\n",
              "      <th>대구</th>\n",
              "      <td>6929</td>\n",
              "    </tr>\n",
              "    <tr>\n",
              "      <th>인천</th>\n",
              "      <td>367</td>\n",
              "    </tr>\n",
              "    <tr>\n",
              "      <th>광주</th>\n",
              "      <td>171</td>\n",
              "    </tr>\n",
              "    <tr>\n",
              "      <th>대전</th>\n",
              "      <td>164</td>\n",
              "    </tr>\n",
              "    <tr>\n",
              "      <th>울산</th>\n",
              "      <td>56</td>\n",
              "    </tr>\n",
              "    <tr>\n",
              "      <th>세종</th>\n",
              "      <td>50</td>\n",
              "    </tr>\n",
              "    <tr>\n",
              "      <th>경기</th>\n",
              "      <td>1404</td>\n",
              "    </tr>\n",
              "    <tr>\n",
              "      <th>강원</th>\n",
              "      <td>72</td>\n",
              "    </tr>\n",
              "    <tr>\n",
              "      <th>충북</th>\n",
              "      <td>71</td>\n",
              "    </tr>\n",
              "    <tr>\n",
              "      <th>충남</th>\n",
              "      <td>185</td>\n",
              "    </tr>\n",
              "    <tr>\n",
              "      <th>전북</th>\n",
              "      <td>38</td>\n",
              "    </tr>\n",
              "    <tr>\n",
              "      <th>전남</th>\n",
              "      <td>32</td>\n",
              "    </tr>\n",
              "    <tr>\n",
              "      <th>경북</th>\n",
              "      <td>1393</td>\n",
              "    </tr>\n",
              "    <tr>\n",
              "      <th>경남</th>\n",
              "      <td>149</td>\n",
              "    </tr>\n",
              "    <tr>\n",
              "      <th>제주</th>\n",
              "      <td>20</td>\n",
              "    </tr>\n",
              "    <tr>\n",
              "      <th>검역</th>\n",
              "      <td>906</td>\n",
              "    </tr>\n",
              "  </tbody>\n",
              "</table>\n",
              "</div>"
            ],
            "text/plain": [
              "    확진환자\n",
              "지역      \n",
              "서울  1449\n",
              "부산   156\n",
              "대구  6929\n",
              "인천   367\n",
              "광주   171\n",
              "대전   164\n",
              "울산    56\n",
              "세종    50\n",
              "경기  1404\n",
              "강원    72\n",
              "충북    71\n",
              "충남   185\n",
              "전북    38\n",
              "전남    32\n",
              "경북  1393\n",
              "경남   149\n",
              "제주    20\n",
              "검역   906"
            ]
          },
          "metadata": {
            "tags": []
          },
          "execution_count": 7
        }
      ]
    },
    {
      "cell_type": "markdown",
      "metadata": {
        "id": "1I1yos_lGVPj",
        "colab_type": "text"
      },
      "source": [
        "## 그래프 그리기"
      ]
    },
    {
      "cell_type": "code",
      "metadata": {
        "id": "Uu9VJi_sGXu_",
        "colab_type": "code",
        "colab": {
          "base_uri": "https://localhost:8080/",
          "height": 71
        },
        "outputId": "0b9b2f5f-079e-48c0-b5cf-a8bf5ca9efbc"
      },
      "source": [
        "df = df.sort_values('확진환자')\n",
        "df.index"
      ],
      "execution_count": 8,
      "outputs": [
        {
          "output_type": "execute_result",
          "data": {
            "text/plain": [
              "Index(['제주', '전남', '전북', '세종', '울산', '충북', '강원', '경남', '부산', '대전', '광주', '충남',\n",
              "       '인천', '검역', '경북', '경기', '서울', '대구'],\n",
              "      dtype='object', name='지역')"
            ]
          },
          "metadata": {
            "tags": []
          },
          "execution_count": 8
        }
      ]
    },
    {
      "cell_type": "code",
      "metadata": {
        "id": "xXqGwdnKJ96N",
        "colab_type": "code",
        "colab": {
          "base_uri": "https://localhost:8080/",
          "height": 638
        },
        "outputId": "181e55b3-1cd9-4109-8899-d3f10bbe568b"
      },
      "source": [
        "df"
      ],
      "execution_count": 9,
      "outputs": [
        {
          "output_type": "execute_result",
          "data": {
            "text/html": [
              "<div>\n",
              "<style scoped>\n",
              "    .dataframe tbody tr th:only-of-type {\n",
              "        vertical-align: middle;\n",
              "    }\n",
              "\n",
              "    .dataframe tbody tr th {\n",
              "        vertical-align: top;\n",
              "    }\n",
              "\n",
              "    .dataframe thead th {\n",
              "        text-align: right;\n",
              "    }\n",
              "</style>\n",
              "<table border=\"1\" class=\"dataframe\">\n",
              "  <thead>\n",
              "    <tr style=\"text-align: right;\">\n",
              "      <th></th>\n",
              "      <th>확진환자</th>\n",
              "    </tr>\n",
              "    <tr>\n",
              "      <th>지역</th>\n",
              "      <th></th>\n",
              "    </tr>\n",
              "  </thead>\n",
              "  <tbody>\n",
              "    <tr>\n",
              "      <th>제주</th>\n",
              "      <td>20</td>\n",
              "    </tr>\n",
              "    <tr>\n",
              "      <th>전남</th>\n",
              "      <td>32</td>\n",
              "    </tr>\n",
              "    <tr>\n",
              "      <th>전북</th>\n",
              "      <td>38</td>\n",
              "    </tr>\n",
              "    <tr>\n",
              "      <th>세종</th>\n",
              "      <td>50</td>\n",
              "    </tr>\n",
              "    <tr>\n",
              "      <th>울산</th>\n",
              "      <td>56</td>\n",
              "    </tr>\n",
              "    <tr>\n",
              "      <th>충북</th>\n",
              "      <td>71</td>\n",
              "    </tr>\n",
              "    <tr>\n",
              "      <th>강원</th>\n",
              "      <td>72</td>\n",
              "    </tr>\n",
              "    <tr>\n",
              "      <th>경남</th>\n",
              "      <td>149</td>\n",
              "    </tr>\n",
              "    <tr>\n",
              "      <th>부산</th>\n",
              "      <td>156</td>\n",
              "    </tr>\n",
              "    <tr>\n",
              "      <th>대전</th>\n",
              "      <td>164</td>\n",
              "    </tr>\n",
              "    <tr>\n",
              "      <th>광주</th>\n",
              "      <td>171</td>\n",
              "    </tr>\n",
              "    <tr>\n",
              "      <th>충남</th>\n",
              "      <td>185</td>\n",
              "    </tr>\n",
              "    <tr>\n",
              "      <th>인천</th>\n",
              "      <td>367</td>\n",
              "    </tr>\n",
              "    <tr>\n",
              "      <th>검역</th>\n",
              "      <td>906</td>\n",
              "    </tr>\n",
              "    <tr>\n",
              "      <th>경북</th>\n",
              "      <td>1393</td>\n",
              "    </tr>\n",
              "    <tr>\n",
              "      <th>경기</th>\n",
              "      <td>1404</td>\n",
              "    </tr>\n",
              "    <tr>\n",
              "      <th>서울</th>\n",
              "      <td>1449</td>\n",
              "    </tr>\n",
              "    <tr>\n",
              "      <th>대구</th>\n",
              "      <td>6929</td>\n",
              "    </tr>\n",
              "  </tbody>\n",
              "</table>\n",
              "</div>"
            ],
            "text/plain": [
              "    확진환자\n",
              "지역      \n",
              "제주    20\n",
              "전남    32\n",
              "전북    38\n",
              "세종    50\n",
              "울산    56\n",
              "충북    71\n",
              "강원    72\n",
              "경남   149\n",
              "부산   156\n",
              "대전   164\n",
              "광주   171\n",
              "충남   185\n",
              "인천   367\n",
              "검역   906\n",
              "경북  1393\n",
              "경기  1404\n",
              "서울  1449\n",
              "대구  6929"
            ]
          },
          "metadata": {
            "tags": []
          },
          "execution_count": 9
        }
      ]
    },
    {
      "cell_type": "code",
      "metadata": {
        "id": "gBi64FTcJp1p",
        "colab_type": "code",
        "colab": {
          "base_uri": "https://localhost:8080/",
          "height": 446
        },
        "outputId": "8d80cd8a-6b1b-426f-c40b-029a3ae245d2"
      },
      "source": [
        "df.plot(kind='barh', figsize=(10,7))\n"
      ],
      "execution_count": 10,
      "outputs": [
        {
          "output_type": "execute_result",
          "data": {
            "text/plain": [
              "<matplotlib.axes._subplots.AxesSubplot at 0x7f553dc737b8>"
            ]
          },
          "metadata": {
            "tags": []
          },
          "execution_count": 10
        },
        {
          "output_type": "display_data",
          "data": {
            "image/png": "[encoded data removed]",
            "text/plain": [
              "<Figure size 720x504 with 1 Axes>"
            ]
          },
          "metadata": {
            "tags": [],
            "needs_background": "light"
          }
        }
      ]
    },
    {
      "cell_type": "code",
      "metadata": {
        "id": "o6osQjvlKhk6",
        "colab_type": "code",
        "colab": {
          "base_uri": "https://localhost:8080/",
          "height": 607
        },
        "outputId": "8c5834ea-1999-4817-8e46-e3cb638e031b"
      },
      "source": [
        "df = df.reset_index()\n",
        "df"
      ],
      "execution_count": 11,
      "outputs": [
        {
          "output_type": "execute_result",
          "data": {
            "text/html": [
              "<div>\n",
              "<style scoped>\n",
              "    .dataframe tbody tr th:only-of-type {\n",
              "        vertical-align: middle;\n",
              "    }\n",
              "\n",
              "    .dataframe tbody tr th {\n",
              "        vertical-align: top;\n",
              "    }\n",
              "\n",
              "    .dataframe thead th {\n",
              "        text-align: right;\n",
              "    }\n",
              "</style>\n",
              "<table border=\"1\" class=\"dataframe\">\n",
              "  <thead>\n",
              "    <tr style=\"text-align: right;\">\n",
              "      <th></th>\n",
              "      <th>지역</th>\n",
              "      <th>확진환자</th>\n",
              "    </tr>\n",
              "  </thead>\n",
              "  <tbody>\n",
              "    <tr>\n",
              "      <th>0</th>\n",
              "      <td>제주</td>\n",
              "      <td>20</td>\n",
              "    </tr>\n",
              "    <tr>\n",
              "      <th>1</th>\n",
              "      <td>전남</td>\n",
              "      <td>32</td>\n",
              "    </tr>\n",
              "    <tr>\n",
              "      <th>2</th>\n",
              "      <td>전북</td>\n",
              "      <td>38</td>\n",
              "    </tr>\n",
              "    <tr>\n",
              "      <th>3</th>\n",
              "      <td>세종</td>\n",
              "      <td>50</td>\n",
              "    </tr>\n",
              "    <tr>\n",
              "      <th>4</th>\n",
              "      <td>울산</td>\n",
              "      <td>56</td>\n",
              "    </tr>\n",
              "    <tr>\n",
              "      <th>5</th>\n",
              "      <td>충북</td>\n",
              "      <td>71</td>\n",
              "    </tr>\n",
              "    <tr>\n",
              "      <th>6</th>\n",
              "      <td>강원</td>\n",
              "      <td>72</td>\n",
              "    </tr>\n",
              "    <tr>\n",
              "      <th>7</th>\n",
              "      <td>경남</td>\n",
              "      <td>149</td>\n",
              "    </tr>\n",
              "    <tr>\n",
              "      <th>8</th>\n",
              "      <td>부산</td>\n",
              "      <td>156</td>\n",
              "    </tr>\n",
              "    <tr>\n",
              "      <th>9</th>\n",
              "      <td>대전</td>\n",
              "      <td>164</td>\n",
              "    </tr>\n",
              "    <tr>\n",
              "      <th>10</th>\n",
              "      <td>광주</td>\n",
              "      <td>171</td>\n",
              "    </tr>\n",
              "    <tr>\n",
              "      <th>11</th>\n",
              "      <td>충남</td>\n",
              "      <td>185</td>\n",
              "    </tr>\n",
              "    <tr>\n",
              "      <th>12</th>\n",
              "      <td>인천</td>\n",
              "      <td>367</td>\n",
              "    </tr>\n",
              "    <tr>\n",
              "      <th>13</th>\n",
              "      <td>검역</td>\n",
              "      <td>906</td>\n",
              "    </tr>\n",
              "    <tr>\n",
              "      <th>14</th>\n",
              "      <td>경북</td>\n",
              "      <td>1393</td>\n",
              "    </tr>\n",
              "    <tr>\n",
              "      <th>15</th>\n",
              "      <td>경기</td>\n",
              "      <td>1404</td>\n",
              "    </tr>\n",
              "    <tr>\n",
              "      <th>16</th>\n",
              "      <td>서울</td>\n",
              "      <td>1449</td>\n",
              "    </tr>\n",
              "    <tr>\n",
              "      <th>17</th>\n",
              "      <td>대구</td>\n",
              "      <td>6929</td>\n",
              "    </tr>\n",
              "  </tbody>\n",
              "</table>\n",
              "</div>"
            ],
            "text/plain": [
              "    지역  확진환자\n",
              "0   제주    20\n",
              "1   전남    32\n",
              "2   전북    38\n",
              "3   세종    50\n",
              "4   울산    56\n",
              "5   충북    71\n",
              "6   강원    72\n",
              "7   경남   149\n",
              "8   부산   156\n",
              "9   대전   164\n",
              "10  광주   171\n",
              "11  충남   185\n",
              "12  인천   367\n",
              "13  검역   906\n",
              "14  경북  1393\n",
              "15  경기  1404\n",
              "16  서울  1449\n",
              "17  대구  6929"
            ]
          },
          "metadata": {
            "tags": []
          },
          "execution_count": 11
        }
      ]
    },
    {
      "cell_type": "code",
      "metadata": {
        "id": "fLbn4xsyKSfk",
        "colab_type": "code",
        "colab": {
          "base_uri": "https://localhost:8080/",
          "height": 428
        },
        "outputId": "80c51242-305c-4738-efee-cbdaf5ced8be"
      },
      "source": [
        "df.plot(kind='barh', figsize=(10,7)) \n",
        "plt.yticks(df.index, df['지역'])\n",
        "for idx in df.index :\n",
        "    plt.text(df.loc[idx, '확진환자'], idx, str(df.loc[idx, '확진환자']))\n",
        "plt.legend(loc='lower right')\n",
        "plt.show()"
      ],
      "execution_count": 12,
      "outputs": [
        {
          "output_type": "display_data",
          "data": {
            "image/png": "[encoded data removed]",
            "text/plain": [
              "<Figure size 720x504 with 1 Axes>"
            ]
          },
          "metadata": {
            "tags": [],
            "needs_background": "light"
          }
        }
      ]
    },
    {
      "cell_type": "code",
      "metadata": {
        "id": "POSA9j2GZvEX",
        "colab_type": "code",
        "colab": {
          "base_uri": "https://localhost:8080/",
          "height": 106
        },
        "outputId": "2684427c-0644-4dbe-8402-502f5f81404d"
      },
      "source": [
        "df.head(2)"
      ],
      "execution_count": null,
      "outputs": [
        {
          "output_type": "execute_result",
          "data": {
            "text/html": [
              "<div>\n",
              "<style scoped>\n",
              "    .dataframe tbody tr th:only-of-type {\n",
              "        vertical-align: middle;\n",
              "    }\n",
              "\n",
              "    .dataframe tbody tr th {\n",
              "        vertical-align: top;\n",
              "    }\n",
              "\n",
              "    .dataframe thead th {\n",
              "        text-align: right;\n",
              "    }\n",
              "</style>\n",
              "<table border=\"1\" class=\"dataframe\">\n",
              "  <thead>\n",
              "    <tr style=\"text-align: right;\">\n",
              "      <th></th>\n",
              "      <th>지역</th>\n",
              "      <th>확진환자</th>\n",
              "    </tr>\n",
              "  </thead>\n",
              "  <tbody>\n",
              "    <tr>\n",
              "      <th>0</th>\n",
              "      <td>제주</td>\n",
              "      <td>20</td>\n",
              "    </tr>\n",
              "    <tr>\n",
              "      <th>1</th>\n",
              "      <td>전남</td>\n",
              "      <td>32</td>\n",
              "    </tr>\n",
              "  </tbody>\n",
              "</table>\n",
              "</div>"
            ],
            "text/plain": [
              "   지역  확진환자\n",
              "0  제주    20\n",
              "1  전남    32"
            ]
          },
          "metadata": {
            "tags": []
          },
          "execution_count": 15
        }
      ]
    },
    {
      "cell_type": "code",
      "metadata": {
        "id": "FIRyCInAySXH",
        "colab_type": "code",
        "colab": {
          "base_uri": "https://localhost:8080/",
          "height": 106
        },
        "outputId": "e9078243-153f-4482-a2b3-5aa4832d7157"
      },
      "source": [
        "df.head(2)"
      ],
      "execution_count": null,
      "outputs": [
        {
          "output_type": "execute_result",
          "data": {
            "text/html": [
              "<div>\n",
              "<style scoped>\n",
              "    .dataframe tbody tr th:only-of-type {\n",
              "        vertical-align: middle;\n",
              "    }\n",
              "\n",
              "    .dataframe tbody tr th {\n",
              "        vertical-align: top;\n",
              "    }\n",
              "\n",
              "    .dataframe thead th {\n",
              "        text-align: right;\n",
              "    }\n",
              "</style>\n",
              "<table border=\"1\" class=\"dataframe\">\n",
              "  <thead>\n",
              "    <tr style=\"text-align: right;\">\n",
              "      <th></th>\n",
              "      <th>지역</th>\n",
              "      <th>확진환자</th>\n",
              "    </tr>\n",
              "  </thead>\n",
              "  <tbody>\n",
              "    <tr>\n",
              "      <th>0</th>\n",
              "      <td>제주</td>\n",
              "      <td>20</td>\n",
              "    </tr>\n",
              "    <tr>\n",
              "      <th>1</th>\n",
              "      <td>전남</td>\n",
              "      <td>32</td>\n",
              "    </tr>\n",
              "  </tbody>\n",
              "</table>\n",
              "</div>"
            ],
            "text/plain": [
              "   지역  확진환자\n",
              "0  제주    20\n",
              "1  전남    32"
            ]
          },
          "metadata": {
            "tags": []
          },
          "execution_count": 16
        }
      ]
    },
    {
      "cell_type": "code",
      "metadata": {
        "id": "hcxE9m2tZNd3",
        "colab_type": "code",
        "colab": {
          "base_uri": "https://localhost:8080/",
          "height": 279
        },
        "outputId": "b5d615eb-3fbe-4745-a9a0-65b3665507b6"
      },
      "source": [
        "plt.figure(figsize=(10,4))\n",
        "sns.barplot(x=\"확진환자\", y=\"지역\",data=df)\n",
        "plt.show()"
      ],
      "execution_count": 15,
      "outputs": [
        {
          "output_type": "display_data",
          "data": {
            "image/png": "[encoded data removed]",
            "text/plain": [
              "<Figure size 720x288 with 1 Axes>"
            ]
          },
          "metadata": {
            "tags": [],
            "needs_background": "light"
          }
        }
      ]
    },
    {
      "cell_type": "code",
      "metadata": {
        "id": "-qZ4k9qzzHIr",
        "colab_type": "code",
        "colab": {
          "base_uri": "https://localhost:8080/",
          "height": 297
        },
        "outputId": "6d3aa8ac-35f9-4a96-b7b0-6db4f462a330"
      },
      "source": [
        "sns.distplot( df[\"확진환자\"],hist=True)"
      ],
      "execution_count": 17,
      "outputs": [
        {
          "output_type": "execute_result",
          "data": {
            "text/plain": [
              "<matplotlib.axes._subplots.AxesSubplot at 0x7f553d01aa20>"
            ]
          },
          "metadata": {
            "tags": []
          },
          "execution_count": 17
        },
        {
          "output_type": "display_data",
          "data": {
            "image/png": "[encoded data removed]",
            "text/plain": [
              "<Figure size 432x288 with 1 Axes>"
            ]
          },
          "metadata": {
            "tags": [],
            "needs_background": "light"
          }
        }
      ]
    },
    {
      "cell_type": "markdown",
      "metadata": {
        "id": "v932n-WIRmK3",
        "colab_type": "text"
      },
      "source": [
        "## 지역 위치 정보 결합"
      ]
    },
    {
      "cell_type": "code",
      "metadata": {
        "id": "VOsFBHV1S9lj",
        "colab_type": "code",
        "colab": {
          "base_uri": "https://localhost:8080/",
          "height": 106
        },
        "outputId": "e0e7b9a7-3cce-4adc-a940-1057122e13e7"
      },
      "source": [
        "df.head(2)"
      ],
      "execution_count": null,
      "outputs": [
        {
          "output_type": "execute_result",
          "data": {
            "text/html": [
              "<div>\n",
              "<style scoped>\n",
              "    .dataframe tbody tr th:only-of-type {\n",
              "        vertical-align: middle;\n",
              "    }\n",
              "\n",
              "    .dataframe tbody tr th {\n",
              "        vertical-align: top;\n",
              "    }\n",
              "\n",
              "    .dataframe thead th {\n",
              "        text-align: right;\n",
              "    }\n",
              "</style>\n",
              "<table border=\"1\" class=\"dataframe\">\n",
              "  <thead>\n",
              "    <tr style=\"text-align: right;\">\n",
              "      <th></th>\n",
              "      <th>지역</th>\n",
              "      <th>확진환자</th>\n",
              "    </tr>\n",
              "  </thead>\n",
              "  <tbody>\n",
              "    <tr>\n",
              "      <th>0</th>\n",
              "      <td>제주</td>\n",
              "      <td>20</td>\n",
              "    </tr>\n",
              "    <tr>\n",
              "      <th>1</th>\n",
              "      <td>전남</td>\n",
              "      <td>32</td>\n",
              "    </tr>\n",
              "  </tbody>\n",
              "</table>\n",
              "</div>"
            ],
            "text/plain": [
              "   지역  확진환자\n",
              "0  제주    20\n",
              "1  전남    32"
            ]
          },
          "metadata": {
            "tags": []
          },
          "execution_count": 19
        }
      ]
    },
    {
      "cell_type": "code",
      "metadata": {
        "id": "UI8pV3FnRX2H",
        "colab_type": "code",
        "colab": {
          "base_uri": "https://localhost:8080/",
          "height": 106
        },
        "outputId": "e40c5a6d-b73b-483a-a9b2-eaeff3796786"
      },
      "source": [
        "dfarea  = pd.read_csv('/content/drive/My Drive/PythonWork/PythonBasic/work/09/코로나지역.txt', names=['지역','위도', '경도'], header=None)\n",
        "dfarea.head(2) "
      ],
      "execution_count": null,
      "outputs": [
        {
          "output_type": "execute_result",
          "data": {
            "text/html": [
              "<div>\n",
              "<style scoped>\n",
              "    .dataframe tbody tr th:only-of-type {\n",
              "        vertical-align: middle;\n",
              "    }\n",
              "\n",
              "    .dataframe tbody tr th {\n",
              "        vertical-align: top;\n",
              "    }\n",
              "\n",
              "    .dataframe thead th {\n",
              "        text-align: right;\n",
              "    }\n",
              "</style>\n",
              "<table border=\"1\" class=\"dataframe\">\n",
              "  <thead>\n",
              "    <tr style=\"text-align: right;\">\n",
              "      <th></th>\n",
              "      <th>지역</th>\n",
              "      <th>위도</th>\n",
              "      <th>경도</th>\n",
              "    </tr>\n",
              "  </thead>\n",
              "  <tbody>\n",
              "    <tr>\n",
              "      <th>0</th>\n",
              "      <td>서울</td>\n",
              "      <td>37.568909</td>\n",
              "      <td>126.978092</td>\n",
              "    </tr>\n",
              "    <tr>\n",
              "      <th>1</th>\n",
              "      <td>부산</td>\n",
              "      <td>35.179960</td>\n",
              "      <td>129.074972</td>\n",
              "    </tr>\n",
              "  </tbody>\n",
              "</table>\n",
              "</div>"
            ],
            "text/plain": [
              "   지역         위도          경도\n",
              "0  서울  37.568909  126.978092\n",
              "1  부산  35.179960  129.074972"
            ]
          },
          "metadata": {
            "tags": []
          },
          "execution_count": 20
        }
      ]
    },
    {
      "cell_type": "code",
      "metadata": {
        "id": "lI5yDquPUtuV",
        "colab_type": "code",
        "colab": {}
      },
      "source": [
        "dfarea['위도'] = dfarea['위도'].astype(float)\n",
        "dfarea['경도'] = dfarea['경도'].astype(float)"
      ],
      "execution_count": null,
      "outputs": []
    },
    {
      "cell_type": "code",
      "metadata": {
        "id": "6Hl4dCnHUe4k",
        "colab_type": "code",
        "colab": {
          "base_uri": "https://localhost:8080/",
          "height": 193
        },
        "outputId": "e99a1a46-8e71-4cf9-c573-2d2217458835"
      },
      "source": [
        "dfarea.info()"
      ],
      "execution_count": null,
      "outputs": [
        {
          "output_type": "stream",
          "text": [
            "<class 'pandas.core.frame.DataFrame'>\n",
            "RangeIndex: 18 entries, 0 to 17\n",
            "Data columns (total 3 columns):\n",
            " #   Column  Non-Null Count  Dtype  \n",
            "---  ------  --------------  -----  \n",
            " 0   지역      18 non-null     object \n",
            " 1   위도      18 non-null     float64\n",
            " 2   경도      18 non-null     float64\n",
            "dtypes: float64(2), object(1)\n",
            "memory usage: 560.0+ bytes\n"
          ],
          "name": "stdout"
        }
      ]
    },
    {
      "cell_type": "code",
      "metadata": {
        "id": "axralp9OTi-F",
        "colab_type": "code",
        "colab": {
          "base_uri": "https://localhost:8080/",
          "height": 106
        },
        "outputId": "ad01f84b-d215-4e86-9e0c-4299542c0dff"
      },
      "source": [
        "df = df.set_index('지역')\n",
        "dfarea = dfarea.set_index('지역')\n",
        "dfloc = pd.concat([df, dfarea], axis=1)\n",
        "dfloc.head(2)"
      ],
      "execution_count": null,
      "outputs": [
        {
          "output_type": "execute_result",
          "data": {
            "text/html": [
              "<div>\n",
              "<style scoped>\n",
              "    .dataframe tbody tr th:only-of-type {\n",
              "        vertical-align: middle;\n",
              "    }\n",
              "\n",
              "    .dataframe tbody tr th {\n",
              "        vertical-align: top;\n",
              "    }\n",
              "\n",
              "    .dataframe thead th {\n",
              "        text-align: right;\n",
              "    }\n",
              "</style>\n",
              "<table border=\"1\" class=\"dataframe\">\n",
              "  <thead>\n",
              "    <tr style=\"text-align: right;\">\n",
              "      <th></th>\n",
              "      <th>확진환자</th>\n",
              "      <th>위도</th>\n",
              "      <th>경도</th>\n",
              "    </tr>\n",
              "  </thead>\n",
              "  <tbody>\n",
              "    <tr>\n",
              "      <th>제주</th>\n",
              "      <td>20</td>\n",
              "      <td>33.489129</td>\n",
              "      <td>126.498065</td>\n",
              "    </tr>\n",
              "    <tr>\n",
              "      <th>전남</th>\n",
              "      <td>32</td>\n",
              "      <td>34.816410</td>\n",
              "      <td>126.462949</td>\n",
              "    </tr>\n",
              "  </tbody>\n",
              "</table>\n",
              "</div>"
            ],
            "text/plain": [
              "    확진환자         위도          경도\n",
              "제주    20  33.489129  126.498065\n",
              "전남    32  34.816410  126.462949"
            ]
          },
          "metadata": {
            "tags": []
          },
          "execution_count": 23
        }
      ]
    },
    {
      "cell_type": "code",
      "metadata": {
        "id": "q9sB_imNz7N2",
        "colab_type": "code",
        "colab": {
          "base_uri": "https://localhost:8080/",
          "height": 580
        },
        "outputId": "20477e3a-1f8d-448f-c8a9-f9cd8c66bdef"
      },
      "source": [
        "dfloc"
      ],
      "execution_count": null,
      "outputs": [
        {
          "output_type": "execute_result",
          "data": {
            "text/html": [
              "<div>\n",
              "<style scoped>\n",
              "    .dataframe tbody tr th:only-of-type {\n",
              "        vertical-align: middle;\n",
              "    }\n",
              "\n",
              "    .dataframe tbody tr th {\n",
              "        vertical-align: top;\n",
              "    }\n",
              "\n",
              "    .dataframe thead th {\n",
              "        text-align: right;\n",
              "    }\n",
              "</style>\n",
              "<table border=\"1\" class=\"dataframe\">\n",
              "  <thead>\n",
              "    <tr style=\"text-align: right;\">\n",
              "      <th></th>\n",
              "      <th>확진환자</th>\n",
              "      <th>위도</th>\n",
              "      <th>경도</th>\n",
              "    </tr>\n",
              "  </thead>\n",
              "  <tbody>\n",
              "    <tr>\n",
              "      <th>제주</th>\n",
              "      <td>20</td>\n",
              "      <td>33.489129</td>\n",
              "      <td>126.498065</td>\n",
              "    </tr>\n",
              "    <tr>\n",
              "      <th>전남</th>\n",
              "      <td>32</td>\n",
              "      <td>34.816410</td>\n",
              "      <td>126.462949</td>\n",
              "    </tr>\n",
              "    <tr>\n",
              "      <th>전북</th>\n",
              "      <td>38</td>\n",
              "      <td>35.821093</td>\n",
              "      <td>127.108722</td>\n",
              "    </tr>\n",
              "    <tr>\n",
              "      <th>세종</th>\n",
              "      <td>50</td>\n",
              "      <td>36.480219</td>\n",
              "      <td>127.289078</td>\n",
              "    </tr>\n",
              "    <tr>\n",
              "      <th>울산</th>\n",
              "      <td>56</td>\n",
              "      <td>35.540061</td>\n",
              "      <td>129.311434</td>\n",
              "    </tr>\n",
              "    <tr>\n",
              "      <th>충북</th>\n",
              "      <td>71</td>\n",
              "      <td>36.635921</td>\n",
              "      <td>127.491355</td>\n",
              "    </tr>\n",
              "    <tr>\n",
              "      <th>강원</th>\n",
              "      <td>72</td>\n",
              "      <td>37.885907</td>\n",
              "      <td>127.730064</td>\n",
              "    </tr>\n",
              "    <tr>\n",
              "      <th>경남</th>\n",
              "      <td>149</td>\n",
              "      <td>35.238483</td>\n",
              "      <td>128.692355</td>\n",
              "    </tr>\n",
              "    <tr>\n",
              "      <th>부산</th>\n",
              "      <td>156</td>\n",
              "      <td>35.179960</td>\n",
              "      <td>129.074972</td>\n",
              "    </tr>\n",
              "    <tr>\n",
              "      <th>대전</th>\n",
              "      <td>164</td>\n",
              "      <td>36.350621</td>\n",
              "      <td>127.384819</td>\n",
              "    </tr>\n",
              "    <tr>\n",
              "      <th>광주</th>\n",
              "      <td>171</td>\n",
              "      <td>35.160024</td>\n",
              "      <td>126.851476</td>\n",
              "    </tr>\n",
              "    <tr>\n",
              "      <th>충남</th>\n",
              "      <td>185</td>\n",
              "      <td>36.659535</td>\n",
              "      <td>126.672779</td>\n",
              "    </tr>\n",
              "    <tr>\n",
              "      <th>인천</th>\n",
              "      <td>367</td>\n",
              "      <td>37.456173</td>\n",
              "      <td>126.705935</td>\n",
              "    </tr>\n",
              "    <tr>\n",
              "      <th>검역</th>\n",
              "      <td>906</td>\n",
              "      <td>33.489129</td>\n",
              "      <td>128.692355</td>\n",
              "    </tr>\n",
              "    <tr>\n",
              "      <th>경북</th>\n",
              "      <td>1393</td>\n",
              "      <td>36.576092</td>\n",
              "      <td>128.508518</td>\n",
              "    </tr>\n",
              "    <tr>\n",
              "      <th>경기</th>\n",
              "      <td>1404</td>\n",
              "      <td>37.275290</td>\n",
              "      <td>127.009488</td>\n",
              "    </tr>\n",
              "    <tr>\n",
              "      <th>서울</th>\n",
              "      <td>1449</td>\n",
              "      <td>37.568909</td>\n",
              "      <td>126.978092</td>\n",
              "    </tr>\n",
              "    <tr>\n",
              "      <th>대구</th>\n",
              "      <td>6929</td>\n",
              "      <td>35.872772</td>\n",
              "      <td>128.602185</td>\n",
              "    </tr>\n",
              "  </tbody>\n",
              "</table>\n",
              "</div>"
            ],
            "text/plain": [
              "    확진환자         위도          경도\n",
              "제주    20  33.489129  126.498065\n",
              "전남    32  34.816410  126.462949\n",
              "전북    38  35.821093  127.108722\n",
              "세종    50  36.480219  127.289078\n",
              "울산    56  35.540061  129.311434\n",
              "충북    71  36.635921  127.491355\n",
              "강원    72  37.885907  127.730064\n",
              "경남   149  35.238483  128.692355\n",
              "부산   156  35.179960  129.074972\n",
              "대전   164  36.350621  127.384819\n",
              "광주   171  35.160024  126.851476\n",
              "충남   185  36.659535  126.672779\n",
              "인천   367  37.456173  126.705935\n",
              "검역   906  33.489129  128.692355\n",
              "경북  1393  36.576092  128.508518\n",
              "경기  1404  37.275290  127.009488\n",
              "서울  1449  37.568909  126.978092\n",
              "대구  6929  35.872772  128.602185"
            ]
          },
          "metadata": {
            "tags": []
          },
          "execution_count": 33
        }
      ]
    },
    {
      "cell_type": "code",
      "metadata": {
        "id": "KROT_dGAjzy8",
        "colab_type": "code",
        "colab": {
          "base_uri": "https://localhost:8080/",
          "height": 193
        },
        "outputId": "f92e1383-8677-42e0-f210-4263aee769c6"
      },
      "source": [
        "dfloc.info()"
      ],
      "execution_count": null,
      "outputs": [
        {
          "output_type": "stream",
          "text": [
            "<class 'pandas.core.frame.DataFrame'>\n",
            "Index: 18 entries, 제주 to 대구\n",
            "Data columns (total 3 columns):\n",
            " #   Column  Non-Null Count  Dtype  \n",
            "---  ------  --------------  -----  \n",
            " 0   확진환자    18 non-null     int64  \n",
            " 1   위도      18 non-null     float64\n",
            " 2   경도      18 non-null     float64\n",
            "dtypes: float64(2), int64(1)\n",
            "memory usage: 1.2+ KB\n"
          ],
          "name": "stdout"
        }
      ]
    },
    {
      "cell_type": "code",
      "metadata": {
        "id": "6teO7VU3j_JY",
        "colab_type": "code",
        "colab": {}
      },
      "source": [
        "dfloc['확진환자'] = dfloc['확진환자'].astype(float)"
      ],
      "execution_count": null,
      "outputs": []
    },
    {
      "cell_type": "code",
      "metadata": {
        "id": "lNMZv3Omi6hF",
        "colab_type": "code",
        "colab": {
          "base_uri": "https://localhost:8080/",
          "height": 685
        },
        "outputId": "f11395e9-2e73-48c0-b948-2346512dc6f3"
      },
      "source": [
        "map = folium.Map(location=[36, 127], zoom_start=7)\n",
        "for item in dfloc.index:\n",
        "    lat = dfloc.loc[item,'위도']\n",
        "    long = dfloc.loc[item,'경도'] \n",
        "    memo = str( dfloc.loc[item,'확진환자'])\n",
        "    folium.CircleMarker([lat,long],\n",
        "                        radius=dfloc.loc[item,'확진환자']*0.005, \n",
        "                        color='blue', \n",
        "                        popup = memo,\n",
        "                        fill =True\n",
        "                        ).add_to(map)\n",
        "\n",
        "map  "
      ],
      "execution_count": null,
      "outputs": [
        {
          "output_type": "execute_result",
          "data": {
            "text/html": [
              "<div style=\"width:100%;\"><div style=\"position:relative;width:100%;height:0;padding-bottom:60%;\"><span style=\"color:#565656\">Make this Notebook Trusted to load map: File -> Trust Notebook</span><iframe src=\"about:blank\" style=\"position:absolute;width:100%;height:100%;left:0;top:0;border:none !important;\" data-html=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 onload=\"this.contentDocument.open();this.contentDocument.write(atob(this.getAttribute('data-html')));this.contentDocument.close();\" allowfullscreen webkitallowfullscreen mozallowfullscreen></iframe></div></div>"
            ],
            "text/plain": [
              "<folium.folium.Map at 0x7fdfb9bf4470>"
            ]
          },
          "metadata": {
            "tags": []
          },
          "execution_count": 59
        }
      ]
    }
  ]
}