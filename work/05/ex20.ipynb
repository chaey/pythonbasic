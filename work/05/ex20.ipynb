{
  "nbformat": 4,
  "nbformat_minor": 0,
  "metadata": {
    "colab": {
      "name": "ex20.ipynb",
      "provenance": [],
      "authorship_tag": "ABX9TyNvHMK9c6ZQt68PrdJww8XJ",
      "include_colab_link": true
    },
    "kernelspec": {
      "name": "python3",
      "display_name": "Python 3"
    }
  },
  "cells": [
    {
      "cell_type": "markdown",
      "metadata": {
        "id": "view-in-github",
        "colab_type": "text"
      },
      "source": [
        "<a href=\"https://colab.research.google.com/github/cybermin/pythonbasic/blob/master/work/05/ex20.ipynb\" target=\"_parent\"><img src=\"https://colab.research.google.com/assets/colab-badge.svg\" alt=\"Open In Colab\"/></a>"
      ]
    },
    {
      "cell_type": "code",
      "metadata": {
        "id": "pE__RxKSeTyd",
        "colab_type": "code",
        "colab": {
          "base_uri": "https://localhost:8080/",
          "height": 108
        },
        "outputId": "7d4cd9a0-c062-43a8-f60d-3dbf36358bdb"
      },
      "source": [
        "#한글 폰트 사용 : colab , 런타임 다시 시작 하기\n",
        "%config InlineBackend.figure_format = 'retina'\n",
        "\n",
        "!apt -qq -y install fonts-nanum"
      ],
      "execution_count": 1,
      "outputs": [
        {
          "output_type": "stream",
          "text": [
            "fonts-nanum is already the newest version (20170925-1).\n",
            "The following package was automatically installed and is no longer required:\n",
            "  libnvidia-common-440\n",
            "Use 'apt autoremove' to remove it.\n",
            "0 upgraded, 0 newly installed, 0 to remove and 33 not upgraded.\n"
          ],
          "name": "stdout"
        }
      ]
    },
    {
      "cell_type": "code",
      "metadata": {
        "id": "SrENlk0_Nuph",
        "colab_type": "code",
        "colab": {}
      },
      "source": [
        "import matplotlib.pyplot as plt\n",
        "\n",
        "import matplotlib as mpl\n",
        "import matplotlib.font_manager as fm\n",
        "fontpath = '/usr/share/fonts/truetype/nanum/NanumBarunGothic.ttf'\n",
        "font = fm.FontProperties(fname=fontpath, size=9)\n",
        "plt.rc('font', family='NanumBarunGothic') \n",
        "mpl.font_manager._rebuild()"
      ],
      "execution_count": 2,
      "outputs": []
    },
    {
      "cell_type": "code",
      "metadata": {
        "id": "29BtLBBTOHeI",
        "colab_type": "code",
        "colab": {}
      },
      "source": [
        "import re\n",
        "\n",
        "#문자열에서 charset요소값을 찾아줌\n",
        "def charEncode(st) :\n",
        "    pt = r'charset=[\\\"\\']*([\\w-]+)'\n",
        "\n",
        "    charcode  = re.search(pt, st)\n",
        "    if charcode : \n",
        "        cc = charcode.group(1)\n",
        "    else :\n",
        "        cc = 'utf-8'\n",
        "\n",
        "    return cc"
      ],
      "execution_count": 4,
      "outputs": []
    },
    {
      "cell_type": "code",
      "metadata": {
        "id": "tbpL7G3NOMqQ",
        "colab_type": "code",
        "colab": {}
      },
      "source": [
        "from bs4 import BeautifulSoup as bs\n",
        "from urllib.request import urlopen\n",
        "\n",
        "#해당 페이지를 decode한 html문서 가져오기\n",
        "def urlHtml(url):\n",
        "    data = urlopen(url).read()\n",
        "    urlcc = charEncode(str(data))\n",
        "    html = data.decode(urlcc, errors=\"replace\")\n",
        "\n",
        "    html = bs(html, 'html.parser')\n",
        "    return html"
      ],
      "execution_count": 10,
      "outputs": []
    },
    {
      "cell_type": "code",
      "metadata": {
        "id": "lDSynsxlOPHw",
        "colab_type": "code",
        "colab": {
          "base_uri": "https://localhost:8080/",
          "height": 35
        },
        "outputId": "f45a115f-1b9a-4b1a-d386-b103216640c6"
      },
      "source": [
        "curdt = input('기준일을 입력하세요.(yyyymmdd)')\n",
        "url = 'https://movie.naver.com/movie/sdb/rank/rmovie.nhn?sel=cur&tg=0&date=' + curdt\n",
        "\n",
        "html = urlHtml(url)"
      ],
      "execution_count": 13,
      "outputs": [
        {
          "output_type": "stream",
          "text": [
            "기준일을 입력하세요.(yyyymmdd)20200630\n"
          ],
          "name": "stdout"
        }
      ]
    }
  ]
}