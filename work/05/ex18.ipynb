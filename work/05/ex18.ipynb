{
  "nbformat": 4,
  "nbformat_minor": 0,
  "metadata": {
    "colab": {
      "name": "ex18.ipynb",
      "provenance": [],
      "authorship_tag": "ABX9TyOerR8o/9fvIIuJCH+BP2d0",
      "include_colab_link": true
    },
    "kernelspec": {
      "name": "python3",
      "display_name": "Python 3"
    }
  },
  "cells": [
    {
      "cell_type": "markdown",
      "metadata": {
        "id": "view-in-github",
        "colab_type": "text"
      },
      "source": [
        "<a href=\"https://colab.research.google.com/github/cybermin/pythonbasic/blob/master/work/05/ex18.ipynb\" target=\"_parent\"><img src=\"https://colab.research.google.com/assets/colab-badge.svg\" alt=\"Open In Colab\"/></a>"
      ]
    },
    {
      "cell_type": "markdown",
      "metadata": {
        "id": "7qZ4FdY1xe2b",
        "colab_type": "text"
      },
      "source": [
        "## 영화진흥공사 공공데이터 \n",
        "1. 일일박스오피스 : https://www.kobis.or.kr/kobisopenapi/homepg/apiservice/searchServiceInfo.do \n",
        " + 박스오피스 목록 추출\n",
        "\n",
        "2. 영화상세정보 : https://www.kobis.or.kr/kobisopenapi/homepg/apiservice/searchServiceInfo.do\n",
        " + 장르명 추출\n",
        "\n",
        "3. 10위권에 장르 분류 그래프\n"
      ]
    },
    {
      "cell_type": "code",
      "metadata": {
        "id": "hyZJWOtV02Kj",
        "colab_type": "code",
        "colab": {}
      },
      "source": [
        "from urllib.request import urlopen\n",
        "from bs4 import BeautifulSoup as bs"
      ],
      "execution_count": null,
      "outputs": []
    },
    {
      "cell_type": "code",
      "metadata": {
        "id": "m5zevuJTCcgL",
        "colab_type": "code",
        "colab": {}
      },
      "source": [
        "def mvDetail(key, movieCd) :\n",
        "    url = 'http://www.kobis.or.kr/kobisopenapi/webservice/rest/movie/searchMovieInfo.xml?'\n",
        "    url = url + 'key=' + key \n",
        "    url = url + '&movieCd=' + movieCd\n",
        "\n",
        "    data = urlopen(url).read().decode('utf-8')\n",
        "    xmldata = bs(data, 'lxml-xml')\n",
        "    #genreNm = xmldata.find('genres').find('genre').find('genreNm').getText()\n",
        "    #하나의 데이터만 찾을 경우 \n",
        "    genreNm = xmldata.find('genreNm').getText() \n",
        "\n",
        "    return genreNm\n"
      ],
      "execution_count": null,
      "outputs": []
    },
    {
      "cell_type": "code",
      "metadata": {
        "id": "6RPoUa_TxNLI",
        "colab_type": "code",
        "colab": {}
      },
      "source": [
        "#영화 목록 가져오기 \n",
        "def mvList(key, targetDt) :\n",
        "    mvdt = []\n",
        "\n",
        "    url = 'http://www.kobis.or.kr/kobisopenapi/webservice/rest/boxoffice/searchDailyBoxOfficeList.xml?'\n",
        "    url = url + 'key=' + key \n",
        "    url = url + '&targetDt=' + targetDt\n",
        "\n",
        "    data = urlopen(url).read().decode('utf-8')\n",
        "    #print(type(data))\n",
        "    xmldata = bs(data, 'lxml-xml')\n",
        "    #print(type(xmldata))\n",
        "    dailyBoxOfficeList = xmldata.find('dailyBoxOfficeList').find_all('dailyBoxOffice')\n",
        "    for dailyBoxOffice in dailyBoxOfficeList :\n",
        "        movieNm = dailyBoxOffice.find('movieNm').text\n",
        "        movieCd = dailyBoxOffice.find('movieCd').string\n",
        "        item = [] \n",
        "        item.append(movieNm)\n",
        "        item.append(mvDetail(key, movieCd))\n",
        "        mvdt.append(item) \n",
        "\n",
        "    return mvdt\n",
        "    "
      ],
      "execution_count": null,
      "outputs": []
    },
    {
      "cell_type": "code",
      "metadata": {
        "id": "XYsk87h22u2C",
        "colab_type": "code",
        "colab": {
          "base_uri": "https://localhost:8080/",
          "height": 251
        },
        "outputId": "91402b84-641a-43cf-f90a-da0bff9e74c3"
      },
      "source": [
        "key = '430156241533f1d058c603178cc3ca0e'\n",
        "#targetDt = input('일일박스오피스 일자를 입력하세요(yyyymmdd)')\n",
        "targetDt = '20200701'\n",
        "\n",
        "dt = {} \n",
        "mlt = mvList(key, targetDt)\n",
        "\n",
        "for item in mlt:\n",
        "    print(item)\n",
        "    if item[1] in dt.keys() : dt[item[1]] = dt[item[1]] + 1\n",
        "    else : dt[item[1]] = 1\n",
        "\n",
        "print(dt)\n"
      ],
      "execution_count": null,
      "outputs": [
        {
          "output_type": "stream",
          "text": [
            "<class 'str'>\n",
            "<class 'bs4.BeautifulSoup'>\n",
            "['#살아있다', '드라마']\n",
            "['결백', '드라마']\n",
            "['소리꾼', '사극']\n",
            "['다크 나이트', '범죄']\n",
            "['온워드: 단 하루의 기적', '애니메이션']\n",
            "['인베이젼 2020', 'SF']\n",
            "['위대한 쇼맨', '드라마']\n",
            "['부산행:익스텐디드', '액션']\n",
            "['해피 디 데이', '코미디']\n",
            "['야구소녀', '드라마']\n",
            "{'드라마': 4, '사극': 1, '범죄': 1, '애니메이션': 1, 'SF': 1, '액션': 1, '코미디': 1}\n"
          ],
          "name": "stdout"
        }
      ]
    },
    {
      "cell_type": "code",
      "metadata": {
        "id": "lCVjlvNJMF8D",
        "colab_type": "code",
        "colab": {
          "base_uri": "https://localhost:8080/",
          "height": 55
        },
        "outputId": "c84d3285-6fca-4cca-91a9-997245faf8d2"
      },
      "source": [
        "key = '430156241533f1d058c603178cc3ca0e'\n",
        "targetDt = '20200701'\n",
        "\n",
        "url = 'http://www.kobis.or.kr/kobisopenapi/webservice/rest/boxoffice/searchDailyBoxOfficeList.xml?'\n",
        "url = url + 'key=' + key \n",
        "url = url + '&targetDt=' + targetDt\n",
        "\n",
        "data = urlopen(url).read().decode('utf-8')\n",
        "xmldata = bs(data, 'lxml-xml')\n",
        "\n",
        "movieNm = xmldata.select('dailyBoxOffice > movieNm')\n",
        "movieNmlt = []\n",
        "for item in movieNm :\n",
        "    movieNmlt.append(item.getText())\n",
        "\n",
        "movieCd = xmldata.select('dailyBoxOffice > movieCd')\n",
        "movieCdlt = []\n",
        "for item in movieCd : \n",
        "    movieCdlt.append(item.getText())\n",
        "\n",
        "\n",
        "mvlt = list(zip(movieNmlt, movieCdlt))\n",
        "print(mvlt) "
      ],
      "execution_count": null,
      "outputs": [
        {
          "output_type": "stream",
          "text": [
            "[('#살아있다', '20193069'), ('결백', '20183813'), ('소리꾼', '20196201'), ('다크 나이트', '20081056'), ('온워드: 단 하루의 기적', '20191048'), ('인베이젼 2020', '20208617'), ('위대한 쇼맨', '20179462'), ('부산행:익스텐디드', '20200846'), ('해피 디 데이', '20200083'), ('야구소녀', '20196702')]\n"
          ],
          "name": "stdout"
        }
      ]
    },
    {
      "cell_type": "code",
      "metadata": {
        "id": "EONDsDJTNpCl",
        "colab_type": "code",
        "colab": {}
      },
      "source": [
        ""
      ],
      "execution_count": null,
      "outputs": []
    }
  ]
}