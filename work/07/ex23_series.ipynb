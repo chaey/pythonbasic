{
  "nbformat": 4,
  "nbformat_minor": 0,
  "metadata": {
    "colab": {
      "name": "ex23_series.ipynb",
      "provenance": [],
      "collapsed_sections": [],
      "mount_file_id": "1FCT-unIV6Jh9esllshb62iOTFC6pS9md",
      "authorship_tag": "ABX9TyNlwITp7HCUAjFfkitBNqX7"
    },
    "kernelspec": {
      "name": "python3",
      "display_name": "Python 3"
    }
  },
  "cells": [
    {
      "cell_type": "markdown",
      "metadata": {
        "id": "Elhx3QhiPg4w",
        "colab_type": "text"
      },
      "source": [
        "# 판다스(pandas)\n",
        "+ 파이썬에서 사용하는 데이터분석 라이브러리\n",
        "\n",
        "+ 행과 열로 이루어진 데이터 객체를 만들어 다룰 수 있게 되며 보다 안정적으로 대용량의 데이터들을 처리하는데 매우 편리한 도구\n",
        "\n",
        "+ NumPy를 기반으로 구축되었으며 과학 컴퓨팅 환경 내에서 다른 많은 타사 라이브러리와 잘 통합되도록 설계"
      ]
    },
    {
      "cell_type": "code",
      "metadata": {
        "id": "l2rbxxZCPVv6",
        "colab_type": "code",
        "colab": {}
      },
      "source": [
        "import pandas as pd"
      ],
      "execution_count": 1,
      "outputs": []
    },
    {
      "cell_type": "code",
      "metadata": {
        "id": "5i5YRe2FnwZI",
        "colab_type": "code",
        "colab": {
          "base_uri": "https://localhost:8080/",
          "height": 73
        },
        "outputId": "1acd352c-fb3e-4b5b-adb0-09d7c963c63d"
      },
      "source": [
        "with open('/content/drive/My Drive/PythonWork/PythonBasic/04/부산시기온.csv','r',encoding='utf-8') as fp:\n",
        "    data = fp.readlines() \n",
        "\n",
        "dt = {'일시':[], '평균':[], '최고':[], '최저':[]}\n",
        "for line in data:\n",
        "    line = line.replace('\\n', '')\n",
        "\n",
        "    if line[:2] == '일시' : continue\n",
        "    item = line.split(',')\n",
        "    dt['일시'].append(item[0])\n",
        "    dt['평균'].append(float(item[1]))\n",
        "    dt['최고'].append(float(item[2]))\n",
        "    dt['최저'].append(float(item[3]))\n",
        "\n",
        "print(type(dt))\n",
        "print(dt)"
      ],
      "execution_count": 7,
      "outputs": [
        {
          "output_type": "stream",
          "text": [
            "<class 'dict'>\n",
            "{'일시': ['2017-01-01', '2017-02-01', '2017-03-01', '2017-04-01', '2017-05-01', '2017-06-01', '2017-07-01', '2017-08-01', '2017-09-01', '2017-10-01', '2017-11-01', '2017-12-01', '2018-01-01', '2018-02-01', '2018-03-01', '2018-04-01', '2018-05-01', '2018-06-01', '2018-07-01', '2018-08-01', '2018-09-01', '2018-10-01', '2018-11-01', '2018-12-01', '2019-01-01', '2019-02-01', '2019-03-01', '2019-04-01', '2019-05-01', '2019-06-01'], '평균': [4.1, 5.5, 9.0, 15.0, 19.0, 21.3, 26.1, 27.0, 22.6, 18.1, 11.2, 3.6, 1.9, 3.9, 10.0, 14.5, 17.8, 21.5, 26.7, 27.9, 21.9, 16.4, 12.4, 5.7, 4.5, 6.6, 10.5, 13.4, 19.3, 21.1], '최고': [15.1, 17.7, 18.1, 23.2, 28.2, 30.4, 32.7, 36.2, 29.7, 28.7, 23.6, 14.5, 14.0, 14.7, 22.3, 24.3, 26.6, 31.3, 35.4, 36.4, 30.0, 25.6, 22.5, 18.8, 13.7, 16.5, 21.0, 23.4, 30.1, 29.7], '최저': [-7.7, -5.7, -2.3, 5.0, 12.8, 15.4, 21.2, 18.7, 14.5, 7.3, -1.0, -6.1, -9.9, -9.6, -0.7, 3.0, 9.8, 15.1, 17.8, 21.2, 14.9, 7.9, 2.7, -7.1, -4.4, -4.2, 0.5, 2.1, 11.0, 15.5]}\n"
          ],
          "name": "stdout"
        }
      ]
    },
    {
      "cell_type": "code",
      "metadata": {
        "id": "_I8hcRp-tbd_",
        "colab_type": "code",
        "colab": {
          "base_uri": "https://localhost:8080/",
          "height": 109
        },
        "outputId": "69db5c13-6068-408f-abea-4fb39fbcad0a"
      },
      "source": [
        "for key, value in dt.items() :\n",
        "    print(key , value)"
      ],
      "execution_count": 6,
      "outputs": [
        {
          "output_type": "stream",
          "text": [
            "일시 ['2017-01-01', '2017-02-01', '2017-03-01', '2017-04-01', '2017-05-01', '2017-06-01', '2017-07-01', '2017-08-01', '2017-09-01', '2017-10-01', '2017-11-01', '2017-12-01', '2018-01-01', '2018-02-01', '2018-03-01', '2018-04-01', '2018-05-01', '2018-06-01', '2018-07-01', '2018-08-01', '2018-09-01', '2018-10-01', '2018-11-01', '2018-12-01', '2019-01-01', '2019-02-01', '2019-03-01', '2019-04-01', '2019-05-01', '2019-06-01']\n",
            "평균 [4.1, 5.5, 9.0, 15.0, 19.0, 21.3, 26.1, 27.0, 22.6, 18.1, 11.2, 3.6, 1.9, 3.9, 10.0, 14.5, 17.8, 21.5, 26.7, 27.9, 21.9, 16.4, 12.4, 5.7, 4.5, 6.6, 10.5, 13.4, 19.3, 21.1]\n",
            "최고 [15.1, 17.7, 18.1, 23.2, 28.2, 30.4, 32.7, 36.2, 29.7, 28.7, 23.6, 14.5, 14.0, 14.7, 22.3, 24.3, 26.6, 31.3, 35.4, 36.4, 30.0, 25.6, 22.5, 18.8, 13.7, 16.5, 21.0, 23.4, 30.1, 29.7]\n",
            "최저 [-7.7, -5.7, -2.3, 5.0, 12.8, 15.4, 21.2, 18.7, 14.5, 7.3, -1.0, -6.1, -9.9, -9.6, -0.7, 3.0, 9.8, 15.1, 17.8, 21.2, 14.9, 7.9, 2.7, -7.1, -4.4, -4.2, 0.5, 2.1, 11.0, 15.5]\n"
          ],
          "name": "stdout"
        }
      ]
    },
    {
      "cell_type": "code",
      "metadata": {
        "colab_type": "code",
        "id": "GhYtlVsGxnC1",
        "colab": {
          "base_uri": "https://localhost:8080/",
          "height": 73
        },
        "outputId": "ab90316f-1628-4b8f-beaf-a62d67b946b4"
      },
      "source": [
        "with open('/content/drive/My Drive/PythonWork/PythonBasic/04/부산시기온.csv','r',encoding='utf-8') as fp:\n",
        "    data = fp.readlines() \n",
        "\n",
        "dt = {'일시':[], '평균':[], '최고':[], '최저':[]}\n",
        "for i in range(1,len(data)):\n",
        "    line = data[i].replace('\\n', '')\n",
        "\n",
        "    #if line[:2] == '일시' : continue\n",
        "    item = line.split(',')\n",
        "    dt['일시'].append(item[0])\n",
        "    dt['평균'].append(float(item[1]))\n",
        "    dt['최고'].append(float(item[2]))\n",
        "    dt['최저'].append(float(item[3]))\n",
        "\n",
        "print(type(dt))\n",
        "print(dt)"
      ],
      "execution_count": 9,
      "outputs": [
        {
          "output_type": "stream",
          "text": [
            "<class 'dict'>\n",
            "{'일시': ['2017-01-01', '2017-02-01', '2017-03-01', '2017-04-01', '2017-05-01', '2017-06-01', '2017-07-01', '2017-08-01', '2017-09-01', '2017-10-01', '2017-11-01', '2017-12-01', '2018-01-01', '2018-02-01', '2018-03-01', '2018-04-01', '2018-05-01', '2018-06-01', '2018-07-01', '2018-08-01', '2018-09-01', '2018-10-01', '2018-11-01', '2018-12-01', '2019-01-01', '2019-02-01', '2019-03-01', '2019-04-01', '2019-05-01', '2019-06-01'], '평균': [4.1, 5.5, 9.0, 15.0, 19.0, 21.3, 26.1, 27.0, 22.6, 18.1, 11.2, 3.6, 1.9, 3.9, 10.0, 14.5, 17.8, 21.5, 26.7, 27.9, 21.9, 16.4, 12.4, 5.7, 4.5, 6.6, 10.5, 13.4, 19.3, 21.1], '최고': [15.1, 17.7, 18.1, 23.2, 28.2, 30.4, 32.7, 36.2, 29.7, 28.7, 23.6, 14.5, 14.0, 14.7, 22.3, 24.3, 26.6, 31.3, 35.4, 36.4, 30.0, 25.6, 22.5, 18.8, 13.7, 16.5, 21.0, 23.4, 30.1, 29.7], '최저': [-7.7, -5.7, -2.3, 5.0, 12.8, 15.4, 21.2, 18.7, 14.5, 7.3, -1.0, -6.1, -9.9, -9.6, -0.7, 3.0, 9.8, 15.1, 17.8, 21.2, 14.9, 7.9, 2.7, -7.1, -4.4, -4.2, 0.5, 2.1, 11.0, 15.5]}\n"
          ],
          "name": "stdout"
        }
      ]
    },
    {
      "cell_type": "code",
      "metadata": {
        "colab_type": "code",
        "id": "_P92pn7MyY5c",
        "colab": {
          "base_uri": "https://localhost:8080/",
          "height": 73
        },
        "outputId": "dde0da67-8ed1-4a62-8803-0974d8bb1ac4"
      },
      "source": [
        "with open('/content/drive/My Drive/PythonWork/PythonBasic/04/부산시기온.csv','r',encoding='utf-8') as fp:\n",
        "    data = fp.readlines() \n",
        "\n",
        "dt = {'일시':[], '평균':[], '최고':[], '최저':[]}\n",
        "for i in data[1:]:\n",
        "    line = i.replace('\\n', '') \n",
        "    \n",
        "    item = line.split(',')\n",
        "    dt['일시'].append(item[0])\n",
        "    dt['평균'].append(float(item[1]))\n",
        "    dt['최고'].append(float(item[2]))\n",
        "    dt['최저'].append(float(item[3]))\n",
        "\n",
        "print(type(dt))\n",
        "print(dt)"
      ],
      "execution_count": 10,
      "outputs": [
        {
          "output_type": "stream",
          "text": [
            "<class 'dict'>\n",
            "{'일시': ['2017-01-01', '2017-02-01', '2017-03-01', '2017-04-01', '2017-05-01', '2017-06-01', '2017-07-01', '2017-08-01', '2017-09-01', '2017-10-01', '2017-11-01', '2017-12-01', '2018-01-01', '2018-02-01', '2018-03-01', '2018-04-01', '2018-05-01', '2018-06-01', '2018-07-01', '2018-08-01', '2018-09-01', '2018-10-01', '2018-11-01', '2018-12-01', '2019-01-01', '2019-02-01', '2019-03-01', '2019-04-01', '2019-05-01', '2019-06-01'], '평균': [4.1, 5.5, 9.0, 15.0, 19.0, 21.3, 26.1, 27.0, 22.6, 18.1, 11.2, 3.6, 1.9, 3.9, 10.0, 14.5, 17.8, 21.5, 26.7, 27.9, 21.9, 16.4, 12.4, 5.7, 4.5, 6.6, 10.5, 13.4, 19.3, 21.1], '최고': [15.1, 17.7, 18.1, 23.2, 28.2, 30.4, 32.7, 36.2, 29.7, 28.7, 23.6, 14.5, 14.0, 14.7, 22.3, 24.3, 26.6, 31.3, 35.4, 36.4, 30.0, 25.6, 22.5, 18.8, 13.7, 16.5, 21.0, 23.4, 30.1, 29.7], '최저': [-7.7, -5.7, -2.3, 5.0, 12.8, 15.4, 21.2, 18.7, 14.5, 7.3, -1.0, -6.1, -9.9, -9.6, -0.7, 3.0, 9.8, 15.1, 17.8, 21.2, 14.9, 7.9, 2.7, -7.1, -4.4, -4.2, 0.5, 2.1, 11.0, 15.5]}\n"
          ],
          "name": "stdout"
        }
      ]
    },
    {
      "cell_type": "markdown",
      "metadata": {
        "id": "JkdaDZIPP-Rw",
        "colab_type": "text"
      },
      "source": [
        "##Series\n",
        "+ index로 value를 구분하는  1차원 자료구조"
      ]
    },
    {
      "cell_type": "code",
      "metadata": {
        "id": "7LbRD0JZVBdv",
        "colab_type": "code",
        "colab": {
          "base_uri": "https://localhost:8080/",
          "height": 74
        },
        "outputId": "fd37b9ab-5a88-4587-f51f-33fee9695a7f"
      },
      "source": [
        "tempavg = dt['평균']\n",
        "print(tempavg)\n",
        "print(type(tempavg))"
      ],
      "execution_count": 11,
      "outputs": [
        {
          "output_type": "stream",
          "text": [
            "[4.1, 5.5, 9.0, 15.0, 19.0, 21.3, 26.1, 27.0, 22.6, 18.1, 11.2, 3.6, 1.9, 3.9, 10.0, 14.5, 17.8, 21.5, 26.7, 27.9, 21.9, 16.4, 12.4, 5.7, 4.5, 6.6, 10.5, 13.4, 19.3, 21.1]\n",
            "<class 'list'>\n"
          ],
          "name": "stdout"
        }
      ]
    },
    {
      "cell_type": "markdown",
      "metadata": {
        "id": "Xp8sgWDiyCp3",
        "colab_type": "text"
      },
      "source": [
        "+ **리스트(list)를 판다스 시리즈(series)로 만들기**"
      ]
    },
    {
      "cell_type": "code",
      "metadata": {
        "id": "ZN1LE0LeVj1z",
        "colab_type": "code",
        "colab": {
          "base_uri": "https://localhost:8080/",
          "height": 606
        },
        "outputId": "49fb489d-a4b8-4cbb-fe6b-944a841199a0"
      },
      "source": [
        "#판다스 series 만들기\n",
        "ds = pd.Series(tempavg)\n",
        "print(ds)\n",
        "print(type(ds))"
      ],
      "execution_count": 12,
      "outputs": [
        {
          "output_type": "stream",
          "text": [
            "0      4.1\n",
            "1      5.5\n",
            "2      9.0\n",
            "3     15.0\n",
            "4     19.0\n",
            "5     21.3\n",
            "6     26.1\n",
            "7     27.0\n",
            "8     22.6\n",
            "9     18.1\n",
            "10    11.2\n",
            "11     3.6\n",
            "12     1.9\n",
            "13     3.9\n",
            "14    10.0\n",
            "15    14.5\n",
            "16    17.8\n",
            "17    21.5\n",
            "18    26.7\n",
            "19    27.9\n",
            "20    21.9\n",
            "21    16.4\n",
            "22    12.4\n",
            "23     5.7\n",
            "24     4.5\n",
            "25     6.6\n",
            "26    10.5\n",
            "27    13.4\n",
            "28    19.3\n",
            "29    21.1\n",
            "dtype: float64\n",
            "<class 'pandas.core.series.Series'>\n"
          ],
          "name": "stdout"
        }
      ]
    },
    {
      "cell_type": "markdown",
      "metadata": {
        "id": "ckoehKy3yrQt",
        "colab_type": "text"
      },
      "source": [
        "+ **인덱스와 값 추출**\n"
      ]
    },
    {
      "cell_type": "code",
      "metadata": {
        "id": "s44vcNoetC_D",
        "colab_type": "code",
        "colab": {
          "base_uri": "https://localhost:8080/",
          "height": 109
        },
        "outputId": "d91fcded-75e9-4d52-8b15-bedefe2ac3e3"
      },
      "source": [
        "#인덱스와 값 추출\n",
        "print(ds.index)\n",
        "print(ds.keys())\n",
        "print(ds.values)"
      ],
      "execution_count": 13,
      "outputs": [
        {
          "output_type": "stream",
          "text": [
            "RangeIndex(start=0, stop=30, step=1)\n",
            "RangeIndex(start=0, stop=30, step=1)\n",
            "[ 4.1  5.5  9.  15.  19.  21.3 26.1 27.  22.6 18.1 11.2  3.6  1.9  3.9\n",
            " 10.  14.5 17.8 21.5 26.7 27.9 21.9 16.4 12.4  5.7  4.5  6.6 10.5 13.4\n",
            " 19.3 21.1]\n"
          ],
          "name": "stdout"
        }
      ]
    },
    {
      "cell_type": "markdown",
      "metadata": {
        "id": "24sRpcxgy4gr",
        "colab_type": "text"
      },
      "source": [
        "+ **인덱스로 시리즈 데이터 가져오기**"
      ]
    },
    {
      "cell_type": "code",
      "metadata": {
        "id": "WYoRVG7yV_js",
        "colab_type": "code",
        "colab": {
          "base_uri": "https://localhost:8080/",
          "height": 127
        },
        "outputId": "f32588f6-ae03-4820-ac2e-098025b1958c"
      },
      "source": [
        "#series 데이터 가져오기\n",
        "ds1 = ds[11:16]\n",
        "print(ds1)"
      ],
      "execution_count": 14,
      "outputs": [
        {
          "output_type": "stream",
          "text": [
            "11     3.6\n",
            "12     1.9\n",
            "13     3.9\n",
            "14    10.0\n",
            "15    14.5\n",
            "dtype: float64\n"
          ],
          "name": "stdout"
        }
      ]
    },
    {
      "cell_type": "code",
      "metadata": {
        "id": "UERlMgBK14vB",
        "colab_type": "code",
        "colab": {
          "base_uri": "https://localhost:8080/",
          "height": 35
        },
        "outputId": "4aab1541-96ba-4db8-98e2-5e66769661cd"
      },
      "source": [
        "ds[11]"
      ],
      "execution_count": 15,
      "outputs": [
        {
          "output_type": "execute_result",
          "data": {
            "text/plain": [
              "3.6"
            ]
          },
          "metadata": {
            "tags": []
          },
          "execution_count": 15
        }
      ]
    },
    {
      "cell_type": "code",
      "metadata": {
        "id": "dlNlwkHG17_u",
        "colab_type": "code",
        "colab": {
          "base_uri": "https://localhost:8080/",
          "height": 511
        },
        "outputId": "a92284ae-42b7-4328-c5e1-1f82ca704fb0"
      },
      "source": [
        "ds[11,16]"
      ],
      "execution_count": 19,
      "outputs": [
        {
          "output_type": "error",
          "ename": "KeyError",
          "evalue": "ignored",
          "traceback": [
            "\u001b[0;31m---------------------------------------------------------------------------\u001b[0m",
            "\u001b[0;31mKeyError\u001b[0m                                  Traceback (most recent call last)",
            "\u001b[0;32m<ipython-input-19-a0f077503333>\u001b[0m in \u001b[0;36m<module>\u001b[0;34m()\u001b[0m\n\u001b[0;32m----> 1\u001b[0;31m \u001b[0mds\u001b[0m\u001b[0;34m[\u001b[0m\u001b[0;36m11\u001b[0m\u001b[0;34m,\u001b[0m\u001b[0;36m16\u001b[0m\u001b[0;34m]\u001b[0m\u001b[0;34m\u001b[0m\u001b[0;34m\u001b[0m\u001b[0m\n\u001b[0m",
            "\u001b[0;32m/usr/local/lib/python3.6/dist-packages/pandas/core/series.py\u001b[0m in \u001b[0;36m__getitem__\u001b[0;34m(self, key)\u001b[0m\n\u001b[1;32m    869\u001b[0m         \u001b[0mkey\u001b[0m \u001b[0;34m=\u001b[0m \u001b[0mcom\u001b[0m\u001b[0;34m.\u001b[0m\u001b[0mapply_if_callable\u001b[0m\u001b[0;34m(\u001b[0m\u001b[0mkey\u001b[0m\u001b[0;34m,\u001b[0m \u001b[0mself\u001b[0m\u001b[0;34m)\u001b[0m\u001b[0;34m\u001b[0m\u001b[0;34m\u001b[0m\u001b[0m\n\u001b[1;32m    870\u001b[0m         \u001b[0;32mtry\u001b[0m\u001b[0;34m:\u001b[0m\u001b[0;34m\u001b[0m\u001b[0;34m\u001b[0m\u001b[0m\n\u001b[0;32m--> 871\u001b[0;31m             \u001b[0mresult\u001b[0m \u001b[0;34m=\u001b[0m \u001b[0mself\u001b[0m\u001b[0;34m.\u001b[0m\u001b[0mindex\u001b[0m\u001b[0;34m.\u001b[0m\u001b[0mget_value\u001b[0m\u001b[0;34m(\u001b[0m\u001b[0mself\u001b[0m\u001b[0;34m,\u001b[0m \u001b[0mkey\u001b[0m\u001b[0;34m)\u001b[0m\u001b[0;34m\u001b[0m\u001b[0;34m\u001b[0m\u001b[0m\n\u001b[0m\u001b[1;32m    872\u001b[0m \u001b[0;34m\u001b[0m\u001b[0m\n\u001b[1;32m    873\u001b[0m             \u001b[0;32mif\u001b[0m \u001b[0;32mnot\u001b[0m \u001b[0mis_scalar\u001b[0m\u001b[0;34m(\u001b[0m\u001b[0mresult\u001b[0m\u001b[0;34m)\u001b[0m\u001b[0;34m:\u001b[0m\u001b[0;34m\u001b[0m\u001b[0;34m\u001b[0m\u001b[0m\n",
            "\u001b[0;32m/usr/local/lib/python3.6/dist-packages/pandas/core/indexes/base.py\u001b[0m in \u001b[0;36mget_value\u001b[0;34m(self, series, key)\u001b[0m\n\u001b[1;32m   4403\u001b[0m         \u001b[0mk\u001b[0m \u001b[0;34m=\u001b[0m \u001b[0mself\u001b[0m\u001b[0;34m.\u001b[0m\u001b[0m_convert_scalar_indexer\u001b[0m\u001b[0;34m(\u001b[0m\u001b[0mk\u001b[0m\u001b[0;34m,\u001b[0m \u001b[0mkind\u001b[0m\u001b[0;34m=\u001b[0m\u001b[0;34m\"getitem\"\u001b[0m\u001b[0;34m)\u001b[0m\u001b[0;34m\u001b[0m\u001b[0;34m\u001b[0m\u001b[0m\n\u001b[1;32m   4404\u001b[0m         \u001b[0;32mtry\u001b[0m\u001b[0;34m:\u001b[0m\u001b[0;34m\u001b[0m\u001b[0;34m\u001b[0m\u001b[0m\n\u001b[0;32m-> 4405\u001b[0;31m             \u001b[0;32mreturn\u001b[0m \u001b[0mself\u001b[0m\u001b[0;34m.\u001b[0m\u001b[0m_engine\u001b[0m\u001b[0;34m.\u001b[0m\u001b[0mget_value\u001b[0m\u001b[0;34m(\u001b[0m\u001b[0ms\u001b[0m\u001b[0;34m,\u001b[0m \u001b[0mk\u001b[0m\u001b[0;34m,\u001b[0m \u001b[0mtz\u001b[0m\u001b[0;34m=\u001b[0m\u001b[0mgetattr\u001b[0m\u001b[0;34m(\u001b[0m\u001b[0mseries\u001b[0m\u001b[0;34m.\u001b[0m\u001b[0mdtype\u001b[0m\u001b[0;34m,\u001b[0m \u001b[0;34m\"tz\"\u001b[0m\u001b[0;34m,\u001b[0m \u001b[0;32mNone\u001b[0m\u001b[0;34m)\u001b[0m\u001b[0;34m)\u001b[0m\u001b[0;34m\u001b[0m\u001b[0;34m\u001b[0m\u001b[0m\n\u001b[0m\u001b[1;32m   4406\u001b[0m         \u001b[0;32mexcept\u001b[0m \u001b[0mKeyError\u001b[0m \u001b[0;32mas\u001b[0m \u001b[0me1\u001b[0m\u001b[0;34m:\u001b[0m\u001b[0;34m\u001b[0m\u001b[0;34m\u001b[0m\u001b[0m\n\u001b[1;32m   4407\u001b[0m             \u001b[0;32mif\u001b[0m \u001b[0mlen\u001b[0m\u001b[0;34m(\u001b[0m\u001b[0mself\u001b[0m\u001b[0;34m)\u001b[0m \u001b[0;34m>\u001b[0m \u001b[0;36m0\u001b[0m \u001b[0;32mand\u001b[0m \u001b[0;34m(\u001b[0m\u001b[0mself\u001b[0m\u001b[0;34m.\u001b[0m\u001b[0mholds_integer\u001b[0m\u001b[0;34m(\u001b[0m\u001b[0;34m)\u001b[0m \u001b[0;32mor\u001b[0m \u001b[0mself\u001b[0m\u001b[0;34m.\u001b[0m\u001b[0mis_boolean\u001b[0m\u001b[0;34m(\u001b[0m\u001b[0;34m)\u001b[0m\u001b[0;34m)\u001b[0m\u001b[0;34m:\u001b[0m\u001b[0;34m\u001b[0m\u001b[0;34m\u001b[0m\u001b[0m\n",
            "\u001b[0;32mpandas/_libs/index.pyx\u001b[0m in \u001b[0;36mpandas._libs.index.IndexEngine.get_value\u001b[0;34m()\u001b[0m\n",
            "\u001b[0;32mpandas/_libs/index.pyx\u001b[0m in \u001b[0;36mpandas._libs.index.IndexEngine.get_value\u001b[0;34m()\u001b[0m\n",
            "\u001b[0;32mpandas/_libs/index.pyx\u001b[0m in \u001b[0;36mpandas._libs.index.IndexEngine.get_loc\u001b[0;34m()\u001b[0m\n",
            "\u001b[0;32mpandas/_libs/index_class_helper.pxi\u001b[0m in \u001b[0;36mpandas._libs.index.Int64Engine._check_type\u001b[0;34m()\u001b[0m\n",
            "\u001b[0;31mKeyError\u001b[0m: (11, 16)"
          ]
        }
      ]
    },
    {
      "cell_type": "code",
      "metadata": {
        "id": "b05ywLN4zasW",
        "colab_type": "code",
        "colab": {
          "base_uri": "https://localhost:8080/",
          "height": 72
        },
        "outputId": "d4374dc7-d9d1-4e72-e4f7-5d578e698a7a"
      },
      "source": [
        "ds2 = ds[[11,16]]\n",
        "print(ds2)"
      ],
      "execution_count": 22,
      "outputs": [
        {
          "output_type": "stream",
          "text": [
            "11     3.6\n",
            "16    17.8\n",
            "dtype: float64\n"
          ],
          "name": "stdout"
        }
      ]
    },
    {
      "cell_type": "code",
      "metadata": {
        "id": "WxqHM14D2o0P",
        "colab_type": "code",
        "colab": {
          "base_uri": "https://localhost:8080/",
          "height": 109
        },
        "outputId": "e83ce687-fba0-4a82-e6e1-f927d6185c1a"
      },
      "source": [
        "ds2 = ds[11:13]\n",
        "ds21 = ds[16:17]\n",
        "\n",
        "ds2 = ds2.append(ds21)\n",
        "print(type(ds2))\n",
        "print(ds2)"
      ],
      "execution_count": 31,
      "outputs": [
        {
          "output_type": "stream",
          "text": [
            "<class 'pandas.core.series.Series'>\n",
            "11     3.6\n",
            "12     1.9\n",
            "16    17.8\n",
            "dtype: float64\n"
          ],
          "name": "stdout"
        }
      ]
    },
    {
      "cell_type": "markdown",
      "metadata": {
        "id": "UXCRm3Z61cTG",
        "colab_type": "text"
      },
      "source": [
        "+ **인덱스로 시리즈 조건에 맞는 데이터 가져오기**"
      ]
    },
    {
      "cell_type": "code",
      "metadata": {
        "id": "tuZUrKiD1KDa",
        "colab_type": "code",
        "colab": {
          "base_uri": "https://localhost:8080/",
          "height": 193
        },
        "outputId": "5ce25a38-b908-44bb-8e35-907fe1c670d0"
      },
      "source": [
        "#series 조건에 맞는 데이터 가져오기\n",
        "ds2 = ds[ds.index > 20]\n",
        "ds2"
      ],
      "execution_count": null,
      "outputs": [
        {
          "output_type": "execute_result",
          "data": {
            "text/plain": [
              "21    16.4\n",
              "22    12.4\n",
              "23     5.7\n",
              "24     4.5\n",
              "25     6.6\n",
              "26    10.5\n",
              "27    13.4\n",
              "28    19.3\n",
              "29    21.1\n",
              "dtype: float64"
            ]
          },
          "metadata": {
            "tags": []
          },
          "execution_count": 27
        }
      ]
    },
    {
      "cell_type": "code",
      "metadata": {
        "colab_type": "code",
        "id": "w0IqpI814VVc",
        "colab": {
          "base_uri": "https://localhost:8080/",
          "height": 201
        },
        "outputId": "3430f663-88ce-4efe-c872-c037c2c3dd03"
      },
      "source": [
        "#series 조건에 맞는 데이터 가져오기\n",
        "ds2 = ds[ds.index > 20]\n",
        "ds2"
      ],
      "execution_count": 34,
      "outputs": [
        {
          "output_type": "execute_result",
          "data": {
            "text/plain": [
              "21    16.4\n",
              "22    12.4\n",
              "23     5.7\n",
              "24     4.5\n",
              "25     6.6\n",
              "26    10.5\n",
              "27    13.4\n",
              "28    19.3\n",
              "29    21.1\n",
              "dtype: float64"
            ]
          },
          "metadata": {
            "tags": []
          },
          "execution_count": 34
        }
      ]
    },
    {
      "cell_type": "code",
      "metadata": {
        "id": "x0sjLdkj7Csa",
        "colab_type": "code",
        "colab": {
          "base_uri": "https://localhost:8080/",
          "height": 193
        },
        "outputId": "a4ebccd5-5b6a-4f7b-b0f2-50d34ea6444f"
      },
      "source": [
        "ds2 = ds[ds > 20]\n",
        "ds2"
      ],
      "execution_count": null,
      "outputs": [
        {
          "output_type": "execute_result",
          "data": {
            "text/plain": [
              "5     21.3\n",
              "6     26.1\n",
              "7     27.0\n",
              "8     22.6\n",
              "17    21.5\n",
              "18    26.7\n",
              "19    27.9\n",
              "20    21.9\n",
              "29    21.1\n",
              "dtype: float64"
            ]
          },
          "metadata": {
            "tags": []
          },
          "execution_count": 24
        }
      ]
    },
    {
      "cell_type": "markdown",
      "metadata": {
        "id": "CdirxHlwzCu6",
        "colab_type": "text"
      },
      "source": [
        "+ **시리즈(series) 인덱스 변경하기**"
      ]
    },
    {
      "cell_type": "code",
      "metadata": {
        "id": "ooGnuV7LiJXl",
        "colab_type": "code",
        "colab": {
          "base_uri": "https://localhost:8080/",
          "height": 35
        },
        "outputId": "17ee4558-bb5a-417f-ca5c-ec284591db9b"
      },
      "source": [
        "dsDay = dt['일시']\n",
        "dsDay[:5]"
      ],
      "execution_count": 35,
      "outputs": [
        {
          "output_type": "execute_result",
          "data": {
            "text/plain": [
              "['2017-01-01', '2017-02-01', '2017-03-01', '2017-04-01', '2017-05-01']"
            ]
          },
          "metadata": {
            "tags": []
          },
          "execution_count": 35
        }
      ]
    },
    {
      "cell_type": "code",
      "metadata": {
        "id": "vrPpVtsU5IDe",
        "colab_type": "code",
        "colab": {
          "base_uri": "https://localhost:8080/",
          "height": 54
        },
        "outputId": "45ee3594-2103-4061-8208-c4453d91c579"
      },
      "source": [
        "print(type(tempavg))\n",
        "print(type(dsDay))"
      ],
      "execution_count": 37,
      "outputs": [
        {
          "output_type": "stream",
          "text": [
            "<class 'list'>\n",
            "<class 'list'>\n"
          ],
          "name": "stdout"
        }
      ]
    },
    {
      "cell_type": "code",
      "metadata": {
        "id": "IJSpelkmWUqP",
        "colab_type": "code",
        "colab": {
          "base_uri": "https://localhost:8080/",
          "height": 606
        },
        "outputId": "6e831132-6f15-4651-a0e5-ccf8738fe88c"
      },
      "source": [
        "#series 인덱스 지정하기 \n",
        "ds = pd.Series(tempavg, index = dsDay)\n",
        "print(ds)\n",
        "print(type(ds))"
      ],
      "execution_count": 38,
      "outputs": [
        {
          "output_type": "stream",
          "text": [
            "2017-01-01     4.1\n",
            "2017-02-01     5.5\n",
            "2017-03-01     9.0\n",
            "2017-04-01    15.0\n",
            "2017-05-01    19.0\n",
            "2017-06-01    21.3\n",
            "2017-07-01    26.1\n",
            "2017-08-01    27.0\n",
            "2017-09-01    22.6\n",
            "2017-10-01    18.1\n",
            "2017-11-01    11.2\n",
            "2017-12-01     3.6\n",
            "2018-01-01     1.9\n",
            "2018-02-01     3.9\n",
            "2018-03-01    10.0\n",
            "2018-04-01    14.5\n",
            "2018-05-01    17.8\n",
            "2018-06-01    21.5\n",
            "2018-07-01    26.7\n",
            "2018-08-01    27.9\n",
            "2018-09-01    21.9\n",
            "2018-10-01    16.4\n",
            "2018-11-01    12.4\n",
            "2018-12-01     5.7\n",
            "2019-01-01     4.5\n",
            "2019-02-01     6.6\n",
            "2019-03-01    10.5\n",
            "2019-04-01    13.4\n",
            "2019-05-01    19.3\n",
            "2019-06-01    21.1\n",
            "dtype: float64\n",
            "<class 'pandas.core.series.Series'>\n"
          ],
          "name": "stdout"
        }
      ]
    },
    {
      "cell_type": "code",
      "metadata": {
        "id": "u-haZuCAtkjQ",
        "colab_type": "code",
        "colab": {
          "base_uri": "https://localhost:8080/",
          "height": 330
        },
        "outputId": "538dc5ab-af0b-4bee-b61c-82c559fedfa1"
      },
      "source": [
        "#인덱스와 값 추출\n",
        "print(ds.index)\n",
        "print(ds.keys())\n",
        "print(ds.values)"
      ],
      "execution_count": 39,
      "outputs": [
        {
          "output_type": "stream",
          "text": [
            "Index(['2017-01-01', '2017-02-01', '2017-03-01', '2017-04-01', '2017-05-01',\n",
            "       '2017-06-01', '2017-07-01', '2017-08-01', '2017-09-01', '2017-10-01',\n",
            "       '2017-11-01', '2017-12-01', '2018-01-01', '2018-02-01', '2018-03-01',\n",
            "       '2018-04-01', '2018-05-01', '2018-06-01', '2018-07-01', '2018-08-01',\n",
            "       '2018-09-01', '2018-10-01', '2018-11-01', '2018-12-01', '2019-01-01',\n",
            "       '2019-02-01', '2019-03-01', '2019-04-01', '2019-05-01', '2019-06-01'],\n",
            "      dtype='object')\n",
            "Index(['2017-01-01', '2017-02-01', '2017-03-01', '2017-04-01', '2017-05-01',\n",
            "       '2017-06-01', '2017-07-01', '2017-08-01', '2017-09-01', '2017-10-01',\n",
            "       '2017-11-01', '2017-12-01', '2018-01-01', '2018-02-01', '2018-03-01',\n",
            "       '2018-04-01', '2018-05-01', '2018-06-01', '2018-07-01', '2018-08-01',\n",
            "       '2018-09-01', '2018-10-01', '2018-11-01', '2018-12-01', '2019-01-01',\n",
            "       '2019-02-01', '2019-03-01', '2019-04-01', '2019-05-01', '2019-06-01'],\n",
            "      dtype='object')\n",
            "[ 4.1  5.5  9.  15.  19.  21.3 26.1 27.  22.6 18.1 11.2  3.6  1.9  3.9\n",
            " 10.  14.5 17.8 21.5 26.7 27.9 21.9 16.4 12.4  5.7  4.5  6.6 10.5 13.4\n",
            " 19.3 21.1]\n"
          ],
          "name": "stdout"
        }
      ]
    },
    {
      "cell_type": "code",
      "metadata": {
        "id": "cwgHdm_N5qTh",
        "colab_type": "code",
        "colab": {
          "base_uri": "https://localhost:8080/",
          "height": 72
        },
        "outputId": "d540ca21-be79-46e8-f6f7-2e4cc6a309c8"
      },
      "source": [
        "ds[['2017-03-01','2018-03-01']]"
      ],
      "execution_count": 41,
      "outputs": [
        {
          "output_type": "execute_result",
          "data": {
            "text/plain": [
              "2017-03-01     9.0\n",
              "2018-03-01    10.0\n",
              "dtype: float64"
            ]
          },
          "metadata": {
            "tags": []
          },
          "execution_count": 41
        }
      ]
    },
    {
      "cell_type": "code",
      "metadata": {
        "id": "llqS6M2FWnAz",
        "colab_type": "code",
        "colab": {
          "base_uri": "https://localhost:8080/",
          "height": 256
        },
        "outputId": "d3a1636c-4bd6-4b28-bcc7-d6524721cf49"
      },
      "source": [
        "#series 데이터 가져오기 \n",
        "ds1 = ds['2018-01-01':'2018-12-01']\n",
        "print(ds1)"
      ],
      "execution_count": 42,
      "outputs": [
        {
          "output_type": "stream",
          "text": [
            "2018-01-01     1.9\n",
            "2018-02-01     3.9\n",
            "2018-03-01    10.0\n",
            "2018-04-01    14.5\n",
            "2018-05-01    17.8\n",
            "2018-06-01    21.5\n",
            "2018-07-01    26.7\n",
            "2018-08-01    27.9\n",
            "2018-09-01    21.9\n",
            "2018-10-01    16.4\n",
            "2018-11-01    12.4\n",
            "2018-12-01     5.7\n",
            "dtype: float64\n"
          ],
          "name": "stdout"
        }
      ]
    },
    {
      "cell_type": "code",
      "metadata": {
        "id": "WEDJMzxTuf9w",
        "colab_type": "code",
        "colab": {
          "base_uri": "https://localhost:8080/",
          "height": 70
        },
        "outputId": "e45431ea-abc0-400b-b228-1d480b9afd09"
      },
      "source": [
        "#series 데이터 가져오기 \n",
        "ds1 = ds[['2018-01-01','2018-12-01']]\n",
        "print(ds1)"
      ],
      "execution_count": null,
      "outputs": [
        {
          "output_type": "stream",
          "text": [
            "2018-01-01    1.9\n",
            "2018-12-01    5.7\n",
            "dtype: float64\n"
          ],
          "name": "stdout"
        }
      ]
    },
    {
      "cell_type": "code",
      "metadata": {
        "id": "0WoOwo6qz-SA",
        "colab_type": "code",
        "colab": {
          "base_uri": "https://localhost:8080/",
          "height": 140
        },
        "outputId": "dfd1b319-3b63-4881-cfd3-0818dd782e23"
      },
      "source": [
        "#series 조건에 맞는 데이터 가져오기 \n",
        "ds1 = ds[ds.index >= '2019-01-01']\n",
        "print(ds1)"
      ],
      "execution_count": null,
      "outputs": [
        {
          "output_type": "stream",
          "text": [
            "2019-01-01     4.5\n",
            "2019-02-01     6.6\n",
            "2019-03-01    10.5\n",
            "2019-04-01    13.4\n",
            "2019-05-01    19.3\n",
            "2019-06-01    21.1\n",
            "dtype: float64\n"
          ],
          "name": "stdout"
        }
      ]
    },
    {
      "cell_type": "markdown",
      "metadata": {
        "id": "SXVBmVYrxx6W",
        "colab_type": "text"
      },
      "source": [
        "### series 기초 통계\n",
        "+ mean() : 평균\n",
        "+ max() : 최대\n",
        "+ min() : 최소\n",
        "+ std() : 표준편차\n",
        "+ describe() : 요약 통계량 계산"
      ]
    },
    {
      "cell_type": "code",
      "metadata": {
        "id": "3mT4i5bdxqNi",
        "colab_type": "code",
        "colab": {
          "base_uri": "https://localhost:8080/",
          "height": 275
        },
        "outputId": "8c70a09f-324a-4dfc-de15-1be483918d96"
      },
      "source": [
        "print(f'평균 : {ds.mean():0.2f}')\n",
        "print(f'최대 : {ds.max():0.2f}')\n",
        "print(f'최소 : {ds.min():0.2f}')\n",
        "print(f'표준편차 : {ds.std():0.2f}')\n",
        "print(f'요약 \\n{ds.describe() }')"
      ],
      "execution_count": 43,
      "outputs": [
        {
          "output_type": "stream",
          "text": [
            "평균 : 14.62\n",
            "최대 : 27.90\n",
            "최소 : 1.90\n",
            "표준편차 : 7.99\n",
            "요약 \n",
            "count    30.000000\n",
            "mean     14.616667\n",
            "std       7.989048\n",
            "min       1.900000\n",
            "25%       7.200000\n",
            "50%      14.750000\n",
            "75%      21.250000\n",
            "max      27.900000\n",
            "dtype: float64\n"
          ],
          "name": "stdout"
        }
      ]
    },
    {
      "cell_type": "code",
      "metadata": {
        "id": "XntIbnc57OEe",
        "colab_type": "code",
        "colab": {
          "base_uri": "https://localhost:8080/",
          "height": 311
        },
        "outputId": "e8c6701a-7e4f-4a10-a3ba-75757a44eb34"
      },
      "source": [
        "dstemp = ds[ds > 14.6]\n",
        "dstemp"
      ],
      "execution_count": 45,
      "outputs": [
        {
          "output_type": "execute_result",
          "data": {
            "text/plain": [
              "2017-04-01    15.0\n",
              "2017-05-01    19.0\n",
              "2017-06-01    21.3\n",
              "2017-07-01    26.1\n",
              "2017-08-01    27.0\n",
              "2017-09-01    22.6\n",
              "2017-10-01    18.1\n",
              "2018-05-01    17.8\n",
              "2018-06-01    21.5\n",
              "2018-07-01    26.7\n",
              "2018-08-01    27.9\n",
              "2018-09-01    21.9\n",
              "2018-10-01    16.4\n",
              "2019-05-01    19.3\n",
              "2019-06-01    21.1\n",
              "dtype: float64"
            ]
          },
          "metadata": {
            "tags": []
          },
          "execution_count": 45
        }
      ]
    },
    {
      "cell_type": "code",
      "metadata": {
        "id": "bOUBcsYm6sR7",
        "colab_type": "code",
        "colab": {
          "base_uri": "https://localhost:8080/",
          "height": 298
        },
        "outputId": "576f90d7-8653-4549-d0ba-3e580388a647"
      },
      "source": [
        "#시리즈 값중에서 평균값보다 큰 행을 추출\n",
        "\n",
        "dsup = ds[ds > ds.mean()]\n",
        "dsup"
      ],
      "execution_count": null,
      "outputs": [
        {
          "output_type": "execute_result",
          "data": {
            "text/plain": [
              "2017-04-01    15.0\n",
              "2017-05-01    19.0\n",
              "2017-06-01    21.3\n",
              "2017-07-01    26.1\n",
              "2017-08-01    27.0\n",
              "2017-09-01    22.6\n",
              "2017-10-01    18.1\n",
              "2018-05-01    17.8\n",
              "2018-06-01    21.5\n",
              "2018-07-01    26.7\n",
              "2018-08-01    27.9\n",
              "2018-09-01    21.9\n",
              "2018-10-01    16.4\n",
              "2019-05-01    19.3\n",
              "2019-06-01    21.1\n",
              "dtype: float64"
            ]
          },
          "metadata": {
            "tags": []
          },
          "execution_count": 44
        }
      ]
    },
    {
      "cell_type": "markdown",
      "metadata": {
        "id": "PoGl9C8D0dfh",
        "colab_type": "text"
      },
      "source": [
        "### series 자주사용되는 메소드\n",
        "+ replace() : 특정값을 가진 요소 값을 변경\n",
        "+ equals() : 시리즈와 시리즈가 같은지 비교\n",
        "+ isin() : 시리즈에 포함된 값이 있는지 확인 \n",
        "+ drop_duplicates() : 중복값이 없는 시리즈 반환\n",
        "+ append() : 2개이상의 시리즈 연결 \n",
        "+ sort_index() : 인덱스로 정렬\n",
        " - ascending = False : 역순 정렬 옵션\n",
        "+ sort_values() : 값으로 정렬\n",
        "+ to_frame() : 시리즈를 데이터프레임으로 변경"
      ]
    },
    {
      "cell_type": "code",
      "metadata": {
        "id": "b9icysM_21Y6",
        "colab_type": "code",
        "colab": {
          "base_uri": "https://localhost:8080/",
          "height": 606
        },
        "outputId": "b2f1382b-9d58-43ad-b434-aa3b6749d77f"
      },
      "source": [
        "#시리즈 복사\n",
        "ds0 = ds\n",
        "print(ds0)\n",
        "print(type(ds0))"
      ],
      "execution_count": 47,
      "outputs": [
        {
          "output_type": "stream",
          "text": [
            "2017-01-01     4.1\n",
            "2017-02-01     5.5\n",
            "2017-03-01     9.0\n",
            "2017-04-01    15.0\n",
            "2017-05-01    19.0\n",
            "2017-06-01    21.3\n",
            "2017-07-01    26.1\n",
            "2017-08-01    27.0\n",
            "2017-09-01    22.6\n",
            "2017-10-01    18.1\n",
            "2017-11-01    11.2\n",
            "2017-12-01     3.6\n",
            "2018-01-01     1.9\n",
            "2018-02-01     3.9\n",
            "2018-03-01    10.0\n",
            "2018-04-01    14.5\n",
            "2018-05-01    17.8\n",
            "2018-06-01    21.5\n",
            "2018-07-01    26.7\n",
            "2018-08-01    27.9\n",
            "2018-09-01    21.9\n",
            "2018-10-01    16.4\n",
            "2018-11-01    12.4\n",
            "2018-12-01     5.7\n",
            "2019-01-01     4.5\n",
            "2019-02-01     6.6\n",
            "2019-03-01    10.5\n",
            "2019-04-01    13.4\n",
            "2019-05-01    19.3\n",
            "2019-06-01    21.1\n",
            "dtype: float64\n",
            "<class 'pandas.core.series.Series'>\n"
          ],
          "name": "stdout"
        }
      ]
    },
    {
      "cell_type": "markdown",
      "metadata": {
        "id": "0aFEBnbZ5Zpu",
        "colab_type": "text"
      },
      "source": [
        "+ replace() : 특정값을 가진 요소 값을 변경"
      ]
    },
    {
      "cell_type": "code",
      "metadata": {
        "id": "ZRw-Ad-z8pBR",
        "colab_type": "code",
        "colab": {
          "base_uri": "https://localhost:8080/",
          "height": 54
        },
        "outputId": "7d935f50-747f-40b6-8adb-d50db7c28c32"
      },
      "source": [
        "ds0[ds0 == 21.3]"
      ],
      "execution_count": 48,
      "outputs": [
        {
          "output_type": "execute_result",
          "data": {
            "text/plain": [
              "2017-06-01    21.3\n",
              "dtype: float64"
            ]
          },
          "metadata": {
            "tags": []
          },
          "execution_count": 48
        }
      ]
    },
    {
      "cell_type": "code",
      "metadata": {
        "id": "jGcu4JWt24iA",
        "colab_type": "code",
        "colab": {
          "base_uri": "https://localhost:8080/",
          "height": 35
        },
        "outputId": "96ac6b75-047e-4857-8fec-6aa2f4cc8bbf"
      },
      "source": [
        "#값 변경 : 21.3인 값을 21.5로 변경\n",
        "ds0 = ds0.replace(21.3, 21.5)\n",
        "ds0['2017-06-01']"
      ],
      "execution_count": 49,
      "outputs": [
        {
          "output_type": "execute_result",
          "data": {
            "text/plain": [
              "21.5"
            ]
          },
          "metadata": {
            "tags": []
          },
          "execution_count": 49
        }
      ]
    },
    {
      "cell_type": "markdown",
      "metadata": {
        "id": "chc4uN8c5knp",
        "colab_type": "text"
      },
      "source": [
        "+ equals() : 시리즈와 시리즈가 같은지 비교"
      ]
    },
    {
      "cell_type": "code",
      "metadata": {
        "id": "0V5VNOjs9hMF",
        "colab_type": "code",
        "colab": {
          "base_uri": "https://localhost:8080/",
          "height": 587
        },
        "outputId": "77cf8b75-e980-4c31-873e-e6accc0f8201"
      },
      "source": [
        "ds"
      ],
      "execution_count": 50,
      "outputs": [
        {
          "output_type": "execute_result",
          "data": {
            "text/plain": [
              "2017-01-01     4.1\n",
              "2017-02-01     5.5\n",
              "2017-03-01     9.0\n",
              "2017-04-01    15.0\n",
              "2017-05-01    19.0\n",
              "2017-06-01    21.3\n",
              "2017-07-01    26.1\n",
              "2017-08-01    27.0\n",
              "2017-09-01    22.6\n",
              "2017-10-01    18.1\n",
              "2017-11-01    11.2\n",
              "2017-12-01     3.6\n",
              "2018-01-01     1.9\n",
              "2018-02-01     3.9\n",
              "2018-03-01    10.0\n",
              "2018-04-01    14.5\n",
              "2018-05-01    17.8\n",
              "2018-06-01    21.5\n",
              "2018-07-01    26.7\n",
              "2018-08-01    27.9\n",
              "2018-09-01    21.9\n",
              "2018-10-01    16.4\n",
              "2018-11-01    12.4\n",
              "2018-12-01     5.7\n",
              "2019-01-01     4.5\n",
              "2019-02-01     6.6\n",
              "2019-03-01    10.5\n",
              "2019-04-01    13.4\n",
              "2019-05-01    19.3\n",
              "2019-06-01    21.1\n",
              "dtype: float64"
            ]
          },
          "metadata": {
            "tags": []
          },
          "execution_count": 50
        }
      ]
    },
    {
      "cell_type": "code",
      "metadata": {
        "id": "J-_LB69V9kAd",
        "colab_type": "code",
        "colab": {
          "base_uri": "https://localhost:8080/",
          "height": 587
        },
        "outputId": "71191637-f599-43b3-b14f-d89e55a599e7"
      },
      "source": [
        "ds0"
      ],
      "execution_count": 51,
      "outputs": [
        {
          "output_type": "execute_result",
          "data": {
            "text/plain": [
              "2017-01-01     4.1\n",
              "2017-02-01     5.5\n",
              "2017-03-01     9.0\n",
              "2017-04-01    15.0\n",
              "2017-05-01    19.0\n",
              "2017-06-01    21.5\n",
              "2017-07-01    26.1\n",
              "2017-08-01    27.0\n",
              "2017-09-01    22.6\n",
              "2017-10-01    18.1\n",
              "2017-11-01    11.2\n",
              "2017-12-01     3.6\n",
              "2018-01-01     1.9\n",
              "2018-02-01     3.9\n",
              "2018-03-01    10.0\n",
              "2018-04-01    14.5\n",
              "2018-05-01    17.8\n",
              "2018-06-01    21.5\n",
              "2018-07-01    26.7\n",
              "2018-08-01    27.9\n",
              "2018-09-01    21.9\n",
              "2018-10-01    16.4\n",
              "2018-11-01    12.4\n",
              "2018-12-01     5.7\n",
              "2019-01-01     4.5\n",
              "2019-02-01     6.6\n",
              "2019-03-01    10.5\n",
              "2019-04-01    13.4\n",
              "2019-05-01    19.3\n",
              "2019-06-01    21.1\n",
              "dtype: float64"
            ]
          },
          "metadata": {
            "tags": []
          },
          "execution_count": 51
        }
      ]
    },
    {
      "cell_type": "code",
      "metadata": {
        "id": "aStK0fVd4dqX",
        "colab_type": "code",
        "colab": {
          "base_uri": "https://localhost:8080/",
          "height": 34
        },
        "outputId": "00afb4c5-b39a-44ae-faab-f2ce76bd8962"
      },
      "source": [
        "#두 시리즈 같은지 비교 \n",
        "print(ds0.equals(ds))"
      ],
      "execution_count": null,
      "outputs": [
        {
          "output_type": "stream",
          "text": [
            "False\n"
          ],
          "name": "stdout"
        }
      ]
    },
    {
      "cell_type": "markdown",
      "metadata": {
        "id": "PWmPTtIm5ohS",
        "colab_type": "text"
      },
      "source": [
        "+ isin() : 시리즈에 포함된 값이 있는지 확인"
      ]
    },
    {
      "cell_type": "code",
      "metadata": {
        "id": "AuggkJQS-Bct",
        "colab_type": "code",
        "colab": {
          "base_uri": "https://localhost:8080/",
          "height": 138
        },
        "outputId": "71d9aa64-4f58-4b89-ea7c-55057561d6b0"
      },
      "source": [
        "ds0[ds in [21.5, 22. 5]]"
      ],
      "execution_count": 52,
      "outputs": [
        {
          "output_type": "error",
          "ename": "SyntaxError",
          "evalue": "ignored",
          "traceback": [
            "\u001b[0;36m  File \u001b[0;32m\"<ipython-input-52-56429865909d>\"\u001b[0;36m, line \u001b[0;32m1\u001b[0m\n\u001b[0;31m    ds0[ds in [21.5, 22. 5]]\u001b[0m\n\u001b[0m                         ^\u001b[0m\n\u001b[0;31mSyntaxError\u001b[0m\u001b[0;31m:\u001b[0m invalid syntax\n"
          ]
        }
      ]
    },
    {
      "cell_type": "code",
      "metadata": {
        "id": "2Go62rio42Wc",
        "colab_type": "code",
        "colab": {
          "base_uri": "https://localhost:8080/",
          "height": 35
        },
        "outputId": "077f7729-2426-4bbb-94ff-09b13a93077f"
      },
      "source": [
        "#값에 리스트 내용이 있는지 확인 \n",
        "ds215 = ds0.isin([21.5])\n",
        "type(ds215)"
      ],
      "execution_count": 54,
      "outputs": [
        {
          "output_type": "execute_result",
          "data": {
            "text/plain": [
              "pandas.core.series.Series"
            ]
          },
          "metadata": {
            "tags": []
          },
          "execution_count": 54
        }
      ]
    },
    {
      "cell_type": "code",
      "metadata": {
        "id": "xhLJNJ85-xwe",
        "colab_type": "code",
        "colab": {
          "base_uri": "https://localhost:8080/",
          "height": 35
        },
        "outputId": "846fef9a-059c-4905-c4b2-746b04349ce8"
      },
      "source": [
        "ds215.sum()"
      ],
      "execution_count": 55,
      "outputs": [
        {
          "output_type": "execute_result",
          "data": {
            "text/plain": [
              "2"
            ]
          },
          "metadata": {
            "tags": []
          },
          "execution_count": 55
        }
      ]
    },
    {
      "cell_type": "code",
      "metadata": {
        "id": "8bMQ_V1i3jzM",
        "colab_type": "code",
        "colab": {
          "base_uri": "https://localhost:8080/",
          "height": 35
        },
        "outputId": "0c7a611b-3957-4016-b8fe-42d0062f4288"
      },
      "source": [
        "#값에 리스트 내용이 있는 항목의 개수 \n",
        "#시리즈의 값이 21.5인 행의 개수 \n",
        "ds0.isin([21.5]).sum()"
      ],
      "execution_count": 56,
      "outputs": [
        {
          "output_type": "execute_result",
          "data": {
            "text/plain": [
              "2"
            ]
          },
          "metadata": {
            "tags": []
          },
          "execution_count": 56
        }
      ]
    },
    {
      "cell_type": "markdown",
      "metadata": {
        "id": "_fVc3P9q5uEF",
        "colab_type": "text"
      },
      "source": [
        "+ drop_duplicates() : 중복값이 없는 시리즈 반환"
      ]
    },
    {
      "cell_type": "code",
      "metadata": {
        "id": "yla4OKDz_Xju",
        "colab_type": "code",
        "colab": {
          "base_uri": "https://localhost:8080/",
          "height": 183
        },
        "outputId": "a7b8a705-41cf-4633-83c5-86f7827dc644"
      },
      "source": [
        "ds0.describe()"
      ],
      "execution_count": 57,
      "outputs": [
        {
          "output_type": "execute_result",
          "data": {
            "text/plain": [
              "count    30.000000\n",
              "mean     14.623333\n",
              "std       7.994899\n",
              "min       1.900000\n",
              "25%       7.200000\n",
              "50%      14.750000\n",
              "75%      21.400000\n",
              "max      27.900000\n",
              "dtype: float64"
            ]
          },
          "metadata": {
            "tags": []
          },
          "execution_count": 57
        }
      ]
    },
    {
      "cell_type": "code",
      "metadata": {
        "id": "5YXH50El4xMH",
        "colab_type": "code",
        "colab": {
          "base_uri": "https://localhost:8080/",
          "height": 183
        },
        "outputId": "af9b19bd-13cd-431d-95da-d7a56630da08"
      },
      "source": [
        "#값이 동일한 \n",
        "ds0 = ds0.drop_duplicates()\n",
        "ds0.describe()"
      ],
      "execution_count": 58,
      "outputs": [
        {
          "output_type": "execute_result",
          "data": {
            "text/plain": [
              "count    29.000000\n",
              "mean     14.386207\n",
              "std       8.028330\n",
              "min       1.900000\n",
              "25%       6.600000\n",
              "50%      14.500000\n",
              "75%      21.100000\n",
              "max      27.900000\n",
              "dtype: float64"
            ]
          },
          "metadata": {
            "tags": []
          },
          "execution_count": 58
        }
      ]
    },
    {
      "cell_type": "markdown",
      "metadata": {
        "id": "sk5oh4tp53Lt",
        "colab_type": "text"
      },
      "source": [
        "+ append() : 2개이상의 시리즈 연결\n",
        "\n",
        "\n"
      ]
    },
    {
      "cell_type": "code",
      "metadata": {
        "id": "iU4JtHqv1jDC",
        "colab_type": "code",
        "colab": {
          "base_uri": "https://localhost:8080/",
          "height": 275
        },
        "outputId": "df789dec-2dbd-4605-ee93-75be2ba5474f"
      },
      "source": [
        "ds1 = ds[:'2017-06-01']\n",
        "ds2 = ds['2018-01-01':'2018-06-01']\n",
        "print(ds1)\n",
        "print(ds2)"
      ],
      "execution_count": 60,
      "outputs": [
        {
          "output_type": "stream",
          "text": [
            "2017-01-01     4.1\n",
            "2017-02-01     5.5\n",
            "2017-03-01     9.0\n",
            "2017-04-01    15.0\n",
            "2017-05-01    19.0\n",
            "2017-06-01    21.3\n",
            "dtype: float64\n",
            "2018-01-01     1.9\n",
            "2018-02-01     3.9\n",
            "2018-03-01    10.0\n",
            "2018-04-01    14.5\n",
            "2018-05-01    17.8\n",
            "2018-06-01    21.5\n",
            "dtype: float64\n"
          ],
          "name": "stdout"
        }
      ]
    },
    {
      "cell_type": "code",
      "metadata": {
        "id": "cDd7wGPZ_-wX",
        "colab_type": "code",
        "colab": {
          "base_uri": "https://localhost:8080/",
          "height": 256
        },
        "outputId": "b778f5d5-e9bb-4380-84ff-3fe45ce0f40a"
      },
      "source": [
        "ds12 = ds1.append(ds2)\n",
        "ds12"
      ],
      "execution_count": 61,
      "outputs": [
        {
          "output_type": "execute_result",
          "data": {
            "text/plain": [
              "2017-01-01     4.1\n",
              "2017-02-01     5.5\n",
              "2017-03-01     9.0\n",
              "2017-04-01    15.0\n",
              "2017-05-01    19.0\n",
              "2017-06-01    21.3\n",
              "2018-01-01     1.9\n",
              "2018-02-01     3.9\n",
              "2018-03-01    10.0\n",
              "2018-04-01    14.5\n",
              "2018-05-01    17.8\n",
              "2018-06-01    21.5\n",
              "dtype: float64"
            ]
          },
          "metadata": {
            "tags": []
          },
          "execution_count": 61
        }
      ]
    },
    {
      "cell_type": "code",
      "metadata": {
        "id": "HEUiIpvg2s82",
        "colab_type": "code",
        "colab": {
          "base_uri": "https://localhost:8080/",
          "height": 256
        },
        "outputId": "f4103bb5-1d7f-4d4e-e3f8-9cf3b137b4b0"
      },
      "source": [
        "ds21 = ds2.append(ds1)\n",
        "ds21"
      ],
      "execution_count": 62,
      "outputs": [
        {
          "output_type": "execute_result",
          "data": {
            "text/plain": [
              "2018-01-01     1.9\n",
              "2018-02-01     3.9\n",
              "2018-03-01    10.0\n",
              "2018-04-01    14.5\n",
              "2018-05-01    17.8\n",
              "2018-06-01    21.5\n",
              "2017-01-01     4.1\n",
              "2017-02-01     5.5\n",
              "2017-03-01     9.0\n",
              "2017-04-01    15.0\n",
              "2017-05-01    19.0\n",
              "2017-06-01    21.3\n",
              "dtype: float64"
            ]
          },
          "metadata": {
            "tags": []
          },
          "execution_count": 62
        }
      ]
    },
    {
      "cell_type": "markdown",
      "metadata": {
        "id": "g6UnGLtz6A8g",
        "colab_type": "text"
      },
      "source": [
        "+ sort_index() : 인덱스로 정렬\n",
        " - ascending = False : 역순 정렬 옵션"
      ]
    },
    {
      "cell_type": "code",
      "metadata": {
        "id": "ryjGG4WP5Qj0",
        "colab_type": "code",
        "colab": {
          "base_uri": "https://localhost:8080/",
          "height": 256
        },
        "outputId": "9d381866-50bd-4a57-e88e-f02a7ba3d7a9"
      },
      "source": [
        "ds21 = ds21.sort_index()\n",
        "ds21"
      ],
      "execution_count": 63,
      "outputs": [
        {
          "output_type": "execute_result",
          "data": {
            "text/plain": [
              "2017-01-01     4.1\n",
              "2017-02-01     5.5\n",
              "2017-03-01     9.0\n",
              "2017-04-01    15.0\n",
              "2017-05-01    19.0\n",
              "2017-06-01    21.3\n",
              "2018-01-01     1.9\n",
              "2018-02-01     3.9\n",
              "2018-03-01    10.0\n",
              "2018-04-01    14.5\n",
              "2018-05-01    17.8\n",
              "2018-06-01    21.5\n",
              "dtype: float64"
            ]
          },
          "metadata": {
            "tags": []
          },
          "execution_count": 63
        }
      ]
    },
    {
      "cell_type": "code",
      "metadata": {
        "id": "810-NfFi6J3W",
        "colab_type": "code",
        "colab": {
          "base_uri": "https://localhost:8080/",
          "height": 256
        },
        "outputId": "8a5ec013-5943-457c-df0e-70bc71148698"
      },
      "source": [
        "ds21 = ds21.sort_index(ascending = False)\n",
        "ds21"
      ],
      "execution_count": 64,
      "outputs": [
        {
          "output_type": "execute_result",
          "data": {
            "text/plain": [
              "2018-06-01    21.5\n",
              "2018-05-01    17.8\n",
              "2018-04-01    14.5\n",
              "2018-03-01    10.0\n",
              "2018-02-01     3.9\n",
              "2018-01-01     1.9\n",
              "2017-06-01    21.3\n",
              "2017-05-01    19.0\n",
              "2017-04-01    15.0\n",
              "2017-03-01     9.0\n",
              "2017-02-01     5.5\n",
              "2017-01-01     4.1\n",
              "dtype: float64"
            ]
          },
          "metadata": {
            "tags": []
          },
          "execution_count": 64
        }
      ]
    },
    {
      "cell_type": "markdown",
      "metadata": {
        "id": "sO58E9dt6cwY",
        "colab_type": "text"
      },
      "source": [
        "+ sort_values() : 값으로 정렬"
      ]
    },
    {
      "cell_type": "code",
      "metadata": {
        "id": "fno6AUaW5wrn",
        "colab_type": "code",
        "colab": {
          "base_uri": "https://localhost:8080/",
          "height": 256
        },
        "outputId": "c88dfa36-ccee-4384-d1f9-75553e867158"
      },
      "source": [
        "ds21 = ds21.sort_values(ascending = False)\n",
        "ds21"
      ],
      "execution_count": 66,
      "outputs": [
        {
          "output_type": "execute_result",
          "data": {
            "text/plain": [
              "2018-06-01    21.5\n",
              "2017-06-01    21.3\n",
              "2017-05-01    19.0\n",
              "2018-05-01    17.8\n",
              "2017-04-01    15.0\n",
              "2018-04-01    14.5\n",
              "2018-03-01    10.0\n",
              "2017-03-01     9.0\n",
              "2017-02-01     5.5\n",
              "2017-01-01     4.1\n",
              "2018-02-01     3.9\n",
              "2018-01-01     1.9\n",
              "dtype: float64"
            ]
          },
          "metadata": {
            "tags": []
          },
          "execution_count": 66
        }
      ]
    },
    {
      "cell_type": "markdown",
      "metadata": {
        "id": "x1-Cg2RI6jc2",
        "colab_type": "text"
      },
      "source": [
        "+ to_frame() : 시리즈를 데이터프레임으로 변경"
      ]
    },
    {
      "cell_type": "code",
      "metadata": {
        "id": "gu3E120v6Q_M",
        "colab_type": "code",
        "colab": {
          "base_uri": "https://localhost:8080/",
          "height": 35
        },
        "outputId": "c86bf0d4-59f1-4da7-aca3-741a9631255b"
      },
      "source": [
        "ds21 = ds21.to_frame()\n",
        "print(type(ds21))"
      ],
      "execution_count": 67,
      "outputs": [
        {
          "output_type": "stream",
          "text": [
            "<class 'pandas.core.frame.DataFrame'>\n"
          ],
          "name": "stdout"
        }
      ]
    },
    {
      "cell_type": "markdown",
      "metadata": {
        "id": "WNR6vXC57gay",
        "colab_type": "text"
      },
      "source": [
        "### series 연산 (인덱스가 같은 것끼리 연산)\n",
        "+ \\+ : 같은 길이의 시리즈와 시리즈 더하기\n",
        "+ \\* : 같은 길이의 시리즈와 시리즈 곱하기\n"
      ]
    },
    {
      "cell_type": "code",
      "metadata": {
        "id": "hsFK9EM2HXh5",
        "colab_type": "code",
        "colab": {
          "base_uri": "https://localhost:8080/",
          "height": 146
        },
        "outputId": "4f40f1ea-2026-49bf-9565-3a3188f33ab6"
      },
      "source": [
        "ds1"
      ],
      "execution_count": 68,
      "outputs": [
        {
          "output_type": "execute_result",
          "data": {
            "text/plain": [
              "2017-01-01     4.1\n",
              "2017-02-01     5.5\n",
              "2017-03-01     9.0\n",
              "2017-04-01    15.0\n",
              "2017-05-01    19.0\n",
              "2017-06-01    21.3\n",
              "dtype: float64"
            ]
          },
          "metadata": {
            "tags": []
          },
          "execution_count": 68
        }
      ]
    },
    {
      "cell_type": "code",
      "metadata": {
        "id": "thJlkwYzHaE1",
        "colab_type": "code",
        "colab": {
          "base_uri": "https://localhost:8080/",
          "height": 146
        },
        "outputId": "c392848f-82a4-444d-9a3c-400f232d59d1"
      },
      "source": [
        "ds2"
      ],
      "execution_count": 69,
      "outputs": [
        {
          "output_type": "execute_result",
          "data": {
            "text/plain": [
              "2018-01-01     1.9\n",
              "2018-02-01     3.9\n",
              "2018-03-01    10.0\n",
              "2018-04-01    14.5\n",
              "2018-05-01    17.8\n",
              "2018-06-01    21.5\n",
              "dtype: float64"
            ]
          },
          "metadata": {
            "tags": []
          },
          "execution_count": 69
        }
      ]
    },
    {
      "cell_type": "code",
      "metadata": {
        "id": "ag8ElTUW8MnV",
        "colab_type": "code",
        "colab": {
          "base_uri": "https://localhost:8080/",
          "height": 266
        },
        "outputId": "cc71d35e-ff75-457f-c58b-6734e1e98d6e"
      },
      "source": [
        "print(ds1 + 1)\n",
        "print(ds2 * 3)"
      ],
      "execution_count": null,
      "outputs": [
        {
          "output_type": "stream",
          "text": [
            "2017-01-01     5.1\n",
            "2017-02-01     6.5\n",
            "2017-03-01    10.0\n",
            "2017-04-01    16.0\n",
            "2017-05-01    20.0\n",
            "2017-06-01    22.3\n",
            "dtype: float64\n",
            "2018-01-01     5.7\n",
            "2018-02-01    11.7\n",
            "2018-03-01    30.0\n",
            "2018-04-01    43.5\n",
            "2018-05-01    53.4\n",
            "2018-06-01    64.5\n",
            "dtype: float64\n"
          ],
          "name": "stdout"
        }
      ]
    },
    {
      "cell_type": "code",
      "metadata": {
        "colab_type": "code",
        "id": "G91O3xuO_Nwz",
        "colab": {
          "base_uri": "https://localhost:8080/",
          "height": 248
        },
        "outputId": "701de60f-25b4-4e15-fcb8-d96e7283895e"
      },
      "source": [
        "ds1 + ds2"
      ],
      "execution_count": null,
      "outputs": [
        {
          "output_type": "execute_result",
          "data": {
            "text/plain": [
              "2017-01-01   NaN\n",
              "2017-02-01   NaN\n",
              "2017-03-01   NaN\n",
              "2017-04-01   NaN\n",
              "2017-05-01   NaN\n",
              "2017-06-01   NaN\n",
              "2018-01-01   NaN\n",
              "2018-02-01   NaN\n",
              "2018-03-01   NaN\n",
              "2018-04-01   NaN\n",
              "2018-05-01   NaN\n",
              "2018-06-01   NaN\n",
              "dtype: float64"
            ]
          },
          "metadata": {
            "tags": []
          },
          "execution_count": 60
        }
      ]
    },
    {
      "cell_type": "markdown",
      "metadata": {
        "id": "kiSEdUo5HyLD",
        "colab_type": "text"
      },
      "source": [
        "#### 시리즈 인덱스 변경"
      ]
    },
    {
      "cell_type": "code",
      "metadata": {
        "id": "uVzdcC6PH4ke",
        "colab_type": "code",
        "colab": {
          "base_uri": "https://localhost:8080/",
          "height": 72
        },
        "outputId": "a77d3015-9e97-48ec-b616-926d8a098bf2"
      },
      "source": [
        "ds1.index "
      ],
      "execution_count": 70,
      "outputs": [
        {
          "output_type": "execute_result",
          "data": {
            "text/plain": [
              "Index(['2017-01-01', '2017-02-01', '2017-03-01', '2017-04-01', '2017-05-01',\n",
              "       '2017-06-01'],\n",
              "      dtype='object')"
            ]
          },
          "metadata": {
            "tags": []
          },
          "execution_count": 70
        }
      ]
    },
    {
      "cell_type": "code",
      "metadata": {
        "id": "M9IRD4JK8n-U",
        "colab_type": "code",
        "colab": {
          "base_uri": "https://localhost:8080/",
          "height": 35
        },
        "outputId": "2b4acf54-5bd3-46e8-c8af-c08df9be31ba"
      },
      "source": [
        "ds1.index = list(range(len(ds1)))\n",
        "ds1.index"
      ],
      "execution_count": 71,
      "outputs": [
        {
          "output_type": "execute_result",
          "data": {
            "text/plain": [
              "Int64Index([0, 1, 2, 3, 4, 5], dtype='int64')"
            ]
          },
          "metadata": {
            "tags": []
          },
          "execution_count": 71
        }
      ]
    },
    {
      "cell_type": "code",
      "metadata": {
        "id": "Bm3bU6JsIXdl",
        "colab_type": "code",
        "colab": {
          "base_uri": "https://localhost:8080/",
          "height": 146
        },
        "outputId": "9da36589-d7b5-4510-96e3-fe189f46a9b9"
      },
      "source": [
        "ds1"
      ],
      "execution_count": 72,
      "outputs": [
        {
          "output_type": "execute_result",
          "data": {
            "text/plain": [
              "0     4.1\n",
              "1     5.5\n",
              "2     9.0\n",
              "3    15.0\n",
              "4    19.0\n",
              "5    21.3\n",
              "dtype: float64"
            ]
          },
          "metadata": {
            "tags": []
          },
          "execution_count": 72
        }
      ]
    },
    {
      "cell_type": "code",
      "metadata": {
        "id": "tw5kJ3At-57A",
        "colab_type": "code",
        "colab": {
          "base_uri": "https://localhost:8080/",
          "height": 146
        },
        "outputId": "0e0fff1b-ff39-4142-cd4b-01800c29fc40"
      },
      "source": [
        "ds2.index = list(range(len(ds2)))\n",
        "ds2"
      ],
      "execution_count": 73,
      "outputs": [
        {
          "output_type": "execute_result",
          "data": {
            "text/plain": [
              "0     1.9\n",
              "1     3.9\n",
              "2    10.0\n",
              "3    14.5\n",
              "4    17.8\n",
              "5    21.5\n",
              "dtype: float64"
            ]
          },
          "metadata": {
            "tags": []
          },
          "execution_count": 73
        }
      ]
    },
    {
      "cell_type": "code",
      "metadata": {
        "id": "9tXlJ-gV--E9",
        "colab_type": "code",
        "colab": {
          "base_uri": "https://localhost:8080/",
          "height": 141
        },
        "outputId": "87daa1f3-f4e6-4805-fce6-d1767b40cd64"
      },
      "source": [
        "ds1 + ds2"
      ],
      "execution_count": null,
      "outputs": [
        {
          "output_type": "execute_result",
          "data": {
            "text/plain": [
              "0     6.0\n",
              "1     9.4\n",
              "2    19.0\n",
              "3    29.5\n",
              "4    36.8\n",
              "5    42.8\n",
              "dtype: float64"
            ]
          },
          "metadata": {
            "tags": []
          },
          "execution_count": 63
        }
      ]
    },
    {
      "cell_type": "code",
      "metadata": {
        "id": "ODrw67m4_CcA",
        "colab_type": "code",
        "colab": {
          "base_uri": "https://localhost:8080/",
          "height": 141
        },
        "outputId": "6670706e-2890-411f-92ce-84d3b39b0a7a"
      },
      "source": [
        "ds1 * ds2"
      ],
      "execution_count": null,
      "outputs": [
        {
          "output_type": "execute_result",
          "data": {
            "text/plain": [
              "0      7.79\n",
              "1     21.45\n",
              "2     90.00\n",
              "3    217.50\n",
              "4    338.20\n",
              "5    457.95\n",
              "dtype: float64"
            ]
          },
          "metadata": {
            "tags": []
          },
          "execution_count": 64
        }
      ]
    },
    {
      "cell_type": "markdown",
      "metadata": {
        "id": "VdGoGt5IG1ky",
        "colab_type": "text"
      },
      "source": [
        "\n",
        "\n",
        "---\n",
        "해결문제) 부산쓰레기발생2017년.csv 파일에서 '금정구'의 연간 매립처리량과 소각처리량, 음식물류발생량 정보를 추출하시오.\n",
        "+ 한글 인코딩 : euc-kr , cp949\n",
        "\n",
        "\n",
        "```\n",
        "연간(톤):매립처리량       7240.0\n",
        "연간(톤):소각처리량        222.0\n",
        "연간(톤):재활용처리량     56153.0\n",
        "연간(톤):음식물류발생량    21273.0\n",
        "```\n",
        "\n",
        "\n"
      ]
    },
    {
      "cell_type": "code",
      "metadata": {
        "id": "ZtbT_uSMXz_h",
        "colab_type": "code",
        "colab": {
          "base_uri": "https://localhost:8080/",
          "height": 202
        },
        "outputId": "0874ff8b-0ca3-4edd-ebed-01049c79c9f7"
      },
      "source": [
        "with open('/content/drive/My Drive/PythonWork/PythonBasic/04/부산쓰레기발생2017년.csv','r',encoding='cp949') as fp:\n",
        "    data = fp.readlines()\n",
        "\n",
        "data"
      ],
      "execution_count": 74,
      "outputs": [
        {
          "output_type": "execute_result",
          "data": {
            "text/plain": [
              "['항목,구분 ,중구 ,서구 ,동구 ,영도구 ,부산진구 ,동래구 ,남구 ,북구 ,해운대구,사하구 ,금정구 ,강서구 ,연제구 ,수영구 ,사상구 ,기장군 \\n',\n",
              " '매립처리량,연간(톤),3034,2323,1653,1219,17393,9195,8042,10498,5251,3089,7240,9742,1831,2205,9937,2290\\n',\n",
              " '매립처리량,일일(톤),8,7,5,3,48,25,22,29,14,8,20,27,5,6,27,6\\n',\n",
              " '소각처리량,연간(톤),13729,10446,8297,8651,538,17,158,97,31924,32671,222,4788,14521,11987,216,13687\\n',\n",
              " '소각처리량,일일(톤),38,29,23,24,2,0,0,0,87,89,1,13,40,33,0,37\\n',\n",
              " '재활용처리량,연간(톤),9082,21301,17968,24616,88453,56526,57921,63879,64667,70923,56153,25977,37115,28135,57110,15170\\n',\n",
              " '재활용처리량,일일(톤),25,58,49,68,242,155,159,175,177,194,154,71,102,77,156,42\\n',\n",
              " '음식물류발생량,연간(톤),5154,8779,6399,9522,27119,20128,15548,24201,40043,21183,21273,10810,14122,13289,24161,16648\\n',\n",
              " '음식물류발생량,일일(톤),14,24,18,26,74,55,43,66,110,58,58,30,39,36,66,46\\n']"
            ]
          },
          "metadata": {
            "tags": []
          },
          "execution_count": 74
        }
      ]
    },
    {
      "cell_type": "code",
      "metadata": {
        "id": "jNxaRjP2fAOW",
        "colab_type": "code",
        "colab": {
          "base_uri": "https://localhost:8080/",
          "height": 90
        },
        "outputId": "fa066fcd-daef-47f5-dbec-41354fb75220"
      },
      "source": [
        "lines = [] \n",
        "for idx in range(1,len(data), 2) :\n",
        "    lines.append(data[idx])\n",
        "\n",
        "lines"
      ],
      "execution_count": 75,
      "outputs": [
        {
          "output_type": "execute_result",
          "data": {
            "text/plain": [
              "['매립처리량,연간(톤),3034,2323,1653,1219,17393,9195,8042,10498,5251,3089,7240,9742,1831,2205,9937,2290\\n',\n",
              " '소각처리량,연간(톤),13729,10446,8297,8651,538,17,158,97,31924,32671,222,4788,14521,11987,216,13687\\n',\n",
              " '재활용처리량,연간(톤),9082,21301,17968,24616,88453,56526,57921,63879,64667,70923,56153,25977,37115,28135,57110,15170\\n',\n",
              " '음식물류발생량,연간(톤),5154,8779,6399,9522,27119,20128,15548,24201,40043,21183,21273,10810,14122,13289,24161,16648\\n']"
            ]
          },
          "metadata": {
            "tags": []
          },
          "execution_count": 75
        }
      ]
    },
    {
      "cell_type": "code",
      "metadata": {
        "id": "eF4FSOfof2jL",
        "colab_type": "code",
        "colab": {
          "base_uri": "https://localhost:8080/",
          "height": 74
        },
        "outputId": "eafdb963-8091-46ae-b809-df5c3fdbd4f1"
      },
      "source": [
        "idxlt = []\n",
        "vlt = []\n",
        "for line in lines :\n",
        "    item = line.split(',')\n",
        "\n",
        "    idxlt.append(item[1] + ':' + item[0])\n",
        "    vlt.append(int(item[12]))\n",
        "\n",
        "print(idxlt)\n",
        "print(vlt)"
      ],
      "execution_count": 79,
      "outputs": [
        {
          "output_type": "stream",
          "text": [
            "['연간(톤):매립처리량', '연간(톤):소각처리량', '연간(톤):재활용처리량', '연간(톤):음식물류발생량']\n",
            "[7240, 222, 56153, 21273]\n"
          ],
          "name": "stdout"
        }
      ]
    },
    {
      "cell_type": "code",
      "metadata": {
        "id": "ouNYHJKKgq8s",
        "colab_type": "code",
        "colab": {
          "base_uri": "https://localhost:8080/",
          "height": 183
        },
        "outputId": "d4c051e2-ad4f-4472-8d05-0dc2de2b091c"
      },
      "source": [
        "ds = pd.Series(vlt , index = idxlt)\n",
        "ds.describe()"
      ],
      "execution_count": 84,
      "outputs": [
        {
          "output_type": "execute_result",
          "data": {
            "text/plain": [
              "count        4.000000\n",
              "mean     21222.000000\n",
              "std      24877.524569\n",
              "min        222.000000\n",
              "25%       5485.500000\n",
              "50%      14256.500000\n",
              "75%      29993.000000\n",
              "max      56153.000000\n",
              "dtype: float64"
            ]
          },
          "metadata": {
            "tags": []
          },
          "execution_count": 84
        }
      ]
    }
  ]
}