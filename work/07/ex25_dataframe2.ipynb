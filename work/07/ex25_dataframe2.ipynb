{
  "nbformat": 4,
  "nbformat_minor": 0,
  "metadata": {
    "colab": {
      "name": "ex25_dataframe2.ipynb",
      "provenance": [],
      "collapsed_sections": [],
      "mount_file_id": "1qnn2Y5GbldoeUcFdsmkgSkok4aZc1fyr",
      "authorship_tag": "ABX9TyMxXSycgp/Y9qVJE4Mytac2"
    },
    "kernelspec": {
      "name": "python3",
      "display_name": "Python 3"
    }
  },
  "cells": [
    {
      "cell_type": "markdown",
      "metadata": {
        "id": "Elhx3QhiPg4w",
        "colab_type": "text"
      },
      "source": [
        "# 판다스(pandas)\n",
        "+ 파이썬에서 사용하는 데이터분석 라이브러리\n",
        "\n",
        "+ 행과 열로 이루어진 데이터 객체를 만들어 다룰 수 있게 되며 보다 안정적으로 대용량의 데이터들을 처리하는데 매우 편리한 도구\n",
        "\n",
        "+ NumPy를 기반으로 구축되었으며 과학 컴퓨팅 환경 내에서 다른 많은 타사 라이브러리와 잘 통합되도록 설계"
      ]
    },
    {
      "cell_type": "code",
      "metadata": {
        "id": "l2rbxxZCPVv6",
        "colab_type": "code",
        "colab": {}
      },
      "source": [
        "import pandas as pd"
      ],
      "execution_count": 1,
      "outputs": []
    },
    {
      "cell_type": "markdown",
      "metadata": {
        "id": "HtaKB9nRaQPS",
        "colab_type": "text"
      },
      "source": [
        "\n",
        "##DataFrame\n",
        "+ 2차원 자료구조인 DataFrame는 행과 열이 있는 테이블 데이터\n",
        "+ 딕션너리를 데이터 프레임으로 변경\n",
        " - 딕션너리 키 : 열(column)\n",
        " - 딕션너리 값 : 행(row)"
      ]
    },
    {
      "cell_type": "code",
      "metadata": {
        "id": "lyTJ0XaYvIj6",
        "colab_type": "code",
        "colab": {}
      },
      "source": [
        "df = pd.read_csv('/content/drive/My Drive/PythonWork/PythonBasic/04/부산쓰레기발생2017년.csv', engine='python', encoding='CP949')\n",
        "df"
      ],
      "execution_count": null,
      "outputs": []
    },
    {
      "cell_type": "code",
      "metadata": {
        "id": "jWDHLePrLJlV",
        "colab_type": "code",
        "colab": {
          "base_uri": "https://localhost:8080/",
          "height": 72
        },
        "outputId": "c2aeaac5-9921-440e-a562-6eff5fc1460e"
      },
      "source": [
        "df.columns = [item.strip() for item in df.columns]\n",
        "df.columns"
      ],
      "execution_count": 4,
      "outputs": [
        {
          "output_type": "execute_result",
          "data": {
            "text/plain": [
              "Index(['항목', '구분', '중구', '서구', '동구', '영도구', '부산진구', '동래구', '남구', '북구', '해운대구',\n",
              "       '사하구', '금정구', '강서구', '연제구', '수영구', '사상구', '기장군'],\n",
              "      dtype='object')"
            ]
          },
          "metadata": {
            "tags": []
          },
          "execution_count": 4
        }
      ]
    },
    {
      "cell_type": "code",
      "metadata": {
        "id": "arpkLT6I5zy2",
        "colab_type": "code",
        "colab": {
          "base_uri": "https://localhost:8080/",
          "height": 162
        },
        "outputId": "235e12b7-11aa-40dc-a37e-827edb3af7c1"
      },
      "source": [
        "df.head(2)"
      ],
      "execution_count": 5,
      "outputs": [
        {
          "output_type": "execute_result",
          "data": {
            "text/html": [
              "<div>\n",
              "<style scoped>\n",
              "    .dataframe tbody tr th:only-of-type {\n",
              "        vertical-align: middle;\n",
              "    }\n",
              "\n",
              "    .dataframe tbody tr th {\n",
              "        vertical-align: top;\n",
              "    }\n",
              "\n",
              "    .dataframe thead th {\n",
              "        text-align: right;\n",
              "    }\n",
              "</style>\n",
              "<table border=\"1\" class=\"dataframe\">\n",
              "  <thead>\n",
              "    <tr style=\"text-align: right;\">\n",
              "      <th></th>\n",
              "      <th>항목</th>\n",
              "      <th>구분</th>\n",
              "      <th>중구</th>\n",
              "      <th>서구</th>\n",
              "      <th>동구</th>\n",
              "      <th>영도구</th>\n",
              "      <th>부산진구</th>\n",
              "      <th>동래구</th>\n",
              "      <th>남구</th>\n",
              "      <th>북구</th>\n",
              "      <th>해운대구</th>\n",
              "      <th>사하구</th>\n",
              "      <th>금정구</th>\n",
              "      <th>강서구</th>\n",
              "      <th>연제구</th>\n",
              "      <th>수영구</th>\n",
              "      <th>사상구</th>\n",
              "      <th>기장군</th>\n",
              "    </tr>\n",
              "  </thead>\n",
              "  <tbody>\n",
              "    <tr>\n",
              "      <th>0</th>\n",
              "      <td>매립처리량</td>\n",
              "      <td>연간(톤)</td>\n",
              "      <td>3034</td>\n",
              "      <td>2323</td>\n",
              "      <td>1653</td>\n",
              "      <td>1219</td>\n",
              "      <td>17393</td>\n",
              "      <td>9195</td>\n",
              "      <td>8042</td>\n",
              "      <td>10498</td>\n",
              "      <td>5251</td>\n",
              "      <td>3089</td>\n",
              "      <td>7240</td>\n",
              "      <td>9742</td>\n",
              "      <td>1831</td>\n",
              "      <td>2205</td>\n",
              "      <td>9937</td>\n",
              "      <td>2290</td>\n",
              "    </tr>\n",
              "    <tr>\n",
              "      <th>1</th>\n",
              "      <td>매립처리량</td>\n",
              "      <td>일일(톤)</td>\n",
              "      <td>8</td>\n",
              "      <td>7</td>\n",
              "      <td>5</td>\n",
              "      <td>3</td>\n",
              "      <td>48</td>\n",
              "      <td>25</td>\n",
              "      <td>22</td>\n",
              "      <td>29</td>\n",
              "      <td>14</td>\n",
              "      <td>8</td>\n",
              "      <td>20</td>\n",
              "      <td>27</td>\n",
              "      <td>5</td>\n",
              "      <td>6</td>\n",
              "      <td>27</td>\n",
              "      <td>6</td>\n",
              "    </tr>\n",
              "  </tbody>\n",
              "</table>\n",
              "</div>"
            ],
            "text/plain": [
              "      항목     구분    중구    서구    동구   영도구  ...   금정구   강서구   연제구   수영구   사상구   기장군\n",
              "0  매립처리량  연간(톤)  3034  2323  1653  1219  ...  7240  9742  1831  2205  9937  2290\n",
              "1  매립처리량  일일(톤)     8     7     5     3  ...    20    27     5     6    27     6\n",
              "\n",
              "[2 rows x 18 columns]"
            ]
          },
          "metadata": {
            "tags": []
          },
          "execution_count": 5
        }
      ]
    },
    {
      "cell_type": "markdown",
      "metadata": {
        "id": "9WwyginphedT",
        "colab_type": "text"
      },
      "source": [
        "####**N행 확인하기**\n",
        "+ .head(N) \n",
        "  - 데이터프레임의 상위 N개의 행을 출력\n",
        "  - N생략하면 5개 \n",
        "+ .tail(N)  \n",
        " - 하위 N개의 행을 출력"
      ]
    },
    {
      "cell_type": "code",
      "metadata": {
        "id": "8z4ZxwNaiYWt",
        "colab_type": "code",
        "colab": {
          "base_uri": "https://localhost:8080/",
          "height": 204
        },
        "outputId": "8cbda7b9-5770-496e-a069-28a32ce9a9e4"
      },
      "source": [
        "df.head()"
      ],
      "execution_count": null,
      "outputs": [
        {
          "output_type": "execute_result",
          "data": {
            "text/html": [
              "<div>\n",
              "<style scoped>\n",
              "    .dataframe tbody tr th:only-of-type {\n",
              "        vertical-align: middle;\n",
              "    }\n",
              "\n",
              "    .dataframe tbody tr th {\n",
              "        vertical-align: top;\n",
              "    }\n",
              "\n",
              "    .dataframe thead th {\n",
              "        text-align: right;\n",
              "    }\n",
              "</style>\n",
              "<table border=\"1\" class=\"dataframe\">\n",
              "  <thead>\n",
              "    <tr style=\"text-align: right;\">\n",
              "      <th></th>\n",
              "      <th>항목</th>\n",
              "      <th>구분</th>\n",
              "      <th>중구</th>\n",
              "      <th>서구</th>\n",
              "      <th>동구</th>\n",
              "      <th>영도구</th>\n",
              "      <th>부산진구</th>\n",
              "      <th>동래구</th>\n",
              "      <th>남구</th>\n",
              "      <th>북구</th>\n",
              "      <th>해운대구</th>\n",
              "      <th>사하구</th>\n",
              "      <th>금정구</th>\n",
              "      <th>강서구</th>\n",
              "      <th>연제구</th>\n",
              "      <th>수영구</th>\n",
              "      <th>사상구</th>\n",
              "      <th>기장군</th>\n",
              "    </tr>\n",
              "  </thead>\n",
              "  <tbody>\n",
              "    <tr>\n",
              "      <th>0</th>\n",
              "      <td>매립처리량</td>\n",
              "      <td>연간(톤)</td>\n",
              "      <td>3034</td>\n",
              "      <td>2323</td>\n",
              "      <td>1653</td>\n",
              "      <td>1219</td>\n",
              "      <td>17393</td>\n",
              "      <td>9195</td>\n",
              "      <td>8042</td>\n",
              "      <td>10498</td>\n",
              "      <td>5251</td>\n",
              "      <td>3089</td>\n",
              "      <td>7240</td>\n",
              "      <td>9742</td>\n",
              "      <td>1831</td>\n",
              "      <td>2205</td>\n",
              "      <td>9937</td>\n",
              "      <td>2290</td>\n",
              "    </tr>\n",
              "    <tr>\n",
              "      <th>1</th>\n",
              "      <td>매립처리량</td>\n",
              "      <td>일일(톤)</td>\n",
              "      <td>8</td>\n",
              "      <td>7</td>\n",
              "      <td>5</td>\n",
              "      <td>3</td>\n",
              "      <td>48</td>\n",
              "      <td>25</td>\n",
              "      <td>22</td>\n",
              "      <td>29</td>\n",
              "      <td>14</td>\n",
              "      <td>8</td>\n",
              "      <td>20</td>\n",
              "      <td>27</td>\n",
              "      <td>5</td>\n",
              "      <td>6</td>\n",
              "      <td>27</td>\n",
              "      <td>6</td>\n",
              "    </tr>\n",
              "    <tr>\n",
              "      <th>2</th>\n",
              "      <td>소각처리량</td>\n",
              "      <td>연간(톤)</td>\n",
              "      <td>13729</td>\n",
              "      <td>10446</td>\n",
              "      <td>8297</td>\n",
              "      <td>8651</td>\n",
              "      <td>538</td>\n",
              "      <td>17</td>\n",
              "      <td>158</td>\n",
              "      <td>97</td>\n",
              "      <td>31924</td>\n",
              "      <td>32671</td>\n",
              "      <td>222</td>\n",
              "      <td>4788</td>\n",
              "      <td>14521</td>\n",
              "      <td>11987</td>\n",
              "      <td>216</td>\n",
              "      <td>13687</td>\n",
              "    </tr>\n",
              "    <tr>\n",
              "      <th>3</th>\n",
              "      <td>소각처리량</td>\n",
              "      <td>일일(톤)</td>\n",
              "      <td>38</td>\n",
              "      <td>29</td>\n",
              "      <td>23</td>\n",
              "      <td>24</td>\n",
              "      <td>2</td>\n",
              "      <td>0</td>\n",
              "      <td>0</td>\n",
              "      <td>0</td>\n",
              "      <td>87</td>\n",
              "      <td>89</td>\n",
              "      <td>1</td>\n",
              "      <td>13</td>\n",
              "      <td>40</td>\n",
              "      <td>33</td>\n",
              "      <td>0</td>\n",
              "      <td>37</td>\n",
              "    </tr>\n",
              "    <tr>\n",
              "      <th>4</th>\n",
              "      <td>재활용처리량</td>\n",
              "      <td>연간(톤)</td>\n",
              "      <td>9082</td>\n",
              "      <td>21301</td>\n",
              "      <td>17968</td>\n",
              "      <td>24616</td>\n",
              "      <td>88453</td>\n",
              "      <td>56526</td>\n",
              "      <td>57921</td>\n",
              "      <td>63879</td>\n",
              "      <td>64667</td>\n",
              "      <td>70923</td>\n",
              "      <td>56153</td>\n",
              "      <td>25977</td>\n",
              "      <td>37115</td>\n",
              "      <td>28135</td>\n",
              "      <td>57110</td>\n",
              "      <td>15170</td>\n",
              "    </tr>\n",
              "  </tbody>\n",
              "</table>\n",
              "</div>"
            ],
            "text/plain": [
              "       항목     구분     중구     서구     동구  ...    강서구    연제구    수영구    사상구    기장군\n",
              "0   매립처리량  연간(톤)   3034   2323   1653  ...   9742   1831   2205   9937   2290\n",
              "1   매립처리량  일일(톤)      8      7      5  ...     27      5      6     27      6\n",
              "2   소각처리량  연간(톤)  13729  10446   8297  ...   4788  14521  11987    216  13687\n",
              "3   소각처리량  일일(톤)     38     29     23  ...     13     40     33      0     37\n",
              "4  재활용처리량  연간(톤)   9082  21301  17968  ...  25977  37115  28135  57110  15170\n",
              "\n",
              "[5 rows x 18 columns]"
            ]
          },
          "metadata": {
            "tags": []
          },
          "execution_count": 108
        }
      ]
    },
    {
      "cell_type": "code",
      "metadata": {
        "id": "J8v1iB3hiePE",
        "colab_type": "code",
        "colab": {
          "base_uri": "https://localhost:8080/",
          "height": 111
        },
        "outputId": "be025993-f8ee-4d2e-9343-8611b0e0f1b4"
      },
      "source": [
        "df.head(2)"
      ],
      "execution_count": null,
      "outputs": [
        {
          "output_type": "execute_result",
          "data": {
            "text/html": [
              "<div>\n",
              "<style scoped>\n",
              "    .dataframe tbody tr th:only-of-type {\n",
              "        vertical-align: middle;\n",
              "    }\n",
              "\n",
              "    .dataframe tbody tr th {\n",
              "        vertical-align: top;\n",
              "    }\n",
              "\n",
              "    .dataframe thead th {\n",
              "        text-align: right;\n",
              "    }\n",
              "</style>\n",
              "<table border=\"1\" class=\"dataframe\">\n",
              "  <thead>\n",
              "    <tr style=\"text-align: right;\">\n",
              "      <th></th>\n",
              "      <th>항목</th>\n",
              "      <th>구분</th>\n",
              "      <th>중구</th>\n",
              "      <th>서구</th>\n",
              "      <th>동구</th>\n",
              "      <th>영도구</th>\n",
              "      <th>부산진구</th>\n",
              "      <th>동래구</th>\n",
              "      <th>남구</th>\n",
              "      <th>북구</th>\n",
              "      <th>해운대구</th>\n",
              "      <th>사하구</th>\n",
              "      <th>금정구</th>\n",
              "      <th>강서구</th>\n",
              "      <th>연제구</th>\n",
              "      <th>수영구</th>\n",
              "      <th>사상구</th>\n",
              "      <th>기장군</th>\n",
              "    </tr>\n",
              "  </thead>\n",
              "  <tbody>\n",
              "    <tr>\n",
              "      <th>0</th>\n",
              "      <td>매립처리량</td>\n",
              "      <td>연간(톤)</td>\n",
              "      <td>3034</td>\n",
              "      <td>2323</td>\n",
              "      <td>1653</td>\n",
              "      <td>1219</td>\n",
              "      <td>17393</td>\n",
              "      <td>9195</td>\n",
              "      <td>8042</td>\n",
              "      <td>10498</td>\n",
              "      <td>5251</td>\n",
              "      <td>3089</td>\n",
              "      <td>7240</td>\n",
              "      <td>9742</td>\n",
              "      <td>1831</td>\n",
              "      <td>2205</td>\n",
              "      <td>9937</td>\n",
              "      <td>2290</td>\n",
              "    </tr>\n",
              "    <tr>\n",
              "      <th>1</th>\n",
              "      <td>매립처리량</td>\n",
              "      <td>일일(톤)</td>\n",
              "      <td>8</td>\n",
              "      <td>7</td>\n",
              "      <td>5</td>\n",
              "      <td>3</td>\n",
              "      <td>48</td>\n",
              "      <td>25</td>\n",
              "      <td>22</td>\n",
              "      <td>29</td>\n",
              "      <td>14</td>\n",
              "      <td>8</td>\n",
              "      <td>20</td>\n",
              "      <td>27</td>\n",
              "      <td>5</td>\n",
              "      <td>6</td>\n",
              "      <td>27</td>\n",
              "      <td>6</td>\n",
              "    </tr>\n",
              "  </tbody>\n",
              "</table>\n",
              "</div>"
            ],
            "text/plain": [
              "      항목     구분    중구    서구    동구   영도구  ...   금정구   강서구   연제구   수영구   사상구   기장군\n",
              "0  매립처리량  연간(톤)  3034  2323  1653  1219  ...  7240  9742  1831  2205  9937  2290\n",
              "1  매립처리량  일일(톤)     8     7     5     3  ...    20    27     5     6    27     6\n",
              "\n",
              "[2 rows x 18 columns]"
            ]
          },
          "metadata": {
            "tags": []
          },
          "execution_count": 109
        }
      ]
    },
    {
      "cell_type": "code",
      "metadata": {
        "id": "XMCgRjqtig-m",
        "colab_type": "code",
        "colab": {
          "base_uri": "https://localhost:8080/",
          "height": 111
        },
        "outputId": "615875cd-7c5d-475d-82d0-be521e4649f0"
      },
      "source": [
        "df.tail(2)"
      ],
      "execution_count": null,
      "outputs": [
        {
          "output_type": "execute_result",
          "data": {
            "text/html": [
              "<div>\n",
              "<style scoped>\n",
              "    .dataframe tbody tr th:only-of-type {\n",
              "        vertical-align: middle;\n",
              "    }\n",
              "\n",
              "    .dataframe tbody tr th {\n",
              "        vertical-align: top;\n",
              "    }\n",
              "\n",
              "    .dataframe thead th {\n",
              "        text-align: right;\n",
              "    }\n",
              "</style>\n",
              "<table border=\"1\" class=\"dataframe\">\n",
              "  <thead>\n",
              "    <tr style=\"text-align: right;\">\n",
              "      <th></th>\n",
              "      <th>항목</th>\n",
              "      <th>구분</th>\n",
              "      <th>중구</th>\n",
              "      <th>서구</th>\n",
              "      <th>동구</th>\n",
              "      <th>영도구</th>\n",
              "      <th>부산진구</th>\n",
              "      <th>동래구</th>\n",
              "      <th>남구</th>\n",
              "      <th>북구</th>\n",
              "      <th>해운대구</th>\n",
              "      <th>사하구</th>\n",
              "      <th>금정구</th>\n",
              "      <th>강서구</th>\n",
              "      <th>연제구</th>\n",
              "      <th>수영구</th>\n",
              "      <th>사상구</th>\n",
              "      <th>기장군</th>\n",
              "    </tr>\n",
              "  </thead>\n",
              "  <tbody>\n",
              "    <tr>\n",
              "      <th>6</th>\n",
              "      <td>음식물류발생량</td>\n",
              "      <td>연간(톤)</td>\n",
              "      <td>5154</td>\n",
              "      <td>8779</td>\n",
              "      <td>6399</td>\n",
              "      <td>9522</td>\n",
              "      <td>27119</td>\n",
              "      <td>20128</td>\n",
              "      <td>15548</td>\n",
              "      <td>24201</td>\n",
              "      <td>40043</td>\n",
              "      <td>21183</td>\n",
              "      <td>21273</td>\n",
              "      <td>10810</td>\n",
              "      <td>14122</td>\n",
              "      <td>13289</td>\n",
              "      <td>24161</td>\n",
              "      <td>16648</td>\n",
              "    </tr>\n",
              "    <tr>\n",
              "      <th>7</th>\n",
              "      <td>음식물류발생량</td>\n",
              "      <td>일일(톤)</td>\n",
              "      <td>14</td>\n",
              "      <td>24</td>\n",
              "      <td>18</td>\n",
              "      <td>26</td>\n",
              "      <td>74</td>\n",
              "      <td>55</td>\n",
              "      <td>43</td>\n",
              "      <td>66</td>\n",
              "      <td>110</td>\n",
              "      <td>58</td>\n",
              "      <td>58</td>\n",
              "      <td>30</td>\n",
              "      <td>39</td>\n",
              "      <td>36</td>\n",
              "      <td>66</td>\n",
              "      <td>46</td>\n",
              "    </tr>\n",
              "  </tbody>\n",
              "</table>\n",
              "</div>"
            ],
            "text/plain": [
              "        항목     구분    중구    서구    동구  ...    강서구    연제구    수영구    사상구    기장군\n",
              "6  음식물류발생량  연간(톤)  5154  8779  6399  ...  10810  14122  13289  24161  16648\n",
              "7  음식물류발생량  일일(톤)    14    24    18  ...     30     39     36     66     46\n",
              "\n",
              "[2 rows x 18 columns]"
            ]
          },
          "metadata": {
            "tags": []
          },
          "execution_count": 110
        }
      ]
    },
    {
      "cell_type": "markdown",
      "metadata": {
        "id": "xp4sPYOsjqJ8",
        "colab_type": "text"
      },
      "source": [
        "####**정보 확인하기**\n",
        "+ .shape 속성\n",
        " - (행, 열) 크기를 확인하기\n",
        " - 행의 개수 : len(데이터프레임), len(.index), .shape[0]\n",
        " - 열의 개수 : len(.column), .shape[1]\n"
      ]
    },
    {
      "cell_type": "code",
      "metadata": {
        "id": "07XqJFM_jfKp",
        "colab_type": "code",
        "colab": {
          "base_uri": "https://localhost:8080/",
          "height": 35
        },
        "outputId": "c4ccdc79-32c8-464b-c670-0f773e650dd4"
      },
      "source": [
        "df.shape"
      ],
      "execution_count": 6,
      "outputs": [
        {
          "output_type": "execute_result",
          "data": {
            "text/plain": [
              "(8, 18)"
            ]
          },
          "metadata": {
            "tags": []
          },
          "execution_count": 6
        }
      ]
    },
    {
      "cell_type": "code",
      "metadata": {
        "id": "xxhAwimXqH6O",
        "colab_type": "code",
        "colab": {
          "base_uri": "https://localhost:8080/",
          "height": 71
        },
        "outputId": "64607769-e8c1-4b8c-c5cc-d867d3482584"
      },
      "source": [
        "#행의 개수\n",
        "print(df.shape[0])\n",
        "print(len(df))\n",
        "print(len(df.index))"
      ],
      "execution_count": null,
      "outputs": [
        {
          "output_type": "stream",
          "text": [
            "8\n",
            "8\n",
            "8\n"
          ],
          "name": "stdout"
        }
      ]
    },
    {
      "cell_type": "code",
      "metadata": {
        "id": "H-jTV4pTqTA2",
        "colab_type": "code",
        "colab": {
          "base_uri": "https://localhost:8080/",
          "height": 53
        },
        "outputId": "e78b6faf-5d93-4bcb-94d8-7654701be448"
      },
      "source": [
        "#열의 개수\n",
        "print(df.shape[1]) \n",
        "print(len(df.columns))"
      ],
      "execution_count": null,
      "outputs": [
        {
          "output_type": "stream",
          "text": [
            "18\n",
            "18\n"
          ],
          "name": "stdout"
        }
      ]
    },
    {
      "cell_type": "markdown",
      "metadata": {
        "id": "YOyfudHWkPpY",
        "colab_type": "text"
      },
      "source": [
        "+ .info()\n",
        " - 데이터프레임에 대한 전반적인 정보\n",
        " - 데이터프레임을 구성하는 행과 열의 크기, 컬럼명, 컬럼을 구성하는 값의 자료형 등을 출력"
      ]
    },
    {
      "cell_type": "code",
      "metadata": {
        "id": "PIek6g98jcZA",
        "colab_type": "code",
        "colab": {
          "base_uri": "https://localhost:8080/",
          "height": 474
        },
        "outputId": "89611854-e1a8-42db-9285-22ff36b364da"
      },
      "source": [
        "df.info()"
      ],
      "execution_count": 7,
      "outputs": [
        {
          "output_type": "stream",
          "text": [
            "<class 'pandas.core.frame.DataFrame'>\n",
            "RangeIndex: 8 entries, 0 to 7\n",
            "Data columns (total 18 columns):\n",
            " #   Column  Non-Null Count  Dtype \n",
            "---  ------  --------------  ----- \n",
            " 0   항목      8 non-null      object\n",
            " 1   구분      8 non-null      object\n",
            " 2   중구      8 non-null      int64 \n",
            " 3   서구      8 non-null      int64 \n",
            " 4   동구      8 non-null      int64 \n",
            " 5   영도구     8 non-null      int64 \n",
            " 6   부산진구    8 non-null      int64 \n",
            " 7   동래구     8 non-null      int64 \n",
            " 8   남구      8 non-null      int64 \n",
            " 9   북구      8 non-null      int64 \n",
            " 10  해운대구    8 non-null      int64 \n",
            " 11  사하구     8 non-null      int64 \n",
            " 12  금정구     8 non-null      int64 \n",
            " 13  강서구     8 non-null      int64 \n",
            " 14  연제구     8 non-null      int64 \n",
            " 15  수영구     8 non-null      int64 \n",
            " 16  사상구     8 non-null      int64 \n",
            " 17  기장군     8 non-null      int64 \n",
            "dtypes: int64(16), object(2)\n",
            "memory usage: 1.2+ KB\n"
          ],
          "name": "stdout"
        }
      ]
    },
    {
      "cell_type": "code",
      "metadata": {
        "id": "kjDF_C7j7Pzx",
        "colab_type": "code",
        "colab": {
          "base_uri": "https://localhost:8080/",
          "height": 364
        },
        "outputId": "7c4f8913-d066-4c60-b52c-5dee5ea11e59"
      },
      "source": [
        "df.dtypes"
      ],
      "execution_count": 9,
      "outputs": [
        {
          "output_type": "execute_result",
          "data": {
            "text/plain": [
              "항목      object\n",
              "구분      object\n",
              "중구       int64\n",
              "서구       int64\n",
              "동구       int64\n",
              "영도구      int64\n",
              "부산진구     int64\n",
              "동래구      int64\n",
              "남구       int64\n",
              "북구       int64\n",
              "해운대구     int64\n",
              "사하구      int64\n",
              "금정구      int64\n",
              "강서구      int64\n",
              "연제구      int64\n",
              "수영구      int64\n",
              "사상구      int64\n",
              "기장군      int64\n",
              "dtype: object"
            ]
          },
          "metadata": {
            "tags": []
          },
          "execution_count": 9
        }
      ]
    },
    {
      "cell_type": "markdown",
      "metadata": {
        "id": "FXdwUM6fq4Do",
        "colab_type": "text"
      },
      "source": [
        "+ .count()\n",
        " - Null이 아닌 행의 개수 확인\n",
        " - axis='columns' : Null이 아닌 열의 개수 확인"
      ]
    },
    {
      "cell_type": "code",
      "metadata": {
        "id": "Uv_P-7MVqc6J",
        "colab_type": "code",
        "colab": {
          "base_uri": "https://localhost:8080/",
          "height": 359
        },
        "outputId": "0704e381-3c7e-4dc8-d6d0-57991cf47e2f"
      },
      "source": [
        "df.count()"
      ],
      "execution_count": null,
      "outputs": [
        {
          "output_type": "execute_result",
          "data": {
            "text/plain": [
              "항목      8\n",
              "구분      8\n",
              "중구      8\n",
              "서구      8\n",
              "동구      8\n",
              "영도구     8\n",
              "부산진구    8\n",
              "동래구     8\n",
              "남구      8\n",
              "북구      8\n",
              "해운대구    8\n",
              "사하구     8\n",
              "금정구     8\n",
              "강서구     8\n",
              "연제구     8\n",
              "수영구     8\n",
              "사상구     8\n",
              "기장군     8\n",
              "dtype: int64"
            ]
          },
          "metadata": {
            "tags": []
          },
          "execution_count": 115
        }
      ]
    },
    {
      "cell_type": "code",
      "metadata": {
        "id": "0_Khk5taqwhJ",
        "colab_type": "code",
        "colab": {
          "base_uri": "https://localhost:8080/",
          "height": 182
        },
        "outputId": "95478701-95a5-46ed-9245-cc2d42e72d08"
      },
      "source": [
        "df.count(axis=1)"
      ],
      "execution_count": 8,
      "outputs": [
        {
          "output_type": "execute_result",
          "data": {
            "text/plain": [
              "0    18\n",
              "1    18\n",
              "2    18\n",
              "3    18\n",
              "4    18\n",
              "5    18\n",
              "6    18\n",
              "7    18\n",
              "dtype: int64"
            ]
          },
          "metadata": {
            "tags": []
          },
          "execution_count": 8
        }
      ]
    },
    {
      "cell_type": "markdown",
      "metadata": {
        "id": "jdF4UhK-mn-y",
        "colab_type": "text"
      },
      "source": [
        "####**값이 나온 횟수**\n",
        "+ .value_counts() \n",
        " - 개별 컬럼 내에 각각의 값이 나온 횟수\n",
        " - normalize 옵션 : % 로도 표현 "
      ]
    },
    {
      "cell_type": "code",
      "metadata": {
        "id": "e4TG1ZK7macd",
        "colab_type": "code",
        "colab": {
          "base_uri": "https://localhost:8080/",
          "height": 71
        },
        "outputId": "44058fc3-fab6-4cbf-81ae-270d5df07606"
      },
      "source": [
        "df['구분'].value_counts()"
      ],
      "execution_count": null,
      "outputs": [
        {
          "output_type": "execute_result",
          "data": {
            "text/plain": [
              "일일(톤)    4\n",
              "연간(톤)    4\n",
              "Name: 구분, dtype: int64"
            ]
          },
          "metadata": {
            "tags": []
          },
          "execution_count": 116
        }
      ]
    },
    {
      "cell_type": "code",
      "metadata": {
        "id": "IyKc0lj27uA6",
        "colab_type": "code",
        "colab": {
          "base_uri": "https://localhost:8080/",
          "height": 200
        },
        "outputId": "afdec1ca-4e94-43b5-eedc-78d260c07dd0"
      },
      "source": [
        "g = df['구분']\n",
        "print(type(g))\n",
        "print(g)"
      ],
      "execution_count": 10,
      "outputs": [
        {
          "output_type": "stream",
          "text": [
            "<class 'pandas.core.series.Series'>\n",
            "0    연간(톤)\n",
            "1    일일(톤)\n",
            "2    연간(톤)\n",
            "3    일일(톤)\n",
            "4    연간(톤)\n",
            "5    일일(톤)\n",
            "6    연간(톤)\n",
            "7    일일(톤)\n",
            "Name: 구분, dtype: object\n"
          ],
          "name": "stdout"
        }
      ]
    },
    {
      "cell_type": "code",
      "metadata": {
        "id": "XP13YujO73By",
        "colab_type": "code",
        "colab": {
          "base_uri": "https://localhost:8080/",
          "height": 72
        },
        "outputId": "ef7a32bd-69bc-4ac6-e43a-854d7541c045"
      },
      "source": [
        "g = g.drop_duplicates()\n",
        "g"
      ],
      "execution_count": 11,
      "outputs": [
        {
          "output_type": "execute_result",
          "data": {
            "text/plain": [
              "0    연간(톤)\n",
              "1    일일(톤)\n",
              "Name: 구분, dtype: object"
            ]
          },
          "metadata": {
            "tags": []
          },
          "execution_count": 11
        }
      ]
    },
    {
      "cell_type": "code",
      "metadata": {
        "id": "NW6fA9BWnZ46",
        "colab_type": "code",
        "colab": {
          "base_uri": "https://localhost:8080/",
          "height": 72
        },
        "outputId": "ebfcb397-31aa-4dcc-d40e-7bd54e7f8bcb"
      },
      "source": [
        "df['구분'].value_counts(normalize = True)"
      ],
      "execution_count": 13,
      "outputs": [
        {
          "output_type": "execute_result",
          "data": {
            "text/plain": [
              "일일(톤)    0.5\n",
              "연간(톤)    0.5\n",
              "Name: 구분, dtype: float64"
            ]
          },
          "metadata": {
            "tags": []
          },
          "execution_count": 13
        }
      ]
    },
    {
      "cell_type": "markdown",
      "metadata": {
        "id": "3u_oKPymktX_",
        "colab_type": "text"
      },
      "source": [
        "####**요약 통계량 확인**\n",
        "+ .describe()\n",
        " - 데이터프레임의 열별 요약 통계량\n",
        " - sum(),mean(), max(), median()등 개별 함수를 사용가능"
      ]
    },
    {
      "cell_type": "code",
      "metadata": {
        "id": "ZAa90fgzlATv",
        "colab_type": "code",
        "colab": {
          "base_uri": "https://localhost:8080/",
          "height": 364
        },
        "outputId": "3694ea0c-1cb9-4438-b468-0e7609745d9e"
      },
      "source": [
        "df.sum()"
      ],
      "execution_count": 14,
      "outputs": [
        {
          "output_type": "execute_result",
          "data": {
            "text/plain": [
              "항목      매립처리량매립처리량소각처리량소각처리량재활용처리량재활용처리량음식물류발생량음식물류발생량\n",
              "구분            연간(톤)일일(톤)연간(톤)일일(톤)연간(톤)일일(톤)연간(톤)일일(톤)\n",
              "중구                                               31084\n",
              "서구                                               42967\n",
              "동구                                               34412\n",
              "영도구                                              44129\n",
              "부산진구                                            133869\n",
              "동래구                                              86101\n",
              "남구                                               81893\n",
              "북구                                               98945\n",
              "해운대구                                            142273\n",
              "사하구                                             128215\n",
              "금정구                                              85121\n",
              "강서구                                              51458\n",
              "연제구                                              67775\n",
              "수영구                                              55768\n",
              "사상구                                              91673\n",
              "기장군                                              47926\n",
              "dtype: object"
            ]
          },
          "metadata": {
            "tags": []
          },
          "execution_count": 14
        }
      ]
    },
    {
      "cell_type": "code",
      "metadata": {
        "id": "YiAXFugyliSy",
        "colab_type": "code",
        "colab": {
          "base_uri": "https://localhost:8080/",
          "height": 323
        },
        "outputId": "49eaa7cc-fe51-497d-b62a-c6e8d1b60ff1"
      },
      "source": [
        "df.mean()"
      ],
      "execution_count": null,
      "outputs": [
        {
          "output_type": "execute_result",
          "data": {
            "text/plain": [
              "중구       3885.500\n",
              "서구       5370.875\n",
              "동구       4301.500\n",
              "영도구      5516.125\n",
              "부산진구    16733.625\n",
              "동래구     10762.625\n",
              "남구      10236.625\n",
              "북구      12368.125\n",
              "해운대구    17784.125\n",
              "사하구     16026.875\n",
              "금정구     10640.125\n",
              "강서구      6432.250\n",
              "연제구      8471.875\n",
              "수영구      6971.000\n",
              "사상구     11459.125\n",
              "기장군      5990.750\n",
              "dtype: float64"
            ]
          },
          "metadata": {
            "tags": []
          },
          "execution_count": 119
        }
      ]
    },
    {
      "cell_type": "code",
      "metadata": {
        "id": "XfLIhb2bl_2j",
        "colab_type": "code",
        "colab": {
          "base_uri": "https://localhost:8080/",
          "height": 173
        },
        "outputId": "03ad1432-9c93-4bd8-dd85-2a46739740c4"
      },
      "source": [
        "dfyear = df[df['구분'] == '연간(톤)']\n",
        "dfyear"
      ],
      "execution_count": null,
      "outputs": [
        {
          "output_type": "execute_result",
          "data": {
            "text/html": [
              "<div>\n",
              "<style scoped>\n",
              "    .dataframe tbody tr th:only-of-type {\n",
              "        vertical-align: middle;\n",
              "    }\n",
              "\n",
              "    .dataframe tbody tr th {\n",
              "        vertical-align: top;\n",
              "    }\n",
              "\n",
              "    .dataframe thead th {\n",
              "        text-align: right;\n",
              "    }\n",
              "</style>\n",
              "<table border=\"1\" class=\"dataframe\">\n",
              "  <thead>\n",
              "    <tr style=\"text-align: right;\">\n",
              "      <th></th>\n",
              "      <th>항목</th>\n",
              "      <th>구분</th>\n",
              "      <th>중구</th>\n",
              "      <th>서구</th>\n",
              "      <th>동구</th>\n",
              "      <th>영도구</th>\n",
              "      <th>부산진구</th>\n",
              "      <th>동래구</th>\n",
              "      <th>남구</th>\n",
              "      <th>북구</th>\n",
              "      <th>해운대구</th>\n",
              "      <th>사하구</th>\n",
              "      <th>금정구</th>\n",
              "      <th>강서구</th>\n",
              "      <th>연제구</th>\n",
              "      <th>수영구</th>\n",
              "      <th>사상구</th>\n",
              "      <th>기장군</th>\n",
              "    </tr>\n",
              "  </thead>\n",
              "  <tbody>\n",
              "    <tr>\n",
              "      <th>0</th>\n",
              "      <td>매립처리량</td>\n",
              "      <td>연간(톤)</td>\n",
              "      <td>3034</td>\n",
              "      <td>2323</td>\n",
              "      <td>1653</td>\n",
              "      <td>1219</td>\n",
              "      <td>17393</td>\n",
              "      <td>9195</td>\n",
              "      <td>8042</td>\n",
              "      <td>10498</td>\n",
              "      <td>5251</td>\n",
              "      <td>3089</td>\n",
              "      <td>7240</td>\n",
              "      <td>9742</td>\n",
              "      <td>1831</td>\n",
              "      <td>2205</td>\n",
              "      <td>9937</td>\n",
              "      <td>2290</td>\n",
              "    </tr>\n",
              "    <tr>\n",
              "      <th>2</th>\n",
              "      <td>소각처리량</td>\n",
              "      <td>연간(톤)</td>\n",
              "      <td>13729</td>\n",
              "      <td>10446</td>\n",
              "      <td>8297</td>\n",
              "      <td>8651</td>\n",
              "      <td>538</td>\n",
              "      <td>17</td>\n",
              "      <td>158</td>\n",
              "      <td>97</td>\n",
              "      <td>31924</td>\n",
              "      <td>32671</td>\n",
              "      <td>222</td>\n",
              "      <td>4788</td>\n",
              "      <td>14521</td>\n",
              "      <td>11987</td>\n",
              "      <td>216</td>\n",
              "      <td>13687</td>\n",
              "    </tr>\n",
              "    <tr>\n",
              "      <th>4</th>\n",
              "      <td>재활용처리량</td>\n",
              "      <td>연간(톤)</td>\n",
              "      <td>9082</td>\n",
              "      <td>21301</td>\n",
              "      <td>17968</td>\n",
              "      <td>24616</td>\n",
              "      <td>88453</td>\n",
              "      <td>56526</td>\n",
              "      <td>57921</td>\n",
              "      <td>63879</td>\n",
              "      <td>64667</td>\n",
              "      <td>70923</td>\n",
              "      <td>56153</td>\n",
              "      <td>25977</td>\n",
              "      <td>37115</td>\n",
              "      <td>28135</td>\n",
              "      <td>57110</td>\n",
              "      <td>15170</td>\n",
              "    </tr>\n",
              "    <tr>\n",
              "      <th>6</th>\n",
              "      <td>음식물류발생량</td>\n",
              "      <td>연간(톤)</td>\n",
              "      <td>5154</td>\n",
              "      <td>8779</td>\n",
              "      <td>6399</td>\n",
              "      <td>9522</td>\n",
              "      <td>27119</td>\n",
              "      <td>20128</td>\n",
              "      <td>15548</td>\n",
              "      <td>24201</td>\n",
              "      <td>40043</td>\n",
              "      <td>21183</td>\n",
              "      <td>21273</td>\n",
              "      <td>10810</td>\n",
              "      <td>14122</td>\n",
              "      <td>13289</td>\n",
              "      <td>24161</td>\n",
              "      <td>16648</td>\n",
              "    </tr>\n",
              "  </tbody>\n",
              "</table>\n",
              "</div>"
            ],
            "text/plain": [
              "        항목     구분     중구     서구     동구  ...    강서구    연제구    수영구    사상구    기장군\n",
              "0    매립처리량  연간(톤)   3034   2323   1653  ...   9742   1831   2205   9937   2290\n",
              "2    소각처리량  연간(톤)  13729  10446   8297  ...   4788  14521  11987    216  13687\n",
              "4   재활용처리량  연간(톤)   9082  21301  17968  ...  25977  37115  28135  57110  15170\n",
              "6  음식물류발생량  연간(톤)   5154   8779   6399  ...  10810  14122  13289  24161  16648\n",
              "\n",
              "[4 rows x 18 columns]"
            ]
          },
          "metadata": {
            "tags": []
          },
          "execution_count": 120
        }
      ]
    },
    {
      "cell_type": "code",
      "metadata": {
        "id": "G_lqsgGGlmE0",
        "colab_type": "code",
        "colab": {
          "base_uri": "https://localhost:8080/",
          "height": 317
        },
        "outputId": "2263dade-273d-43de-a4e1-8f9d93ca95fd"
      },
      "source": [
        "dfyear.describe()"
      ],
      "execution_count": null,
      "outputs": [
        {
          "output_type": "execute_result",
          "data": {
            "text/html": [
              "<div>\n",
              "<style scoped>\n",
              "    .dataframe tbody tr th:only-of-type {\n",
              "        vertical-align: middle;\n",
              "    }\n",
              "\n",
              "    .dataframe tbody tr th {\n",
              "        vertical-align: top;\n",
              "    }\n",
              "\n",
              "    .dataframe thead th {\n",
              "        text-align: right;\n",
              "    }\n",
              "</style>\n",
              "<table border=\"1\" class=\"dataframe\">\n",
              "  <thead>\n",
              "    <tr style=\"text-align: right;\">\n",
              "      <th></th>\n",
              "      <th>중구</th>\n",
              "      <th>서구</th>\n",
              "      <th>동구</th>\n",
              "      <th>영도구</th>\n",
              "      <th>부산진구</th>\n",
              "      <th>동래구</th>\n",
              "      <th>남구</th>\n",
              "      <th>북구</th>\n",
              "      <th>해운대구</th>\n",
              "      <th>사하구</th>\n",
              "      <th>금정구</th>\n",
              "      <th>강서구</th>\n",
              "      <th>연제구</th>\n",
              "      <th>수영구</th>\n",
              "      <th>사상구</th>\n",
              "      <th>기장군</th>\n",
              "    </tr>\n",
              "  </thead>\n",
              "  <tbody>\n",
              "    <tr>\n",
              "      <th>count</th>\n",
              "      <td>4.000000</td>\n",
              "      <td>4.000000</td>\n",
              "      <td>4.000000</td>\n",
              "      <td>4.000000</td>\n",
              "      <td>4.000000</td>\n",
              "      <td>4.000000</td>\n",
              "      <td>4.000000</td>\n",
              "      <td>4.000000</td>\n",
              "      <td>4.000000</td>\n",
              "      <td>4.000000</td>\n",
              "      <td>4.000000</td>\n",
              "      <td>4.00000</td>\n",
              "      <td>4.000000</td>\n",
              "      <td>4.000000</td>\n",
              "      <td>4.000000</td>\n",
              "      <td>4.000000</td>\n",
              "    </tr>\n",
              "    <tr>\n",
              "      <th>mean</th>\n",
              "      <td>7749.750000</td>\n",
              "      <td>10712.250000</td>\n",
              "      <td>8579.250000</td>\n",
              "      <td>11002.000000</td>\n",
              "      <td>33375.750000</td>\n",
              "      <td>21466.500000</td>\n",
              "      <td>20417.250000</td>\n",
              "      <td>24668.750000</td>\n",
              "      <td>35471.250000</td>\n",
              "      <td>31966.500000</td>\n",
              "      <td>21222.000000</td>\n",
              "      <td>12829.25000</td>\n",
              "      <td>16897.250000</td>\n",
              "      <td>13904.000000</td>\n",
              "      <td>22856.000000</td>\n",
              "      <td>11948.750000</td>\n",
              "    </tr>\n",
              "    <tr>\n",
              "      <th>std</th>\n",
              "      <td>4708.238763</td>\n",
              "      <td>7880.555961</td>\n",
              "      <td>6854.553736</td>\n",
              "      <td>9810.974909</td>\n",
              "      <td>38324.998416</td>\n",
              "      <td>24776.540551</td>\n",
              "      <td>25779.997949</td>\n",
              "      <td>27941.865535</td>\n",
              "      <td>24489.039785</td>\n",
              "      <td>28683.904261</td>\n",
              "      <td>24877.524569</td>\n",
              "      <td>9149.38094</td>\n",
              "      <td>14709.383408</td>\n",
              "      <td>10699.549461</td>\n",
              "      <td>24863.022758</td>\n",
              "      <td>6551.650346</td>\n",
              "    </tr>\n",
              "    <tr>\n",
              "      <th>min</th>\n",
              "      <td>3034.000000</td>\n",
              "      <td>2323.000000</td>\n",
              "      <td>1653.000000</td>\n",
              "      <td>1219.000000</td>\n",
              "      <td>538.000000</td>\n",
              "      <td>17.000000</td>\n",
              "      <td>158.000000</td>\n",
              "      <td>97.000000</td>\n",
              "      <td>5251.000000</td>\n",
              "      <td>3089.000000</td>\n",
              "      <td>222.000000</td>\n",
              "      <td>4788.00000</td>\n",
              "      <td>1831.000000</td>\n",
              "      <td>2205.000000</td>\n",
              "      <td>216.000000</td>\n",
              "      <td>2290.000000</td>\n",
              "    </tr>\n",
              "    <tr>\n",
              "      <th>25%</th>\n",
              "      <td>4624.000000</td>\n",
              "      <td>7165.000000</td>\n",
              "      <td>5212.500000</td>\n",
              "      <td>6793.000000</td>\n",
              "      <td>13179.250000</td>\n",
              "      <td>6900.500000</td>\n",
              "      <td>6071.000000</td>\n",
              "      <td>7897.750000</td>\n",
              "      <td>25255.750000</td>\n",
              "      <td>16659.500000</td>\n",
              "      <td>5485.500000</td>\n",
              "      <td>8503.50000</td>\n",
              "      <td>11049.250000</td>\n",
              "      <td>9541.500000</td>\n",
              "      <td>7506.750000</td>\n",
              "      <td>10837.750000</td>\n",
              "    </tr>\n",
              "    <tr>\n",
              "      <th>50%</th>\n",
              "      <td>7118.000000</td>\n",
              "      <td>9612.500000</td>\n",
              "      <td>7348.000000</td>\n",
              "      <td>9086.500000</td>\n",
              "      <td>22256.000000</td>\n",
              "      <td>14661.500000</td>\n",
              "      <td>11795.000000</td>\n",
              "      <td>17349.500000</td>\n",
              "      <td>35983.500000</td>\n",
              "      <td>26927.000000</td>\n",
              "      <td>14256.500000</td>\n",
              "      <td>10276.00000</td>\n",
              "      <td>14321.500000</td>\n",
              "      <td>12638.000000</td>\n",
              "      <td>17049.000000</td>\n",
              "      <td>14428.500000</td>\n",
              "    </tr>\n",
              "    <tr>\n",
              "      <th>75%</th>\n",
              "      <td>10243.750000</td>\n",
              "      <td>13159.750000</td>\n",
              "      <td>10714.750000</td>\n",
              "      <td>13295.500000</td>\n",
              "      <td>42452.500000</td>\n",
              "      <td>29227.500000</td>\n",
              "      <td>26141.250000</td>\n",
              "      <td>34120.500000</td>\n",
              "      <td>46199.000000</td>\n",
              "      <td>42234.000000</td>\n",
              "      <td>29993.000000</td>\n",
              "      <td>14601.75000</td>\n",
              "      <td>20169.500000</td>\n",
              "      <td>17000.500000</td>\n",
              "      <td>32398.250000</td>\n",
              "      <td>15539.500000</td>\n",
              "    </tr>\n",
              "    <tr>\n",
              "      <th>max</th>\n",
              "      <td>13729.000000</td>\n",
              "      <td>21301.000000</td>\n",
              "      <td>17968.000000</td>\n",
              "      <td>24616.000000</td>\n",
              "      <td>88453.000000</td>\n",
              "      <td>56526.000000</td>\n",
              "      <td>57921.000000</td>\n",
              "      <td>63879.000000</td>\n",
              "      <td>64667.000000</td>\n",
              "      <td>70923.000000</td>\n",
              "      <td>56153.000000</td>\n",
              "      <td>25977.00000</td>\n",
              "      <td>37115.000000</td>\n",
              "      <td>28135.000000</td>\n",
              "      <td>57110.000000</td>\n",
              "      <td>16648.000000</td>\n",
              "    </tr>\n",
              "  </tbody>\n",
              "</table>\n",
              "</div>"
            ],
            "text/plain": [
              "                 중구            서구  ...           사상구           기장군\n",
              "count      4.000000      4.000000  ...      4.000000      4.000000\n",
              "mean    7749.750000  10712.250000  ...  22856.000000  11948.750000\n",
              "std     4708.238763   7880.555961  ...  24863.022758   6551.650346\n",
              "min     3034.000000   2323.000000  ...    216.000000   2290.000000\n",
              "25%     4624.000000   7165.000000  ...   7506.750000  10837.750000\n",
              "50%     7118.000000   9612.500000  ...  17049.000000  14428.500000\n",
              "75%    10243.750000  13159.750000  ...  32398.250000  15539.500000\n",
              "max    13729.000000  21301.000000  ...  57110.000000  16648.000000\n",
              "\n",
              "[8 rows x 16 columns]"
            ]
          },
          "metadata": {
            "tags": []
          },
          "execution_count": 121
        }
      ]
    },
    {
      "cell_type": "markdown",
      "metadata": {
        "id": "ONVJLCtgnlKj",
        "colab_type": "text"
      },
      "source": [
        "####**시리즈 내에 유일한 값 확인**\n",
        "+ .unique() \n",
        " - 개별 컬럼 내에 유일한 값을 확인"
      ]
    },
    {
      "cell_type": "code",
      "metadata": {
        "id": "sWuAr_8tnx3X",
        "colab_type": "code",
        "colab": {
          "base_uri": "https://localhost:8080/",
          "height": 35
        },
        "outputId": "03e26ea1-7984-4cd9-c5af-a588a94b8369"
      },
      "source": [
        "df['구분'].unique()"
      ],
      "execution_count": null,
      "outputs": [
        {
          "output_type": "execute_result",
          "data": {
            "text/plain": [
              "array(['연간(톤)', '일일(톤)'], dtype=object)"
            ]
          },
          "metadata": {
            "tags": []
          },
          "execution_count": 122
        }
      ]
    },
    {
      "cell_type": "code",
      "metadata": {
        "id": "oQv7-tCAn4En",
        "colab_type": "code",
        "colab": {
          "base_uri": "https://localhost:8080/",
          "height": 35
        },
        "outputId": "5ceb867a-0b1b-4293-801c-2fc29dc0fa78"
      },
      "source": [
        "df['금정구'].unique()"
      ],
      "execution_count": null,
      "outputs": [
        {
          "output_type": "execute_result",
          "data": {
            "text/plain": [
              "array([ 7240,    20,   222,     1, 56153,   154, 21273,    58])"
            ]
          },
          "metadata": {
            "tags": []
          },
          "execution_count": 123
        }
      ]
    },
    {
      "cell_type": "markdown",
      "metadata": {
        "id": "x_1tPgrysNfQ",
        "colab_type": "text"
      },
      "source": [
        "## **데이터프레임 슬라이싱**\n",
        "+ .loc[행인덱싱, 열인덱싱]\n",
        "+ .iloc[행순서번호, 열순서번호]\n"
      ]
    },
    {
      "cell_type": "code",
      "metadata": {
        "id": "p3c_2hSSsjhp",
        "colab_type": "code",
        "colab": {}
      },
      "source": [
        "df2 = df.set_index('항목')\n",
        "df2"
      ],
      "execution_count": null,
      "outputs": []
    },
    {
      "cell_type": "markdown",
      "metadata": {
        "id": "vc5XivBks1mf",
        "colab_type": "text"
      },
      "source": [
        "#### **.loc : 인덱싱으로 추출**"
      ]
    },
    {
      "cell_type": "code",
      "metadata": {
        "id": "danLSizI-_dp",
        "colab_type": "code",
        "colab": {
          "base_uri": "https://localhost:8080/",
          "height": 652
        },
        "outputId": "ab4b6545-b571-4bbc-e2cb-0de91c43c6c0"
      },
      "source": [
        "df2"
      ],
      "execution_count": 19,
      "outputs": [
        {
          "output_type": "execute_result",
          "data": {
            "text/html": [
              "<div>\n",
              "<style scoped>\n",
              "    .dataframe tbody tr th:only-of-type {\n",
              "        vertical-align: middle;\n",
              "    }\n",
              "\n",
              "    .dataframe tbody tr th {\n",
              "        vertical-align: top;\n",
              "    }\n",
              "\n",
              "    .dataframe thead th {\n",
              "        text-align: right;\n",
              "    }\n",
              "</style>\n",
              "<table border=\"1\" class=\"dataframe\">\n",
              "  <thead>\n",
              "    <tr style=\"text-align: right;\">\n",
              "      <th></th>\n",
              "      <th>구분</th>\n",
              "      <th>중구</th>\n",
              "      <th>서구</th>\n",
              "      <th>동구</th>\n",
              "      <th>영도구</th>\n",
              "      <th>부산진구</th>\n",
              "      <th>동래구</th>\n",
              "      <th>남구</th>\n",
              "      <th>북구</th>\n",
              "      <th>해운대구</th>\n",
              "      <th>사하구</th>\n",
              "      <th>금정구</th>\n",
              "      <th>강서구</th>\n",
              "      <th>연제구</th>\n",
              "      <th>수영구</th>\n",
              "      <th>사상구</th>\n",
              "      <th>기장군</th>\n",
              "    </tr>\n",
              "    <tr>\n",
              "      <th>항목</th>\n",
              "      <th></th>\n",
              "      <th></th>\n",
              "      <th></th>\n",
              "      <th></th>\n",
              "      <th></th>\n",
              "      <th></th>\n",
              "      <th></th>\n",
              "      <th></th>\n",
              "      <th></th>\n",
              "      <th></th>\n",
              "      <th></th>\n",
              "      <th></th>\n",
              "      <th></th>\n",
              "      <th></th>\n",
              "      <th></th>\n",
              "      <th></th>\n",
              "      <th></th>\n",
              "    </tr>\n",
              "  </thead>\n",
              "  <tbody>\n",
              "    <tr>\n",
              "      <th>매립처리량</th>\n",
              "      <td>연간(톤)</td>\n",
              "      <td>3034</td>\n",
              "      <td>2323</td>\n",
              "      <td>1653</td>\n",
              "      <td>1219</td>\n",
              "      <td>17393</td>\n",
              "      <td>9195</td>\n",
              "      <td>8042</td>\n",
              "      <td>10498</td>\n",
              "      <td>5251</td>\n",
              "      <td>3089</td>\n",
              "      <td>7240</td>\n",
              "      <td>9742</td>\n",
              "      <td>1831</td>\n",
              "      <td>2205</td>\n",
              "      <td>9937</td>\n",
              "      <td>2290</td>\n",
              "    </tr>\n",
              "    <tr>\n",
              "      <th>매립처리량</th>\n",
              "      <td>일일(톤)</td>\n",
              "      <td>8</td>\n",
              "      <td>7</td>\n",
              "      <td>5</td>\n",
              "      <td>3</td>\n",
              "      <td>48</td>\n",
              "      <td>25</td>\n",
              "      <td>22</td>\n",
              "      <td>29</td>\n",
              "      <td>14</td>\n",
              "      <td>8</td>\n",
              "      <td>20</td>\n",
              "      <td>27</td>\n",
              "      <td>5</td>\n",
              "      <td>6</td>\n",
              "      <td>27</td>\n",
              "      <td>6</td>\n",
              "    </tr>\n",
              "    <tr>\n",
              "      <th>소각처리량</th>\n",
              "      <td>연간(톤)</td>\n",
              "      <td>13729</td>\n",
              "      <td>10446</td>\n",
              "      <td>8297</td>\n",
              "      <td>8651</td>\n",
              "      <td>538</td>\n",
              "      <td>17</td>\n",
              "      <td>158</td>\n",
              "      <td>97</td>\n",
              "      <td>31924</td>\n",
              "      <td>32671</td>\n",
              "      <td>222</td>\n",
              "      <td>4788</td>\n",
              "      <td>14521</td>\n",
              "      <td>11987</td>\n",
              "      <td>216</td>\n",
              "      <td>13687</td>\n",
              "    </tr>\n",
              "    <tr>\n",
              "      <th>소각처리량</th>\n",
              "      <td>일일(톤)</td>\n",
              "      <td>38</td>\n",
              "      <td>29</td>\n",
              "      <td>23</td>\n",
              "      <td>24</td>\n",
              "      <td>2</td>\n",
              "      <td>0</td>\n",
              "      <td>0</td>\n",
              "      <td>0</td>\n",
              "      <td>87</td>\n",
              "      <td>89</td>\n",
              "      <td>1</td>\n",
              "      <td>13</td>\n",
              "      <td>40</td>\n",
              "      <td>33</td>\n",
              "      <td>0</td>\n",
              "      <td>37</td>\n",
              "    </tr>\n",
              "    <tr>\n",
              "      <th>재활용처리량</th>\n",
              "      <td>연간(톤)</td>\n",
              "      <td>9082</td>\n",
              "      <td>21301</td>\n",
              "      <td>17968</td>\n",
              "      <td>24616</td>\n",
              "      <td>88453</td>\n",
              "      <td>56526</td>\n",
              "      <td>57921</td>\n",
              "      <td>63879</td>\n",
              "      <td>64667</td>\n",
              "      <td>70923</td>\n",
              "      <td>56153</td>\n",
              "      <td>25977</td>\n",
              "      <td>37115</td>\n",
              "      <td>28135</td>\n",
              "      <td>57110</td>\n",
              "      <td>15170</td>\n",
              "    </tr>\n",
              "    <tr>\n",
              "      <th>재활용처리량</th>\n",
              "      <td>일일(톤)</td>\n",
              "      <td>25</td>\n",
              "      <td>58</td>\n",
              "      <td>49</td>\n",
              "      <td>68</td>\n",
              "      <td>242</td>\n",
              "      <td>155</td>\n",
              "      <td>159</td>\n",
              "      <td>175</td>\n",
              "      <td>177</td>\n",
              "      <td>194</td>\n",
              "      <td>154</td>\n",
              "      <td>71</td>\n",
              "      <td>102</td>\n",
              "      <td>77</td>\n",
              "      <td>156</td>\n",
              "      <td>42</td>\n",
              "    </tr>\n",
              "    <tr>\n",
              "      <th>음식물류발생량</th>\n",
              "      <td>연간(톤)</td>\n",
              "      <td>5154</td>\n",
              "      <td>8779</td>\n",
              "      <td>6399</td>\n",
              "      <td>9522</td>\n",
              "      <td>27119</td>\n",
              "      <td>20128</td>\n",
              "      <td>15548</td>\n",
              "      <td>24201</td>\n",
              "      <td>40043</td>\n",
              "      <td>21183</td>\n",
              "      <td>21273</td>\n",
              "      <td>10810</td>\n",
              "      <td>14122</td>\n",
              "      <td>13289</td>\n",
              "      <td>24161</td>\n",
              "      <td>16648</td>\n",
              "    </tr>\n",
              "    <tr>\n",
              "      <th>음식물류발생량</th>\n",
              "      <td>일일(톤)</td>\n",
              "      <td>14</td>\n",
              "      <td>24</td>\n",
              "      <td>18</td>\n",
              "      <td>26</td>\n",
              "      <td>74</td>\n",
              "      <td>55</td>\n",
              "      <td>43</td>\n",
              "      <td>66</td>\n",
              "      <td>110</td>\n",
              "      <td>58</td>\n",
              "      <td>58</td>\n",
              "      <td>30</td>\n",
              "      <td>39</td>\n",
              "      <td>36</td>\n",
              "      <td>66</td>\n",
              "      <td>46</td>\n",
              "    </tr>\n",
              "  </tbody>\n",
              "</table>\n",
              "</div>"
            ],
            "text/plain": [
              "            구분     중구     서구     동구    영도구  ...    강서구    연제구    수영구    사상구    기장군\n",
              "항목                                          ...                                   \n",
              "매립처리량    연간(톤)   3034   2323   1653   1219  ...   9742   1831   2205   9937   2290\n",
              "매립처리량    일일(톤)      8      7      5      3  ...     27      5      6     27      6\n",
              "소각처리량    연간(톤)  13729  10446   8297   8651  ...   4788  14521  11987    216  13687\n",
              "소각처리량    일일(톤)     38     29     23     24  ...     13     40     33      0     37\n",
              "재활용처리량   연간(톤)   9082  21301  17968  24616  ...  25977  37115  28135  57110  15170\n",
              "재활용처리량   일일(톤)     25     58     49     68  ...     71    102     77    156     42\n",
              "음식물류발생량  연간(톤)   5154   8779   6399   9522  ...  10810  14122  13289  24161  16648\n",
              "음식물류발생량  일일(톤)     14     24     18     26  ...     30     39     36     66     46\n",
              "\n",
              "[8 rows x 17 columns]"
            ]
          },
          "metadata": {
            "tags": []
          },
          "execution_count": 19
        }
      ]
    },
    {
      "cell_type": "code",
      "metadata": {
        "id": "hfgJtk5P-CHi",
        "colab_type": "code",
        "colab": {
          "base_uri": "https://localhost:8080/",
          "height": 72
        },
        "outputId": "887f7be6-ff0c-42bd-a165-601529e8ae9b"
      },
      "source": [
        "df2.index"
      ],
      "execution_count": 16,
      "outputs": [
        {
          "output_type": "execute_result",
          "data": {
            "text/plain": [
              "Index(['매립처리량', '매립처리량', '소각처리량', '소각처리량', '재활용처리량', '재활용처리량', '음식물류발생량',\n",
              "       '음식물류발생량'],\n",
              "      dtype='object', name='항목')"
            ]
          },
          "metadata": {
            "tags": []
          },
          "execution_count": 16
        }
      ]
    },
    {
      "cell_type": "code",
      "metadata": {
        "id": "QBVmGseG-FRa",
        "colab_type": "code",
        "colab": {
          "base_uri": "https://localhost:8080/",
          "height": 72
        },
        "outputId": "47030f4e-243d-4ed1-af4b-c98ea3ee9351"
      },
      "source": [
        "df2.columns"
      ],
      "execution_count": 17,
      "outputs": [
        {
          "output_type": "execute_result",
          "data": {
            "text/plain": [
              "Index(['구분', '중구', '서구', '동구', '영도구', '부산진구', '동래구', '남구', '북구', '해운대구', '사하구',\n",
              "       '금정구', '강서구', '연제구', '수영구', '사상구', '기장군'],\n",
              "      dtype='object')"
            ]
          },
          "metadata": {
            "tags": []
          },
          "execution_count": 17
        }
      ]
    },
    {
      "cell_type": "code",
      "metadata": {
        "id": "QK-ajRp7_4th",
        "colab_type": "code",
        "colab": {}
      },
      "source": [
        "y1 = df2.loc[:, '영도구']\n",
        "y2 = df2.loc[:, ['영도구']]"
      ],
      "execution_count": 21,
      "outputs": []
    },
    {
      "cell_type": "code",
      "metadata": {
        "id": "1f8xsdt0AILR",
        "colab_type": "code",
        "colab": {
          "base_uri": "https://localhost:8080/",
          "height": 54
        },
        "outputId": "50c776fd-b13d-4c24-8c7d-05a177f62545"
      },
      "source": [
        "print(type(y1))\n",
        "print(type(y2))"
      ],
      "execution_count": 22,
      "outputs": [
        {
          "output_type": "stream",
          "text": [
            "<class 'pandas.core.series.Series'>\n",
            "<class 'pandas.core.frame.DataFrame'>\n"
          ],
          "name": "stdout"
        }
      ]
    },
    {
      "cell_type": "code",
      "metadata": {
        "id": "s6Z3elXns09Y",
        "colab_type": "code",
        "colab": {
          "base_uri": "https://localhost:8080/",
          "height": 192
        },
        "outputId": "9b1880d0-c24d-4fef-b4bc-b7687d666ca6"
      },
      "source": [
        "#행추출\n",
        "df2.loc['매립처리량', :]"
      ],
      "execution_count": 18,
      "outputs": [
        {
          "output_type": "execute_result",
          "data": {
            "text/html": [
              "<div>\n",
              "<style scoped>\n",
              "    .dataframe tbody tr th:only-of-type {\n",
              "        vertical-align: middle;\n",
              "    }\n",
              "\n",
              "    .dataframe tbody tr th {\n",
              "        vertical-align: top;\n",
              "    }\n",
              "\n",
              "    .dataframe thead th {\n",
              "        text-align: right;\n",
              "    }\n",
              "</style>\n",
              "<table border=\"1\" class=\"dataframe\">\n",
              "  <thead>\n",
              "    <tr style=\"text-align: right;\">\n",
              "      <th></th>\n",
              "      <th>구분</th>\n",
              "      <th>중구</th>\n",
              "      <th>서구</th>\n",
              "      <th>동구</th>\n",
              "      <th>영도구</th>\n",
              "      <th>부산진구</th>\n",
              "      <th>동래구</th>\n",
              "      <th>남구</th>\n",
              "      <th>북구</th>\n",
              "      <th>해운대구</th>\n",
              "      <th>사하구</th>\n",
              "      <th>금정구</th>\n",
              "      <th>강서구</th>\n",
              "      <th>연제구</th>\n",
              "      <th>수영구</th>\n",
              "      <th>사상구</th>\n",
              "      <th>기장군</th>\n",
              "    </tr>\n",
              "    <tr>\n",
              "      <th>항목</th>\n",
              "      <th></th>\n",
              "      <th></th>\n",
              "      <th></th>\n",
              "      <th></th>\n",
              "      <th></th>\n",
              "      <th></th>\n",
              "      <th></th>\n",
              "      <th></th>\n",
              "      <th></th>\n",
              "      <th></th>\n",
              "      <th></th>\n",
              "      <th></th>\n",
              "      <th></th>\n",
              "      <th></th>\n",
              "      <th></th>\n",
              "      <th></th>\n",
              "      <th></th>\n",
              "    </tr>\n",
              "  </thead>\n",
              "  <tbody>\n",
              "    <tr>\n",
              "      <th>매립처리량</th>\n",
              "      <td>연간(톤)</td>\n",
              "      <td>3034</td>\n",
              "      <td>2323</td>\n",
              "      <td>1653</td>\n",
              "      <td>1219</td>\n",
              "      <td>17393</td>\n",
              "      <td>9195</td>\n",
              "      <td>8042</td>\n",
              "      <td>10498</td>\n",
              "      <td>5251</td>\n",
              "      <td>3089</td>\n",
              "      <td>7240</td>\n",
              "      <td>9742</td>\n",
              "      <td>1831</td>\n",
              "      <td>2205</td>\n",
              "      <td>9937</td>\n",
              "      <td>2290</td>\n",
              "    </tr>\n",
              "    <tr>\n",
              "      <th>매립처리량</th>\n",
              "      <td>일일(톤)</td>\n",
              "      <td>8</td>\n",
              "      <td>7</td>\n",
              "      <td>5</td>\n",
              "      <td>3</td>\n",
              "      <td>48</td>\n",
              "      <td>25</td>\n",
              "      <td>22</td>\n",
              "      <td>29</td>\n",
              "      <td>14</td>\n",
              "      <td>8</td>\n",
              "      <td>20</td>\n",
              "      <td>27</td>\n",
              "      <td>5</td>\n",
              "      <td>6</td>\n",
              "      <td>27</td>\n",
              "      <td>6</td>\n",
              "    </tr>\n",
              "  </tbody>\n",
              "</table>\n",
              "</div>"
            ],
            "text/plain": [
              "          구분    중구    서구    동구   영도구   부산진구  ...   금정구   강서구   연제구   수영구   사상구   기장군\n",
              "항목                                           ...                                    \n",
              "매립처리량  연간(톤)  3034  2323  1653  1219  17393  ...  7240  9742  1831  2205  9937  2290\n",
              "매립처리량  일일(톤)     8     7     5     3     48  ...    20    27     5     6    27     6\n",
              "\n",
              "[2 rows x 17 columns]"
            ]
          },
          "metadata": {
            "tags": []
          },
          "execution_count": 18
        }
      ]
    },
    {
      "cell_type": "code",
      "metadata": {
        "id": "TJh0oB0AstBK",
        "colab_type": "code",
        "colab": {
          "base_uri": "https://localhost:8080/",
          "height": 204
        },
        "outputId": "f5406024-cac6-4718-b9c0-c9492cf60e41"
      },
      "source": [
        "df2.loc[['매립처리량','재활용처리량'], :]"
      ],
      "execution_count": null,
      "outputs": [
        {
          "output_type": "execute_result",
          "data": {
            "text/html": [
              "<div>\n",
              "<style scoped>\n",
              "    .dataframe tbody tr th:only-of-type {\n",
              "        vertical-align: middle;\n",
              "    }\n",
              "\n",
              "    .dataframe tbody tr th {\n",
              "        vertical-align: top;\n",
              "    }\n",
              "\n",
              "    .dataframe thead th {\n",
              "        text-align: right;\n",
              "    }\n",
              "</style>\n",
              "<table border=\"1\" class=\"dataframe\">\n",
              "  <thead>\n",
              "    <tr style=\"text-align: right;\">\n",
              "      <th></th>\n",
              "      <th>구분</th>\n",
              "      <th>중구</th>\n",
              "      <th>서구</th>\n",
              "      <th>동구</th>\n",
              "      <th>영도구</th>\n",
              "      <th>부산진구</th>\n",
              "      <th>동래구</th>\n",
              "      <th>남구</th>\n",
              "      <th>북구</th>\n",
              "      <th>해운대구</th>\n",
              "      <th>사하구</th>\n",
              "      <th>금정구</th>\n",
              "      <th>강서구</th>\n",
              "      <th>연제구</th>\n",
              "      <th>수영구</th>\n",
              "      <th>사상구</th>\n",
              "      <th>기장군</th>\n",
              "    </tr>\n",
              "    <tr>\n",
              "      <th>항목</th>\n",
              "      <th></th>\n",
              "      <th></th>\n",
              "      <th></th>\n",
              "      <th></th>\n",
              "      <th></th>\n",
              "      <th></th>\n",
              "      <th></th>\n",
              "      <th></th>\n",
              "      <th></th>\n",
              "      <th></th>\n",
              "      <th></th>\n",
              "      <th></th>\n",
              "      <th></th>\n",
              "      <th></th>\n",
              "      <th></th>\n",
              "      <th></th>\n",
              "      <th></th>\n",
              "    </tr>\n",
              "  </thead>\n",
              "  <tbody>\n",
              "    <tr>\n",
              "      <th>매립처리량</th>\n",
              "      <td>연간(톤)</td>\n",
              "      <td>3034</td>\n",
              "      <td>2323</td>\n",
              "      <td>1653</td>\n",
              "      <td>1219</td>\n",
              "      <td>17393</td>\n",
              "      <td>9195</td>\n",
              "      <td>8042</td>\n",
              "      <td>10498</td>\n",
              "      <td>5251</td>\n",
              "      <td>3089</td>\n",
              "      <td>7240</td>\n",
              "      <td>9742</td>\n",
              "      <td>1831</td>\n",
              "      <td>2205</td>\n",
              "      <td>9937</td>\n",
              "      <td>2290</td>\n",
              "    </tr>\n",
              "    <tr>\n",
              "      <th>매립처리량</th>\n",
              "      <td>일일(톤)</td>\n",
              "      <td>8</td>\n",
              "      <td>7</td>\n",
              "      <td>5</td>\n",
              "      <td>3</td>\n",
              "      <td>48</td>\n",
              "      <td>25</td>\n",
              "      <td>22</td>\n",
              "      <td>29</td>\n",
              "      <td>14</td>\n",
              "      <td>8</td>\n",
              "      <td>20</td>\n",
              "      <td>27</td>\n",
              "      <td>5</td>\n",
              "      <td>6</td>\n",
              "      <td>27</td>\n",
              "      <td>6</td>\n",
              "    </tr>\n",
              "    <tr>\n",
              "      <th>재활용처리량</th>\n",
              "      <td>연간(톤)</td>\n",
              "      <td>9082</td>\n",
              "      <td>21301</td>\n",
              "      <td>17968</td>\n",
              "      <td>24616</td>\n",
              "      <td>88453</td>\n",
              "      <td>56526</td>\n",
              "      <td>57921</td>\n",
              "      <td>63879</td>\n",
              "      <td>64667</td>\n",
              "      <td>70923</td>\n",
              "      <td>56153</td>\n",
              "      <td>25977</td>\n",
              "      <td>37115</td>\n",
              "      <td>28135</td>\n",
              "      <td>57110</td>\n",
              "      <td>15170</td>\n",
              "    </tr>\n",
              "    <tr>\n",
              "      <th>재활용처리량</th>\n",
              "      <td>일일(톤)</td>\n",
              "      <td>25</td>\n",
              "      <td>58</td>\n",
              "      <td>49</td>\n",
              "      <td>68</td>\n",
              "      <td>242</td>\n",
              "      <td>155</td>\n",
              "      <td>159</td>\n",
              "      <td>175</td>\n",
              "      <td>177</td>\n",
              "      <td>194</td>\n",
              "      <td>154</td>\n",
              "      <td>71</td>\n",
              "      <td>102</td>\n",
              "      <td>77</td>\n",
              "      <td>156</td>\n",
              "      <td>42</td>\n",
              "    </tr>\n",
              "  </tbody>\n",
              "</table>\n",
              "</div>"
            ],
            "text/plain": [
              "           구분    중구     서구     동구    영도구  ...    강서구    연제구    수영구    사상구    기장군\n",
              "항목                                        ...                                   \n",
              "매립처리량   연간(톤)  3034   2323   1653   1219  ...   9742   1831   2205   9937   2290\n",
              "매립처리량   일일(톤)     8      7      5      3  ...     27      5      6     27      6\n",
              "재활용처리량  연간(톤)  9082  21301  17968  24616  ...  25977  37115  28135  57110  15170\n",
              "재활용처리량  일일(톤)    25     58     49     68  ...     71    102     77    156     42\n",
              "\n",
              "[4 rows x 17 columns]"
            ]
          },
          "metadata": {
            "tags": []
          },
          "execution_count": 126
        }
      ]
    },
    {
      "cell_type": "code",
      "metadata": {
        "id": "pOOsfDQUtYep",
        "colab_type": "code",
        "colab": {
          "base_uri": "https://localhost:8080/",
          "height": 197
        },
        "outputId": "a2a92b0e-09f9-4a16-8857-45d93cb176c3"
      },
      "source": [
        "#열추출\n",
        "df2.loc[:, '금정구']"
      ],
      "execution_count": null,
      "outputs": [
        {
          "output_type": "execute_result",
          "data": {
            "text/plain": [
              "항목\n",
              "매립처리량       7240\n",
              "매립처리량         20\n",
              "소각처리량        222\n",
              "소각처리량          1\n",
              "재활용처리량     56153\n",
              "재활용처리량       154\n",
              "음식물류발생량    21273\n",
              "음식물류발생량       58\n",
              "Name: 금정구, dtype: int64"
            ]
          },
          "metadata": {
            "tags": []
          },
          "execution_count": 127
        }
      ]
    },
    {
      "cell_type": "code",
      "metadata": {
        "id": "S5E_-JpPtl6p",
        "colab_type": "code",
        "colab": {
          "base_uri": "https://localhost:8080/",
          "height": 328
        },
        "outputId": "4df8a268-da21-40a7-9871-921a356e36a5"
      },
      "source": [
        "df2.loc[:, ['구분','금정구']]"
      ],
      "execution_count": null,
      "outputs": [
        {
          "output_type": "execute_result",
          "data": {
            "text/html": [
              "<div>\n",
              "<style scoped>\n",
              "    .dataframe tbody tr th:only-of-type {\n",
              "        vertical-align: middle;\n",
              "    }\n",
              "\n",
              "    .dataframe tbody tr th {\n",
              "        vertical-align: top;\n",
              "    }\n",
              "\n",
              "    .dataframe thead th {\n",
              "        text-align: right;\n",
              "    }\n",
              "</style>\n",
              "<table border=\"1\" class=\"dataframe\">\n",
              "  <thead>\n",
              "    <tr style=\"text-align: right;\">\n",
              "      <th></th>\n",
              "      <th>구분</th>\n",
              "      <th>금정구</th>\n",
              "    </tr>\n",
              "    <tr>\n",
              "      <th>항목</th>\n",
              "      <th></th>\n",
              "      <th></th>\n",
              "    </tr>\n",
              "  </thead>\n",
              "  <tbody>\n",
              "    <tr>\n",
              "      <th>매립처리량</th>\n",
              "      <td>연간(톤)</td>\n",
              "      <td>7240</td>\n",
              "    </tr>\n",
              "    <tr>\n",
              "      <th>매립처리량</th>\n",
              "      <td>일일(톤)</td>\n",
              "      <td>20</td>\n",
              "    </tr>\n",
              "    <tr>\n",
              "      <th>소각처리량</th>\n",
              "      <td>연간(톤)</td>\n",
              "      <td>222</td>\n",
              "    </tr>\n",
              "    <tr>\n",
              "      <th>소각처리량</th>\n",
              "      <td>일일(톤)</td>\n",
              "      <td>1</td>\n",
              "    </tr>\n",
              "    <tr>\n",
              "      <th>재활용처리량</th>\n",
              "      <td>연간(톤)</td>\n",
              "      <td>56153</td>\n",
              "    </tr>\n",
              "    <tr>\n",
              "      <th>재활용처리량</th>\n",
              "      <td>일일(톤)</td>\n",
              "      <td>154</td>\n",
              "    </tr>\n",
              "    <tr>\n",
              "      <th>음식물류발생량</th>\n",
              "      <td>연간(톤)</td>\n",
              "      <td>21273</td>\n",
              "    </tr>\n",
              "    <tr>\n",
              "      <th>음식물류발생량</th>\n",
              "      <td>일일(톤)</td>\n",
              "      <td>58</td>\n",
              "    </tr>\n",
              "  </tbody>\n",
              "</table>\n",
              "</div>"
            ],
            "text/plain": [
              "            구분    금정구\n",
              "항목                   \n",
              "매립처리량    연간(톤)   7240\n",
              "매립처리량    일일(톤)     20\n",
              "소각처리량    연간(톤)    222\n",
              "소각처리량    일일(톤)      1\n",
              "재활용처리량   연간(톤)  56153\n",
              "재활용처리량   일일(톤)    154\n",
              "음식물류발생량  연간(톤)  21273\n",
              "음식물류발생량  일일(톤)     58"
            ]
          },
          "metadata": {
            "tags": []
          },
          "execution_count": 130
        }
      ]
    },
    {
      "cell_type": "code",
      "metadata": {
        "id": "3REgoVimvm1g",
        "colab_type": "code",
        "colab": {
          "base_uri": "https://localhost:8080/",
          "height": 204
        },
        "outputId": "46ec6bd2-08d5-4f49-8f29-08fbd704f74d"
      },
      "source": [
        "df2.loc[['매립처리량','재활용처리량'], ['구분','금정구']]"
      ],
      "execution_count": null,
      "outputs": [
        {
          "output_type": "execute_result",
          "data": {
            "text/html": [
              "<div>\n",
              "<style scoped>\n",
              "    .dataframe tbody tr th:only-of-type {\n",
              "        vertical-align: middle;\n",
              "    }\n",
              "\n",
              "    .dataframe tbody tr th {\n",
              "        vertical-align: top;\n",
              "    }\n",
              "\n",
              "    .dataframe thead th {\n",
              "        text-align: right;\n",
              "    }\n",
              "</style>\n",
              "<table border=\"1\" class=\"dataframe\">\n",
              "  <thead>\n",
              "    <tr style=\"text-align: right;\">\n",
              "      <th></th>\n",
              "      <th>구분</th>\n",
              "      <th>금정구</th>\n",
              "    </tr>\n",
              "    <tr>\n",
              "      <th>항목</th>\n",
              "      <th></th>\n",
              "      <th></th>\n",
              "    </tr>\n",
              "  </thead>\n",
              "  <tbody>\n",
              "    <tr>\n",
              "      <th>매립처리량</th>\n",
              "      <td>연간(톤)</td>\n",
              "      <td>7240</td>\n",
              "    </tr>\n",
              "    <tr>\n",
              "      <th>매립처리량</th>\n",
              "      <td>일일(톤)</td>\n",
              "      <td>20</td>\n",
              "    </tr>\n",
              "    <tr>\n",
              "      <th>재활용처리량</th>\n",
              "      <td>연간(톤)</td>\n",
              "      <td>56153</td>\n",
              "    </tr>\n",
              "    <tr>\n",
              "      <th>재활용처리량</th>\n",
              "      <td>일일(톤)</td>\n",
              "      <td>154</td>\n",
              "    </tr>\n",
              "  </tbody>\n",
              "</table>\n",
              "</div>"
            ],
            "text/plain": [
              "           구분    금정구\n",
              "항목                  \n",
              "매립처리량   연간(톤)   7240\n",
              "매립처리량   일일(톤)     20\n",
              "재활용처리량  연간(톤)  56153\n",
              "재활용처리량  일일(톤)    154"
            ]
          },
          "metadata": {
            "tags": []
          },
          "execution_count": 131
        }
      ]
    },
    {
      "cell_type": "markdown",
      "metadata": {
        "id": "EKYeVDrbt6_f",
        "colab_type": "text"
      },
      "source": [
        "#### **.iloc : 순서번호로 추출**"
      ]
    },
    {
      "cell_type": "code",
      "metadata": {
        "id": "hvx7q7byBPqB",
        "colab_type": "code",
        "colab": {
          "base_uri": "https://localhost:8080/",
          "height": 92
        },
        "outputId": "b3a86c6f-907b-498a-8490-0444f71fb127"
      },
      "source": [
        "df2.index"
      ],
      "execution_count": 23,
      "outputs": [
        {
          "output_type": "execute_result",
          "data": {
            "text/plain": [
              "Index(['매립처리량', '매립처리량', '소각처리량', '소각처리량', '재활용처리량', '재활용처리량', '음식물류발생량',\n",
              "       '음식물류발생량'],\n",
              "      dtype='object', name='항목')"
            ]
          },
          "metadata": {
            "tags": []
          },
          "execution_count": 23
        }
      ]
    },
    {
      "cell_type": "code",
      "metadata": {
        "id": "rsFY0nfMuCEx",
        "colab_type": "code",
        "colab": {
          "base_uri": "https://localhost:8080/",
          "height": 142
        },
        "outputId": "7d0b8593-f56d-49a1-841e-bc7738c63314"
      },
      "source": [
        "#행추출\n",
        "df2.iloc[:2, :]"
      ],
      "execution_count": null,
      "outputs": [
        {
          "output_type": "execute_result",
          "data": {
            "text/html": [
              "<div>\n",
              "<style scoped>\n",
              "    .dataframe tbody tr th:only-of-type {\n",
              "        vertical-align: middle;\n",
              "    }\n",
              "\n",
              "    .dataframe tbody tr th {\n",
              "        vertical-align: top;\n",
              "    }\n",
              "\n",
              "    .dataframe thead th {\n",
              "        text-align: right;\n",
              "    }\n",
              "</style>\n",
              "<table border=\"1\" class=\"dataframe\">\n",
              "  <thead>\n",
              "    <tr style=\"text-align: right;\">\n",
              "      <th></th>\n",
              "      <th>구분</th>\n",
              "      <th>중구</th>\n",
              "      <th>서구</th>\n",
              "      <th>동구</th>\n",
              "      <th>영도구</th>\n",
              "      <th>부산진구</th>\n",
              "      <th>동래구</th>\n",
              "      <th>남구</th>\n",
              "      <th>북구</th>\n",
              "      <th>해운대구</th>\n",
              "      <th>사하구</th>\n",
              "      <th>금정구</th>\n",
              "      <th>강서구</th>\n",
              "      <th>연제구</th>\n",
              "      <th>수영구</th>\n",
              "      <th>사상구</th>\n",
              "      <th>기장군</th>\n",
              "    </tr>\n",
              "    <tr>\n",
              "      <th>항목</th>\n",
              "      <th></th>\n",
              "      <th></th>\n",
              "      <th></th>\n",
              "      <th></th>\n",
              "      <th></th>\n",
              "      <th></th>\n",
              "      <th></th>\n",
              "      <th></th>\n",
              "      <th></th>\n",
              "      <th></th>\n",
              "      <th></th>\n",
              "      <th></th>\n",
              "      <th></th>\n",
              "      <th></th>\n",
              "      <th></th>\n",
              "      <th></th>\n",
              "      <th></th>\n",
              "    </tr>\n",
              "  </thead>\n",
              "  <tbody>\n",
              "    <tr>\n",
              "      <th>매립처리량</th>\n",
              "      <td>연간(톤)</td>\n",
              "      <td>3034</td>\n",
              "      <td>2323</td>\n",
              "      <td>1653</td>\n",
              "      <td>1219</td>\n",
              "      <td>17393</td>\n",
              "      <td>9195</td>\n",
              "      <td>8042</td>\n",
              "      <td>10498</td>\n",
              "      <td>5251</td>\n",
              "      <td>3089</td>\n",
              "      <td>7240</td>\n",
              "      <td>9742</td>\n",
              "      <td>1831</td>\n",
              "      <td>2205</td>\n",
              "      <td>9937</td>\n",
              "      <td>2290</td>\n",
              "    </tr>\n",
              "    <tr>\n",
              "      <th>매립처리량</th>\n",
              "      <td>일일(톤)</td>\n",
              "      <td>8</td>\n",
              "      <td>7</td>\n",
              "      <td>5</td>\n",
              "      <td>3</td>\n",
              "      <td>48</td>\n",
              "      <td>25</td>\n",
              "      <td>22</td>\n",
              "      <td>29</td>\n",
              "      <td>14</td>\n",
              "      <td>8</td>\n",
              "      <td>20</td>\n",
              "      <td>27</td>\n",
              "      <td>5</td>\n",
              "      <td>6</td>\n",
              "      <td>27</td>\n",
              "      <td>6</td>\n",
              "    </tr>\n",
              "  </tbody>\n",
              "</table>\n",
              "</div>"
            ],
            "text/plain": [
              "          구분    중구    서구    동구   영도구   부산진구  ...   금정구   강서구   연제구   수영구   사상구   기장군\n",
              "항목                                           ...                                    \n",
              "매립처리량  연간(톤)  3034  2323  1653  1219  17393  ...  7240  9742  1831  2205  9937  2290\n",
              "매립처리량  일일(톤)     8     7     5     3     48  ...    20    27     5     6    27     6\n",
              "\n",
              "[2 rows x 17 columns]"
            ]
          },
          "metadata": {
            "tags": []
          },
          "execution_count": 132
        }
      ]
    },
    {
      "cell_type": "code",
      "metadata": {
        "id": "HgTJAXe0u81K",
        "colab_type": "code",
        "colab": {
          "base_uri": "https://localhost:8080/",
          "height": 204
        },
        "outputId": "6a4d8701-c684-403d-be37-b8b202d5d006"
      },
      "source": [
        "df2.iloc[[0,1,4,5], :]"
      ],
      "execution_count": null,
      "outputs": [
        {
          "output_type": "execute_result",
          "data": {
            "text/html": [
              "<div>\n",
              "<style scoped>\n",
              "    .dataframe tbody tr th:only-of-type {\n",
              "        vertical-align: middle;\n",
              "    }\n",
              "\n",
              "    .dataframe tbody tr th {\n",
              "        vertical-align: top;\n",
              "    }\n",
              "\n",
              "    .dataframe thead th {\n",
              "        text-align: right;\n",
              "    }\n",
              "</style>\n",
              "<table border=\"1\" class=\"dataframe\">\n",
              "  <thead>\n",
              "    <tr style=\"text-align: right;\">\n",
              "      <th></th>\n",
              "      <th>구분</th>\n",
              "      <th>중구</th>\n",
              "      <th>서구</th>\n",
              "      <th>동구</th>\n",
              "      <th>영도구</th>\n",
              "      <th>부산진구</th>\n",
              "      <th>동래구</th>\n",
              "      <th>남구</th>\n",
              "      <th>북구</th>\n",
              "      <th>해운대구</th>\n",
              "      <th>사하구</th>\n",
              "      <th>금정구</th>\n",
              "      <th>강서구</th>\n",
              "      <th>연제구</th>\n",
              "      <th>수영구</th>\n",
              "      <th>사상구</th>\n",
              "      <th>기장군</th>\n",
              "    </tr>\n",
              "    <tr>\n",
              "      <th>항목</th>\n",
              "      <th></th>\n",
              "      <th></th>\n",
              "      <th></th>\n",
              "      <th></th>\n",
              "      <th></th>\n",
              "      <th></th>\n",
              "      <th></th>\n",
              "      <th></th>\n",
              "      <th></th>\n",
              "      <th></th>\n",
              "      <th></th>\n",
              "      <th></th>\n",
              "      <th></th>\n",
              "      <th></th>\n",
              "      <th></th>\n",
              "      <th></th>\n",
              "      <th></th>\n",
              "    </tr>\n",
              "  </thead>\n",
              "  <tbody>\n",
              "    <tr>\n",
              "      <th>매립처리량</th>\n",
              "      <td>연간(톤)</td>\n",
              "      <td>3034</td>\n",
              "      <td>2323</td>\n",
              "      <td>1653</td>\n",
              "      <td>1219</td>\n",
              "      <td>17393</td>\n",
              "      <td>9195</td>\n",
              "      <td>8042</td>\n",
              "      <td>10498</td>\n",
              "      <td>5251</td>\n",
              "      <td>3089</td>\n",
              "      <td>7240</td>\n",
              "      <td>9742</td>\n",
              "      <td>1831</td>\n",
              "      <td>2205</td>\n",
              "      <td>9937</td>\n",
              "      <td>2290</td>\n",
              "    </tr>\n",
              "    <tr>\n",
              "      <th>매립처리량</th>\n",
              "      <td>일일(톤)</td>\n",
              "      <td>8</td>\n",
              "      <td>7</td>\n",
              "      <td>5</td>\n",
              "      <td>3</td>\n",
              "      <td>48</td>\n",
              "      <td>25</td>\n",
              "      <td>22</td>\n",
              "      <td>29</td>\n",
              "      <td>14</td>\n",
              "      <td>8</td>\n",
              "      <td>20</td>\n",
              "      <td>27</td>\n",
              "      <td>5</td>\n",
              "      <td>6</td>\n",
              "      <td>27</td>\n",
              "      <td>6</td>\n",
              "    </tr>\n",
              "    <tr>\n",
              "      <th>재활용처리량</th>\n",
              "      <td>연간(톤)</td>\n",
              "      <td>9082</td>\n",
              "      <td>21301</td>\n",
              "      <td>17968</td>\n",
              "      <td>24616</td>\n",
              "      <td>88453</td>\n",
              "      <td>56526</td>\n",
              "      <td>57921</td>\n",
              "      <td>63879</td>\n",
              "      <td>64667</td>\n",
              "      <td>70923</td>\n",
              "      <td>56153</td>\n",
              "      <td>25977</td>\n",
              "      <td>37115</td>\n",
              "      <td>28135</td>\n",
              "      <td>57110</td>\n",
              "      <td>15170</td>\n",
              "    </tr>\n",
              "    <tr>\n",
              "      <th>재활용처리량</th>\n",
              "      <td>일일(톤)</td>\n",
              "      <td>25</td>\n",
              "      <td>58</td>\n",
              "      <td>49</td>\n",
              "      <td>68</td>\n",
              "      <td>242</td>\n",
              "      <td>155</td>\n",
              "      <td>159</td>\n",
              "      <td>175</td>\n",
              "      <td>177</td>\n",
              "      <td>194</td>\n",
              "      <td>154</td>\n",
              "      <td>71</td>\n",
              "      <td>102</td>\n",
              "      <td>77</td>\n",
              "      <td>156</td>\n",
              "      <td>42</td>\n",
              "    </tr>\n",
              "  </tbody>\n",
              "</table>\n",
              "</div>"
            ],
            "text/plain": [
              "           구분    중구     서구     동구    영도구  ...    강서구    연제구    수영구    사상구    기장군\n",
              "항목                                        ...                                   \n",
              "매립처리량   연간(톤)  3034   2323   1653   1219  ...   9742   1831   2205   9937   2290\n",
              "매립처리량   일일(톤)     8      7      5      3  ...     27      5      6     27      6\n",
              "재활용처리량  연간(톤)  9082  21301  17968  24616  ...  25977  37115  28135  57110  15170\n",
              "재활용처리량  일일(톤)    25     58     49     68  ...     71    102     77    156     42\n",
              "\n",
              "[4 rows x 17 columns]"
            ]
          },
          "metadata": {
            "tags": []
          },
          "execution_count": 133
        }
      ]
    },
    {
      "cell_type": "code",
      "metadata": {
        "id": "CSF66GTouPnB",
        "colab_type": "code",
        "colab": {
          "base_uri": "https://localhost:8080/",
          "height": 136
        },
        "outputId": "50509c21-e20a-4e57-ddb7-d62097f498ea"
      },
      "source": [
        "df2.iloc[[0:2]]"
      ],
      "execution_count": null,
      "outputs": [
        {
          "output_type": "error",
          "ename": "SyntaxError",
          "evalue": "ignored",
          "traceback": [
            "\u001b[0;36m  File \u001b[0;32m\"<ipython-input-134-4436bd4d9b69>\"\u001b[0;36m, line \u001b[0;32m1\u001b[0m\n\u001b[0;31m    df2.iloc[[0:2]]\u001b[0m\n\u001b[0m               ^\u001b[0m\n\u001b[0;31mSyntaxError\u001b[0m\u001b[0;31m:\u001b[0m invalid syntax\n"
          ]
        }
      ]
    },
    {
      "cell_type": "code",
      "metadata": {
        "id": "Ayn13nHcvPMV",
        "colab_type": "code",
        "colab": {
          "base_uri": "https://localhost:8080/",
          "height": 197
        },
        "outputId": "2ce61daa-6d72-41a9-d2c8-c8cfeec53a98"
      },
      "source": [
        "#열추출\n",
        "df2.iloc[:, 11]"
      ],
      "execution_count": null,
      "outputs": [
        {
          "output_type": "execute_result",
          "data": {
            "text/plain": [
              "항목\n",
              "매립처리량       7240\n",
              "매립처리량         20\n",
              "소각처리량        222\n",
              "소각처리량          1\n",
              "재활용처리량     56153\n",
              "재활용처리량       154\n",
              "음식물류발생량    21273\n",
              "음식물류발생량       58\n",
              "Name: 금정구, dtype: int64"
            ]
          },
          "metadata": {
            "tags": []
          },
          "execution_count": 135
        }
      ]
    },
    {
      "cell_type": "code",
      "metadata": {
        "id": "IFfD5JmNvY6w",
        "colab_type": "code",
        "colab": {
          "base_uri": "https://localhost:8080/",
          "height": 328
        },
        "outputId": "fd70fd95-e465-4822-8d70-ddafc43c81ae"
      },
      "source": [
        "df2.iloc[:, [0,11]]"
      ],
      "execution_count": null,
      "outputs": [
        {
          "output_type": "execute_result",
          "data": {
            "text/html": [
              "<div>\n",
              "<style scoped>\n",
              "    .dataframe tbody tr th:only-of-type {\n",
              "        vertical-align: middle;\n",
              "    }\n",
              "\n",
              "    .dataframe tbody tr th {\n",
              "        vertical-align: top;\n",
              "    }\n",
              "\n",
              "    .dataframe thead th {\n",
              "        text-align: right;\n",
              "    }\n",
              "</style>\n",
              "<table border=\"1\" class=\"dataframe\">\n",
              "  <thead>\n",
              "    <tr style=\"text-align: right;\">\n",
              "      <th></th>\n",
              "      <th>구분</th>\n",
              "      <th>금정구</th>\n",
              "    </tr>\n",
              "    <tr>\n",
              "      <th>항목</th>\n",
              "      <th></th>\n",
              "      <th></th>\n",
              "    </tr>\n",
              "  </thead>\n",
              "  <tbody>\n",
              "    <tr>\n",
              "      <th>매립처리량</th>\n",
              "      <td>연간(톤)</td>\n",
              "      <td>7240</td>\n",
              "    </tr>\n",
              "    <tr>\n",
              "      <th>매립처리량</th>\n",
              "      <td>일일(톤)</td>\n",
              "      <td>20</td>\n",
              "    </tr>\n",
              "    <tr>\n",
              "      <th>소각처리량</th>\n",
              "      <td>연간(톤)</td>\n",
              "      <td>222</td>\n",
              "    </tr>\n",
              "    <tr>\n",
              "      <th>소각처리량</th>\n",
              "      <td>일일(톤)</td>\n",
              "      <td>1</td>\n",
              "    </tr>\n",
              "    <tr>\n",
              "      <th>재활용처리량</th>\n",
              "      <td>연간(톤)</td>\n",
              "      <td>56153</td>\n",
              "    </tr>\n",
              "    <tr>\n",
              "      <th>재활용처리량</th>\n",
              "      <td>일일(톤)</td>\n",
              "      <td>154</td>\n",
              "    </tr>\n",
              "    <tr>\n",
              "      <th>음식물류발생량</th>\n",
              "      <td>연간(톤)</td>\n",
              "      <td>21273</td>\n",
              "    </tr>\n",
              "    <tr>\n",
              "      <th>음식물류발생량</th>\n",
              "      <td>일일(톤)</td>\n",
              "      <td>58</td>\n",
              "    </tr>\n",
              "  </tbody>\n",
              "</table>\n",
              "</div>"
            ],
            "text/plain": [
              "            구분    금정구\n",
              "항목                   \n",
              "매립처리량    연간(톤)   7240\n",
              "매립처리량    일일(톤)     20\n",
              "소각처리량    연간(톤)    222\n",
              "소각처리량    일일(톤)      1\n",
              "재활용처리량   연간(톤)  56153\n",
              "재활용처리량   일일(톤)    154\n",
              "음식물류발생량  연간(톤)  21273\n",
              "음식물류발생량  일일(톤)     58"
            ]
          },
          "metadata": {
            "tags": []
          },
          "execution_count": 136
        }
      ]
    },
    {
      "cell_type": "code",
      "metadata": {
        "id": "ncHdh4OovgmP",
        "colab_type": "code",
        "colab": {
          "base_uri": "https://localhost:8080/",
          "height": 204
        },
        "outputId": "4a83f1ca-e62a-4523-ea22-57b8f794536c"
      },
      "source": [
        "df2.iloc[[0,1,4,5], [0,11]]"
      ],
      "execution_count": null,
      "outputs": [
        {
          "output_type": "execute_result",
          "data": {
            "text/html": [
              "<div>\n",
              "<style scoped>\n",
              "    .dataframe tbody tr th:only-of-type {\n",
              "        vertical-align: middle;\n",
              "    }\n",
              "\n",
              "    .dataframe tbody tr th {\n",
              "        vertical-align: top;\n",
              "    }\n",
              "\n",
              "    .dataframe thead th {\n",
              "        text-align: right;\n",
              "    }\n",
              "</style>\n",
              "<table border=\"1\" class=\"dataframe\">\n",
              "  <thead>\n",
              "    <tr style=\"text-align: right;\">\n",
              "      <th></th>\n",
              "      <th>구분</th>\n",
              "      <th>금정구</th>\n",
              "    </tr>\n",
              "    <tr>\n",
              "      <th>항목</th>\n",
              "      <th></th>\n",
              "      <th></th>\n",
              "    </tr>\n",
              "  </thead>\n",
              "  <tbody>\n",
              "    <tr>\n",
              "      <th>매립처리량</th>\n",
              "      <td>연간(톤)</td>\n",
              "      <td>7240</td>\n",
              "    </tr>\n",
              "    <tr>\n",
              "      <th>매립처리량</th>\n",
              "      <td>일일(톤)</td>\n",
              "      <td>20</td>\n",
              "    </tr>\n",
              "    <tr>\n",
              "      <th>재활용처리량</th>\n",
              "      <td>연간(톤)</td>\n",
              "      <td>56153</td>\n",
              "    </tr>\n",
              "    <tr>\n",
              "      <th>재활용처리량</th>\n",
              "      <td>일일(톤)</td>\n",
              "      <td>154</td>\n",
              "    </tr>\n",
              "  </tbody>\n",
              "</table>\n",
              "</div>"
            ],
            "text/plain": [
              "           구분    금정구\n",
              "항목                  \n",
              "매립처리량   연간(톤)   7240\n",
              "매립처리량   일일(톤)     20\n",
              "재활용처리량  연간(톤)  56153\n",
              "재활용처리량  일일(톤)    154"
            ]
          },
          "metadata": {
            "tags": []
          },
          "execution_count": 137
        }
      ]
    },
    {
      "cell_type": "markdown",
      "metadata": {
        "id": "wghku9rqxFCD",
        "colab_type": "text"
      },
      "source": [
        "\n",
        "\n",
        "---\n",
        "해결문제) 부산시기온.csv파일을 읽어서 2018년 최고, 최저 기온을 추출하고 통계량을 표시하시오.\n",
        "\n",
        "\n",
        "---\n",
        "\n",
        "\n"
      ]
    },
    {
      "cell_type": "code",
      "metadata": {
        "id": "r7m8DqnxxgT_",
        "colab_type": "code",
        "colab": {
          "base_uri": "https://localhost:8080/",
          "height": 973
        },
        "outputId": "8e027504-0bd0-4428-c778-d61932893403"
      },
      "source": [
        "dfbusan = pd.read_csv('/content/drive/My Drive/PythonWork/PythonBasic/04/부산시기온.csv',engine='python')\n",
        "dfbusan"
      ],
      "execution_count": 24,
      "outputs": [
        {
          "output_type": "execute_result",
          "data": {
            "text/html": [
              "<div>\n",
              "<style scoped>\n",
              "    .dataframe tbody tr th:only-of-type {\n",
              "        vertical-align: middle;\n",
              "    }\n",
              "\n",
              "    .dataframe tbody tr th {\n",
              "        vertical-align: top;\n",
              "    }\n",
              "\n",
              "    .dataframe thead th {\n",
              "        text-align: right;\n",
              "    }\n",
              "</style>\n",
              "<table border=\"1\" class=\"dataframe\">\n",
              "  <thead>\n",
              "    <tr style=\"text-align: right;\">\n",
              "      <th></th>\n",
              "      <th>일시</th>\n",
              "      <th>평균</th>\n",
              "      <th>최고</th>\n",
              "      <th>최저</th>\n",
              "    </tr>\n",
              "  </thead>\n",
              "  <tbody>\n",
              "    <tr>\n",
              "      <th>0</th>\n",
              "      <td>2017-01-01</td>\n",
              "      <td>4.1</td>\n",
              "      <td>15.1</td>\n",
              "      <td>-7.7</td>\n",
              "    </tr>\n",
              "    <tr>\n",
              "      <th>1</th>\n",
              "      <td>2017-02-01</td>\n",
              "      <td>5.5</td>\n",
              "      <td>17.7</td>\n",
              "      <td>-5.7</td>\n",
              "    </tr>\n",
              "    <tr>\n",
              "      <th>2</th>\n",
              "      <td>2017-03-01</td>\n",
              "      <td>9.0</td>\n",
              "      <td>18.1</td>\n",
              "      <td>-2.3</td>\n",
              "    </tr>\n",
              "    <tr>\n",
              "      <th>3</th>\n",
              "      <td>2017-04-01</td>\n",
              "      <td>15.0</td>\n",
              "      <td>23.2</td>\n",
              "      <td>5.0</td>\n",
              "    </tr>\n",
              "    <tr>\n",
              "      <th>4</th>\n",
              "      <td>2017-05-01</td>\n",
              "      <td>19.0</td>\n",
              "      <td>28.2</td>\n",
              "      <td>12.8</td>\n",
              "    </tr>\n",
              "    <tr>\n",
              "      <th>5</th>\n",
              "      <td>2017-06-01</td>\n",
              "      <td>21.3</td>\n",
              "      <td>30.4</td>\n",
              "      <td>15.4</td>\n",
              "    </tr>\n",
              "    <tr>\n",
              "      <th>6</th>\n",
              "      <td>2017-07-01</td>\n",
              "      <td>26.1</td>\n",
              "      <td>32.7</td>\n",
              "      <td>21.2</td>\n",
              "    </tr>\n",
              "    <tr>\n",
              "      <th>7</th>\n",
              "      <td>2017-08-01</td>\n",
              "      <td>27.0</td>\n",
              "      <td>36.2</td>\n",
              "      <td>18.7</td>\n",
              "    </tr>\n",
              "    <tr>\n",
              "      <th>8</th>\n",
              "      <td>2017-09-01</td>\n",
              "      <td>22.6</td>\n",
              "      <td>29.7</td>\n",
              "      <td>14.5</td>\n",
              "    </tr>\n",
              "    <tr>\n",
              "      <th>9</th>\n",
              "      <td>2017-10-01</td>\n",
              "      <td>18.1</td>\n",
              "      <td>28.7</td>\n",
              "      <td>7.3</td>\n",
              "    </tr>\n",
              "    <tr>\n",
              "      <th>10</th>\n",
              "      <td>2017-11-01</td>\n",
              "      <td>11.2</td>\n",
              "      <td>23.6</td>\n",
              "      <td>-1.0</td>\n",
              "    </tr>\n",
              "    <tr>\n",
              "      <th>11</th>\n",
              "      <td>2017-12-01</td>\n",
              "      <td>3.6</td>\n",
              "      <td>14.5</td>\n",
              "      <td>-6.1</td>\n",
              "    </tr>\n",
              "    <tr>\n",
              "      <th>12</th>\n",
              "      <td>2018-01-01</td>\n",
              "      <td>1.9</td>\n",
              "      <td>14.0</td>\n",
              "      <td>-9.9</td>\n",
              "    </tr>\n",
              "    <tr>\n",
              "      <th>13</th>\n",
              "      <td>2018-02-01</td>\n",
              "      <td>3.9</td>\n",
              "      <td>14.7</td>\n",
              "      <td>-9.6</td>\n",
              "    </tr>\n",
              "    <tr>\n",
              "      <th>14</th>\n",
              "      <td>2018-03-01</td>\n",
              "      <td>10.0</td>\n",
              "      <td>22.3</td>\n",
              "      <td>-0.7</td>\n",
              "    </tr>\n",
              "    <tr>\n",
              "      <th>15</th>\n",
              "      <td>2018-04-01</td>\n",
              "      <td>14.5</td>\n",
              "      <td>24.3</td>\n",
              "      <td>3.0</td>\n",
              "    </tr>\n",
              "    <tr>\n",
              "      <th>16</th>\n",
              "      <td>2018-05-01</td>\n",
              "      <td>17.8</td>\n",
              "      <td>26.6</td>\n",
              "      <td>9.8</td>\n",
              "    </tr>\n",
              "    <tr>\n",
              "      <th>17</th>\n",
              "      <td>2018-06-01</td>\n",
              "      <td>21.5</td>\n",
              "      <td>31.3</td>\n",
              "      <td>15.1</td>\n",
              "    </tr>\n",
              "    <tr>\n",
              "      <th>18</th>\n",
              "      <td>2018-07-01</td>\n",
              "      <td>26.7</td>\n",
              "      <td>35.4</td>\n",
              "      <td>17.8</td>\n",
              "    </tr>\n",
              "    <tr>\n",
              "      <th>19</th>\n",
              "      <td>2018-08-01</td>\n",
              "      <td>27.9</td>\n",
              "      <td>36.4</td>\n",
              "      <td>21.2</td>\n",
              "    </tr>\n",
              "    <tr>\n",
              "      <th>20</th>\n",
              "      <td>2018-09-01</td>\n",
              "      <td>21.9</td>\n",
              "      <td>30.0</td>\n",
              "      <td>14.9</td>\n",
              "    </tr>\n",
              "    <tr>\n",
              "      <th>21</th>\n",
              "      <td>2018-10-01</td>\n",
              "      <td>16.4</td>\n",
              "      <td>25.6</td>\n",
              "      <td>7.9</td>\n",
              "    </tr>\n",
              "    <tr>\n",
              "      <th>22</th>\n",
              "      <td>2018-11-01</td>\n",
              "      <td>12.4</td>\n",
              "      <td>22.5</td>\n",
              "      <td>2.7</td>\n",
              "    </tr>\n",
              "    <tr>\n",
              "      <th>23</th>\n",
              "      <td>2018-12-01</td>\n",
              "      <td>5.7</td>\n",
              "      <td>18.8</td>\n",
              "      <td>-7.1</td>\n",
              "    </tr>\n",
              "    <tr>\n",
              "      <th>24</th>\n",
              "      <td>2019-01-01</td>\n",
              "      <td>4.5</td>\n",
              "      <td>13.7</td>\n",
              "      <td>-4.4</td>\n",
              "    </tr>\n",
              "    <tr>\n",
              "      <th>25</th>\n",
              "      <td>2019-02-01</td>\n",
              "      <td>6.6</td>\n",
              "      <td>16.5</td>\n",
              "      <td>-4.2</td>\n",
              "    </tr>\n",
              "    <tr>\n",
              "      <th>26</th>\n",
              "      <td>2019-03-01</td>\n",
              "      <td>10.5</td>\n",
              "      <td>21.0</td>\n",
              "      <td>0.5</td>\n",
              "    </tr>\n",
              "    <tr>\n",
              "      <th>27</th>\n",
              "      <td>2019-04-01</td>\n",
              "      <td>13.4</td>\n",
              "      <td>23.4</td>\n",
              "      <td>2.1</td>\n",
              "    </tr>\n",
              "    <tr>\n",
              "      <th>28</th>\n",
              "      <td>2019-05-01</td>\n",
              "      <td>19.3</td>\n",
              "      <td>30.1</td>\n",
              "      <td>11.0</td>\n",
              "    </tr>\n",
              "    <tr>\n",
              "      <th>29</th>\n",
              "      <td>2019-06-01</td>\n",
              "      <td>21.1</td>\n",
              "      <td>29.7</td>\n",
              "      <td>15.5</td>\n",
              "    </tr>\n",
              "  </tbody>\n",
              "</table>\n",
              "</div>"
            ],
            "text/plain": [
              "            일시    평균    최고    최저\n",
              "0   2017-01-01   4.1  15.1  -7.7\n",
              "1   2017-02-01   5.5  17.7  -5.7\n",
              "2   2017-03-01   9.0  18.1  -2.3\n",
              "3   2017-04-01  15.0  23.2   5.0\n",
              "4   2017-05-01  19.0  28.2  12.8\n",
              "5   2017-06-01  21.3  30.4  15.4\n",
              "6   2017-07-01  26.1  32.7  21.2\n",
              "7   2017-08-01  27.0  36.2  18.7\n",
              "8   2017-09-01  22.6  29.7  14.5\n",
              "9   2017-10-01  18.1  28.7   7.3\n",
              "10  2017-11-01  11.2  23.6  -1.0\n",
              "11  2017-12-01   3.6  14.5  -6.1\n",
              "12  2018-01-01   1.9  14.0  -9.9\n",
              "13  2018-02-01   3.9  14.7  -9.6\n",
              "14  2018-03-01  10.0  22.3  -0.7\n",
              "15  2018-04-01  14.5  24.3   3.0\n",
              "16  2018-05-01  17.8  26.6   9.8\n",
              "17  2018-06-01  21.5  31.3  15.1\n",
              "18  2018-07-01  26.7  35.4  17.8\n",
              "19  2018-08-01  27.9  36.4  21.2\n",
              "20  2018-09-01  21.9  30.0  14.9\n",
              "21  2018-10-01  16.4  25.6   7.9\n",
              "22  2018-11-01  12.4  22.5   2.7\n",
              "23  2018-12-01   5.7  18.8  -7.1\n",
              "24  2019-01-01   4.5  13.7  -4.4\n",
              "25  2019-02-01   6.6  16.5  -4.2\n",
              "26  2019-03-01  10.5  21.0   0.5\n",
              "27  2019-04-01  13.4  23.4   2.1\n",
              "28  2019-05-01  19.3  30.1  11.0\n",
              "29  2019-06-01  21.1  29.7  15.5"
            ]
          },
          "metadata": {
            "tags": []
          },
          "execution_count": 24
        }
      ]
    },
    {
      "cell_type": "code",
      "metadata": {
        "id": "mZeSVt7PzkHo",
        "colab_type": "code",
        "colab": {
          "base_uri": "https://localhost:8080/",
          "height": 35
        },
        "outputId": "4bc0ba21-ecab-44e0-969f-c64a81bbf9fd"
      },
      "source": [
        "dfbusan.columns"
      ],
      "execution_count": 25,
      "outputs": [
        {
          "output_type": "execute_result",
          "data": {
            "text/plain": [
              "Index(['일시', '평균', '최고', '최저'], dtype='object')"
            ]
          },
          "metadata": {
            "tags": []
          },
          "execution_count": 25
        }
      ]
    },
    {
      "cell_type": "code",
      "metadata": {
        "id": "YZGaRtjnIA3l",
        "colab_type": "code",
        "colab": {
          "base_uri": "https://localhost:8080/",
          "height": 35
        },
        "outputId": "2de28a22-b8ed-4e1a-acfb-5c1136a45d87"
      },
      "source": [
        "dfbusan.index"
      ],
      "execution_count": 26,
      "outputs": [
        {
          "output_type": "execute_result",
          "data": {
            "text/plain": [
              "RangeIndex(start=0, stop=30, step=1)"
            ]
          },
          "metadata": {
            "tags": []
          },
          "execution_count": 26
        }
      ]
    },
    {
      "cell_type": "code",
      "metadata": {
        "id": "3_pPKrfyzFFK",
        "colab_type": "code",
        "colab": {
          "base_uri": "https://localhost:8080/",
          "height": 421
        },
        "outputId": "b303eba8-4c74-4434-c376-9f385b0e99e6"
      },
      "source": [
        "dfbusan = dfbusan.loc[12:23, ['일시','최고','최저']]\n",
        "dfbusan"
      ],
      "execution_count": null,
      "outputs": [
        {
          "output_type": "execute_result",
          "data": {
            "text/html": [
              "<div>\n",
              "<style scoped>\n",
              "    .dataframe tbody tr th:only-of-type {\n",
              "        vertical-align: middle;\n",
              "    }\n",
              "\n",
              "    .dataframe tbody tr th {\n",
              "        vertical-align: top;\n",
              "    }\n",
              "\n",
              "    .dataframe thead th {\n",
              "        text-align: right;\n",
              "    }\n",
              "</style>\n",
              "<table border=\"1\" class=\"dataframe\">\n",
              "  <thead>\n",
              "    <tr style=\"text-align: right;\">\n",
              "      <th></th>\n",
              "      <th>일시</th>\n",
              "      <th>최고</th>\n",
              "      <th>최저</th>\n",
              "    </tr>\n",
              "  </thead>\n",
              "  <tbody>\n",
              "    <tr>\n",
              "      <th>12</th>\n",
              "      <td>2018-01-01</td>\n",
              "      <td>14.0</td>\n",
              "      <td>-9.9</td>\n",
              "    </tr>\n",
              "    <tr>\n",
              "      <th>13</th>\n",
              "      <td>2018-02-01</td>\n",
              "      <td>14.7</td>\n",
              "      <td>-9.6</td>\n",
              "    </tr>\n",
              "    <tr>\n",
              "      <th>14</th>\n",
              "      <td>2018-03-01</td>\n",
              "      <td>22.3</td>\n",
              "      <td>-0.7</td>\n",
              "    </tr>\n",
              "    <tr>\n",
              "      <th>15</th>\n",
              "      <td>2018-04-01</td>\n",
              "      <td>24.3</td>\n",
              "      <td>3.0</td>\n",
              "    </tr>\n",
              "    <tr>\n",
              "      <th>16</th>\n",
              "      <td>2018-05-01</td>\n",
              "      <td>26.6</td>\n",
              "      <td>9.8</td>\n",
              "    </tr>\n",
              "    <tr>\n",
              "      <th>17</th>\n",
              "      <td>2018-06-01</td>\n",
              "      <td>31.3</td>\n",
              "      <td>15.1</td>\n",
              "    </tr>\n",
              "    <tr>\n",
              "      <th>18</th>\n",
              "      <td>2018-07-01</td>\n",
              "      <td>35.4</td>\n",
              "      <td>17.8</td>\n",
              "    </tr>\n",
              "    <tr>\n",
              "      <th>19</th>\n",
              "      <td>2018-08-01</td>\n",
              "      <td>36.4</td>\n",
              "      <td>21.2</td>\n",
              "    </tr>\n",
              "    <tr>\n",
              "      <th>20</th>\n",
              "      <td>2018-09-01</td>\n",
              "      <td>30.0</td>\n",
              "      <td>14.9</td>\n",
              "    </tr>\n",
              "    <tr>\n",
              "      <th>21</th>\n",
              "      <td>2018-10-01</td>\n",
              "      <td>25.6</td>\n",
              "      <td>7.9</td>\n",
              "    </tr>\n",
              "    <tr>\n",
              "      <th>22</th>\n",
              "      <td>2018-11-01</td>\n",
              "      <td>22.5</td>\n",
              "      <td>2.7</td>\n",
              "    </tr>\n",
              "    <tr>\n",
              "      <th>23</th>\n",
              "      <td>2018-12-01</td>\n",
              "      <td>18.8</td>\n",
              "      <td>-7.1</td>\n",
              "    </tr>\n",
              "  </tbody>\n",
              "</table>\n",
              "</div>"
            ],
            "text/plain": [
              "            일시    최고    최저\n",
              "12  2018-01-01  14.0  -9.9\n",
              "13  2018-02-01  14.7  -9.6\n",
              "14  2018-03-01  22.3  -0.7\n",
              "15  2018-04-01  24.3   3.0\n",
              "16  2018-05-01  26.6   9.8\n",
              "17  2018-06-01  31.3  15.1\n",
              "18  2018-07-01  35.4  17.8\n",
              "19  2018-08-01  36.4  21.2\n",
              "20  2018-09-01  30.0  14.9\n",
              "21  2018-10-01  25.6   7.9\n",
              "22  2018-11-01  22.5   2.7\n",
              "23  2018-12-01  18.8  -7.1"
            ]
          },
          "metadata": {
            "tags": []
          },
          "execution_count": 203
        }
      ]
    },
    {
      "cell_type": "code",
      "metadata": {
        "id": "5-FazgZXztqJ",
        "colab_type": "code",
        "colab": {
          "base_uri": "https://localhost:8080/",
          "height": 297
        },
        "outputId": "9506e22b-aaa3-4bc5-a84a-992ccb838004"
      },
      "source": [
        "dfbusan.describe()"
      ],
      "execution_count": null,
      "outputs": [
        {
          "output_type": "execute_result",
          "data": {
            "text/html": [
              "<div>\n",
              "<style scoped>\n",
              "    .dataframe tbody tr th:only-of-type {\n",
              "        vertical-align: middle;\n",
              "    }\n",
              "\n",
              "    .dataframe tbody tr th {\n",
              "        vertical-align: top;\n",
              "    }\n",
              "\n",
              "    .dataframe thead th {\n",
              "        text-align: right;\n",
              "    }\n",
              "</style>\n",
              "<table border=\"1\" class=\"dataframe\">\n",
              "  <thead>\n",
              "    <tr style=\"text-align: right;\">\n",
              "      <th></th>\n",
              "      <th>최고</th>\n",
              "      <th>최저</th>\n",
              "    </tr>\n",
              "  </thead>\n",
              "  <tbody>\n",
              "    <tr>\n",
              "      <th>count</th>\n",
              "      <td>12.000000</td>\n",
              "      <td>12.000000</td>\n",
              "    </tr>\n",
              "    <tr>\n",
              "      <th>mean</th>\n",
              "      <td>25.158333</td>\n",
              "      <td>5.425000</td>\n",
              "    </tr>\n",
              "    <tr>\n",
              "      <th>std</th>\n",
              "      <td>7.292519</td>\n",
              "      <td>10.782741</td>\n",
              "    </tr>\n",
              "    <tr>\n",
              "      <th>min</th>\n",
              "      <td>14.000000</td>\n",
              "      <td>-9.900000</td>\n",
              "    </tr>\n",
              "    <tr>\n",
              "      <th>25%</th>\n",
              "      <td>21.425000</td>\n",
              "      <td>-2.300000</td>\n",
              "    </tr>\n",
              "    <tr>\n",
              "      <th>50%</th>\n",
              "      <td>24.950000</td>\n",
              "      <td>5.450000</td>\n",
              "    </tr>\n",
              "    <tr>\n",
              "      <th>75%</th>\n",
              "      <td>30.325000</td>\n",
              "      <td>14.950000</td>\n",
              "    </tr>\n",
              "    <tr>\n",
              "      <th>max</th>\n",
              "      <td>36.400000</td>\n",
              "      <td>21.200000</td>\n",
              "    </tr>\n",
              "  </tbody>\n",
              "</table>\n",
              "</div>"
            ],
            "text/plain": [
              "              최고         최저\n",
              "count  12.000000  12.000000\n",
              "mean   25.158333   5.425000\n",
              "std     7.292519  10.782741\n",
              "min    14.000000  -9.900000\n",
              "25%    21.425000  -2.300000\n",
              "50%    24.950000   5.450000\n",
              "75%    30.325000  14.950000\n",
              "max    36.400000  21.200000"
            ]
          },
          "metadata": {
            "tags": []
          },
          "execution_count": 204
        }
      ]
    },
    {
      "cell_type": "code",
      "metadata": {
        "id": "-i7dkgLTIQ6w",
        "colab_type": "code",
        "colab": {
          "base_uri": "https://localhost:8080/",
          "height": 110
        },
        "outputId": "0b7bd5c3-fcec-453d-9f1b-7a11a8e6ccf3"
      },
      "source": [
        "dfb = dfbusan\n",
        "dfb.head(2)"
      ],
      "execution_count": 29,
      "outputs": [
        {
          "output_type": "execute_result",
          "data": {
            "text/html": [
              "<div>\n",
              "<style scoped>\n",
              "    .dataframe tbody tr th:only-of-type {\n",
              "        vertical-align: middle;\n",
              "    }\n",
              "\n",
              "    .dataframe tbody tr th {\n",
              "        vertical-align: top;\n",
              "    }\n",
              "\n",
              "    .dataframe thead th {\n",
              "        text-align: right;\n",
              "    }\n",
              "</style>\n",
              "<table border=\"1\" class=\"dataframe\">\n",
              "  <thead>\n",
              "    <tr style=\"text-align: right;\">\n",
              "      <th></th>\n",
              "      <th>일시</th>\n",
              "      <th>평균</th>\n",
              "      <th>최고</th>\n",
              "      <th>최저</th>\n",
              "    </tr>\n",
              "  </thead>\n",
              "  <tbody>\n",
              "    <tr>\n",
              "      <th>0</th>\n",
              "      <td>2017-01-01</td>\n",
              "      <td>4.1</td>\n",
              "      <td>15.1</td>\n",
              "      <td>-7.7</td>\n",
              "    </tr>\n",
              "    <tr>\n",
              "      <th>1</th>\n",
              "      <td>2017-02-01</td>\n",
              "      <td>5.5</td>\n",
              "      <td>17.7</td>\n",
              "      <td>-5.7</td>\n",
              "    </tr>\n",
              "  </tbody>\n",
              "</table>\n",
              "</div>"
            ],
            "text/plain": [
              "           일시   평균    최고   최저\n",
              "0  2017-01-01  4.1  15.1 -7.7\n",
              "1  2017-02-01  5.5  17.7 -5.7"
            ]
          },
          "metadata": {
            "tags": []
          },
          "execution_count": 29
        }
      ]
    },
    {
      "cell_type": "code",
      "metadata": {
        "id": "w9pp5tcBIYE5",
        "colab_type": "code",
        "colab": {
          "base_uri": "https://localhost:8080/",
          "height": 141
        },
        "outputId": "cc966372-eec7-499e-9956-d5c86f4c4a9c"
      },
      "source": [
        "dfb = dfb.set_index('일시')\n",
        "dfb.head(2)"
      ],
      "execution_count": 31,
      "outputs": [
        {
          "output_type": "execute_result",
          "data": {
            "text/html": [
              "<div>\n",
              "<style scoped>\n",
              "    .dataframe tbody tr th:only-of-type {\n",
              "        vertical-align: middle;\n",
              "    }\n",
              "\n",
              "    .dataframe tbody tr th {\n",
              "        vertical-align: top;\n",
              "    }\n",
              "\n",
              "    .dataframe thead th {\n",
              "        text-align: right;\n",
              "    }\n",
              "</style>\n",
              "<table border=\"1\" class=\"dataframe\">\n",
              "  <thead>\n",
              "    <tr style=\"text-align: right;\">\n",
              "      <th></th>\n",
              "      <th>평균</th>\n",
              "      <th>최고</th>\n",
              "      <th>최저</th>\n",
              "    </tr>\n",
              "    <tr>\n",
              "      <th>일시</th>\n",
              "      <th></th>\n",
              "      <th></th>\n",
              "      <th></th>\n",
              "    </tr>\n",
              "  </thead>\n",
              "  <tbody>\n",
              "    <tr>\n",
              "      <th>2017-01-01</th>\n",
              "      <td>4.1</td>\n",
              "      <td>15.1</td>\n",
              "      <td>-7.7</td>\n",
              "    </tr>\n",
              "    <tr>\n",
              "      <th>2017-02-01</th>\n",
              "      <td>5.5</td>\n",
              "      <td>17.7</td>\n",
              "      <td>-5.7</td>\n",
              "    </tr>\n",
              "  </tbody>\n",
              "</table>\n",
              "</div>"
            ],
            "text/plain": [
              "             평균    최고   최저\n",
              "일시                        \n",
              "2017-01-01  4.1  15.1 -7.7\n",
              "2017-02-01  5.5  17.7 -5.7"
            ]
          },
          "metadata": {
            "tags": []
          },
          "execution_count": 31
        }
      ]
    },
    {
      "cell_type": "code",
      "metadata": {
        "id": "qq9bNETjIkhR",
        "colab_type": "code",
        "colab": {
          "base_uri": "https://localhost:8080/",
          "height": 91
        },
        "outputId": "6c82c883-9f1f-4ee2-cc8b-d0349d377207"
      },
      "source": [
        "dfb.index.str.contains('2018')"
      ],
      "execution_count": 33,
      "outputs": [
        {
          "output_type": "execute_result",
          "data": {
            "text/plain": [
              "array([False, False, False, False, False, False, False, False, False,\n",
              "       False, False, False,  True,  True,  True,  True,  True,  True,\n",
              "        True,  True,  True,  True,  True,  True, False, False, False,\n",
              "       False, False, False])"
            ]
          },
          "metadata": {
            "tags": []
          },
          "execution_count": 33
        }
      ]
    },
    {
      "cell_type": "code",
      "metadata": {
        "id": "ZC4rPC78IyXL",
        "colab_type": "code",
        "colab": {}
      },
      "source": [
        "dfb = dfb.loc[dfb.index.str.contains('2018'), :]"
      ],
      "execution_count": 34,
      "outputs": []
    },
    {
      "cell_type": "code",
      "metadata": {
        "id": "z0yfwcBjJAEA",
        "colab_type": "code",
        "colab": {
          "base_uri": "https://localhost:8080/",
          "height": 418
        },
        "outputId": "cce9ef74-d2c2-4836-911c-1d4f90cc515d"
      },
      "source": [
        "dfb = dfb.reset_index()\n",
        "dfb"
      ],
      "execution_count": 36,
      "outputs": [
        {
          "output_type": "execute_result",
          "data": {
            "text/html": [
              "<div>\n",
              "<style scoped>\n",
              "    .dataframe tbody tr th:only-of-type {\n",
              "        vertical-align: middle;\n",
              "    }\n",
              "\n",
              "    .dataframe tbody tr th {\n",
              "        vertical-align: top;\n",
              "    }\n",
              "\n",
              "    .dataframe thead th {\n",
              "        text-align: right;\n",
              "    }\n",
              "</style>\n",
              "<table border=\"1\" class=\"dataframe\">\n",
              "  <thead>\n",
              "    <tr style=\"text-align: right;\">\n",
              "      <th></th>\n",
              "      <th>일시</th>\n",
              "      <th>평균</th>\n",
              "      <th>최고</th>\n",
              "      <th>최저</th>\n",
              "    </tr>\n",
              "  </thead>\n",
              "  <tbody>\n",
              "    <tr>\n",
              "      <th>0</th>\n",
              "      <td>2018-01-01</td>\n",
              "      <td>1.9</td>\n",
              "      <td>14.0</td>\n",
              "      <td>-9.9</td>\n",
              "    </tr>\n",
              "    <tr>\n",
              "      <th>1</th>\n",
              "      <td>2018-02-01</td>\n",
              "      <td>3.9</td>\n",
              "      <td>14.7</td>\n",
              "      <td>-9.6</td>\n",
              "    </tr>\n",
              "    <tr>\n",
              "      <th>2</th>\n",
              "      <td>2018-03-01</td>\n",
              "      <td>10.0</td>\n",
              "      <td>22.3</td>\n",
              "      <td>-0.7</td>\n",
              "    </tr>\n",
              "    <tr>\n",
              "      <th>3</th>\n",
              "      <td>2018-04-01</td>\n",
              "      <td>14.5</td>\n",
              "      <td>24.3</td>\n",
              "      <td>3.0</td>\n",
              "    </tr>\n",
              "    <tr>\n",
              "      <th>4</th>\n",
              "      <td>2018-05-01</td>\n",
              "      <td>17.8</td>\n",
              "      <td>26.6</td>\n",
              "      <td>9.8</td>\n",
              "    </tr>\n",
              "    <tr>\n",
              "      <th>5</th>\n",
              "      <td>2018-06-01</td>\n",
              "      <td>21.5</td>\n",
              "      <td>31.3</td>\n",
              "      <td>15.1</td>\n",
              "    </tr>\n",
              "    <tr>\n",
              "      <th>6</th>\n",
              "      <td>2018-07-01</td>\n",
              "      <td>26.7</td>\n",
              "      <td>35.4</td>\n",
              "      <td>17.8</td>\n",
              "    </tr>\n",
              "    <tr>\n",
              "      <th>7</th>\n",
              "      <td>2018-08-01</td>\n",
              "      <td>27.9</td>\n",
              "      <td>36.4</td>\n",
              "      <td>21.2</td>\n",
              "    </tr>\n",
              "    <tr>\n",
              "      <th>8</th>\n",
              "      <td>2018-09-01</td>\n",
              "      <td>21.9</td>\n",
              "      <td>30.0</td>\n",
              "      <td>14.9</td>\n",
              "    </tr>\n",
              "    <tr>\n",
              "      <th>9</th>\n",
              "      <td>2018-10-01</td>\n",
              "      <td>16.4</td>\n",
              "      <td>25.6</td>\n",
              "      <td>7.9</td>\n",
              "    </tr>\n",
              "    <tr>\n",
              "      <th>10</th>\n",
              "      <td>2018-11-01</td>\n",
              "      <td>12.4</td>\n",
              "      <td>22.5</td>\n",
              "      <td>2.7</td>\n",
              "    </tr>\n",
              "    <tr>\n",
              "      <th>11</th>\n",
              "      <td>2018-12-01</td>\n",
              "      <td>5.7</td>\n",
              "      <td>18.8</td>\n",
              "      <td>-7.1</td>\n",
              "    </tr>\n",
              "  </tbody>\n",
              "</table>\n",
              "</div>"
            ],
            "text/plain": [
              "            일시    평균    최고    최저\n",
              "0   2018-01-01   1.9  14.0  -9.9\n",
              "1   2018-02-01   3.9  14.7  -9.6\n",
              "2   2018-03-01  10.0  22.3  -0.7\n",
              "3   2018-04-01  14.5  24.3   3.0\n",
              "4   2018-05-01  17.8  26.6   9.8\n",
              "5   2018-06-01  21.5  31.3  15.1\n",
              "6   2018-07-01  26.7  35.4  17.8\n",
              "7   2018-08-01  27.9  36.4  21.2\n",
              "8   2018-09-01  21.9  30.0  14.9\n",
              "9   2018-10-01  16.4  25.6   7.9\n",
              "10  2018-11-01  12.4  22.5   2.7\n",
              "11  2018-12-01   5.7  18.8  -7.1"
            ]
          },
          "metadata": {
            "tags": []
          },
          "execution_count": 36
        }
      ]
    },
    {
      "cell_type": "code",
      "metadata": {
        "id": "xmadHCHSMQKY",
        "colab_type": "code",
        "colab": {
          "base_uri": "https://localhost:8080/",
          "height": 219
        },
        "outputId": "f965b400-b5c5-4025-cddb-2be5efbc46ad"
      },
      "source": [
        "dfb.info()"
      ],
      "execution_count": 39,
      "outputs": [
        {
          "output_type": "stream",
          "text": [
            "<class 'pandas.core.frame.DataFrame'>\n",
            "RangeIndex: 12 entries, 0 to 11\n",
            "Data columns (total 4 columns):\n",
            " #   Column  Non-Null Count  Dtype  \n",
            "---  ------  --------------  -----  \n",
            " 0   일시      12 non-null     object \n",
            " 1   평균      12 non-null     float64\n",
            " 2   최고      12 non-null     float64\n",
            " 3   최저      12 non-null     float64\n",
            "dtypes: float64(3), object(1)\n",
            "memory usage: 512.0+ bytes\n"
          ],
          "name": "stdout"
        }
      ]
    },
    {
      "cell_type": "code",
      "metadata": {
        "id": "Zdlk0YgDJR4x",
        "colab_type": "code",
        "colab": {
          "base_uri": "https://localhost:8080/",
          "height": 256
        },
        "outputId": "7940b62d-8c7f-45e5-c862-058813ae06c9"
      },
      "source": [
        "dfb['일시'].str.contains('2018')"
      ],
      "execution_count": 38,
      "outputs": [
        {
          "output_type": "execute_result",
          "data": {
            "text/plain": [
              "0     True\n",
              "1     True\n",
              "2     True\n",
              "3     True\n",
              "4     True\n",
              "5     True\n",
              "6     True\n",
              "7     True\n",
              "8     True\n",
              "9     True\n",
              "10    True\n",
              "11    True\n",
              "Name: 일시, dtype: bool"
            ]
          },
          "metadata": {
            "tags": []
          },
          "execution_count": 38
        }
      ]
    },
    {
      "cell_type": "markdown",
      "metadata": {
        "id": "iMJIxGQ5ZBRE",
        "colab_type": "text"
      },
      "source": [
        "#### 데이터 유형 확인 \n",
        "+ 데이터프레임.dtypes : 각열의 유형을 알려줌"
      ]
    },
    {
      "cell_type": "code",
      "metadata": {
        "id": "20dCvZmOa8me",
        "colab_type": "code",
        "colab": {
          "base_uri": "https://localhost:8080/",
          "height": 219
        },
        "outputId": "31ca4ee1-459b-497c-f40c-ecb0aa79cac7"
      },
      "source": [
        "df = dfbusan\n",
        "df.info()"
      ],
      "execution_count": 41,
      "outputs": [
        {
          "output_type": "stream",
          "text": [
            "<class 'pandas.core.frame.DataFrame'>\n",
            "RangeIndex: 30 entries, 0 to 29\n",
            "Data columns (total 4 columns):\n",
            " #   Column  Non-Null Count  Dtype  \n",
            "---  ------  --------------  -----  \n",
            " 0   일시      30 non-null     object \n",
            " 1   평균      30 non-null     float64\n",
            " 2   최고      30 non-null     float64\n",
            " 3   최저      30 non-null     float64\n",
            "dtypes: float64(3), object(1)\n",
            "memory usage: 1.1+ KB\n"
          ],
          "name": "stdout"
        }
      ]
    },
    {
      "cell_type": "code",
      "metadata": {
        "id": "u7TWPKJna5s7",
        "colab_type": "code",
        "colab": {
          "base_uri": "https://localhost:8080/",
          "height": 109
        },
        "outputId": "90799caf-40ba-41cd-b64b-0240b1509f02"
      },
      "source": [
        "df.dtypes"
      ],
      "execution_count": 42,
      "outputs": [
        {
          "output_type": "execute_result",
          "data": {
            "text/plain": [
              "일시     object\n",
              "평균    float64\n",
              "최고    float64\n",
              "최저    float64\n",
              "dtype: object"
            ]
          },
          "metadata": {
            "tags": []
          },
          "execution_count": 42
        }
      ]
    },
    {
      "cell_type": "markdown",
      "metadata": {
        "id": "qpdvtsjVbrr4",
        "colab_type": "text"
      },
      "source": [
        "+ 열시리즈.astype() : 특정 유형으로 변경\n",
        " - .astype(float64) , .astype(float32) , .astype(float16), .astype(int)\n",
        " - .astype(str)"
      ]
    },
    {
      "cell_type": "code",
      "metadata": {
        "id": "X30W0xc8NCiS",
        "colab_type": "code",
        "colab": {
          "base_uri": "https://localhost:8080/",
          "height": 110
        },
        "outputId": "305554c1-0b6c-4568-b060-f74ed554b833"
      },
      "source": [
        "df.head(2)"
      ],
      "execution_count": 44,
      "outputs": [
        {
          "output_type": "execute_result",
          "data": {
            "text/html": [
              "<div>\n",
              "<style scoped>\n",
              "    .dataframe tbody tr th:only-of-type {\n",
              "        vertical-align: middle;\n",
              "    }\n",
              "\n",
              "    .dataframe tbody tr th {\n",
              "        vertical-align: top;\n",
              "    }\n",
              "\n",
              "    .dataframe thead th {\n",
              "        text-align: right;\n",
              "    }\n",
              "</style>\n",
              "<table border=\"1\" class=\"dataframe\">\n",
              "  <thead>\n",
              "    <tr style=\"text-align: right;\">\n",
              "      <th></th>\n",
              "      <th>일시</th>\n",
              "      <th>평균</th>\n",
              "      <th>최고</th>\n",
              "      <th>최저</th>\n",
              "    </tr>\n",
              "  </thead>\n",
              "  <tbody>\n",
              "    <tr>\n",
              "      <th>0</th>\n",
              "      <td>2017-01-01</td>\n",
              "      <td>4.1</td>\n",
              "      <td>15.1</td>\n",
              "      <td>-7.7</td>\n",
              "    </tr>\n",
              "    <tr>\n",
              "      <th>1</th>\n",
              "      <td>2017-02-01</td>\n",
              "      <td>5.5</td>\n",
              "      <td>17.7</td>\n",
              "      <td>-5.7</td>\n",
              "    </tr>\n",
              "  </tbody>\n",
              "</table>\n",
              "</div>"
            ],
            "text/plain": [
              "           일시   평균    최고   최저\n",
              "0  2017-01-01  4.1  15.1 -7.7\n",
              "1  2017-02-01  5.5  17.7 -5.7"
            ]
          },
          "metadata": {
            "tags": []
          },
          "execution_count": 44
        }
      ]
    },
    {
      "cell_type": "code",
      "metadata": {
        "id": "_pVCjAzXNMnM",
        "colab_type": "code",
        "colab": {
          "base_uri": "https://localhost:8080/",
          "height": 110
        },
        "outputId": "c45add42-733b-4bc9-c93c-5a21b302b23f"
      },
      "source": [
        "df['차이'] = df['최고'] - df['최저']\n",
        "df.head(2)"
      ],
      "execution_count": 46,
      "outputs": [
        {
          "output_type": "execute_result",
          "data": {
            "text/html": [
              "<div>\n",
              "<style scoped>\n",
              "    .dataframe tbody tr th:only-of-type {\n",
              "        vertical-align: middle;\n",
              "    }\n",
              "\n",
              "    .dataframe tbody tr th {\n",
              "        vertical-align: top;\n",
              "    }\n",
              "\n",
              "    .dataframe thead th {\n",
              "        text-align: right;\n",
              "    }\n",
              "</style>\n",
              "<table border=\"1\" class=\"dataframe\">\n",
              "  <thead>\n",
              "    <tr style=\"text-align: right;\">\n",
              "      <th></th>\n",
              "      <th>일시</th>\n",
              "      <th>평균</th>\n",
              "      <th>최고</th>\n",
              "      <th>최저</th>\n",
              "      <th>차이</th>\n",
              "    </tr>\n",
              "  </thead>\n",
              "  <tbody>\n",
              "    <tr>\n",
              "      <th>0</th>\n",
              "      <td>2017-01-01</td>\n",
              "      <td>4.1</td>\n",
              "      <td>15.1</td>\n",
              "      <td>-7.7</td>\n",
              "      <td>22.8</td>\n",
              "    </tr>\n",
              "    <tr>\n",
              "      <th>1</th>\n",
              "      <td>2017-02-01</td>\n",
              "      <td>5.5</td>\n",
              "      <td>17.7</td>\n",
              "      <td>-5.7</td>\n",
              "      <td>23.4</td>\n",
              "    </tr>\n",
              "  </tbody>\n",
              "</table>\n",
              "</div>"
            ],
            "text/plain": [
              "           일시   평균    최고   최저    차이\n",
              "0  2017-01-01  4.1  15.1 -7.7  22.8\n",
              "1  2017-02-01  5.5  17.7 -5.7  23.4"
            ]
          },
          "metadata": {
            "tags": []
          },
          "execution_count": 46
        }
      ]
    },
    {
      "cell_type": "code",
      "metadata": {
        "id": "_ORAgw-vNk5o",
        "colab_type": "code",
        "colab": {
          "base_uri": "https://localhost:8080/",
          "height": 238
        },
        "outputId": "5b64c7ae-393e-462c-abb5-6e9ef4748e17"
      },
      "source": [
        "df.info()"
      ],
      "execution_count": 47,
      "outputs": [
        {
          "output_type": "stream",
          "text": [
            "<class 'pandas.core.frame.DataFrame'>\n",
            "RangeIndex: 30 entries, 0 to 29\n",
            "Data columns (total 5 columns):\n",
            " #   Column  Non-Null Count  Dtype  \n",
            "---  ------  --------------  -----  \n",
            " 0   일시      30 non-null     object \n",
            " 1   평균      30 non-null     float64\n",
            " 2   최고      30 non-null     float64\n",
            " 3   최저      30 non-null     float64\n",
            " 4   차이      30 non-null     float64\n",
            "dtypes: float64(4), object(1)\n",
            "memory usage: 1.3+ KB\n"
          ],
          "name": "stdout"
        }
      ]
    },
    {
      "cell_type": "code",
      "metadata": {
        "id": "kG0oGxbObq1R",
        "colab_type": "code",
        "colab": {
          "base_uri": "https://localhost:8080/",
          "height": 127
        },
        "outputId": "6b863a3d-55cd-4db8-d42c-5a5d93dd9a3e"
      },
      "source": [
        "df['차이'] = df['차이'].astype(int)\n",
        "df.dtypes"
      ],
      "execution_count": 48,
      "outputs": [
        {
          "output_type": "execute_result",
          "data": {
            "text/plain": [
              "일시     object\n",
              "평균    float64\n",
              "최고    float64\n",
              "최저    float64\n",
              "차이      int64\n",
              "dtype: object"
            ]
          },
          "metadata": {
            "tags": []
          },
          "execution_count": 48
        }
      ]
    },
    {
      "cell_type": "code",
      "metadata": {
        "id": "VDMRDPT8cc-M",
        "colab_type": "code",
        "colab": {
          "base_uri": "https://localhost:8080/",
          "height": 110
        },
        "outputId": "73f48174-a726-4bb3-b343-67a44065c781"
      },
      "source": [
        "df.head(2)"
      ],
      "execution_count": 49,
      "outputs": [
        {
          "output_type": "execute_result",
          "data": {
            "text/html": [
              "<div>\n",
              "<style scoped>\n",
              "    .dataframe tbody tr th:only-of-type {\n",
              "        vertical-align: middle;\n",
              "    }\n",
              "\n",
              "    .dataframe tbody tr th {\n",
              "        vertical-align: top;\n",
              "    }\n",
              "\n",
              "    .dataframe thead th {\n",
              "        text-align: right;\n",
              "    }\n",
              "</style>\n",
              "<table border=\"1\" class=\"dataframe\">\n",
              "  <thead>\n",
              "    <tr style=\"text-align: right;\">\n",
              "      <th></th>\n",
              "      <th>일시</th>\n",
              "      <th>평균</th>\n",
              "      <th>최고</th>\n",
              "      <th>최저</th>\n",
              "      <th>차이</th>\n",
              "    </tr>\n",
              "  </thead>\n",
              "  <tbody>\n",
              "    <tr>\n",
              "      <th>0</th>\n",
              "      <td>2017-01-01</td>\n",
              "      <td>4.1</td>\n",
              "      <td>15.1</td>\n",
              "      <td>-7.7</td>\n",
              "      <td>22</td>\n",
              "    </tr>\n",
              "    <tr>\n",
              "      <th>1</th>\n",
              "      <td>2017-02-01</td>\n",
              "      <td>5.5</td>\n",
              "      <td>17.7</td>\n",
              "      <td>-5.7</td>\n",
              "      <td>23</td>\n",
              "    </tr>\n",
              "  </tbody>\n",
              "</table>\n",
              "</div>"
            ],
            "text/plain": [
              "           일시   평균    최고   최저  차이\n",
              "0  2017-01-01  4.1  15.1 -7.7  22\n",
              "1  2017-02-01  5.5  17.7 -5.7  23"
            ]
          },
          "metadata": {
            "tags": []
          },
          "execution_count": 49
        }
      ]
    },
    {
      "cell_type": "markdown",
      "metadata": {
        "id": "70XE1PR5e-ae",
        "colab_type": "text"
      },
      "source": [
        "+ pd.to_numeric() : 숫자 유형으로 변경\n",
        " - errors 매개 변수 \n",
        " - errors='ignore' : 무시\n",
        " - errors='coerce' : NaN"
      ]
    },
    {
      "cell_type": "code",
      "metadata": {
        "id": "8VE7H5FPe6Dd",
        "colab_type": "code",
        "colab": {
          "base_uri": "https://localhost:8080/",
          "height": 141
        },
        "outputId": "e3547e72-4f31-4358-89fe-cbdb5d783ccc"
      },
      "source": [
        "lt = ['1','2','a']\n",
        "df2 = pd.DataFrame(lt)\n",
        "df2"
      ],
      "execution_count": 50,
      "outputs": [
        {
          "output_type": "execute_result",
          "data": {
            "text/html": [
              "<div>\n",
              "<style scoped>\n",
              "    .dataframe tbody tr th:only-of-type {\n",
              "        vertical-align: middle;\n",
              "    }\n",
              "\n",
              "    .dataframe tbody tr th {\n",
              "        vertical-align: top;\n",
              "    }\n",
              "\n",
              "    .dataframe thead th {\n",
              "        text-align: right;\n",
              "    }\n",
              "</style>\n",
              "<table border=\"1\" class=\"dataframe\">\n",
              "  <thead>\n",
              "    <tr style=\"text-align: right;\">\n",
              "      <th></th>\n",
              "      <th>0</th>\n",
              "    </tr>\n",
              "  </thead>\n",
              "  <tbody>\n",
              "    <tr>\n",
              "      <th>0</th>\n",
              "      <td>1</td>\n",
              "    </tr>\n",
              "    <tr>\n",
              "      <th>1</th>\n",
              "      <td>2</td>\n",
              "    </tr>\n",
              "    <tr>\n",
              "      <th>2</th>\n",
              "      <td>a</td>\n",
              "    </tr>\n",
              "  </tbody>\n",
              "</table>\n",
              "</div>"
            ],
            "text/plain": [
              "   0\n",
              "0  1\n",
              "1  2\n",
              "2  a"
            ]
          },
          "metadata": {
            "tags": []
          },
          "execution_count": 50
        }
      ]
    },
    {
      "cell_type": "code",
      "metadata": {
        "id": "8TxGtZRQONtZ",
        "colab_type": "code",
        "colab": {
          "base_uri": "https://localhost:8080/",
          "height": 141
        },
        "outputId": "0dacb71e-7f84-462f-8464-40e1ccc7050c"
      },
      "source": [
        "df2.columns = ['자료']\n",
        "df2"
      ],
      "execution_count": 51,
      "outputs": [
        {
          "output_type": "execute_result",
          "data": {
            "text/html": [
              "<div>\n",
              "<style scoped>\n",
              "    .dataframe tbody tr th:only-of-type {\n",
              "        vertical-align: middle;\n",
              "    }\n",
              "\n",
              "    .dataframe tbody tr th {\n",
              "        vertical-align: top;\n",
              "    }\n",
              "\n",
              "    .dataframe thead th {\n",
              "        text-align: right;\n",
              "    }\n",
              "</style>\n",
              "<table border=\"1\" class=\"dataframe\">\n",
              "  <thead>\n",
              "    <tr style=\"text-align: right;\">\n",
              "      <th></th>\n",
              "      <th>자료</th>\n",
              "    </tr>\n",
              "  </thead>\n",
              "  <tbody>\n",
              "    <tr>\n",
              "      <th>0</th>\n",
              "      <td>1</td>\n",
              "    </tr>\n",
              "    <tr>\n",
              "      <th>1</th>\n",
              "      <td>2</td>\n",
              "    </tr>\n",
              "    <tr>\n",
              "      <th>2</th>\n",
              "      <td>a</td>\n",
              "    </tr>\n",
              "  </tbody>\n",
              "</table>\n",
              "</div>"
            ],
            "text/plain": [
              "  자료\n",
              "0  1\n",
              "1  2\n",
              "2  a"
            ]
          },
          "metadata": {
            "tags": []
          },
          "execution_count": 51
        }
      ]
    },
    {
      "cell_type": "code",
      "metadata": {
        "id": "Pi7zcX1hfyuL",
        "colab_type": "code",
        "colab": {
          "base_uri": "https://localhost:8080/",
          "height": 54
        },
        "outputId": "a4cffdda-9784-40ab-e0b2-e7e665c92a26"
      },
      "source": [
        "df2.dtypes"
      ],
      "execution_count": 52,
      "outputs": [
        {
          "output_type": "execute_result",
          "data": {
            "text/plain": [
              "자료    object\n",
              "dtype: object"
            ]
          },
          "metadata": {
            "tags": []
          },
          "execution_count": 52
        }
      ]
    },
    {
      "cell_type": "code",
      "metadata": {
        "id": "XJEd2WR6Oho3",
        "colab_type": "code",
        "colab": {
          "base_uri": "https://localhost:8080/",
          "height": 110
        },
        "outputId": "bd943a10-b7a1-42b2-cc0e-fbe01582d343"
      },
      "source": [
        "df21 = df2.loc[1:2,:]\n",
        "df21"
      ],
      "execution_count": 66,
      "outputs": [
        {
          "output_type": "execute_result",
          "data": {
            "text/html": [
              "<div>\n",
              "<style scoped>\n",
              "    .dataframe tbody tr th:only-of-type {\n",
              "        vertical-align: middle;\n",
              "    }\n",
              "\n",
              "    .dataframe tbody tr th {\n",
              "        vertical-align: top;\n",
              "    }\n",
              "\n",
              "    .dataframe thead th {\n",
              "        text-align: right;\n",
              "    }\n",
              "</style>\n",
              "<table border=\"1\" class=\"dataframe\">\n",
              "  <thead>\n",
              "    <tr style=\"text-align: right;\">\n",
              "      <th></th>\n",
              "      <th>자료</th>\n",
              "    </tr>\n",
              "  </thead>\n",
              "  <tbody>\n",
              "    <tr>\n",
              "      <th>1</th>\n",
              "      <td>2.0</td>\n",
              "    </tr>\n",
              "    <tr>\n",
              "      <th>2</th>\n",
              "      <td>NaN</td>\n",
              "    </tr>\n",
              "  </tbody>\n",
              "</table>\n",
              "</div>"
            ],
            "text/plain": [
              "    자료\n",
              "1  2.0\n",
              "2  NaN"
            ]
          },
          "metadata": {
            "tags": []
          },
          "execution_count": 66
        }
      ]
    },
    {
      "cell_type": "code",
      "metadata": {
        "id": "PGYYu9fJO1ZA",
        "colab_type": "code",
        "colab": {
          "base_uri": "https://localhost:8080/",
          "height": 295
        },
        "outputId": "86da621e-f45d-4bc9-edbd-505ed7d68515"
      },
      "source": [
        "df21['자료'] = pd.to_numeric(df21['자료'])\n",
        "df21.info()"
      ],
      "execution_count": 56,
      "outputs": [
        {
          "output_type": "stream",
          "text": [
            "<class 'pandas.core.frame.DataFrame'>\n",
            "RangeIndex: 2 entries, 0 to 1\n",
            "Data columns (total 1 columns):\n",
            " #   Column  Non-Null Count  Dtype\n",
            "---  ------  --------------  -----\n",
            " 0   자료      2 non-null      int64\n",
            "dtypes: int64(1)\n",
            "memory usage: 144.0 bytes\n"
          ],
          "name": "stdout"
        },
        {
          "output_type": "stream",
          "text": [
            "/usr/local/lib/python3.6/dist-packages/ipykernel_launcher.py:1: SettingWithCopyWarning: \n",
            "A value is trying to be set on a copy of a slice from a DataFrame.\n",
            "Try using .loc[row_indexer,col_indexer] = value instead\n",
            "\n",
            "See the caveats in the documentation: https://pandas.pydata.org/pandas-docs/stable/user_guide/indexing.html#returning-a-view-versus-a-copy\n",
            "  \"\"\"Entry point for launching an IPython kernel.\n"
          ],
          "name": "stderr"
        }
      ]
    },
    {
      "cell_type": "code",
      "metadata": {
        "id": "smDu-BB-PMBb",
        "colab_type": "code",
        "colab": {
          "base_uri": "https://localhost:8080/",
          "height": 141
        },
        "outputId": "ac92288b-f544-43f4-8168-8a8f91dca8d5"
      },
      "source": [
        "df2"
      ],
      "execution_count": 57,
      "outputs": [
        {
          "output_type": "execute_result",
          "data": {
            "text/html": [
              "<div>\n",
              "<style scoped>\n",
              "    .dataframe tbody tr th:only-of-type {\n",
              "        vertical-align: middle;\n",
              "    }\n",
              "\n",
              "    .dataframe tbody tr th {\n",
              "        vertical-align: top;\n",
              "    }\n",
              "\n",
              "    .dataframe thead th {\n",
              "        text-align: right;\n",
              "    }\n",
              "</style>\n",
              "<table border=\"1\" class=\"dataframe\">\n",
              "  <thead>\n",
              "    <tr style=\"text-align: right;\">\n",
              "      <th></th>\n",
              "      <th>자료</th>\n",
              "    </tr>\n",
              "  </thead>\n",
              "  <tbody>\n",
              "    <tr>\n",
              "      <th>0</th>\n",
              "      <td>1</td>\n",
              "    </tr>\n",
              "    <tr>\n",
              "      <th>1</th>\n",
              "      <td>2</td>\n",
              "    </tr>\n",
              "    <tr>\n",
              "      <th>2</th>\n",
              "      <td>a</td>\n",
              "    </tr>\n",
              "  </tbody>\n",
              "</table>\n",
              "</div>"
            ],
            "text/plain": [
              "  자료\n",
              "0  1\n",
              "1  2\n",
              "2  a"
            ]
          },
          "metadata": {
            "tags": []
          },
          "execution_count": 57
        }
      ]
    },
    {
      "cell_type": "code",
      "metadata": {
        "id": "Z6wS1dHJgcn7",
        "colab_type": "code",
        "colab": {
          "base_uri": "https://localhost:8080/",
          "height": 506
        },
        "outputId": "371d215f-f0ad-4ec2-8a7f-c9bc5df7b4cb"
      },
      "source": [
        "df2['자료'] = pd.to_numeric(df2['자료'])\n",
        "df2.dtypes"
      ],
      "execution_count": 58,
      "outputs": [
        {
          "output_type": "error",
          "ename": "ValueError",
          "evalue": "ignored",
          "traceback": [
            "\u001b[0;31m---------------------------------------------------------------------------\u001b[0m",
            "\u001b[0;31mValueError\u001b[0m                                Traceback (most recent call last)",
            "\u001b[0;32mpandas/_libs/lib.pyx\u001b[0m in \u001b[0;36mpandas._libs.lib.maybe_convert_numeric\u001b[0;34m()\u001b[0m\n",
            "\u001b[0;31mValueError\u001b[0m: Unable to parse string \"a\"",
            "\nDuring handling of the above exception, another exception occurred:\n",
            "\u001b[0;31mValueError\u001b[0m                                Traceback (most recent call last)",
            "\u001b[0;32m<ipython-input-58-74e89c34f6e8>\u001b[0m in \u001b[0;36m<module>\u001b[0;34m()\u001b[0m\n\u001b[0;32m----> 1\u001b[0;31m \u001b[0mdf2\u001b[0m\u001b[0;34m[\u001b[0m\u001b[0;34m'자료'\u001b[0m\u001b[0;34m]\u001b[0m \u001b[0;34m=\u001b[0m \u001b[0mpd\u001b[0m\u001b[0;34m.\u001b[0m\u001b[0mto_numeric\u001b[0m\u001b[0;34m(\u001b[0m\u001b[0mdf2\u001b[0m\u001b[0;34m[\u001b[0m\u001b[0;34m'자료'\u001b[0m\u001b[0;34m]\u001b[0m\u001b[0;34m)\u001b[0m\u001b[0;34m\u001b[0m\u001b[0;34m\u001b[0m\u001b[0m\n\u001b[0m\u001b[1;32m      2\u001b[0m \u001b[0mdf2\u001b[0m\u001b[0;34m.\u001b[0m\u001b[0mdtypes\u001b[0m\u001b[0;34m\u001b[0m\u001b[0;34m\u001b[0m\u001b[0m\n",
            "\u001b[0;32m/usr/local/lib/python3.6/dist-packages/pandas/core/tools/numeric.py\u001b[0m in \u001b[0;36mto_numeric\u001b[0;34m(arg, errors, downcast)\u001b[0m\n\u001b[1;32m    148\u001b[0m         \u001b[0;32mtry\u001b[0m\u001b[0;34m:\u001b[0m\u001b[0;34m\u001b[0m\u001b[0;34m\u001b[0m\u001b[0m\n\u001b[1;32m    149\u001b[0m             values = lib.maybe_convert_numeric(\n\u001b[0;32m--> 150\u001b[0;31m                 \u001b[0mvalues\u001b[0m\u001b[0;34m,\u001b[0m \u001b[0mset\u001b[0m\u001b[0;34m(\u001b[0m\u001b[0;34m)\u001b[0m\u001b[0;34m,\u001b[0m \u001b[0mcoerce_numeric\u001b[0m\u001b[0;34m=\u001b[0m\u001b[0mcoerce_numeric\u001b[0m\u001b[0;34m\u001b[0m\u001b[0;34m\u001b[0m\u001b[0m\n\u001b[0m\u001b[1;32m    151\u001b[0m             )\n\u001b[1;32m    152\u001b[0m         \u001b[0;32mexcept\u001b[0m \u001b[0;34m(\u001b[0m\u001b[0mValueError\u001b[0m\u001b[0;34m,\u001b[0m \u001b[0mTypeError\u001b[0m\u001b[0;34m)\u001b[0m\u001b[0;34m:\u001b[0m\u001b[0;34m\u001b[0m\u001b[0;34m\u001b[0m\u001b[0m\n",
            "\u001b[0;32mpandas/_libs/lib.pyx\u001b[0m in \u001b[0;36mpandas._libs.lib.maybe_convert_numeric\u001b[0;34m()\u001b[0m\n",
            "\u001b[0;31mValueError\u001b[0m: Unable to parse string \"a\" at position 2"
          ]
        }
      ]
    },
    {
      "cell_type": "code",
      "metadata": {
        "id": "RCdB3cJphH72",
        "colab_type": "code",
        "colab": {
          "base_uri": "https://localhost:8080/",
          "height": 141
        },
        "outputId": "df8e7bac-6f26-4ac4-b701-d5fdf8b97deb"
      },
      "source": [
        "df2['자료'] = pd.to_numeric(df2['자료'], errors='ignore')\n",
        "df2"
      ],
      "execution_count": 59,
      "outputs": [
        {
          "output_type": "execute_result",
          "data": {
            "text/html": [
              "<div>\n",
              "<style scoped>\n",
              "    .dataframe tbody tr th:only-of-type {\n",
              "        vertical-align: middle;\n",
              "    }\n",
              "\n",
              "    .dataframe tbody tr th {\n",
              "        vertical-align: top;\n",
              "    }\n",
              "\n",
              "    .dataframe thead th {\n",
              "        text-align: right;\n",
              "    }\n",
              "</style>\n",
              "<table border=\"1\" class=\"dataframe\">\n",
              "  <thead>\n",
              "    <tr style=\"text-align: right;\">\n",
              "      <th></th>\n",
              "      <th>자료</th>\n",
              "    </tr>\n",
              "  </thead>\n",
              "  <tbody>\n",
              "    <tr>\n",
              "      <th>0</th>\n",
              "      <td>1</td>\n",
              "    </tr>\n",
              "    <tr>\n",
              "      <th>1</th>\n",
              "      <td>2</td>\n",
              "    </tr>\n",
              "    <tr>\n",
              "      <th>2</th>\n",
              "      <td>a</td>\n",
              "    </tr>\n",
              "  </tbody>\n",
              "</table>\n",
              "</div>"
            ],
            "text/plain": [
              "  자료\n",
              "0  1\n",
              "1  2\n",
              "2  a"
            ]
          },
          "metadata": {
            "tags": []
          },
          "execution_count": 59
        }
      ]
    },
    {
      "cell_type": "code",
      "metadata": {
        "id": "FNxUv43KhP2q",
        "colab_type": "code",
        "colab": {
          "base_uri": "https://localhost:8080/",
          "height": 54
        },
        "outputId": "b58591c3-b92c-4175-e528-dca87555d79f"
      },
      "source": [
        "df2.dtypes"
      ],
      "execution_count": 60,
      "outputs": [
        {
          "output_type": "execute_result",
          "data": {
            "text/plain": [
              "자료    object\n",
              "dtype: object"
            ]
          },
          "metadata": {
            "tags": []
          },
          "execution_count": 60
        }
      ]
    },
    {
      "cell_type": "code",
      "metadata": {
        "id": "7A2GxyXbhTpb",
        "colab_type": "code",
        "colab": {
          "base_uri": "https://localhost:8080/",
          "height": 141
        },
        "outputId": "9336f805-542f-42af-9aa3-afcc2c18b826"
      },
      "source": [
        "df2['자료'] = pd.to_numeric(df2['자료'], errors='coerce' )\n",
        "df2"
      ],
      "execution_count": 61,
      "outputs": [
        {
          "output_type": "execute_result",
          "data": {
            "text/html": [
              "<div>\n",
              "<style scoped>\n",
              "    .dataframe tbody tr th:only-of-type {\n",
              "        vertical-align: middle;\n",
              "    }\n",
              "\n",
              "    .dataframe tbody tr th {\n",
              "        vertical-align: top;\n",
              "    }\n",
              "\n",
              "    .dataframe thead th {\n",
              "        text-align: right;\n",
              "    }\n",
              "</style>\n",
              "<table border=\"1\" class=\"dataframe\">\n",
              "  <thead>\n",
              "    <tr style=\"text-align: right;\">\n",
              "      <th></th>\n",
              "      <th>자료</th>\n",
              "    </tr>\n",
              "  </thead>\n",
              "  <tbody>\n",
              "    <tr>\n",
              "      <th>0</th>\n",
              "      <td>1.0</td>\n",
              "    </tr>\n",
              "    <tr>\n",
              "      <th>1</th>\n",
              "      <td>2.0</td>\n",
              "    </tr>\n",
              "    <tr>\n",
              "      <th>2</th>\n",
              "      <td>NaN</td>\n",
              "    </tr>\n",
              "  </tbody>\n",
              "</table>\n",
              "</div>"
            ],
            "text/plain": [
              "    자료\n",
              "0  1.0\n",
              "1  2.0\n",
              "2  NaN"
            ]
          },
          "metadata": {
            "tags": []
          },
          "execution_count": 61
        }
      ]
    },
    {
      "cell_type": "code",
      "metadata": {
        "id": "MDkivDO6haB7",
        "colab_type": "code",
        "colab": {
          "base_uri": "https://localhost:8080/",
          "height": 54
        },
        "outputId": "1a821b4a-2e20-433d-b297-5979796d1e44"
      },
      "source": [
        "df2.dtypes"
      ],
      "execution_count": 62,
      "outputs": [
        {
          "output_type": "execute_result",
          "data": {
            "text/plain": [
              "자료    float64\n",
              "dtype: object"
            ]
          },
          "metadata": {
            "tags": []
          },
          "execution_count": 62
        }
      ]
    },
    {
      "cell_type": "markdown",
      "metadata": {
        "id": "CN_r0lDl19NW",
        "colab_type": "text"
      },
      "source": [
        "+ pd.to_datetime(열명)\n",
        " - .dt.year : 년도\n",
        " - .dt.month : 월\n",
        " - .dt.day : 일 "
      ]
    },
    {
      "cell_type": "code",
      "metadata": {
        "id": "mYVoKVRx18ZP",
        "colab_type": "code",
        "colab": {
          "base_uri": "https://localhost:8080/",
          "height": 238
        },
        "outputId": "429ad50c-e0a2-4759-a88d-e0d1d8caf8ad"
      },
      "source": [
        "dfbusan.info()"
      ],
      "execution_count": 63,
      "outputs": [
        {
          "output_type": "stream",
          "text": [
            "<class 'pandas.core.frame.DataFrame'>\n",
            "RangeIndex: 30 entries, 0 to 29\n",
            "Data columns (total 5 columns):\n",
            " #   Column  Non-Null Count  Dtype  \n",
            "---  ------  --------------  -----  \n",
            " 0   일시      30 non-null     object \n",
            " 1   평균      30 non-null     float64\n",
            " 2   최고      30 non-null     float64\n",
            " 3   최저      30 non-null     float64\n",
            " 4   차이      30 non-null     int64  \n",
            "dtypes: float64(3), int64(1), object(1)\n",
            "memory usage: 1.3+ KB\n"
          ],
          "name": "stdout"
        }
      ]
    },
    {
      "cell_type": "code",
      "metadata": {
        "id": "wFcf7HSOPsjs",
        "colab_type": "code",
        "colab": {
          "base_uri": "https://localhost:8080/",
          "height": 110
        },
        "outputId": "689a2511-b423-4f5c-a8cc-5c26be5668a3"
      },
      "source": [
        "dfbusan.head(2)"
      ],
      "execution_count": 64,
      "outputs": [
        {
          "output_type": "execute_result",
          "data": {
            "text/html": [
              "<div>\n",
              "<style scoped>\n",
              "    .dataframe tbody tr th:only-of-type {\n",
              "        vertical-align: middle;\n",
              "    }\n",
              "\n",
              "    .dataframe tbody tr th {\n",
              "        vertical-align: top;\n",
              "    }\n",
              "\n",
              "    .dataframe thead th {\n",
              "        text-align: right;\n",
              "    }\n",
              "</style>\n",
              "<table border=\"1\" class=\"dataframe\">\n",
              "  <thead>\n",
              "    <tr style=\"text-align: right;\">\n",
              "      <th></th>\n",
              "      <th>일시</th>\n",
              "      <th>평균</th>\n",
              "      <th>최고</th>\n",
              "      <th>최저</th>\n",
              "      <th>차이</th>\n",
              "    </tr>\n",
              "  </thead>\n",
              "  <tbody>\n",
              "    <tr>\n",
              "      <th>0</th>\n",
              "      <td>2017-01-01</td>\n",
              "      <td>4.1</td>\n",
              "      <td>15.1</td>\n",
              "      <td>-7.7</td>\n",
              "      <td>22</td>\n",
              "    </tr>\n",
              "    <tr>\n",
              "      <th>1</th>\n",
              "      <td>2017-02-01</td>\n",
              "      <td>5.5</td>\n",
              "      <td>17.7</td>\n",
              "      <td>-5.7</td>\n",
              "      <td>23</td>\n",
              "    </tr>\n",
              "  </tbody>\n",
              "</table>\n",
              "</div>"
            ],
            "text/plain": [
              "           일시   평균    최고   최저  차이\n",
              "0  2017-01-01  4.1  15.1 -7.7  22\n",
              "1  2017-02-01  5.5  17.7 -5.7  23"
            ]
          },
          "metadata": {
            "tags": []
          },
          "execution_count": 64
        }
      ]
    },
    {
      "cell_type": "code",
      "metadata": {
        "id": "LVnKM5Nn3s-Z",
        "colab_type": "code",
        "colab": {
          "base_uri": "https://localhost:8080/",
          "height": 238
        },
        "outputId": "254a8e76-f1cb-4dd9-d639-392c3506a1dd"
      },
      "source": [
        "dfbusan['일시'] = pd.to_datetime(dfbusan['일시'])\n",
        "dfbusan.info()"
      ],
      "execution_count": 67,
      "outputs": [
        {
          "output_type": "stream",
          "text": [
            "<class 'pandas.core.frame.DataFrame'>\n",
            "RangeIndex: 30 entries, 0 to 29\n",
            "Data columns (total 5 columns):\n",
            " #   Column  Non-Null Count  Dtype         \n",
            "---  ------  --------------  -----         \n",
            " 0   일시      30 non-null     datetime64[ns]\n",
            " 1   평균      30 non-null     float64       \n",
            " 2   최고      30 non-null     float64       \n",
            " 3   최저      30 non-null     float64       \n",
            " 4   차이      30 non-null     int64         \n",
            "dtypes: datetime64[ns](1), float64(3), int64(1)\n",
            "memory usage: 1.3 KB\n"
          ],
          "name": "stdout"
        }
      ]
    },
    {
      "cell_type": "code",
      "metadata": {
        "id": "cQpHy5LY4Aij",
        "colab_type": "code",
        "colab": {
          "base_uri": "https://localhost:8080/",
          "height": 251
        },
        "outputId": "f699b579-5eb0-44ed-dfb0-09752b044b20"
      },
      "source": [
        "dfbusan['일시'].dt.year"
      ],
      "execution_count": null,
      "outputs": [
        {
          "output_type": "execute_result",
          "data": {
            "text/plain": [
              "12    2018\n",
              "13    2018\n",
              "14    2018\n",
              "15    2018\n",
              "16    2018\n",
              "17    2018\n",
              "18    2018\n",
              "19    2018\n",
              "20    2018\n",
              "21    2018\n",
              "22    2018\n",
              "23    2018\n",
              "Name: 일시, dtype: int64"
            ]
          },
          "metadata": {
            "tags": []
          },
          "execution_count": 207
        }
      ]
    },
    {
      "cell_type": "markdown",
      "metadata": {
        "id": "1BrayI_-6GEB",
        "colab_type": "text"
      },
      "source": [
        "####**열 추가**"
      ]
    },
    {
      "cell_type": "code",
      "metadata": {
        "id": "1CR24MvT5hR8",
        "colab_type": "code",
        "colab": {
          "base_uri": "https://localhost:8080/",
          "height": 110
        },
        "outputId": "512b0e4c-b852-4432-cec2-0b15c59aa3a5"
      },
      "source": [
        "dfbusan['년도'] = dfbusan['일시'].dt.year\n",
        "dfbusan['월'] = dfbusan['일시'].dt.month\n",
        "dfbusan['일'] = dfbusan['일시'].dt.day\n",
        "dfbusan.head(2)"
      ],
      "execution_count": 69,
      "outputs": [
        {
          "output_type": "execute_result",
          "data": {
            "text/html": [
              "<div>\n",
              "<style scoped>\n",
              "    .dataframe tbody tr th:only-of-type {\n",
              "        vertical-align: middle;\n",
              "    }\n",
              "\n",
              "    .dataframe tbody tr th {\n",
              "        vertical-align: top;\n",
              "    }\n",
              "\n",
              "    .dataframe thead th {\n",
              "        text-align: right;\n",
              "    }\n",
              "</style>\n",
              "<table border=\"1\" class=\"dataframe\">\n",
              "  <thead>\n",
              "    <tr style=\"text-align: right;\">\n",
              "      <th></th>\n",
              "      <th>일시</th>\n",
              "      <th>평균</th>\n",
              "      <th>최고</th>\n",
              "      <th>최저</th>\n",
              "      <th>차이</th>\n",
              "      <th>년도</th>\n",
              "      <th>월</th>\n",
              "      <th>일</th>\n",
              "    </tr>\n",
              "  </thead>\n",
              "  <tbody>\n",
              "    <tr>\n",
              "      <th>0</th>\n",
              "      <td>2017-01-01</td>\n",
              "      <td>4.1</td>\n",
              "      <td>15.1</td>\n",
              "      <td>-7.7</td>\n",
              "      <td>22</td>\n",
              "      <td>2017</td>\n",
              "      <td>1</td>\n",
              "      <td>1</td>\n",
              "    </tr>\n",
              "    <tr>\n",
              "      <th>1</th>\n",
              "      <td>2017-02-01</td>\n",
              "      <td>5.5</td>\n",
              "      <td>17.7</td>\n",
              "      <td>-5.7</td>\n",
              "      <td>23</td>\n",
              "      <td>2017</td>\n",
              "      <td>2</td>\n",
              "      <td>1</td>\n",
              "    </tr>\n",
              "  </tbody>\n",
              "</table>\n",
              "</div>"
            ],
            "text/plain": [
              "          일시   평균    최고   최저  차이    년도  월  일\n",
              "0 2017-01-01  4.1  15.1 -7.7  22  2017  1  1\n",
              "1 2017-02-01  5.5  17.7 -5.7  23  2017  2  1"
            ]
          },
          "metadata": {
            "tags": []
          },
          "execution_count": 69
        }
      ]
    },
    {
      "cell_type": "code",
      "metadata": {
        "id": "7muu_Eq8QgfI",
        "colab_type": "code",
        "colab": {
          "base_uri": "https://localhost:8080/",
          "height": 418
        },
        "outputId": "429e14e1-06d0-4c8c-9dd6-d14d70342332"
      },
      "source": [
        "dfbusan[dfbusan['년도'] == 2018]"
      ],
      "execution_count": 70,
      "outputs": [
        {
          "output_type": "execute_result",
          "data": {
            "text/html": [
              "<div>\n",
              "<style scoped>\n",
              "    .dataframe tbody tr th:only-of-type {\n",
              "        vertical-align: middle;\n",
              "    }\n",
              "\n",
              "    .dataframe tbody tr th {\n",
              "        vertical-align: top;\n",
              "    }\n",
              "\n",
              "    .dataframe thead th {\n",
              "        text-align: right;\n",
              "    }\n",
              "</style>\n",
              "<table border=\"1\" class=\"dataframe\">\n",
              "  <thead>\n",
              "    <tr style=\"text-align: right;\">\n",
              "      <th></th>\n",
              "      <th>일시</th>\n",
              "      <th>평균</th>\n",
              "      <th>최고</th>\n",
              "      <th>최저</th>\n",
              "      <th>차이</th>\n",
              "      <th>년도</th>\n",
              "      <th>월</th>\n",
              "      <th>일</th>\n",
              "    </tr>\n",
              "  </thead>\n",
              "  <tbody>\n",
              "    <tr>\n",
              "      <th>12</th>\n",
              "      <td>2018-01-01</td>\n",
              "      <td>1.9</td>\n",
              "      <td>14.0</td>\n",
              "      <td>-9.9</td>\n",
              "      <td>23</td>\n",
              "      <td>2018</td>\n",
              "      <td>1</td>\n",
              "      <td>1</td>\n",
              "    </tr>\n",
              "    <tr>\n",
              "      <th>13</th>\n",
              "      <td>2018-02-01</td>\n",
              "      <td>3.9</td>\n",
              "      <td>14.7</td>\n",
              "      <td>-9.6</td>\n",
              "      <td>24</td>\n",
              "      <td>2018</td>\n",
              "      <td>2</td>\n",
              "      <td>1</td>\n",
              "    </tr>\n",
              "    <tr>\n",
              "      <th>14</th>\n",
              "      <td>2018-03-01</td>\n",
              "      <td>10.0</td>\n",
              "      <td>22.3</td>\n",
              "      <td>-0.7</td>\n",
              "      <td>23</td>\n",
              "      <td>2018</td>\n",
              "      <td>3</td>\n",
              "      <td>1</td>\n",
              "    </tr>\n",
              "    <tr>\n",
              "      <th>15</th>\n",
              "      <td>2018-04-01</td>\n",
              "      <td>14.5</td>\n",
              "      <td>24.3</td>\n",
              "      <td>3.0</td>\n",
              "      <td>21</td>\n",
              "      <td>2018</td>\n",
              "      <td>4</td>\n",
              "      <td>1</td>\n",
              "    </tr>\n",
              "    <tr>\n",
              "      <th>16</th>\n",
              "      <td>2018-05-01</td>\n",
              "      <td>17.8</td>\n",
              "      <td>26.6</td>\n",
              "      <td>9.8</td>\n",
              "      <td>16</td>\n",
              "      <td>2018</td>\n",
              "      <td>5</td>\n",
              "      <td>1</td>\n",
              "    </tr>\n",
              "    <tr>\n",
              "      <th>17</th>\n",
              "      <td>2018-06-01</td>\n",
              "      <td>21.5</td>\n",
              "      <td>31.3</td>\n",
              "      <td>15.1</td>\n",
              "      <td>16</td>\n",
              "      <td>2018</td>\n",
              "      <td>6</td>\n",
              "      <td>1</td>\n",
              "    </tr>\n",
              "    <tr>\n",
              "      <th>18</th>\n",
              "      <td>2018-07-01</td>\n",
              "      <td>26.7</td>\n",
              "      <td>35.4</td>\n",
              "      <td>17.8</td>\n",
              "      <td>17</td>\n",
              "      <td>2018</td>\n",
              "      <td>7</td>\n",
              "      <td>1</td>\n",
              "    </tr>\n",
              "    <tr>\n",
              "      <th>19</th>\n",
              "      <td>2018-08-01</td>\n",
              "      <td>27.9</td>\n",
              "      <td>36.4</td>\n",
              "      <td>21.2</td>\n",
              "      <td>15</td>\n",
              "      <td>2018</td>\n",
              "      <td>8</td>\n",
              "      <td>1</td>\n",
              "    </tr>\n",
              "    <tr>\n",
              "      <th>20</th>\n",
              "      <td>2018-09-01</td>\n",
              "      <td>21.9</td>\n",
              "      <td>30.0</td>\n",
              "      <td>14.9</td>\n",
              "      <td>15</td>\n",
              "      <td>2018</td>\n",
              "      <td>9</td>\n",
              "      <td>1</td>\n",
              "    </tr>\n",
              "    <tr>\n",
              "      <th>21</th>\n",
              "      <td>2018-10-01</td>\n",
              "      <td>16.4</td>\n",
              "      <td>25.6</td>\n",
              "      <td>7.9</td>\n",
              "      <td>17</td>\n",
              "      <td>2018</td>\n",
              "      <td>10</td>\n",
              "      <td>1</td>\n",
              "    </tr>\n",
              "    <tr>\n",
              "      <th>22</th>\n",
              "      <td>2018-11-01</td>\n",
              "      <td>12.4</td>\n",
              "      <td>22.5</td>\n",
              "      <td>2.7</td>\n",
              "      <td>19</td>\n",
              "      <td>2018</td>\n",
              "      <td>11</td>\n",
              "      <td>1</td>\n",
              "    </tr>\n",
              "    <tr>\n",
              "      <th>23</th>\n",
              "      <td>2018-12-01</td>\n",
              "      <td>5.7</td>\n",
              "      <td>18.8</td>\n",
              "      <td>-7.1</td>\n",
              "      <td>25</td>\n",
              "      <td>2018</td>\n",
              "      <td>12</td>\n",
              "      <td>1</td>\n",
              "    </tr>\n",
              "  </tbody>\n",
              "</table>\n",
              "</div>"
            ],
            "text/plain": [
              "           일시    평균    최고    최저  차이    년도   월  일\n",
              "12 2018-01-01   1.9  14.0  -9.9  23  2018   1  1\n",
              "13 2018-02-01   3.9  14.7  -9.6  24  2018   2  1\n",
              "14 2018-03-01  10.0  22.3  -0.7  23  2018   3  1\n",
              "15 2018-04-01  14.5  24.3   3.0  21  2018   4  1\n",
              "16 2018-05-01  17.8  26.6   9.8  16  2018   5  1\n",
              "17 2018-06-01  21.5  31.3  15.1  16  2018   6  1\n",
              "18 2018-07-01  26.7  35.4  17.8  17  2018   7  1\n",
              "19 2018-08-01  27.9  36.4  21.2  15  2018   8  1\n",
              "20 2018-09-01  21.9  30.0  14.9  15  2018   9  1\n",
              "21 2018-10-01  16.4  25.6   7.9  17  2018  10  1\n",
              "22 2018-11-01  12.4  22.5   2.7  19  2018  11  1\n",
              "23 2018-12-01   5.7  18.8  -7.1  25  2018  12  1"
            ]
          },
          "metadata": {
            "tags": []
          },
          "execution_count": 70
        }
      ]
    },
    {
      "cell_type": "code",
      "metadata": {
        "id": "2E5DbC4r6FVJ",
        "colab_type": "code",
        "colab": {
          "base_uri": "https://localhost:8080/",
          "height": 421
        },
        "outputId": "ba8aae69-290f-4eae-d6e6-f36051a55ce9"
      },
      "source": [
        "dfbusan['차이'] = dfbusan['최고'] - dfbusan['최저']\n",
        "dfbusan"
      ],
      "execution_count": null,
      "outputs": [
        {
          "output_type": "execute_result",
          "data": {
            "text/html": [
              "<div>\n",
              "<style scoped>\n",
              "    .dataframe tbody tr th:only-of-type {\n",
              "        vertical-align: middle;\n",
              "    }\n",
              "\n",
              "    .dataframe tbody tr th {\n",
              "        vertical-align: top;\n",
              "    }\n",
              "\n",
              "    .dataframe thead th {\n",
              "        text-align: right;\n",
              "    }\n",
              "</style>\n",
              "<table border=\"1\" class=\"dataframe\">\n",
              "  <thead>\n",
              "    <tr style=\"text-align: right;\">\n",
              "      <th></th>\n",
              "      <th>일시</th>\n",
              "      <th>최고</th>\n",
              "      <th>최저</th>\n",
              "      <th>차이</th>\n",
              "    </tr>\n",
              "  </thead>\n",
              "  <tbody>\n",
              "    <tr>\n",
              "      <th>12</th>\n",
              "      <td>2018-01-01</td>\n",
              "      <td>14.0</td>\n",
              "      <td>-9.9</td>\n",
              "      <td>23.9</td>\n",
              "    </tr>\n",
              "    <tr>\n",
              "      <th>13</th>\n",
              "      <td>2018-02-01</td>\n",
              "      <td>14.7</td>\n",
              "      <td>-9.6</td>\n",
              "      <td>24.3</td>\n",
              "    </tr>\n",
              "    <tr>\n",
              "      <th>14</th>\n",
              "      <td>2018-03-01</td>\n",
              "      <td>22.3</td>\n",
              "      <td>-0.7</td>\n",
              "      <td>23.0</td>\n",
              "    </tr>\n",
              "    <tr>\n",
              "      <th>15</th>\n",
              "      <td>2018-04-01</td>\n",
              "      <td>24.3</td>\n",
              "      <td>3.0</td>\n",
              "      <td>21.3</td>\n",
              "    </tr>\n",
              "    <tr>\n",
              "      <th>16</th>\n",
              "      <td>2018-05-01</td>\n",
              "      <td>26.6</td>\n",
              "      <td>9.8</td>\n",
              "      <td>16.8</td>\n",
              "    </tr>\n",
              "    <tr>\n",
              "      <th>17</th>\n",
              "      <td>2018-06-01</td>\n",
              "      <td>31.3</td>\n",
              "      <td>15.1</td>\n",
              "      <td>16.2</td>\n",
              "    </tr>\n",
              "    <tr>\n",
              "      <th>18</th>\n",
              "      <td>2018-07-01</td>\n",
              "      <td>35.4</td>\n",
              "      <td>17.8</td>\n",
              "      <td>17.6</td>\n",
              "    </tr>\n",
              "    <tr>\n",
              "      <th>19</th>\n",
              "      <td>2018-08-01</td>\n",
              "      <td>36.4</td>\n",
              "      <td>21.2</td>\n",
              "      <td>15.2</td>\n",
              "    </tr>\n",
              "    <tr>\n",
              "      <th>20</th>\n",
              "      <td>2018-09-01</td>\n",
              "      <td>30.0</td>\n",
              "      <td>14.9</td>\n",
              "      <td>15.1</td>\n",
              "    </tr>\n",
              "    <tr>\n",
              "      <th>21</th>\n",
              "      <td>2018-10-01</td>\n",
              "      <td>25.6</td>\n",
              "      <td>7.9</td>\n",
              "      <td>17.7</td>\n",
              "    </tr>\n",
              "    <tr>\n",
              "      <th>22</th>\n",
              "      <td>2018-11-01</td>\n",
              "      <td>22.5</td>\n",
              "      <td>2.7</td>\n",
              "      <td>19.8</td>\n",
              "    </tr>\n",
              "    <tr>\n",
              "      <th>23</th>\n",
              "      <td>2018-12-01</td>\n",
              "      <td>18.8</td>\n",
              "      <td>-7.1</td>\n",
              "      <td>25.9</td>\n",
              "    </tr>\n",
              "  </tbody>\n",
              "</table>\n",
              "</div>"
            ],
            "text/plain": [
              "           일시    최고    최저    차이\n",
              "12 2018-01-01  14.0  -9.9  23.9\n",
              "13 2018-02-01  14.7  -9.6  24.3\n",
              "14 2018-03-01  22.3  -0.7  23.0\n",
              "15 2018-04-01  24.3   3.0  21.3\n",
              "16 2018-05-01  26.6   9.8  16.8\n",
              "17 2018-06-01  31.3  15.1  16.2\n",
              "18 2018-07-01  35.4  17.8  17.6\n",
              "19 2018-08-01  36.4  21.2  15.2\n",
              "20 2018-09-01  30.0  14.9  15.1\n",
              "21 2018-10-01  25.6   7.9  17.7\n",
              "22 2018-11-01  22.5   2.7  19.8\n",
              "23 2018-12-01  18.8  -7.1  25.9"
            ]
          },
          "metadata": {
            "tags": []
          },
          "execution_count": 208
        }
      ]
    },
    {
      "cell_type": "code",
      "metadata": {
        "id": "HmJZrZx7RwA0",
        "colab_type": "code",
        "colab": {}
      },
      "source": [
        "dfbusan = dfbusan.drop('평균', axis=1)"
      ],
      "execution_count": 79,
      "outputs": []
    },
    {
      "cell_type": "code",
      "metadata": {
        "id": "XESv8_JIRjsj",
        "colab_type": "code",
        "colab": {
          "base_uri": "https://localhost:8080/",
          "height": 275
        },
        "outputId": "145744f9-80a9-4962-c676-1046f25dabe8"
      },
      "source": [
        "dfbusan.info()"
      ],
      "execution_count": 80,
      "outputs": [
        {
          "output_type": "stream",
          "text": [
            "<class 'pandas.core.frame.DataFrame'>\n",
            "RangeIndex: 30 entries, 0 to 29\n",
            "Data columns (total 7 columns):\n",
            " #   Column  Non-Null Count  Dtype         \n",
            "---  ------  --------------  -----         \n",
            " 0   일시      30 non-null     datetime64[ns]\n",
            " 1   최고      30 non-null     float64       \n",
            " 2   최저      30 non-null     float64       \n",
            " 3   차이      30 non-null     int64         \n",
            " 4   년도      30 non-null     int64         \n",
            " 5   월       30 non-null     int64         \n",
            " 6   일       30 non-null     int64         \n",
            "dtypes: datetime64[ns](1), float64(2), int64(4)\n",
            "memory usage: 1.8 KB\n"
          ],
          "name": "stdout"
        }
      ]
    },
    {
      "cell_type": "code",
      "metadata": {
        "id": "YnpNPQrnRDSE",
        "colab_type": "code",
        "colab": {}
      },
      "source": [
        "dftemp = dfbusan"
      ],
      "execution_count": 83,
      "outputs": []
    },
    {
      "cell_type": "code",
      "metadata": {
        "id": "IwX1cculRcwn",
        "colab_type": "code",
        "colab": {
          "base_uri": "https://localhost:8080/",
          "height": 146
        },
        "outputId": "a4068646-9bc4-455b-df24-0d53f8a1b991"
      },
      "source": [
        "dftemp.mean()"
      ],
      "execution_count": 84,
      "outputs": [
        {
          "output_type": "execute_result",
          "data": {
            "text/plain": [
              "최고      24.480000\n",
              "최저       5.256667\n",
              "차이      18.766667\n",
              "년도    2017.800000\n",
              "월        5.900000\n",
              "일        1.000000\n",
              "dtype: float64"
            ]
          },
          "metadata": {
            "tags": []
          },
          "execution_count": 84
        }
      ]
    },
    {
      "cell_type": "code",
      "metadata": {
        "id": "veofxTHjRKYr",
        "colab_type": "code",
        "colab": {
          "base_uri": "https://localhost:8080/",
          "height": 973
        },
        "outputId": "bce4c6f0-86d4-4e53-ed3f-bcfa74ede2be"
      },
      "source": [
        "dftemp['평균'] = dftemp.mean()\n",
        "dftemp"
      ],
      "execution_count": 72,
      "outputs": [
        {
          "output_type": "execute_result",
          "data": {
            "text/html": [
              "<div>\n",
              "<style scoped>\n",
              "    .dataframe tbody tr th:only-of-type {\n",
              "        vertical-align: middle;\n",
              "    }\n",
              "\n",
              "    .dataframe tbody tr th {\n",
              "        vertical-align: top;\n",
              "    }\n",
              "\n",
              "    .dataframe thead th {\n",
              "        text-align: right;\n",
              "    }\n",
              "</style>\n",
              "<table border=\"1\" class=\"dataframe\">\n",
              "  <thead>\n",
              "    <tr style=\"text-align: right;\">\n",
              "      <th></th>\n",
              "      <th>일시</th>\n",
              "      <th>평균</th>\n",
              "      <th>최고</th>\n",
              "      <th>최저</th>\n",
              "      <th>차이</th>\n",
              "      <th>년도</th>\n",
              "      <th>월</th>\n",
              "      <th>일</th>\n",
              "    </tr>\n",
              "  </thead>\n",
              "  <tbody>\n",
              "    <tr>\n",
              "      <th>0</th>\n",
              "      <td>2017-01-01</td>\n",
              "      <td>NaN</td>\n",
              "      <td>15.1</td>\n",
              "      <td>-7.7</td>\n",
              "      <td>22</td>\n",
              "      <td>2017</td>\n",
              "      <td>1</td>\n",
              "      <td>1</td>\n",
              "    </tr>\n",
              "    <tr>\n",
              "      <th>1</th>\n",
              "      <td>2017-02-01</td>\n",
              "      <td>NaN</td>\n",
              "      <td>17.7</td>\n",
              "      <td>-5.7</td>\n",
              "      <td>23</td>\n",
              "      <td>2017</td>\n",
              "      <td>2</td>\n",
              "      <td>1</td>\n",
              "    </tr>\n",
              "    <tr>\n",
              "      <th>2</th>\n",
              "      <td>2017-03-01</td>\n",
              "      <td>NaN</td>\n",
              "      <td>18.1</td>\n",
              "      <td>-2.3</td>\n",
              "      <td>20</td>\n",
              "      <td>2017</td>\n",
              "      <td>3</td>\n",
              "      <td>1</td>\n",
              "    </tr>\n",
              "    <tr>\n",
              "      <th>3</th>\n",
              "      <td>2017-04-01</td>\n",
              "      <td>NaN</td>\n",
              "      <td>23.2</td>\n",
              "      <td>5.0</td>\n",
              "      <td>18</td>\n",
              "      <td>2017</td>\n",
              "      <td>4</td>\n",
              "      <td>1</td>\n",
              "    </tr>\n",
              "    <tr>\n",
              "      <th>4</th>\n",
              "      <td>2017-05-01</td>\n",
              "      <td>NaN</td>\n",
              "      <td>28.2</td>\n",
              "      <td>12.8</td>\n",
              "      <td>15</td>\n",
              "      <td>2017</td>\n",
              "      <td>5</td>\n",
              "      <td>1</td>\n",
              "    </tr>\n",
              "    <tr>\n",
              "      <th>5</th>\n",
              "      <td>2017-06-01</td>\n",
              "      <td>NaN</td>\n",
              "      <td>30.4</td>\n",
              "      <td>15.4</td>\n",
              "      <td>14</td>\n",
              "      <td>2017</td>\n",
              "      <td>6</td>\n",
              "      <td>1</td>\n",
              "    </tr>\n",
              "    <tr>\n",
              "      <th>6</th>\n",
              "      <td>2017-07-01</td>\n",
              "      <td>NaN</td>\n",
              "      <td>32.7</td>\n",
              "      <td>21.2</td>\n",
              "      <td>11</td>\n",
              "      <td>2017</td>\n",
              "      <td>7</td>\n",
              "      <td>1</td>\n",
              "    </tr>\n",
              "    <tr>\n",
              "      <th>7</th>\n",
              "      <td>2017-08-01</td>\n",
              "      <td>NaN</td>\n",
              "      <td>36.2</td>\n",
              "      <td>18.7</td>\n",
              "      <td>17</td>\n",
              "      <td>2017</td>\n",
              "      <td>8</td>\n",
              "      <td>1</td>\n",
              "    </tr>\n",
              "    <tr>\n",
              "      <th>8</th>\n",
              "      <td>2017-09-01</td>\n",
              "      <td>NaN</td>\n",
              "      <td>29.7</td>\n",
              "      <td>14.5</td>\n",
              "      <td>15</td>\n",
              "      <td>2017</td>\n",
              "      <td>9</td>\n",
              "      <td>1</td>\n",
              "    </tr>\n",
              "    <tr>\n",
              "      <th>9</th>\n",
              "      <td>2017-10-01</td>\n",
              "      <td>NaN</td>\n",
              "      <td>28.7</td>\n",
              "      <td>7.3</td>\n",
              "      <td>21</td>\n",
              "      <td>2017</td>\n",
              "      <td>10</td>\n",
              "      <td>1</td>\n",
              "    </tr>\n",
              "    <tr>\n",
              "      <th>10</th>\n",
              "      <td>2017-11-01</td>\n",
              "      <td>NaN</td>\n",
              "      <td>23.6</td>\n",
              "      <td>-1.0</td>\n",
              "      <td>24</td>\n",
              "      <td>2017</td>\n",
              "      <td>11</td>\n",
              "      <td>1</td>\n",
              "    </tr>\n",
              "    <tr>\n",
              "      <th>11</th>\n",
              "      <td>2017-12-01</td>\n",
              "      <td>NaN</td>\n",
              "      <td>14.5</td>\n",
              "      <td>-6.1</td>\n",
              "      <td>20</td>\n",
              "      <td>2017</td>\n",
              "      <td>12</td>\n",
              "      <td>1</td>\n",
              "    </tr>\n",
              "    <tr>\n",
              "      <th>12</th>\n",
              "      <td>2018-01-01</td>\n",
              "      <td>NaN</td>\n",
              "      <td>14.0</td>\n",
              "      <td>-9.9</td>\n",
              "      <td>23</td>\n",
              "      <td>2018</td>\n",
              "      <td>1</td>\n",
              "      <td>1</td>\n",
              "    </tr>\n",
              "    <tr>\n",
              "      <th>13</th>\n",
              "      <td>2018-02-01</td>\n",
              "      <td>NaN</td>\n",
              "      <td>14.7</td>\n",
              "      <td>-9.6</td>\n",
              "      <td>24</td>\n",
              "      <td>2018</td>\n",
              "      <td>2</td>\n",
              "      <td>1</td>\n",
              "    </tr>\n",
              "    <tr>\n",
              "      <th>14</th>\n",
              "      <td>2018-03-01</td>\n",
              "      <td>NaN</td>\n",
              "      <td>22.3</td>\n",
              "      <td>-0.7</td>\n",
              "      <td>23</td>\n",
              "      <td>2018</td>\n",
              "      <td>3</td>\n",
              "      <td>1</td>\n",
              "    </tr>\n",
              "    <tr>\n",
              "      <th>15</th>\n",
              "      <td>2018-04-01</td>\n",
              "      <td>NaN</td>\n",
              "      <td>24.3</td>\n",
              "      <td>3.0</td>\n",
              "      <td>21</td>\n",
              "      <td>2018</td>\n",
              "      <td>4</td>\n",
              "      <td>1</td>\n",
              "    </tr>\n",
              "    <tr>\n",
              "      <th>16</th>\n",
              "      <td>2018-05-01</td>\n",
              "      <td>NaN</td>\n",
              "      <td>26.6</td>\n",
              "      <td>9.8</td>\n",
              "      <td>16</td>\n",
              "      <td>2018</td>\n",
              "      <td>5</td>\n",
              "      <td>1</td>\n",
              "    </tr>\n",
              "    <tr>\n",
              "      <th>17</th>\n",
              "      <td>2018-06-01</td>\n",
              "      <td>NaN</td>\n",
              "      <td>31.3</td>\n",
              "      <td>15.1</td>\n",
              "      <td>16</td>\n",
              "      <td>2018</td>\n",
              "      <td>6</td>\n",
              "      <td>1</td>\n",
              "    </tr>\n",
              "    <tr>\n",
              "      <th>18</th>\n",
              "      <td>2018-07-01</td>\n",
              "      <td>NaN</td>\n",
              "      <td>35.4</td>\n",
              "      <td>17.8</td>\n",
              "      <td>17</td>\n",
              "      <td>2018</td>\n",
              "      <td>7</td>\n",
              "      <td>1</td>\n",
              "    </tr>\n",
              "    <tr>\n",
              "      <th>19</th>\n",
              "      <td>2018-08-01</td>\n",
              "      <td>NaN</td>\n",
              "      <td>36.4</td>\n",
              "      <td>21.2</td>\n",
              "      <td>15</td>\n",
              "      <td>2018</td>\n",
              "      <td>8</td>\n",
              "      <td>1</td>\n",
              "    </tr>\n",
              "    <tr>\n",
              "      <th>20</th>\n",
              "      <td>2018-09-01</td>\n",
              "      <td>NaN</td>\n",
              "      <td>30.0</td>\n",
              "      <td>14.9</td>\n",
              "      <td>15</td>\n",
              "      <td>2018</td>\n",
              "      <td>9</td>\n",
              "      <td>1</td>\n",
              "    </tr>\n",
              "    <tr>\n",
              "      <th>21</th>\n",
              "      <td>2018-10-01</td>\n",
              "      <td>NaN</td>\n",
              "      <td>25.6</td>\n",
              "      <td>7.9</td>\n",
              "      <td>17</td>\n",
              "      <td>2018</td>\n",
              "      <td>10</td>\n",
              "      <td>1</td>\n",
              "    </tr>\n",
              "    <tr>\n",
              "      <th>22</th>\n",
              "      <td>2018-11-01</td>\n",
              "      <td>NaN</td>\n",
              "      <td>22.5</td>\n",
              "      <td>2.7</td>\n",
              "      <td>19</td>\n",
              "      <td>2018</td>\n",
              "      <td>11</td>\n",
              "      <td>1</td>\n",
              "    </tr>\n",
              "    <tr>\n",
              "      <th>23</th>\n",
              "      <td>2018-12-01</td>\n",
              "      <td>NaN</td>\n",
              "      <td>18.8</td>\n",
              "      <td>-7.1</td>\n",
              "      <td>25</td>\n",
              "      <td>2018</td>\n",
              "      <td>12</td>\n",
              "      <td>1</td>\n",
              "    </tr>\n",
              "    <tr>\n",
              "      <th>24</th>\n",
              "      <td>2019-01-01</td>\n",
              "      <td>NaN</td>\n",
              "      <td>13.7</td>\n",
              "      <td>-4.4</td>\n",
              "      <td>18</td>\n",
              "      <td>2019</td>\n",
              "      <td>1</td>\n",
              "      <td>1</td>\n",
              "    </tr>\n",
              "    <tr>\n",
              "      <th>25</th>\n",
              "      <td>2019-02-01</td>\n",
              "      <td>NaN</td>\n",
              "      <td>16.5</td>\n",
              "      <td>-4.2</td>\n",
              "      <td>20</td>\n",
              "      <td>2019</td>\n",
              "      <td>2</td>\n",
              "      <td>1</td>\n",
              "    </tr>\n",
              "    <tr>\n",
              "      <th>26</th>\n",
              "      <td>2019-03-01</td>\n",
              "      <td>NaN</td>\n",
              "      <td>21.0</td>\n",
              "      <td>0.5</td>\n",
              "      <td>20</td>\n",
              "      <td>2019</td>\n",
              "      <td>3</td>\n",
              "      <td>1</td>\n",
              "    </tr>\n",
              "    <tr>\n",
              "      <th>27</th>\n",
              "      <td>2019-04-01</td>\n",
              "      <td>NaN</td>\n",
              "      <td>23.4</td>\n",
              "      <td>2.1</td>\n",
              "      <td>21</td>\n",
              "      <td>2019</td>\n",
              "      <td>4</td>\n",
              "      <td>1</td>\n",
              "    </tr>\n",
              "    <tr>\n",
              "      <th>28</th>\n",
              "      <td>2019-05-01</td>\n",
              "      <td>NaN</td>\n",
              "      <td>30.1</td>\n",
              "      <td>11.0</td>\n",
              "      <td>19</td>\n",
              "      <td>2019</td>\n",
              "      <td>5</td>\n",
              "      <td>1</td>\n",
              "    </tr>\n",
              "    <tr>\n",
              "      <th>29</th>\n",
              "      <td>2019-06-01</td>\n",
              "      <td>NaN</td>\n",
              "      <td>29.7</td>\n",
              "      <td>15.5</td>\n",
              "      <td>14</td>\n",
              "      <td>2019</td>\n",
              "      <td>6</td>\n",
              "      <td>1</td>\n",
              "    </tr>\n",
              "  </tbody>\n",
              "</table>\n",
              "</div>"
            ],
            "text/plain": [
              "           일시  평균    최고    최저  차이    년도   월  일\n",
              "0  2017-01-01 NaN  15.1  -7.7  22  2017   1  1\n",
              "1  2017-02-01 NaN  17.7  -5.7  23  2017   2  1\n",
              "2  2017-03-01 NaN  18.1  -2.3  20  2017   3  1\n",
              "3  2017-04-01 NaN  23.2   5.0  18  2017   4  1\n",
              "4  2017-05-01 NaN  28.2  12.8  15  2017   5  1\n",
              "5  2017-06-01 NaN  30.4  15.4  14  2017   6  1\n",
              "6  2017-07-01 NaN  32.7  21.2  11  2017   7  1\n",
              "7  2017-08-01 NaN  36.2  18.7  17  2017   8  1\n",
              "8  2017-09-01 NaN  29.7  14.5  15  2017   9  1\n",
              "9  2017-10-01 NaN  28.7   7.3  21  2017  10  1\n",
              "10 2017-11-01 NaN  23.6  -1.0  24  2017  11  1\n",
              "11 2017-12-01 NaN  14.5  -6.1  20  2017  12  1\n",
              "12 2018-01-01 NaN  14.0  -9.9  23  2018   1  1\n",
              "13 2018-02-01 NaN  14.7  -9.6  24  2018   2  1\n",
              "14 2018-03-01 NaN  22.3  -0.7  23  2018   3  1\n",
              "15 2018-04-01 NaN  24.3   3.0  21  2018   4  1\n",
              "16 2018-05-01 NaN  26.6   9.8  16  2018   5  1\n",
              "17 2018-06-01 NaN  31.3  15.1  16  2018   6  1\n",
              "18 2018-07-01 NaN  35.4  17.8  17  2018   7  1\n",
              "19 2018-08-01 NaN  36.4  21.2  15  2018   8  1\n",
              "20 2018-09-01 NaN  30.0  14.9  15  2018   9  1\n",
              "21 2018-10-01 NaN  25.6   7.9  17  2018  10  1\n",
              "22 2018-11-01 NaN  22.5   2.7  19  2018  11  1\n",
              "23 2018-12-01 NaN  18.8  -7.1  25  2018  12  1\n",
              "24 2019-01-01 NaN  13.7  -4.4  18  2019   1  1\n",
              "25 2019-02-01 NaN  16.5  -4.2  20  2019   2  1\n",
              "26 2019-03-01 NaN  21.0   0.5  20  2019   3  1\n",
              "27 2019-04-01 NaN  23.4   2.1  21  2019   4  1\n",
              "28 2019-05-01 NaN  30.1  11.0  19  2019   5  1\n",
              "29 2019-06-01 NaN  29.7  15.5  14  2019   6  1"
            ]
          },
          "metadata": {
            "tags": []
          },
          "execution_count": 72
        }
      ]
    },
    {
      "cell_type": "code",
      "metadata": {
        "id": "AWIXxGsGUxFw",
        "colab_type": "code",
        "colab": {
          "base_uri": "https://localhost:8080/",
          "height": 973
        },
        "outputId": "5fee22e5-a64f-47e5-b0e7-cb427555e58f"
      },
      "source": [
        "dfbusan['평균'] = dfbusan[['최고','최저']].mean(axis=1)\n",
        "dfbusan"
      ],
      "execution_count": 85,
      "outputs": [
        {
          "output_type": "execute_result",
          "data": {
            "text/html": [
              "<div>\n",
              "<style scoped>\n",
              "    .dataframe tbody tr th:only-of-type {\n",
              "        vertical-align: middle;\n",
              "    }\n",
              "\n",
              "    .dataframe tbody tr th {\n",
              "        vertical-align: top;\n",
              "    }\n",
              "\n",
              "    .dataframe thead th {\n",
              "        text-align: right;\n",
              "    }\n",
              "</style>\n",
              "<table border=\"1\" class=\"dataframe\">\n",
              "  <thead>\n",
              "    <tr style=\"text-align: right;\">\n",
              "      <th></th>\n",
              "      <th>일시</th>\n",
              "      <th>최고</th>\n",
              "      <th>최저</th>\n",
              "      <th>차이</th>\n",
              "      <th>년도</th>\n",
              "      <th>월</th>\n",
              "      <th>일</th>\n",
              "      <th>평균</th>\n",
              "    </tr>\n",
              "  </thead>\n",
              "  <tbody>\n",
              "    <tr>\n",
              "      <th>0</th>\n",
              "      <td>2017-01-01</td>\n",
              "      <td>15.1</td>\n",
              "      <td>-7.7</td>\n",
              "      <td>22</td>\n",
              "      <td>2017</td>\n",
              "      <td>1</td>\n",
              "      <td>1</td>\n",
              "      <td>3.70</td>\n",
              "    </tr>\n",
              "    <tr>\n",
              "      <th>1</th>\n",
              "      <td>2017-02-01</td>\n",
              "      <td>17.7</td>\n",
              "      <td>-5.7</td>\n",
              "      <td>23</td>\n",
              "      <td>2017</td>\n",
              "      <td>2</td>\n",
              "      <td>1</td>\n",
              "      <td>6.00</td>\n",
              "    </tr>\n",
              "    <tr>\n",
              "      <th>2</th>\n",
              "      <td>2017-03-01</td>\n",
              "      <td>18.1</td>\n",
              "      <td>-2.3</td>\n",
              "      <td>20</td>\n",
              "      <td>2017</td>\n",
              "      <td>3</td>\n",
              "      <td>1</td>\n",
              "      <td>7.90</td>\n",
              "    </tr>\n",
              "    <tr>\n",
              "      <th>3</th>\n",
              "      <td>2017-04-01</td>\n",
              "      <td>23.2</td>\n",
              "      <td>5.0</td>\n",
              "      <td>18</td>\n",
              "      <td>2017</td>\n",
              "      <td>4</td>\n",
              "      <td>1</td>\n",
              "      <td>14.10</td>\n",
              "    </tr>\n",
              "    <tr>\n",
              "      <th>4</th>\n",
              "      <td>2017-05-01</td>\n",
              "      <td>28.2</td>\n",
              "      <td>12.8</td>\n",
              "      <td>15</td>\n",
              "      <td>2017</td>\n",
              "      <td>5</td>\n",
              "      <td>1</td>\n",
              "      <td>20.50</td>\n",
              "    </tr>\n",
              "    <tr>\n",
              "      <th>5</th>\n",
              "      <td>2017-06-01</td>\n",
              "      <td>30.4</td>\n",
              "      <td>15.4</td>\n",
              "      <td>14</td>\n",
              "      <td>2017</td>\n",
              "      <td>6</td>\n",
              "      <td>1</td>\n",
              "      <td>22.90</td>\n",
              "    </tr>\n",
              "    <tr>\n",
              "      <th>6</th>\n",
              "      <td>2017-07-01</td>\n",
              "      <td>32.7</td>\n",
              "      <td>21.2</td>\n",
              "      <td>11</td>\n",
              "      <td>2017</td>\n",
              "      <td>7</td>\n",
              "      <td>1</td>\n",
              "      <td>26.95</td>\n",
              "    </tr>\n",
              "    <tr>\n",
              "      <th>7</th>\n",
              "      <td>2017-08-01</td>\n",
              "      <td>36.2</td>\n",
              "      <td>18.7</td>\n",
              "      <td>17</td>\n",
              "      <td>2017</td>\n",
              "      <td>8</td>\n",
              "      <td>1</td>\n",
              "      <td>27.45</td>\n",
              "    </tr>\n",
              "    <tr>\n",
              "      <th>8</th>\n",
              "      <td>2017-09-01</td>\n",
              "      <td>29.7</td>\n",
              "      <td>14.5</td>\n",
              "      <td>15</td>\n",
              "      <td>2017</td>\n",
              "      <td>9</td>\n",
              "      <td>1</td>\n",
              "      <td>22.10</td>\n",
              "    </tr>\n",
              "    <tr>\n",
              "      <th>9</th>\n",
              "      <td>2017-10-01</td>\n",
              "      <td>28.7</td>\n",
              "      <td>7.3</td>\n",
              "      <td>21</td>\n",
              "      <td>2017</td>\n",
              "      <td>10</td>\n",
              "      <td>1</td>\n",
              "      <td>18.00</td>\n",
              "    </tr>\n",
              "    <tr>\n",
              "      <th>10</th>\n",
              "      <td>2017-11-01</td>\n",
              "      <td>23.6</td>\n",
              "      <td>-1.0</td>\n",
              "      <td>24</td>\n",
              "      <td>2017</td>\n",
              "      <td>11</td>\n",
              "      <td>1</td>\n",
              "      <td>11.30</td>\n",
              "    </tr>\n",
              "    <tr>\n",
              "      <th>11</th>\n",
              "      <td>2017-12-01</td>\n",
              "      <td>14.5</td>\n",
              "      <td>-6.1</td>\n",
              "      <td>20</td>\n",
              "      <td>2017</td>\n",
              "      <td>12</td>\n",
              "      <td>1</td>\n",
              "      <td>4.20</td>\n",
              "    </tr>\n",
              "    <tr>\n",
              "      <th>12</th>\n",
              "      <td>2018-01-01</td>\n",
              "      <td>14.0</td>\n",
              "      <td>-9.9</td>\n",
              "      <td>23</td>\n",
              "      <td>2018</td>\n",
              "      <td>1</td>\n",
              "      <td>1</td>\n",
              "      <td>2.05</td>\n",
              "    </tr>\n",
              "    <tr>\n",
              "      <th>13</th>\n",
              "      <td>2018-02-01</td>\n",
              "      <td>14.7</td>\n",
              "      <td>-9.6</td>\n",
              "      <td>24</td>\n",
              "      <td>2018</td>\n",
              "      <td>2</td>\n",
              "      <td>1</td>\n",
              "      <td>2.55</td>\n",
              "    </tr>\n",
              "    <tr>\n",
              "      <th>14</th>\n",
              "      <td>2018-03-01</td>\n",
              "      <td>22.3</td>\n",
              "      <td>-0.7</td>\n",
              "      <td>23</td>\n",
              "      <td>2018</td>\n",
              "      <td>3</td>\n",
              "      <td>1</td>\n",
              "      <td>10.80</td>\n",
              "    </tr>\n",
              "    <tr>\n",
              "      <th>15</th>\n",
              "      <td>2018-04-01</td>\n",
              "      <td>24.3</td>\n",
              "      <td>3.0</td>\n",
              "      <td>21</td>\n",
              "      <td>2018</td>\n",
              "      <td>4</td>\n",
              "      <td>1</td>\n",
              "      <td>13.65</td>\n",
              "    </tr>\n",
              "    <tr>\n",
              "      <th>16</th>\n",
              "      <td>2018-05-01</td>\n",
              "      <td>26.6</td>\n",
              "      <td>9.8</td>\n",
              "      <td>16</td>\n",
              "      <td>2018</td>\n",
              "      <td>5</td>\n",
              "      <td>1</td>\n",
              "      <td>18.20</td>\n",
              "    </tr>\n",
              "    <tr>\n",
              "      <th>17</th>\n",
              "      <td>2018-06-01</td>\n",
              "      <td>31.3</td>\n",
              "      <td>15.1</td>\n",
              "      <td>16</td>\n",
              "      <td>2018</td>\n",
              "      <td>6</td>\n",
              "      <td>1</td>\n",
              "      <td>23.20</td>\n",
              "    </tr>\n",
              "    <tr>\n",
              "      <th>18</th>\n",
              "      <td>2018-07-01</td>\n",
              "      <td>35.4</td>\n",
              "      <td>17.8</td>\n",
              "      <td>17</td>\n",
              "      <td>2018</td>\n",
              "      <td>7</td>\n",
              "      <td>1</td>\n",
              "      <td>26.60</td>\n",
              "    </tr>\n",
              "    <tr>\n",
              "      <th>19</th>\n",
              "      <td>2018-08-01</td>\n",
              "      <td>36.4</td>\n",
              "      <td>21.2</td>\n",
              "      <td>15</td>\n",
              "      <td>2018</td>\n",
              "      <td>8</td>\n",
              "      <td>1</td>\n",
              "      <td>28.80</td>\n",
              "    </tr>\n",
              "    <tr>\n",
              "      <th>20</th>\n",
              "      <td>2018-09-01</td>\n",
              "      <td>30.0</td>\n",
              "      <td>14.9</td>\n",
              "      <td>15</td>\n",
              "      <td>2018</td>\n",
              "      <td>9</td>\n",
              "      <td>1</td>\n",
              "      <td>22.45</td>\n",
              "    </tr>\n",
              "    <tr>\n",
              "      <th>21</th>\n",
              "      <td>2018-10-01</td>\n",
              "      <td>25.6</td>\n",
              "      <td>7.9</td>\n",
              "      <td>17</td>\n",
              "      <td>2018</td>\n",
              "      <td>10</td>\n",
              "      <td>1</td>\n",
              "      <td>16.75</td>\n",
              "    </tr>\n",
              "    <tr>\n",
              "      <th>22</th>\n",
              "      <td>2018-11-01</td>\n",
              "      <td>22.5</td>\n",
              "      <td>2.7</td>\n",
              "      <td>19</td>\n",
              "      <td>2018</td>\n",
              "      <td>11</td>\n",
              "      <td>1</td>\n",
              "      <td>12.60</td>\n",
              "    </tr>\n",
              "    <tr>\n",
              "      <th>23</th>\n",
              "      <td>2018-12-01</td>\n",
              "      <td>18.8</td>\n",
              "      <td>-7.1</td>\n",
              "      <td>25</td>\n",
              "      <td>2018</td>\n",
              "      <td>12</td>\n",
              "      <td>1</td>\n",
              "      <td>5.85</td>\n",
              "    </tr>\n",
              "    <tr>\n",
              "      <th>24</th>\n",
              "      <td>2019-01-01</td>\n",
              "      <td>13.7</td>\n",
              "      <td>-4.4</td>\n",
              "      <td>18</td>\n",
              "      <td>2019</td>\n",
              "      <td>1</td>\n",
              "      <td>1</td>\n",
              "      <td>4.65</td>\n",
              "    </tr>\n",
              "    <tr>\n",
              "      <th>25</th>\n",
              "      <td>2019-02-01</td>\n",
              "      <td>16.5</td>\n",
              "      <td>-4.2</td>\n",
              "      <td>20</td>\n",
              "      <td>2019</td>\n",
              "      <td>2</td>\n",
              "      <td>1</td>\n",
              "      <td>6.15</td>\n",
              "    </tr>\n",
              "    <tr>\n",
              "      <th>26</th>\n",
              "      <td>2019-03-01</td>\n",
              "      <td>21.0</td>\n",
              "      <td>0.5</td>\n",
              "      <td>20</td>\n",
              "      <td>2019</td>\n",
              "      <td>3</td>\n",
              "      <td>1</td>\n",
              "      <td>10.75</td>\n",
              "    </tr>\n",
              "    <tr>\n",
              "      <th>27</th>\n",
              "      <td>2019-04-01</td>\n",
              "      <td>23.4</td>\n",
              "      <td>2.1</td>\n",
              "      <td>21</td>\n",
              "      <td>2019</td>\n",
              "      <td>4</td>\n",
              "      <td>1</td>\n",
              "      <td>12.75</td>\n",
              "    </tr>\n",
              "    <tr>\n",
              "      <th>28</th>\n",
              "      <td>2019-05-01</td>\n",
              "      <td>30.1</td>\n",
              "      <td>11.0</td>\n",
              "      <td>19</td>\n",
              "      <td>2019</td>\n",
              "      <td>5</td>\n",
              "      <td>1</td>\n",
              "      <td>20.55</td>\n",
              "    </tr>\n",
              "    <tr>\n",
              "      <th>29</th>\n",
              "      <td>2019-06-01</td>\n",
              "      <td>29.7</td>\n",
              "      <td>15.5</td>\n",
              "      <td>14</td>\n",
              "      <td>2019</td>\n",
              "      <td>6</td>\n",
              "      <td>1</td>\n",
              "      <td>22.60</td>\n",
              "    </tr>\n",
              "  </tbody>\n",
              "</table>\n",
              "</div>"
            ],
            "text/plain": [
              "           일시    최고    최저  차이    년도   월  일     평균\n",
              "0  2017-01-01  15.1  -7.7  22  2017   1  1   3.70\n",
              "1  2017-02-01  17.7  -5.7  23  2017   2  1   6.00\n",
              "2  2017-03-01  18.1  -2.3  20  2017   3  1   7.90\n",
              "3  2017-04-01  23.2   5.0  18  2017   4  1  14.10\n",
              "4  2017-05-01  28.2  12.8  15  2017   5  1  20.50\n",
              "5  2017-06-01  30.4  15.4  14  2017   6  1  22.90\n",
              "6  2017-07-01  32.7  21.2  11  2017   7  1  26.95\n",
              "7  2017-08-01  36.2  18.7  17  2017   8  1  27.45\n",
              "8  2017-09-01  29.7  14.5  15  2017   9  1  22.10\n",
              "9  2017-10-01  28.7   7.3  21  2017  10  1  18.00\n",
              "10 2017-11-01  23.6  -1.0  24  2017  11  1  11.30\n",
              "11 2017-12-01  14.5  -6.1  20  2017  12  1   4.20\n",
              "12 2018-01-01  14.0  -9.9  23  2018   1  1   2.05\n",
              "13 2018-02-01  14.7  -9.6  24  2018   2  1   2.55\n",
              "14 2018-03-01  22.3  -0.7  23  2018   3  1  10.80\n",
              "15 2018-04-01  24.3   3.0  21  2018   4  1  13.65\n",
              "16 2018-05-01  26.6   9.8  16  2018   5  1  18.20\n",
              "17 2018-06-01  31.3  15.1  16  2018   6  1  23.20\n",
              "18 2018-07-01  35.4  17.8  17  2018   7  1  26.60\n",
              "19 2018-08-01  36.4  21.2  15  2018   8  1  28.80\n",
              "20 2018-09-01  30.0  14.9  15  2018   9  1  22.45\n",
              "21 2018-10-01  25.6   7.9  17  2018  10  1  16.75\n",
              "22 2018-11-01  22.5   2.7  19  2018  11  1  12.60\n",
              "23 2018-12-01  18.8  -7.1  25  2018  12  1   5.85\n",
              "24 2019-01-01  13.7  -4.4  18  2019   1  1   4.65\n",
              "25 2019-02-01  16.5  -4.2  20  2019   2  1   6.15\n",
              "26 2019-03-01  21.0   0.5  20  2019   3  1  10.75\n",
              "27 2019-04-01  23.4   2.1  21  2019   4  1  12.75\n",
              "28 2019-05-01  30.1  11.0  19  2019   5  1  20.55\n",
              "29 2019-06-01  29.7  15.5  14  2019   6  1  22.60"
            ]
          },
          "metadata": {
            "tags": []
          },
          "execution_count": 85
        }
      ]
    }
  ]
}