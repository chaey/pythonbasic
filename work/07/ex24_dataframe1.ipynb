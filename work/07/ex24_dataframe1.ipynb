{
  "nbformat": 4,
  "nbformat_minor": 0,
  "metadata": {
    "colab": {
      "name": "ex24_dataframe1",
      "provenance": [],
      "collapsed_sections": [],
      "mount_file_id": "1WwkhuaL-MLpfJCVm7xX38lM_hcHVkgBH",
      "authorship_tag": "ABX9TyM8steSfh/6h0UJ2P9CiMF/",
      "include_colab_link": true
    },
    "kernelspec": {
      "name": "python3",
      "display_name": "Python 3"
    }
  },
  "cells": [
    {
      "cell_type": "markdown",
      "metadata": {
        "id": "view-in-github",
        "colab_type": "text"
      },
      "source": [
        "<a href=\"https://colab.research.google.com/github/cybermin/pythonbasic/blob/master/work/07/ex24_dataframe1.ipynb\" target=\"_parent\"><img src=\"https://colab.research.google.com/assets/colab-badge.svg\" alt=\"Open In Colab\"/></a>"
      ]
    },
    {
      "cell_type": "markdown",
      "metadata": {
        "id": "Elhx3QhiPg4w",
        "colab_type": "text"
      },
      "source": [
        "# 판다스(pandas)\n",
        "+ 파이썬에서 사용하는 데이터분석 라이브러리\n",
        "\n",
        "+ 행과 열로 이루어진 데이터 객체를 만들어 다룰 수 있게 되며 보다 안정적으로 대용량의 데이터들을 처리하는데 매우 편리한 도구\n",
        "\n",
        "+ NumPy를 기반으로 구축되었으며 과학 컴퓨팅 환경 내에서 다른 많은 타사 라이브러리와 잘 통합되도록 설계"
      ]
    },
    {
      "cell_type": "code",
      "metadata": {
        "id": "l2rbxxZCPVv6",
        "colab_type": "code",
        "colab": {}
      },
      "source": [
        "import pandas as pd"
      ],
      "execution_count": 1,
      "outputs": []
    },
    {
      "cell_type": "markdown",
      "metadata": {
        "id": "HtaKB9nRaQPS",
        "colab_type": "text"
      },
      "source": [
        "\n",
        "##DataFrame\n",
        "+ 2차원 자료구조인 DataFrame는 행과 열이 있는 테이블 데이터\n",
        "+ 딕션너리를 데이터 프레임으로 변경\n",
        " - 딕션너리 키 : 열(column)\n",
        " - 딕션너리 값 : 행(row)"
      ]
    },
    {
      "cell_type": "code",
      "metadata": {
        "id": "soxokOs6vhMi",
        "colab_type": "code",
        "colab": {
          "base_uri": "https://localhost:8080/",
          "height": 90
        },
        "outputId": "708db530-1e90-4741-f505-ac879106a157"
      },
      "source": [
        "dt = {'일시' : ['2017-01-01', '2017-02-01'], '평균' : [4.1, 5.5] , '최고' : [15.1, 17.7], '최저' : [-7.7,-5.7]}\n",
        "dt"
      ],
      "execution_count": 3,
      "outputs": [
        {
          "output_type": "execute_result",
          "data": {
            "text/plain": [
              "{'일시': ['2017-01-01', '2017-02-01'],\n",
              " '최고': [15.1, 17.7],\n",
              " '최저': [-7.7, -5.7],\n",
              " '평균': [4.1, 5.5]}"
            ]
          },
          "metadata": {
            "tags": []
          },
          "execution_count": 3
        }
      ]
    },
    {
      "cell_type": "code",
      "metadata": {
        "id": "9feq6PXrog0L",
        "colab_type": "code",
        "colab": {
          "base_uri": "https://localhost:8080/",
          "height": 54
        },
        "outputId": "54fda222-d631-44eb-bcaf-f3a8cfd1afd3"
      },
      "source": [
        "idx = list(dt.keys())\n",
        "v = ['2017-01-01',15.1, -7.7 ,4.1]\n",
        "print(idx)\n",
        "print(v)"
      ],
      "execution_count": 13,
      "outputs": [
        {
          "output_type": "stream",
          "text": [
            "['일시', '평균', '최고', '최저']\n",
            "['2017-01-01', 15.1, -7.7, 4.1]\n"
          ],
          "name": "stdout"
        }
      ]
    },
    {
      "cell_type": "code",
      "metadata": {
        "id": "GDamKYAko4E6",
        "colab_type": "code",
        "colab": {
          "base_uri": "https://localhost:8080/",
          "height": 108
        },
        "outputId": "5ec2f73c-02a0-4564-b22c-bbb67804f6a1"
      },
      "source": [
        "ds = pd.Series(v, index = idx)\n",
        "ds"
      ],
      "execution_count": 14,
      "outputs": [
        {
          "output_type": "execute_result",
          "data": {
            "text/plain": [
              "일시    2017-01-01\n",
              "평균          15.1\n",
              "최고          -7.7\n",
              "최저           4.1\n",
              "dtype: object"
            ]
          },
          "metadata": {
            "tags": []
          },
          "execution_count": 14
        }
      ]
    },
    {
      "cell_type": "code",
      "metadata": {
        "id": "S2-4dkmsoDKc",
        "colab_type": "code",
        "colab": {
          "base_uri": "https://localhost:8080/",
          "height": 127
        },
        "outputId": "0d79369f-0c40-43b8-ed0b-4d24ab535347"
      },
      "source": [
        "ds = pd.Series(dt)\n",
        "print(type(ds))\n",
        "print(ds)"
      ],
      "execution_count": 10,
      "outputs": [
        {
          "output_type": "stream",
          "text": [
            "<class 'pandas.core.series.Series'>\n",
            "일시    [2017-01-01, 2017-02-01]\n",
            "평균                  [4.1, 5.5]\n",
            "최고                [15.1, 17.7]\n",
            "최저                [-7.7, -5.7]\n",
            "dtype: object\n"
          ],
          "name": "stdout"
        }
      ]
    },
    {
      "cell_type": "code",
      "metadata": {
        "id": "FQFX7TCioVXr",
        "colab_type": "code",
        "colab": {
          "base_uri": "https://localhost:8080/",
          "height": 35
        },
        "outputId": "109f796f-3f18-4788-ae34-37eacf384cc5"
      },
      "source": [
        "ds['일시']"
      ],
      "execution_count": 11,
      "outputs": [
        {
          "output_type": "execute_result",
          "data": {
            "text/plain": [
              "['2017-01-01', '2017-02-01']"
            ]
          },
          "metadata": {
            "tags": []
          },
          "execution_count": 11
        }
      ]
    },
    {
      "cell_type": "code",
      "metadata": {
        "id": "yB7kIOZpAhdc",
        "colab_type": "code",
        "colab": {
          "base_uri": "https://localhost:8080/",
          "height": 110
        },
        "outputId": "535face3-a90d-439b-da74-9f52c4ea48e5"
      },
      "source": [
        "#딕션너리를 데이터 프레임으로 변경 \n",
        "#키가 열이 되고 값이 행이됨\n",
        "df = pd.DataFrame(dt)\n",
        "df"
      ],
      "execution_count": 4,
      "outputs": [
        {
          "output_type": "execute_result",
          "data": {
            "text/html": [
              "<div>\n",
              "<style scoped>\n",
              "    .dataframe tbody tr th:only-of-type {\n",
              "        vertical-align: middle;\n",
              "    }\n",
              "\n",
              "    .dataframe tbody tr th {\n",
              "        vertical-align: top;\n",
              "    }\n",
              "\n",
              "    .dataframe thead th {\n",
              "        text-align: right;\n",
              "    }\n",
              "</style>\n",
              "<table border=\"1\" class=\"dataframe\">\n",
              "  <thead>\n",
              "    <tr style=\"text-align: right;\">\n",
              "      <th></th>\n",
              "      <th>일시</th>\n",
              "      <th>평균</th>\n",
              "      <th>최고</th>\n",
              "      <th>최저</th>\n",
              "    </tr>\n",
              "  </thead>\n",
              "  <tbody>\n",
              "    <tr>\n",
              "      <th>0</th>\n",
              "      <td>2017-01-01</td>\n",
              "      <td>4.1</td>\n",
              "      <td>15.1</td>\n",
              "      <td>-7.7</td>\n",
              "    </tr>\n",
              "    <tr>\n",
              "      <th>1</th>\n",
              "      <td>2017-02-01</td>\n",
              "      <td>5.5</td>\n",
              "      <td>17.7</td>\n",
              "      <td>-5.7</td>\n",
              "    </tr>\n",
              "  </tbody>\n",
              "</table>\n",
              "</div>"
            ],
            "text/plain": [
              "           일시   평균    최고   최저\n",
              "0  2017-01-01  4.1  15.1 -7.7\n",
              "1  2017-02-01  5.5  17.7 -5.7"
            ]
          },
          "metadata": {
            "tags": []
          },
          "execution_count": 4
        }
      ]
    },
    {
      "cell_type": "code",
      "metadata": {
        "id": "T_AjNHUvajyE",
        "colab_type": "code",
        "colab": {
          "base_uri": "https://localhost:8080/",
          "height": 35
        },
        "outputId": "5dc0ffa5-92ed-4ac9-d7bc-ce05f7b4929d"
      },
      "source": [
        "print(type(df))"
      ],
      "execution_count": 5,
      "outputs": [
        {
          "output_type": "stream",
          "text": [
            "<class 'pandas.core.frame.DataFrame'>\n"
          ],
          "name": "stdout"
        }
      ]
    },
    {
      "cell_type": "markdown",
      "metadata": {
        "id": "ffxqrWSQY3Ru",
        "colab_type": "text"
      },
      "source": [
        "## 외부데이터 가져오기\n",
        "+ csv 읽기\n",
        " - 한글 파일명을 사용할 경우 : df = pd.read_csv(‘파일명‘, engine='python')\n",
        " - 파일 내용 한글이 깨지는 경우 : df = pd.read_csv(‘파일명‘, engine='python', encoding='cp949')\n",
        "\n",
        "```\n",
        "df = pd.read_csv(‘파일명‘)\n",
        "```\n",
        "\n",
        "+ 엑셀 읽기\n",
        " - 한글 파일명을 사용할 경우 : df = pd.read_excel(‘파일명‘)\n",
        "\n",
        "```\n",
        "df = pd.read_excel(‘파일명‘)\n",
        "```\n"
      ]
    },
    {
      "cell_type": "code",
      "metadata": {
        "id": "lyTJ0XaYvIj6",
        "colab_type": "code",
        "colab": {}
      },
      "source": [
        "df = pd.read_csv('/content/drive/My Drive/PythonWork/PythonBasic/04/부산쓰레기발생2017년.csv', encoding='CP949')\n",
        "df"
      ],
      "execution_count": null,
      "outputs": []
    },
    {
      "cell_type": "code",
      "metadata": {
        "id": "jJFnXN1ZpNYq",
        "colab_type": "code",
        "colab": {
          "base_uri": "https://localhost:8080/",
          "height": 35
        },
        "outputId": "697b1f97-be01-43b1-ac92-bd5cac71efe8"
      },
      "source": [
        "df.index"
      ],
      "execution_count": 15,
      "outputs": [
        {
          "output_type": "execute_result",
          "data": {
            "text/plain": [
              "RangeIndex(start=0, stop=8, step=1)"
            ]
          },
          "metadata": {
            "tags": []
          },
          "execution_count": 15
        }
      ]
    },
    {
      "cell_type": "code",
      "metadata": {
        "id": "xJk4d7T_pYQb",
        "colab_type": "code",
        "colab": {
          "base_uri": "https://localhost:8080/",
          "height": 72
        },
        "outputId": "c80b6422-c6a3-4e70-f59a-1e7421e0ebc5"
      },
      "source": [
        "df.columns"
      ],
      "execution_count": 16,
      "outputs": [
        {
          "output_type": "execute_result",
          "data": {
            "text/plain": [
              "Index(['항목', '구분 ', '중구 ', '서구 ', '동구 ', '영도구 ', '부산진구 ', '동래구 ', '남구 ', '북구 ',\n",
              "       '해운대구', '사하구 ', '금정구 ', '강서구 ', '연제구 ', '수영구 ', '사상구 ', '기장군 '],\n",
              "      dtype='object')"
            ]
          },
          "metadata": {
            "tags": []
          },
          "execution_count": 16
        }
      ]
    },
    {
      "cell_type": "code",
      "metadata": {
        "id": "uLmeIxYSIzeX",
        "colab_type": "code",
        "colab": {}
      },
      "source": [
        "df = pd.read_excel('/content/drive/My Drive/PythonWork/PythonBasic/04/부산쓰레기발생2017년.xlsx')\n",
        "df"
      ],
      "execution_count": null,
      "outputs": []
    },
    {
      "cell_type": "markdown",
      "metadata": {
        "id": "d9HhOhZoEhXI",
        "colab_type": "text"
      },
      "source": [
        "+ 데이터프레임의 정보"
      ]
    },
    {
      "cell_type": "code",
      "metadata": {
        "id": "sJH4YcsEBmP8",
        "colab_type": "code",
        "colab": {
          "base_uri": "https://localhost:8080/",
          "height": 474
        },
        "outputId": "7783468a-a83e-44e0-ea82-8c88a3798314"
      },
      "source": [
        "df.info()"
      ],
      "execution_count": 17,
      "outputs": [
        {
          "output_type": "stream",
          "text": [
            "<class 'pandas.core.frame.DataFrame'>\n",
            "RangeIndex: 8 entries, 0 to 7\n",
            "Data columns (total 18 columns):\n",
            " #   Column  Non-Null Count  Dtype \n",
            "---  ------  --------------  ----- \n",
            " 0   항목      8 non-null      object\n",
            " 1   구분      8 non-null      object\n",
            " 2   중구      8 non-null      int64 \n",
            " 3   서구      8 non-null      int64 \n",
            " 4   동구      8 non-null      int64 \n",
            " 5   영도구     8 non-null      int64 \n",
            " 6   부산진구    8 non-null      int64 \n",
            " 7   동래구     8 non-null      int64 \n",
            " 8   남구      8 non-null      int64 \n",
            " 9   북구      8 non-null      int64 \n",
            " 10  해운대구    8 non-null      int64 \n",
            " 11  사하구     8 non-null      int64 \n",
            " 12  금정구     8 non-null      int64 \n",
            " 13  강서구     8 non-null      int64 \n",
            " 14  연제구     8 non-null      int64 \n",
            " 15  수영구     8 non-null      int64 \n",
            " 16  사상구     8 non-null      int64 \n",
            " 17  기장군     8 non-null      int64 \n",
            "dtypes: int64(16), object(2)\n",
            "memory usage: 1.2+ KB\n"
          ],
          "name": "stdout"
        }
      ]
    },
    {
      "cell_type": "markdown",
      "metadata": {
        "id": "JVUchZJME3Ys",
        "colab_type": "text"
      },
      "source": [
        "+ 데이터프레임의 인덱스 \n",
        " - 열의 인덱스 : 데이터프레임.colums\n",
        " - 행의 인덱스 : 데이터프레임.index"
      ]
    },
    {
      "cell_type": "code",
      "metadata": {
        "id": "bCeU16Ler9_z",
        "colab_type": "code",
        "colab": {
          "base_uri": "https://localhost:8080/",
          "height": 182
        },
        "outputId": "c80737f6-2498-42d5-865c-77513b0e27f3"
      },
      "source": [
        "df['동래구 ']"
      ],
      "execution_count": 22,
      "outputs": [
        {
          "output_type": "execute_result",
          "data": {
            "text/plain": [
              "0     9195\n",
              "1       25\n",
              "2       17\n",
              "3        0\n",
              "4    56526\n",
              "5      155\n",
              "6    20128\n",
              "7       55\n",
              "Name: 동래구 , dtype: int64"
            ]
          },
          "metadata": {
            "tags": []
          },
          "execution_count": 22
        }
      ]
    },
    {
      "cell_type": "code",
      "metadata": {
        "id": "JXOt--a-Bslc",
        "colab_type": "code",
        "colab": {
          "base_uri": "https://localhost:8080/",
          "height": 72
        },
        "outputId": "193bb540-ca1e-4936-fb1a-814d837ea2c9"
      },
      "source": [
        "#열 인덱스\n",
        "print(df.columns) "
      ],
      "execution_count": 18,
      "outputs": [
        {
          "output_type": "stream",
          "text": [
            "Index(['항목', '구분 ', '중구 ', '서구 ', '동구 ', '영도구 ', '부산진구 ', '동래구 ', '남구 ', '북구 ',\n",
            "       '해운대구', '사하구 ', '금정구 ', '강서구 ', '연제구 ', '수영구 ', '사상구 ', '기장군 '],\n",
            "      dtype='object')\n"
          ],
          "name": "stdout"
        }
      ]
    },
    {
      "cell_type": "code",
      "metadata": {
        "id": "wJNpXhOQsZWy",
        "colab_type": "code",
        "colab": {
          "base_uri": "https://localhost:8080/",
          "height": 346
        },
        "outputId": "42177acb-3d05-407b-c756-18b8b1d4f999"
      },
      "source": [
        "idx = [item.strip() for item in df.columns]\n",
        "idx"
      ],
      "execution_count": 23,
      "outputs": [
        {
          "output_type": "execute_result",
          "data": {
            "text/plain": [
              "['항목',\n",
              " '구분',\n",
              " '중구',\n",
              " '서구',\n",
              " '동구',\n",
              " '영도구',\n",
              " '부산진구',\n",
              " '동래구',\n",
              " '남구',\n",
              " '북구',\n",
              " '해운대구',\n",
              " '사하구',\n",
              " '금정구',\n",
              " '강서구',\n",
              " '연제구',\n",
              " '수영구',\n",
              " '사상구',\n",
              " '기장군']"
            ]
          },
          "metadata": {
            "tags": []
          },
          "execution_count": 23
        }
      ]
    },
    {
      "cell_type": "code",
      "metadata": {
        "id": "iZ4eUOvyCWAs",
        "colab_type": "code",
        "colab": {
          "base_uri": "https://localhost:8080/",
          "height": 35
        },
        "outputId": "1d9722e4-8842-466c-cf4f-af986f923187"
      },
      "source": [
        "#행 인덱스\n",
        "print(df.index) "
      ],
      "execution_count": 19,
      "outputs": [
        {
          "output_type": "stream",
          "text": [
            "RangeIndex(start=0, stop=8, step=1)\n"
          ],
          "name": "stdout"
        }
      ]
    },
    {
      "cell_type": "markdown",
      "metadata": {
        "id": "Y6_5K3eaFar4",
        "colab_type": "text"
      },
      "source": [
        "+ 데이터프레임의 인덱스 변경\n",
        " - 열인덱스 명 변경 : 데이터프레임.column = [열명인덱스]\n",
        " - 열항목 중 하나를 인덱스로 사용 : 데이터프레임.set_index(열명)\n",
        " - 행인덱스로 사용 : 데이터프레임.reset_index()"
      ]
    },
    {
      "cell_type": "code",
      "metadata": {
        "id": "LlBhV3JBHg1Y",
        "colab_type": "code",
        "colab": {
          "base_uri": "https://localhost:8080/",
          "height": 72
        },
        "outputId": "f50d4042-ec76-42a2-bfd4-4fda80474004"
      },
      "source": [
        "#열 인덱스명 변경\n",
        "df.columns = [item.strip() for item in df.columns]\n",
        "df.columns"
      ],
      "execution_count": 24,
      "outputs": [
        {
          "output_type": "execute_result",
          "data": {
            "text/plain": [
              "Index(['항목', '구분', '중구', '서구', '동구', '영도구', '부산진구', '동래구', '남구', '북구', '해운대구',\n",
              "       '사하구', '금정구', '강서구', '연제구', '수영구', '사상구', '기장군'],\n",
              "      dtype='object')"
            ]
          },
          "metadata": {
            "tags": []
          },
          "execution_count": 24
        }
      ]
    },
    {
      "cell_type": "code",
      "metadata": {
        "id": "oyf3Q_q1s5WD",
        "colab_type": "code",
        "colab": {
          "base_uri": "https://localhost:8080/",
          "height": 182
        },
        "outputId": "b207d343-ad7a-44c8-b000-443c17ee6796"
      },
      "source": [
        "df['동래구']"
      ],
      "execution_count": 25,
      "outputs": [
        {
          "output_type": "execute_result",
          "data": {
            "text/plain": [
              "0     9195\n",
              "1       25\n",
              "2       17\n",
              "3        0\n",
              "4    56526\n",
              "5      155\n",
              "6    20128\n",
              "7       55\n",
              "Name: 동래구, dtype: int64"
            ]
          },
          "metadata": {
            "tags": []
          },
          "execution_count": 25
        }
      ]
    },
    {
      "cell_type": "code",
      "metadata": {
        "id": "Yw4dXYBWtVhL",
        "colab_type": "code",
        "colab": {
          "base_uri": "https://localhost:8080/",
          "height": 162
        },
        "outputId": "afd1c28c-2dd5-426c-cd6b-08d19c35e522"
      },
      "source": [
        "df.head(2)"
      ],
      "execution_count": 27,
      "outputs": [
        {
          "output_type": "execute_result",
          "data": {
            "text/html": [
              "<div>\n",
              "<style scoped>\n",
              "    .dataframe tbody tr th:only-of-type {\n",
              "        vertical-align: middle;\n",
              "    }\n",
              "\n",
              "    .dataframe tbody tr th {\n",
              "        vertical-align: top;\n",
              "    }\n",
              "\n",
              "    .dataframe thead th {\n",
              "        text-align: right;\n",
              "    }\n",
              "</style>\n",
              "<table border=\"1\" class=\"dataframe\">\n",
              "  <thead>\n",
              "    <tr style=\"text-align: right;\">\n",
              "      <th></th>\n",
              "      <th>항목</th>\n",
              "      <th>구분</th>\n",
              "      <th>중구</th>\n",
              "      <th>서구</th>\n",
              "      <th>동구</th>\n",
              "      <th>영도구</th>\n",
              "      <th>부산진구</th>\n",
              "      <th>동래구</th>\n",
              "      <th>남구</th>\n",
              "      <th>북구</th>\n",
              "      <th>해운대구</th>\n",
              "      <th>사하구</th>\n",
              "      <th>금정구</th>\n",
              "      <th>강서구</th>\n",
              "      <th>연제구</th>\n",
              "      <th>수영구</th>\n",
              "      <th>사상구</th>\n",
              "      <th>기장군</th>\n",
              "    </tr>\n",
              "  </thead>\n",
              "  <tbody>\n",
              "    <tr>\n",
              "      <th>0</th>\n",
              "      <td>매립처리량</td>\n",
              "      <td>연간(톤)</td>\n",
              "      <td>3034</td>\n",
              "      <td>2323</td>\n",
              "      <td>1653</td>\n",
              "      <td>1219</td>\n",
              "      <td>17393</td>\n",
              "      <td>9195</td>\n",
              "      <td>8042</td>\n",
              "      <td>10498</td>\n",
              "      <td>5251</td>\n",
              "      <td>3089</td>\n",
              "      <td>7240</td>\n",
              "      <td>9742</td>\n",
              "      <td>1831</td>\n",
              "      <td>2205</td>\n",
              "      <td>9937</td>\n",
              "      <td>2290</td>\n",
              "    </tr>\n",
              "    <tr>\n",
              "      <th>1</th>\n",
              "      <td>매립처리량</td>\n",
              "      <td>일일(톤)</td>\n",
              "      <td>8</td>\n",
              "      <td>7</td>\n",
              "      <td>5</td>\n",
              "      <td>3</td>\n",
              "      <td>48</td>\n",
              "      <td>25</td>\n",
              "      <td>22</td>\n",
              "      <td>29</td>\n",
              "      <td>14</td>\n",
              "      <td>8</td>\n",
              "      <td>20</td>\n",
              "      <td>27</td>\n",
              "      <td>5</td>\n",
              "      <td>6</td>\n",
              "      <td>27</td>\n",
              "      <td>6</td>\n",
              "    </tr>\n",
              "  </tbody>\n",
              "</table>\n",
              "</div>"
            ],
            "text/plain": [
              "      항목     구분    중구    서구    동구   영도구  ...   금정구   강서구   연제구   수영구   사상구   기장군\n",
              "0  매립처리량  연간(톤)  3034  2323  1653  1219  ...  7240  9742  1831  2205  9937  2290\n",
              "1  매립처리량  일일(톤)     8     7     5     3  ...    20    27     5     6    27     6\n",
              "\n",
              "[2 rows x 18 columns]"
            ]
          },
          "metadata": {
            "tags": []
          },
          "execution_count": 27
        }
      ]
    },
    {
      "cell_type": "code",
      "metadata": {
        "id": "IbCRYo3gCp4D",
        "colab_type": "code",
        "colab": {
          "base_uri": "https://localhost:8080/",
          "height": 192
        },
        "outputId": "981148cd-a94a-40ef-d747-53087a5aebd4"
      },
      "source": [
        "#행 인덱스 변경\n",
        "df = df.set_index('항목')\n",
        "df.head(2)"
      ],
      "execution_count": 28,
      "outputs": [
        {
          "output_type": "execute_result",
          "data": {
            "text/html": [
              "<div>\n",
              "<style scoped>\n",
              "    .dataframe tbody tr th:only-of-type {\n",
              "        vertical-align: middle;\n",
              "    }\n",
              "\n",
              "    .dataframe tbody tr th {\n",
              "        vertical-align: top;\n",
              "    }\n",
              "\n",
              "    .dataframe thead th {\n",
              "        text-align: right;\n",
              "    }\n",
              "</style>\n",
              "<table border=\"1\" class=\"dataframe\">\n",
              "  <thead>\n",
              "    <tr style=\"text-align: right;\">\n",
              "      <th></th>\n",
              "      <th>구분</th>\n",
              "      <th>중구</th>\n",
              "      <th>서구</th>\n",
              "      <th>동구</th>\n",
              "      <th>영도구</th>\n",
              "      <th>부산진구</th>\n",
              "      <th>동래구</th>\n",
              "      <th>남구</th>\n",
              "      <th>북구</th>\n",
              "      <th>해운대구</th>\n",
              "      <th>사하구</th>\n",
              "      <th>금정구</th>\n",
              "      <th>강서구</th>\n",
              "      <th>연제구</th>\n",
              "      <th>수영구</th>\n",
              "      <th>사상구</th>\n",
              "      <th>기장군</th>\n",
              "    </tr>\n",
              "    <tr>\n",
              "      <th>항목</th>\n",
              "      <th></th>\n",
              "      <th></th>\n",
              "      <th></th>\n",
              "      <th></th>\n",
              "      <th></th>\n",
              "      <th></th>\n",
              "      <th></th>\n",
              "      <th></th>\n",
              "      <th></th>\n",
              "      <th></th>\n",
              "      <th></th>\n",
              "      <th></th>\n",
              "      <th></th>\n",
              "      <th></th>\n",
              "      <th></th>\n",
              "      <th></th>\n",
              "      <th></th>\n",
              "    </tr>\n",
              "  </thead>\n",
              "  <tbody>\n",
              "    <tr>\n",
              "      <th>매립처리량</th>\n",
              "      <td>연간(톤)</td>\n",
              "      <td>3034</td>\n",
              "      <td>2323</td>\n",
              "      <td>1653</td>\n",
              "      <td>1219</td>\n",
              "      <td>17393</td>\n",
              "      <td>9195</td>\n",
              "      <td>8042</td>\n",
              "      <td>10498</td>\n",
              "      <td>5251</td>\n",
              "      <td>3089</td>\n",
              "      <td>7240</td>\n",
              "      <td>9742</td>\n",
              "      <td>1831</td>\n",
              "      <td>2205</td>\n",
              "      <td>9937</td>\n",
              "      <td>2290</td>\n",
              "    </tr>\n",
              "    <tr>\n",
              "      <th>매립처리량</th>\n",
              "      <td>일일(톤)</td>\n",
              "      <td>8</td>\n",
              "      <td>7</td>\n",
              "      <td>5</td>\n",
              "      <td>3</td>\n",
              "      <td>48</td>\n",
              "      <td>25</td>\n",
              "      <td>22</td>\n",
              "      <td>29</td>\n",
              "      <td>14</td>\n",
              "      <td>8</td>\n",
              "      <td>20</td>\n",
              "      <td>27</td>\n",
              "      <td>5</td>\n",
              "      <td>6</td>\n",
              "      <td>27</td>\n",
              "      <td>6</td>\n",
              "    </tr>\n",
              "  </tbody>\n",
              "</table>\n",
              "</div>"
            ],
            "text/plain": [
              "          구분    중구    서구    동구   영도구   부산진구  ...   금정구   강서구   연제구   수영구   사상구   기장군\n",
              "항목                                           ...                                    \n",
              "매립처리량  연간(톤)  3034  2323  1653  1219  17393  ...  7240  9742  1831  2205  9937  2290\n",
              "매립처리량  일일(톤)     8     7     5     3     48  ...    20    27     5     6    27     6\n",
              "\n",
              "[2 rows x 17 columns]"
            ]
          },
          "metadata": {
            "tags": []
          },
          "execution_count": 28
        }
      ]
    },
    {
      "cell_type": "code",
      "metadata": {
        "id": "ECA8Wt-dtvVi",
        "colab_type": "code",
        "colab": {
          "base_uri": "https://localhost:8080/",
          "height": 456
        },
        "outputId": "02782439-3dfb-48c6-cb07-20939d854163"
      },
      "source": [
        "df.info()"
      ],
      "execution_count": 29,
      "outputs": [
        {
          "output_type": "stream",
          "text": [
            "<class 'pandas.core.frame.DataFrame'>\n",
            "Index: 8 entries, 매립처리량 to 음식물류발생량\n",
            "Data columns (total 17 columns):\n",
            " #   Column  Non-Null Count  Dtype \n",
            "---  ------  --------------  ----- \n",
            " 0   구분      8 non-null      object\n",
            " 1   중구      8 non-null      int64 \n",
            " 2   서구      8 non-null      int64 \n",
            " 3   동구      8 non-null      int64 \n",
            " 4   영도구     8 non-null      int64 \n",
            " 5   부산진구    8 non-null      int64 \n",
            " 6   동래구     8 non-null      int64 \n",
            " 7   남구      8 non-null      int64 \n",
            " 8   북구      8 non-null      int64 \n",
            " 9   해운대구    8 non-null      int64 \n",
            " 10  사하구     8 non-null      int64 \n",
            " 11  금정구     8 non-null      int64 \n",
            " 12  강서구     8 non-null      int64 \n",
            " 13  연제구     8 non-null      int64 \n",
            " 14  수영구     8 non-null      int64 \n",
            " 15  사상구     8 non-null      int64 \n",
            " 16  기장군     8 non-null      int64 \n",
            "dtypes: int64(16), object(1)\n",
            "memory usage: 1.1+ KB\n"
          ],
          "name": "stdout"
        }
      ]
    },
    {
      "cell_type": "code",
      "metadata": {
        "id": "eZ6X0pWsuESq",
        "colab_type": "code",
        "colab": {
          "base_uri": "https://localhost:8080/",
          "height": 192
        },
        "outputId": "ad792714-bedd-400b-d296-229b9baceb1f"
      },
      "source": [
        "df.loc['매립처리량']"
      ],
      "execution_count": 31,
      "outputs": [
        {
          "output_type": "execute_result",
          "data": {
            "text/html": [
              "<div>\n",
              "<style scoped>\n",
              "    .dataframe tbody tr th:only-of-type {\n",
              "        vertical-align: middle;\n",
              "    }\n",
              "\n",
              "    .dataframe tbody tr th {\n",
              "        vertical-align: top;\n",
              "    }\n",
              "\n",
              "    .dataframe thead th {\n",
              "        text-align: right;\n",
              "    }\n",
              "</style>\n",
              "<table border=\"1\" class=\"dataframe\">\n",
              "  <thead>\n",
              "    <tr style=\"text-align: right;\">\n",
              "      <th></th>\n",
              "      <th>구분</th>\n",
              "      <th>중구</th>\n",
              "      <th>서구</th>\n",
              "      <th>동구</th>\n",
              "      <th>영도구</th>\n",
              "      <th>부산진구</th>\n",
              "      <th>동래구</th>\n",
              "      <th>남구</th>\n",
              "      <th>북구</th>\n",
              "      <th>해운대구</th>\n",
              "      <th>사하구</th>\n",
              "      <th>금정구</th>\n",
              "      <th>강서구</th>\n",
              "      <th>연제구</th>\n",
              "      <th>수영구</th>\n",
              "      <th>사상구</th>\n",
              "      <th>기장군</th>\n",
              "    </tr>\n",
              "    <tr>\n",
              "      <th>항목</th>\n",
              "      <th></th>\n",
              "      <th></th>\n",
              "      <th></th>\n",
              "      <th></th>\n",
              "      <th></th>\n",
              "      <th></th>\n",
              "      <th></th>\n",
              "      <th></th>\n",
              "      <th></th>\n",
              "      <th></th>\n",
              "      <th></th>\n",
              "      <th></th>\n",
              "      <th></th>\n",
              "      <th></th>\n",
              "      <th></th>\n",
              "      <th></th>\n",
              "      <th></th>\n",
              "    </tr>\n",
              "  </thead>\n",
              "  <tbody>\n",
              "    <tr>\n",
              "      <th>매립처리량</th>\n",
              "      <td>연간(톤)</td>\n",
              "      <td>3034</td>\n",
              "      <td>2323</td>\n",
              "      <td>1653</td>\n",
              "      <td>1219</td>\n",
              "      <td>17393</td>\n",
              "      <td>9195</td>\n",
              "      <td>8042</td>\n",
              "      <td>10498</td>\n",
              "      <td>5251</td>\n",
              "      <td>3089</td>\n",
              "      <td>7240</td>\n",
              "      <td>9742</td>\n",
              "      <td>1831</td>\n",
              "      <td>2205</td>\n",
              "      <td>9937</td>\n",
              "      <td>2290</td>\n",
              "    </tr>\n",
              "    <tr>\n",
              "      <th>매립처리량</th>\n",
              "      <td>일일(톤)</td>\n",
              "      <td>8</td>\n",
              "      <td>7</td>\n",
              "      <td>5</td>\n",
              "      <td>3</td>\n",
              "      <td>48</td>\n",
              "      <td>25</td>\n",
              "      <td>22</td>\n",
              "      <td>29</td>\n",
              "      <td>14</td>\n",
              "      <td>8</td>\n",
              "      <td>20</td>\n",
              "      <td>27</td>\n",
              "      <td>5</td>\n",
              "      <td>6</td>\n",
              "      <td>27</td>\n",
              "      <td>6</td>\n",
              "    </tr>\n",
              "  </tbody>\n",
              "</table>\n",
              "</div>"
            ],
            "text/plain": [
              "          구분    중구    서구    동구   영도구   부산진구  ...   금정구   강서구   연제구   수영구   사상구   기장군\n",
              "항목                                           ...                                    \n",
              "매립처리량  연간(톤)  3034  2323  1653  1219  17393  ...  7240  9742  1831  2205  9937  2290\n",
              "매립처리량  일일(톤)     8     7     5     3     48  ...    20    27     5     6    27     6\n",
              "\n",
              "[2 rows x 17 columns]"
            ]
          },
          "metadata": {
            "tags": []
          },
          "execution_count": 31
        }
      ]
    },
    {
      "cell_type": "code",
      "metadata": {
        "id": "CSsNtXTZC5R8",
        "colab_type": "code",
        "colab": {}
      },
      "source": [
        "#행 인덱스를 자료형으로 변경\n",
        "df = df.reset_index()\n"
      ],
      "execution_count": null,
      "outputs": []
    },
    {
      "cell_type": "code",
      "metadata": {
        "id": "QYLbEFK2us8L",
        "colab_type": "code",
        "colab": {
          "base_uri": "https://localhost:8080/",
          "height": 162
        },
        "outputId": "4c546568-098c-4988-b6a3-7f73d71edc1f"
      },
      "source": [
        "df.head(2)"
      ],
      "execution_count": 36,
      "outputs": [
        {
          "output_type": "execute_result",
          "data": {
            "text/html": [
              "<div>\n",
              "<style scoped>\n",
              "    .dataframe tbody tr th:only-of-type {\n",
              "        vertical-align: middle;\n",
              "    }\n",
              "\n",
              "    .dataframe tbody tr th {\n",
              "        vertical-align: top;\n",
              "    }\n",
              "\n",
              "    .dataframe thead th {\n",
              "        text-align: right;\n",
              "    }\n",
              "</style>\n",
              "<table border=\"1\" class=\"dataframe\">\n",
              "  <thead>\n",
              "    <tr style=\"text-align: right;\">\n",
              "      <th></th>\n",
              "      <th>항목</th>\n",
              "      <th>구분</th>\n",
              "      <th>중구</th>\n",
              "      <th>서구</th>\n",
              "      <th>동구</th>\n",
              "      <th>영도구</th>\n",
              "      <th>부산진구</th>\n",
              "      <th>동래구</th>\n",
              "      <th>남구</th>\n",
              "      <th>북구</th>\n",
              "      <th>해운대구</th>\n",
              "      <th>사하구</th>\n",
              "      <th>금정구</th>\n",
              "      <th>강서구</th>\n",
              "      <th>연제구</th>\n",
              "      <th>수영구</th>\n",
              "      <th>사상구</th>\n",
              "      <th>기장군</th>\n",
              "    </tr>\n",
              "  </thead>\n",
              "  <tbody>\n",
              "    <tr>\n",
              "      <th>0</th>\n",
              "      <td>매립처리량</td>\n",
              "      <td>연간(톤)</td>\n",
              "      <td>3034</td>\n",
              "      <td>2323</td>\n",
              "      <td>1653</td>\n",
              "      <td>1219</td>\n",
              "      <td>17393</td>\n",
              "      <td>9195</td>\n",
              "      <td>8042</td>\n",
              "      <td>10498</td>\n",
              "      <td>5251</td>\n",
              "      <td>3089</td>\n",
              "      <td>7240</td>\n",
              "      <td>9742</td>\n",
              "      <td>1831</td>\n",
              "      <td>2205</td>\n",
              "      <td>9937</td>\n",
              "      <td>2290</td>\n",
              "    </tr>\n",
              "    <tr>\n",
              "      <th>1</th>\n",
              "      <td>매립처리량</td>\n",
              "      <td>일일(톤)</td>\n",
              "      <td>8</td>\n",
              "      <td>7</td>\n",
              "      <td>5</td>\n",
              "      <td>3</td>\n",
              "      <td>48</td>\n",
              "      <td>25</td>\n",
              "      <td>22</td>\n",
              "      <td>29</td>\n",
              "      <td>14</td>\n",
              "      <td>8</td>\n",
              "      <td>20</td>\n",
              "      <td>27</td>\n",
              "      <td>5</td>\n",
              "      <td>6</td>\n",
              "      <td>27</td>\n",
              "      <td>6</td>\n",
              "    </tr>\n",
              "  </tbody>\n",
              "</table>\n",
              "</div>"
            ],
            "text/plain": [
              "      항목     구분    중구    서구    동구   영도구  ...   금정구   강서구   연제구   수영구   사상구   기장군\n",
              "0  매립처리량  연간(톤)  3034  2323  1653  1219  ...  7240  9742  1831  2205  9937  2290\n",
              "1  매립처리량  일일(톤)     8     7     5     3  ...    20    27     5     6    27     6\n",
              "\n",
              "[2 rows x 18 columns]"
            ]
          },
          "metadata": {
            "tags": []
          },
          "execution_count": 36
        }
      ]
    },
    {
      "cell_type": "code",
      "metadata": {
        "id": "ChxCv1HYvL8y",
        "colab_type": "code",
        "colab": {}
      },
      "source": [
        "df2 = df.loc['연간(톤)']"
      ],
      "execution_count": 43,
      "outputs": []
    },
    {
      "cell_type": "code",
      "metadata": {
        "id": "8lcJX5N2vkU6",
        "colab_type": "code",
        "colab": {
          "base_uri": "https://localhost:8080/",
          "height": 954
        },
        "outputId": "936ec39d-b392-4059-baae-00cd016d776d"
      },
      "source": [
        "df2.info()\n",
        "df2 = df2.reset_index()\n",
        "df2"
      ],
      "execution_count": 45,
      "outputs": [
        {
          "output_type": "stream",
          "text": [
            "<class 'pandas.core.frame.DataFrame'>\n",
            "Index: 4 entries, 연간(톤) to 연간(톤)\n",
            "Data columns (total 17 columns):\n",
            " #   Column  Non-Null Count  Dtype \n",
            "---  ------  --------------  ----- \n",
            " 0   항목      4 non-null      object\n",
            " 1   중구      4 non-null      int64 \n",
            " 2   서구      4 non-null      int64 \n",
            " 3   동구      4 non-null      int64 \n",
            " 4   영도구     4 non-null      int64 \n",
            " 5   부산진구    4 non-null      int64 \n",
            " 6   동래구     4 non-null      int64 \n",
            " 7   남구      4 non-null      int64 \n",
            " 8   북구      4 non-null      int64 \n",
            " 9   해운대구    4 non-null      int64 \n",
            " 10  사하구     4 non-null      int64 \n",
            " 11  금정구     4 non-null      int64 \n",
            " 12  강서구     4 non-null      int64 \n",
            " 13  연제구     4 non-null      int64 \n",
            " 14  수영구     4 non-null      int64 \n",
            " 15  사상구     4 non-null      int64 \n",
            " 16  기장군     4 non-null      int64 \n",
            "dtypes: int64(16), object(1)\n",
            "memory usage: 576.0+ bytes\n"
          ],
          "name": "stdout"
        },
        {
          "output_type": "execute_result",
          "data": {
            "text/html": [
              "<div>\n",
              "<style scoped>\n",
              "    .dataframe tbody tr th:only-of-type {\n",
              "        vertical-align: middle;\n",
              "    }\n",
              "\n",
              "    .dataframe tbody tr th {\n",
              "        vertical-align: top;\n",
              "    }\n",
              "\n",
              "    .dataframe thead th {\n",
              "        text-align: right;\n",
              "    }\n",
              "</style>\n",
              "<table border=\"1\" class=\"dataframe\">\n",
              "  <thead>\n",
              "    <tr style=\"text-align: right;\">\n",
              "      <th></th>\n",
              "      <th>구분</th>\n",
              "      <th>항목</th>\n",
              "      <th>중구</th>\n",
              "      <th>서구</th>\n",
              "      <th>동구</th>\n",
              "      <th>영도구</th>\n",
              "      <th>부산진구</th>\n",
              "      <th>동래구</th>\n",
              "      <th>남구</th>\n",
              "      <th>북구</th>\n",
              "      <th>해운대구</th>\n",
              "      <th>사하구</th>\n",
              "      <th>금정구</th>\n",
              "      <th>강서구</th>\n",
              "      <th>연제구</th>\n",
              "      <th>수영구</th>\n",
              "      <th>사상구</th>\n",
              "      <th>기장군</th>\n",
              "    </tr>\n",
              "  </thead>\n",
              "  <tbody>\n",
              "    <tr>\n",
              "      <th>0</th>\n",
              "      <td>연간(톤)</td>\n",
              "      <td>매립처리량</td>\n",
              "      <td>3034</td>\n",
              "      <td>2323</td>\n",
              "      <td>1653</td>\n",
              "      <td>1219</td>\n",
              "      <td>17393</td>\n",
              "      <td>9195</td>\n",
              "      <td>8042</td>\n",
              "      <td>10498</td>\n",
              "      <td>5251</td>\n",
              "      <td>3089</td>\n",
              "      <td>7240</td>\n",
              "      <td>9742</td>\n",
              "      <td>1831</td>\n",
              "      <td>2205</td>\n",
              "      <td>9937</td>\n",
              "      <td>2290</td>\n",
              "    </tr>\n",
              "    <tr>\n",
              "      <th>1</th>\n",
              "      <td>연간(톤)</td>\n",
              "      <td>소각처리량</td>\n",
              "      <td>13729</td>\n",
              "      <td>10446</td>\n",
              "      <td>8297</td>\n",
              "      <td>8651</td>\n",
              "      <td>538</td>\n",
              "      <td>17</td>\n",
              "      <td>158</td>\n",
              "      <td>97</td>\n",
              "      <td>31924</td>\n",
              "      <td>32671</td>\n",
              "      <td>222</td>\n",
              "      <td>4788</td>\n",
              "      <td>14521</td>\n",
              "      <td>11987</td>\n",
              "      <td>216</td>\n",
              "      <td>13687</td>\n",
              "    </tr>\n",
              "    <tr>\n",
              "      <th>2</th>\n",
              "      <td>연간(톤)</td>\n",
              "      <td>재활용처리량</td>\n",
              "      <td>9082</td>\n",
              "      <td>21301</td>\n",
              "      <td>17968</td>\n",
              "      <td>24616</td>\n",
              "      <td>88453</td>\n",
              "      <td>56526</td>\n",
              "      <td>57921</td>\n",
              "      <td>63879</td>\n",
              "      <td>64667</td>\n",
              "      <td>70923</td>\n",
              "      <td>56153</td>\n",
              "      <td>25977</td>\n",
              "      <td>37115</td>\n",
              "      <td>28135</td>\n",
              "      <td>57110</td>\n",
              "      <td>15170</td>\n",
              "    </tr>\n",
              "    <tr>\n",
              "      <th>3</th>\n",
              "      <td>연간(톤)</td>\n",
              "      <td>음식물류발생량</td>\n",
              "      <td>5154</td>\n",
              "      <td>8779</td>\n",
              "      <td>6399</td>\n",
              "      <td>9522</td>\n",
              "      <td>27119</td>\n",
              "      <td>20128</td>\n",
              "      <td>15548</td>\n",
              "      <td>24201</td>\n",
              "      <td>40043</td>\n",
              "      <td>21183</td>\n",
              "      <td>21273</td>\n",
              "      <td>10810</td>\n",
              "      <td>14122</td>\n",
              "      <td>13289</td>\n",
              "      <td>24161</td>\n",
              "      <td>16648</td>\n",
              "    </tr>\n",
              "  </tbody>\n",
              "</table>\n",
              "</div>"
            ],
            "text/plain": [
              "      구분       항목     중구     서구     동구  ...    강서구    연제구    수영구    사상구    기장군\n",
              "0  연간(톤)    매립처리량   3034   2323   1653  ...   9742   1831   2205   9937   2290\n",
              "1  연간(톤)    소각처리량  13729  10446   8297  ...   4788  14521  11987    216  13687\n",
              "2  연간(톤)   재활용처리량   9082  21301  17968  ...  25977  37115  28135  57110  15170\n",
              "3  연간(톤)  음식물류발생량   5154   8779   6399  ...  10810  14122  13289  24161  16648\n",
              "\n",
              "[4 rows x 18 columns]"
            ]
          },
          "metadata": {
            "tags": []
          },
          "execution_count": 45
        }
      ]
    },
    {
      "cell_type": "code",
      "metadata": {
        "id": "-ld5ISLVu0FC",
        "colab_type": "code",
        "colab": {}
      },
      "source": [
        "df = df.set_index('구분')\n"
      ],
      "execution_count": null,
      "outputs": []
    },
    {
      "cell_type": "code",
      "metadata": {
        "id": "jlZPfP0Syr2S",
        "colab_type": "code",
        "colab": {
          "base_uri": "https://localhost:8080/",
          "height": 162
        },
        "outputId": "95be4a34-9f05-4c2b-ec9f-1febc86f6103"
      },
      "source": [
        "df = df.reset_index()\n",
        "df.head(2)"
      ],
      "execution_count": 51,
      "outputs": [
        {
          "output_type": "execute_result",
          "data": {
            "text/html": [
              "<div>\n",
              "<style scoped>\n",
              "    .dataframe tbody tr th:only-of-type {\n",
              "        vertical-align: middle;\n",
              "    }\n",
              "\n",
              "    .dataframe tbody tr th {\n",
              "        vertical-align: top;\n",
              "    }\n",
              "\n",
              "    .dataframe thead th {\n",
              "        text-align: right;\n",
              "    }\n",
              "</style>\n",
              "<table border=\"1\" class=\"dataframe\">\n",
              "  <thead>\n",
              "    <tr style=\"text-align: right;\">\n",
              "      <th></th>\n",
              "      <th>구분</th>\n",
              "      <th>항목</th>\n",
              "      <th>중구</th>\n",
              "      <th>서구</th>\n",
              "      <th>동구</th>\n",
              "      <th>영도구</th>\n",
              "      <th>부산진구</th>\n",
              "      <th>동래구</th>\n",
              "      <th>남구</th>\n",
              "      <th>북구</th>\n",
              "      <th>해운대구</th>\n",
              "      <th>사하구</th>\n",
              "      <th>금정구</th>\n",
              "      <th>강서구</th>\n",
              "      <th>연제구</th>\n",
              "      <th>수영구</th>\n",
              "      <th>사상구</th>\n",
              "      <th>기장군</th>\n",
              "    </tr>\n",
              "  </thead>\n",
              "  <tbody>\n",
              "    <tr>\n",
              "      <th>0</th>\n",
              "      <td>연간(톤)</td>\n",
              "      <td>매립처리량</td>\n",
              "      <td>3034</td>\n",
              "      <td>2323</td>\n",
              "      <td>1653</td>\n",
              "      <td>1219</td>\n",
              "      <td>17393</td>\n",
              "      <td>9195</td>\n",
              "      <td>8042</td>\n",
              "      <td>10498</td>\n",
              "      <td>5251</td>\n",
              "      <td>3089</td>\n",
              "      <td>7240</td>\n",
              "      <td>9742</td>\n",
              "      <td>1831</td>\n",
              "      <td>2205</td>\n",
              "      <td>9937</td>\n",
              "      <td>2290</td>\n",
              "    </tr>\n",
              "    <tr>\n",
              "      <th>1</th>\n",
              "      <td>일일(톤)</td>\n",
              "      <td>매립처리량</td>\n",
              "      <td>8</td>\n",
              "      <td>7</td>\n",
              "      <td>5</td>\n",
              "      <td>3</td>\n",
              "      <td>48</td>\n",
              "      <td>25</td>\n",
              "      <td>22</td>\n",
              "      <td>29</td>\n",
              "      <td>14</td>\n",
              "      <td>8</td>\n",
              "      <td>20</td>\n",
              "      <td>27</td>\n",
              "      <td>5</td>\n",
              "      <td>6</td>\n",
              "      <td>27</td>\n",
              "      <td>6</td>\n",
              "    </tr>\n",
              "  </tbody>\n",
              "</table>\n",
              "</div>"
            ],
            "text/plain": [
              "      구분     항목    중구    서구    동구   영도구  ...   금정구   강서구   연제구   수영구   사상구   기장군\n",
              "0  연간(톤)  매립처리량  3034  2323  1653  1219  ...  7240  9742  1831  2205  9937  2290\n",
              "1  일일(톤)  매립처리량     8     7     5     3  ...    20    27     5     6    27     6\n",
              "\n",
              "[2 rows x 18 columns]"
            ]
          },
          "metadata": {
            "tags": []
          },
          "execution_count": 51
        }
      ]
    },
    {
      "cell_type": "markdown",
      "metadata": {
        "id": "FwgKpoK_GTmG",
        "colab_type": "text"
      },
      "source": [
        "+ 열과 행 자료 가져오기\n",
        " - 열 가져오기 : 데이터프레임[열인덱스]\n",
        " - 행 가져오기 : 데이터프레임[행인덱스]"
      ]
    },
    {
      "cell_type": "code",
      "metadata": {
        "id": "-O0hsNrByYB6",
        "colab_type": "code",
        "colab": {
          "base_uri": "https://localhost:8080/",
          "height": 72
        },
        "outputId": "8bbbaff0-2466-41c2-8458-0c77612942f4"
      },
      "source": [
        "df.columns"
      ],
      "execution_count": 52,
      "outputs": [
        {
          "output_type": "execute_result",
          "data": {
            "text/plain": [
              "Index(['구분', '항목', '중구', '서구', '동구', '영도구', '부산진구', '동래구', '남구', '북구', '해운대구',\n",
              "       '사하구', '금정구', '강서구', '연제구', '수영구', '사상구', '기장군'],\n",
              "      dtype='object')"
            ]
          },
          "metadata": {
            "tags": []
          },
          "execution_count": 52
        }
      ]
    },
    {
      "cell_type": "code",
      "metadata": {
        "id": "x2mqNvOMyfMC",
        "colab_type": "code",
        "colab": {
          "base_uri": "https://localhost:8080/",
          "height": 54
        },
        "outputId": "e0891237-c687-47d3-80ba-789eb2ada17a"
      },
      "source": [
        "dftemp1 = df[ '동구']\n",
        "dftemp2 = df[['중구', '서구', '동구']]\n",
        "\n",
        "print(type(dftemp1))\n",
        "print(type(dftemp2))"
      ],
      "execution_count": 55,
      "outputs": [
        {
          "output_type": "stream",
          "text": [
            "<class 'pandas.core.series.Series'>\n",
            "<class 'pandas.core.frame.DataFrame'>\n"
          ],
          "name": "stdout"
        }
      ]
    },
    {
      "cell_type": "code",
      "metadata": {
        "id": "R7EkKFP3zXoh",
        "colab_type": "code",
        "colab": {
          "base_uri": "https://localhost:8080/",
          "height": 295
        },
        "outputId": "c06332c1-04ec-4c22-d107-b9578c63b101"
      },
      "source": [
        "dftemp2.describe()"
      ],
      "execution_count": 57,
      "outputs": [
        {
          "output_type": "execute_result",
          "data": {
            "text/html": [
              "<div>\n",
              "<style scoped>\n",
              "    .dataframe tbody tr th:only-of-type {\n",
              "        vertical-align: middle;\n",
              "    }\n",
              "\n",
              "    .dataframe tbody tr th {\n",
              "        vertical-align: top;\n",
              "    }\n",
              "\n",
              "    .dataframe thead th {\n",
              "        text-align: right;\n",
              "    }\n",
              "</style>\n",
              "<table border=\"1\" class=\"dataframe\">\n",
              "  <thead>\n",
              "    <tr style=\"text-align: right;\">\n",
              "      <th></th>\n",
              "      <th>중구</th>\n",
              "      <th>서구</th>\n",
              "      <th>동구</th>\n",
              "    </tr>\n",
              "  </thead>\n",
              "  <tbody>\n",
              "    <tr>\n",
              "      <th>count</th>\n",
              "      <td>8.000000</td>\n",
              "      <td>8.000000</td>\n",
              "      <td>8.000000</td>\n",
              "    </tr>\n",
              "    <tr>\n",
              "      <th>mean</th>\n",
              "      <td>3885.500000</td>\n",
              "      <td>5370.875000</td>\n",
              "      <td>4301.500000</td>\n",
              "    </tr>\n",
              "    <tr>\n",
              "      <th>std</th>\n",
              "      <td>5154.228278</td>\n",
              "      <td>7695.575082</td>\n",
              "      <td>6407.015173</td>\n",
              "    </tr>\n",
              "    <tr>\n",
              "      <th>min</th>\n",
              "      <td>8.000000</td>\n",
              "      <td>7.000000</td>\n",
              "      <td>5.000000</td>\n",
              "    </tr>\n",
              "    <tr>\n",
              "      <th>25%</th>\n",
              "      <td>22.250000</td>\n",
              "      <td>27.750000</td>\n",
              "      <td>21.750000</td>\n",
              "    </tr>\n",
              "    <tr>\n",
              "      <th>50%</th>\n",
              "      <td>1536.000000</td>\n",
              "      <td>1190.500000</td>\n",
              "      <td>851.000000</td>\n",
              "    </tr>\n",
              "    <tr>\n",
              "      <th>75%</th>\n",
              "      <td>6136.000000</td>\n",
              "      <td>9195.750000</td>\n",
              "      <td>6873.500000</td>\n",
              "    </tr>\n",
              "    <tr>\n",
              "      <th>max</th>\n",
              "      <td>13729.000000</td>\n",
              "      <td>21301.000000</td>\n",
              "      <td>17968.000000</td>\n",
              "    </tr>\n",
              "  </tbody>\n",
              "</table>\n",
              "</div>"
            ],
            "text/plain": [
              "                 중구            서구            동구\n",
              "count      8.000000      8.000000      8.000000\n",
              "mean    3885.500000   5370.875000   4301.500000\n",
              "std     5154.228278   7695.575082   6407.015173\n",
              "min        8.000000      7.000000      5.000000\n",
              "25%       22.250000     27.750000     21.750000\n",
              "50%     1536.000000   1190.500000    851.000000\n",
              "75%     6136.000000   9195.750000   6873.500000\n",
              "max    13729.000000  21301.000000  17968.000000"
            ]
          },
          "metadata": {
            "tags": []
          },
          "execution_count": 57
        }
      ]
    },
    {
      "cell_type": "code",
      "metadata": {
        "id": "8_YD6FAHasSK",
        "colab_type": "code",
        "colab": {
          "base_uri": "https://localhost:8080/",
          "height": 197
        },
        "outputId": "6a448b01-5f52-4468-c59b-470f33c07c26"
      },
      "source": [
        "#열가져오기\n",
        "dfitem = df['항목']\n",
        "print(type(dfitem))\n",
        "print(dfitem)"
      ],
      "execution_count": null,
      "outputs": [
        {
          "output_type": "stream",
          "text": [
            "<class 'pandas.core.series.Series'>\n",
            "0      매립처리량\n",
            "1      매립처리량\n",
            "2      소각처리량\n",
            "3      소각처리량\n",
            "4     재활용처리량\n",
            "5     재활용처리량\n",
            "6    음식물류발생량\n",
            "7    음식물류발생량\n",
            "Name: 항목, dtype: object\n"
          ],
          "name": "stdout"
        }
      ]
    },
    {
      "cell_type": "code",
      "metadata": {
        "id": "0bo7OnTha5fd",
        "colab_type": "code",
        "colab": {
          "base_uri": "https://localhost:8080/",
          "height": 315
        },
        "outputId": "8f6e4c10-c055-4349-9d2e-f6e3caa3f1b9"
      },
      "source": [
        "#열가져오기\n",
        "df2 = df[['항목','구분','금정구']]\n",
        "print(type(df2))\n",
        "df2"
      ],
      "execution_count": null,
      "outputs": [
        {
          "output_type": "stream",
          "text": [
            "<class 'pandas.core.frame.DataFrame'>\n"
          ],
          "name": "stdout"
        },
        {
          "output_type": "execute_result",
          "data": {
            "text/html": [
              "<div>\n",
              "<style scoped>\n",
              "    .dataframe tbody tr th:only-of-type {\n",
              "        vertical-align: middle;\n",
              "    }\n",
              "\n",
              "    .dataframe tbody tr th {\n",
              "        vertical-align: top;\n",
              "    }\n",
              "\n",
              "    .dataframe thead th {\n",
              "        text-align: right;\n",
              "    }\n",
              "</style>\n",
              "<table border=\"1\" class=\"dataframe\">\n",
              "  <thead>\n",
              "    <tr style=\"text-align: right;\">\n",
              "      <th></th>\n",
              "      <th>항목</th>\n",
              "      <th>구분</th>\n",
              "      <th>금정구</th>\n",
              "    </tr>\n",
              "  </thead>\n",
              "  <tbody>\n",
              "    <tr>\n",
              "      <th>0</th>\n",
              "      <td>매립처리량</td>\n",
              "      <td>연간(톤)</td>\n",
              "      <td>7240</td>\n",
              "    </tr>\n",
              "    <tr>\n",
              "      <th>1</th>\n",
              "      <td>매립처리량</td>\n",
              "      <td>일일(톤)</td>\n",
              "      <td>20</td>\n",
              "    </tr>\n",
              "    <tr>\n",
              "      <th>2</th>\n",
              "      <td>소각처리량</td>\n",
              "      <td>연간(톤)</td>\n",
              "      <td>222</td>\n",
              "    </tr>\n",
              "    <tr>\n",
              "      <th>3</th>\n",
              "      <td>소각처리량</td>\n",
              "      <td>일일(톤)</td>\n",
              "      <td>1</td>\n",
              "    </tr>\n",
              "    <tr>\n",
              "      <th>4</th>\n",
              "      <td>재활용처리량</td>\n",
              "      <td>연간(톤)</td>\n",
              "      <td>56153</td>\n",
              "    </tr>\n",
              "    <tr>\n",
              "      <th>5</th>\n",
              "      <td>재활용처리량</td>\n",
              "      <td>일일(톤)</td>\n",
              "      <td>154</td>\n",
              "    </tr>\n",
              "    <tr>\n",
              "      <th>6</th>\n",
              "      <td>음식물류발생량</td>\n",
              "      <td>연간(톤)</td>\n",
              "      <td>21273</td>\n",
              "    </tr>\n",
              "    <tr>\n",
              "      <th>7</th>\n",
              "      <td>음식물류발생량</td>\n",
              "      <td>일일(톤)</td>\n",
              "      <td>58</td>\n",
              "    </tr>\n",
              "  </tbody>\n",
              "</table>\n",
              "</div>"
            ],
            "text/plain": [
              "        항목     구분    금정구\n",
              "0    매립처리량  연간(톤)   7240\n",
              "1    매립처리량  일일(톤)     20\n",
              "2    소각처리량  연간(톤)    222\n",
              "3    소각처리량  일일(톤)      1\n",
              "4   재활용처리량  연간(톤)  56153\n",
              "5   재활용처리량  일일(톤)    154\n",
              "6  음식물류발생량  연간(톤)  21273\n",
              "7  음식물류발생량  일일(톤)     58"
            ]
          },
          "metadata": {
            "tags": []
          },
          "execution_count": 47
        }
      ]
    },
    {
      "cell_type": "code",
      "metadata": {
        "id": "lCHpPPHrzqg6",
        "colab_type": "code",
        "colab": {
          "base_uri": "https://localhost:8080/",
          "height": 35
        },
        "outputId": "dddd6ff9-19ce-4de9-9615-0b2ff6b6cf26"
      },
      "source": [
        "df.index"
      ],
      "execution_count": 58,
      "outputs": [
        {
          "output_type": "execute_result",
          "data": {
            "text/plain": [
              "RangeIndex(start=0, stop=8, step=1)"
            ]
          },
          "metadata": {
            "tags": []
          },
          "execution_count": 58
        }
      ]
    },
    {
      "cell_type": "code",
      "metadata": {
        "id": "HPfJqqS_zz0C",
        "colab_type": "code",
        "colab": {
          "base_uri": "https://localhost:8080/",
          "height": 54
        },
        "outputId": "5f9cc2eb-00d6-477f-c855-87598166bdf2"
      },
      "source": [
        "dftemp1[dftemp1 > 15000]"
      ],
      "execution_count": 61,
      "outputs": [
        {
          "output_type": "execute_result",
          "data": {
            "text/plain": [
              "4    17968\n",
              "Name: 동구, dtype: int64"
            ]
          },
          "metadata": {
            "tags": []
          },
          "execution_count": 61
        }
      ]
    },
    {
      "cell_type": "code",
      "metadata": {
        "id": "ABkk1eKCbVl9",
        "colab_type": "code",
        "colab": {
          "base_uri": "https://localhost:8080/",
          "height": 111
        },
        "outputId": "f5fc0680-5a48-4849-ff7d-4e8523673501"
      },
      "source": [
        "#행 데이터 가져오기\n",
        "df23 = df[2:4]\n",
        "df23"
      ],
      "execution_count": null,
      "outputs": [
        {
          "output_type": "execute_result",
          "data": {
            "text/html": [
              "<div>\n",
              "<style scoped>\n",
              "    .dataframe tbody tr th:only-of-type {\n",
              "        vertical-align: middle;\n",
              "    }\n",
              "\n",
              "    .dataframe tbody tr th {\n",
              "        vertical-align: top;\n",
              "    }\n",
              "\n",
              "    .dataframe thead th {\n",
              "        text-align: right;\n",
              "    }\n",
              "</style>\n",
              "<table border=\"1\" class=\"dataframe\">\n",
              "  <thead>\n",
              "    <tr style=\"text-align: right;\">\n",
              "      <th></th>\n",
              "      <th>항목</th>\n",
              "      <th>구분</th>\n",
              "      <th>중구</th>\n",
              "      <th>서구</th>\n",
              "      <th>동구</th>\n",
              "      <th>영도구</th>\n",
              "      <th>부산진구</th>\n",
              "      <th>동래구</th>\n",
              "      <th>남구</th>\n",
              "      <th>북구</th>\n",
              "      <th>해운대구</th>\n",
              "      <th>사하구</th>\n",
              "      <th>금정구</th>\n",
              "      <th>강서구</th>\n",
              "      <th>연제구</th>\n",
              "      <th>수영구</th>\n",
              "      <th>사상구</th>\n",
              "      <th>기장군</th>\n",
              "    </tr>\n",
              "  </thead>\n",
              "  <tbody>\n",
              "    <tr>\n",
              "      <th>2</th>\n",
              "      <td>소각처리량</td>\n",
              "      <td>연간(톤)</td>\n",
              "      <td>13729</td>\n",
              "      <td>10446</td>\n",
              "      <td>8297</td>\n",
              "      <td>8651</td>\n",
              "      <td>538</td>\n",
              "      <td>17</td>\n",
              "      <td>158</td>\n",
              "      <td>97</td>\n",
              "      <td>31924</td>\n",
              "      <td>32671</td>\n",
              "      <td>222</td>\n",
              "      <td>4788</td>\n",
              "      <td>14521</td>\n",
              "      <td>11987</td>\n",
              "      <td>216</td>\n",
              "      <td>13687</td>\n",
              "    </tr>\n",
              "    <tr>\n",
              "      <th>3</th>\n",
              "      <td>소각처리량</td>\n",
              "      <td>일일(톤)</td>\n",
              "      <td>38</td>\n",
              "      <td>29</td>\n",
              "      <td>23</td>\n",
              "      <td>24</td>\n",
              "      <td>2</td>\n",
              "      <td>0</td>\n",
              "      <td>0</td>\n",
              "      <td>0</td>\n",
              "      <td>87</td>\n",
              "      <td>89</td>\n",
              "      <td>1</td>\n",
              "      <td>13</td>\n",
              "      <td>40</td>\n",
              "      <td>33</td>\n",
              "      <td>0</td>\n",
              "      <td>37</td>\n",
              "    </tr>\n",
              "  </tbody>\n",
              "</table>\n",
              "</div>"
            ],
            "text/plain": [
              "      항목     구분     중구     서구    동구   영도구  ...  금정구   강서구    연제구    수영구  사상구    기장군\n",
              "2  소각처리량  연간(톤)  13729  10446  8297  8651  ...  222  4788  14521  11987  216  13687\n",
              "3  소각처리량  일일(톤)     38     29    23    24  ...    1    13     40     33    0     37\n",
              "\n",
              "[2 rows x 18 columns]"
            ]
          },
          "metadata": {
            "tags": []
          },
          "execution_count": 48
        }
      ]
    },
    {
      "cell_type": "code",
      "metadata": {
        "id": "aB2O9UwhJg3u",
        "colab_type": "code",
        "colab": {
          "base_uri": "https://localhost:8080/",
          "height": 162
        },
        "outputId": "d97f9455-e6b1-4086-d83e-07c35d66d7cb"
      },
      "source": [
        "#행 데이터 가져오기\n",
        "df23 = df[df['항목'] == '매립처리량']\n",
        "df23"
      ],
      "execution_count": 62,
      "outputs": [
        {
          "output_type": "execute_result",
          "data": {
            "text/html": [
              "<div>\n",
              "<style scoped>\n",
              "    .dataframe tbody tr th:only-of-type {\n",
              "        vertical-align: middle;\n",
              "    }\n",
              "\n",
              "    .dataframe tbody tr th {\n",
              "        vertical-align: top;\n",
              "    }\n",
              "\n",
              "    .dataframe thead th {\n",
              "        text-align: right;\n",
              "    }\n",
              "</style>\n",
              "<table border=\"1\" class=\"dataframe\">\n",
              "  <thead>\n",
              "    <tr style=\"text-align: right;\">\n",
              "      <th></th>\n",
              "      <th>구분</th>\n",
              "      <th>항목</th>\n",
              "      <th>중구</th>\n",
              "      <th>서구</th>\n",
              "      <th>동구</th>\n",
              "      <th>영도구</th>\n",
              "      <th>부산진구</th>\n",
              "      <th>동래구</th>\n",
              "      <th>남구</th>\n",
              "      <th>북구</th>\n",
              "      <th>해운대구</th>\n",
              "      <th>사하구</th>\n",
              "      <th>금정구</th>\n",
              "      <th>강서구</th>\n",
              "      <th>연제구</th>\n",
              "      <th>수영구</th>\n",
              "      <th>사상구</th>\n",
              "      <th>기장군</th>\n",
              "    </tr>\n",
              "  </thead>\n",
              "  <tbody>\n",
              "    <tr>\n",
              "      <th>0</th>\n",
              "      <td>연간(톤)</td>\n",
              "      <td>매립처리량</td>\n",
              "      <td>3034</td>\n",
              "      <td>2323</td>\n",
              "      <td>1653</td>\n",
              "      <td>1219</td>\n",
              "      <td>17393</td>\n",
              "      <td>9195</td>\n",
              "      <td>8042</td>\n",
              "      <td>10498</td>\n",
              "      <td>5251</td>\n",
              "      <td>3089</td>\n",
              "      <td>7240</td>\n",
              "      <td>9742</td>\n",
              "      <td>1831</td>\n",
              "      <td>2205</td>\n",
              "      <td>9937</td>\n",
              "      <td>2290</td>\n",
              "    </tr>\n",
              "    <tr>\n",
              "      <th>1</th>\n",
              "      <td>일일(톤)</td>\n",
              "      <td>매립처리량</td>\n",
              "      <td>8</td>\n",
              "      <td>7</td>\n",
              "      <td>5</td>\n",
              "      <td>3</td>\n",
              "      <td>48</td>\n",
              "      <td>25</td>\n",
              "      <td>22</td>\n",
              "      <td>29</td>\n",
              "      <td>14</td>\n",
              "      <td>8</td>\n",
              "      <td>20</td>\n",
              "      <td>27</td>\n",
              "      <td>5</td>\n",
              "      <td>6</td>\n",
              "      <td>27</td>\n",
              "      <td>6</td>\n",
              "    </tr>\n",
              "  </tbody>\n",
              "</table>\n",
              "</div>"
            ],
            "text/plain": [
              "      구분     항목    중구    서구    동구   영도구  ...   금정구   강서구   연제구   수영구   사상구   기장군\n",
              "0  연간(톤)  매립처리량  3034  2323  1653  1219  ...  7240  9742  1831  2205  9937  2290\n",
              "1  일일(톤)  매립처리량     8     7     5     3  ...    20    27     5     6    27     6\n",
              "\n",
              "[2 rows x 18 columns]"
            ]
          },
          "metadata": {
            "tags": []
          },
          "execution_count": 62
        }
      ]
    },
    {
      "cell_type": "code",
      "metadata": {
        "id": "n7ROMvhf1K_S",
        "colab_type": "code",
        "colab": {
          "base_uri": "https://localhost:8080/",
          "height": 964
        },
        "outputId": "0ac76a20-2eb3-4a8a-c76d-dc807dfc9d0c"
      },
      "source": [
        "df"
      ],
      "execution_count": 63,
      "outputs": [
        {
          "output_type": "execute_result",
          "data": {
            "text/html": [
              "<div>\n",
              "<style scoped>\n",
              "    .dataframe tbody tr th:only-of-type {\n",
              "        vertical-align: middle;\n",
              "    }\n",
              "\n",
              "    .dataframe tbody tr th {\n",
              "        vertical-align: top;\n",
              "    }\n",
              "\n",
              "    .dataframe thead th {\n",
              "        text-align: right;\n",
              "    }\n",
              "</style>\n",
              "<table border=\"1\" class=\"dataframe\">\n",
              "  <thead>\n",
              "    <tr style=\"text-align: right;\">\n",
              "      <th></th>\n",
              "      <th>구분</th>\n",
              "      <th>항목</th>\n",
              "      <th>중구</th>\n",
              "      <th>서구</th>\n",
              "      <th>동구</th>\n",
              "      <th>영도구</th>\n",
              "      <th>부산진구</th>\n",
              "      <th>동래구</th>\n",
              "      <th>남구</th>\n",
              "      <th>북구</th>\n",
              "      <th>해운대구</th>\n",
              "      <th>사하구</th>\n",
              "      <th>금정구</th>\n",
              "      <th>강서구</th>\n",
              "      <th>연제구</th>\n",
              "      <th>수영구</th>\n",
              "      <th>사상구</th>\n",
              "      <th>기장군</th>\n",
              "    </tr>\n",
              "  </thead>\n",
              "  <tbody>\n",
              "    <tr>\n",
              "      <th>0</th>\n",
              "      <td>연간(톤)</td>\n",
              "      <td>매립처리량</td>\n",
              "      <td>3034</td>\n",
              "      <td>2323</td>\n",
              "      <td>1653</td>\n",
              "      <td>1219</td>\n",
              "      <td>17393</td>\n",
              "      <td>9195</td>\n",
              "      <td>8042</td>\n",
              "      <td>10498</td>\n",
              "      <td>5251</td>\n",
              "      <td>3089</td>\n",
              "      <td>7240</td>\n",
              "      <td>9742</td>\n",
              "      <td>1831</td>\n",
              "      <td>2205</td>\n",
              "      <td>9937</td>\n",
              "      <td>2290</td>\n",
              "    </tr>\n",
              "    <tr>\n",
              "      <th>1</th>\n",
              "      <td>일일(톤)</td>\n",
              "      <td>매립처리량</td>\n",
              "      <td>8</td>\n",
              "      <td>7</td>\n",
              "      <td>5</td>\n",
              "      <td>3</td>\n",
              "      <td>48</td>\n",
              "      <td>25</td>\n",
              "      <td>22</td>\n",
              "      <td>29</td>\n",
              "      <td>14</td>\n",
              "      <td>8</td>\n",
              "      <td>20</td>\n",
              "      <td>27</td>\n",
              "      <td>5</td>\n",
              "      <td>6</td>\n",
              "      <td>27</td>\n",
              "      <td>6</td>\n",
              "    </tr>\n",
              "    <tr>\n",
              "      <th>2</th>\n",
              "      <td>연간(톤)</td>\n",
              "      <td>소각처리량</td>\n",
              "      <td>13729</td>\n",
              "      <td>10446</td>\n",
              "      <td>8297</td>\n",
              "      <td>8651</td>\n",
              "      <td>538</td>\n",
              "      <td>17</td>\n",
              "      <td>158</td>\n",
              "      <td>97</td>\n",
              "      <td>31924</td>\n",
              "      <td>32671</td>\n",
              "      <td>222</td>\n",
              "      <td>4788</td>\n",
              "      <td>14521</td>\n",
              "      <td>11987</td>\n",
              "      <td>216</td>\n",
              "      <td>13687</td>\n",
              "    </tr>\n",
              "    <tr>\n",
              "      <th>3</th>\n",
              "      <td>일일(톤)</td>\n",
              "      <td>소각처리량</td>\n",
              "      <td>38</td>\n",
              "      <td>29</td>\n",
              "      <td>23</td>\n",
              "      <td>24</td>\n",
              "      <td>2</td>\n",
              "      <td>0</td>\n",
              "      <td>0</td>\n",
              "      <td>0</td>\n",
              "      <td>87</td>\n",
              "      <td>89</td>\n",
              "      <td>1</td>\n",
              "      <td>13</td>\n",
              "      <td>40</td>\n",
              "      <td>33</td>\n",
              "      <td>0</td>\n",
              "      <td>37</td>\n",
              "    </tr>\n",
              "    <tr>\n",
              "      <th>4</th>\n",
              "      <td>연간(톤)</td>\n",
              "      <td>재활용처리량</td>\n",
              "      <td>9082</td>\n",
              "      <td>21301</td>\n",
              "      <td>17968</td>\n",
              "      <td>24616</td>\n",
              "      <td>88453</td>\n",
              "      <td>56526</td>\n",
              "      <td>57921</td>\n",
              "      <td>63879</td>\n",
              "      <td>64667</td>\n",
              "      <td>70923</td>\n",
              "      <td>56153</td>\n",
              "      <td>25977</td>\n",
              "      <td>37115</td>\n",
              "      <td>28135</td>\n",
              "      <td>57110</td>\n",
              "      <td>15170</td>\n",
              "    </tr>\n",
              "    <tr>\n",
              "      <th>5</th>\n",
              "      <td>일일(톤)</td>\n",
              "      <td>재활용처리량</td>\n",
              "      <td>25</td>\n",
              "      <td>58</td>\n",
              "      <td>49</td>\n",
              "      <td>68</td>\n",
              "      <td>242</td>\n",
              "      <td>155</td>\n",
              "      <td>159</td>\n",
              "      <td>175</td>\n",
              "      <td>177</td>\n",
              "      <td>194</td>\n",
              "      <td>154</td>\n",
              "      <td>71</td>\n",
              "      <td>102</td>\n",
              "      <td>77</td>\n",
              "      <td>156</td>\n",
              "      <td>42</td>\n",
              "    </tr>\n",
              "    <tr>\n",
              "      <th>6</th>\n",
              "      <td>연간(톤)</td>\n",
              "      <td>음식물류발생량</td>\n",
              "      <td>5154</td>\n",
              "      <td>8779</td>\n",
              "      <td>6399</td>\n",
              "      <td>9522</td>\n",
              "      <td>27119</td>\n",
              "      <td>20128</td>\n",
              "      <td>15548</td>\n",
              "      <td>24201</td>\n",
              "      <td>40043</td>\n",
              "      <td>21183</td>\n",
              "      <td>21273</td>\n",
              "      <td>10810</td>\n",
              "      <td>14122</td>\n",
              "      <td>13289</td>\n",
              "      <td>24161</td>\n",
              "      <td>16648</td>\n",
              "    </tr>\n",
              "    <tr>\n",
              "      <th>7</th>\n",
              "      <td>일일(톤)</td>\n",
              "      <td>음식물류발생량</td>\n",
              "      <td>14</td>\n",
              "      <td>24</td>\n",
              "      <td>18</td>\n",
              "      <td>26</td>\n",
              "      <td>74</td>\n",
              "      <td>55</td>\n",
              "      <td>43</td>\n",
              "      <td>66</td>\n",
              "      <td>110</td>\n",
              "      <td>58</td>\n",
              "      <td>58</td>\n",
              "      <td>30</td>\n",
              "      <td>39</td>\n",
              "      <td>36</td>\n",
              "      <td>66</td>\n",
              "      <td>46</td>\n",
              "    </tr>\n",
              "  </tbody>\n",
              "</table>\n",
              "</div>"
            ],
            "text/plain": [
              "      구분       항목     중구     서구     동구  ...    강서구    연제구    수영구    사상구    기장군\n",
              "0  연간(톤)    매립처리량   3034   2323   1653  ...   9742   1831   2205   9937   2290\n",
              "1  일일(톤)    매립처리량      8      7      5  ...     27      5      6     27      6\n",
              "2  연간(톤)    소각처리량  13729  10446   8297  ...   4788  14521  11987    216  13687\n",
              "3  일일(톤)    소각처리량     38     29     23  ...     13     40     33      0     37\n",
              "4  연간(톤)   재활용처리량   9082  21301  17968  ...  25977  37115  28135  57110  15170\n",
              "5  일일(톤)   재활용처리량     25     58     49  ...     71    102     77    156     42\n",
              "6  연간(톤)  음식물류발생량   5154   8779   6399  ...  10810  14122  13289  24161  16648\n",
              "7  일일(톤)  음식물류발생량     14     24     18  ...     30     39     36     66     46\n",
              "\n",
              "[8 rows x 18 columns]"
            ]
          },
          "metadata": {
            "tags": []
          },
          "execution_count": 63
        }
      ]
    },
    {
      "cell_type": "markdown",
      "metadata": {
        "id": "VdGoGt5IG1ky",
        "colab_type": "text"
      },
      "source": [
        "\n",
        "\n",
        "---\n",
        "해결문제) 부산쓰레기발생2017년.csv 파일에서 '금정구, 해운대구, 수영구'의 연간 매립처리량과 소각처리량, 음식물류발생량 정보를 추출하시오.\n",
        "\n",
        "\n",
        "```\n",
        "\n",
        "항목\t구분\t금정구\t해운대구\t수영구\n",
        "0\t매립처리량\t연간(톤)\t7240\t5251\t2205\n",
        "2\t소각처리량\t연간(톤)\t222\t31924\t11987\n",
        "4\t재활용처리량\t연간(톤)\t56153\t64667\t28135\n",
        "6\t음식물류발생량\t연간(톤)\t21273\t40043\t13289\n",
        "```\n",
        "\n",
        "\n",
        "\n",
        "---\n",
        "\n",
        "\n"
      ]
    },
    {
      "cell_type": "code",
      "metadata": {
        "id": "PiZwf7Rl3r2s",
        "colab_type": "code",
        "colab": {
          "base_uri": "https://localhost:8080/",
          "height": 172
        },
        "outputId": "f49688fb-45ad-4521-8a5d-3d7e38491d31"
      },
      "source": [
        "#방법 1\n",
        "dfans = df[['항목', '구분', '금정구','해운대구', '수영구']]\n",
        "dfans[dfans['구분'] == '연간(톤)']"
      ],
      "execution_count": 66,
      "outputs": [
        {
          "output_type": "execute_result",
          "data": {
            "text/html": [
              "<div>\n",
              "<style scoped>\n",
              "    .dataframe tbody tr th:only-of-type {\n",
              "        vertical-align: middle;\n",
              "    }\n",
              "\n",
              "    .dataframe tbody tr th {\n",
              "        vertical-align: top;\n",
              "    }\n",
              "\n",
              "    .dataframe thead th {\n",
              "        text-align: right;\n",
              "    }\n",
              "</style>\n",
              "<table border=\"1\" class=\"dataframe\">\n",
              "  <thead>\n",
              "    <tr style=\"text-align: right;\">\n",
              "      <th></th>\n",
              "      <th>항목</th>\n",
              "      <th>구분</th>\n",
              "      <th>금정구</th>\n",
              "      <th>해운대구</th>\n",
              "      <th>수영구</th>\n",
              "    </tr>\n",
              "  </thead>\n",
              "  <tbody>\n",
              "    <tr>\n",
              "      <th>0</th>\n",
              "      <td>매립처리량</td>\n",
              "      <td>연간(톤)</td>\n",
              "      <td>7240</td>\n",
              "      <td>5251</td>\n",
              "      <td>2205</td>\n",
              "    </tr>\n",
              "    <tr>\n",
              "      <th>2</th>\n",
              "      <td>소각처리량</td>\n",
              "      <td>연간(톤)</td>\n",
              "      <td>222</td>\n",
              "      <td>31924</td>\n",
              "      <td>11987</td>\n",
              "    </tr>\n",
              "    <tr>\n",
              "      <th>4</th>\n",
              "      <td>재활용처리량</td>\n",
              "      <td>연간(톤)</td>\n",
              "      <td>56153</td>\n",
              "      <td>64667</td>\n",
              "      <td>28135</td>\n",
              "    </tr>\n",
              "    <tr>\n",
              "      <th>6</th>\n",
              "      <td>음식물류발생량</td>\n",
              "      <td>연간(톤)</td>\n",
              "      <td>21273</td>\n",
              "      <td>40043</td>\n",
              "      <td>13289</td>\n",
              "    </tr>\n",
              "  </tbody>\n",
              "</table>\n",
              "</div>"
            ],
            "text/plain": [
              "        항목     구분    금정구   해운대구    수영구\n",
              "0    매립처리량  연간(톤)   7240   5251   2205\n",
              "2    소각처리량  연간(톤)    222  31924  11987\n",
              "4   재활용처리량  연간(톤)  56153  64667  28135\n",
              "6  음식물류발생량  연간(톤)  21273  40043  13289"
            ]
          },
          "metadata": {
            "tags": []
          },
          "execution_count": 66
        }
      ]
    },
    {
      "cell_type": "code",
      "metadata": {
        "colab_type": "code",
        "id": "0FV0YXEl4RlW",
        "colab": {
          "base_uri": "https://localhost:8080/",
          "height": 172
        },
        "outputId": "892e49b8-0b2f-4b05-d998-d30e5caa2bee"
      },
      "source": [
        "#방법 1-1\n",
        "dfans = df[['항목', '구분', '금정구','해운대구', '수영구']][df['구분'] == '연간(톤)']\n",
        "dfans "
      ],
      "execution_count": 69,
      "outputs": [
        {
          "output_type": "execute_result",
          "data": {
            "text/html": [
              "<div>\n",
              "<style scoped>\n",
              "    .dataframe tbody tr th:only-of-type {\n",
              "        vertical-align: middle;\n",
              "    }\n",
              "\n",
              "    .dataframe tbody tr th {\n",
              "        vertical-align: top;\n",
              "    }\n",
              "\n",
              "    .dataframe thead th {\n",
              "        text-align: right;\n",
              "    }\n",
              "</style>\n",
              "<table border=\"1\" class=\"dataframe\">\n",
              "  <thead>\n",
              "    <tr style=\"text-align: right;\">\n",
              "      <th></th>\n",
              "      <th>항목</th>\n",
              "      <th>구분</th>\n",
              "      <th>금정구</th>\n",
              "      <th>해운대구</th>\n",
              "      <th>수영구</th>\n",
              "    </tr>\n",
              "  </thead>\n",
              "  <tbody>\n",
              "    <tr>\n",
              "      <th>0</th>\n",
              "      <td>매립처리량</td>\n",
              "      <td>연간(톤)</td>\n",
              "      <td>7240</td>\n",
              "      <td>5251</td>\n",
              "      <td>2205</td>\n",
              "    </tr>\n",
              "    <tr>\n",
              "      <th>2</th>\n",
              "      <td>소각처리량</td>\n",
              "      <td>연간(톤)</td>\n",
              "      <td>222</td>\n",
              "      <td>31924</td>\n",
              "      <td>11987</td>\n",
              "    </tr>\n",
              "    <tr>\n",
              "      <th>4</th>\n",
              "      <td>재활용처리량</td>\n",
              "      <td>연간(톤)</td>\n",
              "      <td>56153</td>\n",
              "      <td>64667</td>\n",
              "      <td>28135</td>\n",
              "    </tr>\n",
              "    <tr>\n",
              "      <th>6</th>\n",
              "      <td>음식물류발생량</td>\n",
              "      <td>연간(톤)</td>\n",
              "      <td>21273</td>\n",
              "      <td>40043</td>\n",
              "      <td>13289</td>\n",
              "    </tr>\n",
              "  </tbody>\n",
              "</table>\n",
              "</div>"
            ],
            "text/plain": [
              "        항목     구분    금정구   해운대구    수영구\n",
              "0    매립처리량  연간(톤)   7240   5251   2205\n",
              "2    소각처리량  연간(톤)    222  31924  11987\n",
              "4   재활용처리량  연간(톤)  56153  64667  28135\n",
              "6  음식물류발생량  연간(톤)  21273  40043  13289"
            ]
          },
          "metadata": {
            "tags": []
          },
          "execution_count": 69
        }
      ]
    },
    {
      "cell_type": "code",
      "metadata": {
        "colab_type": "code",
        "id": "kU1sV1_j4mEK",
        "colab": {
          "base_uri": "https://localhost:8080/",
          "height": 172
        },
        "outputId": "283dab05-8f81-4393-89b4-169d1b62f308"
      },
      "source": [
        "#방법 2\n",
        "dfans = df[df['구분'] == '연간(톤)']\n",
        "dfans = dfans[['항목', '구분', '금정구','해운대구', '수영구']]\n",
        "dfans"
      ],
      "execution_count": 70,
      "outputs": [
        {
          "output_type": "execute_result",
          "data": {
            "text/html": [
              "<div>\n",
              "<style scoped>\n",
              "    .dataframe tbody tr th:only-of-type {\n",
              "        vertical-align: middle;\n",
              "    }\n",
              "\n",
              "    .dataframe tbody tr th {\n",
              "        vertical-align: top;\n",
              "    }\n",
              "\n",
              "    .dataframe thead th {\n",
              "        text-align: right;\n",
              "    }\n",
              "</style>\n",
              "<table border=\"1\" class=\"dataframe\">\n",
              "  <thead>\n",
              "    <tr style=\"text-align: right;\">\n",
              "      <th></th>\n",
              "      <th>항목</th>\n",
              "      <th>구분</th>\n",
              "      <th>금정구</th>\n",
              "      <th>해운대구</th>\n",
              "      <th>수영구</th>\n",
              "    </tr>\n",
              "  </thead>\n",
              "  <tbody>\n",
              "    <tr>\n",
              "      <th>0</th>\n",
              "      <td>매립처리량</td>\n",
              "      <td>연간(톤)</td>\n",
              "      <td>7240</td>\n",
              "      <td>5251</td>\n",
              "      <td>2205</td>\n",
              "    </tr>\n",
              "    <tr>\n",
              "      <th>2</th>\n",
              "      <td>소각처리량</td>\n",
              "      <td>연간(톤)</td>\n",
              "      <td>222</td>\n",
              "      <td>31924</td>\n",
              "      <td>11987</td>\n",
              "    </tr>\n",
              "    <tr>\n",
              "      <th>4</th>\n",
              "      <td>재활용처리량</td>\n",
              "      <td>연간(톤)</td>\n",
              "      <td>56153</td>\n",
              "      <td>64667</td>\n",
              "      <td>28135</td>\n",
              "    </tr>\n",
              "    <tr>\n",
              "      <th>6</th>\n",
              "      <td>음식물류발생량</td>\n",
              "      <td>연간(톤)</td>\n",
              "      <td>21273</td>\n",
              "      <td>40043</td>\n",
              "      <td>13289</td>\n",
              "    </tr>\n",
              "  </tbody>\n",
              "</table>\n",
              "</div>"
            ],
            "text/plain": [
              "        항목     구분    금정구   해운대구    수영구\n",
              "0    매립처리량  연간(톤)   7240   5251   2205\n",
              "2    소각처리량  연간(톤)    222  31924  11987\n",
              "4   재활용처리량  연간(톤)  56153  64667  28135\n",
              "6  음식물류발생량  연간(톤)  21273  40043  13289"
            ]
          },
          "metadata": {
            "tags": []
          },
          "execution_count": 70
        }
      ]
    },
    {
      "cell_type": "code",
      "metadata": {
        "id": "fvFSUTndJ9V_",
        "colab_type": "code",
        "colab": {
          "base_uri": "https://localhost:8080/",
          "height": 297
        },
        "outputId": "97f67d60-70c4-4136-ceab-fd496bdd1f66"
      },
      "source": [
        "df2 = df[['항목','구분','금정구','해운대구','수영구']]\n",
        "df2"
      ],
      "execution_count": null,
      "outputs": [
        {
          "output_type": "execute_result",
          "data": {
            "text/html": [
              "<div>\n",
              "<style scoped>\n",
              "    .dataframe tbody tr th:only-of-type {\n",
              "        vertical-align: middle;\n",
              "    }\n",
              "\n",
              "    .dataframe tbody tr th {\n",
              "        vertical-align: top;\n",
              "    }\n",
              "\n",
              "    .dataframe thead th {\n",
              "        text-align: right;\n",
              "    }\n",
              "</style>\n",
              "<table border=\"1\" class=\"dataframe\">\n",
              "  <thead>\n",
              "    <tr style=\"text-align: right;\">\n",
              "      <th></th>\n",
              "      <th>항목</th>\n",
              "      <th>구분</th>\n",
              "      <th>금정구</th>\n",
              "      <th>해운대구</th>\n",
              "      <th>수영구</th>\n",
              "    </tr>\n",
              "  </thead>\n",
              "  <tbody>\n",
              "    <tr>\n",
              "      <th>0</th>\n",
              "      <td>매립처리량</td>\n",
              "      <td>연간(톤)</td>\n",
              "      <td>7240</td>\n",
              "      <td>5251</td>\n",
              "      <td>2205</td>\n",
              "    </tr>\n",
              "    <tr>\n",
              "      <th>1</th>\n",
              "      <td>매립처리량</td>\n",
              "      <td>일일(톤)</td>\n",
              "      <td>20</td>\n",
              "      <td>14</td>\n",
              "      <td>6</td>\n",
              "    </tr>\n",
              "    <tr>\n",
              "      <th>2</th>\n",
              "      <td>소각처리량</td>\n",
              "      <td>연간(톤)</td>\n",
              "      <td>222</td>\n",
              "      <td>31924</td>\n",
              "      <td>11987</td>\n",
              "    </tr>\n",
              "    <tr>\n",
              "      <th>3</th>\n",
              "      <td>소각처리량</td>\n",
              "      <td>일일(톤)</td>\n",
              "      <td>1</td>\n",
              "      <td>87</td>\n",
              "      <td>33</td>\n",
              "    </tr>\n",
              "    <tr>\n",
              "      <th>4</th>\n",
              "      <td>재활용처리량</td>\n",
              "      <td>연간(톤)</td>\n",
              "      <td>56153</td>\n",
              "      <td>64667</td>\n",
              "      <td>28135</td>\n",
              "    </tr>\n",
              "    <tr>\n",
              "      <th>5</th>\n",
              "      <td>재활용처리량</td>\n",
              "      <td>일일(톤)</td>\n",
              "      <td>154</td>\n",
              "      <td>177</td>\n",
              "      <td>77</td>\n",
              "    </tr>\n",
              "    <tr>\n",
              "      <th>6</th>\n",
              "      <td>음식물류발생량</td>\n",
              "      <td>연간(톤)</td>\n",
              "      <td>21273</td>\n",
              "      <td>40043</td>\n",
              "      <td>13289</td>\n",
              "    </tr>\n",
              "    <tr>\n",
              "      <th>7</th>\n",
              "      <td>음식물류발생량</td>\n",
              "      <td>일일(톤)</td>\n",
              "      <td>58</td>\n",
              "      <td>110</td>\n",
              "      <td>36</td>\n",
              "    </tr>\n",
              "  </tbody>\n",
              "</table>\n",
              "</div>"
            ],
            "text/plain": [
              "        항목     구분    금정구   해운대구    수영구\n",
              "0    매립처리량  연간(톤)   7240   5251   2205\n",
              "1    매립처리량  일일(톤)     20     14      6\n",
              "2    소각처리량  연간(톤)    222  31924  11987\n",
              "3    소각처리량  일일(톤)      1     87     33\n",
              "4   재활용처리량  연간(톤)  56153  64667  28135\n",
              "5   재활용처리량  일일(톤)    154    177     77\n",
              "6  음식물류발생량  연간(톤)  21273  40043  13289\n",
              "7  음식물류발생량  일일(톤)     58    110     36"
            ]
          },
          "metadata": {
            "tags": []
          },
          "execution_count": 59
        }
      ]
    },
    {
      "cell_type": "code",
      "metadata": {
        "id": "pz4d5jDxKZEY",
        "colab_type": "code",
        "colab": {
          "base_uri": "https://localhost:8080/",
          "height": 173
        },
        "outputId": "eb7cd972-7f2a-4f0f-ac31-26ebea1374a8"
      },
      "source": [
        "df2 = df2[df['구분'] == '연간(톤)']\n",
        "df2"
      ],
      "execution_count": null,
      "outputs": [
        {
          "output_type": "execute_result",
          "data": {
            "text/html": [
              "<div>\n",
              "<style scoped>\n",
              "    .dataframe tbody tr th:only-of-type {\n",
              "        vertical-align: middle;\n",
              "    }\n",
              "\n",
              "    .dataframe tbody tr th {\n",
              "        vertical-align: top;\n",
              "    }\n",
              "\n",
              "    .dataframe thead th {\n",
              "        text-align: right;\n",
              "    }\n",
              "</style>\n",
              "<table border=\"1\" class=\"dataframe\">\n",
              "  <thead>\n",
              "    <tr style=\"text-align: right;\">\n",
              "      <th></th>\n",
              "      <th>항목</th>\n",
              "      <th>구분</th>\n",
              "      <th>금정구</th>\n",
              "      <th>해운대구</th>\n",
              "      <th>수영구</th>\n",
              "    </tr>\n",
              "  </thead>\n",
              "  <tbody>\n",
              "    <tr>\n",
              "      <th>0</th>\n",
              "      <td>매립처리량</td>\n",
              "      <td>연간(톤)</td>\n",
              "      <td>7240</td>\n",
              "      <td>5251</td>\n",
              "      <td>2205</td>\n",
              "    </tr>\n",
              "    <tr>\n",
              "      <th>2</th>\n",
              "      <td>소각처리량</td>\n",
              "      <td>연간(톤)</td>\n",
              "      <td>222</td>\n",
              "      <td>31924</td>\n",
              "      <td>11987</td>\n",
              "    </tr>\n",
              "    <tr>\n",
              "      <th>4</th>\n",
              "      <td>재활용처리량</td>\n",
              "      <td>연간(톤)</td>\n",
              "      <td>56153</td>\n",
              "      <td>64667</td>\n",
              "      <td>28135</td>\n",
              "    </tr>\n",
              "    <tr>\n",
              "      <th>6</th>\n",
              "      <td>음식물류발생량</td>\n",
              "      <td>연간(톤)</td>\n",
              "      <td>21273</td>\n",
              "      <td>40043</td>\n",
              "      <td>13289</td>\n",
              "    </tr>\n",
              "  </tbody>\n",
              "</table>\n",
              "</div>"
            ],
            "text/plain": [
              "        항목     구분    금정구   해운대구    수영구\n",
              "0    매립처리량  연간(톤)   7240   5251   2205\n",
              "2    소각처리량  연간(톤)    222  31924  11987\n",
              "4   재활용처리량  연간(톤)  56153  64667  28135\n",
              "6  음식물류발생량  연간(톤)  21273  40043  13289"
            ]
          },
          "metadata": {
            "tags": []
          },
          "execution_count": 60
        }
      ]
    }
  ]
}